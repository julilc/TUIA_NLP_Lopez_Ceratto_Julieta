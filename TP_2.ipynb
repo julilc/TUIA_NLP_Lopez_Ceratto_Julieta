{
 "cells": [
  {
   "cell_type": "markdown",
   "metadata": {},
   "source": [
    "# Universidad Nacional de Rosario - Facultad de Ciencias Exactas, Ingeniería y Agrimensura. \n",
    "## Tecnicatura Universitaria en Programación. \n",
    "### Procesamiento del Lenguaje Natural: Trabajo Práctico N°2.\n",
    "\n",
    "---\n",
    "\n",
    "**Autora: López Ceratto, Julieta : L-3311/1**"
   ]
  },
  {
   "cell_type": "markdown",
   "metadata": {},
   "source": [
    "Se desarrolla a continuación el trabajo práctico final de la asignatura mencionada, cuyo objetivo es realizar un asistente destinado a brindar información o resolver consultas acerca del juego asignado."
   ]
  },
  {
   "cell_type": "markdown",
   "metadata": {},
   "source": [
    "# Parte 1: Base de datos de Grafos."
   ]
  },
  {
   "cell_type": "markdown",
   "metadata": {},
   "source": [
    "La base de datos de grafos se utiliza para modelar datos acerca del juego que no tienen que ver de manera estricta con su jugabilidad y que no son de amplia explicación, sino más bien relaciones entre distintas personas, otros juegos, premios y nacionalidades.\n",
    "Incluye:\n",
    "- Nombres alternativos.\n",
    "- Diseñadores: nombres, nacionalidad, relaciones entre ellos, premios ganados, otros juegos hechos.\n",
    "- Artistas: nombre, nacionalidad, relación con diseñadores, premios, otros juegos.\n",
    "- Publicadores: nombres, nacionalidad.\n",
    "- Juegos de su colección / familia: nombres, relación con diseñadores y artistas del mismo juego."
   ]
  },
  {
   "cell_type": "markdown",
   "metadata": {},
   "source": [
    "## Primeramente se debe extraer la información."
   ]
  },
  {
   "cell_type": "code",
   "execution_count": 1,
   "metadata": {},
   "outputs": [],
   "source": [
    "from selenium import webdriver\n",
    "from selenium.webdriver.common.by import By\n",
    "from selenium.webdriver.chrome.service import Service\n",
    "from selenium.webdriver.chrome.options import Options"
   ]
  },
  {
   "cell_type": "markdown",
   "metadata": {},
   "source": [
    "### Encontrar links"
   ]
  },
  {
   "cell_type": "code",
   "execution_count": 2,
   "metadata": {},
   "outputs": [],
   "source": [
    "## Url de partida\n",
    "url_credits = \"https://boardgamegeek.com/boardgame/220877/rajas-of-the-ganges/credits\""
   ]
  },
  {
   "cell_type": "code",
   "execution_count": 3,
   "metadata": {},
   "outputs": [],
   "source": [
    "# Como tienen carga con JavaScript utilizo selenuim.\n",
    "# Configuración de Selenium\n",
    "chrome_options = Options()\n",
    "chrome_options.add_argument(\"--headless\")  # Ejecutar en segundo plano\n",
    "service = Service(\"src/chromedriver.exe\")  # Especifica la ruta al chromedriver\n",
    "driver = webdriver.Chrome(service=service, options=chrome_options)\n"
   ]
  },
  {
   "cell_type": "code",
   "execution_count": 37,
   "metadata": {},
   "outputs": [],
   "source": [
    "\n",
    "# URL del sitio web\n",
    "url = \"https://boardgamegeek.com/boardgame/220877/rajas-of-the-ganges/credits\"\n",
    "driver.get(url)\n",
    "\n"
   ]
  },
  {
   "cell_type": "code",
   "execution_count": 38,
   "metadata": {},
   "outputs": [],
   "source": [
    "#Url \n",
    "def encontrar_url(dato:str)->list[url:str]:\n",
    "    url = []\n",
    "    finder = f'a.ng-binding[ng-href*=\"/boardgame{dato}/\"]'\n",
    "    links = driver.find_elements(By.CSS_SELECTOR, finder)\n",
    "    # Extraer los href\n",
    "    url = [link.get_attribute('href') for link in links]\n",
    "    return url\n",
    "\n",
    "url_designers = encontrar_url('designer')\n",
    "url_artists = encontrar_url('artist')\n",
    "url_publishers = encontrar_url('publisher')\n",
    "url_related_to = encontrar_url('family')\n"
   ]
  },
  {
   "cell_type": "code",
   "execution_count": 39,
   "metadata": {},
   "outputs": [
    {
     "name": "stdout",
     "output_type": "stream",
     "text": [
      "['https://boardgamegeek.com/boardgamedesigner/6940/inka-brand', 'https://boardgamegeek.com/boardgamedesigner/6941/markus-brand'] ['https://boardgamegeek.com/boardgameartist/12484/dennis-lohausen'] ['https://boardgamegeek.com/boardgamepublisher/3490/huch', 'https://boardgamegeek.com/boardgamepublisher/267/999-games', 'https://boardgamegeek.com/boardgamepublisher/2366/devir', 'https://boardgamegeek.com/boardgamepublisher/46544/dice-realm', 'https://boardgamegeek.com/boardgamepublisher/917/dv-games', 'https://boardgamegeek.com/boardgamepublisher/7496/egmont-polska', 'https://boardgamegeek.com/boardgamepublisher/37681/fabrika-igr', 'https://boardgamegeek.com/boardgamepublisher/12540/game-harbor', 'https://boardgamegeek.com/boardgamepublisher/17130/hot-games', 'https://boardgamegeek.com/boardgamepublisher/52507/nostalgia-iii', 'https://boardgamegeek.com/boardgamepublisher/105/r-and-r-games'] ['https://boardgamegeek.com/boardgamefamily/22783/admin-better-description-needed', 'https://boardgamegeek.com/boardgamefamily/9961/country-india', 'https://boardgamegeek.com/boardgamefamily/70948/digital-implementations-tabletopia', 'https://boardgamegeek.com/boardgamefamily/70354/digital-implementations-yucata', 'https://boardgamegeek.com/boardgamefamily/56993/game-rajas-of-the-ganges', 'https://boardgamegeek.com/boardgamefamily/65163/mechanism-dice-drafting', 'https://boardgamegeek.com/boardgamefamily/73578/religious-hinduism']\n"
     ]
    }
   ],
   "source": [
    "print(url_designers,url_artists ,url_publishers ,url_related_to )"
   ]
  },
  {
   "cell_type": "markdown",
   "metadata": {},
   "source": [
    "### Encontrar informacion dentro de cada link"
   ]
  },
  {
   "cell_type": "markdown",
   "metadata": {},
   "source": [
    "Defino información que quiero encontrar según cada link:\n",
    "- Designer: Nombre, Pareja(si la tiene), Premios ganados, Otros juegos, nacionalidad.\n",
    "- Artist: Nombre, Pareja(si la tiene), Premios ganados, Otros juegos, nacionalidad.\n",
    "- Family: temática con las que se relaciona el juego.\n",
    "- Publishers: Nombre.\n",
    "- Nombres Alternativos: Nombre, idioma.\n",
    "- Año de publicación.\n",
    "- Premios: nombre de premio ganado, año.\n",
    "            "
   ]
  },
  {
   "cell_type": "code",
   "execution_count": 64,
   "metadata": {},
   "outputs": [],
   "source": [
    "from selenium.webdriver.support.ui import WebDriverWait\n",
    "from selenium.webdriver.support import expected_conditions as EC\n",
    "from selenium.webdriver.common.by import By\n",
    "import re"
   ]
  },
  {
   "cell_type": "code",
   "execution_count": null,
   "metadata": {},
   "outputs": [],
   "source": [
    "def encontrar_datos(entidad, lista_url)->dict:\n",
    "    lista_dict = []\n",
    "    if entidad == 'designer' or entidad == 'artist':\n",
    "        \n",
    "        for url in lista_url:\n",
    "            driver.get(url)\n",
    "            finder = f'a.ng-binding[ng-href*=\"/boardgame{entidad}/\"]'\n",
    "            links = driver.find_element(By.CSS_SELECTOR, finder)\n",
    "            name_designer = links.text.strip()\n",
    "            # Esperar hasta que la imagen esté cargada\n",
    "            WebDriverWait(driver, 3).until(EC.presence_of_all_elements_located((By.XPATH, \"//img[contains(@alt, 'Microbadge:')]\")))\n",
    "            # Encontrar todas las etiquetas <img> con Microbadge\n",
    "            img_elements = driver.find_elements(By.XPATH, \"//img[contains(@alt, 'Microbadge:')]\")\n",
    "    \n",
    "            # Verificar si hay más de un microbadge\n",
    "            if len(img_elements) > 1:\n",
    "                # Tomar el segundo microbadge (índice 1)\n",
    "                second_img = img_elements[1]\n",
    "                # Extraer el atributo 'alt'\n",
    "                alt_text = second_img.get_attribute(\"alt\")\n",
    "                # Limpiar el texto para obtener solo el nombre\n",
    "                partner = alt_text.replace(\"Microbadge: \", \"\").replace(\" fan\", \"\").strip()\n",
    "            else:\n",
    "                partner = ''\n",
    "            # Buscar el enlace que contiene el nombre del premio\n",
    "            try: \n",
    "                award = driver.find_element(By.CSS_SELECTOR, 'a.ng-binding[ng-href*=\"/boardgamehonor/\"]')\n",
    "                award = award.text.strip()  # Elimina espacios extra al inicio y fin\n",
    "            except:\n",
    "                award = ''\n",
    "            \n",
    "            \n",
    "            see_all_button = WebDriverWait(driver, 3).until(\n",
    "                EC.presence_of_element_located((By.XPATH, \"//a[contains(text(), 'See All')]\"))\n",
    "            )\n",
    "            # Extraer el enlace del botón\n",
    "            see_all_link = see_all_button.get_attribute(\"href\")\n",
    "\n",
    "             # Navegar al enlace extraído\n",
    "            driver.get(see_all_link)\n",
    "\n",
    "            # Esperar hasta que los nombres estén cargados\n",
    "            WebDriverWait(driver, 3).until(\n",
    "                EC.presence_of_all_elements_located((By.XPATH, \"//h3[@class='summary-item-title summary-item-title-separated fs-inherit mb-0']/a\"))\n",
    "            )\n",
    "\n",
    "            # Extraer los primeros 10 nombres\n",
    "            name_other_games = driver.find_elements(By.XPATH, \"//h3[@class='summary-item-title summary-item-title-separated fs-inherit mb-0']/a\")[:10]\n",
    "            other_games = [name.text.strip() for name in name_other_games]\n",
    "                    \n",
    "            dict = {'Name': name_designer, 'Partner': partner, 'Award': award, 'Other Games': other_games}\n",
    "            lista_dict.append(dict)\n",
    "        \n",
    "    elif entidad == 'publisher':\n",
    "\n",
    "        for url in lista_url:\n",
    "            driver.get(url)\n",
    "            finder = f'a.ng-binding[ng-href*=\"/boardgame{entidad}/\"]'\n",
    "            links = driver.find_element(By.CSS_SELECTOR, finder)\n",
    "            name_publisher = links.text.strip()\n",
    "            dict = {'Name': name_publisher}\n",
    "            lista_dict.append(dict)\n",
    "            \n",
    "    elif entidad == 'related_to':\n",
    "        for url in lista_url:\n",
    "            driver.get(url)\n",
    "            finder = f'a.ng-binding[ng-href*=\"/boardgamefamily/\"]'\n",
    "            links = driver.find_element(By.CSS_SELECTOR, finder)\n",
    "            subject = links.text.strip()\n",
    "            # Dividir en temática y nombre\n",
    "            if \":\" in subject:\n",
    "                partes = subject.split(\":\", 1)  # Dividir solo en el primer \":\"\n",
    "                tematica = partes[0].strip()  # Eliminar espacios en exceso\n",
    "                nombre = partes[1].strip()  # Eliminar espacios en exceso\n",
    "            else:\n",
    "                tematica = subject.strip()\n",
    "                nombre = \"\"  # Si no hay \":\", dejar el nombre vacío\n",
    "            \n",
    "            # Crear el diccionario\n",
    "            dict = {'Subject': tematica, 'Name': nombre}\n",
    "            lista_dict.append(dict)\n",
    "    elif entidad == 'alternative_names':\n",
    "        driver.get(lista_url)\n",
    "        try:\n",
    "            # Esperar hasta que los nombres alternativos estén cargados\n",
    "            WebDriverWait(driver, 3).until(\n",
    "                EC.presence_of_all_elements_located((By.XPATH, \"//div[@ng-switch-when='alternatename']\"))\n",
    "            )\n",
    "            \n",
    "            # Encontrar todos los nombres alternativos\n",
    "            alt_name_elements = driver.find_elements(By.XPATH, \"//div[@ng-switch-when='alternatename']\")\n",
    "            alt_names = [element.text.strip() for element in alt_name_elements if element.text.strip()]\n",
    "            \n",
    "            for name in alt_names:\n",
    "                dict = {'Alternative Name' : name}\n",
    "                lista_dict.append(dict)\n",
    "        except:\n",
    "            lista_dict = None\n",
    "        \n",
    "            \n",
    "        return lista_dict\n",
    "    elif entidad == 'award_game':\n",
    "        driver.get(lista_url)\n",
    "        try:\n",
    "            # URL inicial\n",
    "            url = \"https://boardgamegeek.com/boardgame/220877/rajas-of-the-ganges\"\n",
    "            driver.get(url)\n",
    "            \n",
    "            # Esperar a que los elementos <a> con premios estén cargados\n",
    "            WebDriverWait(driver, 3).until(\n",
    "                EC.presence_of_all_elements_located((By.XPATH, \"//a[@class='ng-binding']\"))\n",
    "            )\n",
    "            \n",
    "            # Encontrar todos los premios\n",
    "            awards_elements = driver.find_elements(By.XPATH, \"//a[@class='ng-binding'][contains(@ng-href, '/boardgamehonor/')]\")\n",
    "            \n",
    "            # Lista para almacenar los premios procesados\n",
    "            awards_list = []\n",
    "            \n",
    "            for award in awards_elements:\n",
    "                text = award.text.strip()\n",
    "                # Separar el año del nombre del premio usando una expresión regular\n",
    "                match = re.match(r\"(\\d{4})\\s*(.*)\", text)\n",
    "                if match:\n",
    "                    year = match.group(1)\n",
    "                    name = match.group(2).strip()\n",
    "                    awards_list.append({'year': year, 'name': name})\n",
    "            for award in awards_list:\n",
    "                dict = {'Prize': award['name'], 'Year': award['year']}\n",
    "                lista_dict.append(dict)\n",
    "        except:\n",
    "            lista_dict = None\n",
    "\n",
    "    return lista_dict"
   ]
  },
  {
   "cell_type": "code",
   "execution_count": 72,
   "metadata": {},
   "outputs": [],
   "source": [
    "dict_desingers =  encontrar_datos('designer', url_designers)\n",
    "dict_artist = encontrar_datos('artist', url_artists)\n",
    "dict_publishers = encontrar_datos('publisher', url_publishers)\n",
    "dict_related_to = encontrar_datos('related_to', url_related_to)\n",
    "dict_alternative_names = encontrar_datos('alternative_names', url)\n",
    "dict_awards = encontrar_datos('award_game', url)"
   ]
  },
  {
   "cell_type": "code",
   "execution_count": 74,
   "metadata": {},
   "outputs": [],
   "source": [
    "for designer in dict_desingers:\n",
    "    designer['Nacionalidad'] = 'German'\n",
    "for artist in dict_artist:\n",
    "    artist['Nacionalidad'] = 'German'"
   ]
  },
  {
   "cell_type": "code",
   "execution_count": 75,
   "metadata": {},
   "outputs": [
    {
     "data": {
      "text/plain": [
       "[{'Name': 'Inka Brand',\n",
       "  'Partner': 'Markus Brand',\n",
       "  'Award': '2012 Spiel des Jahres Kennerspiel des Jahres Winner',\n",
       "  'Other Games': ['Andor Junior: Die Fährtenleserin Fennah / Der Fährtenleser Fenn (2020)',\n",
       "   'Andor: The Family Fantasy Game (2020)',\n",
       "   'Andor: The Family Fantasy Game – The Danger in the Shadows (2022)',\n",
       "   'Bibi & Tina: Das Spiel zum Film (2013)',\n",
       "   'Bitte nicht öffnen: Bissig! (2022)',\n",
       "   'Black Stories: Das Spiel (2022)',\n",
       "   'Blitzed! (2013)',\n",
       "   'La Boca (2013)',\n",
       "   'Bravo! (2019)',\n",
       "   'Burgenland (2014)'],\n",
       "  'Nacionalidad': 'German'},\n",
       " {'Name': 'Markus Brand',\n",
       "  'Partner': 'Inka Brand',\n",
       "  'Award': '2012 Spiel des Jahres Kennerspiel des Jahres Winner',\n",
       "  'Other Games': ['Andor Junior: Die Fährtenleserin Fennah / Der Fährtenleser Fenn (2020)',\n",
       "   'Andor: The Family Fantasy Game (2020)',\n",
       "   'Andor: The Family Fantasy Game – The Danger in the Shadows (2022)',\n",
       "   'Bibi & Tina: Das Spiel zum Film (2013)',\n",
       "   'Bitte nicht öffnen: Bissig! (2022)',\n",
       "   'Black Stories: Das Spiel (2022)',\n",
       "   'Blitzed! (2013)',\n",
       "   'La Boca (2013)',\n",
       "   'Bravo! (2019)',\n",
       "   'Burgenland (2014)'],\n",
       "  'Nacionalidad': 'German'}]"
      ]
     },
     "execution_count": 75,
     "metadata": {},
     "output_type": "execute_result"
    }
   ],
   "source": [
    "dict_desingers"
   ]
  },
  {
   "cell_type": "code",
   "execution_count": 76,
   "metadata": {},
   "outputs": [
    {
     "data": {
      "text/plain": [
       "[{'Name': 'Dennis Lohausen',\n",
       "  'Partner': '',\n",
       "  'Award': '',\n",
       "  'Other Games': ['100! (2014)',\n",
       "   '1001 Karawane (2007)',\n",
       "   '1001 Karawane: Sonderchips (2007)',\n",
       "   '112: Brandgefährlich (2017)',\n",
       "   '15 (2011)',\n",
       "   'The Academy (2023)',\n",
       "   'Adventure Land (2023)',\n",
       "   'Agent DOG (2024)',\n",
       "   'Albion (2009)',\n",
       "   'All Change! (and Chameleon) (2017)'],\n",
       "  'Nacionalidad': 'German'}]"
      ]
     },
     "execution_count": 76,
     "metadata": {},
     "output_type": "execute_result"
    }
   ],
   "source": [
    "dict_artist"
   ]
  },
  {
   "cell_type": "code",
   "execution_count": 77,
   "metadata": {},
   "outputs": [
    {
     "data": {
      "text/plain": [
       "[{'Name': 'HUCH!'},\n",
       " {'Name': '999 Games'},\n",
       " {'Name': 'Devir'},\n",
       " {'Name': 'Dice Realm'},\n",
       " {'Name': 'DV Games'},\n",
       " {'Name': 'Egmont Polska'},\n",
       " {'Name': 'Fabrika Igr'},\n",
       " {'Name': 'Game Harbor'},\n",
       " {'Name': 'HOT Games'},\n",
       " {'Name': 'nostalgia (III)'},\n",
       " {'Name': 'R&R Games'}]"
      ]
     },
     "execution_count": 77,
     "metadata": {},
     "output_type": "execute_result"
    }
   ],
   "source": [
    "dict_publishers"
   ]
  },
  {
   "cell_type": "code",
   "execution_count": 78,
   "metadata": {},
   "outputs": [
    {
     "data": {
      "text/plain": [
       "[{'Subject': 'Admin', 'Name': 'Better Description Needed!'},\n",
       " {'Subject': 'Country', 'Name': 'India'},\n",
       " {'Subject': 'Digital Implementations', 'Name': 'Tabletopia'},\n",
       " {'Subject': 'Digital Implementations', 'Name': 'Yucata'},\n",
       " {'Subject': 'Game', 'Name': 'Rajas of the Ganges'},\n",
       " {'Subject': 'Mechanism', 'Name': 'Dice Drafting'},\n",
       " {'Subject': 'Religious', 'Name': 'Hinduism'}]"
      ]
     },
     "execution_count": 78,
     "metadata": {},
     "output_type": "execute_result"
    }
   ],
   "source": [
    "dict_related_to"
   ]
  },
  {
   "cell_type": "code",
   "execution_count": 79,
   "metadata": {},
   "outputs": [
    {
     "data": {
      "text/plain": [
       "[{'Alternative Name': 'Ganges'},\n",
       " {'Alternative Name': 'I Ragià del Gange'},\n",
       " {'Alternative Name': \"Raja's van de Ganges\"},\n",
       " {'Alternative Name': 'Раджи Ганга'},\n",
       " {'Alternative Name': 'ガンジスの藩王'},\n",
       " {'Alternative Name': '갠지스의 라자'}]"
      ]
     },
     "execution_count": 79,
     "metadata": {},
     "output_type": "execute_result"
    }
   ],
   "source": [
    "dict_alternative_names"
   ]
  },
  {
   "cell_type": "code",
   "execution_count": 80,
   "metadata": {},
   "outputs": [
    {
     "data": {
      "text/plain": [
       "[{'Prize': 'MinD-Spielepreis Complex Game Nominee', 'Year': '2019'},\n",
       " {'Prize': 'Juego del Año Recommended', 'Year': '2018'},\n",
       " {'Prize': 'International Gamers Award - General Strategy: Multi-player Winner',\n",
       "  'Year': '2018'},\n",
       " {'Prize': 'International Gamers Award - General Strategy: Multi-player Nominee',\n",
       "  'Year': '2018'},\n",
       " {'Prize': 'Meeples Choice Award Nominee', 'Year': '2017'}]"
      ]
     },
     "execution_count": 80,
     "metadata": {},
     "output_type": "execute_result"
    }
   ],
   "source": [
    "dict_awards"
   ]
  },
  {
   "cell_type": "markdown",
   "metadata": {},
   "source": [
    "#### Detectar idioma de nombres alternativos"
   ]
  },
  {
   "cell_type": "code",
   "execution_count": 81,
   "metadata": {},
   "outputs": [],
   "source": [
    "from langdetect import detect"
   ]
  },
  {
   "cell_type": "code",
   "execution_count": 84,
   "metadata": {},
   "outputs": [],
   "source": [
    "for alt_name in dict_alternative_names:\n",
    "    lang = detect(alt_name['Alternative Name'])\n",
    "    alt_name['Language'] = lang"
   ]
  },
  {
   "cell_type": "code",
   "execution_count": 85,
   "metadata": {},
   "outputs": [
    {
     "data": {
      "text/plain": [
       "[{'Alternative Name': 'Ganges', 'Language': 'de'},\n",
       " {'Alternative Name': 'I Ragià del Gange', 'Language': 'ca'},\n",
       " {'Alternative Name': \"Raja's van de Ganges\", 'Language': 'nl'},\n",
       " {'Alternative Name': 'Раджи Ганга', 'Language': 'bg'},\n",
       " {'Alternative Name': 'ガンジスの藩王', 'Language': 'ja'},\n",
       " {'Alternative Name': '갠지스의 라자', 'Language': 'ko'}]"
      ]
     },
     "execution_count": 85,
     "metadata": {},
     "output_type": "execute_result"
    }
   ],
   "source": [
    "dict_alternative_names"
   ]
  },
  {
   "cell_type": "markdown",
   "metadata": {},
   "source": []
  }
 ],
 "metadata": {
  "kernelspec": {
   "display_name": "Python 3",
   "language": "python",
   "name": "python3"
  },
  "language_info": {
   "codemirror_mode": {
    "name": "ipython",
    "version": 3
   },
   "file_extension": ".py",
   "mimetype": "text/x-python",
   "name": "python",
   "nbconvert_exporter": "python",
   "pygments_lexer": "ipython3",
   "version": "3.11.9"
  }
 },
 "nbformat": 4,
 "nbformat_minor": 2
}
