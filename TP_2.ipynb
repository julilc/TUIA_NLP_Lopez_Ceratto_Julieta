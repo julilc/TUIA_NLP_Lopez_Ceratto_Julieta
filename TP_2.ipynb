{
 "cells": [
  {
   "cell_type": "markdown",
   "metadata": {},
   "source": [
    "# Universidad Nacional de Rosario - Facultad de Ciencias Exactas, Ingeniería y Agrimensura. \n",
    "## Tecnicatura Universitaria en Programación. \n",
    "### Procesamiento del Lenguaje Natural: Trabajo Práctico N°2.\n",
    "\n",
    "---\n",
    "\n",
    "**Autora: López Ceratto, Julieta : L-3311/1**"
   ]
  },
  {
   "cell_type": "markdown",
   "metadata": {},
   "source": [
    "Se desarrolla a continuación el trabajo práctico final de la asignatura mencionada, cuyo objetivo es realizar un asistente destinado a brindar información o resolver consultas acerca del juego asignado."
   ]
  },
  {
   "cell_type": "markdown",
   "metadata": {},
   "source": [
    "# Parte 0: importar recursos y librerías."
   ]
  },
  {
   "cell_type": "code",
   "execution_count": 2,
   "metadata": {},
   "outputs": [],
   "source": [
    "from selenium import webdriver\n",
    "from selenium.webdriver.common.by import By\n",
    "from selenium.webdriver.chrome.service import Service\n",
    "from selenium.webdriver.chrome.options import Options\n",
    "from selenium.webdriver.support.ui import WebDriverWait\n",
    "from selenium.webdriver.support import expected_conditions as EC\n",
    "from selenium.webdriver.common.by import By\n",
    "import re\n",
    "from langdetect import detect\n",
    "import networkx as nx\n",
    "import matplotlib.pyplot as plt\n",
    "import plotly.graph_objects as go\n",
    "import numpy as np\n",
    "import rdflib\n",
    "import urllib.parse\n",
    "from rdflib import Namespace\n",
    "import tensorflow as tf\n",
    "import tensorflow_hub as hub\n",
    "import tensorflow_text\n",
    "import sentencepiece\n",
    "from pydub import AudioSegment\n",
    "import speech_recognition as sr\n",
    "import os\n",
    "import rdflib\n",
    "import urllib.parse\n",
    "from langchain.text_splitter import RecursiveCharacterTextSplitter\n",
    "import PyPDF2\n",
    "import re\n",
    "import chromadb\n",
    "from chromadb.config import Settings\n",
    "import requests\n",
    "import json\n",
    "from decouple import config, Config, Csv\n",
    "from jinja2 import Template\n",
    "from token_huggin_face import get_token\n",
    "import pandas as pd\n",
    "from deep_translator import GoogleTranslator\n",
    "from itertools import chain\n",
    "from sklearn.model_selection import train_test_split\n",
    "from sklearn.linear_model import LogisticRegression\n",
    "from sklearn.metrics import classification_report\n",
    "import requests\n",
    "from jinja2 import Template\n",
    "import json\n",
    "from huggingface_hub import InferenceClient\n",
    "from typing import List, Dict, Any\n",
    "import spacy\n"
   ]
  },
  {
   "cell_type": "markdown",
   "metadata": {},
   "source": [
    "# Parte 1: Base de datos de Grafos."
   ]
  },
  {
   "cell_type": "markdown",
   "metadata": {},
   "source": [
    "La base de datos de grafos se utiliza para modelar datos acerca del juego que no tienen que ver de manera estricta con su jugabilidad y que no son de amplia explicación, sino más bien relaciones entre distintas personas, otros juegos, premios y nacionalidades.\n",
    "Incluye:\n",
    "- Nombres alternativos.\n",
    "- Diseñadores: nombres, nacionalidad, relaciones entre ellos, premios ganados, otros juegos hechos.\n",
    "- Artistas: nombre, nacionalidad, relación con diseñadores, premios, otros juegos.\n",
    "- Publicadores: nombres, nacionalidad.\n",
    "- Juegos de su colección / familia: nombres, relación con diseñadores y artistas del mismo juego."
   ]
  },
  {
   "cell_type": "markdown",
   "metadata": {},
   "source": [
    "## Primeramente se debe extraer la información."
   ]
  },
  {
   "cell_type": "markdown",
   "metadata": {},
   "source": [
    "### Encontrar links"
   ]
  },
  {
   "cell_type": "code",
   "execution_count": 3,
   "metadata": {},
   "outputs": [],
   "source": [
    "## Url de partida\n",
    "url_credits = \"https://boardgamegeek.com/boardgame/220877/rajas-of-the-ganges/credits\""
   ]
  },
  {
   "cell_type": "code",
   "execution_count": 4,
   "metadata": {},
   "outputs": [],
   "source": [
    "#Url \n",
    "def encontrar_url(dato:str)->list:\n",
    "    # Como tienen carga con JavaScript utilizo selenuim.\n",
    "    # Configuración de Selenium\n",
    "    chrome_options = Options()\n",
    "    chrome_options.add_argument(\"--headless\")  # Ejecutar en segundo plano\n",
    "    service = Service(\"src/chromedriver.exe\")  # Especifica la ruta al chromedriver\n",
    "    driver = webdriver.Chrome(service=service, options=chrome_options)\n",
    "        \n",
    "    # URL del sitio web\n",
    "    url = \"https://boardgamegeek.com/boardgame/220877/rajas-of-the-ganges/credits\"\n",
    "    driver.get(url)\n",
    "    url = []\n",
    "    finder = f'a.ng-binding[ng-href*=\"/boardgame{dato}/\"]'\n",
    "    links = driver.find_elements(By.CSS_SELECTOR, finder)\n",
    "    # Extraer los href\n",
    "    url = [link.get_attribute('href') for link in links]\n",
    "    driver.close()\n",
    "    return url\n",
    "\n",
    "url_designers = encontrar_url('designer')\n",
    "url_artists = encontrar_url('artist')\n",
    "url_publishers = encontrar_url('publisher')\n",
    "url_related_to = encontrar_url('family')\n"
   ]
  },
  {
   "cell_type": "code",
   "execution_count": 5,
   "metadata": {},
   "outputs": [
    {
     "name": "stdout",
     "output_type": "stream",
     "text": [
      "['https://boardgamegeek.com/boardgamedesigner/6940/inka-brand', 'https://boardgamegeek.com/boardgamedesigner/6941/markus-brand'] ['https://boardgamegeek.com/boardgameartist/12484/dennis-lohausen'] ['https://boardgamegeek.com/boardgamepublisher/3490/huch', 'https://boardgamegeek.com/boardgamepublisher/267/999-games', 'https://boardgamegeek.com/boardgamepublisher/2366/devir', 'https://boardgamegeek.com/boardgamepublisher/46544/dice-realm', 'https://boardgamegeek.com/boardgamepublisher/917/dv-games', 'https://boardgamegeek.com/boardgamepublisher/7496/egmont-polska', 'https://boardgamegeek.com/boardgamepublisher/37681/fabrika-igr', 'https://boardgamegeek.com/boardgamepublisher/12540/game-harbor', 'https://boardgamegeek.com/boardgamepublisher/17130/hot-games', 'https://boardgamegeek.com/boardgamepublisher/52507/nostalgia-iii', 'https://boardgamegeek.com/boardgamepublisher/105/r-and-r-games'] ['https://boardgamegeek.com/boardgamefamily/22783/admin-better-description-needed', 'https://boardgamegeek.com/boardgamefamily/9961/country-india', 'https://boardgamegeek.com/boardgamefamily/70948/digital-implementations-tabletopia', 'https://boardgamegeek.com/boardgamefamily/70354/digital-implementations-yucata', 'https://boardgamegeek.com/boardgamefamily/56993/game-rajas-of-the-ganges', 'https://boardgamegeek.com/boardgamefamily/65163/mechanism-dice-drafting', 'https://boardgamegeek.com/boardgamefamily/73578/religious-hinduism']\n"
     ]
    }
   ],
   "source": [
    "print(url_designers,url_artists ,url_publishers ,url_related_to )"
   ]
  },
  {
   "cell_type": "markdown",
   "metadata": {},
   "source": [
    "### Encontrar informacion dentro de cada link"
   ]
  },
  {
   "cell_type": "markdown",
   "metadata": {},
   "source": [
    "Defino información que quiero encontrar según cada link:\n",
    "- Designer: Nombre, Pareja(si la tiene), Premios ganados, Otros juegos, nacionalidad.\n",
    "- Artist: Nombre, Pareja(si la tiene), Premios ganados, Otros juegos, nacionalidad.\n",
    "- Family: temática con las que se relaciona el juego.\n",
    "- Publishers: Nombre.\n",
    "- Nombres Alternativos: Nombre, idioma.\n",
    "- Año de publicación.\n",
    "- Premios: nombre de premio ganado, año.\n",
    "            "
   ]
  },
  {
   "cell_type": "code",
   "execution_count": 6,
   "metadata": {},
   "outputs": [],
   "source": [
    "def encontrar_datos(entidad, lista_url)->dict:\n",
    "    lista_dict = []\n",
    "    # Como tienen carga con JavaScript utilizo selenuim.\n",
    "    # Configuración de Selenium\n",
    "    chrome_options = Options()\n",
    "    chrome_options.add_argument(\"--headless\")  # Ejecutar en segundo plano\n",
    "    service = Service(\"src/chromedriver.exe\")  # Especifica la ruta al chromedriver\n",
    "    driver = webdriver.Chrome(service=service, options=chrome_options)\n",
    "    if entidad == 'designer' or entidad == 'artist':\n",
    "        \n",
    "        for url in lista_url:\n",
    "            driver.get(url)\n",
    "            finder = f'a.ng-binding[ng-href*=\"/boardgame{entidad}/\"]'\n",
    "            links = driver.find_element(By.CSS_SELECTOR, finder)\n",
    "            name_designer = links.text.strip()\n",
    "            # Esperar hasta que la imagen esté cargada\n",
    "            WebDriverWait(driver, 3).until(EC.presence_of_all_elements_located((By.XPATH, \"//img[contains(@alt, 'Microbadge:')]\")))\n",
    "            # Encontrar todas las etiquetas <img> con Microbadge\n",
    "            img_elements = driver.find_elements(By.XPATH, \"//img[contains(@alt, 'Microbadge:')]\")\n",
    "    \n",
    "            # Verificar si hay más de un microbadge\n",
    "            if len(img_elements) > 1:\n",
    "                # Tomar el segundo microbadge (índice 1)\n",
    "                second_img = img_elements[1]\n",
    "                # Extraer el atributo 'alt'\n",
    "                alt_text = second_img.get_attribute(\"alt\")\n",
    "                # Limpiar el texto para obtener solo el nombre\n",
    "                partner = alt_text.replace(\"Microbadge: \", \"\").replace(\" fan\", \"\").strip()\n",
    "            else:\n",
    "                partner = ''\n",
    "            # Buscar el enlace que contiene el nombre del premio\n",
    "            try: \n",
    "                award = driver.find_element(By.CSS_SELECTOR, 'a.ng-binding[ng-href*=\"/boardgamehonor/\"]')\n",
    "                award = award.text.strip()  # Elimina espacios extra al inicio y fin\n",
    "            except:\n",
    "                award = ''\n",
    "            \n",
    "            \n",
    "            see_all_button = WebDriverWait(driver, 3).until(\n",
    "                EC.presence_of_element_located((By.XPATH, \"//a[contains(text(), 'See All')]\"))\n",
    "            )\n",
    "            # Extraer el enlace del botón\n",
    "            see_all_link = see_all_button.get_attribute(\"href\")\n",
    "\n",
    "             # Navegar al enlace extraído\n",
    "            driver.get(see_all_link)\n",
    "\n",
    "            # Esperar hasta que los nombres estén cargados\n",
    "            WebDriverWait(driver, 3).until(\n",
    "                EC.presence_of_all_elements_located((By.XPATH, \"//h3[@class='summary-item-title summary-item-title-separated fs-inherit mb-0']/a\"))\n",
    "            )\n",
    "\n",
    "            # Extraer los primeros 10 nombres\n",
    "            name_other_games = driver.find_elements(By.XPATH, \"//h3[@class='summary-item-title summary-item-title-separated fs-inherit mb-0']/a\")[:10]\n",
    "            other_games = [name.text.strip() for name in name_other_games]\n",
    "                    \n",
    "            dict = {'Name': name_designer, 'Partner': partner, 'Award': award, 'Other Games': other_games}\n",
    "            lista_dict.append(dict)\n",
    "        \n",
    "    elif entidad == 'publisher':\n",
    "\n",
    "        for url in lista_url:\n",
    "            driver.get(url)\n",
    "            finder = f'a.ng-binding[ng-href*=\"/boardgame{entidad}/\"]'\n",
    "            links = driver.find_element(By.CSS_SELECTOR, finder)\n",
    "            name_publisher = links.text.strip()\n",
    "            dict = {'Name': name_publisher}\n",
    "            lista_dict.append(dict)\n",
    "            \n",
    "    elif entidad == 'related_to':\n",
    "        for url in lista_url:\n",
    "            driver.get(url)\n",
    "            finder = f'a.ng-binding[ng-href*=\"/boardgamefamily/\"]'\n",
    "            links = driver.find_element(By.CSS_SELECTOR, finder)\n",
    "            subject = links.text.strip()\n",
    "            # Dividir en temática y nombre\n",
    "            if \":\" in subject:\n",
    "                partes = subject.split(\":\", 1)  # Dividir solo en el primer \":\"\n",
    "                tematica = partes[0].strip()  # Eliminar espacios en exceso\n",
    "                nombre = partes[1].strip()  # Eliminar espacios en exceso\n",
    "            else:\n",
    "                tematica = subject.strip()\n",
    "                nombre = \"\"  # Si no hay \":\", dejar el nombre vacío\n",
    "            \n",
    "            # Crear el diccionario\n",
    "            dict = {'Subject': tematica, 'Name': nombre}\n",
    "            lista_dict.append(dict)\n",
    "    elif entidad == 'alternative_names':\n",
    "        driver.get(lista_url)\n",
    "        try:\n",
    "            # Esperar hasta que los nombres alternativos estén cargados\n",
    "            WebDriverWait(driver, 3).until(\n",
    "                EC.presence_of_all_elements_located((By.XPATH, \"//div[@ng-switch-when='alternatename']\"))\n",
    "            )\n",
    "            \n",
    "            # Encontrar todos los nombres alternativos\n",
    "            alt_name_elements = driver.find_elements(By.XPATH, \"//div[@ng-switch-when='alternatename']\")\n",
    "            alt_names = [element.text.strip() for element in alt_name_elements if element.text.strip()]\n",
    "            \n",
    "            for name in alt_names:\n",
    "                dict = {'Alternative Name' : name}\n",
    "                lista_dict.append(dict)\n",
    "        except:\n",
    "            lista_dict = None\n",
    "        \n",
    "            \n",
    "        return lista_dict\n",
    "    elif entidad == 'award_game':\n",
    "        driver.get(lista_url)\n",
    "        try:\n",
    "            # URL inicial\n",
    "            url = \"https://boardgamegeek.com/boardgame/220877/rajas-of-the-ganges\"\n",
    "            driver.get(url)\n",
    "            \n",
    "            # Esperar a que los elementos <a> con premios estén cargados\n",
    "            WebDriverWait(driver, 3).until(\n",
    "                EC.presence_of_all_elements_located((By.XPATH, \"//a[@class='ng-binding']\"))\n",
    "            )\n",
    "            \n",
    "            # Encontrar todos los premios\n",
    "            awards_elements = driver.find_elements(By.XPATH, \"//a[@class='ng-binding'][contains(@ng-href, '/boardgamehonor/')]\")\n",
    "            \n",
    "            # Lista para almacenar los premios procesados\n",
    "            awards_list = []\n",
    "            \n",
    "            for award in awards_elements:\n",
    "                text = award.text.strip()\n",
    "                # Separar el año del nombre del premio usando una expresión regular\n",
    "                match = re.match(r\"(\\d{4})\\s*(.*)\", text)\n",
    "                if match:\n",
    "                    year = match.group(1)\n",
    "                    name = match.group(2).strip()\n",
    "                    awards_list.append({'year': year, 'name': name})\n",
    "            for award in awards_list:\n",
    "                dict = {'Prize': award['name'], 'Year': award['year']}\n",
    "                lista_dict.append(dict)\n",
    "        except:\n",
    "            lista_dict = None\n",
    "    driver.close()\n",
    "    return lista_dict"
   ]
  },
  {
   "cell_type": "code",
   "execution_count": 7,
   "metadata": {},
   "outputs": [],
   "source": [
    "dict_desingers =  encontrar_datos('designer', url_designers)\n",
    "dict_artist = encontrar_datos('artist', url_artists)\n",
    "dict_publishers = encontrar_datos('publisher', url_publishers)\n",
    "dict_related_to = encontrar_datos('related_to', url_related_to)\n",
    "dict_alternative_names = encontrar_datos('alternative_names', url_credits)\n",
    "dict_awards = encontrar_datos('award_game', url_credits)"
   ]
  },
  {
   "cell_type": "code",
   "execution_count": 8,
   "metadata": {},
   "outputs": [],
   "source": [
    "for designer in dict_desingers:\n",
    "    designer['Nacionalidad'] = 'German'\n",
    "for artist in dict_artist:\n",
    "    artist['Nacionalidad'] = 'German'"
   ]
  },
  {
   "cell_type": "code",
   "execution_count": 9,
   "metadata": {},
   "outputs": [
    {
     "data": {
      "text/plain": [
       "[{'Name': 'Inka Brand',\n",
       "  'Partner': 'Markus Brand',\n",
       "  'Award': '2012 Spiel des Jahres Kennerspiel des Jahres Winner',\n",
       "  'Other Games': ['Andor Junior: Die Fährtenleserin Fennah / Der Fährtenleser Fenn (2020)',\n",
       "   'Andor: The Family Fantasy Game (2020)',\n",
       "   'Andor: The Family Fantasy Game – The Danger in the Shadows (2022)',\n",
       "   'Bibi & Tina: Das Spiel zum Film (2013)',\n",
       "   'Bitte nicht öffnen: Bissig! (2022)',\n",
       "   'Black Stories: Das Spiel (2022)',\n",
       "   'Blitzed! (2013)',\n",
       "   'La Boca (2013)',\n",
       "   'Bravo! (2019)',\n",
       "   'Burgenland (2014)'],\n",
       "  'Nacionalidad': 'German'},\n",
       " {'Name': 'Markus Brand',\n",
       "  'Partner': 'Inka Brand',\n",
       "  'Award': '2012 Spiel des Jahres Kennerspiel des Jahres Winner',\n",
       "  'Other Games': ['Andor Junior: Die Fährtenleserin Fennah / Der Fährtenleser Fenn (2020)',\n",
       "   'Andor: The Family Fantasy Game (2020)',\n",
       "   'Andor: The Family Fantasy Game – The Danger in the Shadows (2022)',\n",
       "   'Bibi & Tina: Das Spiel zum Film (2013)',\n",
       "   'Bitte nicht öffnen: Bissig! (2022)',\n",
       "   'Black Stories: Das Spiel (2022)',\n",
       "   'Blitzed! (2013)',\n",
       "   'La Boca (2013)',\n",
       "   'Bravo! (2019)',\n",
       "   'Burgenland (2014)'],\n",
       "  'Nacionalidad': 'German'}]"
      ]
     },
     "execution_count": 9,
     "metadata": {},
     "output_type": "execute_result"
    }
   ],
   "source": [
    "dict_desingers"
   ]
  },
  {
   "cell_type": "code",
   "execution_count": 10,
   "metadata": {},
   "outputs": [
    {
     "data": {
      "text/plain": [
       "[{'Name': 'Dennis Lohausen',\n",
       "  'Partner': '',\n",
       "  'Award': '',\n",
       "  'Other Games': ['100! (2014)',\n",
       "   '1001 Karawane (2007)',\n",
       "   '1001 Karawane: Sonderchips (2007)',\n",
       "   '112: Brandgefährlich (2017)',\n",
       "   '15 (2011)',\n",
       "   'The Academy (2023)',\n",
       "   'Adventure Land (2023)',\n",
       "   'Agent DOG (2024)',\n",
       "   'Albion (2009)',\n",
       "   'All Change! (and Chameleon) (2017)'],\n",
       "  'Nacionalidad': 'German'}]"
      ]
     },
     "execution_count": 10,
     "metadata": {},
     "output_type": "execute_result"
    }
   ],
   "source": [
    "dict_artist"
   ]
  },
  {
   "cell_type": "code",
   "execution_count": 11,
   "metadata": {},
   "outputs": [
    {
     "data": {
      "text/plain": [
       "[{'Name': 'HUCH!'},\n",
       " {'Name': '999 Games'},\n",
       " {'Name': 'Devir'},\n",
       " {'Name': 'Dice Realm'},\n",
       " {'Name': 'DV Games'},\n",
       " {'Name': 'Egmont Polska'},\n",
       " {'Name': 'Fabrika Igr'},\n",
       " {'Name': 'Game Harbor'},\n",
       " {'Name': 'HOT Games'},\n",
       " {'Name': 'nostalgia (III)'},\n",
       " {'Name': 'R&R Games'}]"
      ]
     },
     "execution_count": 11,
     "metadata": {},
     "output_type": "execute_result"
    }
   ],
   "source": [
    "dict_publishers"
   ]
  },
  {
   "cell_type": "code",
   "execution_count": 12,
   "metadata": {},
   "outputs": [
    {
     "data": {
      "text/plain": [
       "[{'Subject': 'Admin', 'Name': 'Better Description Needed!'},\n",
       " {'Subject': 'Country', 'Name': 'India'},\n",
       " {'Subject': 'Digital Implementations', 'Name': 'Tabletopia'},\n",
       " {'Subject': 'Digital Implementations', 'Name': 'Yucata'},\n",
       " {'Subject': 'Game', 'Name': 'Rajas of the Ganges'},\n",
       " {'Subject': 'Mechanism', 'Name': 'Dice Drafting'},\n",
       " {'Subject': 'Religious', 'Name': 'Hinduism'}]"
      ]
     },
     "execution_count": 12,
     "metadata": {},
     "output_type": "execute_result"
    }
   ],
   "source": [
    "dict_related_to"
   ]
  },
  {
   "cell_type": "code",
   "execution_count": 13,
   "metadata": {},
   "outputs": [
    {
     "data": {
      "text/plain": [
       "[{'Alternative Name': 'Ganges'},\n",
       " {'Alternative Name': 'I Ragià del Gange'},\n",
       " {'Alternative Name': \"Raja's van de Ganges\"},\n",
       " {'Alternative Name': 'Раджи Ганга'},\n",
       " {'Alternative Name': 'ガンジスの藩王'},\n",
       " {'Alternative Name': '갠지스의 라자'}]"
      ]
     },
     "execution_count": 13,
     "metadata": {},
     "output_type": "execute_result"
    }
   ],
   "source": [
    "dict_alternative_names"
   ]
  },
  {
   "cell_type": "code",
   "execution_count": 14,
   "metadata": {},
   "outputs": [
    {
     "data": {
      "text/plain": [
       "[{'Prize': 'MinD-Spielepreis Complex Game Nominee', 'Year': '2019'},\n",
       " {'Prize': 'Juego del Año Recommended', 'Year': '2018'},\n",
       " {'Prize': 'International Gamers Award - General Strategy: Multi-player Winner',\n",
       "  'Year': '2018'},\n",
       " {'Prize': 'International Gamers Award - General Strategy: Multi-player Nominee',\n",
       "  'Year': '2018'},\n",
       " {'Prize': 'Meeples Choice Award Nominee', 'Year': '2017'}]"
      ]
     },
     "execution_count": 14,
     "metadata": {},
     "output_type": "execute_result"
    }
   ],
   "source": [
    "dict_awards"
   ]
  },
  {
   "cell_type": "markdown",
   "metadata": {},
   "source": [
    "#### Detectar idioma de nombres alternativos"
   ]
  },
  {
   "cell_type": "code",
   "execution_count": 15,
   "metadata": {},
   "outputs": [],
   "source": [
    "for alt_name in dict_alternative_names:\n",
    "    lang = detect(alt_name['Alternative Name'])\n",
    "    alt_name['Language'] = lang"
   ]
  },
  {
   "cell_type": "code",
   "execution_count": 16,
   "metadata": {},
   "outputs": [
    {
     "data": {
      "text/plain": [
       "[{'Alternative Name': 'Ganges', 'Language': 'de'},\n",
       " {'Alternative Name': 'I Ragià del Gange', 'Language': 'ca'},\n",
       " {'Alternative Name': \"Raja's van de Ganges\", 'Language': 'nl'},\n",
       " {'Alternative Name': 'Раджи Ганга', 'Language': 'bg'},\n",
       " {'Alternative Name': 'ガンジスの藩王', 'Language': 'ja'},\n",
       " {'Alternative Name': '갠지스의 라자', 'Language': 'ko'}]"
      ]
     },
     "execution_count": 16,
     "metadata": {},
     "output_type": "execute_result"
    }
   ],
   "source": [
    "dict_alternative_names"
   ]
  },
  {
   "cell_type": "markdown",
   "metadata": {},
   "source": [
    "## Armado de base de Grafos"
   ]
  },
  {
   "cell_type": "markdown",
   "metadata": {},
   "source": [
    "En este apartado se modelará la siguiente base de grafos:"
   ]
  },
  {
   "cell_type": "markdown",
   "metadata": {},
   "source": [
    "Para verla en mejor detalle: https://www.canva.com/design/DAGYQvwpJa8/_qM5Kdb2sn654E-HB3HwCQ/edit?utm_content=DAGYQvwpJa8&utm_campaign=designshare&utm_medium=link2&utm_source=sharebutton "
   ]
  },
  {
   "cell_type": "markdown",
   "metadata": {},
   "source": [
    "### Crear el grafo base"
   ]
  },
  {
   "cell_type": "code",
   "execution_count": 17,
   "metadata": {},
   "outputs": [],
   "source": [
    "G = nx.DiGraph()\n",
    "game_node = \"Rajas of the Ganges\"\n",
    "G.add_node(game_node, type=\"game\")\n",
    "\n",
    "# Añadimos nodos de diseñadores y establecemos relación con el juego\n",
    "for designer in dict_desingers:\n",
    "    G.add_node(designer['Name'], type=\"designer\", nationality=designer['Nacionalidad'])\n",
    "    G.add_edge(game_node, designer['Name'], relationship=\"designed by\")\n",
    "    if designer['Partner']:\n",
    "        G.add_edge(designer['Name'], designer['Partner'], relationship=\"partner\")\n",
    "    \n",
    "    # Añadir otros juegos que diseñaron\n",
    "    for other_game in designer['Other Games']:\n",
    "        G.add_node(other_game, type=\"game\")\n",
    "        G.add_edge(designer['Name'], other_game, relationship=\"designed\")\n",
    "        \n",
    "        # Añadir los premios de esos otros juegos, si están disponibles en el diccionario de premios\n",
    "        for award in dict_awards:  # Premios globales del juego \"Rajas of the Ganges\"\n",
    "            if award['Prize'] in other_game:  # Si el premio pertenece a este juego (por ejemplo, por nombre o año)\n",
    "                award_node = f\"{award['Year']} - {award['Prize']}\"\n",
    "                G.add_node(award_node, type=\"award\", year=award['Year'])\n",
    "                G.add_edge(other_game, award_node, relationship=\"awarded or nominated\")\n",
    "\n",
    "# Añadimos nodo de artista y establecemos relación con el juego\n",
    "for artist in dict_artist:\n",
    "    G.add_node(artist['Name'], type=\"artist\", nationality=artist['Nacionalidad'])\n",
    "    G.add_edge(game_node, artist['Name'], relationship=\"art by\")\n",
    "\n",
    "    # Añadir otros juegos que hizo el artista\n",
    "    for other_game in artist['Other Games']:\n",
    "        G.add_node(other_game, type=\"game\")\n",
    "        G.add_edge(artist['Name'], other_game, relationship=\"artist of\")\n",
    "        \n",
    "        # Añadir los premios de esos otros juegos\n",
    "        for award in dict_awards:  # Premios globales del juego \"Rajas of the Ganges\"\n",
    "            if award['Prize'] in other_game:  # Si el premio pertenece a este juego (por ejemplo, por nombre o año)\n",
    "                award_node = f\"{award['Year']} - {award['Prize']}\"\n",
    "                G.add_node(award_node, type=\"award\", year=award['Year'])\n",
    "                G.add_edge(other_game, award_node, relationship=\"awarded or nominated\")\n",
    "\n",
    "# Publicadores\n",
    "for publisher in dict_publishers:\n",
    "    G.add_node(publisher['Name'], type=\"publisher\")\n",
    "    G.add_edge(game_node, publisher['Name'], relationship=\"published by\")\n",
    "\n",
    "# País\n",
    "country = next((item for item in dict_related_to if item['Subject'] == 'Country'), None)\n",
    "G.add_node(country['Name'], type=\"country\")\n",
    "G.add_edge(game_node, country['Name'], relationship=\"set in\")\n",
    "\n",
    "# Religión con la que se relaciona\n",
    "religion = next((item for item in dict_related_to if item['Subject'] == 'Religious'), None)\n",
    "G.add_node(religion['Name'], type=\"religion\")\n",
    "G.add_edge(game_node, religion['Name'], relationship=\"religion associated with\")\n",
    "\n",
    "# Nombres alternativos\n",
    "for alt_name in dict_alternative_names:\n",
    "    G.add_node(alt_name['Alternative Name'], type=\"alternative name\", language=alt_name['Language'])\n",
    "    G.add_edge(game_node, alt_name['Alternative Name'], relationship=\"also known as\")\n",
    "\n",
    "# Premios, honores o nominaciones\n",
    "for award in dict_awards:\n",
    "    award_node = f\"{award['Year']} - {award['Prize']}\"\n",
    "    G.add_node(award_node, type=\"award\", year=award['Year'])\n",
    "    G.add_edge(game_node, award_node, relationship=\"awarded or nominated\")\n",
    "\n",
    "#Año\n",
    "release_year_node = 2017\n",
    "G.add_node(release_year_node, type = 'year')\n",
    "G.add_edge(game_node, release_year_node, relationship = \"Release year\")"
   ]
  },
  {
   "cell_type": "code",
   "execution_count": 18,
   "metadata": {},
   "outputs": [
    {
     "data": {
      "application/vnd.plotly.v1+json": {
       "config": {
        "plotlyServerURL": "https://plot.ly"
       },
       "data": [
        {
         "hoverinfo": "none",
         "line": {
          "color": "gray",
          "width": 0.5
         },
         "mode": "lines",
         "type": "scatter",
         "x": [
          0.06576668301625392,
          -0.16721229589376926,
          0.06576668301625392,
          -0.16574125126937644,
          0.06576668301625392,
          -0.028375808288552854,
          0.06576668301625392,
          -0.0221864137056955,
          0.06576668301625392,
          0.8848854591217894,
          0.06576668301625392,
          0.6064412618281256,
          0.06576668301625392,
          0.17825213624632155,
          0.06576668301625392,
          -0.8589747921733228,
          0.06576668301625392,
          -0.957563028175027,
          0.06576668301625392,
          -0.40658695565865194,
          0.06576668301625392,
          0.9209906403679259,
          0.06576668301625392,
          -0.6983186894951824,
          0.06576668301625392,
          -0.3980939392177503,
          0.06576668301625392,
          -0.20453734162586978,
          0.06576668301625392,
          0.7372448399036834,
          0.06576668301625392,
          -0.965755020939938,
          0.06576668301625392,
          0.437788646072679,
          0.06576668301625392,
          0.5320222059620672,
          0.06576668301625392,
          -0.16609183581470843,
          0.06576668301625392,
          0.8956367165734538,
          0.06576668301625392,
          -0.31903405515519845,
          0.06576668301625392,
          -0.7114913365560478,
          0.06576668301625392,
          0.6349763881382973,
          0.06576668301625392,
          0.9653717538247995,
          0.06576668301625392,
          -0.9512844894526425,
          0.06576668301625392,
          0.8960431088549007,
          0.06576668301625392,
          0.9191749054387706,
          0.06576668301625392,
          0.8377282754650975,
          -0.16721229589376926,
          -0.16574125126937644,
          -0.16721229589376926,
          -0.899108431205103,
          -0.16721229589376926,
          0.283079828095127,
          -0.16721229589376926,
          -0.6850489007765824,
          -0.16721229589376926,
          0.8425544671754392,
          -0.16721229589376926,
          -0.6797266905479065,
          -0.16721229589376926,
          -0.8777512711112279,
          -0.16721229589376926,
          0.1817399871595621,
          -0.16721229589376926,
          0.3601425205598333,
          -0.16721229589376926,
          -0.8406404442417966,
          -0.16721229589376926,
          0.007920817103412988,
          -0.16574125126937644,
          -0.16721229589376926,
          -0.16574125126937644,
          -0.899108431205103,
          -0.16574125126937644,
          0.283079828095127,
          -0.16574125126937644,
          -0.6850489007765824,
          -0.16574125126937644,
          0.8425544671754392,
          -0.16574125126937644,
          -0.6797266905479065,
          -0.16574125126937644,
          -0.8777512711112279,
          -0.16574125126937644,
          0.1817399871595621,
          -0.16574125126937644,
          0.3601425205598333,
          -0.16574125126937644,
          -0.8406404442417966,
          -0.16574125126937644,
          0.007920817103412988,
          -0.028375808288552854,
          0.1570710689847532,
          -0.028375808288552854,
          0.6015912237782626,
          -0.028375808288552854,
          -0.5192236751482714,
          -0.028375808288552854,
          0.7956252399171907,
          -0.028375808288552854,
          -0.5499333301035036,
          -0.028375808288552854,
          0.8201619765259793,
          -0.028375808288552854,
          -0.9524599981293728,
          -0.028375808288552854,
          -0.8069187805285342,
          -0.028375808288552854,
          -0.2028008880656235,
          -0.028375808288552854,
          0.4726495131659306
         ],
         "y": [
          0.017807164800219977,
          -0.010813953288257457,
          0.017807164800219977,
          -0.014227701158838008,
          0.017807164800219977,
          -0.019060668187332874,
          0.017807164800219977,
          -0.9337609495674547,
          0.017807164800219977,
          0.4982663570680279,
          0.017807164800219977,
          0.8376000965144325,
          0.017807164800219977,
          0.9688694433013223,
          0.017807164800219977,
          -0.5088911835224091,
          0.017807164800219977,
          -0.2551539548299881,
          0.017807164800219977,
          -0.8157212221476176,
          0.017807164800219977,
          -0.25719805790815176,
          0.017807164800219977,
          0.5661655066943806,
          0.017807164800219977,
          0.888788476740657,
          0.017807164800219977,
          1,
          0.017807164800219977,
          -0.6296627405829386,
          0.017807164800219977,
          0.3233207189711919,
          0.017807164800219977,
          0.8335042583781953,
          0.017807164800219977,
          -0.8477732608088704,
          0.017807164800219977,
          -0.94621691482427,
          0.017807164800219977,
          0.3697107207632408,
          0.017807164800219977,
          -0.9308189730349178,
          0.017807164800219977,
          -0.5634481020880873,
          0.017807164800219977,
          0.673972726107034,
          0.017807164800219977,
          -0.07805007582230679,
          0.017807164800219977,
          0.17199372605535754,
          0.017807164800219977,
          0.24047195321080694,
          0.017807164800219977,
          0.1002889895840243,
          0.017807164800219977,
          -0.05612457671901776,
          -0.010813953288257457,
          -0.014227701158838008,
          -0.010813953288257457,
          0.48109726900436844,
          -0.010813953288257457,
          0.871813202530382,
          -0.010813953288257457,
          0.807873185607696,
          -0.010813953288257457,
          -0.5015474540402914,
          -0.010813953288257457,
          -0.7027273749568471,
          -0.010813953288257457,
          0.0552398360355936,
          -0.010813953288257457,
          -0.8677400489304765,
          -0.010813953288257457,
          -0.8873738898764975,
          -0.010813953288257457,
          -0.3406557479513708,
          -0.010813953288257457,
          0.9343991328420429,
          -0.014227701158838008,
          -0.010813953288257457,
          -0.014227701158838008,
          0.48109726900436844,
          -0.014227701158838008,
          0.871813202530382,
          -0.014227701158838008,
          0.807873185607696,
          -0.014227701158838008,
          -0.5015474540402914,
          -0.014227701158838008,
          -0.7027273749568471,
          -0.014227701158838008,
          0.0552398360355936,
          -0.014227701158838008,
          -0.8677400489304765,
          -0.014227701158838008,
          -0.8873738898764975,
          -0.014227701158838008,
          -0.3406557479513708,
          -0.014227701158838008,
          0.9343991328420429,
          -0.019060668187332874,
          -0.9723733243337348,
          -0.019060668187332874,
          -0.7196259282383894,
          -0.019060668187332874,
          0.8962028310440091,
          -0.019060668187332874,
          0.6498687966228727,
          -0.019060668187332874,
          -0.8058720040029979,
          -0.019060668187332874,
          -0.3697594881077583,
          -0.019060668187332874,
          -0.07970598218140973,
          -0.019060668187332874,
          0.657863022014671,
          -0.019060668187332874,
          0.8810446688244773,
          -0.019060668187332874,
          -0.6118585056047733
         ]
        },
        {
         "hoverinfo": "text",
         "marker": {
          "color": [
           0,
           1,
           2,
           3,
           4,
           5,
           6,
           7,
           8,
           9,
           10,
           11,
           12,
           13,
           14,
           15,
           16,
           17,
           18,
           19,
           20,
           21,
           22,
           23,
           24,
           25,
           26,
           27,
           28,
           29,
           30,
           31,
           32,
           33,
           34,
           35,
           36,
           37,
           38,
           39,
           40,
           41,
           42,
           43,
           44,
           45,
           46,
           47,
           48
          ],
          "colorbar": {
           "thickness": 15,
           "title": {
            "side": "right",
            "text": "Node Connections"
           },
           "xanchor": "left"
          },
          "colorscale": [
           [
            0,
            "rgb(255,255,217)"
           ],
           [
            0.125,
            "rgb(237,248,177)"
           ],
           [
            0.25,
            "rgb(199,233,180)"
           ],
           [
            0.375,
            "rgb(127,205,187)"
           ],
           [
            0.5,
            "rgb(65,182,196)"
           ],
           [
            0.625,
            "rgb(29,145,192)"
           ],
           [
            0.75,
            "rgb(34,94,168)"
           ],
           [
            0.875,
            "rgb(37,52,148)"
           ],
           [
            1,
            "rgb(8,29,88)"
           ]
          ],
          "showscale": true,
          "size": 20
         },
         "mode": "markers",
         "text": [
          "Rajas of the Ganges (game)",
          "Inka Brand (designer)",
          "Markus Brand (designer)",
          "Andor Junior: Die Fährtenleserin Fennah / Der Fährtenleser Fenn (2020) (game)",
          "Andor: The Family Fantasy Game (2020) (game)",
          "Andor: The Family Fantasy Game – The Danger in the Shadows (2022) (game)",
          "Bibi & Tina: Das Spiel zum Film (2013) (game)",
          "Bitte nicht öffnen: Bissig! (2022) (game)",
          "Black Stories: Das Spiel (2022) (game)",
          "Blitzed! (2013) (game)",
          "La Boca (2013) (game)",
          "Bravo! (2019) (game)",
          "Burgenland (2014) (game)",
          "Dennis Lohausen (artist)",
          "100! (2014) (game)",
          "1001 Karawane (2007) (game)",
          "1001 Karawane: Sonderchips (2007) (game)",
          "112: Brandgefährlich (2017) (game)",
          "15 (2011) (game)",
          "The Academy (2023) (game)",
          "Adventure Land (2023) (game)",
          "Agent DOG (2024) (game)",
          "Albion (2009) (game)",
          "All Change! (and Chameleon) (2017) (game)",
          "HUCH! (publisher)",
          "999 Games (publisher)",
          "Devir (publisher)",
          "Dice Realm (publisher)",
          "DV Games (publisher)",
          "Egmont Polska (publisher)",
          "Fabrika Igr (publisher)",
          "Game Harbor (publisher)",
          "HOT Games (publisher)",
          "nostalgia (III) (publisher)",
          "R&R Games (publisher)",
          "India (country)",
          "Hinduism (religion)",
          "Ganges (alternative name)",
          "I Ragià del Gange (alternative name)",
          "Raja's van de Ganges (alternative name)",
          "Раджи Ганга (alternative name)",
          "ガンジスの藩王 (alternative name)",
          "갠지스의 라자 (alternative name)",
          "2019 - MinD-Spielepreis Complex Game Nominee (award)",
          "2018 - Juego del Año Recommended (award)",
          "2018 - International Gamers Award - General Strategy: Multi-player Winner (award)",
          "2018 - International Gamers Award - General Strategy: Multi-player Nominee (award)",
          "2017 - Meeples Choice Award Nominee (award)",
          "2017 (year)"
         ],
         "type": "scatter",
         "x": [
          0.06576668301625392,
          -0.16721229589376926,
          -0.16574125126937644,
          -0.899108431205103,
          0.283079828095127,
          -0.6850489007765824,
          0.8425544671754392,
          -0.6797266905479065,
          -0.8777512711112279,
          0.1817399871595621,
          0.3601425205598333,
          -0.8406404442417966,
          0.007920817103412988,
          -0.028375808288552854,
          0.1570710689847532,
          0.6015912237782626,
          -0.5192236751482714,
          0.7956252399171907,
          -0.5499333301035036,
          0.8201619765259793,
          -0.9524599981293728,
          -0.8069187805285342,
          -0.2028008880656235,
          0.4726495131659306,
          -0.0221864137056955,
          0.8848854591217894,
          0.6064412618281256,
          0.17825213624632155,
          -0.8589747921733228,
          -0.957563028175027,
          -0.40658695565865194,
          0.9209906403679259,
          -0.6983186894951824,
          -0.3980939392177503,
          -0.20453734162586978,
          0.7372448399036834,
          -0.965755020939938,
          0.437788646072679,
          0.5320222059620672,
          -0.16609183581470843,
          0.8956367165734538,
          -0.31903405515519845,
          -0.7114913365560478,
          0.6349763881382973,
          0.9653717538247995,
          -0.9512844894526425,
          0.8960431088549007,
          0.9191749054387706,
          0.8377282754650975
         ],
         "y": [
          0.017807164800219977,
          -0.010813953288257457,
          -0.014227701158838008,
          0.48109726900436844,
          0.871813202530382,
          0.807873185607696,
          -0.5015474540402914,
          -0.7027273749568471,
          0.0552398360355936,
          -0.8677400489304765,
          -0.8873738898764975,
          -0.3406557479513708,
          0.9343991328420429,
          -0.019060668187332874,
          -0.9723733243337348,
          -0.7196259282383894,
          0.8962028310440091,
          0.6498687966228727,
          -0.8058720040029979,
          -0.3697594881077583,
          -0.07970598218140973,
          0.657863022014671,
          0.8810446688244773,
          -0.6118585056047733,
          -0.9337609495674547,
          0.4982663570680279,
          0.8376000965144325,
          0.9688694433013223,
          -0.5088911835224091,
          -0.2551539548299881,
          -0.8157212221476176,
          -0.25719805790815176,
          0.5661655066943806,
          0.888788476740657,
          1,
          -0.6296627405829386,
          0.3233207189711919,
          0.8335042583781953,
          -0.8477732608088704,
          -0.94621691482427,
          0.3697107207632408,
          -0.9308189730349178,
          -0.5634481020880873,
          0.673972726107034,
          -0.07805007582230679,
          0.17199372605535754,
          0.24047195321080694,
          0.1002889895840243,
          -0.05612457671901776
         ]
        },
        {
         "hoverinfo": "none",
         "mode": "text",
         "showlegend": false,
         "text": [
          "designed by",
          "designed by",
          "art by",
          "published by",
          "published by",
          "published by",
          "published by",
          "published by",
          "published by",
          "published by",
          "published by",
          "published by",
          "published by",
          "published by",
          "set in",
          "religion associated with",
          "also known as",
          "also known as",
          "also known as",
          "also known as",
          "also known as",
          "also known as",
          "awarded or nominated",
          "awarded or nominated",
          "awarded or nominated",
          "awarded or nominated",
          "awarded or nominated",
          "Release year",
          "partner",
          "designed",
          "designed",
          "designed",
          "designed",
          "designed",
          "designed",
          "designed",
          "designed",
          "designed",
          "designed",
          "partner",
          "designed",
          "designed",
          "designed",
          "designed",
          "designed",
          "designed",
          "designed",
          "designed",
          "designed",
          "designed",
          "artist of",
          "artist of",
          "artist of",
          "artist of",
          "artist of",
          "artist of",
          "artist of",
          "artist of",
          "artist of",
          "artist of"
         ],
         "textfont": {
          "color": "black",
          "family": "Arial",
          "size": 10
         },
         "textposition": "middle center",
         "type": "scatter",
         "x": [
          -0.05072280643875767,
          -0.04998728412656126,
          0.018695437363850535,
          0.02179013465527921,
          0.47532607106902164,
          0.33610397242218976,
          0.12200940963128773,
          -0.3966040545785345,
          -0.4458981725793866,
          -0.170410136321199,
          0.4933786616920899,
          -0.31627600323946425,
          -0.1661636281007482,
          -0.06938532930480792,
          0.40150576145996864,
          -0.4499941689618421,
          0.25177766454446643,
          0.2988944444891605,
          -0.050162576399227256,
          0.48070169979485383,
          -0.12663368606947226,
          -0.32286232676989696,
          0.3503715355772756,
          0.5155692184205267,
          -0.44275890321819433,
          0.4809048959355773,
          0.4924707942275122,
          0.4517474792406757,
          -0.16647677358157287,
          -0.5331603635494361,
          0.057933766100678866,
          -0.42613059833517586,
          0.337671085640835,
          -0.4234694932208379,
          -0.5224817835024985,
          0.007263845632896421,
          0.09646511233303202,
          -0.503926370067783,
          -0.07964573939517813,
          -0.16647677358157287,
          -0.5324248412372397,
          0.058669288412875276,
          -0.42539507602297943,
          0.3384066079530314,
          -0.42273397090864145,
          -0.5217462611903021,
          0.00799936794509283,
          0.09720063464522843,
          -0.5031908477555865,
          -0.07891021708298172,
          0.06434763034810018,
          0.28660770774485483,
          -0.27379974171841215,
          0.3836247158143189,
          -0.2891545691960283,
          0.3958930841187132,
          -0.49041790320896284,
          -0.41764729440854353,
          -0.11558834817708817,
          0.2221368524386889
         ],
         "y": [
          0.00349660575598126,
          0.001789731820690985,
          -0.0006267516935564484,
          -0.4579768923836174,
          0.2580367609341239,
          0.4277036306573262,
          0.4933383040507711,
          -0.24554200936109458,
          -0.11867339501488405,
          -0.3989570286736988,
          -0.11969544655396588,
          0.29198633574730026,
          0.45329782077043845,
          0.50890358240011,
          -0.3059277878913593,
          0.17056394188570595,
          0.4256557115892076,
          -0.41498304800432523,
          -0.464204875012025,
          0.1937589427817304,
          -0.4565059041173489,
          -0.27282046864393367,
          0.34588994545362695,
          -0.030121455511043407,
          0.09490044542778876,
          0.12913955900551347,
          0.059048077192122135,
          -0.019158705959398892,
          -0.012520827223547732,
          0.2351416578580555,
          0.4304996246210623,
          0.3985296161597193,
          -0.2561807036642744,
          -0.35677066412255226,
          0.02221294137366807,
          -0.43927700110936696,
          -0.44909392158237743,
          -0.17573485061981414,
          0.46179258977689275,
          -0.012520827223547732,
          0.23343478392276523,
          0.428792750685772,
          0.39682274222442904,
          -0.2578875775995647,
          -0.35847753805784255,
          0.020506067438377795,
          -0.44098387504465725,
          -0.4508007955176677,
          -0.17744172455510443,
          0.46008571584160246,
          -0.49571699626053384,
          -0.36934329821286116,
          0.4385710814283381,
          0.3154040642177699,
          -0.41246633609516536,
          -0.1944100781475456,
          -0.0493833251843713,
          0.31940117691366904,
          0.4309920003185722,
          -0.3154595868960531
         ]
        },
        {
         "hoverinfo": "none",
         "mode": "text",
         "showlegend": false,
         "text": [
          "Rajas of the Ganges (game)",
          "Inka Brand (designer)",
          "Markus Brand (designer)",
          "Andor Junior: Die Fährtenleserin Fennah / Der Fährtenleser Fenn (2020) (game)",
          "Andor: The Family Fantasy Game (2020) (game)",
          "Andor: The Family Fantasy Game – The Danger in the Shadows (2022) (game)",
          "Bibi & Tina: Das Spiel zum Film (2013) (game)",
          "Bitte nicht öffnen: Bissig! (2022) (game)",
          "Black Stories: Das Spiel (2022) (game)",
          "Blitzed! (2013) (game)",
          "La Boca (2013) (game)",
          "Bravo! (2019) (game)",
          "Burgenland (2014) (game)",
          "Dennis Lohausen (artist)",
          "100! (2014) (game)",
          "1001 Karawane (2007) (game)",
          "1001 Karawane: Sonderchips (2007) (game)",
          "112: Brandgefährlich (2017) (game)",
          "15 (2011) (game)",
          "The Academy (2023) (game)",
          "Adventure Land (2023) (game)",
          "Agent DOG (2024) (game)",
          "Albion (2009) (game)",
          "All Change! (and Chameleon) (2017) (game)",
          "HUCH! (publisher)",
          "999 Games (publisher)",
          "Devir (publisher)",
          "Dice Realm (publisher)",
          "DV Games (publisher)",
          "Egmont Polska (publisher)",
          "Fabrika Igr (publisher)",
          "Game Harbor (publisher)",
          "HOT Games (publisher)",
          "nostalgia (III) (publisher)",
          "R&R Games (publisher)",
          "India (country)",
          "Hinduism (religion)",
          "Ganges (alternative name)",
          "I Ragià del Gange (alternative name)",
          "Raja's van de Ganges (alternative name)",
          "Раджи Ганга (alternative name)",
          "ガンジスの藩王 (alternative name)",
          "갠지스의 라자 (alternative name)",
          "2019 - MinD-Spielepreis Complex Game Nominee (award)",
          "2018 - Juego del Año Recommended (award)",
          "2018 - International Gamers Award - General Strategy: Multi-player Winner (award)",
          "2018 - International Gamers Award - General Strategy: Multi-player Nominee (award)",
          "2017 - Meeples Choice Award Nominee (award)",
          "2017 (year)"
         ],
         "textfont": {
          "color": "black",
          "family": "Arial",
          "size": 10
         },
         "textposition": "bottom center",
         "type": "scatter",
         "x": [
          0.06576668301625392,
          -0.16721229589376926,
          -0.16574125126937644,
          -0.899108431205103,
          0.283079828095127,
          -0.6850489007765824,
          0.8425544671754392,
          -0.6797266905479065,
          -0.8777512711112279,
          0.1817399871595621,
          0.3601425205598333,
          -0.8406404442417966,
          0.007920817103412988,
          -0.028375808288552854,
          0.1570710689847532,
          0.6015912237782626,
          -0.5192236751482714,
          0.7956252399171907,
          -0.5499333301035036,
          0.8201619765259793,
          -0.9524599981293728,
          -0.8069187805285342,
          -0.2028008880656235,
          0.4726495131659306,
          -0.0221864137056955,
          0.8848854591217894,
          0.6064412618281256,
          0.17825213624632155,
          -0.8589747921733228,
          -0.957563028175027,
          -0.40658695565865194,
          0.9209906403679259,
          -0.6983186894951824,
          -0.3980939392177503,
          -0.20453734162586978,
          0.7372448399036834,
          -0.965755020939938,
          0.437788646072679,
          0.5320222059620672,
          -0.16609183581470843,
          0.8956367165734538,
          -0.31903405515519845,
          -0.7114913365560478,
          0.6349763881382973,
          0.9653717538247995,
          -0.9512844894526425,
          0.8960431088549007,
          0.9191749054387706,
          0.8377282754650975
         ],
         "y": [
          0.06780716480021998,
          0.03918604671174254,
          0.035772298841161995,
          0.5310972690043685,
          0.921813202530382,
          0.8578731856076961,
          -0.45154745404029145,
          -0.6527273749568471,
          0.1052398360355936,
          -0.8177400489304765,
          -0.8373738898764974,
          -0.29065574795137084,
          0.984399132842043,
          0.03093933181266713,
          -0.9223733243337348,
          -0.6696259282383894,
          0.9462028310440092,
          0.6998687966228727,
          -0.7558720040029978,
          -0.31975948810775834,
          -0.029705982181409726,
          0.707863022014671,
          0.9310446688244773,
          -0.5618585056047732,
          -0.8837609495674547,
          0.548266357068028,
          0.8876000965144325,
          1.0188694433013223,
          -0.45889118352240915,
          -0.2051539548299881,
          -0.7657212221476175,
          -0.20719805790815177,
          0.6161655066943806,
          0.938788476740657,
          1.05,
          -0.5796627405829385,
          0.3733207189711919,
          0.8835042583781954,
          -0.7977732608088703,
          -0.8962169148242699,
          0.4197107207632408,
          -0.8808189730349177,
          -0.5134481020880872,
          0.723972726107034,
          -0.028050075822306786,
          0.22199372605535755,
          0.29047195321080693,
          0.1502889895840243,
          -0.006124576719017755
         ]
        }
       ],
       "layout": {
        "hovermode": "closest",
        "plot_bgcolor": "white",
        "showlegend": false,
        "template": {
         "data": {
          "bar": [
           {
            "error_x": {
             "color": "#2a3f5f"
            },
            "error_y": {
             "color": "#2a3f5f"
            },
            "marker": {
             "line": {
              "color": "#E5ECF6",
              "width": 0.5
             },
             "pattern": {
              "fillmode": "overlay",
              "size": 10,
              "solidity": 0.2
             }
            },
            "type": "bar"
           }
          ],
          "barpolar": [
           {
            "marker": {
             "line": {
              "color": "#E5ECF6",
              "width": 0.5
             },
             "pattern": {
              "fillmode": "overlay",
              "size": 10,
              "solidity": 0.2
             }
            },
            "type": "barpolar"
           }
          ],
          "carpet": [
           {
            "aaxis": {
             "endlinecolor": "#2a3f5f",
             "gridcolor": "white",
             "linecolor": "white",
             "minorgridcolor": "white",
             "startlinecolor": "#2a3f5f"
            },
            "baxis": {
             "endlinecolor": "#2a3f5f",
             "gridcolor": "white",
             "linecolor": "white",
             "minorgridcolor": "white",
             "startlinecolor": "#2a3f5f"
            },
            "type": "carpet"
           }
          ],
          "choropleth": [
           {
            "colorbar": {
             "outlinewidth": 0,
             "ticks": ""
            },
            "type": "choropleth"
           }
          ],
          "contour": [
           {
            "colorbar": {
             "outlinewidth": 0,
             "ticks": ""
            },
            "colorscale": [
             [
              0,
              "#0d0887"
             ],
             [
              0.1111111111111111,
              "#46039f"
             ],
             [
              0.2222222222222222,
              "#7201a8"
             ],
             [
              0.3333333333333333,
              "#9c179e"
             ],
             [
              0.4444444444444444,
              "#bd3786"
             ],
             [
              0.5555555555555556,
              "#d8576b"
             ],
             [
              0.6666666666666666,
              "#ed7953"
             ],
             [
              0.7777777777777778,
              "#fb9f3a"
             ],
             [
              0.8888888888888888,
              "#fdca26"
             ],
             [
              1,
              "#f0f921"
             ]
            ],
            "type": "contour"
           }
          ],
          "contourcarpet": [
           {
            "colorbar": {
             "outlinewidth": 0,
             "ticks": ""
            },
            "type": "contourcarpet"
           }
          ],
          "heatmap": [
           {
            "colorbar": {
             "outlinewidth": 0,
             "ticks": ""
            },
            "colorscale": [
             [
              0,
              "#0d0887"
             ],
             [
              0.1111111111111111,
              "#46039f"
             ],
             [
              0.2222222222222222,
              "#7201a8"
             ],
             [
              0.3333333333333333,
              "#9c179e"
             ],
             [
              0.4444444444444444,
              "#bd3786"
             ],
             [
              0.5555555555555556,
              "#d8576b"
             ],
             [
              0.6666666666666666,
              "#ed7953"
             ],
             [
              0.7777777777777778,
              "#fb9f3a"
             ],
             [
              0.8888888888888888,
              "#fdca26"
             ],
             [
              1,
              "#f0f921"
             ]
            ],
            "type": "heatmap"
           }
          ],
          "heatmapgl": [
           {
            "colorbar": {
             "outlinewidth": 0,
             "ticks": ""
            },
            "colorscale": [
             [
              0,
              "#0d0887"
             ],
             [
              0.1111111111111111,
              "#46039f"
             ],
             [
              0.2222222222222222,
              "#7201a8"
             ],
             [
              0.3333333333333333,
              "#9c179e"
             ],
             [
              0.4444444444444444,
              "#bd3786"
             ],
             [
              0.5555555555555556,
              "#d8576b"
             ],
             [
              0.6666666666666666,
              "#ed7953"
             ],
             [
              0.7777777777777778,
              "#fb9f3a"
             ],
             [
              0.8888888888888888,
              "#fdca26"
             ],
             [
              1,
              "#f0f921"
             ]
            ],
            "type": "heatmapgl"
           }
          ],
          "histogram": [
           {
            "marker": {
             "pattern": {
              "fillmode": "overlay",
              "size": 10,
              "solidity": 0.2
             }
            },
            "type": "histogram"
           }
          ],
          "histogram2d": [
           {
            "colorbar": {
             "outlinewidth": 0,
             "ticks": ""
            },
            "colorscale": [
             [
              0,
              "#0d0887"
             ],
             [
              0.1111111111111111,
              "#46039f"
             ],
             [
              0.2222222222222222,
              "#7201a8"
             ],
             [
              0.3333333333333333,
              "#9c179e"
             ],
             [
              0.4444444444444444,
              "#bd3786"
             ],
             [
              0.5555555555555556,
              "#d8576b"
             ],
             [
              0.6666666666666666,
              "#ed7953"
             ],
             [
              0.7777777777777778,
              "#fb9f3a"
             ],
             [
              0.8888888888888888,
              "#fdca26"
             ],
             [
              1,
              "#f0f921"
             ]
            ],
            "type": "histogram2d"
           }
          ],
          "histogram2dcontour": [
           {
            "colorbar": {
             "outlinewidth": 0,
             "ticks": ""
            },
            "colorscale": [
             [
              0,
              "#0d0887"
             ],
             [
              0.1111111111111111,
              "#46039f"
             ],
             [
              0.2222222222222222,
              "#7201a8"
             ],
             [
              0.3333333333333333,
              "#9c179e"
             ],
             [
              0.4444444444444444,
              "#bd3786"
             ],
             [
              0.5555555555555556,
              "#d8576b"
             ],
             [
              0.6666666666666666,
              "#ed7953"
             ],
             [
              0.7777777777777778,
              "#fb9f3a"
             ],
             [
              0.8888888888888888,
              "#fdca26"
             ],
             [
              1,
              "#f0f921"
             ]
            ],
            "type": "histogram2dcontour"
           }
          ],
          "mesh3d": [
           {
            "colorbar": {
             "outlinewidth": 0,
             "ticks": ""
            },
            "type": "mesh3d"
           }
          ],
          "parcoords": [
           {
            "line": {
             "colorbar": {
              "outlinewidth": 0,
              "ticks": ""
             }
            },
            "type": "parcoords"
           }
          ],
          "pie": [
           {
            "automargin": true,
            "type": "pie"
           }
          ],
          "scatter": [
           {
            "fillpattern": {
             "fillmode": "overlay",
             "size": 10,
             "solidity": 0.2
            },
            "type": "scatter"
           }
          ],
          "scatter3d": [
           {
            "line": {
             "colorbar": {
              "outlinewidth": 0,
              "ticks": ""
             }
            },
            "marker": {
             "colorbar": {
              "outlinewidth": 0,
              "ticks": ""
             }
            },
            "type": "scatter3d"
           }
          ],
          "scattercarpet": [
           {
            "marker": {
             "colorbar": {
              "outlinewidth": 0,
              "ticks": ""
             }
            },
            "type": "scattercarpet"
           }
          ],
          "scattergeo": [
           {
            "marker": {
             "colorbar": {
              "outlinewidth": 0,
              "ticks": ""
             }
            },
            "type": "scattergeo"
           }
          ],
          "scattergl": [
           {
            "marker": {
             "colorbar": {
              "outlinewidth": 0,
              "ticks": ""
             }
            },
            "type": "scattergl"
           }
          ],
          "scattermapbox": [
           {
            "marker": {
             "colorbar": {
              "outlinewidth": 0,
              "ticks": ""
             }
            },
            "type": "scattermapbox"
           }
          ],
          "scatterpolar": [
           {
            "marker": {
             "colorbar": {
              "outlinewidth": 0,
              "ticks": ""
             }
            },
            "type": "scatterpolar"
           }
          ],
          "scatterpolargl": [
           {
            "marker": {
             "colorbar": {
              "outlinewidth": 0,
              "ticks": ""
             }
            },
            "type": "scatterpolargl"
           }
          ],
          "scatterternary": [
           {
            "marker": {
             "colorbar": {
              "outlinewidth": 0,
              "ticks": ""
             }
            },
            "type": "scatterternary"
           }
          ],
          "surface": [
           {
            "colorbar": {
             "outlinewidth": 0,
             "ticks": ""
            },
            "colorscale": [
             [
              0,
              "#0d0887"
             ],
             [
              0.1111111111111111,
              "#46039f"
             ],
             [
              0.2222222222222222,
              "#7201a8"
             ],
             [
              0.3333333333333333,
              "#9c179e"
             ],
             [
              0.4444444444444444,
              "#bd3786"
             ],
             [
              0.5555555555555556,
              "#d8576b"
             ],
             [
              0.6666666666666666,
              "#ed7953"
             ],
             [
              0.7777777777777778,
              "#fb9f3a"
             ],
             [
              0.8888888888888888,
              "#fdca26"
             ],
             [
              1,
              "#f0f921"
             ]
            ],
            "type": "surface"
           }
          ],
          "table": [
           {
            "cells": {
             "fill": {
              "color": "#EBF0F8"
             },
             "line": {
              "color": "white"
             }
            },
            "header": {
             "fill": {
              "color": "#C8D4E3"
             },
             "line": {
              "color": "white"
             }
            },
            "type": "table"
           }
          ]
         },
         "layout": {
          "annotationdefaults": {
           "arrowcolor": "#2a3f5f",
           "arrowhead": 0,
           "arrowwidth": 1
          },
          "autotypenumbers": "strict",
          "coloraxis": {
           "colorbar": {
            "outlinewidth": 0,
            "ticks": ""
           }
          },
          "colorscale": {
           "diverging": [
            [
             0,
             "#8e0152"
            ],
            [
             0.1,
             "#c51b7d"
            ],
            [
             0.2,
             "#de77ae"
            ],
            [
             0.3,
             "#f1b6da"
            ],
            [
             0.4,
             "#fde0ef"
            ],
            [
             0.5,
             "#f7f7f7"
            ],
            [
             0.6,
             "#e6f5d0"
            ],
            [
             0.7,
             "#b8e186"
            ],
            [
             0.8,
             "#7fbc41"
            ],
            [
             0.9,
             "#4d9221"
            ],
            [
             1,
             "#276419"
            ]
           ],
           "sequential": [
            [
             0,
             "#0d0887"
            ],
            [
             0.1111111111111111,
             "#46039f"
            ],
            [
             0.2222222222222222,
             "#7201a8"
            ],
            [
             0.3333333333333333,
             "#9c179e"
            ],
            [
             0.4444444444444444,
             "#bd3786"
            ],
            [
             0.5555555555555556,
             "#d8576b"
            ],
            [
             0.6666666666666666,
             "#ed7953"
            ],
            [
             0.7777777777777778,
             "#fb9f3a"
            ],
            [
             0.8888888888888888,
             "#fdca26"
            ],
            [
             1,
             "#f0f921"
            ]
           ],
           "sequentialminus": [
            [
             0,
             "#0d0887"
            ],
            [
             0.1111111111111111,
             "#46039f"
            ],
            [
             0.2222222222222222,
             "#7201a8"
            ],
            [
             0.3333333333333333,
             "#9c179e"
            ],
            [
             0.4444444444444444,
             "#bd3786"
            ],
            [
             0.5555555555555556,
             "#d8576b"
            ],
            [
             0.6666666666666666,
             "#ed7953"
            ],
            [
             0.7777777777777778,
             "#fb9f3a"
            ],
            [
             0.8888888888888888,
             "#fdca26"
            ],
            [
             1,
             "#f0f921"
            ]
           ]
          },
          "colorway": [
           "#636efa",
           "#EF553B",
           "#00cc96",
           "#ab63fa",
           "#FFA15A",
           "#19d3f3",
           "#FF6692",
           "#B6E880",
           "#FF97FF",
           "#FECB52"
          ],
          "font": {
           "color": "#2a3f5f"
          },
          "geo": {
           "bgcolor": "white",
           "lakecolor": "white",
           "landcolor": "#E5ECF6",
           "showlakes": true,
           "showland": true,
           "subunitcolor": "white"
          },
          "hoverlabel": {
           "align": "left"
          },
          "hovermode": "closest",
          "mapbox": {
           "style": "light"
          },
          "paper_bgcolor": "white",
          "plot_bgcolor": "#E5ECF6",
          "polar": {
           "angularaxis": {
            "gridcolor": "white",
            "linecolor": "white",
            "ticks": ""
           },
           "bgcolor": "#E5ECF6",
           "radialaxis": {
            "gridcolor": "white",
            "linecolor": "white",
            "ticks": ""
           }
          },
          "scene": {
           "xaxis": {
            "backgroundcolor": "#E5ECF6",
            "gridcolor": "white",
            "gridwidth": 2,
            "linecolor": "white",
            "showbackground": true,
            "ticks": "",
            "zerolinecolor": "white"
           },
           "yaxis": {
            "backgroundcolor": "#E5ECF6",
            "gridcolor": "white",
            "gridwidth": 2,
            "linecolor": "white",
            "showbackground": true,
            "ticks": "",
            "zerolinecolor": "white"
           },
           "zaxis": {
            "backgroundcolor": "#E5ECF6",
            "gridcolor": "white",
            "gridwidth": 2,
            "linecolor": "white",
            "showbackground": true,
            "ticks": "",
            "zerolinecolor": "white"
           }
          },
          "shapedefaults": {
           "line": {
            "color": "#2a3f5f"
           }
          },
          "ternary": {
           "aaxis": {
            "gridcolor": "white",
            "linecolor": "white",
            "ticks": ""
           },
           "baxis": {
            "gridcolor": "white",
            "linecolor": "white",
            "ticks": ""
           },
           "bgcolor": "#E5ECF6",
           "caxis": {
            "gridcolor": "white",
            "linecolor": "white",
            "ticks": ""
           }
          },
          "title": {
           "x": 0.05
          },
          "xaxis": {
           "automargin": true,
           "gridcolor": "white",
           "linecolor": "white",
           "ticks": "",
           "title": {
            "standoff": 15
           },
           "zerolinecolor": "white",
           "zerolinewidth": 2
          },
          "yaxis": {
           "automargin": true,
           "gridcolor": "white",
           "linecolor": "white",
           "ticks": "",
           "title": {
            "standoff": 15
           },
           "zerolinecolor": "white",
           "zerolinewidth": 2
          }
         }
        },
        "title": {
         "font": {
          "size": 16
         },
         "text": "Interactive Network Graph of Rajas of the Ganges"
        },
        "xaxis": {
         "showgrid": false,
         "zeroline": false
        },
        "yaxis": {
         "showgrid": false,
         "zeroline": false
        }
       }
      }
     },
     "metadata": {},
     "output_type": "display_data"
    }
   ],
   "source": [
    "\n",
    "# Generar posiciones de los nodos con un layout de NetworkX\n",
    "pos = nx.spring_layout(G, seed=42)  # Layout basado en fuerzas para distribuir los nodos\n",
    "\n",
    "# Extraer las coordenadas de los nodos\n",
    "x_nodes = [pos[node][0] for node in G.nodes]\n",
    "y_nodes = [pos[node][1] for node in G.nodes]\n",
    "\n",
    "# Extraer las relaciones (aristas)\n",
    "edge_x = []\n",
    "edge_y = []\n",
    "edge_labels = []  # Aquí guardaremos las etiquetas de las aristas\n",
    "edge_midpoints = []  # Para almacenar las posiciones medias de las aristas\n",
    "for edge in G.edges():\n",
    "    x0, y0 = pos[edge[0]]\n",
    "    x1, y1 = pos[edge[1]]\n",
    "    edge_x.append(x0)\n",
    "    edge_x.append(x1)\n",
    "    edge_y.append(y0)\n",
    "    edge_y.append(y1)\n",
    "    \n",
    "    # Guardamos la relación como etiqueta\n",
    "    edge_labels.append(G[edge[0]][edge[1]]['relationship'])  \n",
    "    \n",
    "    # Calculamos los puntos medios de las aristas\n",
    "    mid_x = (x0 + x1) / 2\n",
    "    mid_y = (y0 + y1) / 2\n",
    "    edge_midpoints.append((mid_x, mid_y))\n",
    "\n",
    "# Crear el gráfico interactivo con Plotly\n",
    "edge_trace = go.Scatter(\n",
    "    x=edge_x, y=edge_y,\n",
    "    line=dict(width=0.5, color='gray'),\n",
    "    hoverinfo='none', mode='lines')\n",
    "\n",
    "node_trace = go.Scatter(\n",
    "    x=x_nodes, y=y_nodes,\n",
    "    mode='markers',\n",
    "    hoverinfo='text',\n",
    "    marker=dict(\n",
    "        showscale=True,\n",
    "        colorscale='YlGnBu',\n",
    "        size=20,\n",
    "        colorbar=dict(thickness=15, title='Node Connections', xanchor='left', titleside='right')\n",
    "    ))\n",
    "\n",
    "# Añadir información sobre los nodos (nombre, tipo, etc.)\n",
    "node_text = []\n",
    "for node in G.nodes():\n",
    "    node_info = f'{node} ({G.nodes[node].get(\"type\", \"unknown\")})'\n",
    "    node_text.append(node_info)\n",
    "\n",
    "node_trace.marker.color = np.arange(len(G.nodes))  # Colores por nodo\n",
    "node_trace.text = node_text  # Información que aparece al pasar el ratón por encima\n",
    "\n",
    "# Añadir las etiquetas de las relaciones (aristas) en el punto medio de cada arista\n",
    "edge_trace_text = go.Scatter(\n",
    "    x=[mid[0] for mid in edge_midpoints], y=[mid[1] for mid in edge_midpoints],\n",
    "    mode='text',\n",
    "    text=edge_labels,\n",
    "    textposition='middle center',\n",
    "    hoverinfo='none',\n",
    "    showlegend=False,\n",
    "    textfont=dict(size=10, color=\"black\", family=\"Arial\")\n",
    ")\n",
    "\n",
    "# Crear el layout interactivo\n",
    "layout = go.Layout(\n",
    "    title='Interactive Network Graph of Rajas of the Ganges',\n",
    "    titlefont_size=16,\n",
    "    showlegend=False,\n",
    "    hovermode='closest',\n",
    "    xaxis=dict(showgrid=False, zeroline=False),\n",
    "    yaxis=dict(showgrid=False, zeroline=False),\n",
    "    plot_bgcolor='white'\n",
    ")\n",
    "# Añadir las etiquetas de los nodos (nombre de la entidad) sobre los nodos\n",
    "node_trace_text = go.Scatter(\n",
    "    x=x_nodes, y=[y + 0.05 for y in y_nodes],  # Ajuste de posición para que el texto esté encima de los nodos\n",
    "    mode='text',\n",
    "    text=node_text,\n",
    "    textposition='bottom center',  # Asegura que el texto esté por encima del nodo\n",
    "    hoverinfo='none',\n",
    "    showlegend=False,\n",
    "    textfont=dict(size=10, color=\"black\", family=\"Arial\")\n",
    ")\n",
    "\n",
    "# Crear la figura de Plotly con los cambios\n",
    "fig = go.Figure(data=[edge_trace, node_trace, edge_trace_text, node_trace_text], layout=layout)\n",
    "\n",
    "# Mostrar el gráfico interactivo\n",
    "fig.show()"
   ]
  },
  {
   "cell_type": "markdown",
   "metadata": {},
   "source": [
    "### Crear grafo RDF"
   ]
  },
  {
   "cell_type": "code",
   "execution_count": 19,
   "metadata": {},
   "outputs": [
    {
     "data": {
      "text/plain": [
       "<Graph identifier=N77159db4b47a4edd8a9080607682ccf1 (<class 'rdflib.graph.Graph'>)>"
      ]
     },
     "execution_count": 19,
     "metadata": {},
     "output_type": "execute_result"
    }
   ],
   "source": [
    "# Crear un grafo RDF vacío\n",
    "g = rdflib.Graph()\n",
    "\n",
    "# Definir los prefijos\n",
    "ex = rdflib.Namespace(\"http://wiki_rajas.org/\")\n",
    "g.bind(\"ex\", ex)\n",
    "\n",
    "# Función para codificar los nombres a formato URI válido\n",
    "def encode_to_uri(name):\n",
    "    return urllib.parse.quote(name.replace(\" \", \"_\"))\n",
    "\n",
    "# Crear el nodo principal (el juego)\n",
    "game_node = encode_to_uri(\"Rajas of the Ganges\")\n",
    "g.add((ex[game_node], rdflib.RDF.type, ex.Game))\n",
    "\n",
    "# Añadir los diseñadores y sus relaciones con el juego\n",
    "for designer in dict_desingers:\n",
    "    designer_node = encode_to_uri(designer['Name'])\n",
    "    g.add((ex[designer_node], rdflib.RDF.type, ex.Designer))\n",
    "    g.add((ex[game_node], ex.designedBy, ex[designer_node]))  # Relación: juego -> diseñador\n",
    "    \n",
    "    if designer['Partner']:\n",
    "        partner_node = encode_to_uri(designer['Partner'])\n",
    "        g.add((ex[designer_node], ex.partner, ex[partner_node]))  # Relación: diseñador -> pareja\n",
    "\n",
    "# Añadir los artistas y sus relaciones con el juego\n",
    "for artist in dict_artist:\n",
    "    artist_node = encode_to_uri(artist['Name'])\n",
    "    g.add((ex[artist_node], rdflib.RDF.type, ex.Artist))\n",
    "    g.add((ex[game_node], ex.artBy, ex[artist_node]))  # Relación: juego -> artista\n",
    "\n",
    "# Añadir los publicadores\n",
    "for publisher in dict_publishers:\n",
    "    publisher_node = encode_to_uri(publisher['Name'])\n",
    "    g.add((ex[publisher_node], rdflib.RDF.type, ex.Publisher))\n",
    "    g.add((ex[game_node], ex.publishedBy, ex[publisher_node]))  # Relación: juego -> publicador\n",
    "\n",
    "# Añadir el país\n",
    "country_node = encode_to_uri(country['Name'])\n",
    "g.add((ex[country_node], rdflib.RDF.type, ex.Country))\n",
    "g.add((ex[game_node], ex.setIn, ex[country_node]))  # Relación: juego -> país\n",
    "\n",
    "# Añadir la religión\n",
    "religion_node = encode_to_uri(religion['Name'])\n",
    "g.add((ex[religion_node], rdflib.RDF.type, ex.Religion))\n",
    "g.add((ex[game_node], ex.religionAssociatedWith, ex[religion_node]))  # Relación: juego -> religión\n",
    "\n",
    "# Añadir los nombres alternativos\n",
    "for alt_name in dict_alternative_names:\n",
    "    alt_name_node = encode_to_uri(alt_name['Alternative Name'])\n",
    "    g.add((ex[alt_name_node], rdflib.RDF.type, ex.AlternativeName))\n",
    "    g.add((ex[game_node], ex.alsoKnownAs, ex[alt_name_node]))  # Relación: juego -> nombre alternativo\n",
    "\n",
    "# Añadir premios\n",
    "for award in dict_awards:\n",
    "    award_node = encode_to_uri(f\"{award['Year']} - {award['Prize']}\")\n",
    "    g.add((ex[award_node], rdflib.RDF.type, ex.Award))\n",
    "    g.add((ex[game_node], ex.awardedOrNominated, ex[award_node]))  # Relación: juego -> premio\n",
    "\n",
    "release_year_literal = rdflib.Literal(2017)\n",
    "g.add((ex[game_node], ex.Release_year, release_year_literal))\n",
    "g.add((ex[release_year_literal], rdflib.RDF.type, ex.Release_year ))\n",
    "g.add((ex[game_node], ex.Release_year, ex[release_year_literal]))\n",
    "\n",
    "# Serializar y exportar el grafo a RDF/XML\n",
    "#rdf_output = g.serialize(format='xml')\n",
    "# print(rdf_output)\n",
    "\n",
    "# # Guardar el RDF en un archivo\n",
    "# with open(\"database/graph_db.rdf\", \"w\") as file:\n",
    "#     file.write(rdf_output)"
   ]
  },
  {
   "cell_type": "markdown",
   "metadata": {},
   "source": [
    "Probamos que funcione"
   ]
  },
  {
   "cell_type": "code",
   "execution_count": 19,
   "metadata": {},
   "outputs": [
    {
     "name": "stdout",
     "output_type": "stream",
     "text": [
      "\n",
      "2017\n"
     ]
    }
   ],
   "source": [
    "query = \"\"\"\n",
    "    SELECT (STRAFTER(STR(?Year), \"http://wiki_rajas.org/\") AS ?name)\n",
    "    WHERE {\n",
    "        ?game a <http://wiki_rajas.org/Game> .\n",
    "        ?game <http://wiki_rajas.org/Release_year> ?Year .\n",
    "    }\n",
    "\"\"\"\n",
    "\n",
    "# Ejecutar consulta y mostrar resultados\n",
    "results = g.query(query)\n",
    "for row in results:\n",
    "    print(row.name)"
   ]
  },
  {
   "cell_type": "markdown",
   "metadata": {},
   "source": [
    "# Parte 2: Base de datos vectorial."
   ]
  },
  {
   "cell_type": "markdown",
   "metadata": {},
   "source": [
    "La base de datos vectorial tendrá el fin de almacenar:\n",
    "- Reglas del juego generales.\n",
    "- Información sobre las casillas.\n",
    "- Información sobre el objetivo, juego en general.\n",
    "- Opiniones."
   ]
  },
  {
   "cell_type": "markdown",
   "metadata": {},
   "source": [
    "## Primero debemos extraer la información."
   ]
  },
  {
   "cell_type": "markdown",
   "metadata": {},
   "source": [
    "**Para la información de las reglas**\n",
    "Tenemos 3 fuentes de datos:\n",
    "- El documento en español del manual original del juego.\n",
    "- PDF de reglas resumidas tanto para el modo normal como nirvana.\n",
    "\n",
    "**Información de casillas**\n",
    "- El documento en español del manual original del juego.\n",
    "\n",
    "**Información sobre el objetivo, juego en general**\n",
    "- El documento en español del manual original del juego.\n",
    "\n",
    "**Opiniones**\n",
    "- Foro de opiniones de usuarios.\n",
    "- Video."
   ]
  },
  {
   "cell_type": "markdown",
   "metadata": {},
   "source": [
    "### Fuente: documento en español del manual del juego."
   ]
  },
  {
   "cell_type": "code",
   "execution_count": 34,
   "metadata": {},
   "outputs": [],
   "source": [
    "def limpiar_texto(texto):\n",
    "    # Eliminar caracteres no codificados (\\uXXXX, \\xXX, etc.)\n",
    "    texto = re.sub(r'\\\\u[0-9a-fA-F]{4}|\\\\x[0-9a-fA-F]{2}', '', texto)\n",
    "    # Eliminar caracteres no alfanuméricos (excepto básicos como espacios, puntuación común)\n",
    "    texto = re.sub(r'[^a-zA-Z0-9áéíóúüñÁÉÍÓÚÜÑ\\s.,;!?()-]', '', texto)\n",
    "    # Eliminar espacios múltiples\n",
    "    texto = re.sub(r'\\s+', ' ', texto)\n",
    "    # Quitar espacios iniciales y finales\n",
    "    texto = texto.strip()\n",
    "    return texto\n",
    "\n",
    "# 1. Extraer texto del PDF\n",
    "def extract_text_with_pypdf2(pdf_path):\n",
    "    full_text = \"\"\n",
    "    with open(pdf_path, \"rb\") as pdf_file:\n",
    "        reader = PyPDF2.PdfReader(pdf_file)\n",
    "        for page in reader.pages:\n",
    "            text = page.extract_text()\n",
    "            text = limpiar_texto(text)\n",
    "            if text:\n",
    "                full_text +=  text.replace(\"\\n\", \" \")\n",
    "    return full_text\n",
    "\n",
    "#  Dividir texto en secciones usando los títulos del indice\n",
    "def split_into_sections_auto(full_text, titles):\n",
    "    sections = {title: \"\" for title in titles}\n",
    "    pattern = \"|\".join(re.escape(title) for title in titles)\n",
    "    split_text = re.split(f\"({pattern})\", full_text)\n",
    "    \n",
    "    current_section = None\n",
    "    for fragment in split_text:\n",
    "        fragment = fragment.strip()\n",
    "        if fragment in titles:\n",
    "            current_section = fragment\n",
    "        elif current_section:\n",
    "            sections[current_section] += fragment + \" \"\n",
    "    return sections\n"
   ]
  },
  {
   "cell_type": "code",
   "execution_count": 35,
   "metadata": {},
   "outputs": [],
   "source": [
    "# 2. Procesar el texto en vectores\n",
    "def process_text_to_vectors(text_segments, model):\n",
    "    embeddings = model.encode(text_segments, convert_to_tensor=False)\n",
    "    return [{\"text\": text, \"embedding\": embedding.tolist()} for text, embedding in zip(text_segments, embeddings)]\n"
   ]
  },
  {
   "cell_type": "code",
   "execution_count": 22,
   "metadata": {},
   "outputs": [
    {
     "name": "stdout",
     "output_type": "stream",
     "text": [
      "Indice: OBJETIVO DEL JUEGO. Largo de seccion: 1054\n",
      "Indice: SETUP. Largo de seccion: 1727\n",
      "Indice: TRANSCURSO DEL JUEGO. Largo de seccion: 3199\n",
      "Indice: ACCIÓN CONSTRUIR (CANTERA). Largo de seccion: 1337\n",
      "Indice: TABLERO DE PROVINCIA. Largo de seccion: 1441\n",
      "Indice: Las mejoras de edificios. Largo de seccion: 2481\n",
      "Indice: ACCIÓN DE MERCADO (MERCADO). Largo de seccion: 1508\n",
      "Indice: ACCIÓN DE PALACIO. Largo de seccion: 2069\n",
      "Indice: ACCIÓN DE RÍO (Puerto). Largo de seccion: 1564\n",
      "Indice: Karma. Largo de seccion: 7770\n",
      "Indice: Obtener nuevos trabajadores.. Largo de seccion: 1486\n",
      "Indice: Bonos en los tracks de puntuación.. Largo de seccion: 2208\n",
      "Indice: FIN DE RONDA. Largo de seccion: 1\n",
      "Indice: FINAL DE PARTIDA. Largo de seccion: 1\n",
      "Indice: NOTAS. Largo de seccion: 5346\n",
      "Indice: VERSIÓN NAVARATNAS. Largo de seccion: 0\n",
      "Indice: EL MÓDULO GANGA. Largo de seccion: 4006\n",
      "Indice: MOGUL LEXIGON. Largo de seccion: 1\n",
      "Indice: CRÉDITOS. Largo de seccion: 546\n"
     ]
    }
   ],
   "source": [
    "indices_manual = [\n",
    "    'OBJETIVO DEL JUEGO',\n",
    "    'SETUP','TRANSCURSO DEL JUEGO',\n",
    "    'ACCIÓN CONSTRUIR (CANTERA)',\n",
    "    'TABLERO DE PROVINCIA',\n",
    "    'Las mejoras de edificios',\n",
    "    'ACCIÓN DE MERCADO (MERCADO)',\n",
    "    'ACCIÓN DE PALACIO',\n",
    "    'ACCIÓN DE RÍO (Puerto)',\n",
    "    'Karma',\n",
    "    'Obtener nuevos trabajadores.',\n",
    "    'Bonos en los tracks de puntuación.',\n",
    "    'FIN DE RONDA',\n",
    "    'FINAL DE PARTIDA',\n",
    "    'NOTAS',\n",
    "    'VERSIÓN NAVARATNAS',\n",
    "    'EL MÓDULO GANGA',\n",
    "    'MOGUL LEXIGON',\n",
    "    'CRÉDITOS'\n",
    "    ]\n",
    "\n",
    "\n",
    "\n",
    "# 4. Ejecutar el pipeline\n",
    "pdf_path = \"data/Rajas_of_the_Ganjes_Reglamento.pdf\"  \n",
    "# Extraer texto completo del PDF\n",
    "full_text = extract_text_with_pypdf2(pdf_path)\n",
    "\n",
    "\n",
    "# Dividir texto en secciones\n",
    "sections = split_into_sections_auto(full_text, indices_manual)\n",
    "\n",
    "# Mostrar secciones como ejemplo\n",
    "for title in indices_manual:\n",
    "    print(f\"Indice: {title}. Largo de seccion: {len(sections[title])}\")"
   ]
  },
  {
   "cell_type": "code",
   "execution_count": 23,
   "metadata": {},
   "outputs": [],
   "source": [
    "sections['FINAL DE PARTIDA'] = sections['NOTAS'].split('es el ganador de la partida.')[0]+'es el ganador de la partida.'\n",
    "sections['NOTAS'] = sections['NOTAS'].split('es el ganador de la partida.')[1]\n",
    "sections['FIN DE RONDA'] ='Después de haber colocado a todos tus trabajadores activos'+sections['Bonos en los tracks de puntuación.'].split('Después de haber colocado a todos tus trabajadores activos')[1].replace('\\n', '')\n",
    "sections['Bonos en los tracks de puntuación.'] = sections['Bonos en los tracks de puntuación.'].split('Después de haber colocado a todos tus trabajadores activos')[0]\n",
    "sections['VERSIÓN NAVARATNAS'] = 'Después de haber jugado a la versión básica'+sections['NOTAS'].split('Después de haber jugado a la versión básica')[1]\n",
    "sections['NOTAS'] = ''\n"
   ]
  },
  {
   "cell_type": "code",
   "execution_count": 24,
   "metadata": {},
   "outputs": [
    {
     "name": "stdout",
     "output_type": "stream",
     "text": [
      "Indice: OBJETIVO DEL JUEGO. Largo de seccion: 1054\n",
      "Indice: SETUP. Largo de seccion: 1727\n",
      "Indice: TRANSCURSO DEL JUEGO. Largo de seccion: 3199\n",
      "Indice: ACCIÓN CONSTRUIR (CANTERA). Largo de seccion: 1337\n",
      "Indice: TABLERO DE PROVINCIA. Largo de seccion: 1441\n",
      "Indice: Las mejoras de edificios. Largo de seccion: 2481\n",
      "Indice: ACCIÓN DE MERCADO (MERCADO). Largo de seccion: 1508\n",
      "Indice: ACCIÓN DE PALACIO. Largo de seccion: 2069\n",
      "Indice: ACCIÓN DE RÍO (Puerto). Largo de seccion: 1564\n",
      "Indice: Karma. Largo de seccion: 7770\n",
      "Indice: Obtener nuevos trabajadores.. Largo de seccion: 1486\n",
      "Indice: Bonos en los tracks de puntuación.. Largo de seccion: 1635\n",
      "Indice: FIN DE RONDA. Largo de seccion: 573\n",
      "Indice: FINAL DE PARTIDA. Largo de seccion: 2513\n",
      "Indice: NOTAS. Largo de seccion: 0\n",
      "Indice: VERSIÓN NAVARATNAS. Largo de seccion: 2760\n",
      "Indice: EL MÓDULO GANGA. Largo de seccion: 4006\n",
      "Indice: MOGUL LEXIGON. Largo de seccion: 1\n",
      "Indice: CRÉDITOS. Largo de seccion: 546\n"
     ]
    }
   ],
   "source": [
    "# Mostrar secciones como ejemplo\n",
    "for title, text in sections.items():\n",
    "    print(f\"Indice: {title}. Largo de seccion: {len(text)}\")"
   ]
  },
  {
   "cell_type": "markdown",
   "metadata": {},
   "source": [
    "Podemos observar que hay secciones que no las llega a leer como lo son \"NOTAS\", y \"mogul lexion\", sin embargo no son de mucha relevancia"
   ]
  },
  {
   "cell_type": "markdown",
   "metadata": {},
   "source": [
    "### Fuente: Ganges_Referencia_rapida.pdf"
   ]
  },
  {
   "cell_type": "code",
   "execution_count": 25,
   "metadata": {},
   "outputs": [],
   "source": [
    "ref_rapida_path = \"data\\Ganges_Referencia_rapida.pdf\"\n",
    "text_ref_rapida = extract_text_with_pypdf2(ref_rapida_path)"
   ]
  },
  {
   "cell_type": "code",
   "execution_count": 26,
   "metadata": {},
   "outputs": [],
   "source": [
    "text_ref_rapida = text_ref_rapida.replace('\\uf0a7', '')"
   ]
  },
  {
   "cell_type": "code",
   "execution_count": 27,
   "metadata": {},
   "outputs": [
    {
     "name": "stdout",
     "output_type": "stream",
     "text": [
      "GANGES (2 a 4 jugadores) Antes de empezar Decidir si se juega en modo normal o en modo Navaratna (ver el epígrafe Variante Navaratna más adelante ). Sortear jugador inicial , el cual se va rotando en sentido horario cada vez que se agoten los lacayos colocados sobre las acciones del tablero, a menos que un jugador obtenga el beneficio de la primera zona de los aposentos del palacio, que lo convierte en jugador inicial. Cada jugador recibe , según su color 6 lacayos, de los cuales 3 se colocan en las 3 zonas al efect o del tablero (uno en la casilla 20 del marcador de riqueza, otro en la casilla 15 del marcador de gloria y otro sobre el puente del río). 5 cubos, de los cuales 4 se colocan sobre el primer nivel de cada uno de los edificios del tablero y el restante sobr e el nivel 1 del indicador de karma . 1 ficha circular de bonificación, la cual se coloca inicialmente sobre la casilla 12 del marcador de riqueza con la imagen de bonificación de avance fluvial boca arriba . 1 barco, que se coloca en la casilla inicial del río. 1 ficha en forma de prisma hexagonal, que será el indicador de riqueza. El jugador inicial lo coloca en la casilla 3 de dicho indicador, el 2 jugador en la casilla 4, el 3 en la casilla 5 y el 4 en la casilla 6. 1 ficha en forma de círculo cortado , que será el indicador de gloria y cada jugador lo coloca en la casilla inicial de dicho indicador. 4 dados, uno de cada color. 1 busto de Kali para colocar los dados. Antes de colocarlos, cada jugador debe lanzarlos y conservar la puntuación obtenida. En el modo normal de juego se coloca boca arriba por el lado que incluye en su interior 2 cuadrados vacíos. Si se juega en el modo Navaratna , se coloca por el lado que carece de esos cuadrados vacíos. El busto sirve para limitar la cantidad máxima de dados utilizables 10 en el modo normal y 8 en el modo Navaratna . 1 tablero de provincia, donde cada jugador irá colocando las losetas que vaya adquiriendo. En el modo normal de juego se coloca boca arriba por el lado que muestra la imagen de un príncipe hindú. Si se juega en el modo Navaratna , se coloca por el lado que muestra el rostro de una diosa . En el caso de jugar en el modo Navaratna , ver el epígrafe Variante Navaratna más adelante . Colocar el tablero por el lado que corresponda al n de jugadores . Hay un lado para 2 jugadores que está representado con 2 elefantes pintados junto a la casilla inicial del río y el otro lado es para 3 o 4 jugadores, que tiene 4 elefantes en ese mismo lugar. La diferencia entre ambos lados del tablero es que el lado para 3 y 4 jugadores incluye más zonas donde colocar lacayos en las secciones de cantera, mercado y puerto. Colocar las 8 fichas de producción blancas boca abajo sobre la imagen del templo blanco del tablero. A medida que se vayan revelando, se van colocando fuera del tablero . Si se agotasen, se vuelven a mezclar y se colocan de nuevo como al principio. En el modo Navaratna , las fichas marrones de producción restantes se colocan boca arriba sobre los templos del tablero que coincidan con su color. Hacer un montó n al lado del tablero con el resto de los dados, formando una reserva. En las partidas con 3 jugadores se hace uso de las 2 fichas de exclusión, que hay que colocar sobre la primera casilla de la cantera y sobre la tercera del puerto , al objeto de prohibir la colocación de lacayos sobre esas 2 zonas. Formar 12 montones con las losetas de provincia, según su color e imagen del reverso y colocarlos al lado del tablero en un lugar accesible para todos los jugadores.Turno s de juego Los turnos son consecutivos y la ronda consiste en colocar todos los lacayos . Cada jugador en su turno coloca un lacayo sobre una casilla de acción, paga su coste (si lo tiene) en dados o rupias (lo que corresponda según el caso) y recibe inmediatamente el benefici o asociado a esa acción. Una vez gastados los lacayos de todos los jugadores, cada uno recoge los suyos del tablero y la partida continúa del mismo modo cambiando de jugador inicial (salvo por bonificación especial del mismo jugador que ya lo era) . Puede darse el caso de que algunos jugadores tengan en juego más lacayos que otros, en cuyo caso seguirían juga ndo ellos solos hasta agotarlos. Acciones 1. Cantera El jugador coloca un lacayo, paga las rupias que indique la casilla y adquiere una loseta de provincia pagando su coste en dados. Cada loseta tiene su precio en la esquina superior izquierda sobre un color determinado. El coste puede ser pagado con uno o varios dados del color elegido, debiendo al menos igualar la cifra consignada en la loseta. La loseta se debe colocar en una zona vacía del tablero de provincia adyacente a otra (la primera será adyacente a la residencia impresa) , teniendo en cuenta que, al menos, uno de los caminos sea coincidente con una loseta anterior y que ese camino debe terminar siempre en la residencia. Si la loseta incluye un camino que termina en un lateral con bonificación impresa, el jugador la obtiene inmediatamente. Si la loseta tiene edificios impresos , el jugador gana tantos puntos de gloria como le correspondan según su nivel de mejora de edificios. Inicialmente este valor es 2, pero se puede ir moviendo el cubo de mejor a de cada edificio si se obtiene una bonificación de mejora ( procedente de la bonificación de una casilla de río, de la 4 zona palaciega , de una bonificación del marcador de gloria o de una ficha de bonificación o producción). Si la loseta tiene tenderetes de mercancías, el jugador ga na inmediatamente la cantidad de rupias impresas . Hay losetas con más de un edificio o más de un tenderete o mezcla de ellos y el jugador puntúa por todos ellos. 2. Mercado Hay 3 tipos de mercancías (seda, té y especias) y el tablero tiene 2 zonas diferencia das de mercado a) Surtido variado El jugador coloca un lacayo en la casilla gratuitamente y gana tantas rupias como sumen hasta 3 de los tenderetes de su provincia que sean distintos entre sí. En el lado del tablero para 3 y 4 jugadores existen 2 casillas para esta acción, pero un mismo jugador no puede colocar 2 lacayos en esta zona. b) Mercancía de un solo tipo El jugador coloca un lacayo en una de las 3 casillas de mercancías . Par a ello debe gastar un dado cualquiera de los que posea y gana ta ntas rupias como sumen todos los tenderetes que posea en su provincia de esa mercancía. 3. Aposentos del palacio Hay 6 zonas donde colocar un lacayo y solo un jugador puede colocar un lacayo en cada una. Exige gastar un dado del valor exacto correspondien te a la zona de colocación. Zona 1 El jugador gasta un dado de valor 1 y gana 2 puntos de gloria además de convertirse en nuevo jugador inicial. Zona 2 El jugador gasta un dado de valor 2 y gana 2 dados y una ficha de producción blanca . Zona 3 El jugador gasta un dado de valor 3 y gana 1 dado y aumenta su n ivel karma en 2 niveles, teniendo en cuenta que el nivel máximo de karma es 3 .Zona 4 El jugador gasta un dado de valor 4 y gana 3 rupias y una mejora de edificio , por lo que podrá mover uno de sus c ubos en el edificio de su elección a un nivel superior , teniendo en cuenta que el nivel máximo de mejora es 4 . Zona 5 El jugador gasta un dado de valor 5 y tiene la opción de adquirir una loseta de provincia para solapar a otra que ya tuviera colocada en su tablero personal. La nueva loseta debe ser de valor superior a aquella que se pretende solapar y su coste será la diferencia en valor de dados entre ambas, aunque su color sea distinto. Se sigue manteniendo el requisito de la conexión remota de caminos hasta la residencia. En caso de solapar una loseta de los laterales con derecho a bonificación, no se recibe ésta porque ya se recibió al colocar la loseta primitiva . No se puede solapar una misma loseta más de una vez. Zona 6 El jugador gasta un dado de valor 6 y av anza su barco por el río exactamente 6 casillas consecutivas no ocupadas, obteniendo la bonificación correspondiente. Cuando el barco de un jugador se encuentre ent re las últimas 6 casillas del río, no puede realizar esta acción. 4. Verandas El jugador gasta un dado del color correspondiente a la casilla donde coloca al lacayo y gana 2 dados nuevos del color que se indica. El jugador los cogerá de la reserva, los lanzará y los colocará en su busto de Kali. 5. Terraza El jugador coloca un laca yo en la casilla que corresponde a uno de los colores de dados gratuitamente y gana un dado del color impreso junto a la casilla. El jugador lo cogerá de la reserva, lo lanzará y lo colocará en su busto de Kali. Hay 2 casillas por cada color de dado y un m ismo jugador puede hacer uso de ellas con sus lacayos. 6. Mirador El jugador coloca un lacayo gratuitamente, gana 2 rupias y tiene la opción de relanzar cualquier cantidad de dados de los que posea en su busto de Kali. 7. Río El jugador coloca un lacayo en una casilla del puerto no ocupada, paga su coste en rupias (hay una gratuita) y debe gastar un dado que sea exclusivamente de valor 1, 2 ó 3. Avanzará su barco como máximo el número de casillas que indique el dado utilizado (un dado de valor 2 permite a vanzar 1 ó 2 casillas y un dado de valor 3 permite avanzar 1, 2 ó 3 casillas). Las casillas del río ocupadas se ignoran para el avance y el jugador gana la bonificación en la que coloca finalmente su barco. Al llegar a la última casilla del río, el jugador no puede realizar más esta acción. Reglas a tener en cuenta Variar e l nivel de karma no constituye acción, se puede realizar en cualquier momento del turno y permite voltear uno de los dados del jugador a fin de mostrar la carta opuesta a la que tenía originalmente. Cuando un jugador alcanza o supera la casilla 12 del marcador de riqueza, debe mover su ficha circular de bonificación a la casilla 33 por el lado que coincida con la imagen impresa en esa casilla, ganando inmediatamente un avance de río. Posteriormente, al alcanzar o superar la casilla 33, ganará 2 dados y moverá de nuevo esa ficha a la casilla 44 haciéndola coincidir con la imagen impresa en esa casilla. Una vez alcanza da la casilla 44, gana rá un nuevo avance de río y moverá la ficha circular a la casilla 55. Una vez alcanzada la casilla 55, gana rá 2 dados nuevos y la ficha circu lar se retira de la partida. Cada vez que un jugador gana dados nuevos sin un color determinado , tanto si es por bonificaciones o por acciones del tablero, el jugador los coge del color que desee de la reserva y debe lanzarlos y conservarlos con la puntuación obtenida en su busto de Kal i, teniendo en cuenta el máximo de 10 dados en el modo normal de juego y de 8 en el modo Navaratna .Los lacayos adicionales que un jugador consiga por alcanzar las posiciones en las que se encuentran en los marcadores o en el río empiezan a ser funcionales inmediatamente, por lo que pueden ser utilizados en la misma ronda en la que se han conseguido. En el modo normal de juego, cuando un jugador haya conseguido 5 lacayos en total, el sexto se retira de la partida y no lo podrá conseguir. En el modo Navaratn a sí se pueden utilizar todos. Final de partida El final de partida se produce cuando un jugador iguala o cruza la posición de sus indicadores de riqueza y de gloria en el tablero. No obstante, se dejará terminar el turno (no la ronda completa) al resto de jugadores que no lo hubieran hecho, dando así la posibilidad de que alguien más haga cruzar también sus indicadores. De todos los jugadores que hayan cruzado sus indicadores en ese último turno, el ganador será el que más diferencia en puntos de gloria haya conseguido entre ambos. A igualdad de condiciones, el ganador será el que desencadenó el final de partida. Variante Navaratna Cada jugador utiliza el tablero de provincia por el lado que muestra el rostro de una diosa hindú, el busto de Kali se coloca por el lado que no tiene hueco para los dos dados interiores y cada jugador puede hacer uso de los 6 lacayos disponibles. Las bonificaciones de los laterales son producciones mínimas que se pueden ir mejorando durante la partida. En esta var iante se hace uso de las fichas especiales de producción y las hay de los 4 colores de los templos marrón, blanco, amarillo y rojo. Al principio de la partida se mezclan las fichas marrones de producción , se colocan sobre el templo marrón del tablero boca abajo y c ada jugador coge una al azar, la revela y la coloca en una de las dos casillas posibles (la que prefiera) de los laterales de su tablero de provincia. El resto de ficha s marrones de producción se revelan y se colocan boca arriba sobre el templo ma rrón. Las fichas de producción de los otros colores se depositan boca arriba, cada una sobre el templo de su color. Cuando un jugador logra conectar las fichas marrones de producción con su residencia mediante un camino, gana una producción especial que de pende del grado de desarrollo que haya conseguido hasta ese momento en un aspecto concreto del juego 1 punto de gloria por cada loseta colocada que tenga al menos un tenderete 1 punto de gloria por cada 3 casillas de río que el barco del jugador haya avanzado hasta ese momento (sin contar la casilla inicial) 1 rupia por cada edificio de la provincia 2 rupias por cada ficha de producción con la que haya podido conectar 2 puntos de gloria por cada curva o bifurcación que exista en la provincia 2 rupias por cada mejora de edificio efectuada hasta el momento 1 punto de gloria por cada lacayo activo en juegoCuando un jugador c oloca una loseta en su tablero de provincia, tras puntuar por los elementos que incluye la loseta , coge una ficha de producción (si así lo desea) y la coloca boca arriba en una casilla de los laterales del tablero de provincia del mismo color a fin de mejorar la que ya viene impresa. Cada ficha de producción colocada ya n o se podrá mover ni cubrir con otra. Su bonificación se gana al conect arla con la residencia impresa en el tablero de provincia mediante un camino. Las fichas especiales de producción se consiguen de 2 formas a) Al realizar la acción de los aposentos del palacio que exige dado de valor 2 se cogen los 2 dados que se indican y además una ficha de bonificación, que en esta variante puede ser cualquier ficha de producción especial. b) Por no poder colocar un lacayo el jugador gana una ficha d e producción cada vez que sea su turno y no tenga lacayos para colocar por tener menos que algún otro jugador . Varia ción de las bonificaciones del río Para hacer el recorrido del río más imprevisible, se incluyen 8 fichas adicionales de forma circular y de fondo azul que se pueden poner en juego cuando se desee, tanto en el modo normal como en el modo Navaratna . Al principio de la partida se mezclan estas 8 fichas y se colocan boca abajo en algún lugar de la mesa. Luego se lanza un dado y se cuenta su valor en casillas por el río, colocando boca arriba en la casilla resultante una cualquiera de las 8 fichas adicionales. De este modo se reemplaza la casilla impresa en el tablero por la nuev a. Después se vuelve a lanzar el dado y se realiza un nuevo recuento de casillas a partir de la anterior y se coloca otra ficha de las adicionales en el lugar resultante. A partir de ahí se vuelve a hacer lo mismo hasta llegar al final del río, pudiendo so brar fichas adicionales, las cuales no serán utilizadas. Hay que tener en cuenta que la casilla final del río no puede cubrirse con una ficha adicional. El jugador coge tantos dados del color que quiera como indique su nivel de karma en el momento actual El jugador coge 3 dados de los colores indicados El jugador realiza gratuitamente la acción del aposento del palacio que se corresponda con la imagen de la ficha sin tener que colocar lacayo El jugador gana la cantidad de rupias que resulten de sumar hasta 3 tenderetes de un solo tipo de mercancía de los que tenga en su provincia sin tener que colocar lacayo y de modo gratuito El jugador avanza su barco por el río entre 1 y 3 casillas no ocupadas y gana la bonificación de la casilla en la que lo coloqueBonificaciones impresas sobre el curso del río en el tablero El jugador gana 2 dados El jugador aumenta su karma en 2 niveles (máximo nivel 3) El jugador gana la cantidad de rupias indicadas en la imagen El jugador puede realizar una de las 5 acciones (entre la 2 y la 6 ) de los aposentos del palacio sin tener que colocar lacayo ni gastar dado y aunque esté ocupada El jugador gana tantos dados del color indicado en la imagen como sea su nivel de karma (entre 0 y 3) El jugador gana la cantidad de puntos de gloria indicados en la imagen El jugador puede aumentar el nivel de cualquiera de sus edificios El jugador gana 1 rupia por cada tenderete de mercado que tenga en su provincia El jugador gana rupias por hasta 3 de sus tenderetes que sean de una mercancía diferente El jugador gana las rupias correspondientes a una sola de sus mercancías (la que prefiera) contando hasta un máximo de 4 tenderetes El jugador gana las rupias correspondientes a sola de sus mercancías (la que prefiera) contando hasta un máximo de 5 tenderetes El jugador gana 1 punto de gloria por cada nivel de mejora de edificio logra da (entre 0 y 6) El jugador gana 2 rupias por cada nivel de mejora de edificio logra da (entre 0 y 6) El jugador gana en puntos de gloria el doble de su nivel de karma (entre 0 y 6)\n"
     ]
    }
   ],
   "source": [
    "print(text_ref_rapida)"
   ]
  },
  {
   "cell_type": "markdown",
   "metadata": {},
   "source": [
    "### Fuente: Rajas_of_the_Ganjes_Reglamento.pdf"
   ]
  },
  {
   "cell_type": "code",
   "execution_count": 28,
   "metadata": {},
   "outputs": [],
   "source": [
    "quick_guide_path = \"data\\Rajas_of_the_Ganges_Quick_Rules_Guide.pdf\"\n",
    "text_quick_guide = extract_text_with_pypdf2(quick_guide_path)"
   ]
  },
  {
   "cell_type": "code",
   "execution_count": 29,
   "metadata": {},
   "outputs": [],
   "source": [
    "text_quick_guide = text_quick_guide.replace('\\uf0b7', '')"
   ]
  },
  {
   "cell_type": "code",
   "execution_count": 30,
   "metadata": {},
   "outputs": [
    {
     "data": {
      "text/plain": [
       "'Rajas of the Ganges Set-Up Place the game board in the middle of the table, according to the player count. o If playing with 3 players, use the 2 space cover markers to cover the 1st Quarry space and the 3rd Harbor space. o If playing the standard game, put the Yellow, Brown and Red yield tokens, and the 8 river tokens, in the box. See below for details on the Navaratnas Version and the Ganga Module (2 variants to the game!) Sort the Province Tiles by colo r, and then by the 3 different a nimal ba cks (snake, cow, tiger). o Place the 12 stacks face -down next to the board, then flip the top tile of each stack face -up. Mix the 8 white Y ield tokens face -down on the temple space (white building). Each player takes o 1 Province board (place the sta ndard side up the side without blank yield spots) o 1 Kali Statue board (with the 2 slots in the middle open for dice able to hold 10 dice (thats all it does, fyi) ) o 6 Workers (lay 1 worker sideways on the river bridge, on the 15 fame space, and on the 20 money space) o 5 Cubes (1 on level 1 of the Karma track, and 1 on the leftmost space of the 4 buildings, right side of board) o 1 Money m arker (start s pace to be determined when first player is chosen see below ) o 1 Fame m arker (put on 0 space of the F ame track ) o 1 Boat (put on start space of the river) o 1 Money Track Bonus m arker (put on space 12 of the money track, blue (river) side up) o 1 die of each color (Green, Blue, Yellow, Purple) roll them , plac e each die onto an empty hand of Kali Statue. The player with the lowest total on thei r 4 dice will be Start Player. They take the Elephant marker (start player marker.) o The 1st playe rs money marker goes on space 3 . 2nd3rd4th player put their money marker on space 456. Game Flow Rajas of the Gan ges is played over a number of rounds until 1 player triggers the end of the game by having their Fame and Money marker intersect paths. At this point, remaining players in turn order will have 1 more turn before the end. The winning player will be whoe ver was able to move their markers past each other the furthest (in case multiple players achieve t his goal during the last turn.) During a round, starting with the 1st player going clockwise, each player will place 1 worker into 1 of the many empty action spaces and carry out the given action before the next player s turn. When all players are out of workers, the round ends. General Rules to get Started As stated above, on a players turn, they w ill place one of their workers o nto an empty action space a nd take the action. There are 4 different areas of the board (Quarry, Market, Harbor, Palace ) where players can place workers (see below for detailed descriptions of each action area ) Some of the action spaces have a cost associated with them when you plac e your worker there . o If the space in the center of the action space is empty, its free! o If the space shows a coin value, pay it (move marker backwards. ) o If the space shows a di e, return the indicated die (color and pip value might matter.) Pip-less die mean any value , and a Tan die mean any color Anytime in the game you earn Fame or money, you move your marker immediately (earning any bonus es on the track as you go,) and whe n you earn dice (if any remain of that color ,) roll the dice immediately and place on your Kali Statue. o Your Kali Statue holds 10 dice. If you were to take an 11th, you can refuse it or replace 1 on the Statue already . Karma Is a resource earned throughout the game that is tracked above the Palace on the upper left side of the b oard. o It allows a player (at anytime on their turn) to flip 1 die to the opposite side by sliding your cube down 1 space. o You can spend as many Karma points as you want on your turn. The max to hold at 1 time is 3 (see track .) New Workers As the game progresses, you will be moving your money, fame and boat markers along their respective paths. If you reach the space with 1 of your workers , you take it and immediately add it to your pool, ready to work! Once you receive your 5th worker, the 6th worker still on the board is removed to the box. Only 5 can be earned in total . Scoring Track Bonuses Along the Fame and Money track, you will earn rewards when you reach certain numbers. o Since you can only go forward on the Fame track, the rewards are simply printed on the board for when you reach them, you earn them. They are spaces 5, 24 and 31. o The Money track is different as there is a small token you will use. You see, since your money can go up and down, the designers made it easy to remember if you go t the bonus yet or not. The first time you cross thisbonus marker, take the reward, flip the token, and move it up to the next space that matches this bonus token. The spaces that will have bonuses are 12, 33, 44, and 55. Take a l ook! After the bonus at 55, remove the token. Quarry Action (Place Province Tiles on your Player Board) In the middle of the board are actions spaces (in 2 rows) with cost values from 1 -4 (remember to pay). Next to them is an icon of a tile being placed on a Province board. Well, activating 1 of these spaces will allow you to do just that! After placing your worker , and paying the cost, look at 1 of the 12 face -up Province tiles next to the board. You can buy a face -up tile by returning any number of matching colored dice to the supply with a sum o f at least the value shown in the upper left corner. You can overpay for tiles this way. After paying for your tile with dice, take it and place it on your player board so that at least 1 road on the tile can be traced back to your Estate (the building in the upper middle). Yes, you can rotate your tile any direction you wish and you can cut off other roads, as long as 1 road on your newly placed tile can make its way back home! After you place your tile legally, you will earn rewards based on what is showing on the tile itself. o If 1 of the 4 buildings is showing, immediately earn Fame points equal to that buildings currently Fame level. o If it shows 1 of the 3 Markets, earn money equal to the prin ted money shown. o Obviously, earn all rewards shown (you might have multiple buildings or multiple markets.) Around the edge of your Province are special Yield rewards. After scoring the Province tile itself, if a road connects to this Yield reward back to your Estate, you immediately get the bonus! If a Yield reward is blocked off, you cant earn it. When you are done getting your rewards, flip the next tile over in the stack you chose from. Market Action Spaces (Earn money based on Mark ets in your Province) Just u nder the Quarry spaces are the Market action spaces. The each top row action space deals with a specific type of good, while the bottom spaces deal with all 3 different types of goods . If you place a worker on 1 of the top spac es, you will first give up a die with any numeric value on it (the higher the better possibilities,) and then do the following o Each of these spaces is associated with 1 of the 3 goods found in the Markets of your Province ( tea, silk, spices .) o If you place your working on the T ea space, you will select a number of different tea markets i n your Province (that can be traced back to your Estate via roads ) up to the value on the die you turned in. (example, turn in a 3 die, you can count up to 3 different tea markets on your Province board. Turn in a 4, you can count 4 so on ) o Calculate the total money shown on these different Markets and earn that amount of money immediately. o The Silk and Spice s space work exactly the same. If you place a worker on a bottom space ( no player may access both bottom spaces in the same round (34 p game,) see different color worker icons ,) then you will look at your Province board and choose 3 different type markets (1 tea, 1 silk, 1 spices) that trace back to your Estate via roads and earn the shown money value immediately! This space has no cost! River Action Spaces (Move your Boat on the River for Rewards) Under the Market spaces is the Harbor, and this area controls the movement of your Boat on the river. Whenever a player is to move their boat during the game , they always move it forward, they never count spaces other players are on, and they immediately take the reward when the boat has stopped moving. The Harbor spaces all have a coin cost except the first space w hich is free ! When putting your worker here, discard any die with a 1, 2 or 3 value (see chart to the right in the Harbor). o If a 1 is discarded , the player moves their boat 1 unoccupied space up the river . o If a 2 is discarded, the player mov es their boa t 1-2 unoccupied spaces up the river, player s choice. o If a 3 is discarded, the player moves their boat 1 -3 unoccupied spaces up the river, player s choice. The last space of the River can hold several boats, but once you reach this space, you cant take boat actions anymore. See the Rulebook for the indivi dual descriptions of each space. Palace Action Spaces ( Ways to Manipulate your Dice pool) The Palace takes up the bottom left part of the board. It includes 19 action spaces from the Chambers (people) all the way t o the Balcony space (shows shaking dice). These are what the spaces do in detail o The 6 Chamber People 1 Give up any value 1 die to get 2 fame points and take the 1st player marker for next round. 2 Give up any value 2 die to get any 2 dice in return and 1 white yield token sitting on the white building . Gain the reward of the Y ield token immediately and discard it. If the pile runs out, reshuffle it.3 Give up any value 3 die to get 2 Karma and 1 die of your choice. 4 Give up any value 4 die to advance 1 of your buildings up 1 level and earn 3 money . 5 Give up any value 5 die to choose any Province tile, place it on top of any Province tile already built with a lower die cost, and pay 1 dice totaling the difference in value of the 2 tiles in the color of the new tile. The new tile will not earn Yield rewards but it will earn rewards for what is on the tile itself. Also, this new tile must obey the laws of tile placement. It must be traceable back to the Estate. 6 Give up any value 6 die to move your boat on the river exactly 6 unoccupied spaces . If you are within the last 6 river space s, you cant use this action anymore. Must be able to move exactly 6 spaces. o The Terrace Balcony Spaces The single space on the very end lets you take 2 money and re -roll any number of your dice. The spaces that are touching a colored die reward you with 1 die of that color. The spaces that show a colored die in the action space require 1 die of this color as payment to receive 2 dice of the other color as the reward. End of the Round After everyone has placed all their workers ( a player might have a skip ped turn if other players have more workers) the round will end. If a player took the 1st player marker by going to the 1 space in the Chambers, then that player is 1st player for the next round. If no one went to that space, pass the Elep hant clockwise. Ever yone now takes back all their workers placed this round and starts a new round! End Game During the round, when 1 player has their Fame marker reach andor pass their money marker, the game is triggered. At this time, each player going clockwise unti l the last player is reached will get 1 more turn to place 1 more worker (if the last player is the one to trigger the game then the game will end now.) When the game ends, the player who moved their Fa me and Money marker the furthest apart (ties broken b y the player who did this first) will win the game ! Navaratnas Version (Advance d Game) Instead of only being able to get 2 new workers like in the standard game, you can claim all 3 workers on the board. You will use the other side of the Kali Statue which allows you to only store 8 dice , instead of 10 in the standard game. You will use the other side of your Province Board as well. You will notice some empty Yield space s around the edge. o During Set -up, t ake the Brown Yield tiles, flip them face -down, and each pl ayer takes 1 randomly, looks at it, and covers up 1 of the 2 Brown Y ield spaces on their Province board . It doesnt matter which Brown space is covered. You wont earn the reward now, but you will earn it in game when you connect to this Yield token. See the descriptions of the new bonus Yield tokens in the rulebook. o You will now sort the 4 different color ed Yield tokens by color and place them face -up on their matching building s on the right side of the board. (Same area you put the white tokens face -down in the standard game.) There are 2 ways to obtain new Yield tokens during the game o When you select the 2 person in The Chambers. This person allows you to get a ny face -up Yield token from 1 of the buildings. Select 1 and add it to your Province b oard, but it can only cover up a matching color. You wont earn the reward yet, but you will earn it when you connect to this Yield token via a road going back to your Estate. o When you have fewer workers than others! If you are skipped over during a r ound because other players still have more workers, then you get to take 1 Yield token of your choice and place it on your Province board covering a matching color space. Again, the reward will be earned when you connect to this token with a road leading back to the Estate. You are not required to take Yield tokens when allowed, and you cant place a Yield token on top of another Yield token. The Ganga Module (Customize the River Spaces) During set -up, mix the 8 river tokens face down, then roll a die. Count out that many spaces and choose 1 of the token to flip over and place on this space (creating a new space for the game). Repeat this process until you reach the end of the river. The final river space cant be covered up. All 8 riv er tokens might not be placed out. See the rulebook for a detailed description of the new tokens. Obviously, you can turn the tiles face -up and customize the river spaces however you wish for a certain strategic game.'"
      ]
     },
     "execution_count": 30,
     "metadata": {},
     "output_type": "execute_result"
    }
   ],
   "source": [
    "text_quick_guide"
   ]
  },
  {
   "cell_type": "markdown",
   "metadata": {},
   "source": [
    "### Fuente: Rajas_of_the_Ganges_Automa_r1.0.pdf"
   ]
  },
  {
   "cell_type": "code",
   "execution_count": 31,
   "metadata": {},
   "outputs": [],
   "source": [
    "automa_variant_path = \"data\\Rajas_of_the_Ganges_Automa_r1.0.pdf\"\n",
    "text_automa_variant = extract_text_with_pypdf2(automa_variant_path)"
   ]
  },
  {
   "cell_type": "code",
   "execution_count": 32,
   "metadata": {},
   "outputs": [],
   "source": [
    "text_automa_variant = text_automa_variant.replace('Author: Mauro Gibertoni   Rev. 1.0 - 4 Dec 2017', '')"
   ]
  },
  {
   "cell_type": "code",
   "execution_count": 33,
   "metadata": {},
   "outputs": [
    {
     "data": {
      "text/plain": [
       "'Rajas of the Ganges Automa mode Author Mauro Gibertoni Rev. 1.0 - 4 Dec 2017 This is a solo variant for Rajas of the Ganges boardgame. You play against a fake opponent the Automa. While you play following all standard rules, the Automa breaks some rules, so for you it will be very easy to take the action for the Automa. Set-up Prepare a standard set -up for wo players, but consider that the Automa doesnt need all the components, so you can leave in the box the following components - the province board ; - the four markers for palaces upgrade ; - the marker for karma points ; - the personal dice an d the Kali statue ; - if you play with Navaratnas version, select one brown yeld tile for you then remove 2 yeld tiles per color . Shuffle the Automa deck and place it close to the board with the blue side face up. Select randomly who will be the first player . Place the provice tiles in 12 piles and organize them in a 3 x 4 grid. Automas overview At each turn alternate your actions with the automa actions like in a normal game. When the Automa must perform an action, you draw a card from Auotma deck and ex ecute the action described. In general - The Automa places his workers on the board, but he spends no dice to take the action ; - The Automa can gain new workers like a normal player ;- The Automas fame and money markers are moved only one time per round just after the Automa has placed his last worker . Description of the round When it is the Automas turn, draw a card from Automa deck, look the red side and perform the action shown Building action place the Automas worker then look the blue side of the first automa card that is remained on the top of the automa deck, and discard the province tile highlighted on the card. (Automa gains no fame for the moment) Market action look the blue side of the first automa card that is remained on the top of the automa deck and place the Automas worker on the market shown on the card. (Automa gains no money for the moment) River action place the Automas worker then look the blue side of the first automa card that is remained on the top of the automa deck, and advance the ship the number of spaces indicated on the card. (Automa gains no bonus) Action at the palace look the blue side of the first automa card that is remained on the top of the automa deck and pla ce the Automas worker on the palaces room shown on the card. Special cases If the room is the number 5 (Master builder), discard a province tile as in building action. If the room is the number 6 (Portuguese), advance the ship 6 spaces. Balconies action look the b lue side of the first automa card that is remained on the top of the automa deck and place the Automas worker on the balcony space shown on the card. Note if the Automa can not palce his worker because the area is occupied by another worker, discard the card on top of the deck and look the next card until the Automa can place his worker. Every time the Automa deck is termined, reshuffle it.Example If you draw this card and this card is visible on top of the deck , the Automa places a worker on the silk market space. End of a round Once the last automa worker is placed, look on the red side of the current automa card and advance the fame and money Automa marker the number of spaces indicated on the card. There are three difficulty level available. Apply the level you want easy (green ), medium (orange ), hard (red). During the game the Automa gains new workers and the advancements on the river, all other rewards shown on fame and money tracks are ignored. If the Automa gains a new worker during the advancements of the markers at the end of his turn, the new workers will be available only in the next turn.End of game If you are the first to trigger the victory condition, draw a card and apply the fame and money point with the selected difficulty level for the last time. Then declare the winner with the standard rules. If the Automa is the first to trigger the victory condition (this occurs only after the Automa has placed his last worker) and you are the second player in turn order you can place your last worker, then declare the winner with the standard rules.'"
      ]
     },
     "execution_count": 33,
     "metadata": {},
     "output_type": "execute_result"
    }
   ],
   "source": [
    "text_automa_variant"
   ]
  },
  {
   "cell_type": "markdown",
   "metadata": {},
   "source": [
    "### Fuente: foro, estrategia, When is the Portuguese useful?"
   ]
  },
  {
   "cell_type": "code",
   "execution_count": 37,
   "metadata": {},
   "outputs": [],
   "source": [
    "def extraer_comentarios(url):\n",
    "    \"\"\"\n",
    "    Extrae los comentarios de un foro de BoardGameGeek desde la página dinámica usando Selenium.\n",
    "    Utiliza un chromedriver local.\n",
    "\n",
    "    Args:\n",
    "        url (str): URL del hilo de foro.\n",
    "\n",
    "    Returns:\n",
    "        list: Lista de comentarios extraídos.\n",
    "    \"\"\"\n",
    "    # Configurar las opciones del navegador\n",
    "    chrome_options = Options()\n",
    "    chrome_options.add_argument(\"--headless\")  # Ejecutar sin abrir el navegador visualmente\n",
    "    chrome_options.add_argument(\"--disable-gpu\")  # Opcional: Desactivar GPU para mejor rendimiento\n",
    "\n",
    "    # Especificar la ruta local de chromedriver\n",
    "    service = Service(\"src/chromedriver.exe\")  # Asegúrate de que la ruta al chromedriver sea correcta\n",
    "\n",
    "    # Configurar el WebDriver\n",
    "    driver = webdriver.Chrome(service=service, options=chrome_options)\n",
    "\n",
    "    try:\n",
    "        # Abrir la página web\n",
    "        driver.get(url)\n",
    "\n",
    "        # Esperar hasta que los comentarios estén visibles en la página\n",
    "        WebDriverWait(driver, 20).until(\n",
    "            EC.presence_of_all_elements_located((By.CSS_SELECTOR, \"gg-markup-safe-html\"))\n",
    "        )\n",
    "\n",
    "        # Buscar todos los comentarios dentro de las etiquetas <gg-markup-safe-html>\n",
    "        comentarios = driver.find_elements(By.CSS_SELECTOR, \"gg-markup-safe-html\")\n",
    "\n",
    "        # Extraer el texto de cada comentario\n",
    "        comentarios_texto = [limpiar_texto(comentario.text.strip()) for comentario in comentarios]\n",
    "\n",
    "        return comentarios_texto\n",
    "    \n",
    "    finally:\n",
    "        # Cerrar el navegador\n",
    "        driver.quit()\n"
   ]
  },
  {
   "cell_type": "code",
   "execution_count": 35,
   "metadata": {},
   "outputs": [],
   "source": [
    "url_strategia_portuguese = \"https://boardgamegeek.com/thread/1993283/when-is-the-portuguese-useful\"  \n",
    "estrategia_portuguese = extraer_comentarios(url_strategia_portuguese)"
   ]
  },
  {
   "cell_type": "code",
   "execution_count": 36,
   "metadata": {},
   "outputs": [
    {
     "name": "stdout",
     "output_type": "stream",
     "text": [
      "['Except for the case where you want to rush to get your worker on the bridge, I cannot understand why using a 6 on the Portuguese is useful. The sooner you race through the river, the less likely you are to benefit for those 1 river space bonuses and claim rewards caused by other events. How else could the Portuguese be useful?', 'I use it frequently...like you mentioned, usually to rush and get my extra worker.']\n"
     ]
    }
   ],
   "source": [
    "\n",
    "estrategia_portuguese = [texto.replace('\\n', '') for texto in estrategia_portuguese]\n",
    "estrategia_portuguese = [texto.strip(\"'\") for texto in estrategia_portuguese]\n",
    "\n",
    "print(estrategia_portuguese)"
   ]
  },
  {
   "cell_type": "markdown",
   "metadata": {},
   "source": [
    "### Fuente: foro, estrategia, estrategia principiantes"
   ]
  },
  {
   "cell_type": "code",
   "execution_count": 37,
   "metadata": {},
   "outputs": [],
   "source": [
    "url_estrategia_principiantes = 'https://boardgamegeek.com/thread/1942983/beginner-strategy-tips'\n",
    "estrategia_principiantes = extraer_comentarios(url_estrategia_principiantes)\n"
   ]
  },
  {
   "cell_type": "code",
   "execution_count": 38,
   "metadata": {},
   "outputs": [],
   "source": [
    "estrategia_principiantes = [texto.replace('\\n', '') for texto in estrategia_principiantes]"
   ]
  },
  {
   "cell_type": "code",
   "execution_count": 39,
   "metadata": {},
   "outputs": [],
   "source": [
    "estrategia_principiantes  = estrategia_principiantes[1]"
   ]
  },
  {
   "cell_type": "code",
   "execution_count": 40,
   "metadata": {},
   "outputs": [
    {
     "data": {
      "text/plain": [
       "'I have only played the game several times, but I think the best (and probably the most obvious) strategy is to build up your markets in your province as fast as possible, and then take the market action to score them frequently. Look and see which markets are available on the tiles and plan accordingly. The market action that allows you to score all three market types (one of each) does not cost a die, so go for diversity first if the tiles available are in that favor. Of course pick the markets with value 2 or 3 first. My last game I did not buy any market tiles that had a value of one (unless it has a building on it that will score well for fame.) Build up your building upgrades as fast as you can as well. In our second game my opponent ignored buildings and focused entirely on markets - and he lost. So do not ignore them. This is one of those games where you have so much you want to do each turn and you only get to do one thing! Also, get your extra meeple as soon as possible. And dont forget the action where you can lay a tile on top of another tile. We sort of ignored that until our third game and realized it might be a good idea to connect to the borders of your province as much as possible even if the roads might not bend the way you want, because you can always cover a tile later (although there are restrictions.) This is quickly becoming one of my favorite games. I suggest skipping the basic game and playing with the advanced rules right away. Its not any more complicated and really makes the game shine quite a bit more. Good luck!'"
      ]
     },
     "execution_count": 40,
     "metadata": {},
     "output_type": "execute_result"
    }
   ],
   "source": [
    "estrategia_principiantes"
   ]
  },
  {
   "cell_type": "markdown",
   "metadata": {},
   "source": [
    "### Fuente: foro, estrategia, guía para jugadores competitivos."
   ]
  },
  {
   "cell_type": "code",
   "execution_count": 41,
   "metadata": {},
   "outputs": [],
   "source": [
    "url_guia_competidores = 'https://boardgamegeek.com/thread/2177187/the-guide-for-competitive-players'\n",
    "guia_competidores = extraer_comentarios(url_guia_competidores)"
   ]
  },
  {
   "cell_type": "code",
   "execution_count": 42,
   "metadata": {},
   "outputs": [
    {
     "data": {
      "text/plain": [
       "['Rajas of the Ganges is one of my favourite games. I like it because I see a way to work towards mastering it. I hope that this article will improve the gameplay of those with similar goals, as well as those on Yucata. This article is more tailored towards 2-player games (Navaratnas Ganga module) but many of the principles also apply to higher player counts. Revised in Feb 24 I incorporated new views based on my 10 games played as part of a Yucata Kings Court tournament. (2-players, round robin). The most significant is I now see the value of picking the Great Mogul (1). Besides updating the guide, I tried to improve the readability of the guide with ChatGPTs help. I am not very proficient with formatting on BGG, so I apologize in advance if it is still difficult to read! Rajas of the Ganges Strategy Guide Introduction Rajas of the Ganges holds a special place among my favorite games, as it provides a clear path to mastery. This article aims to enhance the gameplay for those with similar goals, specifically for 2-player games (Navaratnas Ganga module), but many principles also apply to higher player counts. At a Glance',\n",
       " '1. The Macro View Revised in Feb 24 - Mixed strategy Heavy Money Fame 2. Evaluating the Board State at the Start of the Game to Decide on a Strategy - 1 market of each kind 3 and 4 directional tiles (consider your dice as well) 3. Dice Management Revised in Feb 24 - 3 karma dice River 3 color dice River Dancer 2 dice River 1-for-2 dice 1 dice (assuming the dice color matches what you want) 4. How to Get Money - Different market spot - No. 4 - River spots - Connecting to the bottom of the board (longer than the top but more worthwhile in the long run) - 1 market (only worth if activating 3 or more) 5. How to Get Fame - No. 4 then build monuments - Board - River spots 6. How to Quickly Get Your 6 Workers New Section in Feb 24 - River is your good friend - If you have a good Money set-up (3 different markets), focus on river spots giving fame - If you have a good Fame set-up (min. 3 monument upgrades), focus on river spots giving money 7. What Yield Tiles to Pick New Section in Feb 24 - Make sure you have a good Brown end-game yield tile - If you have a bad Money engine, pick Money - If you are reaching the yield tile soon and lack dice, pick dice 8. Others - (Base Game) the most optimal way to build is to go down the center and build both ends - Withhold building to punish opponents for getting dice in the color of the tile you want and can get',\n",
       " 'Macro View Mixed Money Fame The game concludes when the fame and money tracks intersect. Thus, players can opt to focus heavily on money, fame, or pursue a mixed strategy. In a balanced strategy, players benefit from both tracks, making it generally more advantageous. A slight emphasis on money is preferred due to better bonuses (river and dice) compared to fame (upgrade, karma, and river). However, a fame-heavy strategy can still be successful. In Raja of the Ganges, flexibility is key, and understanding your best options at any given moment is crucial. Evaluating the Board State at the Start of the Game to Decide on Strategy 1 market of each kind 3 and 4 directional tiles By default, seek market tiles of each kind (greenyellowred) providing 2-3 coins to quickly form 3 different markets for 6-9 coins. Two-markets-in-one tile and affordable market tiles are also viable. The 3-different-markets meeple spot offers the best VP-to-cost ratio, as it requires investment in only 3 tiles and costs no dice. If acquiring these tiles is challenging, consider going for monument upgrades. In such cases, focus on 3 or 4 directional monument tiles or those combining monuments and market tiles to build both the fame and money tracks simultaneously.',\n",
       " 'For example, in the given illustration, consider 7 blue (since green Market is rare) and then either 5 Orange, 9 Green, or 7 Purple. This tile evaluation remains relevant throughout the game as you aim to build towards the bottom for the most rewarding outcomes. Deciding between sub-par 3 or 4 directional tiles (usually market tiles) and tiles that fit your monument upgrades will likely determine your chosen strategy, whether Heavy Money, Mixed, or Heavy Fame. Dice Management 3 karma dice River 3 color dice River Dancer 2 dice River 1-for-2 dice 1 dice Dice color matters only when building. Dice plays a crucial role in lubricating your VP engine. In order of preference, obtain dice through the following methods 1 River spot (1 die per karma) The uniform color aids in building tiles. 2 River spot (2 dice) is superior to 1-for-2 dice exchange because it advances the river track, providing better rewards and an extra meeple. 3 Updated Feb 24 Dancer While Dancer is more useful in the early game, it gradually loses its edge as you accumulate enough yield tiles. 4 1-for-2 dice exchange is usually better than acquiring 1 dice because more dice of the same color make building easier, and you get a free roll of the die you gave up. Think of it as receiving a new die, rerolling your die, and giving it a different color. Consider saving a die to acquire more dice, as this is typically the trade-off. With dice, focus on increasing both money and fame. Strategies for Resource Acquisition in Rajas of the Ganges How to Get Money - Different market spot - No. 4 - River spots - Connecting to the bottom of the board (longer than the top but more worthwhile in the long run) - 1 market (only worth if activating 3 or more) How to Get Fame - No. 4 then build monuments - Board - River spots How to Quickly Get Your 6 Workers New Section in Feb 24 In the Advanced game, you start with 3 workers and can unlock 3 more by advancing on the Money, Fame, and River tracks. Rushing for 6 workers is beneficial, outweighing the drawback of yielding tiles to opponents. This is because 1 worker is minimally worth 1 die, and the benefit of yield tiles diminishes as opponents acquire more. River is your good friend - If you have a good Money set-up (3 different markets), focus on river spots giving fame - If you have a good Fame set-up (min. 3 monument upgrades), focus on river spots giving money While its preferable to get 3 markets and then focus on fame for the extra worker, circumstances may not allow this, usually due to tile constraints. In such cases, focus on fame but make a conscious effort to obtain all the Money bonuses on the river. Anticipate whether your opponent is using the build or river locations and try to beat them to it or delay your visit to these locations until the next round if there are no compelling reasons to visit this round. The goal is to secure the worker on the Money track. The river is an excellent place to utilize low rolls and can yield various rewards. Climbing it strategically for the rewards you need (usually dice fame or money) is key. The Portuguese (6) turns out to be more useful than perceived, particularly when moving up the river without 6 is challenging. Keep this in mind when deciding whether to use the 6 dice to build tiles or ascend the river. 6 can also be a good option when landing on the river reward that allows you to pick one of 1 - 5 bonuses. What Yield Tiles to Pick New Section in Feb 24 Ensure you have a good Brown end-game yield tile - Based on my observation, players prefer taking yield tiles in this order RedBrown YellowWhite. - Starting with a bad brown yield token can be detrimental, and players should quickly exchange it for a good brown yield token. Only the bolded tiles below consistently provide 6 or more fame.',\n",
       " '1 fame per 3 river spots 1 fame per worker 1 fame per market 2 coins per monument upgrade 2 coins per tile connected 1 coin per building 2 fame per bend',\n",
       " 'For white, yellow and red yield tiles, - If you have a weak Money engine, pick Money - If you are approaching the yield tile soon and lack dice, pick dice Others (Base Game) the most optimal way to build is to go down the center and build both ends - The bottom rewards are significantly more potent. Consider this scenario (and how you should generally build in the base game)',\n",
       " '4 Fame 7 money or 6 money 8 Money. If lacking dice, consider taking a detour to the 2nd bottom row first, as it is more valuable than going down the sides where you get 3 dice before reaching your rewards. - For the Advanced mode, route choice is flexible; pick a route that aligns with what you want to build. Withhold building to punish opponents for acquiring dice in the color of the tile you want and can get - This is an advanced consideration when players have a good sense of whether a given tile is sought after by others. Otherwise, its generally better to buy a tile first, see what that tile is, before obtaining dice to better adapt to the available tiles for purchase. Parting Remarks Critics have pointed out Rajas of the Ganges for being scripted on a strategic level, but the games essence lies in tactical decisions. Its 80 tactical, akin to navigating a maze in the fog. The fun lies in assessing the most likely path based on limited information. I hope this guide aids those striving to enhance their gameplay Addendum As nandblock rightly points out in the comments, the Master Builder is often overlooked. There are a few advantages to it, namely Converts dead ends to live paths (translating to creating dead ends for yield rewards and then over-building to continue the path) Provides the ability to snag a tile if you lack enough dice of the same color to build conventionally Saves coins. I have used it effectively too. Note that these advantages must be weighed against not advancing your path (since you are replacing and not adding a new tile). Some players use their 1 dice to get the Great Mogul (1). I think this is not worthwhile because most river spots are worth more than 2 fame, or it can be converted to a 6 for Portuguese or building tiles. I will probably only do it if I need the 2 fame to get my fame worker The leading player is 2 or 3 seats after me AND the player seated after me does not threaten me The next round will be the last round The player after me always picks the Great Mogul Update in Feb 24 In 2-player games, I have been humbled by players frequently picking the Great Mogul. The Great Mogul can be a very good pick if both players have developed their 3 markets. Lets say both players can get 6 coins from the spot, the Great Mogul can represent a 12-coins swing (6 to you, -6 to your opponent). This is also very good if it would help you or stop your opponent from getting a reward on the Money track. That said, you still have to weigh it against advancing 1 river step or converting to 6 for Portuguese or building tiles.']"
      ]
     },
     "execution_count": 42,
     "metadata": {},
     "output_type": "execute_result"
    }
   ],
   "source": [
    "guia_competidores = [texto.replace('\\n', '') for texto in guia_competidores]\n",
    "\n",
    "guia_competidores = [re.sub(r'<.*?>', '', text) for text in guia_competidores]\n",
    "guia_competidores"
   ]
  },
  {
   "cell_type": "markdown",
   "metadata": {},
   "source": [
    "### Fuente: foro, reviews."
   ]
  },
  {
   "cell_type": "markdown",
   "metadata": {},
   "source": [
    "Los foros consultados fueron:\n",
    "- \"Rajas of the Ganges: An Awesome Game that Exceeded My Expectations\"\n",
    "- \"Silver Duck Reviews: Rajas of the Ganges\"\n",
    "- \"A Disappointing First Impression of Rajas\"\n",
    "- \"Patrick Reviews Rajas of the Ganges\"\n"
   ]
  },
  {
   "cell_type": "code",
   "execution_count": 48,
   "metadata": {},
   "outputs": [],
   "source": [
    "rev_1 = extraer_comentarios('https://boardgamegeek.com/thread/2282811/rajas-of-the-ganges-an-awesome-game-that-exceeded')"
   ]
  },
  {
   "cell_type": "code",
   "execution_count": 49,
   "metadata": {},
   "outputs": [],
   "source": [
    "rev_2 = extraer_comentarios('https://boardgamegeek.com/thread/2780072/silver-duck-reviews-rajas-of-the-ganges')"
   ]
  },
  {
   "cell_type": "code",
   "execution_count": 50,
   "metadata": {},
   "outputs": [],
   "source": [
    "rev_3 = extraer_comentarios(\"https://boardgamegeek.com/thread/2832640/a-disappointing-first-impression-of-rajas\")"
   ]
  },
  {
   "cell_type": "code",
   "execution_count": 51,
   "metadata": {},
   "outputs": [],
   "source": [
    "rev_4 = extraer_comentarios(\"https://boardgamegeek.com/thread/1995134/patrick-reviews-rajas-of-the-ganges\")"
   ]
  },
  {
   "cell_type": "code",
   "execution_count": 52,
   "metadata": {},
   "outputs": [
    {
     "data": {
      "text/plain": [
       "['This is my first review for BGG. Ive really enjoyed Rajas so far so it seems like a great game to start with! I love midweight Euros and a big appeal of this game for me was the stated 60-75 minute play time. I often play games with coworkers at lunch and we have an hour to play. For that reason, I dont get to play heavier games like Great Western Trail very often. Games that have seen regular play lately include Rajas, Tiny Towns, Tournay, Jaws, Res Arcana and Century Spice Road. I bought Rajas of the Ganges a few weeks ago after months of delayed gratification... its been on my wishlist for a while. Ive spent a fair amount of time traveling in India so the theme was automatically a win for me. The art and components are fantastic. 48 dice of varying colors, wooden meeples, nice thick tiles for province building. I also really love the Kali component for storing dice. The only component Ive found lacking is the player 1 elephant - sure, its cute, but it easily falls apart. This is nitpicking, though. I have played this game at 2, 3 and 4 players and have loved it at all counts. Turns go fairly quickly. Interaction is indirect but theres a fair amount of tension due to the competition for building tiles and placing workers. I always find myself paying attention to the turns of others. Rajas also combines dice rolling, tile laying and worker placement in an extremely satisfying combination. The worker placement vibe gives me a Lords of Waterdeep feel, which is a big positive. Players start with 3 workers but can unlock up to two more, so all players are racing to get an advantage (however brief) where they get additional actions in a turn. The tile laying comes into play when building out provinces that include markets (for money) and monuments (for fame) - plus reaching certain spots leads to bonuses. This adds a nice, classic Carcassonne vibe. The individual player boards for provinces are excellent and the rules for building out provinces are simple yet engaging. The dice rolling aspect is also excellent. I hate luck-based games and Im generally not a fan of dice. Games like King of Tokyo bore the heck out of me. However, I love games where I can mitigate andor manipulate dice, and this is one area where ROTG really shines. Dice are rolled as soon as they are acquired. I am almost always excited by what I roll because I have so many options. Low rolls can be turned to high rolls by using karma (and high rolls are desirable for gaining buildings). However, low rolls can be desirable in their own right - for instance, the dancer can only be activated with a die roll of 2 (which results in 2 fresh dice to add to a players pool along with a bonus tile) and the yogi is activated with a die roll of 3 (a free die plus 2 karma). Each player also has a boat on the river that can be moved only with a roll of 1-3, triggering special bonuses. In the rare instances I get a mediocre roll and find myself stuck, its generally because I havent done a good job replenishing karma. My gaming group have found multiple strong strategies for winning this game. Being resourceful with dice and balancing fame and money are all important. Also, everyone Ive played with so far (4 other people plus myself) have all really liked this game. Best of all, this game can be played in about an hour. I played a 3-player game a few days ago that was tense, thinky and immersive and led to all three players nearly winning the game despite the fact that we all pursued drastically different strategies. I was amazed that we completed the game in an hour. It felt like wed played a meatier game, which is a huge plus for me. As much as Id like to bring a big ol Euro to the table at lunch, its just not an option for us at work! I give this game a 9 out of 10 (and I havent given any games a 10 just yet, so 9 is as high as I go). Highly recommended!']"
      ]
     },
     "execution_count": 52,
     "metadata": {},
     "output_type": "execute_result"
    }
   ],
   "source": [
    "rev_1 = [texto.replace('\\n','') for texto in rev_1]\n",
    "rev_1"
   ]
  },
  {
   "cell_type": "code",
   "execution_count": 53,
   "metadata": {},
   "outputs": [
    {
     "data": {
      "text/plain": [
       "['Plays 4 at player counts 2 3 Appearance The front of the box shows a beautiful landscape and river with a deity holding dice and is full of colour and detail. The back of the box shows a 2 player game in progress showcasing the majority of the components and gives a description of the theme of the game. The game has a good insert which holds the components well and makes setup a lot quicker. The player boards are well laid out but a little bland until you lay tiles on them during the game. The tiles are more detailed with various spices and buildings, along with a large number and colour to denote what they require to be built. The wooden coloured player components are easy to distinguish from one another and include some shaped meeples along with some bland cubes. The main board is a particular highlight of the components, it is very colourful and detailed and doesnt look overwhelming. Finally the dice are very good quality in bright colours with a nice weight to them. Gameplay The aim of the game is to make your fame and wealth track markers intersect one another, these run in parallel around the board in opposite directions. When a players 2 markers intersect the end of the game is triggered, with the player with the biggest difference between the 2 markers winning if multiple players tokens intersected. Each turn players will place workers, pay any costs associated with the spot and carry out the action listed. These costs vary from moving back on the money track to paying a specific colour or numbered dice. Players will continue to place workers until all workers have been placed and the board will then reset with players collecting back all their workers and the next round can begin as long as the end game hasnt been triggered. There are 4 main different worker placement areas the quarry, market place, palace and harbour. Using the quarry worker area you can build a province tile into your personal province. There are 12 different province tiles on offer at any time, 3 for each different coloured dice. Your must pay the listed money cost when placing your worker along with matching coloured dice of equal to or greater pip value than the tile you are acquiring. You must place these tiles with a direct path back to your starting palace on your province. You gain any yields that you connect to on the edge of your province and receive the money from any markets on the tile. You also receive fame for any buildings on the tile based on your position on that buildings scroll track on the main board, so between 2 and 4 fame. There are various actions and bonuses on the board that allow you to move up on the 4 building scroll tracks. The market worker area allows you to collect income from the markets in your province, either from the same type of market or different ones. When activating the same market you must pay a dice and can only activate as many markets as the pip value of the dice. The palace has 3 main areas the terrace, balconies and the chamber. In the terrace and balconies you can either collect a specific coloured dice of your choice or trade one coloured dice for 2 of a different coloured dice. Whenever you collect dice you roll them and place them onto your Kali statue if you have room. You can always spend karma (if you have it) to flip a dice when you need to pay a cost. In the chambers you can spend a dice of a specific number to activate one of the characters for a specific action. These include gaining dice, karma, scroll movement, taking first player and building over province tiles in your area. In the harbour you can move your boat 1 to 3 spaces on the river and take the listed bonus on the space you end your movement on. The amount of spaces you move depends on the value of the dice spent. Boats cannot be on the same space and you simply skip spaces opponents boats are present on. The bonuses are very similar to the other actions on the board but towards the end reward dice, money or fame based on a condition such as number of karma, scroll movement or markets built in your province. You start the game with 3 workers but can unlock up to 3 more from the fame, money and river tracks when your corresponding marker passes them. Play continues until the end of the game when one players score markers intersect. Play continues until every player has played an even number of turns and then the winner is determined. The turns flow very naturally in this game with simple to resolve actions and costs to pay. The game plays 2 to 4 players and an unofficial solo automa is also available on bgg. Theme and Game Length The game has a good theme, different to many other Euro games of this weight but it doesnt really come through in the actions you are performing. Why are you trying to get wealth and fame to meet, who are these characters and why does the river give the bonuses it does. Gaining workers makes slightly more sense as when you get more famous on the 3 tracks more people are willing to work for your province. The game doesnt drag at all and is actually quite fast for the level of decisions offered. The game scales well with 2 different sizes of the board to tighten up the worker placement spots. The game takes about 20 minutes per player which is very good considering the weight of decisions you make. Strategy There are two main ways to score points in this game, wealth and fame. It is very hard to just work on just one of these and win so over the course of the game you will be earning both. Players will differ in their overall strategy but there is only the one way to win, intersecting your markers. A focus you must have is to get more workers as quickly as possible. The two workers that can be unlocked on the wealth and fame tracks are the easiest to obtain. The wealth track also offers multiple other bonuses so is the track you should target at the start of the game. If other players have more workers than you for too long you have no chance of winning with the yield tiles offering too little in compensation for the worker placement actions they are taking. Each fame is worth 2 money so this obviously looks more appealing to try and race up but without the track bonuses this shouldnt be an early game focus. Instead you should look to increase your scrolls for the 4 building types. If you specialise in one or two building types other players may build tiles with that building type to prevent you from building it. Also with 4 different building types the tiles that may come out may not be the ones you get extra fame for so its probably best to spread your scroll movement out. A space that you cannot underestimate is the space to activate up to 3 different markets in your province. You want to make sure to build 3 different high value markets as soon as possible to take advantage of this space. This spot (or spots in the 34 player games) is usually the first spot players go to at the start of each round from the mid game onwards. It costs no dice and can yield anywhere from 3 to 9 money which is better than any other spot due to having no costs. Activating multiple markets of the same type can also be good but requires a lot of the same market to be built which depends a lot of the tiles that come out. Many of the spots cost dice of various values with every value having a potential good use. If you get lots of high value dice you should be using these to build tiles, trying not to waste too much pip value. The lower value dice can be used for some of the characters or more likely the river. The river is sort of split into two halves by your unlockable worker with the first half offering small bonuses like dice, scroll movement and fame. The later half offers powerful one off bonuses like activating multiple markets or gaining fame and money based on a condition. It is perfectly viable to skip most of the early bonuses and plan to maximise these powerful one off bonuses instead. With so many spots costing dice you always want to make sure you dont run out. You should never take the terrace actions to gain one dice as it is so inefficient and should instead look to use bonuses to acquire dice or trade one dice for two. In the higher player count games you also want to make sure you are not 3rd or 4th in turn order for long due to some worker placement spots being clearly better than others and you can really fall behind if you are not careful. There have been some runaway leader problems in the games that I have played of this. During the mid game it became obvious who was going to win generally because of the market setup they had on their board. This meant one worker could gain them 6 12 money with each action which was much stronger than the other players. Newer players will struggle with experienced players with both tracks to manage and not being able to distinguish which worker placement spots are better than others. The game has modest replayability as you are aiming to do the same thing each time and the way the tiles come out and what dice values you get will change each game. The game also comes with several modules which significantly help replayability and make the game better in my opinion with ways to customise your province. The game can end very suddenly and can be difficult to plan for so you need to be building towards the end of the game constantly. Accessibility The game is light to medium weight with simple to perform and resolve actions but some setup on your province tile required to do well. There is also some consideration needed for when and where to place your workers to maximise their benefits. The game is very easy to teach with obvious iconography and the main board layout also helps. The rulebook is excellent, very clearly laid out rules with multiple examples and text descriptions of each worker placement spot. The game takes up a decent amount of table space with each players province, the main board and places for tiles and dice. Final Thoughts Rajas of the Ganges is a good next step worker placement Euro game with simple to understand rules and great components. The game has good flow to it with your points increasing steadily before exploding towards the end. One of my main problems is the market space on the main board especially the activate 3 different ones in your province. This is way too strong due to having no cost and makes first player way too powerful in this game with players needing to shift it multiple rounds in a row to mitigate this. I really like the scoring in this game its fairly unique and offers different considerations unlike normal Euro style games. I also like the fact that all values of dice have uses in this game so even though low numbers arent good for building you can use them on characters and the river or to trade. A solid light to medium weight game. 710 If you enjoyed this review please leave a thumbs up and also think out about checking out one of the 120 reviews available on my blog (with pictures), Silver Duck Reviews, and subscribing to let you know when new reviews go live.']"
      ]
     },
     "execution_count": 53,
     "metadata": {},
     "output_type": "execute_result"
    }
   ],
   "source": [
    "rev_2 = [texto.replace('\\n',' ') for texto in rev_2]\n",
    "rev_2"
   ]
  },
  {
   "cell_type": "code",
   "execution_count": 54,
   "metadata": {},
   "outputs": [
    {
     "data": {
      "text/plain": [
       "['I have only played Rajas once at 2p and I must say that I found it to be an utterly underwhelming and overly frustrating experience. The problem with Rajas is that it overwhelmingly relies on luck. Not the sort of fun luck youll find in Camel Up or Quacks of Quedlinburg but the sort of luck that makes you wanna flip the table. There is no question that the most important aspect of the game is your personal player board. This is your engine that drives your money and karma production and if it isnt impressive, youre simply not gonna win. How does one make an impressive player board? With lots of dice pips, which means you either need a lot of dice or to roll well. If your opponent rolls better that you or happens to pick up all of the bonus tiles that award extra dice they will leave you for dead, and thats exactly what happened in my game. Sure there are ways to mitigate poor dice rolls with the use of karma but it just isnt enough as karma itself is costly and hard to come by. In my game I never felt like I had a chance of winning, yet I feel like I played as well as I could have with what I had. I absolutely do not feel that I had any chance of winning the game with my dice rolls and bonus tiles draws when compared to my opponents. My choices just seemed to have little to no agency; all the agency was in the dice rolls and that just isnt fun for me There are some interesting ideas in here, but thats about it. The interacting famemoney tracks seem interesting at first glance but when you really think about it it turns out that it couldve just been one track, not two. If something were to award you with one fame, it couldve just been two dollars (or rupees) to the same effect. Sure, there are bonuses to be had as you progress along the individual tracks but that only serves to force you to attempt a little bit of everything and dis-incentivizes focusing on one particular strategy. Overall, Rajas is a very generic, bland euro game with far too much dependence on luck. In my game it never felt like I was playing against my opponent, but rather I was playing against the game and the game was being much, much nicer to my opponent than it was to me. I would be hard pressed to play this again.',\n",
       " 'Totally the opposite of every play Ive had of this, including my first. The game has less luck than a lot of games using dice. Some spots can only be visited with low rolls and many of them are powerful. Maybe you just dont understand the game and cant figure out how to value what those options are? Whatever the reason, its not the games fault. Raja is a top 10 all-time game for me and is likely to remain that way.',\n",
       " 'Rajas was such a hit with me, I play against a difficult automa I printed cards for and have played multiplayer. There were always things to do with different dice, high or low, and everything is cleverly put together. So you have only played once at two player, have you played any other ways? Maybe it was just a really unlucky game and your opponent was luckier and also stole the areas youd want, before you. If there was only one track it wouldnt be that much fun.... A lot would seem odd too, spending money to gain more money? Fame and crossing on the track make it more fun. The Dice Charmers version of this game is also super fun. I always wrote this off since I am a solo player, but always wanted the game. So glad I found the automa and then did end up recruiting newbie type gamers. Easy to teach and understand. This game instantly jumped into my top nine. What are some games you love, so we know if it is even your style? To each their own of course!',\n",
       " 'I know that some of the low dice-roll spaces are valuable, but not nearly as valuable as buying good tiles. I doubt one could ever win this game with consistently low die rolls.',\n",
       " 'Maybe it was just a really unlucky game and your opponent was luckier - exactly my point.',\n",
       " 'Maybe it was just a really unlucky game and your opponent was luckier - exactly my point.',\n",
       " 'Ah yes, but dice rolling isnt often so perfectly one sided, so my point is that your first experience is more of a fluke than an actual measure of how the game usually plays. I mean, of course its your right to dislike it and find is disappointing. I just think your first game sounds like a fluke. The game is usually tight and not such a runaway winloss.',\n",
       " 'Also it does seem very Euro-introductory, but I love the simplicity and easy to figure out iconography. Easy to teach to newer gamers interesting in expanding. I also love the roll of dice. Maybe one of the goodies boxes would fix the problems you are having. I am going to look closer at them for myself.',\n",
       " 'The problem with Rajas is that it overwhelmingly relies on luck.',\n",
       " 'No it doesnt. Its a dice-driven game, and like all dice-driven games there is an inherent amount of randomness (or luck as you call it). But overwhelmingly reliant on luck? No, because there are multiple ways to mitigate dice values that arent working for you, and Karma is just one of them. You have one particular dice that isnt working for you? Trade it for 2 other different colored dice and get a fresh roll. There are good spots for low value dice rolls as well as higher value ones. As for building up your player board, start modestly and work your way up - the default presentation of the tiles is very even and fair in that there should always be something you can afford to build. It may not be the perfect tile for you at that given moment (it rarely is) but a creative player should be able to find a way to make something work.',\n",
       " 'I would be hard pressed to play this again.',\n",
       " 'Thats too bad. It really is a terrific game but if youre confident that one play was enough to put you off for good, then it is what it is.',\n",
       " 'I know that some of the low dice-roll spaces are valuable, but not nearly as valuable as buying good tiles. I doubt one could ever win this game with consistently low die rolls.',\n",
       " 'It took me a bit to figure out how to finagle this scenario, but the key is karma and the river. If you can time out your karma right, you can snag a bunch of low value tiles to get your bonuses. The two space is also seriously useful in these scenarios since you can get up to three dice of your choice. Additionally, dont feel bad if you take the re-roll action, its not great, but a bit of cash in your pocket and a better roll can be a good thing. Weirdly enough, I tend to struggle with consistent high value rolls, particularly in early game.',\n",
       " 'The problem with Rajas is that it overwhelmingly relies on luck.',\n",
       " 'No it doesnt. Its a dice-driven game, and like all dice-driven games there is an inherent amount of randomness (or luck as you call it). But overwhelmingly reliant on luck? No, because there are multiple ways to mitigate dice values that arent working for you, and Karma is just one of them. You have one particular dice that isnt working for you? Trade it for 2 other different colored dice and get a fresh roll. There are good spots for low value dice rolls as well as higher value ones. As for building up your player board, start modestly and work your way up - the default presentation of the tiles is very even and fair in that there should always be something you can afford to build. It may not be the perfect tile for you at that given moment (it rarely is) but a creative player should be able to find a way to make something work.',\n",
       " 'I would be hard pressed to play this again.',\n",
       " 'Thats too bad. It really is a terrific game but if youre confident that one play was enough to put you off for good, then it is what it is.',\n",
       " 'Yeah, these are all somewhat valid points, but if Im having to take all these actions trying to get more dice and reroll my low value dice while my partner is not then Im inherently at a disadvantage. Not to mention that they consistently picked up extra dice with the 2-pip die action while I was getting the less-useful bonuses. It was not a level playing field. Maybe its just a me problem though because I dont like luck in my euros. And you may call it randomness, but I definitely call it bad luck when I pick 4 dice and roll thee ones and one two when Im specifically in need of high numbers, and have already used up all my karma on my earlier lousy rolls.',\n",
       " 'My experience with the game is the opposite of the OP. We bought it shortly after we played it. We enjoy dice rolling games, even when we roll bad (my wife is the queen of bad rolling), but she enjoys this one with me. Too bad you (OP) didnt like it, but to each his own.',\n",
       " 'Thanks for your post. Always good to read a less favourable but well presented opinion. I enjoy Rajas, but for me the strength of the markets and getting the right dice to grab a set is more of an issue than simply pip value. Markets can be really strong and theres this forced tension of feeling like you have to get market sets otherwise someone else will and theyll spin up an engine and pull away. Rather than have other directions to go in. It comes up in various threads and Im not sure Ive ever been completely satisfied by the arguments that the game is fine as is. So I find it hard to grab it off the shelf. The problem may be mine. I tend to play games in a way where I avoid strategies that look obviously strong. I dont know why, but I just dont want to be doing the obvious moves all the time because then I dont really have any agency. Its scripted. The last few games of ignoring an obvious market grab have left me way behind the pace, watching people accumulate money quickly whilst my engine stalls. The argument seems to be that Rajas isnt a game of diverse strategies. Its a game of balance. Sometimes you have to take those tiles because otherwise you are being suboptimal and leaving a great move for someone else. And I guess I should play with that mindset and enjoy the tension around the scramble for good tiles. But to bring this full circle, therein lies the luck part of the game for me. If a great tile comes up and I convert one dice to two of the colour I need and I get low values, its taken too long to nab the tile before someone else snaffles it. Sure theres karma and keeping a good dice pool, but as the OP alludes to, sometimes it feels like youve been situationally shafted when it really does matter that you roll high. All of this does make me want to play it again though lol',\n",
       " 'I enjoy Rajas, but for me the strength of the markets and getting the right dice to grab a set is more of an issue than simply pip value. Markets can be really strong and theres this forced tension of feeling like you have to get market sets otherwise someone else will and theyll spin up an engine and pull away. Rather than have other directions to go in.',\n",
       " 'In my opinion, this is a bit of a problem and people often make weak arguments when dismissing it that dont really hold up in practice. I think the main issue is that there are a lot of opportunities to use your markets over and over again while simultaneously making the action stronger every round, but not that many opportunities to make your building scoring ramp up in the same way. You can counter it a little bit by blocking market spaces, but this can also be to your detriment because you effectively lose a turn if you arent also going for markets. I found that some of the mini-expansions fix this issue by simply introducing more options to upgrade your building scoring throughout the game. They also mix in some powerful tiles that make the other player think twice about blindly going for the high value market tiles, because then they might leave you a tile which has good synergy with fame scoring, leaving you to create a similar runaway scenario like they are trying to do with their high value market tiles. Ive already played one three-player game where my opponent completely ignored me while building his wealth engine, and in the final two rounds I ran nearly two-thirds of the fame track and won by a landslide.',\n",
       " 'I have to disagree. There is a constant flow of dice and I cannot see how you can be unlucky all the time. There are 2 powerful strategies going for markets or going for buildings. In a 2 player games if you go for the opposite of what your oponent is doing or focus on one of those strategies if your oponent is doing a little bit of both you have many chances to win. You need to use wisely your buildings and your workers. I will give you that sometimes you run out of dice and luck, but you have to build up your engine and understand that your oponents will also eventually run out of dice and luck. I mean, you roll tens of dice in this game, it is statistically impossible to always run out of luck. Seems to me that you have to give it another chance and find a strategy that fits your play. In the end if you lose by a little bit for a bad roll at least you had a great time competing.',\n",
       " 'My take away is that you should stay away from games with dice.',\n",
       " 'Well thats good advice to avoid disappointment, but is a case of throwing the baby out with the bath water. Theres a whole spectrum of how much the dice in games can affect the outcome. At one end would be something like roll a 1-3 you lose, 4-6 you win. At the other would be a game where the dice create chaos but in a perfectly balanced way. I agree that Rajas is more to the latter end, but I do think that my biggest gripe (the importance of being able to get the set of market tiles) is exacerbated by needing certain values of certain dice at the right time. If the markets felt a little less required then Id be way more willing to accept that enough dice are rolled that whoever navigates the chaos, by whatever route, is more often than not the worthy winner. So in my view the dice arent the problem per se, but combined with the requirement for certain values at important times, they can cause frustration, exactly per the OPs reference to the player board engine. This is a light to medium euro though, and for many all of that isnt going to hamper their enjoyment. Like I said before, all this does have me thinking I should give it a run again. And try to suppress my need to not be cheesy. It could be my bloody minded refusal to do the obvious thing in the hope theres more divergent paths thats the issue. Maybe its just a narrower game than I wanted it to be and preparing for those tiles and exploiting them, along with all other players trying to do the same, will create the natural balance im looking for regardless of dice rolls.',\n",
       " 'If you think the game is all about the player board and only high dice rolls matter than you are not analyzing the game deep enough. You are just looking at what on the surface level of what you think is most important. The river bonuses and palace spots are very strong. The two tracks are different because they have different bonuses along the way. Money gives you a lot of bonuses throughout the game. Fame gives you additional ability to get fame early on and access to another worker. The way you play against the opponent is to look at their board and colorvalue of dice and use that to anticipate what they may be trying to do. Then either get there first or play around it.',\n",
       " 'Rajas is one of my favourite games. What I like about it is that you still have options if you get low dice values. The number Two palace spot is very strong as is the river. Also you have Karma to mitigate the dice you get. Dont forget tile overbuilding which can be very strong in certain circumstances as you only have to pay the difference. For the different market space you dont even need a dice. It shines at higher player counts.',\n",
       " 'rizzou No, you are right, and I certainly dont think its only about high rolls. Nor do I think the player board is the only consideration. I get the variety of options, and i know the river can combo very nicely with other stuff. I have sympathy for the OP, even if I dont agree entirely. From around a dozen plays, mostly 2p but not exclusively, in the vast majority of games the player that exploited the assorted market the most won. Thats my issue. So subjectively, but with some supporting data, tiles that provide a variety of market goods of 2 or 3 coins each are more important. And they require certain dice colours and values. And therefore there will be occasions where I have to spend a couple of turns working to get the dice pips I need to get the tiles I really want, and I dont get them. In a 2 player game that can be swingy if you miss and they hit. The OP had quickly identified situations where they wanted certain values and were frustrated not getting them. I agree that in many of those situations there were probably equally good options away from building tiles, but Id also bet some of those situations were where they wanted those juicy market tiles and our thoughts on the game align. grandpawizard had said theres rarely a runaway winner and again thats not my experience where one player is able to get ahead with those markets. Many times I was happy to call the game 23 of the way through because it was crystal clear who would win. But some of this is personal taste. A lot of people love this game. And I have enjoyed the puzzle at times even though I felt it was a touch flawed as a competition. Just the other day I was reading Carolines recent blog post (subscribe if you havent already people!) where Rajas got a good mention. I for example really enjoy Spacecorp, a game that takes 2.5 hrs and has objectively bad tile draws. Why am I ok with that and less inclined to let it slide here? Who knows? We are a funny bunch! CarolineBlack - perhaps player count is part of the problem. I only had a handful of games at higher counts and pretty much every one of those games had one or two new players. Maybe the game needs players to know about, and to fight for, the market goods tiles to spread them around and keep those who dont get them in touch. Much in the same way auction games often dont work if one or more of the players are inexperienced and throw out the balance.',\n",
       " 'Thanks for your post. Always good to read a less favourable but well presented opinion. I enjoy Rajas, but for me the strength of the markets and getting the right dice to grab a set is more of an issue than simply pip value. Markets can be really strong and theres this forced tension of feeling like you have to get market sets otherwise someone else will and theyll spin up an engine and pull away. Rather than have other directions to go in. It comes up in various threads and Im not sure Ive ever been completely satisfied by the arguments that the game is fine as is. So I find it hard to grab it off the shelf. The problem may be mine. I tend to play games in a way where I avoid strategies that look obviously strong. I dont know why, but I just dont want to be doing the obvious moves all the time because then I dont really have any agency. Its scripted. The last few games of ignoring an obvious market grab have left me way behind the pace, watching people accumulate money quickly whilst my engine stalls. The argument seems to be that Rajas isnt a game of diverse strategies. Its a game of balance. Sometimes you have to take those tiles because otherwise you are being suboptimal and leaving a great move for someone else. And I guess I should play with that mindset and enjoy the tension around the scramble for good tiles. But to bring this full circle, therein lies the luck part of the game for me. If a great tile comes up and I convert one dice to two of the colour I need and I get low values, its taken too long to nab the tile before someone else snaffles it. Sure theres karma and keeping a good dice pool, but as the OP alludes to, sometimes it feels like youve been situationally shafted when it really does matter that you roll high. All of this does make me want to play it again though lol',\n",
       " 'Well articulated. This is quite literally what happened to me. I just couldnt get a good market set!',\n",
       " 'My take away is that you should stay away from games with dice.',\n",
       " 'There are plenty of games that I love that use dice well. Most notable Castles of Burgundy, which may not be a perfect system but does offer much better ways to mitigate bad dice rolls.',\n",
       " 'rizzou No, you are right, and I certainly dont think its only about high rolls. Nor do I think the player board is the only consideration. I get the variety of options, and i know the river can combo very nicely with other stuff. I have sympathy for the OP, even if I dont agree entirely. From around a dozen plays, mostly 2p but not exclusively, in the vast majority of games the player that exploited the assorted market the most won. Thats my issue. So subjectively, but with some supporting data, tiles that provide a variety of market goods of 2 or 3 coins each are more important. And they require certain dice colours and values. And therefore there will be occasions where I have to spend a couple of turns working to get the dice pips I need to get the tiles I really want, and I dont get them. In a 2 player game that can be swingy if you miss and they hit. The OP had quickly identified situations where they wanted certain values and were frustrated not getting them. I agree that in many of those situations there were probably equally good options away from building tiles, but Id also bet some of those situations were where they wanted those juicy market tiles and our thoughts on the game align. grandpawizard had said theres rarely a runaway winner and again thats not my experience where one player is able to get ahead with those markets. Many times I was happy to call the game 23 of the way through because it was crystal clear who would win. But some of this is personal taste. A lot of people love this game. And I have enjoyed the puzzle at times even though I felt it was a touch flawed as a competition. Just the other day I was reading Carolines recent blog post (subscribe if you havent already people!) where Rajas got a good mention. I for example really enjoy Spacecorp, a game that takes 2.5 hrs and has objectively bad tile draws. Why am I ok with that and less inclined to let it slide here? Who knows? We are a funny bunch! CarolineBlack - perhaps player count is part of the problem. I only had a handful of games at higher counts and pretty much every one of those games had one or two new players. Maybe the game needs players to know about, and to fight for, the market goods tiles to spread them around and keep those who dont get them in touch. Much in the same way auction games often dont work if one or more of the players are inexperienced and throw out the balance.',\n",
       " 'As you said, the game depends on players knowing which tiles are good and fighting over them. In fact, in a 2p game you have less reason to say you find yourself locked out of a good tile because the available tiles only change by at most 1 between ur turns. It should be apparent when your opponent will get the good tile before you (and you should plan for another good tile). Regarding the 3 market location, you have 50 first pick. Unless your opponent picked the 1 dice location which I dont find a good use most of the time because you can convert it to a 6 and jump 6 River spaces. Compelling to get markets, yes, but not OP. Yes runaway games are possible because this game is maybe 70 skill.',\n",
       " 'The market being over-centralizing to me is a feature of the game, not a bug. Many euro gamers seem to have the expectation that each path of victory needs to be perfectly balanced. But there is nothing wrong with having certain paths be more desirable and thus skew the game towards them. Particularly in a worker placement game where you can strategize and fight over it, it just adds a different dimension to the game rather than just letting everyone spread out and avoid each other.',\n",
       " 'My current rating for this game is 710 (Good Usually Willing to Play). Rajas helped my partner and I to try heavier euros because even though it is not a very complex game, it looks a bit overwhelming. It kind of demystified euros in our household. Good game, I have not tried the expansions yet, but I would like to.',\n",
       " 'Mango Village is okay. If u want to play a more forgiving game, try it. Those tiles require two dice of same number so even your double 1s can be put to good use. And also, the tiles are 4-way. I personally prefer a tighter game with trade-off between good market tile (low dice total but 2 or 3 way) and 4-way bad tiles.']"
      ]
     },
     "execution_count": 54,
     "metadata": {},
     "output_type": "execute_result"
    }
   ],
   "source": [
    "rev_3 = [texto.replace('\\n',' ') for texto in rev_3]\n",
    "rev_3"
   ]
  },
  {
   "cell_type": "code",
   "execution_count": 55,
   "metadata": {},
   "outputs": [
    {
     "data": {
      "text/plain": [
       "['2-4 players 60-90 minutes medium Tile laying, worker placement Theme and Mechanics In Rajas of the Ganges, players are rich noble type people from India (please forgive my complete ignorance of Indian culture for this review, I am not well informed about this particular theme) and theyre working to improve their estate and earn the most money and prestige, fame, points, something like that to win the game. The theme really does come through, especially with the tile layingbuilding up their estates. Its hard for me to comment too much on theme and mechanics relating, because Im not too familiar with this topic, but it does seem like the mechanics are somewhat abstracted. It also seems like the setting could be changed without effecting game play, which makes the theme feel somewhat disconnected at times. Players each have an estate board with their palace on it, and several empty spaces, as well as a place to store dice, and 3 workers. There are 2 tracks around the outside boarder of the board going in opposite directions (money and fame). The player who can make these to tracks cross eachother the farthest wins the game. On their turn, players send one of their workers to one of several actions spaces (your standard worker placement rules) These actions are broken down into different areas that have similar effects; purchasing tiles for the estate, moving up the river track for various bonuses, gaining dice, gaining income, or using a specialist. Many of these actions have a money andor dice cost. The dice are used like resources. When they are gained, they are rolled and stored. There are 4 different colored dice that can be used for different actions in different ways. The tile laying action uses dice as a cost; each tile has a value and a color cost, and player must pay that many pips in that color to gain the tile. Moving up the river cost dice, the higher the number, the more spaces you can move. There are 6 action spaces (numbered 1-6) that require a specific number in any color to use, the marketincome space allows you to gain income from x number of markets (where x is the value of the die spent) and so on. There are also several action spaces that allow you to trade a die of one color for 2 dice of another color. There are several ways to manipulate the dice, and there are some good things you can do with bad dice rolls. The main focus of the game is the tile laying. Tiles will have markets (3 types) and buildings (4 types) that will score money and fame respectively when the tile is laid. The markets will also provide income when the market action is taken. The buildings will score fame based on the players progress on that buildings track. The tiles also dipict roads in various configurations. All roads must lead back to the palace in order to be legally placed. The perimiter of the player boards also have bonuses that are gained when a player connects the bonus to the palace with roads. each of the 3 tracks (money, fame, and river) offer a myriad of bonuses for certain points along the track (or every space in the case of the river) from improving buildings, fame, money, dice, karma (which is spent to flip dice over), bonus tiles, and extra workers. Art and Components This game looks fantastic. The board is absolutely beautiful, the box looks fantastic. All the art on everything in the game is stellar; very near to the best art in my game collection in my opinion. I have heard some say that the board looks very busy, and that that is confusing. I can understand that complaint, but I dont agree. It is far less confusing once you learn the game, and it just looks SO good. The quality of the cardboard tiles and board are standard good quality cardboard. There are no cards. The dice are bigger, translucent, good quality plastic dice with the rounded corners. The wooden worker pieces are cool looking, unique meeples, but Ive heard that they are not consistently cut, and my copy is no exception. Several of them are leaning (feet not cut straight) and one is missing half its head, and a friends copy had similar problems, but these issues are fairly minor. Theres a little multi-armed statue (ganesh? pardon my ignorance, again) that serves no other purpose but to hold your dice for you, but its really cool, and keeps the confusion low as to what dice are in your supply, and which were spent, and it just looks cool. Replability and Expansions The game is very replayable as is, and it comes with some variants and tokens to increase the variability; from changing the bonuses on the river spaces, to limiting dice storage (making the game more strategic), to changing the estate bonuses, and I would suggest using the variants in the rulebook right from the beginning for experienced gamers, because they increase the strategic choices in the game. There is one mini expansion,',\n",
       " ', which adds some unique tiles that came in a gaming advent calendar. I have no experience with this expansion, but as soon as I found out about it, I ordered it (which was literally as I was writing this review) The Up Side This is a very fun worker placementtile laying game. I think it combines those two mechanisms beautifully. It is very strategic, and all the pieces (mechanically) interlock very well. Its fairly easy to pivot strategies when necessary, and there is usually a way to figure out how to do what needs be done when your actions are taken by other players, but it usually takes some creative thinking. The game is absolutely gorgeous. The Down Side Im having trouble coming up with a down side. I guess I wish there were more tiles, or more variety on the tiles, like maybe an extra mechanism included in the tile laying portion. You wont go through all the tiles in a single game, but you also wont be surprised by cool new tiles showing up, because theyre all essentially the same (some roads, a building or two, or a market or two). Very minor complaint. Another complaint Ill mention, but do not agree with, is that the board is too busy looking. I wish it could play 5 players. Final Thoughts I absolutely love this game. This is one where Ill always be happy to play it, and Ill insta-buy any expansion sight unseen. Its the perfect weight and length, very little down time, lots of meaningful decisions and a unique scoring mechanism (which isnt really score at all) 9 out of 10 httpswww.coolstuffinc.commainsearch.php?pasearchOnName...']"
      ]
     },
     "execution_count": 55,
     "metadata": {},
     "output_type": "execute_result"
    }
   ],
   "source": [
    "rev_4 = [texto.replace('\\n',' ') for texto in rev_4]\n",
    "rev_4"
   ]
  },
  {
   "cell_type": "markdown",
   "metadata": {},
   "source": [
    "### Fuente: video review"
   ]
  },
  {
   "cell_type": "markdown",
   "metadata": {},
   "source": [
    "Se descargó el audio del video del siguiente link: https://www.youtube.com/watch?v=mSRN0DShdFM a fin de procesarlo más rápido que si fuese un video."
   ]
  },
  {
   "cell_type": "code",
   "execution_count": 51,
   "metadata": {},
   "outputs": [],
   "source": [
    "\n",
    "def split_audio(file_path, num_parts):\n",
    "        audio = AudioSegment.from_wav(file_path)\n",
    "        duration = len(audio)\n",
    "        part_duration = duration // num_parts\n",
    "        parts = []\n",
    "        for i in range(num_parts):\n",
    "            start = i * part_duration\n",
    "            end = start + part_duration if i < num_parts - 1 else duration\n",
    "            part = audio[start:end]\n",
    "            part_path = f\"part_{i+1}.wav\"\n",
    "            part.export(part_path, format=\"wav\")\n",
    "            parts.append(part_path)\n",
    "        return parts\n",
    "\n",
    "# Transcribir una parte de audio\n",
    "def transcribe_audio(audio_file):\n",
    "    recognizer = sr.Recognizer()\n",
    "    with sr.AudioFile(audio_file) as source:\n",
    "        audio_data = recognizer.record(source)\n",
    "    try:\n",
    "        text = recognizer.recognize_google(audio_data)\n",
    "        return text\n",
    "    except sr.UnknownValueError:\n",
    "        return \"No se pudo entender el audio\"\n",
    "    except sr.RequestError as e:\n",
    "        return f\"Error al conectar con el servicio: {e}\"\n",
    "        \n",
    "def process_and_transcribe_audio(audio_path, num_parts=4):\n",
    "\n",
    "    # Dividir el archivo en partes\n",
    "    audio_parts = split_audio(audio_path, num_parts)\n",
    "    \n",
    "    # Transcribir cada parte y juntar el texto\n",
    "    full_text = \"\"\n",
    "    for part in audio_parts:\n",
    "        full_text += transcribe_audio(part) + \" \"\n",
    "        os.remove(part) \n",
    "\n",
    "    return full_text"
   ]
  },
  {
   "cell_type": "code",
   "execution_count": 52,
   "metadata": {},
   "outputs": [],
   "source": [
    "texto_video_review = process_and_transcribe_audio(\"C:/Users/julil/OneDrive/Desktop/TecIA/2_anio/NLP/tp_2/data/review.wav\")"
   ]
  },
  {
   "cell_type": "code",
   "execution_count": 53,
   "metadata": {},
   "outputs": [
    {
     "data": {
      "text/plain": [
       "\"hello and welcome to Maple Mentor reviews I'm Jared and with me is Holly today we're reviewing rajas of the Ganges this game is from Hutch and R&R games and it's for 2 to 4 play in about an hour to hour and a half recommends ages 12 and up and this is a worker placement game set in the you know the the India River Ganges setting and you are all trying to gain wealth and fame as a exerting your influence over the region now you have three you can get a fourth or did I start with three get fourth you start with three workers you can gain up to two more but there's three ways that you can gain workers there's this is a game with two tracks around 1:00 and then a Fame on the other side and so they run parallel to each other in opposite directions and allows you to basically have this kind of race to increase your phone so that your two tokens will meet for pass and that's the race the end and whoever surpass their tokens the farthest wins the game so you know if you want to just kind of add up how many spaces do you have it is a worker placement game but there are a lot of dice in this game which are essentially used for resources the four colors of dice can be used for certain to pay for certain places to go like it might say pay an orange to go here and then it'll give you two purple dice back something like that or there is a section of the board called I think the palace where they're numbered 1 to 6 and you would spend one of your dice collected of that matching number to place a worker there there's also the purchase area where you can go and pay money to go there and then you collect a tile from those face up and available in the market there's three stacks for each color so 12 stocks and you have to spend the the right color dice that match what's showing on the tile and the value of that guy on the tile you have to have at least that many Pips on the dice you spend you can spend more than one die as you might need to specially if it's like a value 9 0 I have one two or three to advance the boat that number spaces and where you land that's where you collect the benefit and one of the ways you can gain a new worker is by moving your boat for far enough on the river to get to the bridge and you get a worker that way you can also get a worker for advancing a number of spaces on the income or up to a certain point on the same but you can only ever get two more so Holly what are some things that you like about the game I like trying to make a pattern on your own player board making Pathways to get bonuses that will either help you through the game or in the end of the game I enjoy the function of being able to trade one color of ice for other colors that you may need it I don't know I really like dice certainly the colors in here are really bright and sparkly like they're translucent colored dice so you know if you like that and you like bright colors is this is great I mean it's always going to be bright colors and rolling like trying to put together different you know it's different symbols on a card but you got to get this or you got to get three different ones or whatever for x amount of points on my personal space over here so pretty much you're going to have a lot of options with all the values that you'll end up rolling but if there's a specific space that you're trying to get to or thing that you're trying to do and you've got the wrong numbers and things like to its opposite side so it turns one into a 6 for example or vice versa so that can be very useful to help both find you know the specific space on the palace you want to go to or if you're trying to get a high value to buy a tile or something like that the karma is a good feature and it's a bonus that you can gain with certain actions so you know you get it back yeah it's a lot of fun I like how it looks and you know plays pretty pretty pretty smoothly it just keeps going around and around until well there is the first player token so we do around but the first player token doesn't move unless someone take it as a lot of these games this is a unique kind of game and if you like tile placement it has that as well and collection of things it's you know it came out in 2017 and still plays great today so definitely check it out \""
      ]
     },
     "execution_count": 53,
     "metadata": {},
     "output_type": "execute_result"
    }
   ],
   "source": [
    "texto_video_review"
   ]
  },
  {
   "cell_type": "markdown",
   "metadata": {},
   "source": [
    "### Recapitulando"
   ]
  },
  {
   "cell_type": "markdown",
   "metadata": {},
   "source": [
    "Se tiene la siguiente información de diversas fuentes:"
   ]
  },
  {
   "cell_type": "code",
   "execution_count": 54,
   "metadata": {},
   "outputs": [
    {
     "data": {
      "text/plain": [
       "{'OBJETIVO DEL JUEGO': 'Tu tarea es desarrollar tu provincia con la ayuda de tus trabajadores y el uso inteligente de tus dados acumulados. Al final, debes ganar la carrera con una combinación de riqueza y fama. El track de fama y dinero van paralelos entre sí, en direcciones opuestas alrededor del tablero. Los marcadores de fama se mueven en el sentido de las agujas del reloj, mientras que los marcadores de dinero en sentido contrario a las agujas del reloj. A medida que vas construyendo y expandiéndote, intenta aumentar tanto la fama como tu riqueza para que tu marcador de fama y dinero se crucen. El primer jugador que cruce o coincida su marcador de fama y su marcador de dinero aumentará sus probabilidades de ganar.4 marcadores de beneficio1 (doble cara) tablero (2 jugadores o 3 y 4 jugadores)4 Estatuas de Kali 4 tableros de provincia 24 trabajadores (6 por color) 4 marcadores de fama (1 por color)4 marcadores de dinero (1 por color)48 dados (12 por color) 1 elefante de jugador inicial (móntalo antes de la primera partida)20 cubos (5 por color 4x mejora y 1x ',\n",
       " 'SETUP': 'El jugador que haya sacado el valor más bajo en los dados se convierte en el jugador principal. En caso de empate, el último jugador que comió comida india. El jugador inicial colocará el elefante junto a su estatua de Kali y pondrá su marcador de riqueza en el espacio 3 en el track de riqueza. El jugador a su izquierda 4, el siguiente 5, y así sucesivamente. El jugador que vaya último comenzará con menos dinero. Coloca el tablero en el centro de la mesa con el lado correspondiente al número de jugadores (2 y 3 o 4). En una partida a 3 jugadores, cubre los e spacios marcadoscon l as losetas de coberturaPon los 48 dados junto al tablero de juego como reserva general. No es necesario Losetas de producción amarillas, rojas, y marrones (úsalas solo en la versión Navaratnas) y las 8 losetas de río.Ordena las losetas de provincia, primero por colores y luego por los símbolos a sus espaldas (serpiente, vaca, tigre), así obtendremos 12 montones. Mezcla los 12 montones por separado y colócalos boca arriba junto al tablero, visibles para todos. Mezcla las 8 losetas de producción blancas y ponlas en un montón boca abajo en el templo. Cada jugador coge un tablero de provincia y los componentes correspondientes 1 estatua Kali, 6 trabajadores, 1 barco, 5 cubos (karma y mejora ), 1 marcador de riqueza y 1 marcador de fama, además de 1 marcador de beneficio para el track de riqueza. Pon tu estatua de Kali y tu tablero de provincia con los lados representados hacia arriba delante de ti . Pon 3 de tus trabajadores junto a la estatua de KaliPon 3 trabajadores en los espacios disponibles en los tracks correspondientes Fama 15, Riqueza 20 y en el río (puente). Pon tu barco en el espacio inicial del río. Pon tu cubo de ',\n",
       " 'TRANSCURSO DEL JUEGO': 'El Juego se desarrolla en varias rondas, cada una de las cuales consta de varias etapas. En cada etapa, los jugadores, por turno - en sentido de las agujas del reloj, comenzando por el jugador inicial - podrá colocar un trabajador, pagar costes, si es necesario, e inmediatamente llevar a cabo la acción asociada. Este proceso continua hasta que nadie pueda colocar trabajadores. Después de eso cada jugador retirará sus trabajadores, y comenzará una nueva ronda. Los trabajadores podrán colocarse en la siguientes áreas del tablero de juego I.En la cantera, para llevar a cabo las acciones de construcción en tu tablero de provincia. II.En el mercado, para obtener riqueza a través de éstos, a lo largo de la partida. III.En el palacio del Gran Mogul, para obtener varios beneficios. IV.En el puerto, para avanzar en el río y así llegar a espacios de río que te otorgarán beneficios. En la cantera y en el puerto, los trabajadores se colocan siempre fila por fila de izquierda a derecha. En el mercado y en el palacio, se puede elegir cualquier espacio (desocupado) de acción. Mientras avanzas en el track de fama, riqueza y desarrollas tu provincia, tendrás la oportunidad de obtener valiosos beneficios. Colocando trabajadores y relación a las acciones asociadas. La colocación de trabajadores siempre procede de la siguiente manera 1.Coloca el trabajador. 2.Pagar costes, si es necesario con riqueza yo dados. 3. Lleva a cabo la acción. Costes Dependiendo en el espacio de acción que coloques el trabajar, puede que tengas que pagar unos costes para poder realizar esa acción. Algunos espacios son gratis, pero en otros, tendrás que pagar con dados odinero. El coste de la acción viene indicado en el espacio en sí.Pagar dinero para realizar una acción Cada vez que tengas que pagar dinero para realizar una acción (por ejemplo, en el puerto o cantera), mueve tu marcador de riquezas en el track de riquezas como es debido, -1 espacio por cada moneda que tengas que pagar. Si tu marcador está en 0, no tendrás dinero y temporalmente no podrás llevar a cabo acciones con coste de dinero. Lo mismo se aplica a las acciones con las que tengas que pagar dados - si no tienes ningún dado (adecuado) no podrás llevar a cabo la acción aplicable a esta. Los dados son el recurso más importante de este juego. Siempre que obtengas un dado del suministro general, tíralo inmediatamente y, con el resultado sacado hacia arriba lo colocaremos en una de las manos vacías de nuestra estatua de Kali (valores de 1 a 6). Atención! Puedes almacenar tantos dados como brazos libres tenga nuestra estatua de Kali - es decir, en el juego básico solo podrás poseer un máximo de 10 dados. Si estás en una situación que te otorgue más dados, puedes coger menos dados o poner dados de tu estatua de Kali de nuevo en el suministro general antes de coger los nuevos. Si un dado de color está temporalmente agotado en el suministro general, no podrás coger el dado de ese color en ese momento. coste gratis 1 moneda 1 dado del color mostrado En cada espacio de acción solo puede haber un trabajador. Los dados nunca se colocan en el tablero, siempre en el suministro (general o personal)! Cantera Mercado Puerto Palacio 3 ',\n",
       " 'ACCIÓN CONSTRUIR (CANTERA)': 'Coloca una loseta de provincia en tu provincia y obtén puntos de fama yo dinero. Para desarrollar tu provincia, necesitas enviar trabajadores a la cantera. dependiendo del lugar donde coloques el trabajador, pagarás de 1 a 4 monedas del track de riquezas. A cambio, obtendrás una de las 12 losetas de provincia (todas las losetas de provincia que estén visibles estarán disponibles para su compra). En la parte superior izquierda de las losetas de provincia se puede ver el valor mínimo de dados necesarios con los que deberás pagar dicha loseta de provincia. Pon los dados que has utilizado para pagar de nuevo en el suministro general. El valor total de los dados tendrá que ser como mínimo más alto que el mostrado en la loseta. Al construir se te permitirá pagar en exceso. Esto significa Para adquirir una loseta con valor azul 7, podrás pagar con un azul 3 y un azul 5, por ejemplo. Además de los costes, en las losetas también se representan caminos, edificios yo mercados. Una vez que se adquiera la loseta de provincia, inmediatamente tienes que colocarla en tu tablero de provincia. Ejemplo Rajesh, envía a uno de sus trabajadores a la cantera. Él paga 1 de dinero. Entonces él pone 2 dados naranjas en el suministro general. Él toma la loseta con el 9 naranja y lo conecta a un camino ya existente en su tablero de provincia. ',\n",
       " 'TABLERO DE PROVINCIA': 'Producciones especiales - Hay producciones ya impresas en el borde del tablero de provincia (simbólicamente son ganancias especiales debido a las relaciones comercias ya establecidas). Obtienes este beneficio inmediatamente cuando has conectado la loseta a tu residencia a través de un camino. (Ver abajo). Ejemplo Leila pone una loseta de provincia con una intersección. En ambos extremos la loseta se conecta con los dos beneficios adyacentes y se conectan a la residencia, a Leila se le permite coger cualquier dado de la reserva general y avanzar su marcador de dinero 5 posiciones. Por supuesto, también es posible colocar una loseta sin crear una conexión con el beneficio especial. En este caso , no obtendrías nada extra. Cuando agregues una loseta nueva a tu provincia, anót ate inmediatamente el dinero yo fama . Algunas loseta s muestran una o dos carpas de mercado con ciertos bienes (seda, té o especias) de cierto valor; otras losetas muestran uno o dos edificios (templo, palacio, fortaleza o molino); y algunas loseta s muestran una combinación de ambas. Cuando agregues una loseta con uno o dos mercados a tu provincia, inmediatamente recibe la cantidad de dinero indicado en esa loseta. Cuando agregues una loseta con uno o dos edificios, recibe inmediatamente 2, 3 o 4 puntos de fama por cada edificio, dependiendo d e dónde esté el cubo d e desarrollo de edificios correspondi ente a los pergaminos del tabler o central. ',\n",
       " 'Las mejoras de edificios': 'Los 4 tipos de edificios que puedes construir en tu provincia se muestran en el tablero. Al principio del juego, tus cubos se encontrarán en el primer nivel de cada edificio . es decir, ganarás 2 puntos de fama cuando agregues una loseta de provincia con 1 edificio (o, del mismo modo, 4 puntos de fama si aparecen dos edificios). Las mejoras te permiten mejorar tus habilidades constructivas y ganar 3 (o 4) puntos para un cierto tipo de edificio en las acciones de construcción posteriores. I. L L L X X X X X X X X 4Cada vez que añadas una nueva loseta de provincia, conecta el camino de la nueva loseta con uno de los caminos ya existentes, de modo que haya conexión con la residencia. Puedes girar la loseta nueva en cualquier dirección. También puedes orientar la loseta de tal manera que corte un camino de una loseta adyacente; no todos los extremos del camino deben conectarse - es suficente con que cada loseta esté conectada a la residencia a través de al menos un camino. Una vez colocadas las losetas no se podrán reubicar más adelante. Ten cuidado de no cortar todos los caminos, para que siempre tengas posibilidades para colocar losetas.El tablero de provincia muestra tu territorio, siendo tu el Raja (soberano) que se esfuerza por controlar y expandirse por el territorio. Tu residencia está arriba en el centro. De allí salen 3 caminos hacia tu territorio.Puedes adquirir mejoras de Raja en el palacio renunciando a un dado de valor 4 (ver p. 18, La Salas). Además, hay un espacio en el río que te permite realizar una mejora. Y puedes actualizar un edificio automáticamente después de haber cruzado el bonus aplicable en el espacio 5 en el track de fama o conectando la producción especial de tu provincia. Cuando se te permita hacer una mejora, elige uno de los cuatro tipo de edificio y mueve tu cubo de desarrollo un espacio a la derecha en la fila correspondiente. Atención! Las mejoras no cuentan para los edificios de las losetas que ya se encuentran en tu provincia, sólo para los edificios que se añadan después . Ejemplo Hay dos edificios en la loseta que Leila ha añadido . Ella avanza su marcador de fama 5 espacios, ganando 2 puntos para el templo y 3 puntos por el molino - que ella ya mejoró en un turno anterior. Ya que ha conectado una producción especial a la red de caminos y a la residencia mediante la colocación de de la loseta, puede - después de puntuar la loseta - coger otro dado de cualquier color y mejorar un edificio a tu elección. ',\n",
       " 'ACCIÓN DE MERCADO (MERCADO)': 'Recauda dinero para ciertos mercados de tu provincia Cada vez que envías a un trabaj ador a uno de los espacios de merc ado, generarás ingresos en los mercados establecidos de tu provincia. H ay merca dos con 3 t ipos de mercancías Tela Té Especias 2 tipos de espacios de mercado - Mercancías variadas - cuando coloques un trabajador aquí, puedes puntuar exactamente un mercado por tipo de recurso. Ejemplo Hay 4 mercados en juego en la provincia de Rajesh - tres de ellos con un té y otro con una seda. Si coloca a uno de sus trabajadores en este espacio de mercado, podrá puntuar 2 mercados el mercado de la seda más uno de los 3 mercados de té. Por esto recibe 5 de dinero. -Mercancías de un solo tipo - cuando coloques aquí a un trabajador tienes que pagar con cualquier dado. entonces podrás puntuar hasta un máximo de mercados iguales según el valor del dado con el que ha s pagado. Ejemplo Si Rajesh coloca a su trabajador en este espacio de mercado y paga con un dado de valor 4, puede puntuar los 3 mercados de té que tiene y obtiene 7 de dinero. Atención! En una partida de 3 o 4 jugadores, solo podrás colocar uno de tus trabajadores en el espacio para mercancías variadas, por ronda; es decir, si has colocado ya un trabajador en uno de los dos espacios de mercancías variadas el segundo ya no estará disponible para ti esta ronda. Solo podrá ser utilizado por otro jugador. Sin embargo, aún tienes la posibilidad de colocar otros trabajadores en el otro tipo de mercado. II. Símbolo de Mejora 5 ',\n",
       " 'ACCIÓN DE PALACIO': 'Renuncia a un dado, si es necesario, y obtén un beneficio. Cuando se coloque a un trabajador en el palacio del Gran Mogul, puede ser sin ningún coste o puede requerir renunciar a uno de tus dados - un dado de un color específico o un número exacto. El palacio tienes las siguientes áreas Terraza exterior (sin coste) Coge 2 de dinero. También puedes volver a tirar todos los dados que quieras de tu reserva. La Terraza (sin coste) Coge 1 dado de la reserva general del color correspondiente. Ejemplo Leila coge un dado naranja de la reserva, lo tira y lo pone en su estatua de Kali. Los balcones (coste 1 dado del color específicado.) Renuncia a 1 dado de un color específico y obtén 2 dados de un color diferente. Ejemplo Rajesh da un dado azul (de cualquier valor) y obtiene 2 dados naranjas; él los tira inmediatamente y los pone en su estatua de Kali.Las salas (coste 1 dado de cualquier color con un número exacto). Raja Man Singh - Renuncia a un dado de valor 4. A cambio, mejora un tipo de edifcio y ganas 3 de dinero. Maestro constructor - Renuncia a un dado de valor 5. Cubre cualquier loseta en tu provincia con otra del suministro. Todas las losetas seguirán necesitando una conexión con la residencia. No puedes utilizar el maestro constructor si no tienes ninguna loseta o dado con el que pagar. Importante La nueva loseta tiene que ser más cara que la que reemplazas; solo paga la diferencia dando 1 (o más) dados del color nuevo del azulejo. Puedes pagar en exceso. Ejemplo Leila renuncia a un dado verde de valor 5. Quiere reemplazar la loseta con el 4 de color naranja tapándola con otro loseta con el 6 violeta. Para ello, tiene que renunciar a un dado violeta con al menos valor 2. III. 6Gran Mogul Renuncia a un dado de valor 1. A cambio, obtendrás 2 puntos de fama y te convertiras en el jugador inicial en la siguiente ronda. Bailarina Renuncia a un dado de valor 2. A cambio, coge dos dados de la reserva y roba una loseta de producción blanca que se encuentre boca abajo. Gana inmediatamente el bono de la loseta (1 dado, 3 dinero, 1 mejora o 1 ',\n",
       " 'ACCIÓN DE RÍO (Puerto)': 'Renuncia a un dado que muestre un valor de 1,2 o 3 y avanza hasta 3 espacios vacíos en el río. La acción de río solo es posible renunciando a un dado de valor 1, 2 o 3. Cada vez que quieras colocar a un trabajador en el puerto, puedes avanzar tu barco hasta tres espacios vacíos en el río, dependiendo del valor en el dado que has renunciado El Puerto ofrece espacio para varios jugadores. El primer trabajador aquí colocado no cuesta nada; los siguientes costarán 1 o 2 monedas. Si renuncias a un dado con un valor de 1, avanzarás exactamente un espacio desocupado; si renuncias a un valor de 2, adelantarás uno o dos espacios desocupados; si renunicas a un valor de 3, podrás avanzar entre uno y tres espacios vacíos. Los espacios ocupados por barcos de otros jugadores no se incluyen a la hora de contar, pero se saltan. Así que nunca puede haber más de un barco en un mismo espacio en el río. Las únicas excepciones a esto son en el espacio inicial y el espacio final del río donde pueden descansar varios barcos. Obtén inmediatamente los beneficios de donde se detenga tu barco. Ejemplo Laila coloca un trabajador en el puerto. Para esto tiene que pagar 1 moneda. Renuncia a un dado de valor 2 y avanza su barco 2 espacios. No incluye el espacio que ocupa el barco amarillo del otro jugador en el conteo. Ella gana una mejora de un tipo de edificio. Ella mueve su cubo de mejora en el molino de 3 a 4. Explicación de los símbolos de río Coge 2 dados de cualquier color del suministro general, tíralos, y ponlos en tu estatua de Kali. Aumenta en 2 tu nivel de ',\n",
       " 'Karma': ', los jugadores equilibrarán su crecimiento en una exigente interacción de prestigio y properidad. El jugador con los resultados más exitosos será uno de los grandes líderes de la nación. De 2 a 4 jugadores. 12 años o CONTENIDO 64 losetas de provincia (16 por color) 30 losetas de producción (8 blancas, 9 amarillas, 6 rojas, 7 marrón)2 losetas de cobertura (para partidas 3 jug.) 8 losetas de río 4 barcos (1 por color) Track de fama Track monedas 1TRADUCIDO y MAQUETADO POR CRISTÓBAL TRUJILLO TRUJILLO (RESOLV) en el nivel 1 del sendero del Pon 1 cubo de desarrollo en la columna izquierda (valor 2) en cada uno de los pergaminos de desarrollo de edificio. Pon tu marcador de fama en el espacio 0 del track de fama.Pon tu marcador de beneficio para el track del dinero con el espacio del río hacia arriba en el primero espacio de beneficio en el track de riqueza (espacio 12).Cada jugador coge un dado de cada color, tira estos 4 dados y los coloca con el resultado sacado hacia arriba en cualquier brazo desocupado de tu estatua de Kali. 2 ). A continuación, la loseta de producción se dejará a un lado para formar una pila de descarte. Cuando te quedes sin losetas, baraja las usadas y forma un nuevo suministro Yogi - Renuncia a un dado de valor 3. A cambio, obtén 2 de y 1 dado a tu elección (ver página 20, explicaciones del karma). Cuando reemplaces una loseta, no recibes ninguna producción especial otra vez. Cada loseta solo la puedes reemplazar una vez. El Portugués - Renuncia a un dado de valor 6. A cambio, adelanta exactamente 6 espacios vacíos en el río y obtén los ingresos correspondientes. Atención! Cuando hayas avanzado hasta los 6 últimos espacios del río, ya no podrás usar al portugués. (ver pág. 20, explicaciones del ). Recibe la cantidad de dinero indicada; avanza en consecuencia en el track de riqueza.Escoge cualquiera de las acciones del palacio 2-6 (Bailarina, Yogi, Raja, Maestro constructor o Portugués) y realiza inmedi atamente, sin colocar un trabaj ador en el palacio y sin renu nciar a un dado ( el espacio puede estar ocupad o). Por cada nivel de que tengas en este momento, toma un dado del color representado (0 - 3 dados). Recibe el número de puntos de fama indicados; en consecuencia avanza el mismo valor en el track de fama. Mejora 1 nivel de edificio (por ejemplo, mover el cubo de templo de 2 a 3). Recibe 1 de dinero por cada mercado que haya en tu provincia ( si tienes 5 mercados, por ejemplo, avanza 5 espacios en tu marcador de riqueza). Lleva a cabo la puntuación de una acción de mercado de mercancías diversas. Recoge el dinero de hasta 3 mercados diferentes. (ver pág. 5). Lleva a cabo una puntuación de mercado para un tipo de bien que tengas en tu provincia, hasta el máximo indicado en el valor del espacio del río. Si tienes 4 mercados de seda, por ejemplo, puedes puntuar todos ellos y poder avanzar en el track de riqueza. No tienes que renunciar a ningún dado para esto. Recibe u n pu nto de fama por mejora de edificio realizada hasta ahora (av anza la fama en el track de fama). Recibe 2 moned as por cada mejora de edifi cio que hayas realiz ado hasta ahora (avanz a en el track de reiqueza). Recibe 2 puntos de fama por que tengas en este momento (avanza la fama en el track de fama). Cuando hayas llegado al final del río en el espacio final de río, no podrás utilizar más acciónes de río. IV. 2 3 1 7 Renuncia a 1 y da la vuelta a un dado al número opuesto. Puedes influir el resultado de una tirada de dado a través del . Utilizar te permite dar la vuelta a cualquier dado en tu estatu a de Kali hacia el lado opuesto cuando lo vayas a colocar; esto significa que un 1 puede convertirse en un 6 y vicerversa, Comienza el juego con el a nivel 1. Durante el transcurso de la partida, podrás mejorar tu - por ejemplo, enviando un trabajador a Yogi en el palacio, deteniendo tu barco en el espacio de río correspondiente. Además de esto, hay un espacio de bonificación en el track de fama (espacio 24) que incrementa tu 2 niveles, si tu marcador de fama se detiene justo en ese espacio o lo cruza. El nivel de más alto es 3; eso significa que solo puedes tener hasta un máximo de nivel 3 de . Para usar el , no tienes que utilizar ningún trabajador - puedes utilizar tu en cualquier momento durante tu turno cuando obtengas un dado. Por cada nivel de que gastes mueve hacia abajo un espacio el cubo de tu Marcador de . Es posible que durante la partida te quedes sin . (1 o 2)1 Mejora de edificio 1 movimiento de barco (a tu siguiente espacio desocupado). 1 punto de fama por cada loseta en tu provincia que tenga por lo menos 1 mercado. 2 puntos de fama por cada curva que tengas en tu red de caminos en tu provincia.1 moneda por cada construcción en tu provincia. 2 monedas por cada loseta de producción que hayas conectado.1 punto de fama por cada trabajador activo que poseas.1 punto de fama por cada 3 espacios de río que hayas avanzado hasta ahora (el espacio inicial no cuenta). 2 monedas por cada mejora de edificio realizada. 10Hay 2 maneras de obtener losetas de producción adicionales durante la partidaLosetas de río Coge tantos dados de cualquier color del suministro general igual a tu nivel de actual (por ejemplo, 3 dados del mismo color o de diferentes colores, si tu es de nivel 3). Coge 3 dados, 1 por cada color que indique la loseta Haz la acción de palacio dependiendo de la ilustración mostrada (ver pág. 18), Realiza una puntuación de mercado para un tipo de mercancía. Recauda el dinero de hasta 3 mercados de un tipo de tu provincia sin tener que pagar ningún dado extra (ver pág. 17) Avanza hasta 3 espacios vacíos en el río y obtén la bonificación de ese espacio donde te detienes.Si al menos otro jugador tiene 2 trabajadores activos más que tú, obtén otra loseta de producción y colócala como si fuera tu turno de colocar un trabajador, no podrás colocarla por segunda vez. Atención! Sólo puedes obtener losetas de producción del color correspondiente a los espacios disponibles en tu tablero de provincia. También puedes optar por no coger una loseta de producción. Para grupos de jugadores Mixtos (principiantes y experimentados). Para los jugadores avanzados que jueguen con un grupo que incluye jugadores principiantes, es posible jugador con estas desventajas. En este caso los jugadores experimentados utilizarán el modo Navaratnas en su tablero de provincia y la parte posterior de su estatua de Kali, mientras que los jugadores principiantes utilizarán el tablero de provincia básico y su estatua de Kali de una partida básica. Se puede llegar a tener 5 trabajadores. Las losetas de producción especial amarillas, rojas y marrones permanecerán en la caja. Jugad de acuerdo a las reglas básicas y usa solamente las losetas de producción blanca, pudiendo obtener estos beneficios con La Bailarina utilizándolos inmediatamente como en el juego básico. Modifica los espacios de río usando losetas de río. Para esta versión, añade las 8 losetas de río a la partida. Éstas modificarán las bonificaciones del río. Al principio de la partida, baraja las losetas de río boca abajo. Tira un dado, y cuenta los espacios, comenzando por el primer espacio vacío después del espacio inicial, roba la primera loseta aleatoriamente y colócala boca arriba en el espacio correspondiente del río. Por ejemplo, si sacas un 2, coloca la primera loseta de río en el segundo espacio y, al hacerlo, reemplaza la otra bonificación por ésta nueva. Tira de nuevo otro dado, y cuenta desde la última loseta de río colocado los nuevos espacios para colocar la siguiente loseta de río. Sigue colocando losetas de río hasta que se terminen o hasta que llegues al final del río. El espacio final del río nunca puede estar cubierto por una loseta de río. Devuelve las losetas restantes a la caja. ',\n",
       " 'Obtener nuevos trabajadores.': 'Avanza en el track de fama, en el track de riqueza o en el río para recibir más trabajadores. Al principio de la partida, cada jugador tendrá a su disposición 3 trabajadores activos. Durante el transcurso de la partida, podrás obtener hasta 2 trabajadores adicionales. Si has avanzado los suficiente en los diferentes tracks de puntuación (riqueza espacio 20, fama espacio 15) o en el río (puente), recibirás trabajadores adicionales. Importante Tan pronto como hayas recibido tu segundo trabajador inactivo (no importa si en uno de los tracks o el río), inmediatamente coge tu trabajador sobrante del tablero y eliminalo de la partida. Los tracks de fama y de riqueza, así como el río, cada uno tiene un espacio con un trabajador inactivo por color de jugador. Los espacios en los tracks de puntuación (fama y riqueza) son espacios normales; en el momento en el que tu marcador de fama o riqueza cruce o se detenga en el espacio del trabajador, obtén el trabajador de tu color. En el momento de coger a tu nuevo trabajador éste se volverá un trabajador activo. El trabajador inactivo en el río no tiene su propio espacio en el río (el puente no cuenta como espacio); eso significa, que cuando tu barco pase por el puente coge a tu trabajador.Una vez que un trabajador pasa a ser activo nunca lo podrás perder, incluso si tu marcador retrocede (lo cual solo puedo suceder en el track de dinero). Puedes colocar a un nuevo trabajador incluso en la misma ronda en el que lo has obtenido. ',\n",
       " 'Bonos en los tracks de puntuación.': 'Llega al espacio y recibe el bono. Además de los trabajadores inactivos los dos tracks de puntuación (fama y riqueza) también tienen espacios especiales; cuando los cruzas o los alcanzas, consigues inmediatamente los bonos correspondientes. El track de fama tiene 3 bonos Espacio 5 Recibe una mejora de un tipo de edificio a tu elección. (Esta mejora contará en tu próximo turno). Espacio 24 Incrementa tu karma 2 niveles. Espacio 31 Puedes mover tu barco al siguiente espacio desocupado y obtener su bono inmediatamente. El track de dinero tiene 4 bonos Ateción! Un bono solo se aplica donde está impreso en el track. Si, por ejemplo, tu marcador de dinero pasa por al lado de un espacio de bonificación impreso en el track de fama, no obtendremos el beneficio. 8Espacios 12 y 44 Puedes mover tu barco al siguiente espacio desocupado del río y obtén las ganacias correspondientes Espacios 33 y 55 Puedes coger 2 dados cualesquiera de la reserva general, tirarlos, y ponerlos en tu estatua de Kali. Puesto que al pagar dinero, tu marcador de riqueza irá hacia atrás en el track, h ay un marcador especial de tu color que indicará y pondremos en la siguiente recompensa a obtener. Una vez que crucemos la bonificación del marcador lo quitaremos y lo pondremos en la siguiente recompensa, indicándonos que si volvemos atrás al pagar ya no podremos obtener la recompensa de nuevo. Por ejemplo cuando alcancemos o crucemos el espacio 12 por primera vez y obtengamos el bono, cogeremos el marcador, lo giraremos y lo pondremos en el espacio 33, así sucesivamente. Indicando que si volvemos hacia atrás no volveremos a recoger la recompensa.',\n",
       " 'FIN DE RONDA': 'Después de haber colocado a todos tus trabajadores activos y llevado a cabo las acciones correspondientes, la ronda llegará a su fin. Si un jugador ha colocado a un trabajador en el Gran Mogul, ahora obtendrá el elefante y se convertirá en el jugador inicial de la siguiente ronda. Si nadie envió un trabajador al Gran Mogul, el elefante pasará al siguiente jugador, en sentido horario al jugador inicial anterior. Todos los jugadores sacan todos sus trabajadores del tablero y los ponen bajo su estatua de Kali. Después el jugador inical actual, comenzará la nueva ronda. ',\n",
       " 'FINAL DE PARTIDA': 'Tan pronto como un jugador logre que su marcador de fama y su marcador de riqueza se equiparen en valores o se crucen, pasándose el uno al otro, se dispara el final de la partida. La ronda actual se terminará. Es decir, todos los jugadores que estén entre el jugador que ha activado el final de la partida y el jugador inicial actual todavía tendrán la oportunidad de ganar y podrá colocar un trabajador más y llevar la acción aplicable. Para desarrollar con éxito tu provincia y ganar la carrera, necesitarás principalmente dinero, dados y trabajadores. Es importante asegurarte de no quedarte sin dados o dinero, y no tener menos trabajadores que el resto de jugadores durante demasiado tiempo. Resumiendo Obtén más trabajadores avanzando en los dos tracks de puntuaciones y en el río. Gana dinero con tus mercados, construidos en tu provincia y usa a tus trabajadores para activarlos. Además las bonificaciones en tu tablero de provincia, en el río y en el palacio de Raja son fuentes de dinero. También podrás obtener dados adicionales en otros espacios. El palacio también te otorga la oportunidad de intercambiar dados. Para cumplir con las condiciones de victoria, es necesario establecer una red de caminos bien pensada dentro de tu provincia y obtener tantas producciones especiales como te sea posible. Para ello, utilizarás la acción de construir en el tablero, por lo que tendrás que pagar dinero y dados. Los edificios de tu provincia te otorgarán puntos de fama y los mercados riqueza.Después de esto, los jugadores verificarán quién ha ganado la partida. Si hay dos o mas jugadores cuyos marcadores se pasaron el uno al otro en el turno final, cada uno de los jugadores involucrados cuentan la diferencia de puntos entre su marcador de riqueza y marcador de fama; el jugador con más puntos ganará el juego. En caso de empate, gana el primer jugador cuyos dos marcadores se superaron. Ejemplo El marcador de riqueza de Rajesh ha pasado su marcador de fama. Ahora su marcador de riqueza está en el espacio 65 del track de riqueza, su marcador de gama en el espacio 30 del track de fama. Ahora Laila tiene su último turno. Ella también logra que sus dos marcadores se pasen haciendo que su marcador de dinero termine en el espacio 52 del track de riqueza y su marcador de fama en el espacio 37 del track de fama. Ambos tienen una diferencia de 2 puntos de fama (no importa donde esté colocado tu marcador de riqueza). Ya que Rajesh fué el primero en cruzar sus marcadores, es el ganador de la partida.',\n",
       " 'NOTAS': '',\n",
       " 'VERSIÓN NAVARATNAS': 'Después de haber jugado a la versión básica para uno o más jugadores, puedes optar por la versión Navaratnas para jugadores avanzados (Las 9 Gemas ver página 24, Mogul Lexicon Raja Man Singh I). Aplica estas modificaciones Puedes activar los 3 trabajadores inactivos. Así que puedes jugar con hasta 6 trabajadores. Juega con la parte trasera de la estatua de kali, pudiendo almacenar solo 8 dados. Juega por la otra parte del tablero de provincia. Aquí también, las producciones especiales están impresas en el borde pudiéndolas conectar con tu red de caminos. Sin embargo estas producciones son menores, pero se pueden mejorar durante el transcurso de la partida. Al comienzo de la partida, mezcla las loseta de producción marrón. Cada jugador elige una al azar, la revela y la coloca en uno de los dos espacios disponibles en tu tablero de provincia. Decide que producción especial sustituir en tu tablero de provincia por tu nueva producción especial marrón. En el momento en que conectes las losetas de producción marrón te otorgarán una producción especial dependiendo del progreso actual que lleves en un campo específicoAhora coloca las losetas de producción restantes marrón así como el resto de losetas de producción, mirando hacia arriba, en los edificios del mismo color en el tablero de juego. Durante el juego podrás adquirir estas losetas de producción para colocarlas en tu provincia. Las losetas de producción blancas, rojas y amarillas proporcionan producciones especiales Atención! Puntúa siempre las losetas de provincia antes de coger la producción especial. No puedes mover ni cubrir las losetas de producción ya colocados en el tablero. a)Cuando estés colocado en La Bailarina. Cada vez que coloques un trabajador en La Bailarina y renuncies a un dado de valor 2 de cualquier color, puedes coger 2 dados de tu elección del suministro general y escoger una loseta de producción especial cualquiera. De inmediato coloca esta loseta boca arriba en un espacio (todavía) desocupado del color correspondiente en tu tablero de provincia. A diferencia del juego básico, aquí no obtendras el bono de la producción inmediatamente solo cuando conectes tu red de caminos en tu tablero de provincia. b)Cuando seas el que menos trabajadores activos tiene. Si, por ejemplo, tienes un total de 4 trabajadores activos, pero al menos uno de los otros jugadores tiene 5 trabajadores a su disposición, obtienes 1 loseta de producción cuando sea tu turno en esta ronda y no puedas colocar un trabajador porque no tienes. Decide inmediatamente en qué espacio desocupado de tu tablero de provincia quieres colocar tu nueva loseta de producción (boca arriba y coincidiendo en color). VERS IÓN NA VARATNAS Dados (1 o 2 dados de los colores a tu elección).Monedas ',\n",
       " 'EL MÓDULO GANGA': '11Imperio Mogul (1526-1858) El imperio Mogul fué un gran imperio que se desarrolló en las llanuras Indus-Ganges en el norte de la India. En el pico de su ponder (s. XVII), abarcaba casi toda la India (como la conocemos hoy) y algunas partes de Afganistán. En 1858, la parte restante del imperio estaba ocupada por los británicos y dejó de existir. Una herencia rica en arquitectura, en pintura, y en poesía han sido preservadas hasta el día de hoy. El Imperio fue nombrado por sus gobernantes, El Gran Mogul. Gran Mogul También llamado Mogul o Emperador Mogul. El nombre llegó a Europa a través de los portugueses, que eran el poder dominante en el territorio del Oceano Índico en ese momento. La palabra Mogul deriva del mahul persa, que significa mongol, refiriéndose al hecho de que algún antecesor se hubiera casado con alguien del clan Genghis Khan. El gobernante Mongol más prominente de la historia fue Akbar el Grande (reinado 1556-1605); llevó el imperio a la prosperidad en términos militares, políticos y económicos. Bajo Shah Jahan (reinado 1627-1658), el imperio Mogul alcanzó su pico cultural. En ese momento, se construyeron el Taj Mahal, el Fuerte Rojo (Delhi) y los Jardines Shalimar en Lahore, todos inscritos como Patrimonio de la Humanidad por la UNESCO (en 1982, 2007 y 1981). Este juego juego esta basado en la era de Akbar a Shah Jahan. Estos son algunos elementos significativos para la época de los Grandes Mogoles o para la India de hoy en día que exhibe el juego Kali - Una diosa hindú que representa la destrucción y la renovación. Su poder destructivo, sin embargo, apunta principalmente a los demonios y a la justicia del mundo. La creencia popular sobre Kali es que ésta puede conceder deseos.Pavo real Azul - Desde 1963, pavoreal azul ha sido oficialmente clasificado entre los animales nacionales Indios (además del tigre de Bengala y el delfín del río Ganges). Originalmente, provenía del subcontinente indio donde se le consideraba un animal sagrado que estaba en peligro por los tigres el mal clima y mortales serpientes venenosas entre otras cosas. Mientras que en el mundo occidental se asocia el pavo real no sólo con la belleza, sino también con la arrogancia y la vanidad, los indios lo consideran principalmente un símbolo de realeza e inmortalidad. Por lo tanto, las estatuas de pavos reales fueron diseñadas también en el trono del Emperador Mogul. El trono del Pavo Real - Era un trono adornado con una abundancia de perlas, de oro, y de gemas (más de 26.000) que fueron manufacturadas por orden de Shah Jahan e inaugurado en 1635. La producción del trono tardó siete años y se dice que ha sido dos veces más caro que la construcción del Taj Mahal; esto fue considerado un acto muy extravagante incluso para un emperador Mogul. Desde que el Fuerte Rojo (Dehli) fue saqueado en el siglo XVII, el Trono del Pavo Real se ha dado por perdido. Pilar de Ashoka - El actual escudo de armas de la India muestra, la adaptada capital, un Pilar de Ashoka, los famosos Cuatro Leones de Sarnath. Construido alrededor de 250 AC bajo Ashoka, el gobernante indio en ese momento, tenía numerosos pilares monumentales establecidos por todo su reino en muchos lugares estratégicos, como ciudades fronterizas y rutas comerciales. Sus capitales eran usadas para proclamar sus leyes. Algunos de estos pilares, por entonces numerosos y extendidos, se han conservado hasta el día de hoy. Son testigos silenciosos del antiguo gran Imperio de la India, cuya herencia cultural ha resistido la prueba del tiempo. Raja man Singh I - Era un importante comandante de las fuerzas armadas imperiales. Como gobernador de varias provincias, tenía áreas forestales cultivadas para el progreso agrícola, encargó la construcción de varios palacios, fortalezas y templos e incluso fue fundador de alguna ciudad. Además, Man Singh ganó una gran reputación por ser miembro de las Navaratnas, las Nueve Gemas de Akbar, un pequeño grupo de personalidades extraordinarias en la corte del emperador Mogul. ',\n",
       " 'MOGUL LEXIGON': ' ',\n",
       " 'CRÉDITOS': '2017 HUCH! Authors Inka Markus Brand Illustration Dennis Lohausen3D Andreas ReschDesign HUCH!, atelier198Product Manager Britta StckmannEditing Frank DiLorenzoEnglish translation Sybille Bruce Whitehill, Word for WortDistributor USARR Games, Inc.PO Box 130195Tampa, FL 33681 USA Warning! Choking hazard. Not suitable for children under age of 3 due to small parts. Manufacturer distributor Hutter Trade GmbH Co KGBgm.-Landmann-Platz 1-5 89312 Günzburg, GERMANYwww.hutter-trade.com 12TRADUCIDO y MAQUETADO POR CRISTÓBAL TRUJILLO TRUJILLO (RESOLV) '}"
      ]
     },
     "execution_count": 54,
     "metadata": {},
     "output_type": "execute_result"
    }
   ],
   "source": [
    "sections"
   ]
  },
  {
   "cell_type": "code",
   "execution_count": 55,
   "metadata": {},
   "outputs": [
    {
     "data": {
      "text/plain": [
       "'GANGES (2 a 4 jugadores) Antes de empezar Decidir si se juega en modo normal o en modo Navaratna (ver el epígrafe Variante Navaratna más adelante ). Sortear jugador inicial , el cual se va rotando en sentido horario cada vez que se agoten los lacayos colocados sobre las acciones del tablero, a menos que un jugador obtenga el beneficio de la primera zona de los aposentos del palacio, que lo convierte en jugador inicial. Cada jugador recibe , según su color 6 lacayos, de los cuales 3 se colocan en las 3 zonas al efect o del tablero (uno en la casilla 20 del marcador de riqueza, otro en la casilla 15 del marcador de gloria y otro sobre el puente del río). 5 cubos, de los cuales 4 se colocan sobre el primer nivel de cada uno de los edificios del tablero y el restante sobr e el nivel 1 del indicador de karma . 1 ficha circular de bonificación, la cual se coloca inicialmente sobre la casilla 12 del marcador de riqueza con la imagen de bonificación de avance fluvial boca arriba . 1 barco, que se coloca en la casilla inicial del río. 1 ficha en forma de prisma hexagonal, que será el indicador de riqueza. El jugador inicial lo coloca en la casilla 3 de dicho indicador, el 2 jugador en la casilla 4, el 3 en la casilla 5 y el 4 en la casilla 6. 1 ficha en forma de círculo cortado , que será el indicador de gloria y cada jugador lo coloca en la casilla inicial de dicho indicador. 4 dados, uno de cada color. 1 busto de Kali para colocar los dados. Antes de colocarlos, cada jugador debe lanzarlos y conservar la puntuación obtenida. En el modo normal de juego se coloca boca arriba por el lado que incluye en su interior 2 cuadrados vacíos. Si se juega en el modo Navaratna , se coloca por el lado que carece de esos cuadrados vacíos. El busto sirve para limitar la cantidad máxima de dados utilizables 10 en el modo normal y 8 en el modo Navaratna . 1 tablero de provincia, donde cada jugador irá colocando las losetas que vaya adquiriendo. En el modo normal de juego se coloca boca arriba por el lado que muestra la imagen de un príncipe hindú. Si se juega en el modo Navaratna , se coloca por el lado que muestra el rostro de una diosa . En el caso de jugar en el modo Navaratna , ver el epígrafe Variante Navaratna más adelante . Colocar el tablero por el lado que corresponda al n de jugadores . Hay un lado para 2 jugadores que está representado con 2 elefantes pintados junto a la casilla inicial del río y el otro lado es para 3 o 4 jugadores, que tiene 4 elefantes en ese mismo lugar. La diferencia entre ambos lados del tablero es que el lado para 3 y 4 jugadores incluye más zonas donde colocar lacayos en las secciones de cantera, mercado y puerto. Colocar las 8 fichas de producción blancas boca abajo sobre la imagen del templo blanco del tablero. A medida que se vayan revelando, se van colocando fuera del tablero . Si se agotasen, se vuelven a mezclar y se colocan de nuevo como al principio. En el modo Navaratna , las fichas marrones de producción restantes se colocan boca arriba sobre los templos del tablero que coincidan con su color. Hacer un montó n al lado del tablero con el resto de los dados, formando una reserva. En las partidas con 3 jugadores se hace uso de las 2 fichas de exclusión, que hay que colocar sobre la primera casilla de la cantera y sobre la tercera del puerto , al objeto de prohibir la colocación de lacayos sobre esas 2 zonas. Formar 12 montones con las losetas de provincia, según su color e imagen del reverso y colocarlos al lado del tablero en un lugar accesible para todos los jugadores.Turno s de juego Los turnos son consecutivos y la ronda consiste en colocar todos los lacayos . Cada jugador en su turno coloca un lacayo sobre una casilla de acción, paga su coste (si lo tiene) en dados o rupias (lo que corresponda según el caso) y recibe inmediatamente el benefici o asociado a esa acción. Una vez gastados los lacayos de todos los jugadores, cada uno recoge los suyos del tablero y la partida continúa del mismo modo cambiando de jugador inicial (salvo por bonificación especial del mismo jugador que ya lo era) . Puede darse el caso de que algunos jugadores tengan en juego más lacayos que otros, en cuyo caso seguirían juga ndo ellos solos hasta agotarlos. Acciones 1. Cantera El jugador coloca un lacayo, paga las rupias que indique la casilla y adquiere una loseta de provincia pagando su coste en dados. Cada loseta tiene su precio en la esquina superior izquierda sobre un color determinado. El coste puede ser pagado con uno o varios dados del color elegido, debiendo al menos igualar la cifra consignada en la loseta. La loseta se debe colocar en una zona vacía del tablero de provincia adyacente a otra (la primera será adyacente a la residencia impresa) , teniendo en cuenta que, al menos, uno de los caminos sea coincidente con una loseta anterior y que ese camino debe terminar siempre en la residencia. Si la loseta incluye un camino que termina en un lateral con bonificación impresa, el jugador la obtiene inmediatamente. Si la loseta tiene edificios impresos , el jugador gana tantos puntos de gloria como le correspondan según su nivel de mejora de edificios. Inicialmente este valor es 2, pero se puede ir moviendo el cubo de mejor a de cada edificio si se obtiene una bonificación de mejora ( procedente de la bonificación de una casilla de río, de la 4 zona palaciega , de una bonificación del marcador de gloria o de una ficha de bonificación o producción). Si la loseta tiene tenderetes de mercancías, el jugador ga na inmediatamente la cantidad de rupias impresas . Hay losetas con más de un edificio o más de un tenderete o mezcla de ellos y el jugador puntúa por todos ellos. 2. Mercado Hay 3 tipos de mercancías (seda, té y especias) y el tablero tiene 2 zonas diferencia das de mercado a) Surtido variado El jugador coloca un lacayo en la casilla gratuitamente y gana tantas rupias como sumen hasta 3 de los tenderetes de su provincia que sean distintos entre sí. En el lado del tablero para 3 y 4 jugadores existen 2 casillas para esta acción, pero un mismo jugador no puede colocar 2 lacayos en esta zona. b) Mercancía de un solo tipo El jugador coloca un lacayo en una de las 3 casillas de mercancías . Par a ello debe gastar un dado cualquiera de los que posea y gana ta ntas rupias como sumen todos los tenderetes que posea en su provincia de esa mercancía. 3. Aposentos del palacio Hay 6 zonas donde colocar un lacayo y solo un jugador puede colocar un lacayo en cada una. Exige gastar un dado del valor exacto correspondien te a la zona de colocación. Zona 1 El jugador gasta un dado de valor 1 y gana 2 puntos de gloria además de convertirse en nuevo jugador inicial. Zona 2 El jugador gasta un dado de valor 2 y gana 2 dados y una ficha de producción blanca . Zona 3 El jugador gasta un dado de valor 3 y gana 1 dado y aumenta su n ivel karma en 2 niveles, teniendo en cuenta que el nivel máximo de karma es 3 .Zona 4 El jugador gasta un dado de valor 4 y gana 3 rupias y una mejora de edificio , por lo que podrá mover uno de sus c ubos en el edificio de su elección a un nivel superior , teniendo en cuenta que el nivel máximo de mejora es 4 . Zona 5 El jugador gasta un dado de valor 5 y tiene la opción de adquirir una loseta de provincia para solapar a otra que ya tuviera colocada en su tablero personal. La nueva loseta debe ser de valor superior a aquella que se pretende solapar y su coste será la diferencia en valor de dados entre ambas, aunque su color sea distinto. Se sigue manteniendo el requisito de la conexión remota de caminos hasta la residencia. En caso de solapar una loseta de los laterales con derecho a bonificación, no se recibe ésta porque ya se recibió al colocar la loseta primitiva . No se puede solapar una misma loseta más de una vez. Zona 6 El jugador gasta un dado de valor 6 y av anza su barco por el río exactamente 6 casillas consecutivas no ocupadas, obteniendo la bonificación correspondiente. Cuando el barco de un jugador se encuentre ent re las últimas 6 casillas del río, no puede realizar esta acción. 4. Verandas El jugador gasta un dado del color correspondiente a la casilla donde coloca al lacayo y gana 2 dados nuevos del color que se indica. El jugador los cogerá de la reserva, los lanzará y los colocará en su busto de Kali. 5. Terraza El jugador coloca un laca yo en la casilla que corresponde a uno de los colores de dados gratuitamente y gana un dado del color impreso junto a la casilla. El jugador lo cogerá de la reserva, lo lanzará y lo colocará en su busto de Kali. Hay 2 casillas por cada color de dado y un m ismo jugador puede hacer uso de ellas con sus lacayos. 6. Mirador El jugador coloca un lacayo gratuitamente, gana 2 rupias y tiene la opción de relanzar cualquier cantidad de dados de los que posea en su busto de Kali. 7. Río El jugador coloca un lacayo en una casilla del puerto no ocupada, paga su coste en rupias (hay una gratuita) y debe gastar un dado que sea exclusivamente de valor 1, 2 ó 3. Avanzará su barco como máximo el número de casillas que indique el dado utilizado (un dado de valor 2 permite a vanzar 1 ó 2 casillas y un dado de valor 3 permite avanzar 1, 2 ó 3 casillas). Las casillas del río ocupadas se ignoran para el avance y el jugador gana la bonificación en la que coloca finalmente su barco. Al llegar a la última casilla del río, el jugador no puede realizar más esta acción. Reglas a tener en cuenta Variar e l nivel de karma no constituye acción, se puede realizar en cualquier momento del turno y permite voltear uno de los dados del jugador a fin de mostrar la carta opuesta a la que tenía originalmente. Cuando un jugador alcanza o supera la casilla 12 del marcador de riqueza, debe mover su ficha circular de bonificación a la casilla 33 por el lado que coincida con la imagen impresa en esa casilla, ganando inmediatamente un avance de río. Posteriormente, al alcanzar o superar la casilla 33, ganará 2 dados y moverá de nuevo esa ficha a la casilla 44 haciéndola coincidir con la imagen impresa en esa casilla. Una vez alcanza da la casilla 44, gana rá un nuevo avance de río y moverá la ficha circular a la casilla 55. Una vez alcanzada la casilla 55, gana rá 2 dados nuevos y la ficha circu lar se retira de la partida. Cada vez que un jugador gana dados nuevos sin un color determinado , tanto si es por bonificaciones o por acciones del tablero, el jugador los coge del color que desee de la reserva y debe lanzarlos y conservarlos con la puntuación obtenida en su busto de Kal i, teniendo en cuenta el máximo de 10 dados en el modo normal de juego y de 8 en el modo Navaratna .Los lacayos adicionales que un jugador consiga por alcanzar las posiciones en las que se encuentran en los marcadores o en el río empiezan a ser funcionales inmediatamente, por lo que pueden ser utilizados en la misma ronda en la que se han conseguido. En el modo normal de juego, cuando un jugador haya conseguido 5 lacayos en total, el sexto se retira de la partida y no lo podrá conseguir. En el modo Navaratn a sí se pueden utilizar todos. Final de partida El final de partida se produce cuando un jugador iguala o cruza la posición de sus indicadores de riqueza y de gloria en el tablero. No obstante, se dejará terminar el turno (no la ronda completa) al resto de jugadores que no lo hubieran hecho, dando así la posibilidad de que alguien más haga cruzar también sus indicadores. De todos los jugadores que hayan cruzado sus indicadores en ese último turno, el ganador será el que más diferencia en puntos de gloria haya conseguido entre ambos. A igualdad de condiciones, el ganador será el que desencadenó el final de partida. Variante Navaratna Cada jugador utiliza el tablero de provincia por el lado que muestra el rostro de una diosa hindú, el busto de Kali se coloca por el lado que no tiene hueco para los dos dados interiores y cada jugador puede hacer uso de los 6 lacayos disponibles. Las bonificaciones de los laterales son producciones mínimas que se pueden ir mejorando durante la partida. En esta var iante se hace uso de las fichas especiales de producción y las hay de los 4 colores de los templos marrón, blanco, amarillo y rojo. Al principio de la partida se mezclan las fichas marrones de producción , se colocan sobre el templo marrón del tablero boca abajo y c ada jugador coge una al azar, la revela y la coloca en una de las dos casillas posibles (la que prefiera) de los laterales de su tablero de provincia. El resto de ficha s marrones de producción se revelan y se colocan boca arriba sobre el templo ma rrón. Las fichas de producción de los otros colores se depositan boca arriba, cada una sobre el templo de su color. Cuando un jugador logra conectar las fichas marrones de producción con su residencia mediante un camino, gana una producción especial que de pende del grado de desarrollo que haya conseguido hasta ese momento en un aspecto concreto del juego 1 punto de gloria por cada loseta colocada que tenga al menos un tenderete 1 punto de gloria por cada 3 casillas de río que el barco del jugador haya avanzado hasta ese momento (sin contar la casilla inicial) 1 rupia por cada edificio de la provincia 2 rupias por cada ficha de producción con la que haya podido conectar 2 puntos de gloria por cada curva o bifurcación que exista en la provincia 2 rupias por cada mejora de edificio efectuada hasta el momento 1 punto de gloria por cada lacayo activo en juegoCuando un jugador c oloca una loseta en su tablero de provincia, tras puntuar por los elementos que incluye la loseta , coge una ficha de producción (si así lo desea) y la coloca boca arriba en una casilla de los laterales del tablero de provincia del mismo color a fin de mejorar la que ya viene impresa. Cada ficha de producción colocada ya n o se podrá mover ni cubrir con otra. Su bonificación se gana al conect arla con la residencia impresa en el tablero de provincia mediante un camino. Las fichas especiales de producción se consiguen de 2 formas a) Al realizar la acción de los aposentos del palacio que exige dado de valor 2 se cogen los 2 dados que se indican y además una ficha de bonificación, que en esta variante puede ser cualquier ficha de producción especial. b) Por no poder colocar un lacayo el jugador gana una ficha d e producción cada vez que sea su turno y no tenga lacayos para colocar por tener menos que algún otro jugador . Varia ción de las bonificaciones del río Para hacer el recorrido del río más imprevisible, se incluyen 8 fichas adicionales de forma circular y de fondo azul que se pueden poner en juego cuando se desee, tanto en el modo normal como en el modo Navaratna . Al principio de la partida se mezclan estas 8 fichas y se colocan boca abajo en algún lugar de la mesa. Luego se lanza un dado y se cuenta su valor en casillas por el río, colocando boca arriba en la casilla resultante una cualquiera de las 8 fichas adicionales. De este modo se reemplaza la casilla impresa en el tablero por la nuev a. Después se vuelve a lanzar el dado y se realiza un nuevo recuento de casillas a partir de la anterior y se coloca otra ficha de las adicionales en el lugar resultante. A partir de ahí se vuelve a hacer lo mismo hasta llegar al final del río, pudiendo so brar fichas adicionales, las cuales no serán utilizadas. Hay que tener en cuenta que la casilla final del río no puede cubrirse con una ficha adicional. El jugador coge tantos dados del color que quiera como indique su nivel de karma en el momento actual El jugador coge 3 dados de los colores indicados El jugador realiza gratuitamente la acción del aposento del palacio que se corresponda con la imagen de la ficha sin tener que colocar lacayo El jugador gana la cantidad de rupias que resulten de sumar hasta 3 tenderetes de un solo tipo de mercancía de los que tenga en su provincia sin tener que colocar lacayo y de modo gratuito El jugador avanza su barco por el río entre 1 y 3 casillas no ocupadas y gana la bonificación de la casilla en la que lo coloqueBonificaciones impresas sobre el curso del río en el tablero El jugador gana 2 dados El jugador aumenta su karma en 2 niveles (máximo nivel 3) El jugador gana la cantidad de rupias indicadas en la imagen El jugador puede realizar una de las 5 acciones (entre la 2 y la 6 ) de los aposentos del palacio sin tener que colocar lacayo ni gastar dado y aunque esté ocupada El jugador gana tantos dados del color indicado en la imagen como sea su nivel de karma (entre 0 y 3) El jugador gana la cantidad de puntos de gloria indicados en la imagen El jugador puede aumentar el nivel de cualquiera de sus edificios El jugador gana 1 rupia por cada tenderete de mercado que tenga en su provincia El jugador gana rupias por hasta 3 de sus tenderetes que sean de una mercancía diferente El jugador gana las rupias correspondientes a una sola de sus mercancías (la que prefiera) contando hasta un máximo de 4 tenderetes El jugador gana las rupias correspondientes a sola de sus mercancías (la que prefiera) contando hasta un máximo de 5 tenderetes El jugador gana 1 punto de gloria por cada nivel de mejora de edificio logra da (entre 0 y 6) El jugador gana 2 rupias por cada nivel de mejora de edificio logra da (entre 0 y 6) El jugador gana en puntos de gloria el doble de su nivel de karma (entre 0 y 6)'"
      ]
     },
     "execution_count": 55,
     "metadata": {},
     "output_type": "execute_result"
    }
   ],
   "source": [
    "text_ref_rapida"
   ]
  },
  {
   "cell_type": "code",
   "execution_count": 56,
   "metadata": {},
   "outputs": [
    {
     "data": {
      "text/plain": [
       "'Rajas of the Ganges Set-Up Place the game board in the middle of the table, according to the player count. o If playing with 3 players, use the 2 space cover markers to cover the 1st Quarry space and the 3rd Harbor space. o If playing the standard game, put the Yellow, Brown and Red yield tokens, and the 8 river tokens, in the box. See below for details on the Navaratnas Version and the Ganga Module (2 variants to the game!) Sort the Province Tiles by colo r, and then by the 3 different a nimal ba cks (snake, cow, tiger). o Place the 12 stacks face -down next to the board, then flip the top tile of each stack face -up. Mix the 8 white Y ield tokens face -down on the temple space (white building). Each player takes o 1 Province board (place the sta ndard side up the side without blank yield spots) o 1 Kali Statue board (with the 2 slots in the middle open for dice able to hold 10 dice (thats all it does, fyi) ) o 6 Workers (lay 1 worker sideways on the river bridge, on the 15 fame space, and on the 20 money space) o 5 Cubes (1 on level 1 of the Karma track, and 1 on the leftmost space of the 4 buildings, right side of board) o 1 Money m arker (start s pace to be determined when first player is chosen see below ) o 1 Fame m arker (put on 0 space of the F ame track ) o 1 Boat (put on start space of the river) o 1 Money Track Bonus m arker (put on space 12 of the money track, blue (river) side up) o 1 die of each color (Green, Blue, Yellow, Purple) roll them , plac e each die onto an empty hand of Kali Statue. The player with the lowest total on thei r 4 dice will be Start Player. They take the Elephant marker (start player marker.) o The 1st playe rs money marker goes on space 3 . 2nd3rd4th player put their money marker on space 456. Game Flow Rajas of the Gan ges is played over a number of rounds until 1 player triggers the end of the game by having their Fame and Money marker intersect paths. At this point, remaining players in turn order will have 1 more turn before the end. The winning player will be whoe ver was able to move their markers past each other the furthest (in case multiple players achieve t his goal during the last turn.) During a round, starting with the 1st player going clockwise, each player will place 1 worker into 1 of the many empty action spaces and carry out the given action before the next player s turn. When all players are out of workers, the round ends. General Rules to get Started As stated above, on a players turn, they w ill place one of their workers o nto an empty action space a nd take the action. There are 4 different areas of the board (Quarry, Market, Harbor, Palace ) where players can place workers (see below for detailed descriptions of each action area ) Some of the action spaces have a cost associated with them when you plac e your worker there . o If the space in the center of the action space is empty, its free! o If the space shows a coin value, pay it (move marker backwards. ) o If the space shows a di e, return the indicated die (color and pip value might matter.) Pip-less die mean any value , and a Tan die mean any color Anytime in the game you earn Fame or money, you move your marker immediately (earning any bonus es on the track as you go,) and whe n you earn dice (if any remain of that color ,) roll the dice immediately and place on your Kali Statue. o Your Kali Statue holds 10 dice. If you were to take an 11th, you can refuse it or replace 1 on the Statue already . Karma Is a resource earned throughout the game that is tracked above the Palace on the upper left side of the b oard. o It allows a player (at anytime on their turn) to flip 1 die to the opposite side by sliding your cube down 1 space. o You can spend as many Karma points as you want on your turn. The max to hold at 1 time is 3 (see track .) New Workers As the game progresses, you will be moving your money, fame and boat markers along their respective paths. If you reach the space with 1 of your workers , you take it and immediately add it to your pool, ready to work! Once you receive your 5th worker, the 6th worker still on the board is removed to the box. Only 5 can be earned in total . Scoring Track Bonuses Along the Fame and Money track, you will earn rewards when you reach certain numbers. o Since you can only go forward on the Fame track, the rewards are simply printed on the board for when you reach them, you earn them. They are spaces 5, 24 and 31. o The Money track is different as there is a small token you will use. You see, since your money can go up and down, the designers made it easy to remember if you go t the bonus yet or not. The first time you cross thisbonus marker, take the reward, flip the token, and move it up to the next space that matches this bonus token. The spaces that will have bonuses are 12, 33, 44, and 55. Take a l ook! After the bonus at 55, remove the token. Quarry Action (Place Province Tiles on your Player Board) In the middle of the board are actions spaces (in 2 rows) with cost values from 1 -4 (remember to pay). Next to them is an icon of a tile being placed on a Province board. Well, activating 1 of these spaces will allow you to do just that! After placing your worker , and paying the cost, look at 1 of the 12 face -up Province tiles next to the board. You can buy a face -up tile by returning any number of matching colored dice to the supply with a sum o f at least the value shown in the upper left corner. You can overpay for tiles this way. After paying for your tile with dice, take it and place it on your player board so that at least 1 road on the tile can be traced back to your Estate (the building in the upper middle). Yes, you can rotate your tile any direction you wish and you can cut off other roads, as long as 1 road on your newly placed tile can make its way back home! After you place your tile legally, you will earn rewards based on what is showing on the tile itself. o If 1 of the 4 buildings is showing, immediately earn Fame points equal to that buildings currently Fame level. o If it shows 1 of the 3 Markets, earn money equal to the prin ted money shown. o Obviously, earn all rewards shown (you might have multiple buildings or multiple markets.) Around the edge of your Province are special Yield rewards. After scoring the Province tile itself, if a road connects to this Yield reward back to your Estate, you immediately get the bonus! If a Yield reward is blocked off, you cant earn it. When you are done getting your rewards, flip the next tile over in the stack you chose from. Market Action Spaces (Earn money based on Mark ets in your Province) Just u nder the Quarry spaces are the Market action spaces. The each top row action space deals with a specific type of good, while the bottom spaces deal with all 3 different types of goods . If you place a worker on 1 of the top spac es, you will first give up a die with any numeric value on it (the higher the better possibilities,) and then do the following o Each of these spaces is associated with 1 of the 3 goods found in the Markets of your Province ( tea, silk, spices .) o If you place your working on the T ea space, you will select a number of different tea markets i n your Province (that can be traced back to your Estate via roads ) up to the value on the die you turned in. (example, turn in a 3 die, you can count up to 3 different tea markets on your Province board. Turn in a 4, you can count 4 so on ) o Calculate the total money shown on these different Markets and earn that amount of money immediately. o The Silk and Spice s space work exactly the same. If you place a worker on a bottom space ( no player may access both bottom spaces in the same round (34 p game,) see different color worker icons ,) then you will look at your Province board and choose 3 different type markets (1 tea, 1 silk, 1 spices) that trace back to your Estate via roads and earn the shown money value immediately! This space has no cost! River Action Spaces (Move your Boat on the River for Rewards) Under the Market spaces is the Harbor, and this area controls the movement of your Boat on the river. Whenever a player is to move their boat during the game , they always move it forward, they never count spaces other players are on, and they immediately take the reward when the boat has stopped moving. The Harbor spaces all have a coin cost except the first space w hich is free ! When putting your worker here, discard any die with a 1, 2 or 3 value (see chart to the right in the Harbor). o If a 1 is discarded , the player moves their boat 1 unoccupied space up the river . o If a 2 is discarded, the player mov es their boa t 1-2 unoccupied spaces up the river, player s choice. o If a 3 is discarded, the player moves their boat 1 -3 unoccupied spaces up the river, player s choice. The last space of the River can hold several boats, but once you reach this space, you cant take boat actions anymore. See the Rulebook for the indivi dual descriptions of each space. Palace Action Spaces ( Ways to Manipulate your Dice pool) The Palace takes up the bottom left part of the board. It includes 19 action spaces from the Chambers (people) all the way t o the Balcony space (shows shaking dice). These are what the spaces do in detail o The 6 Chamber People 1 Give up any value 1 die to get 2 fame points and take the 1st player marker for next round. 2 Give up any value 2 die to get any 2 dice in return and 1 white yield token sitting on the white building . Gain the reward of the Y ield token immediately and discard it. If the pile runs out, reshuffle it.3 Give up any value 3 die to get 2 Karma and 1 die of your choice. 4 Give up any value 4 die to advance 1 of your buildings up 1 level and earn 3 money . 5 Give up any value 5 die to choose any Province tile, place it on top of any Province tile already built with a lower die cost, and pay 1 dice totaling the difference in value of the 2 tiles in the color of the new tile. The new tile will not earn Yield rewards but it will earn rewards for what is on the tile itself. Also, this new tile must obey the laws of tile placement. It must be traceable back to the Estate. 6 Give up any value 6 die to move your boat on the river exactly 6 unoccupied spaces . If you are within the last 6 river space s, you cant use this action anymore. Must be able to move exactly 6 spaces. o The Terrace Balcony Spaces The single space on the very end lets you take 2 money and re -roll any number of your dice. The spaces that are touching a colored die reward you with 1 die of that color. The spaces that show a colored die in the action space require 1 die of this color as payment to receive 2 dice of the other color as the reward. End of the Round After everyone has placed all their workers ( a player might have a skip ped turn if other players have more workers) the round will end. If a player took the 1st player marker by going to the 1 space in the Chambers, then that player is 1st player for the next round. If no one went to that space, pass the Elep hant clockwise. Ever yone now takes back all their workers placed this round and starts a new round! End Game During the round, when 1 player has their Fame marker reach andor pass their money marker, the game is triggered. At this time, each player going clockwise unti l the last player is reached will get 1 more turn to place 1 more worker (if the last player is the one to trigger the game then the game will end now.) When the game ends, the player who moved their Fa me and Money marker the furthest apart (ties broken b y the player who did this first) will win the game ! Navaratnas Version (Advance d Game) Instead of only being able to get 2 new workers like in the standard game, you can claim all 3 workers on the board. You will use the other side of the Kali Statue which allows you to only store 8 dice , instead of 10 in the standard game. You will use the other side of your Province Board as well. You will notice some empty Yield space s around the edge. o During Set -up, t ake the Brown Yield tiles, flip them face -down, and each pl ayer takes 1 randomly, looks at it, and covers up 1 of the 2 Brown Y ield spaces on their Province board . It doesnt matter which Brown space is covered. You wont earn the reward now, but you will earn it in game when you connect to this Yield token. See the descriptions of the new bonus Yield tokens in the rulebook. o You will now sort the 4 different color ed Yield tokens by color and place them face -up on their matching building s on the right side of the board. (Same area you put the white tokens face -down in the standard game.) There are 2 ways to obtain new Yield tokens during the game o When you select the 2 person in The Chambers. This person allows you to get a ny face -up Yield token from 1 of the buildings. Select 1 and add it to your Province b oard, but it can only cover up a matching color. You wont earn the reward yet, but you will earn it when you connect to this Yield token via a road going back to your Estate. o When you have fewer workers than others! If you are skipped over during a r ound because other players still have more workers, then you get to take 1 Yield token of your choice and place it on your Province board covering a matching color space. Again, the reward will be earned when you connect to this token with a road leading back to the Estate. You are not required to take Yield tokens when allowed, and you cant place a Yield token on top of another Yield token. The Ganga Module (Customize the River Spaces) During set -up, mix the 8 river tokens face down, then roll a die. Count out that many spaces and choose 1 of the token to flip over and place on this space (creating a new space for the game). Repeat this process until you reach the end of the river. The final river space cant be covered up. All 8 riv er tokens might not be placed out. See the rulebook for a detailed description of the new tokens. Obviously, you can turn the tiles face -up and customize the river spaces however you wish for a certain strategic game.'"
      ]
     },
     "execution_count": 56,
     "metadata": {},
     "output_type": "execute_result"
    }
   ],
   "source": [
    "text_quick_guide"
   ]
  },
  {
   "cell_type": "code",
   "execution_count": 57,
   "metadata": {},
   "outputs": [
    {
     "data": {
      "text/plain": [
       "'Rajas of the Ganges Automa mode Author Mauro Gibertoni Rev. 1.0 - 4 Dec 2017 This is a solo variant for Rajas of the Ganges boardgame. You play against a fake opponent the Automa. While you play following all standard rules, the Automa breaks some rules, so for you it will be very easy to take the action for the Automa. Set-up Prepare a standard set -up for wo players, but consider that the Automa doesnt need all the components, so you can leave in the box the following components - the province board ; - the four markers for palaces upgrade ; - the marker for karma points ; - the personal dice an d the Kali statue ; - if you play with Navaratnas version, select one brown yeld tile for you then remove 2 yeld tiles per color . Shuffle the Automa deck and place it close to the board with the blue side face up. Select randomly who will be the first player . Place the provice tiles in 12 piles and organize them in a 3 x 4 grid. Automas overview At each turn alternate your actions with the automa actions like in a normal game. When the Automa must perform an action, you draw a card from Auotma deck and ex ecute the action described. In general - The Automa places his workers on the board, but he spends no dice to take the action ; - The Automa can gain new workers like a normal player ;- The Automas fame and money markers are moved only one time per round just after the Automa has placed his last worker . Description of the round When it is the Automas turn, draw a card from Automa deck, look the red side and perform the action shown Building action place the Automas worker then look the blue side of the first automa card that is remained on the top of the automa deck, and discard the province tile highlighted on the card. (Automa gains no fame for the moment) Market action look the blue side of the first automa card that is remained on the top of the automa deck and place the Automas worker on the market shown on the card. (Automa gains no money for the moment) River action place the Automas worker then look the blue side of the first automa card that is remained on the top of the automa deck, and advance the ship the number of spaces indicated on the card. (Automa gains no bonus) Action at the palace look the blue side of the first automa card that is remained on the top of the automa deck and pla ce the Automas worker on the palaces room shown on the card. Special cases If the room is the number 5 (Master builder), discard a province tile as in building action. If the room is the number 6 (Portuguese), advance the ship 6 spaces. Balconies action look the b lue side of the first automa card that is remained on the top of the automa deck and place the Automas worker on the balcony space shown on the card. Note if the Automa can not palce his worker because the area is occupied by another worker, discard the card on top of the deck and look the next card until the Automa can place his worker. Every time the Automa deck is termined, reshuffle it.Example If you draw this card and this card is visible on top of the deck , the Automa places a worker on the silk market space. End of a round Once the last automa worker is placed, look on the red side of the current automa card and advance the fame and money Automa marker the number of spaces indicated on the card. There are three difficulty level available. Apply the level you want easy (green ), medium (orange ), hard (red). During the game the Automa gains new workers and the advancements on the river, all other rewards shown on fame and money tracks are ignored. If the Automa gains a new worker during the advancements of the markers at the end of his turn, the new workers will be available only in the next turn.End of game If you are the first to trigger the victory condition, draw a card and apply the fame and money point with the selected difficulty level for the last time. Then declare the winner with the standard rules. If the Automa is the first to trigger the victory condition (this occurs only after the Automa has placed his last worker) and you are the second player in turn order you can place your last worker, then declare the winner with the standard rules.'"
      ]
     },
     "execution_count": 57,
     "metadata": {},
     "output_type": "execute_result"
    }
   ],
   "source": [
    "text_automa_variant"
   ]
  },
  {
   "cell_type": "code",
   "execution_count": 58,
   "metadata": {},
   "outputs": [
    {
     "data": {
      "text/plain": [
       "['Except for the case where you want to rush to get your worker on the bridge, I cannot understand why using a 6 on the Portuguese is useful. The sooner you race through the river, the less likely you are to benefit for those 1 river space bonuses and claim rewards caused by other events. How else could the Portuguese be useful?',\n",
       " 'I use it frequently...like you mentioned, usually to rush and get my extra worker.']"
      ]
     },
     "execution_count": 58,
     "metadata": {},
     "output_type": "execute_result"
    }
   ],
   "source": [
    "estrategia_portuguese"
   ]
  },
  {
   "cell_type": "code",
   "execution_count": 59,
   "metadata": {},
   "outputs": [
    {
     "data": {
      "text/plain": [
       "'I have only played the game several times, but I think the best (and probably the most obvious) strategy is to build up your markets in your province as fast as possible, and then take the market action to score them frequently. Look and see which markets are available on the tiles and plan accordingly. The market action that allows you to score all three market types (one of each) does not cost a die, so go for diversity first if the tiles available are in that favor. Of course pick the markets with value 2 or 3 first. My last game I did not buy any market tiles that had a value of one (unless it has a building on it that will score well for fame.) Build up your building upgrades as fast as you can as well. In our second game my opponent ignored buildings and focused entirely on markets - and he lost. So do not ignore them. This is one of those games where you have so much you want to do each turn and you only get to do one thing! Also, get your extra meeple as soon as possible. And dont forget the action where you can lay a tile on top of another tile. We sort of ignored that until our third game and realized it might be a good idea to connect to the borders of your province as much as possible even if the roads might not bend the way you want, because you can always cover a tile later (although there are restrictions.) This is quickly becoming one of my favorite games. I suggest skipping the basic game and playing with the advanced rules right away. Its not any more complicated and really makes the game shine quite a bit more. Good luck!'"
      ]
     },
     "execution_count": 59,
     "metadata": {},
     "output_type": "execute_result"
    }
   ],
   "source": [
    "estrategia_principiantes"
   ]
  },
  {
   "cell_type": "code",
   "execution_count": 60,
   "metadata": {},
   "outputs": [
    {
     "data": {
      "text/plain": [
       "['Rajas of the Ganges is one of my favourite games. I like it because I see a way to work towards mastering it. I hope that this article will improve the gameplay of those with similar goals, as well as those on Yucata. This article is more tailored towards 2-player games (Navaratnas Ganga module) but many of the principles also apply to higher player counts. Revised in Feb 24 I incorporated new views based on my 10 games played as part of a Yucata Kings Court tournament. (2-players, round robin). The most significant is I now see the value of picking the Great Mogul (1). Besides updating the guide, I tried to improve the readability of the guide with ChatGPTs help. I am not very proficient with formatting on BGG, so I apologize in advance if it is still difficult to read! Rajas of the Ganges Strategy Guide Introduction Rajas of the Ganges holds a special place among my favorite games, as it provides a clear path to mastery. This article aims to enhance the gameplay for those with similar goals, specifically for 2-player games (Navaratnas Ganga module), but many principles also apply to higher player counts. At a Glance',\n",
       " '1. The Macro View Revised in Feb 24 - Mixed strategy Heavy Money Fame 2. Evaluating the Board State at the Start of the Game to Decide on a Strategy - 1 market of each kind 3 and 4 directional tiles (consider your dice as well) 3. Dice Management Revised in Feb 24 - 3 karma dice River 3 color dice River Dancer 2 dice River 1-for-2 dice 1 dice (assuming the dice color matches what you want) 4. How to Get Money - Different market spot - No. 4 - River spots - Connecting to the bottom of the board (longer than the top but more worthwhile in the long run) - 1 market (only worth if activating 3 or more) 5. How to Get Fame - No. 4 then build monuments - Board - River spots 6. How to Quickly Get Your 6 Workers New Section in Feb 24 - River is your good friend - If you have a good Money set-up (3 different markets), focus on river spots giving fame - If you have a good Fame set-up (min. 3 monument upgrades), focus on river spots giving money 7. What Yield Tiles to Pick New Section in Feb 24 - Make sure you have a good Brown end-game yield tile - If you have a bad Money engine, pick Money - If you are reaching the yield tile soon and lack dice, pick dice 8. Others - (Base Game) the most optimal way to build is to go down the center and build both ends - Withhold building to punish opponents for getting dice in the color of the tile you want and can get',\n",
       " 'Macro View Mixed Money Fame The game concludes when the fame and money tracks intersect. Thus, players can opt to focus heavily on money, fame, or pursue a mixed strategy. In a balanced strategy, players benefit from both tracks, making it generally more advantageous. A slight emphasis on money is preferred due to better bonuses (river and dice) compared to fame (upgrade, karma, and river). However, a fame-heavy strategy can still be successful. In Raja of the Ganges, flexibility is key, and understanding your best options at any given moment is crucial. Evaluating the Board State at the Start of the Game to Decide on Strategy 1 market of each kind 3 and 4 directional tiles By default, seek market tiles of each kind (greenyellowred) providing 2-3 coins to quickly form 3 different markets for 6-9 coins. Two-markets-in-one tile and affordable market tiles are also viable. The 3-different-markets meeple spot offers the best VP-to-cost ratio, as it requires investment in only 3 tiles and costs no dice. If acquiring these tiles is challenging, consider going for monument upgrades. In such cases, focus on 3 or 4 directional monument tiles or those combining monuments and market tiles to build both the fame and money tracks simultaneously.',\n",
       " 'For example, in the given illustration, consider 7 blue (since green Market is rare) and then either 5 Orange, 9 Green, or 7 Purple. This tile evaluation remains relevant throughout the game as you aim to build towards the bottom for the most rewarding outcomes. Deciding between sub-par 3 or 4 directional tiles (usually market tiles) and tiles that fit your monument upgrades will likely determine your chosen strategy, whether Heavy Money, Mixed, or Heavy Fame. Dice Management 3 karma dice River 3 color dice River Dancer 2 dice River 1-for-2 dice 1 dice Dice color matters only when building. Dice plays a crucial role in lubricating your VP engine. In order of preference, obtain dice through the following methods 1 River spot (1 die per karma) The uniform color aids in building tiles. 2 River spot (2 dice) is superior to 1-for-2 dice exchange because it advances the river track, providing better rewards and an extra meeple. 3 Updated Feb 24 Dancer While Dancer is more useful in the early game, it gradually loses its edge as you accumulate enough yield tiles. 4 1-for-2 dice exchange is usually better than acquiring 1 dice because more dice of the same color make building easier, and you get a free roll of the die you gave up. Think of it as receiving a new die, rerolling your die, and giving it a different color. Consider saving a die to acquire more dice, as this is typically the trade-off. With dice, focus on increasing both money and fame. Strategies for Resource Acquisition in Rajas of the Ganges How to Get Money - Different market spot - No. 4 - River spots - Connecting to the bottom of the board (longer than the top but more worthwhile in the long run) - 1 market (only worth if activating 3 or more) How to Get Fame - No. 4 then build monuments - Board - River spots How to Quickly Get Your 6 Workers New Section in Feb 24 In the Advanced game, you start with 3 workers and can unlock 3 more by advancing on the Money, Fame, and River tracks. Rushing for 6 workers is beneficial, outweighing the drawback of yielding tiles to opponents. This is because 1 worker is minimally worth 1 die, and the benefit of yield tiles diminishes as opponents acquire more. River is your good friend - If you have a good Money set-up (3 different markets), focus on river spots giving fame - If you have a good Fame set-up (min. 3 monument upgrades), focus on river spots giving money While its preferable to get 3 markets and then focus on fame for the extra worker, circumstances may not allow this, usually due to tile constraints. In such cases, focus on fame but make a conscious effort to obtain all the Money bonuses on the river. Anticipate whether your opponent is using the build or river locations and try to beat them to it or delay your visit to these locations until the next round if there are no compelling reasons to visit this round. The goal is to secure the worker on the Money track. The river is an excellent place to utilize low rolls and can yield various rewards. Climbing it strategically for the rewards you need (usually dice fame or money) is key. The Portuguese (6) turns out to be more useful than perceived, particularly when moving up the river without 6 is challenging. Keep this in mind when deciding whether to use the 6 dice to build tiles or ascend the river. 6 can also be a good option when landing on the river reward that allows you to pick one of 1 - 5 bonuses. What Yield Tiles to Pick New Section in Feb 24 Ensure you have a good Brown end-game yield tile - Based on my observation, players prefer taking yield tiles in this order RedBrown YellowWhite. - Starting with a bad brown yield token can be detrimental, and players should quickly exchange it for a good brown yield token. Only the bolded tiles below consistently provide 6 or more fame.',\n",
       " '1 fame per 3 river spots 1 fame per worker 1 fame per market 2 coins per monument upgrade 2 coins per tile connected 1 coin per building 2 fame per bend',\n",
       " 'For white, yellow and red yield tiles, - If you have a weak Money engine, pick Money - If you are approaching the yield tile soon and lack dice, pick dice Others (Base Game) the most optimal way to build is to go down the center and build both ends - The bottom rewards are significantly more potent. Consider this scenario (and how you should generally build in the base game)',\n",
       " '4 Fame 7 money or 6 money 8 Money. If lacking dice, consider taking a detour to the 2nd bottom row first, as it is more valuable than going down the sides where you get 3 dice before reaching your rewards. - For the Advanced mode, route choice is flexible; pick a route that aligns with what you want to build. Withhold building to punish opponents for acquiring dice in the color of the tile you want and can get - This is an advanced consideration when players have a good sense of whether a given tile is sought after by others. Otherwise, its generally better to buy a tile first, see what that tile is, before obtaining dice to better adapt to the available tiles for purchase. Parting Remarks Critics have pointed out Rajas of the Ganges for being scripted on a strategic level, but the games essence lies in tactical decisions. Its 80 tactical, akin to navigating a maze in the fog. The fun lies in assessing the most likely path based on limited information. I hope this guide aids those striving to enhance their gameplay Addendum As nandblock rightly points out in the comments, the Master Builder is often overlooked. There are a few advantages to it, namely Converts dead ends to live paths (translating to creating dead ends for yield rewards and then over-building to continue the path) Provides the ability to snag a tile if you lack enough dice of the same color to build conventionally Saves coins. I have used it effectively too. Note that these advantages must be weighed against not advancing your path (since you are replacing and not adding a new tile). Some players use their 1 dice to get the Great Mogul (1). I think this is not worthwhile because most river spots are worth more than 2 fame, or it can be converted to a 6 for Portuguese or building tiles. I will probably only do it if I need the 2 fame to get my fame worker The leading player is 2 or 3 seats after me AND the player seated after me does not threaten me The next round will be the last round The player after me always picks the Great Mogul Update in Feb 24 In 2-player games, I have been humbled by players frequently picking the Great Mogul. The Great Mogul can be a very good pick if both players have developed their 3 markets. Lets say both players can get 6 coins from the spot, the Great Mogul can represent a 12-coins swing (6 to you, -6 to your opponent). This is also very good if it would help you or stop your opponent from getting a reward on the Money track. That said, you still have to weigh it against advancing 1 river step or converting to 6 for Portuguese or building tiles.']"
      ]
     },
     "execution_count": 60,
     "metadata": {},
     "output_type": "execute_result"
    }
   ],
   "source": [
    "guia_competidores"
   ]
  },
  {
   "cell_type": "code",
   "execution_count": 56,
   "metadata": {},
   "outputs": [
    {
     "data": {
      "text/plain": [
       "[['This is my first review for BGG. Ive really enjoyed Rajas so far so it seems like a great game to start with! I love midweight Euros and a big appeal of this game for me was the stated 60-75 minute play time. I often play games with coworkers at lunch and we have an hour to play. For that reason, I dont get to play heavier games like Great Western Trail very often. Games that have seen regular play lately include Rajas, Tiny Towns, Tournay, Jaws, Res Arcana and Century Spice Road. I bought Rajas of the Ganges a few weeks ago after months of delayed gratification... its been on my wishlist for a while. Ive spent a fair amount of time traveling in India so the theme was automatically a win for me. The art and components are fantastic. 48 dice of varying colors, wooden meeples, nice thick tiles for province building. I also really love the Kali component for storing dice. The only component Ive found lacking is the player 1 elephant - sure, its cute, but it easily falls apart. This is nitpicking, though. I have played this game at 2, 3 and 4 players and have loved it at all counts. Turns go fairly quickly. Interaction is indirect but theres a fair amount of tension due to the competition for building tiles and placing workers. I always find myself paying attention to the turns of others. Rajas also combines dice rolling, tile laying and worker placement in an extremely satisfying combination. The worker placement vibe gives me a Lords of Waterdeep feel, which is a big positive. Players start with 3 workers but can unlock up to two more, so all players are racing to get an advantage (however brief) where they get additional actions in a turn. The tile laying comes into play when building out provinces that include markets (for money) and monuments (for fame) - plus reaching certain spots leads to bonuses. This adds a nice, classic Carcassonne vibe. The individual player boards for provinces are excellent and the rules for building out provinces are simple yet engaging. The dice rolling aspect is also excellent. I hate luck-based games and Im generally not a fan of dice. Games like King of Tokyo bore the heck out of me. However, I love games where I can mitigate andor manipulate dice, and this is one area where ROTG really shines. Dice are rolled as soon as they are acquired. I am almost always excited by what I roll because I have so many options. Low rolls can be turned to high rolls by using karma (and high rolls are desirable for gaining buildings). However, low rolls can be desirable in their own right - for instance, the dancer can only be activated with a die roll of 2 (which results in 2 fresh dice to add to a players pool along with a bonus tile) and the yogi is activated with a die roll of 3 (a free die plus 2 karma). Each player also has a boat on the river that can be moved only with a roll of 1-3, triggering special bonuses. In the rare instances I get a mediocre roll and find myself stuck, its generally because I havent done a good job replenishing karma. My gaming group have found multiple strong strategies for winning this game. Being resourceful with dice and balancing fame and money are all important. Also, everyone Ive played with so far (4 other people plus myself) have all really liked this game. Best of all, this game can be played in about an hour. I played a 3-player game a few days ago that was tense, thinky and immersive and led to all three players nearly winning the game despite the fact that we all pursued drastically different strategies. I was amazed that we completed the game in an hour. It felt like wed played a meatier game, which is a huge plus for me. As much as Id like to bring a big ol Euro to the table at lunch, its just not an option for us at work! I give this game a 9 out of 10 (and I havent given any games a 10 just yet, so 9 is as high as I go). Highly recommended!'],\n",
       " ['Plays 4 at player counts 2 3 Appearance The front of the box shows a beautiful landscape and river with a deity holding dice and is full of colour and detail. The back of the box shows a 2 player game in progress showcasing the majority of the components and gives a description of the theme of the game. The game has a good insert which holds the components well and makes setup a lot quicker. The player boards are well laid out but a little bland until you lay tiles on them during the game. The tiles are more detailed with various spices and buildings, along with a large number and colour to denote what they require to be built. The wooden coloured player components are easy to distinguish from one another and include some shaped meeples along with some bland cubes. The main board is a particular highlight of the components, it is very colourful and detailed and doesnt look overwhelming. Finally the dice are very good quality in bright colours with a nice weight to them. Gameplay The aim of the game is to make your fame and wealth track markers intersect one another, these run in parallel around the board in opposite directions. When a players 2 markers intersect the end of the game is triggered, with the player with the biggest difference between the 2 markers winning if multiple players tokens intersected. Each turn players will place workers, pay any costs associated with the spot and carry out the action listed. These costs vary from moving back on the money track to paying a specific colour or numbered dice. Players will continue to place workers until all workers have been placed and the board will then reset with players collecting back all their workers and the next round can begin as long as the end game hasnt been triggered. There are 4 main different worker placement areas the quarry, market place, palace and harbour. Using the quarry worker area you can build a province tile into your personal province. There are 12 different province tiles on offer at any time, 3 for each different coloured dice. Your must pay the listed money cost when placing your worker along with matching coloured dice of equal to or greater pip value than the tile you are acquiring. You must place these tiles with a direct path back to your starting palace on your province. You gain any yields that you connect to on the edge of your province and receive the money from any markets on the tile. You also receive fame for any buildings on the tile based on your position on that buildings scroll track on the main board, so between 2 and 4 fame. There are various actions and bonuses on the board that allow you to move up on the 4 building scroll tracks. The market worker area allows you to collect income from the markets in your province, either from the same type of market or different ones. When activating the same market you must pay a dice and can only activate as many markets as the pip value of the dice. The palace has 3 main areas the terrace, balconies and the chamber. In the terrace and balconies you can either collect a specific coloured dice of your choice or trade one coloured dice for 2 of a different coloured dice. Whenever you collect dice you roll them and place them onto your Kali statue if you have room. You can always spend karma (if you have it) to flip a dice when you need to pay a cost. In the chambers you can spend a dice of a specific number to activate one of the characters for a specific action. These include gaining dice, karma, scroll movement, taking first player and building over province tiles in your area. In the harbour you can move your boat 1 to 3 spaces on the river and take the listed bonus on the space you end your movement on. The amount of spaces you move depends on the value of the dice spent. Boats cannot be on the same space and you simply skip spaces opponents boats are present on. The bonuses are very similar to the other actions on the board but towards the end reward dice, money or fame based on a condition such as number of karma, scroll movement or markets built in your province. You start the game with 3 workers but can unlock up to 3 more from the fame, money and river tracks when your corresponding marker passes them. Play continues until the end of the game when one players score markers intersect. Play continues until every player has played an even number of turns and then the winner is determined. The turns flow very naturally in this game with simple to resolve actions and costs to pay. The game plays 2 to 4 players and an unofficial solo automa is also available on bgg. Theme and Game Length The game has a good theme, different to many other Euro games of this weight but it doesnt really come through in the actions you are performing. Why are you trying to get wealth and fame to meet, who are these characters and why does the river give the bonuses it does. Gaining workers makes slightly more sense as when you get more famous on the 3 tracks more people are willing to work for your province. The game doesnt drag at all and is actually quite fast for the level of decisions offered. The game scales well with 2 different sizes of the board to tighten up the worker placement spots. The game takes about 20 minutes per player which is very good considering the weight of decisions you make. Strategy There are two main ways to score points in this game, wealth and fame. It is very hard to just work on just one of these and win so over the course of the game you will be earning both. Players will differ in their overall strategy but there is only the one way to win, intersecting your markers. A focus you must have is to get more workers as quickly as possible. The two workers that can be unlocked on the wealth and fame tracks are the easiest to obtain. The wealth track also offers multiple other bonuses so is the track you should target at the start of the game. If other players have more workers than you for too long you have no chance of winning with the yield tiles offering too little in compensation for the worker placement actions they are taking. Each fame is worth 2 money so this obviously looks more appealing to try and race up but without the track bonuses this shouldnt be an early game focus. Instead you should look to increase your scrolls for the 4 building types. If you specialise in one or two building types other players may build tiles with that building type to prevent you from building it. Also with 4 different building types the tiles that may come out may not be the ones you get extra fame for so its probably best to spread your scroll movement out. A space that you cannot underestimate is the space to activate up to 3 different markets in your province. You want to make sure to build 3 different high value markets as soon as possible to take advantage of this space. This spot (or spots in the 34 player games) is usually the first spot players go to at the start of each round from the mid game onwards. It costs no dice and can yield anywhere from 3 to 9 money which is better than any other spot due to having no costs. Activating multiple markets of the same type can also be good but requires a lot of the same market to be built which depends a lot of the tiles that come out. Many of the spots cost dice of various values with every value having a potential good use. If you get lots of high value dice you should be using these to build tiles, trying not to waste too much pip value. The lower value dice can be used for some of the characters or more likely the river. The river is sort of split into two halves by your unlockable worker with the first half offering small bonuses like dice, scroll movement and fame. The later half offers powerful one off bonuses like activating multiple markets or gaining fame and money based on a condition. It is perfectly viable to skip most of the early bonuses and plan to maximise these powerful one off bonuses instead. With so many spots costing dice you always want to make sure you dont run out. You should never take the terrace actions to gain one dice as it is so inefficient and should instead look to use bonuses to acquire dice or trade one dice for two. In the higher player count games you also want to make sure you are not 3rd or 4th in turn order for long due to some worker placement spots being clearly better than others and you can really fall behind if you are not careful. There have been some runaway leader problems in the games that I have played of this. During the mid game it became obvious who was going to win generally because of the market setup they had on their board. This meant one worker could gain them 6 12 money with each action which was much stronger than the other players. Newer players will struggle with experienced players with both tracks to manage and not being able to distinguish which worker placement spots are better than others. The game has modest replayability as you are aiming to do the same thing each time and the way the tiles come out and what dice values you get will change each game. The game also comes with several modules which significantly help replayability and make the game better in my opinion with ways to customise your province. The game can end very suddenly and can be difficult to plan for so you need to be building towards the end of the game constantly. Accessibility The game is light to medium weight with simple to perform and resolve actions but some setup on your province tile required to do well. There is also some consideration needed for when and where to place your workers to maximise their benefits. The game is very easy to teach with obvious iconography and the main board layout also helps. The rulebook is excellent, very clearly laid out rules with multiple examples and text descriptions of each worker placement spot. The game takes up a decent amount of table space with each players province, the main board and places for tiles and dice. Final Thoughts Rajas of the Ganges is a good next step worker placement Euro game with simple to understand rules and great components. The game has good flow to it with your points increasing steadily before exploding towards the end. One of my main problems is the market space on the main board especially the activate 3 different ones in your province. This is way too strong due to having no cost and makes first player way too powerful in this game with players needing to shift it multiple rounds in a row to mitigate this. I really like the scoring in this game its fairly unique and offers different considerations unlike normal Euro style games. I also like the fact that all values of dice have uses in this game so even though low numbers arent good for building you can use them on characters and the river or to trade. A solid light to medium weight game. 710 If you enjoyed this review please leave a thumbs up and also think out about checking out one of the 120 reviews available on my blog (with pictures), Silver Duck Reviews, and subscribing to let you know when new reviews go live.'],\n",
       " ['I have only played Rajas once at 2p and I must say that I found it to be an utterly underwhelming and overly frustrating experience. The problem with Rajas is that it overwhelmingly relies on luck. Not the sort of fun luck youll find in Camel Up or Quacks of Quedlinburg but the sort of luck that makes you wanna flip the table. There is no question that the most important aspect of the game is your personal player board. This is your engine that drives your money and karma production and if it isnt impressive, youre simply not gonna win. How does one make an impressive player board? With lots of dice pips, which means you either need a lot of dice or to roll well. If your opponent rolls better that you or happens to pick up all of the bonus tiles that award extra dice they will leave you for dead, and thats exactly what happened in my game. Sure there are ways to mitigate poor dice rolls with the use of karma but it just isnt enough as karma itself is costly and hard to come by. In my game I never felt like I had a chance of winning, yet I feel like I played as well as I could have with what I had. I absolutely do not feel that I had any chance of winning the game with my dice rolls and bonus tiles draws when compared to my opponents. My choices just seemed to have little to no agency; all the agency was in the dice rolls and that just isnt fun for me There are some interesting ideas in here, but thats about it. The interacting famemoney tracks seem interesting at first glance but when you really think about it it turns out that it couldve just been one track, not two. If something were to award you with one fame, it couldve just been two dollars (or rupees) to the same effect. Sure, there are bonuses to be had as you progress along the individual tracks but that only serves to force you to attempt a little bit of everything and dis-incentivizes focusing on one particular strategy. Overall, Rajas is a very generic, bland euro game with far too much dependence on luck. In my game it never felt like I was playing against my opponent, but rather I was playing against the game and the game was being much, much nicer to my opponent than it was to me. I would be hard pressed to play this again.',\n",
       "  'Totally the opposite of every play Ive had of this, including my first. The game has less luck than a lot of games using dice. Some spots can only be visited with low rolls and many of them are powerful. Maybe you just dont understand the game and cant figure out how to value what those options are? Whatever the reason, its not the games fault. Raja is a top 10 all-time game for me and is likely to remain that way.',\n",
       "  'Rajas was such a hit with me, I play against a difficult automa I printed cards for and have played multiplayer. There were always things to do with different dice, high or low, and everything is cleverly put together. So you have only played once at two player, have you played any other ways? Maybe it was just a really unlucky game and your opponent was luckier and also stole the areas youd want, before you. If there was only one track it wouldnt be that much fun.... A lot would seem odd too, spending money to gain more money? Fame and crossing on the track make it more fun. The Dice Charmers version of this game is also super fun. I always wrote this off since I am a solo player, but always wanted the game. So glad I found the automa and then did end up recruiting newbie type gamers. Easy to teach and understand. This game instantly jumped into my top nine. What are some games you love, so we know if it is even your style? To each their own of course!',\n",
       "  'I know that some of the low dice-roll spaces are valuable, but not nearly as valuable as buying good tiles. I doubt one could ever win this game with consistently low die rolls.',\n",
       "  'Maybe it was just a really unlucky game and your opponent was luckier - exactly my point.',\n",
       "  'Maybe it was just a really unlucky game and your opponent was luckier - exactly my point.',\n",
       "  'Ah yes, but dice rolling isnt often so perfectly one sided, so my point is that your first experience is more of a fluke than an actual measure of how the game usually plays. I mean, of course its your right to dislike it and find is disappointing. I just think your first game sounds like a fluke. The game is usually tight and not such a runaway winloss.',\n",
       "  'Also it does seem very Euro-introductory, but I love the simplicity and easy to figure out iconography. Easy to teach to newer gamers interesting in expanding. I also love the roll of dice. Maybe one of the goodies boxes would fix the problems you are having. I am going to look closer at them for myself.',\n",
       "  'The problem with Rajas is that it overwhelmingly relies on luck.',\n",
       "  'No it doesnt. Its a dice-driven game, and like all dice-driven games there is an inherent amount of randomness (or luck as you call it). But overwhelmingly reliant on luck? No, because there are multiple ways to mitigate dice values that arent working for you, and Karma is just one of them. You have one particular dice that isnt working for you? Trade it for 2 other different colored dice and get a fresh roll. There are good spots for low value dice rolls as well as higher value ones. As for building up your player board, start modestly and work your way up - the default presentation of the tiles is very even and fair in that there should always be something you can afford to build. It may not be the perfect tile for you at that given moment (it rarely is) but a creative player should be able to find a way to make something work.',\n",
       "  'I would be hard pressed to play this again.',\n",
       "  'Thats too bad. It really is a terrific game but if youre confident that one play was enough to put you off for good, then it is what it is.',\n",
       "  'I know that some of the low dice-roll spaces are valuable, but not nearly as valuable as buying good tiles. I doubt one could ever win this game with consistently low die rolls.',\n",
       "  'It took me a bit to figure out how to finagle this scenario, but the key is karma and the river. If you can time out your karma right, you can snag a bunch of low value tiles to get your bonuses. The two space is also seriously useful in these scenarios since you can get up to three dice of your choice. Additionally, dont feel bad if you take the re-roll action, its not great, but a bit of cash in your pocket and a better roll can be a good thing. Weirdly enough, I tend to struggle with consistent high value rolls, particularly in early game.',\n",
       "  'The problem with Rajas is that it overwhelmingly relies on luck.',\n",
       "  'No it doesnt. Its a dice-driven game, and like all dice-driven games there is an inherent amount of randomness (or luck as you call it). But overwhelmingly reliant on luck? No, because there are multiple ways to mitigate dice values that arent working for you, and Karma is just one of them. You have one particular dice that isnt working for you? Trade it for 2 other different colored dice and get a fresh roll. There are good spots for low value dice rolls as well as higher value ones. As for building up your player board, start modestly and work your way up - the default presentation of the tiles is very even and fair in that there should always be something you can afford to build. It may not be the perfect tile for you at that given moment (it rarely is) but a creative player should be able to find a way to make something work.',\n",
       "  'I would be hard pressed to play this again.',\n",
       "  'Thats too bad. It really is a terrific game but if youre confident that one play was enough to put you off for good, then it is what it is.',\n",
       "  'Yeah, these are all somewhat valid points, but if Im having to take all these actions trying to get more dice and reroll my low value dice while my partner is not then Im inherently at a disadvantage. Not to mention that they consistently picked up extra dice with the 2-pip die action while I was getting the less-useful bonuses. It was not a level playing field. Maybe its just a me problem though because I dont like luck in my euros. And you may call it randomness, but I definitely call it bad luck when I pick 4 dice and roll thee ones and one two when Im specifically in need of high numbers, and have already used up all my karma on my earlier lousy rolls.',\n",
       "  'My experience with the game is the opposite of the OP. We bought it shortly after we played it. We enjoy dice rolling games, even when we roll bad (my wife is the queen of bad rolling), but she enjoys this one with me. Too bad you (OP) didnt like it, but to each his own.',\n",
       "  'Thanks for your post. Always good to read a less favourable but well presented opinion. I enjoy Rajas, but for me the strength of the markets and getting the right dice to grab a set is more of an issue than simply pip value. Markets can be really strong and theres this forced tension of feeling like you have to get market sets otherwise someone else will and theyll spin up an engine and pull away. Rather than have other directions to go in. It comes up in various threads and Im not sure Ive ever been completely satisfied by the arguments that the game is fine as is. So I find it hard to grab it off the shelf. The problem may be mine. I tend to play games in a way where I avoid strategies that look obviously strong. I dont know why, but I just dont want to be doing the obvious moves all the time because then I dont really have any agency. Its scripted. The last few games of ignoring an obvious market grab have left me way behind the pace, watching people accumulate money quickly whilst my engine stalls. The argument seems to be that Rajas isnt a game of diverse strategies. Its a game of balance. Sometimes you have to take those tiles because otherwise you are being suboptimal and leaving a great move for someone else. And I guess I should play with that mindset and enjoy the tension around the scramble for good tiles. But to bring this full circle, therein lies the luck part of the game for me. If a great tile comes up and I convert one dice to two of the colour I need and I get low values, its taken too long to nab the tile before someone else snaffles it. Sure theres karma and keeping a good dice pool, but as the OP alludes to, sometimes it feels like youve been situationally shafted when it really does matter that you roll high. All of this does make me want to play it again though lol',\n",
       "  'I enjoy Rajas, but for me the strength of the markets and getting the right dice to grab a set is more of an issue than simply pip value. Markets can be really strong and theres this forced tension of feeling like you have to get market sets otherwise someone else will and theyll spin up an engine and pull away. Rather than have other directions to go in.',\n",
       "  'In my opinion, this is a bit of a problem and people often make weak arguments when dismissing it that dont really hold up in practice. I think the main issue is that there are a lot of opportunities to use your markets over and over again while simultaneously making the action stronger every round, but not that many opportunities to make your building scoring ramp up in the same way. You can counter it a little bit by blocking market spaces, but this can also be to your detriment because you effectively lose a turn if you arent also going for markets. I found that some of the mini-expansions fix this issue by simply introducing more options to upgrade your building scoring throughout the game. They also mix in some powerful tiles that make the other player think twice about blindly going for the high value market tiles, because then they might leave you a tile which has good synergy with fame scoring, leaving you to create a similar runaway scenario like they are trying to do with their high value market tiles. Ive already played one three-player game where my opponent completely ignored me while building his wealth engine, and in the final two rounds I ran nearly two-thirds of the fame track and won by a landslide.',\n",
       "  'I have to disagree. There is a constant flow of dice and I cannot see how you can be unlucky all the time. There are 2 powerful strategies going for markets or going for buildings. In a 2 player games if you go for the opposite of what your oponent is doing or focus on one of those strategies if your oponent is doing a little bit of both you have many chances to win. You need to use wisely your buildings and your workers. I will give you that sometimes you run out of dice and luck, but you have to build up your engine and understand that your oponents will also eventually run out of dice and luck. I mean, you roll tens of dice in this game, it is statistically impossible to always run out of luck. Seems to me that you have to give it another chance and find a strategy that fits your play. In the end if you lose by a little bit for a bad roll at least you had a great time competing.',\n",
       "  'My take away is that you should stay away from games with dice.',\n",
       "  'Well thats good advice to avoid disappointment, but is a case of throwing the baby out with the bath water. Theres a whole spectrum of how much the dice in games can affect the outcome. At one end would be something like roll a 1-3 you lose, 4-6 you win. At the other would be a game where the dice create chaos but in a perfectly balanced way. I agree that Rajas is more to the latter end, but I do think that my biggest gripe (the importance of being able to get the set of market tiles) is exacerbated by needing certain values of certain dice at the right time. If the markets felt a little less required then Id be way more willing to accept that enough dice are rolled that whoever navigates the chaos, by whatever route, is more often than not the worthy winner. So in my view the dice arent the problem per se, but combined with the requirement for certain values at important times, they can cause frustration, exactly per the OPs reference to the player board engine. This is a light to medium euro though, and for many all of that isnt going to hamper their enjoyment. Like I said before, all this does have me thinking I should give it a run again. And try to suppress my need to not be cheesy. It could be my bloody minded refusal to do the obvious thing in the hope theres more divergent paths thats the issue. Maybe its just a narrower game than I wanted it to be and preparing for those tiles and exploiting them, along with all other players trying to do the same, will create the natural balance im looking for regardless of dice rolls.',\n",
       "  'If you think the game is all about the player board and only high dice rolls matter than you are not analyzing the game deep enough. You are just looking at what on the surface level of what you think is most important. The river bonuses and palace spots are very strong. The two tracks are different because they have different bonuses along the way. Money gives you a lot of bonuses throughout the game. Fame gives you additional ability to get fame early on and access to another worker. The way you play against the opponent is to look at their board and colorvalue of dice and use that to anticipate what they may be trying to do. Then either get there first or play around it.',\n",
       "  'Rajas is one of my favourite games. What I like about it is that you still have options if you get low dice values. The number Two palace spot is very strong as is the river. Also you have Karma to mitigate the dice you get. Dont forget tile overbuilding which can be very strong in certain circumstances as you only have to pay the difference. For the different market space you dont even need a dice. It shines at higher player counts.',\n",
       "  'rizzou No, you are right, and I certainly dont think its only about high rolls. Nor do I think the player board is the only consideration. I get the variety of options, and i know the river can combo very nicely with other stuff. I have sympathy for the OP, even if I dont agree entirely. From around a dozen plays, mostly 2p but not exclusively, in the vast majority of games the player that exploited the assorted market the most won. Thats my issue. So subjectively, but with some supporting data, tiles that provide a variety of market goods of 2 or 3 coins each are more important. And they require certain dice colours and values. And therefore there will be occasions where I have to spend a couple of turns working to get the dice pips I need to get the tiles I really want, and I dont get them. In a 2 player game that can be swingy if you miss and they hit. The OP had quickly identified situations where they wanted certain values and were frustrated not getting them. I agree that in many of those situations there were probably equally good options away from building tiles, but Id also bet some of those situations were where they wanted those juicy market tiles and our thoughts on the game align. grandpawizard had said theres rarely a runaway winner and again thats not my experience where one player is able to get ahead with those markets. Many times I was happy to call the game 23 of the way through because it was crystal clear who would win. But some of this is personal taste. A lot of people love this game. And I have enjoyed the puzzle at times even though I felt it was a touch flawed as a competition. Just the other day I was reading Carolines recent blog post (subscribe if you havent already people!) where Rajas got a good mention. I for example really enjoy Spacecorp, a game that takes 2.5 hrs and has objectively bad tile draws. Why am I ok with that and less inclined to let it slide here? Who knows? We are a funny bunch! CarolineBlack - perhaps player count is part of the problem. I only had a handful of games at higher counts and pretty much every one of those games had one or two new players. Maybe the game needs players to know about, and to fight for, the market goods tiles to spread them around and keep those who dont get them in touch. Much in the same way auction games often dont work if one or more of the players are inexperienced and throw out the balance.',\n",
       "  'Thanks for your post. Always good to read a less favourable but well presented opinion. I enjoy Rajas, but for me the strength of the markets and getting the right dice to grab a set is more of an issue than simply pip value. Markets can be really strong and theres this forced tension of feeling like you have to get market sets otherwise someone else will and theyll spin up an engine and pull away. Rather than have other directions to go in. It comes up in various threads and Im not sure Ive ever been completely satisfied by the arguments that the game is fine as is. So I find it hard to grab it off the shelf. The problem may be mine. I tend to play games in a way where I avoid strategies that look obviously strong. I dont know why, but I just dont want to be doing the obvious moves all the time because then I dont really have any agency. Its scripted. The last few games of ignoring an obvious market grab have left me way behind the pace, watching people accumulate money quickly whilst my engine stalls. The argument seems to be that Rajas isnt a game of diverse strategies. Its a game of balance. Sometimes you have to take those tiles because otherwise you are being suboptimal and leaving a great move for someone else. And I guess I should play with that mindset and enjoy the tension around the scramble for good tiles. But to bring this full circle, therein lies the luck part of the game for me. If a great tile comes up and I convert one dice to two of the colour I need and I get low values, its taken too long to nab the tile before someone else snaffles it. Sure theres karma and keeping a good dice pool, but as the OP alludes to, sometimes it feels like youve been situationally shafted when it really does matter that you roll high. All of this does make me want to play it again though lol',\n",
       "  'Well articulated. This is quite literally what happened to me. I just couldnt get a good market set!',\n",
       "  'My take away is that you should stay away from games with dice.',\n",
       "  'There are plenty of games that I love that use dice well. Most notable Castles of Burgundy, which may not be a perfect system but does offer much better ways to mitigate bad dice rolls.',\n",
       "  'rizzou No, you are right, and I certainly dont think its only about high rolls. Nor do I think the player board is the only consideration. I get the variety of options, and i know the river can combo very nicely with other stuff. I have sympathy for the OP, even if I dont agree entirely. From around a dozen plays, mostly 2p but not exclusively, in the vast majority of games the player that exploited the assorted market the most won. Thats my issue. So subjectively, but with some supporting data, tiles that provide a variety of market goods of 2 or 3 coins each are more important. And they require certain dice colours and values. And therefore there will be occasions where I have to spend a couple of turns working to get the dice pips I need to get the tiles I really want, and I dont get them. In a 2 player game that can be swingy if you miss and they hit. The OP had quickly identified situations where they wanted certain values and were frustrated not getting them. I agree that in many of those situations there were probably equally good options away from building tiles, but Id also bet some of those situations were where they wanted those juicy market tiles and our thoughts on the game align. grandpawizard had said theres rarely a runaway winner and again thats not my experience where one player is able to get ahead with those markets. Many times I was happy to call the game 23 of the way through because it was crystal clear who would win. But some of this is personal taste. A lot of people love this game. And I have enjoyed the puzzle at times even though I felt it was a touch flawed as a competition. Just the other day I was reading Carolines recent blog post (subscribe if you havent already people!) where Rajas got a good mention. I for example really enjoy Spacecorp, a game that takes 2.5 hrs and has objectively bad tile draws. Why am I ok with that and less inclined to let it slide here? Who knows? We are a funny bunch! CarolineBlack - perhaps player count is part of the problem. I only had a handful of games at higher counts and pretty much every one of those games had one or two new players. Maybe the game needs players to know about, and to fight for, the market goods tiles to spread them around and keep those who dont get them in touch. Much in the same way auction games often dont work if one or more of the players are inexperienced and throw out the balance.',\n",
       "  'As you said, the game depends on players knowing which tiles are good and fighting over them. In fact, in a 2p game you have less reason to say you find yourself locked out of a good tile because the available tiles only change by at most 1 between ur turns. It should be apparent when your opponent will get the good tile before you (and you should plan for another good tile). Regarding the 3 market location, you have 50 first pick. Unless your opponent picked the 1 dice location which I dont find a good use most of the time because you can convert it to a 6 and jump 6 River spaces. Compelling to get markets, yes, but not OP. Yes runaway games are possible because this game is maybe 70 skill.',\n",
       "  'The market being over-centralizing to me is a feature of the game, not a bug. Many euro gamers seem to have the expectation that each path of victory needs to be perfectly balanced. But there is nothing wrong with having certain paths be more desirable and thus skew the game towards them. Particularly in a worker placement game where you can strategize and fight over it, it just adds a different dimension to the game rather than just letting everyone spread out and avoid each other.',\n",
       "  'My current rating for this game is 710 (Good Usually Willing to Play). Rajas helped my partner and I to try heavier euros because even though it is not a very complex game, it looks a bit overwhelming. It kind of demystified euros in our household. Good game, I have not tried the expansions yet, but I would like to.',\n",
       "  'Mango Village is okay. If u want to play a more forgiving game, try it. Those tiles require two dice of same number so even your double 1s can be put to good use. And also, the tiles are 4-way. I personally prefer a tighter game with trade-off between good market tile (low dice total but 2 or 3 way) and 4-way bad tiles.'],\n",
       " ['2-4 players 60-90 minutes medium Tile laying, worker placement Theme and Mechanics In Rajas of the Ganges, players are rich noble type people from India (please forgive my complete ignorance of Indian culture for this review, I am not well informed about this particular theme) and theyre working to improve their estate and earn the most money and prestige, fame, points, something like that to win the game. The theme really does come through, especially with the tile layingbuilding up their estates. Its hard for me to comment too much on theme and mechanics relating, because Im not too familiar with this topic, but it does seem like the mechanics are somewhat abstracted. It also seems like the setting could be changed without effecting game play, which makes the theme feel somewhat disconnected at times. Players each have an estate board with their palace on it, and several empty spaces, as well as a place to store dice, and 3 workers. There are 2 tracks around the outside boarder of the board going in opposite directions (money and fame). The player who can make these to tracks cross eachother the farthest wins the game. On their turn, players send one of their workers to one of several actions spaces (your standard worker placement rules) These actions are broken down into different areas that have similar effects; purchasing tiles for the estate, moving up the river track for various bonuses, gaining dice, gaining income, or using a specialist. Many of these actions have a money andor dice cost. The dice are used like resources. When they are gained, they are rolled and stored. There are 4 different colored dice that can be used for different actions in different ways. The tile laying action uses dice as a cost; each tile has a value and a color cost, and player must pay that many pips in that color to gain the tile. Moving up the river cost dice, the higher the number, the more spaces you can move. There are 6 action spaces (numbered 1-6) that require a specific number in any color to use, the marketincome space allows you to gain income from x number of markets (where x is the value of the die spent) and so on. There are also several action spaces that allow you to trade a die of one color for 2 dice of another color. There are several ways to manipulate the dice, and there are some good things you can do with bad dice rolls. The main focus of the game is the tile laying. Tiles will have markets (3 types) and buildings (4 types) that will score money and fame respectively when the tile is laid. The markets will also provide income when the market action is taken. The buildings will score fame based on the players progress on that buildings track. The tiles also dipict roads in various configurations. All roads must lead back to the palace in order to be legally placed. The perimiter of the player boards also have bonuses that are gained when a player connects the bonus to the palace with roads. each of the 3 tracks (money, fame, and river) offer a myriad of bonuses for certain points along the track (or every space in the case of the river) from improving buildings, fame, money, dice, karma (which is spent to flip dice over), bonus tiles, and extra workers. Art and Components This game looks fantastic. The board is absolutely beautiful, the box looks fantastic. All the art on everything in the game is stellar; very near to the best art in my game collection in my opinion. I have heard some say that the board looks very busy, and that that is confusing. I can understand that complaint, but I dont agree. It is far less confusing once you learn the game, and it just looks SO good. The quality of the cardboard tiles and board are standard good quality cardboard. There are no cards. The dice are bigger, translucent, good quality plastic dice with the rounded corners. The wooden worker pieces are cool looking, unique meeples, but Ive heard that they are not consistently cut, and my copy is no exception. Several of them are leaning (feet not cut straight) and one is missing half its head, and a friends copy had similar problems, but these issues are fairly minor. Theres a little multi-armed statue (ganesh? pardon my ignorance, again) that serves no other purpose but to hold your dice for you, but its really cool, and keeps the confusion low as to what dice are in your supply, and which were spent, and it just looks cool. Replability and Expansions The game is very replayable as is, and it comes with some variants and tokens to increase the variability; from changing the bonuses on the river spaces, to limiting dice storage (making the game more strategic), to changing the estate bonuses, and I would suggest using the variants in the rulebook right from the beginning for experienced gamers, because they increase the strategic choices in the game. There is one mini expansion,',\n",
       "  ', which adds some unique tiles that came in a gaming advent calendar. I have no experience with this expansion, but as soon as I found out about it, I ordered it (which was literally as I was writing this review) The Up Side This is a very fun worker placementtile laying game. I think it combines those two mechanisms beautifully. It is very strategic, and all the pieces (mechanically) interlock very well. Its fairly easy to pivot strategies when necessary, and there is usually a way to figure out how to do what needs be done when your actions are taken by other players, but it usually takes some creative thinking. The game is absolutely gorgeous. The Down Side Im having trouble coming up with a down side. I guess I wish there were more tiles, or more variety on the tiles, like maybe an extra mechanism included in the tile laying portion. You wont go through all the tiles in a single game, but you also wont be surprised by cool new tiles showing up, because theyre all essentially the same (some roads, a building or two, or a market or two). Very minor complaint. Another complaint Ill mention, but do not agree with, is that the board is too busy looking. I wish it could play 5 players. Final Thoughts I absolutely love this game. This is one where Ill always be happy to play it, and Ill insta-buy any expansion sight unseen. Its the perfect weight and length, very little down time, lots of meaningful decisions and a unique scoring mechanism (which isnt really score at all) 9 out of 10 httpswww.coolstuffinc.commainsearch.php?pasearchOnName...']]"
      ]
     },
     "execution_count": 56,
     "metadata": {},
     "output_type": "execute_result"
    }
   ],
   "source": [
    "reviews_foro = [rev_1,rev_2,rev_3,rev_4]\n",
    "reviews_foro"
   ]
  },
  {
   "cell_type": "code",
   "execution_count": 62,
   "metadata": {},
   "outputs": [
    {
     "data": {
      "text/plain": [
       "\"hello and welcome to Maple Mentor reviews I'm Jared and with me is Holly today we're reviewing rajas of the Ganges this game is from Hutch and R&R games and it's for 2 to 4 play in about an hour to hour and a half recommends ages 12 and up and this is a worker placement game set in the you know the the India River Ganges setting and you are all trying to gain wealth and fame as a exerting your influence over the region now you have three you can get a fourth or did I start with three get fourth you start with three workers you can gain up to two more but there's three ways that you can gain workers there's this is a game with two tracks around 1:00 and then a Fame on the other side and so they run parallel to each other in opposite directions and allows you to basically have this kind of race to increase your phone so that your two tokens will meet for pass and that's the race the end and whoever surpass their tokens the farthest wins the game so you know if you want to just kind of add up how many spaces do you have it is a worker placement game but there are a lot of dice in this game which are essentially used for resources the four colors of dice can be used for certain to pay for certain places to go like it might say pay an orange to go here and then it'll give you two purple dice back something like that or there is a section of the board called I think the palace where they're numbered 1 to 6 and you would spend one of your dice collected of that matching number to place a worker there there's also the purchase area where you can go and pay money to go there and then you collect a tile from those face up and available in the market there's three stacks for each color so 12 stocks and you have to spend the the right color dice that match what's showing on the tile and the value of that guy on the tile you have to have at least that many Pips on the dice you spend you can spend more than one die as you might need to specially if it's like a value 9 0 I have one two or three to advance the boat that number spaces and where you land that's where you collect the benefit and one of the ways you can gain a new worker is by moving your boat for far enough on the river to get to the bridge and you get a worker that way you can also get a worker for advancing a number of spaces on the income or up to a certain point on the same but you can only ever get two more so Holly what are some things that you like about the game I like trying to make a pattern on your own player board making Pathways to get bonuses that will either help you through the game or in the end of the game I enjoy the function of being able to trade one color of ice for other colors that you may need it I don't know I really like dice certainly the colors in here are really bright and sparkly like they're translucent colored dice so you know if you like that and you like bright colors is this is great I mean it's always going to be bright colors and rolling like trying to put together different you know it's different symbols on a card but you got to get this or you got to get three different ones or whatever for x amount of points on my personal space over here so pretty much you're going to have a lot of options with all the values that you'll end up rolling but if there's a specific space that you're trying to get to or thing that you're trying to do and you've got the wrong numbers and things like to its opposite side so it turns one into a 6 for example or vice versa so that can be very useful to help both find you know the specific space on the palace you want to go to or if you're trying to get a high value to buy a tile or something like that the karma is a good feature and it's a bonus that you can gain with certain actions so you know you get it back yeah it's a lot of fun I like how it looks and you know plays pretty pretty pretty smoothly it just keeps going around and around until well there is the first player token so we do around but the first player token doesn't move unless someone take it as a lot of these games this is a unique kind of game and if you like tile placement it has that as well and collection of things it's you know it came out in 2017 and still plays great today so definitely check it out \""
      ]
     },
     "execution_count": 62,
     "metadata": {},
     "output_type": "execute_result"
    }
   ],
   "source": [
    "texto_video_review"
   ]
  },
  {
   "cell_type": "code",
   "execution_count": 63,
   "metadata": {},
   "outputs": [
    {
     "data": {
      "text/plain": [
       "{'OBJETIVO DEL JUEGO': 'Tu tarea es desarrollar tu provincia con la ayuda de tus trabajadores y el uso inteligente de tus dados acumulados. Al final, debes ganar la carrera con una combinación de riqueza y fama. El track de fama y dinero van paralelos entre sí, en direcciones opuestas alrededor del tablero. Los marcadores de fama se mueven en el sentido de las agujas del reloj, mientras que los marcadores de dinero en sentido contrario a las agujas del reloj. A medida que vas construyendo y expandiéndote, intenta aumentar tanto la fama como tu riqueza para que tu marcador de fama y dinero se crucen. El primer jugador que cruce o coincida su marcador de fama y su marcador de dinero aumentará sus probabilidades de ganar.4 marcadores de beneficio1 (doble cara) tablero (2 jugadores o 3 y 4 jugadores)4 Estatuas de Kali 4 tableros de provincia 24 trabajadores (6 por color) 4 marcadores de fama (1 por color)4 marcadores de dinero (1 por color)48 dados (12 por color) 1 elefante de jugador inicial (móntalo antes de la primera partida)20 cubos (5 por color 4x mejora y 1x ',\n",
       " 'SETUP': 'El jugador que haya sacado el valor más bajo en los dados se convierte en el jugador principal. En caso de empate, el último jugador que comió comida india. El jugador inicial colocará el elefante junto a su estatua de Kali y pondrá su marcador de riqueza en el espacio 3 en el track de riqueza. El jugador a su izquierda 4, el siguiente 5, y así sucesivamente. El jugador que vaya último comenzará con menos dinero. Coloca el tablero en el centro de la mesa con el lado correspondiente al número de jugadores (2 y 3 o 4). En una partida a 3 jugadores, cubre los e spacios marcadoscon l as losetas de coberturaPon los 48 dados junto al tablero de juego como reserva general. No es necesario Losetas de producción amarillas, rojas, y marrones (úsalas solo en la versión Navaratnas) y las 8 losetas de río.Ordena las losetas de provincia, primero por colores y luego por los símbolos a sus espaldas (serpiente, vaca, tigre), así obtendremos 12 montones. Mezcla los 12 montones por separado y colócalos boca arriba junto al tablero, visibles para todos. Mezcla las 8 losetas de producción blancas y ponlas en un montón boca abajo en el templo. Cada jugador coge un tablero de provincia y los componentes correspondientes 1 estatua Kali, 6 trabajadores, 1 barco, 5 cubos (karma y mejora ), 1 marcador de riqueza y 1 marcador de fama, además de 1 marcador de beneficio para el track de riqueza. Pon tu estatua de Kali y tu tablero de provincia con los lados representados hacia arriba delante de ti . Pon 3 de tus trabajadores junto a la estatua de KaliPon 3 trabajadores en los espacios disponibles en los tracks correspondientes Fama 15, Riqueza 20 y en el río (puente). Pon tu barco en el espacio inicial del río. Pon tu cubo de ',\n",
       " 'TRANSCURSO DEL JUEGO': 'El Juego se desarrolla en varias rondas, cada una de las cuales consta de varias etapas. En cada etapa, los jugadores, por turno - en sentido de las agujas del reloj, comenzando por el jugador inicial - podrá colocar un trabajador, pagar costes, si es necesario, e inmediatamente llevar a cabo la acción asociada. Este proceso continua hasta que nadie pueda colocar trabajadores. Después de eso cada jugador retirará sus trabajadores, y comenzará una nueva ronda. Los trabajadores podrán colocarse en la siguientes áreas del tablero de juego I.En la cantera, para llevar a cabo las acciones de construcción en tu tablero de provincia. II.En el mercado, para obtener riqueza a través de éstos, a lo largo de la partida. III.En el palacio del Gran Mogul, para obtener varios beneficios. IV.En el puerto, para avanzar en el río y así llegar a espacios de río que te otorgarán beneficios. En la cantera y en el puerto, los trabajadores se colocan siempre fila por fila de izquierda a derecha. En el mercado y en el palacio, se puede elegir cualquier espacio (desocupado) de acción. Mientras avanzas en el track de fama, riqueza y desarrollas tu provincia, tendrás la oportunidad de obtener valiosos beneficios. Colocando trabajadores y relación a las acciones asociadas. La colocación de trabajadores siempre procede de la siguiente manera 1.Coloca el trabajador. 2.Pagar costes, si es necesario con riqueza yo dados. 3. Lleva a cabo la acción. Costes Dependiendo en el espacio de acción que coloques el trabajar, puede que tengas que pagar unos costes para poder realizar esa acción. Algunos espacios son gratis, pero en otros, tendrás que pagar con dados odinero. El coste de la acción viene indicado en el espacio en sí.Pagar dinero para realizar una acción Cada vez que tengas que pagar dinero para realizar una acción (por ejemplo, en el puerto o cantera), mueve tu marcador de riquezas en el track de riquezas como es debido, -1 espacio por cada moneda que tengas que pagar. Si tu marcador está en 0, no tendrás dinero y temporalmente no podrás llevar a cabo acciones con coste de dinero. Lo mismo se aplica a las acciones con las que tengas que pagar dados - si no tienes ningún dado (adecuado) no podrás llevar a cabo la acción aplicable a esta. Los dados son el recurso más importante de este juego. Siempre que obtengas un dado del suministro general, tíralo inmediatamente y, con el resultado sacado hacia arriba lo colocaremos en una de las manos vacías de nuestra estatua de Kali (valores de 1 a 6). Atención! Puedes almacenar tantos dados como brazos libres tenga nuestra estatua de Kali - es decir, en el juego básico solo podrás poseer un máximo de 10 dados. Si estás en una situación que te otorgue más dados, puedes coger menos dados o poner dados de tu estatua de Kali de nuevo en el suministro general antes de coger los nuevos. Si un dado de color está temporalmente agotado en el suministro general, no podrás coger el dado de ese color en ese momento. coste gratis 1 moneda 1 dado del color mostrado En cada espacio de acción solo puede haber un trabajador. Los dados nunca se colocan en el tablero, siempre en el suministro (general o personal)! Cantera Mercado Puerto Palacio 3 ',\n",
       " 'ACCIÓN CONSTRUIR (CANTERA)': 'Coloca una loseta de provincia en tu provincia y obtén puntos de fama yo dinero. Para desarrollar tu provincia, necesitas enviar trabajadores a la cantera. dependiendo del lugar donde coloques el trabajador, pagarás de 1 a 4 monedas del track de riquezas. A cambio, obtendrás una de las 12 losetas de provincia (todas las losetas de provincia que estén visibles estarán disponibles para su compra). En la parte superior izquierda de las losetas de provincia se puede ver el valor mínimo de dados necesarios con los que deberás pagar dicha loseta de provincia. Pon los dados que has utilizado para pagar de nuevo en el suministro general. El valor total de los dados tendrá que ser como mínimo más alto que el mostrado en la loseta. Al construir se te permitirá pagar en exceso. Esto significa Para adquirir una loseta con valor azul 7, podrás pagar con un azul 3 y un azul 5, por ejemplo. Además de los costes, en las losetas también se representan caminos, edificios yo mercados. Una vez que se adquiera la loseta de provincia, inmediatamente tienes que colocarla en tu tablero de provincia. Ejemplo Rajesh, envía a uno de sus trabajadores a la cantera. Él paga 1 de dinero. Entonces él pone 2 dados naranjas en el suministro general. Él toma la loseta con el 9 naranja y lo conecta a un camino ya existente en su tablero de provincia. ',\n",
       " 'TABLERO DE PROVINCIA': 'Producciones especiales - Hay producciones ya impresas en el borde del tablero de provincia (simbólicamente son ganancias especiales debido a las relaciones comercias ya establecidas). Obtienes este beneficio inmediatamente cuando has conectado la loseta a tu residencia a través de un camino. (Ver abajo). Ejemplo Leila pone una loseta de provincia con una intersección. En ambos extremos la loseta se conecta con los dos beneficios adyacentes y se conectan a la residencia, a Leila se le permite coger cualquier dado de la reserva general y avanzar su marcador de dinero 5 posiciones. Por supuesto, también es posible colocar una loseta sin crear una conexión con el beneficio especial. En este caso , no obtendrías nada extra. Cuando agregues una loseta nueva a tu provincia, anót ate inmediatamente el dinero yo fama . Algunas loseta s muestran una o dos carpas de mercado con ciertos bienes (seda, té o especias) de cierto valor; otras losetas muestran uno o dos edificios (templo, palacio, fortaleza o molino); y algunas loseta s muestran una combinación de ambas. Cuando agregues una loseta con uno o dos mercados a tu provincia, inmediatamente recibe la cantidad de dinero indicado en esa loseta. Cuando agregues una loseta con uno o dos edificios, recibe inmediatamente 2, 3 o 4 puntos de fama por cada edificio, dependiendo d e dónde esté el cubo d e desarrollo de edificios correspondi ente a los pergaminos del tabler o central. ',\n",
       " 'Las mejoras de edificios': 'Los 4 tipos de edificios que puedes construir en tu provincia se muestran en el tablero. Al principio del juego, tus cubos se encontrarán en el primer nivel de cada edificio . es decir, ganarás 2 puntos de fama cuando agregues una loseta de provincia con 1 edificio (o, del mismo modo, 4 puntos de fama si aparecen dos edificios). Las mejoras te permiten mejorar tus habilidades constructivas y ganar 3 (o 4) puntos para un cierto tipo de edificio en las acciones de construcción posteriores. I. L L L X X X X X X X X 4Cada vez que añadas una nueva loseta de provincia, conecta el camino de la nueva loseta con uno de los caminos ya existentes, de modo que haya conexión con la residencia. Puedes girar la loseta nueva en cualquier dirección. También puedes orientar la loseta de tal manera que corte un camino de una loseta adyacente; no todos los extremos del camino deben conectarse - es suficente con que cada loseta esté conectada a la residencia a través de al menos un camino. Una vez colocadas las losetas no se podrán reubicar más adelante. Ten cuidado de no cortar todos los caminos, para que siempre tengas posibilidades para colocar losetas.El tablero de provincia muestra tu territorio, siendo tu el Raja (soberano) que se esfuerza por controlar y expandirse por el territorio. Tu residencia está arriba en el centro. De allí salen 3 caminos hacia tu territorio.Puedes adquirir mejoras de Raja en el palacio renunciando a un dado de valor 4 (ver p. 18, La Salas). Además, hay un espacio en el río que te permite realizar una mejora. Y puedes actualizar un edificio automáticamente después de haber cruzado el bonus aplicable en el espacio 5 en el track de fama o conectando la producción especial de tu provincia. Cuando se te permita hacer una mejora, elige uno de los cuatro tipo de edificio y mueve tu cubo de desarrollo un espacio a la derecha en la fila correspondiente. Atención! Las mejoras no cuentan para los edificios de las losetas que ya se encuentran en tu provincia, sólo para los edificios que se añadan después . Ejemplo Hay dos edificios en la loseta que Leila ha añadido . Ella avanza su marcador de fama 5 espacios, ganando 2 puntos para el templo y 3 puntos por el molino - que ella ya mejoró en un turno anterior. Ya que ha conectado una producción especial a la red de caminos y a la residencia mediante la colocación de de la loseta, puede - después de puntuar la loseta - coger otro dado de cualquier color y mejorar un edificio a tu elección. ',\n",
       " 'ACCIÓN DE MERCADO (MERCADO)': 'Recauda dinero para ciertos mercados de tu provincia Cada vez que envías a un trabaj ador a uno de los espacios de merc ado, generarás ingresos en los mercados establecidos de tu provincia. H ay merca dos con 3 t ipos de mercancías Tela Té Especias 2 tipos de espacios de mercado - Mercancías variadas - cuando coloques un trabajador aquí, puedes puntuar exactamente un mercado por tipo de recurso. Ejemplo Hay 4 mercados en juego en la provincia de Rajesh - tres de ellos con un té y otro con una seda. Si coloca a uno de sus trabajadores en este espacio de mercado, podrá puntuar 2 mercados el mercado de la seda más uno de los 3 mercados de té. Por esto recibe 5 de dinero. -Mercancías de un solo tipo - cuando coloques aquí a un trabajador tienes que pagar con cualquier dado. entonces podrás puntuar hasta un máximo de mercados iguales según el valor del dado con el que ha s pagado. Ejemplo Si Rajesh coloca a su trabajador en este espacio de mercado y paga con un dado de valor 4, puede puntuar los 3 mercados de té que tiene y obtiene 7 de dinero. Atención! En una partida de 3 o 4 jugadores, solo podrás colocar uno de tus trabajadores en el espacio para mercancías variadas, por ronda; es decir, si has colocado ya un trabajador en uno de los dos espacios de mercancías variadas el segundo ya no estará disponible para ti esta ronda. Solo podrá ser utilizado por otro jugador. Sin embargo, aún tienes la posibilidad de colocar otros trabajadores en el otro tipo de mercado. II. Símbolo de Mejora 5 ',\n",
       " 'ACCIÓN DE PALACIO': 'Renuncia a un dado, si es necesario, y obtén un beneficio. Cuando se coloque a un trabajador en el palacio del Gran Mogul, puede ser sin ningún coste o puede requerir renunciar a uno de tus dados - un dado de un color específico o un número exacto. El palacio tienes las siguientes áreas Terraza exterior (sin coste) Coge 2 de dinero. También puedes volver a tirar todos los dados que quieras de tu reserva. La Terraza (sin coste) Coge 1 dado de la reserva general del color correspondiente. Ejemplo Leila coge un dado naranja de la reserva, lo tira y lo pone en su estatua de Kali. Los balcones (coste 1 dado del color específicado.) Renuncia a 1 dado de un color específico y obtén 2 dados de un color diferente. Ejemplo Rajesh da un dado azul (de cualquier valor) y obtiene 2 dados naranjas; él los tira inmediatamente y los pone en su estatua de Kali.Las salas (coste 1 dado de cualquier color con un número exacto). Raja Man Singh - Renuncia a un dado de valor 4. A cambio, mejora un tipo de edifcio y ganas 3 de dinero. Maestro constructor - Renuncia a un dado de valor 5. Cubre cualquier loseta en tu provincia con otra del suministro. Todas las losetas seguirán necesitando una conexión con la residencia. No puedes utilizar el maestro constructor si no tienes ninguna loseta o dado con el que pagar. Importante La nueva loseta tiene que ser más cara que la que reemplazas; solo paga la diferencia dando 1 (o más) dados del color nuevo del azulejo. Puedes pagar en exceso. Ejemplo Leila renuncia a un dado verde de valor 5. Quiere reemplazar la loseta con el 4 de color naranja tapándola con otro loseta con el 6 violeta. Para ello, tiene que renunciar a un dado violeta con al menos valor 2. III. 6Gran Mogul Renuncia a un dado de valor 1. A cambio, obtendrás 2 puntos de fama y te convertiras en el jugador inicial en la siguiente ronda. Bailarina Renuncia a un dado de valor 2. A cambio, coge dos dados de la reserva y roba una loseta de producción blanca que se encuentre boca abajo. Gana inmediatamente el bono de la loseta (1 dado, 3 dinero, 1 mejora o 1 ',\n",
       " 'ACCIÓN DE RÍO (Puerto)': 'Renuncia a un dado que muestre un valor de 1,2 o 3 y avanza hasta 3 espacios vacíos en el río. La acción de río solo es posible renunciando a un dado de valor 1, 2 o 3. Cada vez que quieras colocar a un trabajador en el puerto, puedes avanzar tu barco hasta tres espacios vacíos en el río, dependiendo del valor en el dado que has renunciado El Puerto ofrece espacio para varios jugadores. El primer trabajador aquí colocado no cuesta nada; los siguientes costarán 1 o 2 monedas. Si renuncias a un dado con un valor de 1, avanzarás exactamente un espacio desocupado; si renuncias a un valor de 2, adelantarás uno o dos espacios desocupados; si renunicas a un valor de 3, podrás avanzar entre uno y tres espacios vacíos. Los espacios ocupados por barcos de otros jugadores no se incluyen a la hora de contar, pero se saltan. Así que nunca puede haber más de un barco en un mismo espacio en el río. Las únicas excepciones a esto son en el espacio inicial y el espacio final del río donde pueden descansar varios barcos. Obtén inmediatamente los beneficios de donde se detenga tu barco. Ejemplo Laila coloca un trabajador en el puerto. Para esto tiene que pagar 1 moneda. Renuncia a un dado de valor 2 y avanza su barco 2 espacios. No incluye el espacio que ocupa el barco amarillo del otro jugador en el conteo. Ella gana una mejora de un tipo de edificio. Ella mueve su cubo de mejora en el molino de 3 a 4. Explicación de los símbolos de río Coge 2 dados de cualquier color del suministro general, tíralos, y ponlos en tu estatua de Kali. Aumenta en 2 tu nivel de ',\n",
       " 'Karma': ', los jugadores equilibrarán su crecimiento en una exigente interacción de prestigio y properidad. El jugador con los resultados más exitosos será uno de los grandes líderes de la nación. De 2 a 4 jugadores. 12 años o CONTENIDO 64 losetas de provincia (16 por color) 30 losetas de producción (8 blancas, 9 amarillas, 6 rojas, 7 marrón)2 losetas de cobertura (para partidas 3 jug.) 8 losetas de río 4 barcos (1 por color) Track de fama Track monedas 1TRADUCIDO y MAQUETADO POR CRISTÓBAL TRUJILLO TRUJILLO (RESOLV) en el nivel 1 del sendero del Pon 1 cubo de desarrollo en la columna izquierda (valor 2) en cada uno de los pergaminos de desarrollo de edificio. Pon tu marcador de fama en el espacio 0 del track de fama.Pon tu marcador de beneficio para el track del dinero con el espacio del río hacia arriba en el primero espacio de beneficio en el track de riqueza (espacio 12).Cada jugador coge un dado de cada color, tira estos 4 dados y los coloca con el resultado sacado hacia arriba en cualquier brazo desocupado de tu estatua de Kali. 2 ). A continuación, la loseta de producción se dejará a un lado para formar una pila de descarte. Cuando te quedes sin losetas, baraja las usadas y forma un nuevo suministro Yogi - Renuncia a un dado de valor 3. A cambio, obtén 2 de y 1 dado a tu elección (ver página 20, explicaciones del karma). Cuando reemplaces una loseta, no recibes ninguna producción especial otra vez. Cada loseta solo la puedes reemplazar una vez. El Portugués - Renuncia a un dado de valor 6. A cambio, adelanta exactamente 6 espacios vacíos en el río y obtén los ingresos correspondientes. Atención! Cuando hayas avanzado hasta los 6 últimos espacios del río, ya no podrás usar al portugués. (ver pág. 20, explicaciones del ). Recibe la cantidad de dinero indicada; avanza en consecuencia en el track de riqueza.Escoge cualquiera de las acciones del palacio 2-6 (Bailarina, Yogi, Raja, Maestro constructor o Portugués) y realiza inmedi atamente, sin colocar un trabaj ador en el palacio y sin renu nciar a un dado ( el espacio puede estar ocupad o). Por cada nivel de que tengas en este momento, toma un dado del color representado (0 - 3 dados). Recibe el número de puntos de fama indicados; en consecuencia avanza el mismo valor en el track de fama. Mejora 1 nivel de edificio (por ejemplo, mover el cubo de templo de 2 a 3). Recibe 1 de dinero por cada mercado que haya en tu provincia ( si tienes 5 mercados, por ejemplo, avanza 5 espacios en tu marcador de riqueza). Lleva a cabo la puntuación de una acción de mercado de mercancías diversas. Recoge el dinero de hasta 3 mercados diferentes. (ver pág. 5). Lleva a cabo una puntuación de mercado para un tipo de bien que tengas en tu provincia, hasta el máximo indicado en el valor del espacio del río. Si tienes 4 mercados de seda, por ejemplo, puedes puntuar todos ellos y poder avanzar en el track de riqueza. No tienes que renunciar a ningún dado para esto. Recibe u n pu nto de fama por mejora de edificio realizada hasta ahora (av anza la fama en el track de fama). Recibe 2 moned as por cada mejora de edifi cio que hayas realiz ado hasta ahora (avanz a en el track de reiqueza). Recibe 2 puntos de fama por que tengas en este momento (avanza la fama en el track de fama). Cuando hayas llegado al final del río en el espacio final de río, no podrás utilizar más acciónes de río. IV. 2 3 1 7 Renuncia a 1 y da la vuelta a un dado al número opuesto. Puedes influir el resultado de una tirada de dado a través del . Utilizar te permite dar la vuelta a cualquier dado en tu estatu a de Kali hacia el lado opuesto cuando lo vayas a colocar; esto significa que un 1 puede convertirse en un 6 y vicerversa, Comienza el juego con el a nivel 1. Durante el transcurso de la partida, podrás mejorar tu - por ejemplo, enviando un trabajador a Yogi en el palacio, deteniendo tu barco en el espacio de río correspondiente. Además de esto, hay un espacio de bonificación en el track de fama (espacio 24) que incrementa tu 2 niveles, si tu marcador de fama se detiene justo en ese espacio o lo cruza. El nivel de más alto es 3; eso significa que solo puedes tener hasta un máximo de nivel 3 de . Para usar el , no tienes que utilizar ningún trabajador - puedes utilizar tu en cualquier momento durante tu turno cuando obtengas un dado. Por cada nivel de que gastes mueve hacia abajo un espacio el cubo de tu Marcador de . Es posible que durante la partida te quedes sin . (1 o 2)1 Mejora de edificio 1 movimiento de barco (a tu siguiente espacio desocupado). 1 punto de fama por cada loseta en tu provincia que tenga por lo menos 1 mercado. 2 puntos de fama por cada curva que tengas en tu red de caminos en tu provincia.1 moneda por cada construcción en tu provincia. 2 monedas por cada loseta de producción que hayas conectado.1 punto de fama por cada trabajador activo que poseas.1 punto de fama por cada 3 espacios de río que hayas avanzado hasta ahora (el espacio inicial no cuenta). 2 monedas por cada mejora de edificio realizada. 10Hay 2 maneras de obtener losetas de producción adicionales durante la partidaLosetas de río Coge tantos dados de cualquier color del suministro general igual a tu nivel de actual (por ejemplo, 3 dados del mismo color o de diferentes colores, si tu es de nivel 3). Coge 3 dados, 1 por cada color que indique la loseta Haz la acción de palacio dependiendo de la ilustración mostrada (ver pág. 18), Realiza una puntuación de mercado para un tipo de mercancía. Recauda el dinero de hasta 3 mercados de un tipo de tu provincia sin tener que pagar ningún dado extra (ver pág. 17) Avanza hasta 3 espacios vacíos en el río y obtén la bonificación de ese espacio donde te detienes.Si al menos otro jugador tiene 2 trabajadores activos más que tú, obtén otra loseta de producción y colócala como si fuera tu turno de colocar un trabajador, no podrás colocarla por segunda vez. Atención! Sólo puedes obtener losetas de producción del color correspondiente a los espacios disponibles en tu tablero de provincia. También puedes optar por no coger una loseta de producción. Para grupos de jugadores Mixtos (principiantes y experimentados). Para los jugadores avanzados que jueguen con un grupo que incluye jugadores principiantes, es posible jugador con estas desventajas. En este caso los jugadores experimentados utilizarán el modo Navaratnas en su tablero de provincia y la parte posterior de su estatua de Kali, mientras que los jugadores principiantes utilizarán el tablero de provincia básico y su estatua de Kali de una partida básica. Se puede llegar a tener 5 trabajadores. Las losetas de producción especial amarillas, rojas y marrones permanecerán en la caja. Jugad de acuerdo a las reglas básicas y usa solamente las losetas de producción blanca, pudiendo obtener estos beneficios con La Bailarina utilizándolos inmediatamente como en el juego básico. Modifica los espacios de río usando losetas de río. Para esta versión, añade las 8 losetas de río a la partida. Éstas modificarán las bonificaciones del río. Al principio de la partida, baraja las losetas de río boca abajo. Tira un dado, y cuenta los espacios, comenzando por el primer espacio vacío después del espacio inicial, roba la primera loseta aleatoriamente y colócala boca arriba en el espacio correspondiente del río. Por ejemplo, si sacas un 2, coloca la primera loseta de río en el segundo espacio y, al hacerlo, reemplaza la otra bonificación por ésta nueva. Tira de nuevo otro dado, y cuenta desde la última loseta de río colocado los nuevos espacios para colocar la siguiente loseta de río. Sigue colocando losetas de río hasta que se terminen o hasta que llegues al final del río. El espacio final del río nunca puede estar cubierto por una loseta de río. Devuelve las losetas restantes a la caja. ',\n",
       " 'Obtener nuevos trabajadores.': 'Avanza en el track de fama, en el track de riqueza o en el río para recibir más trabajadores. Al principio de la partida, cada jugador tendrá a su disposición 3 trabajadores activos. Durante el transcurso de la partida, podrás obtener hasta 2 trabajadores adicionales. Si has avanzado los suficiente en los diferentes tracks de puntuación (riqueza espacio 20, fama espacio 15) o en el río (puente), recibirás trabajadores adicionales. Importante Tan pronto como hayas recibido tu segundo trabajador inactivo (no importa si en uno de los tracks o el río), inmediatamente coge tu trabajador sobrante del tablero y eliminalo de la partida. Los tracks de fama y de riqueza, así como el río, cada uno tiene un espacio con un trabajador inactivo por color de jugador. Los espacios en los tracks de puntuación (fama y riqueza) son espacios normales; en el momento en el que tu marcador de fama o riqueza cruce o se detenga en el espacio del trabajador, obtén el trabajador de tu color. En el momento de coger a tu nuevo trabajador éste se volverá un trabajador activo. El trabajador inactivo en el río no tiene su propio espacio en el río (el puente no cuenta como espacio); eso significa, que cuando tu barco pase por el puente coge a tu trabajador.Una vez que un trabajador pasa a ser activo nunca lo podrás perder, incluso si tu marcador retrocede (lo cual solo puedo suceder en el track de dinero). Puedes colocar a un nuevo trabajador incluso en la misma ronda en el que lo has obtenido. ',\n",
       " 'Bonos en los tracks de puntuación.': 'Llega al espacio y recibe el bono. Además de los trabajadores inactivos los dos tracks de puntuación (fama y riqueza) también tienen espacios especiales; cuando los cruzas o los alcanzas, consigues inmediatamente los bonos correspondientes. El track de fama tiene 3 bonos Espacio 5 Recibe una mejora de un tipo de edificio a tu elección. (Esta mejora contará en tu próximo turno). Espacio 24 Incrementa tu karma 2 niveles. Espacio 31 Puedes mover tu barco al siguiente espacio desocupado y obtener su bono inmediatamente. El track de dinero tiene 4 bonos Ateción! Un bono solo se aplica donde está impreso en el track. Si, por ejemplo, tu marcador de dinero pasa por al lado de un espacio de bonificación impreso en el track de fama, no obtendremos el beneficio. 8Espacios 12 y 44 Puedes mover tu barco al siguiente espacio desocupado del río y obtén las ganacias correspondientes Espacios 33 y 55 Puedes coger 2 dados cualesquiera de la reserva general, tirarlos, y ponerlos en tu estatua de Kali. Puesto que al pagar dinero, tu marcador de riqueza irá hacia atrás en el track, h ay un marcador especial de tu color que indicará y pondremos en la siguiente recompensa a obtener. Una vez que crucemos la bonificación del marcador lo quitaremos y lo pondremos en la siguiente recompensa, indicándonos que si volvemos atrás al pagar ya no podremos obtener la recompensa de nuevo. Por ejemplo cuando alcancemos o crucemos el espacio 12 por primera vez y obtengamos el bono, cogeremos el marcador, lo giraremos y lo pondremos en el espacio 33, así sucesivamente. Indicando que si volvemos hacia atrás no volveremos a recoger la recompensa.',\n",
       " 'FIN DE RONDA': 'Después de haber colocado a todos tus trabajadores activos y llevado a cabo las acciones correspondientes, la ronda llegará a su fin. Si un jugador ha colocado a un trabajador en el Gran Mogul, ahora obtendrá el elefante y se convertirá en el jugador inicial de la siguiente ronda. Si nadie envió un trabajador al Gran Mogul, el elefante pasará al siguiente jugador, en sentido horario al jugador inicial anterior. Todos los jugadores sacan todos sus trabajadores del tablero y los ponen bajo su estatua de Kali. Después el jugador inical actual, comenzará la nueva ronda. ',\n",
       " 'FINAL DE PARTIDA': 'Tan pronto como un jugador logre que su marcador de fama y su marcador de riqueza se equiparen en valores o se crucen, pasándose el uno al otro, se dispara el final de la partida. La ronda actual se terminará. Es decir, todos los jugadores que estén entre el jugador que ha activado el final de la partida y el jugador inicial actual todavía tendrán la oportunidad de ganar y podrá colocar un trabajador más y llevar la acción aplicable. Para desarrollar con éxito tu provincia y ganar la carrera, necesitarás principalmente dinero, dados y trabajadores. Es importante asegurarte de no quedarte sin dados o dinero, y no tener menos trabajadores que el resto de jugadores durante demasiado tiempo. Resumiendo Obtén más trabajadores avanzando en los dos tracks de puntuaciones y en el río. Gana dinero con tus mercados, construidos en tu provincia y usa a tus trabajadores para activarlos. Además las bonificaciones en tu tablero de provincia, en el río y en el palacio de Raja son fuentes de dinero. También podrás obtener dados adicionales en otros espacios. El palacio también te otorga la oportunidad de intercambiar dados. Para cumplir con las condiciones de victoria, es necesario establecer una red de caminos bien pensada dentro de tu provincia y obtener tantas producciones especiales como te sea posible. Para ello, utilizarás la acción de construir en el tablero, por lo que tendrás que pagar dinero y dados. Los edificios de tu provincia te otorgarán puntos de fama y los mercados riqueza.Después de esto, los jugadores verificarán quién ha ganado la partida. Si hay dos o mas jugadores cuyos marcadores se pasaron el uno al otro en el turno final, cada uno de los jugadores involucrados cuentan la diferencia de puntos entre su marcador de riqueza y marcador de fama; el jugador con más puntos ganará el juego. En caso de empate, gana el primer jugador cuyos dos marcadores se superaron. Ejemplo El marcador de riqueza de Rajesh ha pasado su marcador de fama. Ahora su marcador de riqueza está en el espacio 65 del track de riqueza, su marcador de gama en el espacio 30 del track de fama. Ahora Laila tiene su último turno. Ella también logra que sus dos marcadores se pasen haciendo que su marcador de dinero termine en el espacio 52 del track de riqueza y su marcador de fama en el espacio 37 del track de fama. Ambos tienen una diferencia de 2 puntos de fama (no importa donde esté colocado tu marcador de riqueza). Ya que Rajesh fué el primero en cruzar sus marcadores, es el ganador de la partida.',\n",
       " 'NOTAS': '',\n",
       " 'VERSIÓN NAVARATNAS': 'Después de haber jugado a la versión básica para uno o más jugadores, puedes optar por la versión Navaratnas para jugadores avanzados (Las 9 Gemas ver página 24, Mogul Lexicon Raja Man Singh I). Aplica estas modificaciones Puedes activar los 3 trabajadores inactivos. Así que puedes jugar con hasta 6 trabajadores. Juega con la parte trasera de la estatua de kali, pudiendo almacenar solo 8 dados. Juega por la otra parte del tablero de provincia. Aquí también, las producciones especiales están impresas en el borde pudiéndolas conectar con tu red de caminos. Sin embargo estas producciones son menores, pero se pueden mejorar durante el transcurso de la partida. Al comienzo de la partida, mezcla las loseta de producción marrón. Cada jugador elige una al azar, la revela y la coloca en uno de los dos espacios disponibles en tu tablero de provincia. Decide que producción especial sustituir en tu tablero de provincia por tu nueva producción especial marrón. En el momento en que conectes las losetas de producción marrón te otorgarán una producción especial dependiendo del progreso actual que lleves en un campo específicoAhora coloca las losetas de producción restantes marrón así como el resto de losetas de producción, mirando hacia arriba, en los edificios del mismo color en el tablero de juego. Durante el juego podrás adquirir estas losetas de producción para colocarlas en tu provincia. Las losetas de producción blancas, rojas y amarillas proporcionan producciones especiales Atención! Puntúa siempre las losetas de provincia antes de coger la producción especial. No puedes mover ni cubrir las losetas de producción ya colocados en el tablero. a)Cuando estés colocado en La Bailarina. Cada vez que coloques un trabajador en La Bailarina y renuncies a un dado de valor 2 de cualquier color, puedes coger 2 dados de tu elección del suministro general y escoger una loseta de producción especial cualquiera. De inmediato coloca esta loseta boca arriba en un espacio (todavía) desocupado del color correspondiente en tu tablero de provincia. A diferencia del juego básico, aquí no obtendras el bono de la producción inmediatamente solo cuando conectes tu red de caminos en tu tablero de provincia. b)Cuando seas el que menos trabajadores activos tiene. Si, por ejemplo, tienes un total de 4 trabajadores activos, pero al menos uno de los otros jugadores tiene 5 trabajadores a su disposición, obtienes 1 loseta de producción cuando sea tu turno en esta ronda y no puedas colocar un trabajador porque no tienes. Decide inmediatamente en qué espacio desocupado de tu tablero de provincia quieres colocar tu nueva loseta de producción (boca arriba y coincidiendo en color). VERS IÓN NA VARATNAS Dados (1 o 2 dados de los colores a tu elección).Monedas ',\n",
       " 'EL MÓDULO GANGA': '11Imperio Mogul (1526-1858) El imperio Mogul fué un gran imperio que se desarrolló en las llanuras Indus-Ganges en el norte de la India. En el pico de su ponder (s. XVII), abarcaba casi toda la India (como la conocemos hoy) y algunas partes de Afganistán. En 1858, la parte restante del imperio estaba ocupada por los británicos y dejó de existir. Una herencia rica en arquitectura, en pintura, y en poesía han sido preservadas hasta el día de hoy. El Imperio fue nombrado por sus gobernantes, El Gran Mogul. Gran Mogul También llamado Mogul o Emperador Mogul. El nombre llegó a Europa a través de los portugueses, que eran el poder dominante en el territorio del Oceano Índico en ese momento. La palabra Mogul deriva del mahul persa, que significa mongol, refiriéndose al hecho de que algún antecesor se hubiera casado con alguien del clan Genghis Khan. El gobernante Mongol más prominente de la historia fue Akbar el Grande (reinado 1556-1605); llevó el imperio a la prosperidad en términos militares, políticos y económicos. Bajo Shah Jahan (reinado 1627-1658), el imperio Mogul alcanzó su pico cultural. En ese momento, se construyeron el Taj Mahal, el Fuerte Rojo (Delhi) y los Jardines Shalimar en Lahore, todos inscritos como Patrimonio de la Humanidad por la UNESCO (en 1982, 2007 y 1981). Este juego juego esta basado en la era de Akbar a Shah Jahan. Estos son algunos elementos significativos para la época de los Grandes Mogoles o para la India de hoy en día que exhibe el juego Kali - Una diosa hindú que representa la destrucción y la renovación. Su poder destructivo, sin embargo, apunta principalmente a los demonios y a la justicia del mundo. La creencia popular sobre Kali es que ésta puede conceder deseos.Pavo real Azul - Desde 1963, pavoreal azul ha sido oficialmente clasificado entre los animales nacionales Indios (además del tigre de Bengala y el delfín del río Ganges). Originalmente, provenía del subcontinente indio donde se le consideraba un animal sagrado que estaba en peligro por los tigres el mal clima y mortales serpientes venenosas entre otras cosas. Mientras que en el mundo occidental se asocia el pavo real no sólo con la belleza, sino también con la arrogancia y la vanidad, los indios lo consideran principalmente un símbolo de realeza e inmortalidad. Por lo tanto, las estatuas de pavos reales fueron diseñadas también en el trono del Emperador Mogul. El trono del Pavo Real - Era un trono adornado con una abundancia de perlas, de oro, y de gemas (más de 26.000) que fueron manufacturadas por orden de Shah Jahan e inaugurado en 1635. La producción del trono tardó siete años y se dice que ha sido dos veces más caro que la construcción del Taj Mahal; esto fue considerado un acto muy extravagante incluso para un emperador Mogul. Desde que el Fuerte Rojo (Dehli) fue saqueado en el siglo XVII, el Trono del Pavo Real se ha dado por perdido. Pilar de Ashoka - El actual escudo de armas de la India muestra, la adaptada capital, un Pilar de Ashoka, los famosos Cuatro Leones de Sarnath. Construido alrededor de 250 AC bajo Ashoka, el gobernante indio en ese momento, tenía numerosos pilares monumentales establecidos por todo su reino en muchos lugares estratégicos, como ciudades fronterizas y rutas comerciales. Sus capitales eran usadas para proclamar sus leyes. Algunos de estos pilares, por entonces numerosos y extendidos, se han conservado hasta el día de hoy. Son testigos silenciosos del antiguo gran Imperio de la India, cuya herencia cultural ha resistido la prueba del tiempo. Raja man Singh I - Era un importante comandante de las fuerzas armadas imperiales. Como gobernador de varias provincias, tenía áreas forestales cultivadas para el progreso agrícola, encargó la construcción de varios palacios, fortalezas y templos e incluso fue fundador de alguna ciudad. Además, Man Singh ganó una gran reputación por ser miembro de las Navaratnas, las Nueve Gemas de Akbar, un pequeño grupo de personalidades extraordinarias en la corte del emperador Mogul. ',\n",
       " 'MOGUL LEXIGON': ' ',\n",
       " 'CRÉDITOS': '2017 HUCH! Authors Inka Markus Brand Illustration Dennis Lohausen3D Andreas ReschDesign HUCH!, atelier198Product Manager Britta StckmannEditing Frank DiLorenzoEnglish translation Sybille Bruce Whitehill, Word for WortDistributor USARR Games, Inc.PO Box 130195Tampa, FL 33681 USA Warning! Choking hazard. Not suitable for children under age of 3 due to small parts. Manufacturer distributor Hutter Trade GmbH Co KGBgm.-Landmann-Platz 1-5 89312 Günzburg, GERMANYwww.hutter-trade.com 12TRADUCIDO y MAQUETADO POR CRISTÓBAL TRUJILLO TRUJILLO (RESOLV) '}"
      ]
     },
     "execution_count": 63,
     "metadata": {},
     "output_type": "execute_result"
    }
   ],
   "source": [
    "sections"
   ]
  },
  {
   "cell_type": "markdown",
   "metadata": {},
   "source": [
    "## Carga de información guardada"
   ]
  },
  {
   "cell_type": "code",
   "execution_count": 57,
   "metadata": {},
   "outputs": [
    {
     "name": "stdout",
     "output_type": "stream",
     "text": [
      "{'sections': {'OBJETIVO DEL JUEGO': 'Tu tarea es desarrollar tu provincia con la ayuda de tus trabajadores y el uso inteligente de tus dados acumulados. Al final, debes ganar la carrera con una combinación de riqueza y fama. El track de fama y dinero van paralelos entre sí, en direcciones opuestas alrededor del tablero. Los marcadores de fama se mueven en el sentido de las agujas del reloj, mientras que los marcadores de dinero en sentido contrario a las agujas del reloj. A medida que vas construyendo y expandiéndote, intenta aumentar tanto la fama como tu riqueza para que tu marcador de fama y dinero se crucen. El primer jugador que cruce o coincida su marcador de fama y su marcador de dinero aumentará sus probabilidades de ganar.4 marcadores de beneficio1 (doble cara) tablero (2 jugadores o 3 y 4 jugadores)4 Estatuas de Kali 4 tableros de provincia 24 trabajadores (6 por color) 4 marcadores de fama (1 por color)4 marcadores de dinero (1 por color)48 dados (12 por color) 1 elefante de jugador inicial (móntalo antes de la primera partida)20 cubos (5 por color 4x mejora y 1x ', 'SETUP': 'El jugador que haya sacado el valor más bajo en los dados se convierte en el jugador principal. En caso de empate, el último jugador que comió comida india. El jugador inicial colocará el elefante junto a su estatua de Kali y pondrá su marcador de riqueza en el espacio 3 en el track de riqueza. El jugador a su izquierda 4, el siguiente 5, y así sucesivamente. El jugador que vaya último comenzará con menos dinero. Coloca el tablero en el centro de la mesa con el lado correspondiente al número de jugadores (2 y 3 o 4). En una partida a 3 jugadores, cubre los e spacios marcadoscon l as losetas de coberturaPon los 48 dados junto al tablero de juego como reserva general. No es necesario Losetas de producción amarillas, rojas, y marrones (úsalas solo en la versión Navaratnas) y las 8 losetas de río.Ordena las losetas de provincia, primero por colores y luego por los símbolos a sus espaldas (serpiente, vaca, tigre), así obtendremos 12 montones. Mezcla los 12 montones por separado y colócalos boca arriba junto al tablero, visibles para todos. Mezcla las 8 losetas de producción blancas y ponlas en un montón boca abajo en el templo. Cada jugador coge un tablero de provincia y los componentes correspondientes 1 estatua Kali, 6 trabajadores, 1 barco, 5 cubos (karma y mejora ), 1 marcador de riqueza y 1 marcador de fama, además de 1 marcador de beneficio para el track de riqueza. Pon tu estatua de Kali y tu tablero de provincia con los lados representados hacia arriba delante de ti . Pon 3 de tus trabajadores junto a la estatua de KaliPon 3 trabajadores en los espacios disponibles en los tracks correspondientes Fama 15, Riqueza 20 y en el río (puente). Pon tu barco en el espacio inicial del río. Pon tu cubo de ', 'TRANSCURSO DEL JUEGO': 'El Juego se desarrolla en varias rondas, cada una de las cuales consta de varias etapas. En cada etapa, los jugadores, por turno - en sentido de las agujas del reloj, comenzando por el jugador inicial - podrá colocar un trabajador, pagar costes, si es necesario, e inmediatamente llevar a cabo la acción asociada. Este proceso continua hasta que nadie pueda colocar trabajadores. Después de eso cada jugador retirará sus trabajadores, y comenzará una nueva ronda. Los trabajadores podrán colocarse en la siguientes áreas del tablero de juego I.En la cantera, para llevar a cabo las acciones de construcción en tu tablero de provincia. II.En el mercado, para obtener riqueza a través de éstos, a lo largo de la partida. III.En el palacio del Gran Mogul, para obtener varios beneficios. IV.En el puerto, para avanzar en el río y así llegar a espacios de río que te otorgarán beneficios. En la cantera y en el puerto, los trabajadores se colocan siempre fila por fila de izquierda a derecha. En el mercado y en el palacio, se puede elegir cualquier espacio (desocupado) de acción. Mientras avanzas en el track de fama, riqueza y desarrollas tu provincia, tendrás la oportunidad de obtener valiosos beneficios. Colocando trabajadores y relación a las acciones asociadas. La colocación de trabajadores siempre procede de la siguiente manera 1.Coloca el trabajador. 2.Pagar costes, si es necesario con riqueza yo dados. 3. Lleva a cabo la acción. Costes Dependiendo en el espacio de acción que coloques el trabajar, puede que tengas que pagar unos costes para poder realizar esa acción. Algunos espacios son gratis, pero en otros, tendrás que pagar con dados odinero. El coste de la acción viene indicado en el espacio en sí.Pagar dinero para realizar una acción Cada vez que tengas que pagar dinero para realizar una acción (por ejemplo, en el puerto o cantera), mueve tu marcador de riquezas en el track de riquezas como es debido, -1 espacio por cada moneda que tengas que pagar. Si tu marcador está en 0, no tendrás dinero y temporalmente no podrás llevar a cabo acciones con coste de dinero. Lo mismo se aplica a las acciones con las que tengas que pagar dados - si no tienes ningún dado (adecuado) no podrás llevar a cabo la acción aplicable a esta. Los dados son el recurso más importante de este juego. Siempre que obtengas un dado del suministro general, tíralo inmediatamente y, con el resultado sacado hacia arriba lo colocaremos en una de las manos vacías de nuestra estatua de Kali (valores de 1 a 6). Atención! Puedes almacenar tantos dados como brazos libres tenga nuestra estatua de Kali - es decir, en el juego básico solo podrás poseer un máximo de 10 dados. Si estás en una situación que te otorgue más dados, puedes coger menos dados o poner dados de tu estatua de Kali de nuevo en el suministro general antes de coger los nuevos. Si un dado de color está temporalmente agotado en el suministro general, no podrás coger el dado de ese color en ese momento. coste gratis 1 moneda 1 dado del color mostrado En cada espacio de acción solo puede haber un trabajador. Los dados nunca se colocan en el tablero, siempre en el suministro (general o personal)! Cantera Mercado Puerto Palacio 3 ', 'ACCIÓN CONSTRUIR (CANTERA)': 'Coloca una loseta de provincia en tu provincia y obtén puntos de fama yo dinero. Para desarrollar tu provincia, necesitas enviar trabajadores a la cantera. dependiendo del lugar donde coloques el trabajador, pagarás de 1 a 4 monedas del track de riquezas. A cambio, obtendrás una de las 12 losetas de provincia (todas las losetas de provincia que estén visibles estarán disponibles para su compra). En la parte superior izquierda de las losetas de provincia se puede ver el valor mínimo de dados necesarios con los que deberás pagar dicha loseta de provincia. Pon los dados que has utilizado para pagar de nuevo en el suministro general. El valor total de los dados tendrá que ser como mínimo más alto que el mostrado en la loseta. Al construir se te permitirá pagar en exceso. Esto significa Para adquirir una loseta con valor azul 7, podrás pagar con un azul 3 y un azul 5, por ejemplo. Además de los costes, en las losetas también se representan caminos, edificios yo mercados. Una vez que se adquiera la loseta de provincia, inmediatamente tienes que colocarla en tu tablero de provincia. Ejemplo Rajesh, envía a uno de sus trabajadores a la cantera. Él paga 1 de dinero. Entonces él pone 2 dados naranjas en el suministro general. Él toma la loseta con el 9 naranja y lo conecta a un camino ya existente en su tablero de provincia. ', 'TABLERO DE PROVINCIA': 'Producciones especiales - Hay producciones ya impresas en el borde del tablero de provincia (simbólicamente son ganancias especiales debido a las relaciones comercias ya establecidas). Obtienes este beneficio inmediatamente cuando has conectado la loseta a tu residencia a través de un camino. (Ver abajo). Ejemplo Leila pone una loseta de provincia con una intersección. En ambos extremos la loseta se conecta con los dos beneficios adyacentes y se conectan a la residencia, a Leila se le permite coger cualquier dado de la reserva general y avanzar su marcador de dinero 5 posiciones. Por supuesto, también es posible colocar una loseta sin crear una conexión con el beneficio especial. En este caso , no obtendrías nada extra. Cuando agregues una loseta nueva a tu provincia, anót ate inmediatamente el dinero yo fama . Algunas loseta s muestran una o dos carpas de mercado con ciertos bienes (seda, té o especias) de cierto valor; otras losetas muestran uno o dos edificios (templo, palacio, fortaleza o molino); y algunas loseta s muestran una combinación de ambas. Cuando agregues una loseta con uno o dos mercados a tu provincia, inmediatamente recibe la cantidad de dinero indicado en esa loseta. Cuando agregues una loseta con uno o dos edificios, recibe inmediatamente 2, 3 o 4 puntos de fama por cada edificio, dependiendo d e dónde esté el cubo d e desarrollo de edificios correspondi ente a los pergaminos del tabler o central. ', 'Las mejoras de edificios': 'Los 4 tipos de edificios que puedes construir en tu provincia se muestran en el tablero. Al principio del juego, tus cubos se encontrarán en el primer nivel de cada edificio . es decir, ganarás 2 puntos de fama cuando agregues una loseta de provincia con 1 edificio (o, del mismo modo, 4 puntos de fama si aparecen dos edificios). Las mejoras te permiten mejorar tus habilidades constructivas y ganar 3 (o 4) puntos para un cierto tipo de edificio en las acciones de construcción posteriores. I. L L L X X X X X X X X 4Cada vez que añadas una nueva loseta de provincia, conecta el camino de la nueva loseta con uno de los caminos ya existentes, de modo que haya conexión con la residencia. Puedes girar la loseta nueva en cualquier dirección. También puedes orientar la loseta de tal manera que corte un camino de una loseta adyacente; no todos los extremos del camino deben conectarse - es suficente con que cada loseta esté conectada a la residencia a través de al menos un camino. Una vez colocadas las losetas no se podrán reubicar más adelante. Ten cuidado de no cortar todos los caminos, para que siempre tengas posibilidades para colocar losetas.El tablero de provincia muestra tu territorio, siendo tu el Raja (soberano) que se esfuerza por controlar y expandirse por el territorio. Tu residencia está arriba en el centro. De allí salen 3 caminos hacia tu territorio.Puedes adquirir mejoras de Raja en el palacio renunciando a un dado de valor 4 (ver p. 18, La Salas). Además, hay un espacio en el río que te permite realizar una mejora. Y puedes actualizar un edificio automáticamente después de haber cruzado el bonus aplicable en el espacio 5 en el track de fama o conectando la producción especial de tu provincia. Cuando se te permita hacer una mejora, elige uno de los cuatro tipo de edificio y mueve tu cubo de desarrollo un espacio a la derecha en la fila correspondiente. Atención! Las mejoras no cuentan para los edificios de las losetas que ya se encuentran en tu provincia, sólo para los edificios que se añadan después . Ejemplo Hay dos edificios en la loseta que Leila ha añadido . Ella avanza su marcador de fama 5 espacios, ganando 2 puntos para el templo y 3 puntos por el molino - que ella ya mejoró en un turno anterior. Ya que ha conectado una producción especial a la red de caminos y a la residencia mediante la colocación de de la loseta, puede - después de puntuar la loseta - coger otro dado de cualquier color y mejorar un edificio a tu elección. ', 'ACCIÓN DE MERCADO (MERCADO)': 'Recauda dinero para ciertos mercados de tu provincia Cada vez que envías a un trabaj ador a uno de los espacios de merc ado, generarás ingresos en los mercados establecidos de tu provincia. H ay merca dos con 3 t ipos de mercancías Tela Té Especias 2 tipos de espacios de mercado - Mercancías variadas - cuando coloques un trabajador aquí, puedes puntuar exactamente un mercado por tipo de recurso. Ejemplo Hay 4 mercados en juego en la provincia de Rajesh - tres de ellos con un té y otro con una seda. Si coloca a uno de sus trabajadores en este espacio de mercado, podrá puntuar 2 mercados el mercado de la seda más uno de los 3 mercados de té. Por esto recibe 5 de dinero. -Mercancías de un solo tipo - cuando coloques aquí a un trabajador tienes que pagar con cualquier dado. entonces podrás puntuar hasta un máximo de mercados iguales según el valor del dado con el que ha s pagado. Ejemplo Si Rajesh coloca a su trabajador en este espacio de mercado y paga con un dado de valor 4, puede puntuar los 3 mercados de té que tiene y obtiene 7 de dinero. Atención! En una partida de 3 o 4 jugadores, solo podrás colocar uno de tus trabajadores en el espacio para mercancías variadas, por ronda; es decir, si has colocado ya un trabajador en uno de los dos espacios de mercancías variadas el segundo ya no estará disponible para ti esta ronda. Solo podrá ser utilizado por otro jugador. Sin embargo, aún tienes la posibilidad de colocar otros trabajadores en el otro tipo de mercado. II. Símbolo de Mejora 5 ', 'ACCIÓN DE PALACIO': 'Renuncia a un dado, si es necesario, y obtén un beneficio. Cuando se coloque a un trabajador en el palacio del Gran Mogul, puede ser sin ningún coste o puede requerir renunciar a uno de tus dados - un dado de un color específico o un número exacto. El palacio tienes las siguientes áreas Terraza exterior (sin coste) Coge 2 de dinero. También puedes volver a tirar todos los dados que quieras de tu reserva. La Terraza (sin coste) Coge 1 dado de la reserva general del color correspondiente. Ejemplo Leila coge un dado naranja de la reserva, lo tira y lo pone en su estatua de Kali. Los balcones (coste 1 dado del color específicado.) Renuncia a 1 dado de un color específico y obtén 2 dados de un color diferente. Ejemplo Rajesh da un dado azul (de cualquier valor) y obtiene 2 dados naranjas; él los tira inmediatamente y los pone en su estatua de Kali.Las salas (coste 1 dado de cualquier color con un número exacto). Raja Man Singh - Renuncia a un dado de valor 4. A cambio, mejora un tipo de edifcio y ganas 3 de dinero. Maestro constructor - Renuncia a un dado de valor 5. Cubre cualquier loseta en tu provincia con otra del suministro. Todas las losetas seguirán necesitando una conexión con la residencia. No puedes utilizar el maestro constructor si no tienes ninguna loseta o dado con el que pagar. Importante La nueva loseta tiene que ser más cara que la que reemplazas; solo paga la diferencia dando 1 (o más) dados del color nuevo del azulejo. Puedes pagar en exceso. Ejemplo Leila renuncia a un dado verde de valor 5. Quiere reemplazar la loseta con el 4 de color naranja tapándola con otro loseta con el 6 violeta. Para ello, tiene que renunciar a un dado violeta con al menos valor 2. III. 6Gran Mogul Renuncia a un dado de valor 1. A cambio, obtendrás 2 puntos de fama y te convertiras en el jugador inicial en la siguiente ronda. Bailarina Renuncia a un dado de valor 2. A cambio, coge dos dados de la reserva y roba una loseta de producción blanca que se encuentre boca abajo. Gana inmediatamente el bono de la loseta (1 dado, 3 dinero, 1 mejora o 1 ', 'ACCIÓN DE RÍO (Puerto)': 'Renuncia a un dado que muestre un valor de 1,2 o 3 y avanza hasta 3 espacios vacíos en el río. La acción de río solo es posible renunciando a un dado de valor 1, 2 o 3. Cada vez que quieras colocar a un trabajador en el puerto, puedes avanzar tu barco hasta tres espacios vacíos en el río, dependiendo del valor en el dado que has renunciado El Puerto ofrece espacio para varios jugadores. El primer trabajador aquí colocado no cuesta nada; los siguientes costarán 1 o 2 monedas. Si renuncias a un dado con un valor de 1, avanzarás exactamente un espacio desocupado; si renuncias a un valor de 2, adelantarás uno o dos espacios desocupados; si renunicas a un valor de 3, podrás avanzar entre uno y tres espacios vacíos. Los espacios ocupados por barcos de otros jugadores no se incluyen a la hora de contar, pero se saltan. Así que nunca puede haber más de un barco en un mismo espacio en el río. Las únicas excepciones a esto son en el espacio inicial y el espacio final del río donde pueden descansar varios barcos. Obtén inmediatamente los beneficios de donde se detenga tu barco. Ejemplo Laila coloca un trabajador en el puerto. Para esto tiene que pagar 1 moneda. Renuncia a un dado de valor 2 y avanza su barco 2 espacios. No incluye el espacio que ocupa el barco amarillo del otro jugador en el conteo. Ella gana una mejora de un tipo de edificio. Ella mueve su cubo de mejora en el molino de 3 a 4. Explicación de los símbolos de río Coge 2 dados de cualquier color del suministro general, tíralos, y ponlos en tu estatua de Kali. Aumenta en 2 tu nivel de ', 'Karma': ', los jugadores equilibrarán su crecimiento en una exigente interacción de prestigio y properidad. El jugador con los resultados más exitosos será uno de los grandes líderes de la nación. De 2 a 4 jugadores. 12 años o CONTENIDO 64 losetas de provincia (16 por color) 30 losetas de producción (8 blancas, 9 amarillas, 6 rojas, 7 marrón)2 losetas de cobertura (para partidas 3 jug.) 8 losetas de río 4 barcos (1 por color) Track de fama Track monedas 1TRADUCIDO y MAQUETADO POR CRISTÓBAL TRUJILLO TRUJILLO (RESOLV) en el nivel 1 del sendero del Pon 1 cubo de desarrollo en la columna izquierda (valor 2) en cada uno de los pergaminos de desarrollo de edificio. Pon tu marcador de fama en el espacio 0 del track de fama.Pon tu marcador de beneficio para el track del dinero con el espacio del río hacia arriba en el primero espacio de beneficio en el track de riqueza (espacio 12).Cada jugador coge un dado de cada color, tira estos 4 dados y los coloca con el resultado sacado hacia arriba en cualquier brazo desocupado de tu estatua de Kali. 2 ). A continuación, la loseta de producción se dejará a un lado para formar una pila de descarte. Cuando te quedes sin losetas, baraja las usadas y forma un nuevo suministro Yogi - Renuncia a un dado de valor 3. A cambio, obtén 2 de y 1 dado a tu elección (ver página 20, explicaciones del karma). Cuando reemplaces una loseta, no recibes ninguna producción especial otra vez. Cada loseta solo la puedes reemplazar una vez. El Portugués - Renuncia a un dado de valor 6. A cambio, adelanta exactamente 6 espacios vacíos en el río y obtén los ingresos correspondientes. Atención! Cuando hayas avanzado hasta los 6 últimos espacios del río, ya no podrás usar al portugués. (ver pág. 20, explicaciones del ). Recibe la cantidad de dinero indicada; avanza en consecuencia en el track de riqueza.Escoge cualquiera de las acciones del palacio 2-6 (Bailarina, Yogi, Raja, Maestro constructor o Portugués) y realiza inmedi atamente, sin colocar un trabaj ador en el palacio y sin renu nciar a un dado ( el espacio puede estar ocupad o). Por cada nivel de que tengas en este momento, toma un dado del color representado (0 - 3 dados). Recibe el número de puntos de fama indicados; en consecuencia avanza el mismo valor en el track de fama. Mejora 1 nivel de edificio (por ejemplo, mover el cubo de templo de 2 a 3). Recibe 1 de dinero por cada mercado que haya en tu provincia ( si tienes 5 mercados, por ejemplo, avanza 5 espacios en tu marcador de riqueza). Lleva a cabo la puntuación de una acción de mercado de mercancías diversas. Recoge el dinero de hasta 3 mercados diferentes. (ver pág. 5). Lleva a cabo una puntuación de mercado para un tipo de bien que tengas en tu provincia, hasta el máximo indicado en el valor del espacio del río. Si tienes 4 mercados de seda, por ejemplo, puedes puntuar todos ellos y poder avanzar en el track de riqueza. No tienes que renunciar a ningún dado para esto. Recibe u n pu nto de fama por mejora de edificio realizada hasta ahora (av anza la fama en el track de fama). Recibe 2 moned as por cada mejora de edifi cio que hayas realiz ado hasta ahora (avanz a en el track de reiqueza). Recibe 2 puntos de fama por que tengas en este momento (avanza la fama en el track de fama). Cuando hayas llegado al final del río en el espacio final de río, no podrás utilizar más acciónes de río. IV. 2 3 1 7 Renuncia a 1 y da la vuelta a un dado al número opuesto. Puedes influir el resultado de una tirada de dado a través del . Utilizar te permite dar la vuelta a cualquier dado en tu estatu a de Kali hacia el lado opuesto cuando lo vayas a colocar; esto significa que un 1 puede convertirse en un 6 y vicerversa, Comienza el juego con el a nivel 1. Durante el transcurso de la partida, podrás mejorar tu - por ejemplo, enviando un trabajador a Yogi en el palacio, deteniendo tu barco en el espacio de río correspondiente. Además de esto, hay un espacio de bonificación en el track de fama (espacio 24) que incrementa tu 2 niveles, si tu marcador de fama se detiene justo en ese espacio o lo cruza. El nivel de más alto es 3; eso significa que solo puedes tener hasta un máximo de nivel 3 de . Para usar el , no tienes que utilizar ningún trabajador - puedes utilizar tu en cualquier momento durante tu turno cuando obtengas un dado. Por cada nivel de que gastes mueve hacia abajo un espacio el cubo de tu Marcador de . Es posible que durante la partida te quedes sin . (1 o 2)1 Mejora de edificio 1 movimiento de barco (a tu siguiente espacio desocupado). 1 punto de fama por cada loseta en tu provincia que tenga por lo menos 1 mercado. 2 puntos de fama por cada curva que tengas en tu red de caminos en tu provincia.1 moneda por cada construcción en tu provincia. 2 monedas por cada loseta de producción que hayas conectado.1 punto de fama por cada trabajador activo que poseas.1 punto de fama por cada 3 espacios de río que hayas avanzado hasta ahora (el espacio inicial no cuenta). 2 monedas por cada mejora de edificio realizada. 10Hay 2 maneras de obtener losetas de producción adicionales durante la partidaLosetas de río Coge tantos dados de cualquier color del suministro general igual a tu nivel de actual (por ejemplo, 3 dados del mismo color o de diferentes colores, si tu es de nivel 3). Coge 3 dados, 1 por cada color que indique la loseta Haz la acción de palacio dependiendo de la ilustración mostrada (ver pág. 18), Realiza una puntuación de mercado para un tipo de mercancía. Recauda el dinero de hasta 3 mercados de un tipo de tu provincia sin tener que pagar ningún dado extra (ver pág. 17) Avanza hasta 3 espacios vacíos en el río y obtén la bonificación de ese espacio donde te detienes.Si al menos otro jugador tiene 2 trabajadores activos más que tú, obtén otra loseta de producción y colócala como si fuera tu turno de colocar un trabajador, no podrás colocarla por segunda vez. Atención! Sólo puedes obtener losetas de producción del color correspondiente a los espacios disponibles en tu tablero de provincia. También puedes optar por no coger una loseta de producción. Para grupos de jugadores Mixtos (principiantes y experimentados). Para los jugadores avanzados que jueguen con un grupo que incluye jugadores principiantes, es posible jugador con estas desventajas. En este caso los jugadores experimentados utilizarán el modo Navaratnas en su tablero de provincia y la parte posterior de su estatua de Kali, mientras que los jugadores principiantes utilizarán el tablero de provincia básico y su estatua de Kali de una partida básica. Se puede llegar a tener 5 trabajadores. Las losetas de producción especial amarillas, rojas y marrones permanecerán en la caja. Jugad de acuerdo a las reglas básicas y usa solamente las losetas de producción blanca, pudiendo obtener estos beneficios con La Bailarina utilizándolos inmediatamente como en el juego básico. Modifica los espacios de río usando losetas de río. Para esta versión, añade las 8 losetas de río a la partida. Éstas modificarán las bonificaciones del río. Al principio de la partida, baraja las losetas de río boca abajo. Tira un dado, y cuenta los espacios, comenzando por el primer espacio vacío después del espacio inicial, roba la primera loseta aleatoriamente y colócala boca arriba en el espacio correspondiente del río. Por ejemplo, si sacas un 2, coloca la primera loseta de río en el segundo espacio y, al hacerlo, reemplaza la otra bonificación por ésta nueva. Tira de nuevo otro dado, y cuenta desde la última loseta de río colocado los nuevos espacios para colocar la siguiente loseta de río. Sigue colocando losetas de río hasta que se terminen o hasta que llegues al final del río. El espacio final del río nunca puede estar cubierto por una loseta de río. Devuelve las losetas restantes a la caja. ', 'Obtener nuevos trabajadores.': 'Avanza en el track de fama, en el track de riqueza o en el río para recibir más trabajadores. Al principio de la partida, cada jugador tendrá a su disposición 3 trabajadores activos. Durante el transcurso de la partida, podrás obtener hasta 2 trabajadores adicionales. Si has avanzado los suficiente en los diferentes tracks de puntuación (riqueza espacio 20, fama espacio 15) o en el río (puente), recibirás trabajadores adicionales. Importante Tan pronto como hayas recibido tu segundo trabajador inactivo (no importa si en uno de los tracks o el río), inmediatamente coge tu trabajador sobrante del tablero y eliminalo de la partida. Los tracks de fama y de riqueza, así como el río, cada uno tiene un espacio con un trabajador inactivo por color de jugador. Los espacios en los tracks de puntuación (fama y riqueza) son espacios normales; en el momento en el que tu marcador de fama o riqueza cruce o se detenga en el espacio del trabajador, obtén el trabajador de tu color. En el momento de coger a tu nuevo trabajador éste se volverá un trabajador activo. El trabajador inactivo en el río no tiene su propio espacio en el río (el puente no cuenta como espacio); eso significa, que cuando tu barco pase por el puente coge a tu trabajador.Una vez que un trabajador pasa a ser activo nunca lo podrás perder, incluso si tu marcador retrocede (lo cual solo puedo suceder en el track de dinero). Puedes colocar a un nuevo trabajador incluso en la misma ronda en el que lo has obtenido. ', 'Bonos en los tracks de puntuación.': 'Llega al espacio y recibe el bono. Además de los trabajadores inactivos los dos tracks de puntuación (fama y riqueza) también tienen espacios especiales; cuando los cruzas o los alcanzas, consigues inmediatamente los bonos correspondientes. El track de fama tiene 3 bonos Espacio 5 Recibe una mejora de un tipo de edificio a tu elección. (Esta mejora contará en tu próximo turno). Espacio 24 Incrementa tu karma 2 niveles. Espacio 31 Puedes mover tu barco al siguiente espacio desocupado y obtener su bono inmediatamente. El track de dinero tiene 4 bonos Ateción! Un bono solo se aplica donde está impreso en el track. Si, por ejemplo, tu marcador de dinero pasa por al lado de un espacio de bonificación impreso en el track de fama, no obtendremos el beneficio. 8Espacios 12 y 44 Puedes mover tu barco al siguiente espacio desocupado del río y obtén las ganacias correspondientes Espacios 33 y 55 Puedes coger 2 dados cualesquiera de la reserva general, tirarlos, y ponerlos en tu estatua de Kali. Puesto que al pagar dinero, tu marcador de riqueza irá hacia atrás en el track, h ay un marcador especial de tu color que indicará y pondremos en la siguiente recompensa a obtener. Una vez que crucemos la bonificación del marcador lo quitaremos y lo pondremos en la siguiente recompensa, indicándonos que si volvemos atrás al pagar ya no podremos obtener la recompensa de nuevo. Por ejemplo cuando alcancemos o crucemos el espacio 12 por primera vez y obtengamos el bono, cogeremos el marcador, lo giraremos y lo pondremos en el espacio 33, así sucesivamente. Indicando que si volvemos hacia atrás no volveremos a recoger la recompensa.', 'FIN DE RONDA': 'Después de haber colocado a todos tus trabajadores activos y llevado a cabo las acciones correspondientes, la ronda llegará a su fin. Si un jugador ha colocado a un trabajador en el Gran Mogul, ahora obtendrá el elefante y se convertirá en el jugador inicial de la siguiente ronda. Si nadie envió un trabajador al Gran Mogul, el elefante pasará al siguiente jugador, en sentido horario al jugador inicial anterior. Todos los jugadores sacan todos sus trabajadores del tablero y los ponen bajo su estatua de Kali. Después el jugador inical actual, comenzará la nueva ronda. ', 'FINAL DE PARTIDA': 'Tan pronto como un jugador logre que su marcador de fama y su marcador de riqueza se equiparen en valores o se crucen, pasándose el uno al otro, se dispara el final de la partida. La ronda actual se terminará. Es decir, todos los jugadores que estén entre el jugador que ha activado el final de la partida y el jugador inicial actual todavía tendrán la oportunidad de ganar y podrá colocar un trabajador más y llevar la acción aplicable. Para desarrollar con éxito tu provincia y ganar la carrera, necesitarás principalmente dinero, dados y trabajadores. Es importante asegurarte de no quedarte sin dados o dinero, y no tener menos trabajadores que el resto de jugadores durante demasiado tiempo. Resumiendo Obtén más trabajadores avanzando en los dos tracks de puntuaciones y en el río. Gana dinero con tus mercados, construidos en tu provincia y usa a tus trabajadores para activarlos. Además las bonificaciones en tu tablero de provincia, en el río y en el palacio de Raja son fuentes de dinero. También podrás obtener dados adicionales en otros espacios. El palacio también te otorga la oportunidad de intercambiar dados. Para cumplir con las condiciones de victoria, es necesario establecer una red de caminos bien pensada dentro de tu provincia y obtener tantas producciones especiales como te sea posible. Para ello, utilizarás la acción de construir en el tablero, por lo que tendrás que pagar dinero y dados. Los edificios de tu provincia te otorgarán puntos de fama y los mercados riqueza.Después de esto, los jugadores verificarán quién ha ganado la partida. Si hay dos o mas jugadores cuyos marcadores se pasaron el uno al otro en el turno final, cada uno de los jugadores involucrados cuentan la diferencia de puntos entre su marcador de riqueza y marcador de fama; el jugador con más puntos ganará el juego. En caso de empate, gana el primer jugador cuyos dos marcadores se superaron. Ejemplo El marcador de riqueza de Rajesh ha pasado su marcador de fama. Ahora su marcador de riqueza está en el espacio 65 del track de riqueza, su marcador de gama en el espacio 30 del track de fama. Ahora Laila tiene su último turno. Ella también logra que sus dos marcadores se pasen haciendo que su marcador de dinero termine en el espacio 52 del track de riqueza y su marcador de fama en el espacio 37 del track de fama. Ambos tienen una diferencia de 2 puntos de fama (no importa donde esté colocado tu marcador de riqueza). Ya que Rajesh fué el primero en cruzar sus marcadores, es el ganador de la partida.', 'NOTAS': '', 'VERSIÓN NAVARATNAS': 'Después de haber jugado a la versión básica para uno o más jugadores, puedes optar por la versión Navaratnas para jugadores avanzados (Las 9 Gemas ver página 24, Mogul Lexicon Raja Man Singh I). Aplica estas modificaciones Puedes activar los 3 trabajadores inactivos. Así que puedes jugar con hasta 6 trabajadores. Juega con la parte trasera de la estatua de kali, pudiendo almacenar solo 8 dados. Juega por la otra parte del tablero de provincia. Aquí también, las producciones especiales están impresas en el borde pudiéndolas conectar con tu red de caminos. Sin embargo estas producciones son menores, pero se pueden mejorar durante el transcurso de la partida. Al comienzo de la partida, mezcla las loseta de producción marrón. Cada jugador elige una al azar, la revela y la coloca en uno de los dos espacios disponibles en tu tablero de provincia. Decide que producción especial sustituir en tu tablero de provincia por tu nueva producción especial marrón. En el momento en que conectes las losetas de producción marrón te otorgarán una producción especial dependiendo del progreso actual que lleves en un campo específicoAhora coloca las losetas de producción restantes marrón así como el resto de losetas de producción, mirando hacia arriba, en los edificios del mismo color en el tablero de juego. Durante el juego podrás adquirir estas losetas de producción para colocarlas en tu provincia. Las losetas de producción blancas, rojas y amarillas proporcionan producciones especiales Atención! Puntúa siempre las losetas de provincia antes de coger la producción especial. No puedes mover ni cubrir las losetas de producción ya colocados en el tablero. a)Cuando estés colocado en La Bailarina. Cada vez que coloques un trabajador en La Bailarina y renuncies a un dado de valor 2 de cualquier color, puedes coger 2 dados de tu elección del suministro general y escoger una loseta de producción especial cualquiera. De inmediato coloca esta loseta boca arriba en un espacio (todavía) desocupado del color correspondiente en tu tablero de provincia. A diferencia del juego básico, aquí no obtendras el bono de la producción inmediatamente solo cuando conectes tu red de caminos en tu tablero de provincia. b)Cuando seas el que menos trabajadores activos tiene. Si, por ejemplo, tienes un total de 4 trabajadores activos, pero al menos uno de los otros jugadores tiene 5 trabajadores a su disposición, obtienes 1 loseta de producción cuando sea tu turno en esta ronda y no puedas colocar un trabajador porque no tienes. Decide inmediatamente en qué espacio desocupado de tu tablero de provincia quieres colocar tu nueva loseta de producción (boca arriba y coincidiendo en color). VERS IÓN NA VARATNAS Dados (1 o 2 dados de los colores a tu elección).Monedas ', 'EL MÓDULO GANGA': '11Imperio Mogul (1526-1858) El imperio Mogul fué un gran imperio que se desarrolló en las llanuras Indus-Ganges en el norte de la India. En el pico de su ponder (s. XVII), abarcaba casi toda la India (como la conocemos hoy) y algunas partes de Afganistán. En 1858, la parte restante del imperio estaba ocupada por los británicos y dejó de existir. Una herencia rica en arquitectura, en pintura, y en poesía han sido preservadas hasta el día de hoy. El Imperio fue nombrado por sus gobernantes, El Gran Mogul. Gran Mogul También llamado Mogul o Emperador Mogul. El nombre llegó a Europa a través de los portugueses, que eran el poder dominante en el territorio del Oceano Índico en ese momento. La palabra Mogul deriva del mahul persa, que significa mongol, refiriéndose al hecho de que algún antecesor se hubiera casado con alguien del clan Genghis Khan. El gobernante Mongol más prominente de la historia fue Akbar el Grande (reinado 1556-1605); llevó el imperio a la prosperidad en términos militares, políticos y económicos. Bajo Shah Jahan (reinado 1627-1658), el imperio Mogul alcanzó su pico cultural. En ese momento, se construyeron el Taj Mahal, el Fuerte Rojo (Delhi) y los Jardines Shalimar en Lahore, todos inscritos como Patrimonio de la Humanidad por la UNESCO (en 1982, 2007 y 1981). Este juego juego esta basado en la era de Akbar a Shah Jahan. Estos son algunos elementos significativos para la época de los Grandes Mogoles o para la India de hoy en día que exhibe el juego Kali - Una diosa hindú que representa la destrucción y la renovación. Su poder destructivo, sin embargo, apunta principalmente a los demonios y a la justicia del mundo. La creencia popular sobre Kali es que ésta puede conceder deseos.Pavo real Azul - Desde 1963, pavoreal azul ha sido oficialmente clasificado entre los animales nacionales Indios (además del tigre de Bengala y el delfín del río Ganges). Originalmente, provenía del subcontinente indio donde se le consideraba un animal sagrado que estaba en peligro por los tigres el mal clima y mortales serpientes venenosas entre otras cosas. Mientras que en el mundo occidental se asocia el pavo real no sólo con la belleza, sino también con la arrogancia y la vanidad, los indios lo consideran principalmente un símbolo de realeza e inmortalidad. Por lo tanto, las estatuas de pavos reales fueron diseñadas también en el trono del Emperador Mogul. El trono del Pavo Real - Era un trono adornado con una abundancia de perlas, de oro, y de gemas (más de 26.000) que fueron manufacturadas por orden de Shah Jahan e inaugurado en 1635. La producción del trono tardó siete años y se dice que ha sido dos veces más caro que la construcción del Taj Mahal; esto fue considerado un acto muy extravagante incluso para un emperador Mogul. Desde que el Fuerte Rojo (Dehli) fue saqueado en el siglo XVII, el Trono del Pavo Real se ha dado por perdido. Pilar de Ashoka - El actual escudo de armas de la India muestra, la adaptada capital, un Pilar de Ashoka, los famosos Cuatro Leones de Sarnath. Construido alrededor de 250 AC bajo Ashoka, el gobernante indio en ese momento, tenía numerosos pilares monumentales establecidos por todo su reino en muchos lugares estratégicos, como ciudades fronterizas y rutas comerciales. Sus capitales eran usadas para proclamar sus leyes. Algunos de estos pilares, por entonces numerosos y extendidos, se han conservado hasta el día de hoy. Son testigos silenciosos del antiguo gran Imperio de la India, cuya herencia cultural ha resistido la prueba del tiempo. Raja man Singh I - Era un importante comandante de las fuerzas armadas imperiales. Como gobernador de varias provincias, tenía áreas forestales cultivadas para el progreso agrícola, encargó la construcción de varios palacios, fortalezas y templos e incluso fue fundador de alguna ciudad. Además, Man Singh ganó una gran reputación por ser miembro de las Navaratnas, las Nueve Gemas de Akbar, un pequeño grupo de personalidades extraordinarias en la corte del emperador Mogul. ', 'MOGUL LEXIGON': ' ', 'CRÉDITOS': '2017 HUCH! Authors Inka Markus Brand Illustration Dennis Lohausen3D Andreas ReschDesign HUCH!, atelier198Product Manager Britta StckmannEditing Frank DiLorenzoEnglish translation Sybille Bruce Whitehill, Word for WortDistributor USARR Games, Inc.PO Box 130195Tampa, FL 33681 USA Warning! Choking hazard. Not suitable for children under age of 3 due to small parts. Manufacturer distributor Hutter Trade GmbH Co KGBgm.-Landmann-Platz 1-5 89312 Günzburg, GERMANYwww.hutter-trade.com 12TRADUCIDO y MAQUETADO POR CRISTÓBAL TRUJILLO TRUJILLO (RESOLV) '}, 'text_ref_rapida': 'GANGES (2 a 4 jugadores) Antes de empezar Decidir si se juega en modo normal o en modo Navaratna (ver el epígrafe Variante Navaratna más adelante ). Sortear jugador inicial , el cual se va rotando en sentido horario cada vez que se agoten los lacayos colocados sobre las acciones del tablero, a menos que un jugador obtenga el beneficio de la primera zona de los aposentos del palacio, que lo convierte en jugador inicial. Cada jugador recibe , según su color 6 lacayos, de los cuales 3 se colocan en las 3 zonas al efect o del tablero (uno en la casilla 20 del marcador de riqueza, otro en la casilla 15 del marcador de gloria y otro sobre el puente del río). 5 cubos, de los cuales 4 se colocan sobre el primer nivel de cada uno de los edificios del tablero y el restante sobr e el nivel 1 del indicador de karma . 1 ficha circular de bonificación, la cual se coloca inicialmente sobre la casilla 12 del marcador de riqueza con la imagen de bonificación de avance fluvial boca arriba . 1 barco, que se coloca en la casilla inicial del río. 1 ficha en forma de prisma hexagonal, que será el indicador de riqueza. El jugador inicial lo coloca en la casilla 3 de dicho indicador, el 2 jugador en la casilla 4, el 3 en la casilla 5 y el 4 en la casilla 6. 1 ficha en forma de círculo cortado , que será el indicador de gloria y cada jugador lo coloca en la casilla inicial de dicho indicador. 4 dados, uno de cada color. 1 busto de Kali para colocar los dados. Antes de colocarlos, cada jugador debe lanzarlos y conservar la puntuación obtenida. En el modo normal de juego se coloca boca arriba por el lado que incluye en su interior 2 cuadrados vacíos. Si se juega en el modo Navaratna , se coloca por el lado que carece de esos cuadrados vacíos. El busto sirve para limitar la cantidad máxima de dados utilizables 10 en el modo normal y 8 en el modo Navaratna . 1 tablero de provincia, donde cada jugador irá colocando las losetas que vaya adquiriendo. En el modo normal de juego se coloca boca arriba por el lado que muestra la imagen de un príncipe hindú. Si se juega en el modo Navaratna , se coloca por el lado que muestra el rostro de una diosa . En el caso de jugar en el modo Navaratna , ver el epígrafe Variante Navaratna más adelante . Colocar el tablero por el lado que corresponda al n de jugadores . Hay un lado para 2 jugadores que está representado con 2 elefantes pintados junto a la casilla inicial del río y el otro lado es para 3 o 4 jugadores, que tiene 4 elefantes en ese mismo lugar. La diferencia entre ambos lados del tablero es que el lado para 3 y 4 jugadores incluye más zonas donde colocar lacayos en las secciones de cantera, mercado y puerto. Colocar las 8 fichas de producción blancas boca abajo sobre la imagen del templo blanco del tablero. A medida que se vayan revelando, se van colocando fuera del tablero . Si se agotasen, se vuelven a mezclar y se colocan de nuevo como al principio. En el modo Navaratna , las fichas marrones de producción restantes se colocan boca arriba sobre los templos del tablero que coincidan con su color. Hacer un montó n al lado del tablero con el resto de los dados, formando una reserva. En las partidas con 3 jugadores se hace uso de las 2 fichas de exclusión, que hay que colocar sobre la primera casilla de la cantera y sobre la tercera del puerto , al objeto de prohibir la colocación de lacayos sobre esas 2 zonas. Formar 12 montones con las losetas de provincia, según su color e imagen del reverso y colocarlos al lado del tablero en un lugar accesible para todos los jugadores.Turno s de juego Los turnos son consecutivos y la ronda consiste en colocar todos los lacayos . Cada jugador en su turno coloca un lacayo sobre una casilla de acción, paga su coste (si lo tiene) en dados o rupias (lo que corresponda según el caso) y recibe inmediatamente el benefici o asociado a esa acción. Una vez gastados los lacayos de todos los jugadores, cada uno recoge los suyos del tablero y la partida continúa del mismo modo cambiando de jugador inicial (salvo por bonificación especial del mismo jugador que ya lo era) . Puede darse el caso de que algunos jugadores tengan en juego más lacayos que otros, en cuyo caso seguirían juga ndo ellos solos hasta agotarlos. Acciones 1. Cantera El jugador coloca un lacayo, paga las rupias que indique la casilla y adquiere una loseta de provincia pagando su coste en dados. Cada loseta tiene su precio en la esquina superior izquierda sobre un color determinado. El coste puede ser pagado con uno o varios dados del color elegido, debiendo al menos igualar la cifra consignada en la loseta. La loseta se debe colocar en una zona vacía del tablero de provincia adyacente a otra (la primera será adyacente a la residencia impresa) , teniendo en cuenta que, al menos, uno de los caminos sea coincidente con una loseta anterior y que ese camino debe terminar siempre en la residencia. Si la loseta incluye un camino que termina en un lateral con bonificación impresa, el jugador la obtiene inmediatamente. Si la loseta tiene edificios impresos , el jugador gana tantos puntos de gloria como le correspondan según su nivel de mejora de edificios. Inicialmente este valor es 2, pero se puede ir moviendo el cubo de mejor a de cada edificio si se obtiene una bonificación de mejora ( procedente de la bonificación de una casilla de río, de la 4 zona palaciega , de una bonificación del marcador de gloria o de una ficha de bonificación o producción). Si la loseta tiene tenderetes de mercancías, el jugador ga na inmediatamente la cantidad de rupias impresas . Hay losetas con más de un edificio o más de un tenderete o mezcla de ellos y el jugador puntúa por todos ellos. 2. Mercado Hay 3 tipos de mercancías (seda, té y especias) y el tablero tiene 2 zonas diferencia das de mercado a) Surtido variado El jugador coloca un lacayo en la casilla gratuitamente y gana tantas rupias como sumen hasta 3 de los tenderetes de su provincia que sean distintos entre sí. En el lado del tablero para 3 y 4 jugadores existen 2 casillas para esta acción, pero un mismo jugador no puede colocar 2 lacayos en esta zona. b) Mercancía de un solo tipo El jugador coloca un lacayo en una de las 3 casillas de mercancías . Par a ello debe gastar un dado cualquiera de los que posea y gana ta ntas rupias como sumen todos los tenderetes que posea en su provincia de esa mercancía. 3. Aposentos del palacio Hay 6 zonas donde colocar un lacayo y solo un jugador puede colocar un lacayo en cada una. Exige gastar un dado del valor exacto correspondien te a la zona de colocación. Zona 1 El jugador gasta un dado de valor 1 y gana 2 puntos de gloria además de convertirse en nuevo jugador inicial. Zona 2 El jugador gasta un dado de valor 2 y gana 2 dados y una ficha de producción blanca . Zona 3 El jugador gasta un dado de valor 3 y gana 1 dado y aumenta su n ivel karma en 2 niveles, teniendo en cuenta que el nivel máximo de karma es 3 .Zona 4 El jugador gasta un dado de valor 4 y gana 3 rupias y una mejora de edificio , por lo que podrá mover uno de sus c ubos en el edificio de su elección a un nivel superior , teniendo en cuenta que el nivel máximo de mejora es 4 . Zona 5 El jugador gasta un dado de valor 5 y tiene la opción de adquirir una loseta de provincia para solapar a otra que ya tuviera colocada en su tablero personal. La nueva loseta debe ser de valor superior a aquella que se pretende solapar y su coste será la diferencia en valor de dados entre ambas, aunque su color sea distinto. Se sigue manteniendo el requisito de la conexión remota de caminos hasta la residencia. En caso de solapar una loseta de los laterales con derecho a bonificación, no se recibe ésta porque ya se recibió al colocar la loseta primitiva . No se puede solapar una misma loseta más de una vez. Zona 6 El jugador gasta un dado de valor 6 y av anza su barco por el río exactamente 6 casillas consecutivas no ocupadas, obteniendo la bonificación correspondiente. Cuando el barco de un jugador se encuentre ent re las últimas 6 casillas del río, no puede realizar esta acción. 4. Verandas El jugador gasta un dado del color correspondiente a la casilla donde coloca al lacayo y gana 2 dados nuevos del color que se indica. El jugador los cogerá de la reserva, los lanzará y los colocará en su busto de Kali. 5. Terraza El jugador coloca un laca yo en la casilla que corresponde a uno de los colores de dados gratuitamente y gana un dado del color impreso junto a la casilla. El jugador lo cogerá de la reserva, lo lanzará y lo colocará en su busto de Kali. Hay 2 casillas por cada color de dado y un m ismo jugador puede hacer uso de ellas con sus lacayos. 6. Mirador El jugador coloca un lacayo gratuitamente, gana 2 rupias y tiene la opción de relanzar cualquier cantidad de dados de los que posea en su busto de Kali. 7. Río El jugador coloca un lacayo en una casilla del puerto no ocupada, paga su coste en rupias (hay una gratuita) y debe gastar un dado que sea exclusivamente de valor 1, 2 ó 3. Avanzará su barco como máximo el número de casillas que indique el dado utilizado (un dado de valor 2 permite a vanzar 1 ó 2 casillas y un dado de valor 3 permite avanzar 1, 2 ó 3 casillas). Las casillas del río ocupadas se ignoran para el avance y el jugador gana la bonificación en la que coloca finalmente su barco. Al llegar a la última casilla del río, el jugador no puede realizar más esta acción. Reglas a tener en cuenta Variar e l nivel de karma no constituye acción, se puede realizar en cualquier momento del turno y permite voltear uno de los dados del jugador a fin de mostrar la carta opuesta a la que tenía originalmente. Cuando un jugador alcanza o supera la casilla 12 del marcador de riqueza, debe mover su ficha circular de bonificación a la casilla 33 por el lado que coincida con la imagen impresa en esa casilla, ganando inmediatamente un avance de río. Posteriormente, al alcanzar o superar la casilla 33, ganará 2 dados y moverá de nuevo esa ficha a la casilla 44 haciéndola coincidir con la imagen impresa en esa casilla. Una vez alcanza da la casilla 44, gana rá un nuevo avance de río y moverá la ficha circular a la casilla 55. Una vez alcanzada la casilla 55, gana rá 2 dados nuevos y la ficha circu lar se retira de la partida. Cada vez que un jugador gana dados nuevos sin un color determinado , tanto si es por bonificaciones o por acciones del tablero, el jugador los coge del color que desee de la reserva y debe lanzarlos y conservarlos con la puntuación obtenida en su busto de Kal i, teniendo en cuenta el máximo de 10 dados en el modo normal de juego y de 8 en el modo Navaratna .Los lacayos adicionales que un jugador consiga por alcanzar las posiciones en las que se encuentran en los marcadores o en el río empiezan a ser funcionales inmediatamente, por lo que pueden ser utilizados en la misma ronda en la que se han conseguido. En el modo normal de juego, cuando un jugador haya conseguido 5 lacayos en total, el sexto se retira de la partida y no lo podrá conseguir. En el modo Navaratn a sí se pueden utilizar todos. Final de partida El final de partida se produce cuando un jugador iguala o cruza la posición de sus indicadores de riqueza y de gloria en el tablero. No obstante, se dejará terminar el turno (no la ronda completa) al resto de jugadores que no lo hubieran hecho, dando así la posibilidad de que alguien más haga cruzar también sus indicadores. De todos los jugadores que hayan cruzado sus indicadores en ese último turno, el ganador será el que más diferencia en puntos de gloria haya conseguido entre ambos. A igualdad de condiciones, el ganador será el que desencadenó el final de partida. Variante Navaratna Cada jugador utiliza el tablero de provincia por el lado que muestra el rostro de una diosa hindú, el busto de Kali se coloca por el lado que no tiene hueco para los dos dados interiores y cada jugador puede hacer uso de los 6 lacayos disponibles. Las bonificaciones de los laterales son producciones mínimas que se pueden ir mejorando durante la partida. En esta var iante se hace uso de las fichas especiales de producción y las hay de los 4 colores de los templos marrón, blanco, amarillo y rojo. Al principio de la partida se mezclan las fichas marrones de producción , se colocan sobre el templo marrón del tablero boca abajo y c ada jugador coge una al azar, la revela y la coloca en una de las dos casillas posibles (la que prefiera) de los laterales de su tablero de provincia. El resto de ficha s marrones de producción se revelan y se colocan boca arriba sobre el templo ma rrón. Las fichas de producción de los otros colores se depositan boca arriba, cada una sobre el templo de su color. Cuando un jugador logra conectar las fichas marrones de producción con su residencia mediante un camino, gana una producción especial que de pende del grado de desarrollo que haya conseguido hasta ese momento en un aspecto concreto del juego 1 punto de gloria por cada loseta colocada que tenga al menos un tenderete 1 punto de gloria por cada 3 casillas de río que el barco del jugador haya avanzado hasta ese momento (sin contar la casilla inicial) 1 rupia por cada edificio de la provincia 2 rupias por cada ficha de producción con la que haya podido conectar 2 puntos de gloria por cada curva o bifurcación que exista en la provincia 2 rupias por cada mejora de edificio efectuada hasta el momento 1 punto de gloria por cada lacayo activo en juegoCuando un jugador c oloca una loseta en su tablero de provincia, tras puntuar por los elementos que incluye la loseta , coge una ficha de producción (si así lo desea) y la coloca boca arriba en una casilla de los laterales del tablero de provincia del mismo color a fin de mejorar la que ya viene impresa. Cada ficha de producción colocada ya n o se podrá mover ni cubrir con otra. Su bonificación se gana al conect arla con la residencia impresa en el tablero de provincia mediante un camino. Las fichas especiales de producción se consiguen de 2 formas a) Al realizar la acción de los aposentos del palacio que exige dado de valor 2 se cogen los 2 dados que se indican y además una ficha de bonificación, que en esta variante puede ser cualquier ficha de producción especial. b) Por no poder colocar un lacayo el jugador gana una ficha d e producción cada vez que sea su turno y no tenga lacayos para colocar por tener menos que algún otro jugador . Varia ción de las bonificaciones del río Para hacer el recorrido del río más imprevisible, se incluyen 8 fichas adicionales de forma circular y de fondo azul que se pueden poner en juego cuando se desee, tanto en el modo normal como en el modo Navaratna . Al principio de la partida se mezclan estas 8 fichas y se colocan boca abajo en algún lugar de la mesa. Luego se lanza un dado y se cuenta su valor en casillas por el río, colocando boca arriba en la casilla resultante una cualquiera de las 8 fichas adicionales. De este modo se reemplaza la casilla impresa en el tablero por la nuev a. Después se vuelve a lanzar el dado y se realiza un nuevo recuento de casillas a partir de la anterior y se coloca otra ficha de las adicionales en el lugar resultante. A partir de ahí se vuelve a hacer lo mismo hasta llegar al final del río, pudiendo so brar fichas adicionales, las cuales no serán utilizadas. Hay que tener en cuenta que la casilla final del río no puede cubrirse con una ficha adicional. El jugador coge tantos dados del color que quiera como indique su nivel de karma en el momento actual El jugador coge 3 dados de los colores indicados El jugador realiza gratuitamente la acción del aposento del palacio que se corresponda con la imagen de la ficha sin tener que colocar lacayo El jugador gana la cantidad de rupias que resulten de sumar hasta 3 tenderetes de un solo tipo de mercancía de los que tenga en su provincia sin tener que colocar lacayo y de modo gratuito El jugador avanza su barco por el río entre 1 y 3 casillas no ocupadas y gana la bonificación de la casilla en la que lo coloqueBonificaciones impresas sobre el curso del río en el tablero El jugador gana 2 dados El jugador aumenta su karma en 2 niveles (máximo nivel 3) El jugador gana la cantidad de rupias indicadas en la imagen El jugador puede realizar una de las 5 acciones (entre la 2 y la 6 ) de los aposentos del palacio sin tener que colocar lacayo ni gastar dado y aunque esté ocupada El jugador gana tantos dados del color indicado en la imagen como sea su nivel de karma (entre 0 y 3) El jugador gana la cantidad de puntos de gloria indicados en la imagen El jugador puede aumentar el nivel de cualquiera de sus edificios El jugador gana 1 rupia por cada tenderete de mercado que tenga en su provincia El jugador gana rupias por hasta 3 de sus tenderetes que sean de una mercancía diferente El jugador gana las rupias correspondientes a una sola de sus mercancías (la que prefiera) contando hasta un máximo de 4 tenderetes El jugador gana las rupias correspondientes a sola de sus mercancías (la que prefiera) contando hasta un máximo de 5 tenderetes El jugador gana 1 punto de gloria por cada nivel de mejora de edificio logra da (entre 0 y 6) El jugador gana 2 rupias por cada nivel de mejora de edificio logra da (entre 0 y 6) El jugador gana en puntos de gloria el doble de su nivel de karma (entre 0 y 6)', 'text_quick_guide': 'Rajas of the Ganges Set-Up Place the game board in the middle of the table, according to the player count. o If playing with 3 players, use the 2 space cover markers to cover the 1st Quarry space and the 3rd Harbor space. o If playing the standard game, put the Yellow, Brown and Red yield tokens, and the 8 river tokens, in the box. See below for details on the Navaratnas Version and the Ganga Module (2 variants to the game!) Sort the Province Tiles by colo r, and then by the 3 different a nimal ba cks (snake, cow, tiger). o Place the 12 stacks face -down next to the board, then flip the top tile of each stack face -up. Mix the 8 white Y ield tokens face -down on the temple space (white building). Each player takes o 1 Province board (place the sta ndard side up the side without blank yield spots) o 1 Kali Statue board (with the 2 slots in the middle open for dice able to hold 10 dice (thats all it does, fyi) ) o 6 Workers (lay 1 worker sideways on the river bridge, on the 15 fame space, and on the 20 money space) o 5 Cubes (1 on level 1 of the Karma track, and 1 on the leftmost space of the 4 buildings, right side of board) o 1 Money m arker (start s pace to be determined when first player is chosen see below ) o 1 Fame m arker (put on 0 space of the F ame track ) o 1 Boat (put on start space of the river) o 1 Money Track Bonus m arker (put on space 12 of the money track, blue (river) side up) o 1 die of each color (Green, Blue, Yellow, Purple) roll them , plac e each die onto an empty hand of Kali Statue. The player with the lowest total on thei r 4 dice will be Start Player. They take the Elephant marker (start player marker.) o The 1st playe rs money marker goes on space 3 . 2nd3rd4th player put their money marker on space 456. Game Flow Rajas of the Gan ges is played over a number of rounds until 1 player triggers the end of the game by having their Fame and Money marker intersect paths. At this point, remaining players in turn order will have 1 more turn before the end. The winning player will be whoe ver was able to move their markers past each other the furthest (in case multiple players achieve t his goal during the last turn.) During a round, starting with the 1st player going clockwise, each player will place 1 worker into 1 of the many empty action spaces and carry out the given action before the next player s turn. When all players are out of workers, the round ends. General Rules to get Started As stated above, on a players turn, they w ill place one of their workers o nto an empty action space a nd take the action. There are 4 different areas of the board (Quarry, Market, Harbor, Palace ) where players can place workers (see below for detailed descriptions of each action area ) Some of the action spaces have a cost associated with them when you plac e your worker there . o If the space in the center of the action space is empty, its free! o If the space shows a coin value, pay it (move marker backwards. ) o If the space shows a di e, return the indicated die (color and pip value might matter.) Pip-less die mean any value , and a Tan die mean any color Anytime in the game you earn Fame or money, you move your marker immediately (earning any bonus es on the track as you go,) and whe n you earn dice (if any remain of that color ,) roll the dice immediately and place on your Kali Statue. o Your Kali Statue holds 10 dice. If you were to take an 11th, you can refuse it or replace 1 on the Statue already . Karma Is a resource earned throughout the game that is tracked above the Palace on the upper left side of the b oard. o It allows a player (at anytime on their turn) to flip 1 die to the opposite side by sliding your cube down 1 space. o You can spend as many Karma points as you want on your turn. The max to hold at 1 time is 3 (see track .) New Workers As the game progresses, you will be moving your money, fame and boat markers along their respective paths. If you reach the space with 1 of your workers , you take it and immediately add it to your pool, ready to work! Once you receive your 5th worker, the 6th worker still on the board is removed to the box. Only 5 can be earned in total . Scoring Track Bonuses Along the Fame and Money track, you will earn rewards when you reach certain numbers. o Since you can only go forward on the Fame track, the rewards are simply printed on the board for when you reach them, you earn them. They are spaces 5, 24 and 31. o The Money track is different as there is a small token you will use. You see, since your money can go up and down, the designers made it easy to remember if you go t the bonus yet or not. The first time you cross thisbonus marker, take the reward, flip the token, and move it up to the next space that matches this bonus token. The spaces that will have bonuses are 12, 33, 44, and 55. Take a l ook! After the bonus at 55, remove the token. Quarry Action (Place Province Tiles on your Player Board) In the middle of the board are actions spaces (in 2 rows) with cost values from 1 -4 (remember to pay). Next to them is an icon of a tile being placed on a Province board. Well, activating 1 of these spaces will allow you to do just that! After placing your worker , and paying the cost, look at 1 of the 12 face -up Province tiles next to the board. You can buy a face -up tile by returning any number of matching colored dice to the supply with a sum o f at least the value shown in the upper left corner. You can overpay for tiles this way. After paying for your tile with dice, take it and place it on your player board so that at least 1 road on the tile can be traced back to your Estate (the building in the upper middle). Yes, you can rotate your tile any direction you wish and you can cut off other roads, as long as 1 road on your newly placed tile can make its way back home! After you place your tile legally, you will earn rewards based on what is showing on the tile itself. o If 1 of the 4 buildings is showing, immediately earn Fame points equal to that buildings currently Fame level. o If it shows 1 of the 3 Markets, earn money equal to the prin ted money shown. o Obviously, earn all rewards shown (you might have multiple buildings or multiple markets.) Around the edge of your Province are special Yield rewards. After scoring the Province tile itself, if a road connects to this Yield reward back to your Estate, you immediately get the bonus! If a Yield reward is blocked off, you cant earn it. When you are done getting your rewards, flip the next tile over in the stack you chose from. Market Action Spaces (Earn money based on Mark ets in your Province) Just u nder the Quarry spaces are the Market action spaces. The each top row action space deals with a specific type of good, while the bottom spaces deal with all 3 different types of goods . If you place a worker on 1 of the top spac es, you will first give up a die with any numeric value on it (the higher the better possibilities,) and then do the following o Each of these spaces is associated with 1 of the 3 goods found in the Markets of your Province ( tea, silk, spices .) o If you place your working on the T ea space, you will select a number of different tea markets i n your Province (that can be traced back to your Estate via roads ) up to the value on the die you turned in. (example, turn in a 3 die, you can count up to 3 different tea markets on your Province board. Turn in a 4, you can count 4 so on ) o Calculate the total money shown on these different Markets and earn that amount of money immediately. o The Silk and Spice s space work exactly the same. If you place a worker on a bottom space ( no player may access both bottom spaces in the same round (34 p game,) see different color worker icons ,) then you will look at your Province board and choose 3 different type markets (1 tea, 1 silk, 1 spices) that trace back to your Estate via roads and earn the shown money value immediately! This space has no cost! River Action Spaces (Move your Boat on the River for Rewards) Under the Market spaces is the Harbor, and this area controls the movement of your Boat on the river. Whenever a player is to move their boat during the game , they always move it forward, they never count spaces other players are on, and they immediately take the reward when the boat has stopped moving. The Harbor spaces all have a coin cost except the first space w hich is free ! When putting your worker here, discard any die with a 1, 2 or 3 value (see chart to the right in the Harbor). o If a 1 is discarded , the player moves their boat 1 unoccupied space up the river . o If a 2 is discarded, the player mov es their boa t 1-2 unoccupied spaces up the river, player s choice. o If a 3 is discarded, the player moves their boat 1 -3 unoccupied spaces up the river, player s choice. The last space of the River can hold several boats, but once you reach this space, you cant take boat actions anymore. See the Rulebook for the indivi dual descriptions of each space. Palace Action Spaces ( Ways to Manipulate your Dice pool) The Palace takes up the bottom left part of the board. It includes 19 action spaces from the Chambers (people) all the way t o the Balcony space (shows shaking dice). These are what the spaces do in detail o The 6 Chamber People 1 Give up any value 1 die to get 2 fame points and take the 1st player marker for next round. 2 Give up any value 2 die to get any 2 dice in return and 1 white yield token sitting on the white building . Gain the reward of the Y ield token immediately and discard it. If the pile runs out, reshuffle it.3 Give up any value 3 die to get 2 Karma and 1 die of your choice. 4 Give up any value 4 die to advance 1 of your buildings up 1 level and earn 3 money . 5 Give up any value 5 die to choose any Province tile, place it on top of any Province tile already built with a lower die cost, and pay 1 dice totaling the difference in value of the 2 tiles in the color of the new tile. The new tile will not earn Yield rewards but it will earn rewards for what is on the tile itself. Also, this new tile must obey the laws of tile placement. It must be traceable back to the Estate. 6 Give up any value 6 die to move your boat on the river exactly 6 unoccupied spaces . If you are within the last 6 river space s, you cant use this action anymore. Must be able to move exactly 6 spaces. o The Terrace Balcony Spaces The single space on the very end lets you take 2 money and re -roll any number of your dice. The spaces that are touching a colored die reward you with 1 die of that color. The spaces that show a colored die in the action space require 1 die of this color as payment to receive 2 dice of the other color as the reward. End of the Round After everyone has placed all their workers ( a player might have a skip ped turn if other players have more workers) the round will end. If a player took the 1st player marker by going to the 1 space in the Chambers, then that player is 1st player for the next round. If no one went to that space, pass the Elep hant clockwise. Ever yone now takes back all their workers placed this round and starts a new round! End Game During the round, when 1 player has their Fame marker reach andor pass their money marker, the game is triggered. At this time, each player going clockwise unti l the last player is reached will get 1 more turn to place 1 more worker (if the last player is the one to trigger the game then the game will end now.) When the game ends, the player who moved their Fa me and Money marker the furthest apart (ties broken b y the player who did this first) will win the game ! Navaratnas Version (Advance d Game) Instead of only being able to get 2 new workers like in the standard game, you can claim all 3 workers on the board. You will use the other side of the Kali Statue which allows you to only store 8 dice , instead of 10 in the standard game. You will use the other side of your Province Board as well. You will notice some empty Yield space s around the edge. o During Set -up, t ake the Brown Yield tiles, flip them face -down, and each pl ayer takes 1 randomly, looks at it, and covers up 1 of the 2 Brown Y ield spaces on their Province board . It doesnt matter which Brown space is covered. You wont earn the reward now, but you will earn it in game when you connect to this Yield token. See the descriptions of the new bonus Yield tokens in the rulebook. o You will now sort the 4 different color ed Yield tokens by color and place them face -up on their matching building s on the right side of the board. (Same area you put the white tokens face -down in the standard game.) There are 2 ways to obtain new Yield tokens during the game o When you select the 2 person in The Chambers. This person allows you to get a ny face -up Yield token from 1 of the buildings. Select 1 and add it to your Province b oard, but it can only cover up a matching color. You wont earn the reward yet, but you will earn it when you connect to this Yield token via a road going back to your Estate. o When you have fewer workers than others! If you are skipped over during a r ound because other players still have more workers, then you get to take 1 Yield token of your choice and place it on your Province board covering a matching color space. Again, the reward will be earned when you connect to this token with a road leading back to the Estate. You are not required to take Yield tokens when allowed, and you cant place a Yield token on top of another Yield token. The Ganga Module (Customize the River Spaces) During set -up, mix the 8 river tokens face down, then roll a die. Count out that many spaces and choose 1 of the token to flip over and place on this space (creating a new space for the game). Repeat this process until you reach the end of the river. The final river space cant be covered up. All 8 riv er tokens might not be placed out. See the rulebook for a detailed description of the new tokens. Obviously, you can turn the tiles face -up and customize the river spaces however you wish for a certain strategic game.', 'text_automa_variant': 'Rajas of the Ganges Automa mode Author Mauro Gibertoni Rev. 1.0 - 4 Dec 2017 This is a solo variant for Rajas of the Ganges boardgame. You play against a fake opponent the Automa. While you play following all standard rules, the Automa breaks some rules, so for you it will be very easy to take the action for the Automa. Set-up Prepare a standard set -up for wo players, but consider that the Automa doesnt need all the components, so you can leave in the box the following components - the province board ; - the four markers for palaces upgrade ; - the marker for karma points ; - the personal dice an d the Kali statue ; - if you play with Navaratnas version, select one brown yeld tile for you then remove 2 yeld tiles per color . Shuffle the Automa deck and place it close to the board with the blue side face up. Select randomly who will be the first player . Place the provice tiles in 12 piles and organize them in a 3 x 4 grid. Automas overview At each turn alternate your actions with the automa actions like in a normal game. When the Automa must perform an action, you draw a card from Auotma deck and ex ecute the action described. In general - The Automa places his workers on the board, but he spends no dice to take the action ; - The Automa can gain new workers like a normal player ;- The Automas fame and money markers are moved only one time per round just after the Automa has placed his last worker . Description of the round When it is the Automas turn, draw a card from Automa deck, look the red side and perform the action shown Building action place the Automas worker then look the blue side of the first automa card that is remained on the top of the automa deck, and discard the province tile highlighted on the card. (Automa gains no fame for the moment) Market action look the blue side of the first automa card that is remained on the top of the automa deck and place the Automas worker on the market shown on the card. (Automa gains no money for the moment) River action place the Automas worker then look the blue side of the first automa card that is remained on the top of the automa deck, and advance the ship the number of spaces indicated on the card. (Automa gains no bonus) Action at the palace look the blue side of the first automa card that is remained on the top of the automa deck and pla ce the Automas worker on the palaces room shown on the card. Special cases If the room is the number 5 (Master builder), discard a province tile as in building action. If the room is the number 6 (Portuguese), advance the ship 6 spaces. Balconies action look the b lue side of the first automa card that is remained on the top of the automa deck and place the Automas worker on the balcony space shown on the card. Note if the Automa can not palce his worker because the area is occupied by another worker, discard the card on top of the deck and look the next card until the Automa can place his worker. Every time the Automa deck is termined, reshuffle it.Example If you draw this card and this card is visible on top of the deck , the Automa places a worker on the silk market space. End of a round Once the last automa worker is placed, look on the red side of the current automa card and advance the fame and money Automa marker the number of spaces indicated on the card. There are three difficulty level available. Apply the level you want easy (green ), medium (orange ), hard (red). During the game the Automa gains new workers and the advancements on the river, all other rewards shown on fame and money tracks are ignored. If the Automa gains a new worker during the advancements of the markers at the end of his turn, the new workers will be available only in the next turn.End of game If you are the first to trigger the victory condition, draw a card and apply the fame and money point with the selected difficulty level for the last time. Then declare the winner with the standard rules. If the Automa is the first to trigger the victory condition (this occurs only after the Automa has placed his last worker) and you are the second player in turn order you can place your last worker, then declare the winner with the standard rules.', 'estrategia_portuguese': ['Except for the case where you want to rush to get your worker on the bridge, I cannot understand why using a 6 on the Portuguese is useful. The sooner you race through the river, the less likely you are to benefit for those 1 river space bonuses and claim rewards caused by other events. How else could the Portuguese be useful?', 'I use it frequently...like you mentioned, usually to rush and get my extra worker.'], 'estrategia_principiantes': 'I have only played the game several times, but I think the best (and probably the most obvious) strategy is to build up your markets in your province as fast as possible, and then take the market action to score them frequently. Look and see which markets are available on the tiles and plan accordingly. The market action that allows you to score all three market types (one of each) does not cost a die, so go for diversity first if the tiles available are in that favor. Of course pick the markets with value 2 or 3 first. My last game I did not buy any market tiles that had a value of one (unless it has a building on it that will score well for fame.) Build up your building upgrades as fast as you can as well. In our second game my opponent ignored buildings and focused entirely on markets - and he lost. So do not ignore them. This is one of those games where you have so much you want to do each turn and you only get to do one thing! Also, get your extra meeple as soon as possible. And dont forget the action where you can lay a tile on top of another tile. We sort of ignored that until our third game and realized it might be a good idea to connect to the borders of your province as much as possible even if the roads might not bend the way you want, because you can always cover a tile later (although there are restrictions.) This is quickly becoming one of my favorite games. I suggest skipping the basic game and playing with the advanced rules right away. Its not any more complicated and really makes the game shine quite a bit more. Good luck!', 'guia_competidores': ['Rajas of the Ganges is one of my favourite games. I like it because I see a way to work towards mastering it. I hope that this article will improve the gameplay of those with similar goals, as well as those on Yucata. This article is more tailored towards 2-player games (Navaratnas Ganga module) but many of the principles also apply to higher player counts. Revised in Feb 24 I incorporated new views based on my 10 games played as part of a Yucata Kings Court tournament. (2-players, round robin). The most significant is I now see the value of picking the Great Mogul (1). Besides updating the guide, I tried to improve the readability of the guide with ChatGPTs help. I am not very proficient with formatting on BGG, so I apologize in advance if it is still difficult to read! Rajas of the Ganges Strategy Guide Introduction Rajas of the Ganges holds a special place among my favorite games, as it provides a clear path to mastery. This article aims to enhance the gameplay for those with similar goals, specifically for 2-player games (Navaratnas Ganga module), but many principles also apply to higher player counts. At a Glance', '1. The Macro View Revised in Feb 24 - Mixed strategy Heavy Money Fame 2. Evaluating the Board State at the Start of the Game to Decide on a Strategy - 1 market of each kind 3 and 4 directional tiles (consider your dice as well) 3. Dice Management Revised in Feb 24 - 3 karma dice River 3 color dice River Dancer 2 dice River 1-for-2 dice 1 dice (assuming the dice color matches what you want) 4. How to Get Money - Different market spot - No. 4 - River spots - Connecting to the bottom of the board (longer than the top but more worthwhile in the long run) - 1 market (only worth if activating 3 or more) 5. How to Get Fame - No. 4 then build monuments - Board - River spots 6. How to Quickly Get Your 6 Workers New Section in Feb 24 - River is your good friend - If you have a good Money set-up (3 different markets), focus on river spots giving fame - If you have a good Fame set-up (min. 3 monument upgrades), focus on river spots giving money 7. What Yield Tiles to Pick New Section in Feb 24 - Make sure you have a good Brown end-game yield tile - If you have a bad Money engine, pick Money - If you are reaching the yield tile soon and lack dice, pick dice 8. Others - (Base Game) the most optimal way to build is to go down the center and build both ends - Withhold building to punish opponents for getting dice in the color of the tile you want and can get', 'Macro View Mixed Money Fame The game concludes when the fame and money tracks intersect. Thus, players can opt to focus heavily on money, fame, or pursue a mixed strategy. In a balanced strategy, players benefit from both tracks, making it generally more advantageous. A slight emphasis on money is preferred due to better bonuses (river and dice) compared to fame (upgrade, karma, and river). However, a fame-heavy strategy can still be successful. In Raja of the Ganges, flexibility is key, and understanding your best options at any given moment is crucial. Evaluating the Board State at the Start of the Game to Decide on Strategy 1 market of each kind 3 and 4 directional tiles By default, seek market tiles of each kind (greenyellowred) providing 2-3 coins to quickly form 3 different markets for 6-9 coins. Two-markets-in-one tile and affordable market tiles are also viable. The 3-different-markets meeple spot offers the best VP-to-cost ratio, as it requires investment in only 3 tiles and costs no dice. If acquiring these tiles is challenging, consider going for monument upgrades. In such cases, focus on 3 or 4 directional monument tiles or those combining monuments and market tiles to build both the fame and money tracks simultaneously.', 'For example, in the given illustration, consider 7 blue (since green Market is rare) and then either 5 Orange, 9 Green, or 7 Purple. This tile evaluation remains relevant throughout the game as you aim to build towards the bottom for the most rewarding outcomes. Deciding between sub-par 3 or 4 directional tiles (usually market tiles) and tiles that fit your monument upgrades will likely determine your chosen strategy, whether Heavy Money, Mixed, or Heavy Fame. Dice Management 3 karma dice River 3 color dice River Dancer 2 dice River 1-for-2 dice 1 dice Dice color matters only when building. Dice plays a crucial role in lubricating your VP engine. In order of preference, obtain dice through the following methods 1 River spot (1 die per karma) The uniform color aids in building tiles. 2 River spot (2 dice) is superior to 1-for-2 dice exchange because it advances the river track, providing better rewards and an extra meeple. 3 Updated Feb 24 Dancer While Dancer is more useful in the early game, it gradually loses its edge as you accumulate enough yield tiles. 4 1-for-2 dice exchange is usually better than acquiring 1 dice because more dice of the same color make building easier, and you get a free roll of the die you gave up. Think of it as receiving a new die, rerolling your die, and giving it a different color. Consider saving a die to acquire more dice, as this is typically the trade-off. With dice, focus on increasing both money and fame. Strategies for Resource Acquisition in Rajas of the Ganges How to Get Money - Different market spot - No. 4 - River spots - Connecting to the bottom of the board (longer than the top but more worthwhile in the long run) - 1 market (only worth if activating 3 or more) How to Get Fame - No. 4 then build monuments - Board - River spots How to Quickly Get Your 6 Workers New Section in Feb 24 In the Advanced game, you start with 3 workers and can unlock 3 more by advancing on the Money, Fame, and River tracks. Rushing for 6 workers is beneficial, outweighing the drawback of yielding tiles to opponents. This is because 1 worker is minimally worth 1 die, and the benefit of yield tiles diminishes as opponents acquire more. River is your good friend - If you have a good Money set-up (3 different markets), focus on river spots giving fame - If you have a good Fame set-up (min. 3 monument upgrades), focus on river spots giving money While its preferable to get 3 markets and then focus on fame for the extra worker, circumstances may not allow this, usually due to tile constraints. In such cases, focus on fame but make a conscious effort to obtain all the Money bonuses on the river. Anticipate whether your opponent is using the build or river locations and try to beat them to it or delay your visit to these locations until the next round if there are no compelling reasons to visit this round. The goal is to secure the worker on the Money track. The river is an excellent place to utilize low rolls and can yield various rewards. Climbing it strategically for the rewards you need (usually dice fame or money) is key. The Portuguese (6) turns out to be more useful than perceived, particularly when moving up the river without 6 is challenging. Keep this in mind when deciding whether to use the 6 dice to build tiles or ascend the river. 6 can also be a good option when landing on the river reward that allows you to pick one of 1 - 5 bonuses. What Yield Tiles to Pick New Section in Feb 24 Ensure you have a good Brown end-game yield tile - Based on my observation, players prefer taking yield tiles in this order RedBrown YellowWhite. - Starting with a bad brown yield token can be detrimental, and players should quickly exchange it for a good brown yield token. Only the bolded tiles below consistently provide 6 or more fame.', '1 fame per 3 river spots 1 fame per worker 1 fame per market 2 coins per monument upgrade 2 coins per tile connected 1 coin per building 2 fame per bend', 'For white, yellow and red yield tiles, - If you have a weak Money engine, pick Money - If you are approaching the yield tile soon and lack dice, pick dice Others (Base Game) the most optimal way to build is to go down the center and build both ends - The bottom rewards are significantly more potent. Consider this scenario (and how you should generally build in the base game)', '4 Fame 7 money or 6 money 8 Money. If lacking dice, consider taking a detour to the 2nd bottom row first, as it is more valuable than going down the sides where you get 3 dice before reaching your rewards. - For the Advanced mode, route choice is flexible; pick a route that aligns with what you want to build. Withhold building to punish opponents for acquiring dice in the color of the tile you want and can get - This is an advanced consideration when players have a good sense of whether a given tile is sought after by others. Otherwise, its generally better to buy a tile first, see what that tile is, before obtaining dice to better adapt to the available tiles for purchase. Parting Remarks Critics have pointed out Rajas of the Ganges for being scripted on a strategic level, but the games essence lies in tactical decisions. Its 80 tactical, akin to navigating a maze in the fog. The fun lies in assessing the most likely path based on limited information. I hope this guide aids those striving to enhance their gameplay Addendum As nandblock rightly points out in the comments, the Master Builder is often overlooked. There are a few advantages to it, namely Converts dead ends to live paths (translating to creating dead ends for yield rewards and then over-building to continue the path) Provides the ability to snag a tile if you lack enough dice of the same color to build conventionally Saves coins. I have used it effectively too. Note that these advantages must be weighed against not advancing your path (since you are replacing and not adding a new tile). Some players use their 1 dice to get the Great Mogul (1). I think this is not worthwhile because most river spots are worth more than 2 fame, or it can be converted to a 6 for Portuguese or building tiles. I will probably only do it if I need the 2 fame to get my fame worker The leading player is 2 or 3 seats after me AND the player seated after me does not threaten me The next round will be the last round The player after me always picks the Great Mogul Update in Feb 24 In 2-player games, I have been humbled by players frequently picking the Great Mogul. The Great Mogul can be a very good pick if both players have developed their 3 markets. Lets say both players can get 6 coins from the spot, the Great Mogul can represent a 12-coins swing (6 to you, -6 to your opponent). This is also very good if it would help you or stop your opponent from getting a reward on the Money track. That said, you still have to weigh it against advancing 1 river step or converting to 6 for Portuguese or building tiles.'], 'texto_video_review': \"hello and welcome to Maple Mentor reviews I'm Jared and with me is Holly today we're reviewing rajas of the Ganges this game is from Hutch and R&R games and it's for 2 to 4 play in about an hour to hour and a half recommends ages 12 and up and this is a worker placement game set in the you know the the India River Ganges setting and you are all trying to gain wealth and fame as a exerting your influence over the region now you have three you can get a fourth or did I start with three get fourth you start with three workers you can gain up to two more but there's three ways that you can gain workers there's this is a game with two tracks around 1:00 and then a Fame on the other side and so they run parallel to each other in opposite directions and allows you to basically have this kind of race to increase your phone so that your two tokens will meet for pass and that's the race the end and whoever surpass their tokens the farthest wins the game so you know if you want to just kind of add up how many spaces do you have it is a worker placement game but there are a lot of dice in this game which are essentially used for resources the four colors of dice can be used for certain to pay for certain places to go like it might say pay an orange to go here and then it'll give you two purple dice back something like that or there is a section of the board called I think the palace where they're numbered 1 to 6 and you would spend one of your dice collected of that matching number to place a worker there there's also the purchase area where you can go and pay money to go there and then you collect a tile from those face up and available in the market there's three stacks for each color so 12 stocks and you have to spend the the right color dice that match what's showing on the tile and the value of that guy on the tile you have to have at least that many Pips on the dice you spend you can spend more than one die as you might need to specially if it's like a value 9 0 I have one two or three to advance the boat that number spaces and where you land that's where you collect the benefit and one of the ways you can gain a new worker is by moving your boat for far enough on the river to get to the bridge and you get a worker that way you can also get a worker for advancing a number of spaces on the income or up to a certain point on the same but you can only ever get two more so Holly what are some things that you like about the game I like trying to make a pattern on your own player board making Pathways to get bonuses that will either help you through the game or in the end of the game I enjoy the function of being able to trade one color of ice for other colors that you may need it I don't know I really like dice certainly the colors in here are really bright and sparkly like they're translucent colored dice so you know if you like that and you like bright colors is this is great I mean it's always going to be bright colors and rolling like trying to put together different you know it's different symbols on a card but you got to get this or you got to get three different ones or whatever for x amount of points on my personal space over here so pretty much you're going to have a lot of options with all the values that you'll end up rolling but if there's a specific space that you're trying to get to or thing that you're trying to do and you've got the wrong numbers and things like to its opposite side so it turns one into a 6 for example or vice versa so that can be very useful to help both find you know the specific space on the palace you want to go to or if you're trying to get a high value to buy a tile or something like that the karma is a good feature and it's a bonus that you can gain with certain actions so you know you get it back yeah it's a lot of fun I like how it looks and you know plays pretty pretty pretty smoothly it just keeps going around and around until well there is the first player token so we do around but the first player token doesn't move unless someone take it as a lot of these games this is a unique kind of game and if you like tile placement it has that as well and collection of things it's you know it came out in 2017 and still plays great today so definitely check it out \", 'reviews_foro': [['This is my first review for BGG. Ive really enjoyed Rajas so far so it seems like a great game to start with! I love midweight Euros and a big appeal of this game for me was the stated 60-75 minute play time. I often play games with coworkers at lunch and we have an hour to play. For that reason, I dont get to play heavier games like Great Western Trail very often. Games that have seen regular play lately include Rajas, Tiny Towns, Tournay, Jaws, Res Arcana and Century Spice Road. I bought Rajas of the Ganges a few weeks ago after months of delayed gratification... its been on my wishlist for a while. Ive spent a fair amount of time traveling in India so the theme was automatically a win for me. The art and components are fantastic. 48 dice of varying colors, wooden meeples, nice thick tiles for province building. I also really love the Kali component for storing dice. The only component Ive found lacking is the player 1 elephant - sure, its cute, but it easily falls apart. This is nitpicking, though. I have played this game at 2, 3 and 4 players and have loved it at all counts. Turns go fairly quickly. Interaction is indirect but theres a fair amount of tension due to the competition for building tiles and placing workers. I always find myself paying attention to the turns of others. Rajas also combines dice rolling, tile laying and worker placement in an extremely satisfying combination. The worker placement vibe gives me a Lords of Waterdeep feel, which is a big positive. Players start with 3 workers but can unlock up to two more, so all players are racing to get an advantage (however brief) where they get additional actions in a turn. The tile laying comes into play when building out provinces that include markets (for money) and monuments (for fame) - plus reaching certain spots leads to bonuses. This adds a nice, classic Carcassonne vibe. The individual player boards for provinces are excellent and the rules for building out provinces are simple yet engaging. The dice rolling aspect is also excellent. I hate luck-based games and Im generally not a fan of dice. Games like King of Tokyo bore the heck out of me. However, I love games where I can mitigate andor manipulate dice, and this is one area where ROTG really shines. Dice are rolled as soon as they are acquired. I am almost always excited by what I roll because I have so many options. Low rolls can be turned to high rolls by using karma (and high rolls are desirable for gaining buildings). However, low rolls can be desirable in their own right - for instance, the dancer can only be activated with a die roll of 2 (which results in 2 fresh dice to add to a players pool along with a bonus tile) and the yogi is activated with a die roll of 3 (a free die plus 2 karma). Each player also has a boat on the river that can be moved only with a roll of 1-3, triggering special bonuses. In the rare instances I get a mediocre roll and find myself stuck, its generally because I havent done a good job replenishing karma. My gaming group have found multiple strong strategies for winning this game. Being resourceful with dice and balancing fame and money are all important. Also, everyone Ive played with so far (4 other people plus myself) have all really liked this game. Best of all, this game can be played in about an hour. I played a 3-player game a few days ago that was tense, thinky and immersive and led to all three players nearly winning the game despite the fact that we all pursued drastically different strategies. I was amazed that we completed the game in an hour. It felt like wed played a meatier game, which is a huge plus for me. As much as Id like to bring a big ol Euro to the table at lunch, its just not an option for us at work! I give this game a 9 out of 10 (and I havent given any games a 10 just yet, so 9 is as high as I go). Highly recommended!'], ['Plays 4 at player counts 2 3 Appearance The front of the box shows a beautiful landscape and river with a deity holding dice and is full of colour and detail. The back of the box shows a 2 player game in progress showcasing the majority of the components and gives a description of the theme of the game. The game has a good insert which holds the components well and makes setup a lot quicker. The player boards are well laid out but a little bland until you lay tiles on them during the game. The tiles are more detailed with various spices and buildings, along with a large number and colour to denote what they require to be built. The wooden coloured player components are easy to distinguish from one another and include some shaped meeples along with some bland cubes. The main board is a particular highlight of the components, it is very colourful and detailed and doesnt look overwhelming. Finally the dice are very good quality in bright colours with a nice weight to them. Gameplay The aim of the game is to make your fame and wealth track markers intersect one another, these run in parallel around the board in opposite directions. When a players 2 markers intersect the end of the game is triggered, with the player with the biggest difference between the 2 markers winning if multiple players tokens intersected. Each turn players will place workers, pay any costs associated with the spot and carry out the action listed. These costs vary from moving back on the money track to paying a specific colour or numbered dice. Players will continue to place workers until all workers have been placed and the board will then reset with players collecting back all their workers and the next round can begin as long as the end game hasnt been triggered. There are 4 main different worker placement areas the quarry, market place, palace and harbour. Using the quarry worker area you can build a province tile into your personal province. There are 12 different province tiles on offer at any time, 3 for each different coloured dice. Your must pay the listed money cost when placing your worker along with matching coloured dice of equal to or greater pip value than the tile you are acquiring. You must place these tiles with a direct path back to your starting palace on your province. You gain any yields that you connect to on the edge of your province and receive the money from any markets on the tile. You also receive fame for any buildings on the tile based on your position on that buildings scroll track on the main board, so between 2 and 4 fame. There are various actions and bonuses on the board that allow you to move up on the 4 building scroll tracks. The market worker area allows you to collect income from the markets in your province, either from the same type of market or different ones. When activating the same market you must pay a dice and can only activate as many markets as the pip value of the dice. The palace has 3 main areas the terrace, balconies and the chamber. In the terrace and balconies you can either collect a specific coloured dice of your choice or trade one coloured dice for 2 of a different coloured dice. Whenever you collect dice you roll them and place them onto your Kali statue if you have room. You can always spend karma (if you have it) to flip a dice when you need to pay a cost. In the chambers you can spend a dice of a specific number to activate one of the characters for a specific action. These include gaining dice, karma, scroll movement, taking first player and building over province tiles in your area. In the harbour you can move your boat 1 to 3 spaces on the river and take the listed bonus on the space you end your movement on. The amount of spaces you move depends on the value of the dice spent. Boats cannot be on the same space and you simply skip spaces opponents boats are present on. The bonuses are very similar to the other actions on the board but towards the end reward dice, money or fame based on a condition such as number of karma, scroll movement or markets built in your province. You start the game with 3 workers but can unlock up to 3 more from the fame, money and river tracks when your corresponding marker passes them. Play continues until the end of the game when one players score markers intersect. Play continues until every player has played an even number of turns and then the winner is determined. The turns flow very naturally in this game with simple to resolve actions and costs to pay. The game plays 2 to 4 players and an unofficial solo automa is also available on bgg. Theme and Game Length The game has a good theme, different to many other Euro games of this weight but it doesnt really come through in the actions you are performing. Why are you trying to get wealth and fame to meet, who are these characters and why does the river give the bonuses it does. Gaining workers makes slightly more sense as when you get more famous on the 3 tracks more people are willing to work for your province. The game doesnt drag at all and is actually quite fast for the level of decisions offered. The game scales well with 2 different sizes of the board to tighten up the worker placement spots. The game takes about 20 minutes per player which is very good considering the weight of decisions you make. Strategy There are two main ways to score points in this game, wealth and fame. It is very hard to just work on just one of these and win so over the course of the game you will be earning both. Players will differ in their overall strategy but there is only the one way to win, intersecting your markers. A focus you must have is to get more workers as quickly as possible. The two workers that can be unlocked on the wealth and fame tracks are the easiest to obtain. The wealth track also offers multiple other bonuses so is the track you should target at the start of the game. If other players have more workers than you for too long you have no chance of winning with the yield tiles offering too little in compensation for the worker placement actions they are taking. Each fame is worth 2 money so this obviously looks more appealing to try and race up but without the track bonuses this shouldnt be an early game focus. Instead you should look to increase your scrolls for the 4 building types. If you specialise in one or two building types other players may build tiles with that building type to prevent you from building it. Also with 4 different building types the tiles that may come out may not be the ones you get extra fame for so its probably best to spread your scroll movement out. A space that you cannot underestimate is the space to activate up to 3 different markets in your province. You want to make sure to build 3 different high value markets as soon as possible to take advantage of this space. This spot (or spots in the 34 player games) is usually the first spot players go to at the start of each round from the mid game onwards. It costs no dice and can yield anywhere from 3 to 9 money which is better than any other spot due to having no costs. Activating multiple markets of the same type can also be good but requires a lot of the same market to be built which depends a lot of the tiles that come out. Many of the spots cost dice of various values with every value having a potential good use. If you get lots of high value dice you should be using these to build tiles, trying not to waste too much pip value. The lower value dice can be used for some of the characters or more likely the river. The river is sort of split into two halves by your unlockable worker with the first half offering small bonuses like dice, scroll movement and fame. The later half offers powerful one off bonuses like activating multiple markets or gaining fame and money based on a condition. It is perfectly viable to skip most of the early bonuses and plan to maximise these powerful one off bonuses instead. With so many spots costing dice you always want to make sure you dont run out. You should never take the terrace actions to gain one dice as it is so inefficient and should instead look to use bonuses to acquire dice or trade one dice for two. In the higher player count games you also want to make sure you are not 3rd or 4th in turn order for long due to some worker placement spots being clearly better than others and you can really fall behind if you are not careful. There have been some runaway leader problems in the games that I have played of this. During the mid game it became obvious who was going to win generally because of the market setup they had on their board. This meant one worker could gain them 6 12 money with each action which was much stronger than the other players. Newer players will struggle with experienced players with both tracks to manage and not being able to distinguish which worker placement spots are better than others. The game has modest replayability as you are aiming to do the same thing each time and the way the tiles come out and what dice values you get will change each game. The game also comes with several modules which significantly help replayability and make the game better in my opinion with ways to customise your province. The game can end very suddenly and can be difficult to plan for so you need to be building towards the end of the game constantly. Accessibility The game is light to medium weight with simple to perform and resolve actions but some setup on your province tile required to do well. There is also some consideration needed for when and where to place your workers to maximise their benefits. The game is very easy to teach with obvious iconography and the main board layout also helps. The rulebook is excellent, very clearly laid out rules with multiple examples and text descriptions of each worker placement spot. The game takes up a decent amount of table space with each players province, the main board and places for tiles and dice. Final Thoughts Rajas of the Ganges is a good next step worker placement Euro game with simple to understand rules and great components. The game has good flow to it with your points increasing steadily before exploding towards the end. One of my main problems is the market space on the main board especially the activate 3 different ones in your province. This is way too strong due to having no cost and makes first player way too powerful in this game with players needing to shift it multiple rounds in a row to mitigate this. I really like the scoring in this game its fairly unique and offers different considerations unlike normal Euro style games. I also like the fact that all values of dice have uses in this game so even though low numbers arent good for building you can use them on characters and the river or to trade. A solid light to medium weight game. 710 If you enjoyed this review please leave a thumbs up and also think out about checking out one of the 120 reviews available on my blog (with pictures), Silver Duck Reviews, and subscribing to let you know when new reviews go live.'], ['I have only played Rajas once at 2p and I must say that I found it to be an utterly underwhelming and overly frustrating experience. The problem with Rajas is that it overwhelmingly relies on luck. Not the sort of fun luck youll find in Camel Up or Quacks of Quedlinburg but the sort of luck that makes you wanna flip the table. There is no question that the most important aspect of the game is your personal player board. This is your engine that drives your money and karma production and if it isnt impressive, youre simply not gonna win. How does one make an impressive player board? With lots of dice pips, which means you either need a lot of dice or to roll well. If your opponent rolls better that you or happens to pick up all of the bonus tiles that award extra dice they will leave you for dead, and thats exactly what happened in my game. Sure there are ways to mitigate poor dice rolls with the use of karma but it just isnt enough as karma itself is costly and hard to come by. In my game I never felt like I had a chance of winning, yet I feel like I played as well as I could have with what I had. I absolutely do not feel that I had any chance of winning the game with my dice rolls and bonus tiles draws when compared to my opponents. My choices just seemed to have little to no agency; all the agency was in the dice rolls and that just isnt fun for me There are some interesting ideas in here, but thats about it. The interacting famemoney tracks seem interesting at first glance but when you really think about it it turns out that it couldve just been one track, not two. If something were to award you with one fame, it couldve just been two dollars (or rupees) to the same effect. Sure, there are bonuses to be had as you progress along the individual tracks but that only serves to force you to attempt a little bit of everything and dis-incentivizes focusing on one particular strategy. Overall, Rajas is a very generic, bland euro game with far too much dependence on luck. In my game it never felt like I was playing against my opponent, but rather I was playing against the game and the game was being much, much nicer to my opponent than it was to me. I would be hard pressed to play this again.', 'Totally the opposite of every play Ive had of this, including my first. The game has less luck than a lot of games using dice. Some spots can only be visited with low rolls and many of them are powerful. Maybe you just dont understand the game and cant figure out how to value what those options are? Whatever the reason, its not the games fault. Raja is a top 10 all-time game for me and is likely to remain that way.', 'Rajas was such a hit with me, I play against a difficult automa I printed cards for and have played multiplayer. There were always things to do with different dice, high or low, and everything is cleverly put together. So you have only played once at two player, have you played any other ways? Maybe it was just a really unlucky game and your opponent was luckier and also stole the areas youd want, before you. If there was only one track it wouldnt be that much fun.... A lot would seem odd too, spending money to gain more money? Fame and crossing on the track make it more fun. The Dice Charmers version of this game is also super fun. I always wrote this off since I am a solo player, but always wanted the game. So glad I found the automa and then did end up recruiting newbie type gamers. Easy to teach and understand. This game instantly jumped into my top nine. What are some games you love, so we know if it is even your style? To each their own of course!', 'I know that some of the low dice-roll spaces are valuable, but not nearly as valuable as buying good tiles. I doubt one could ever win this game with consistently low die rolls.', 'Maybe it was just a really unlucky game and your opponent was luckier - exactly my point.', 'Maybe it was just a really unlucky game and your opponent was luckier - exactly my point.', 'Ah yes, but dice rolling isnt often so perfectly one sided, so my point is that your first experience is more of a fluke than an actual measure of how the game usually plays. I mean, of course its your right to dislike it and find is disappointing. I just think your first game sounds like a fluke. The game is usually tight and not such a runaway winloss.', 'Also it does seem very Euro-introductory, but I love the simplicity and easy to figure out iconography. Easy to teach to newer gamers interesting in expanding. I also love the roll of dice. Maybe one of the goodies boxes would fix the problems you are having. I am going to look closer at them for myself.', 'The problem with Rajas is that it overwhelmingly relies on luck.', 'No it doesnt. Its a dice-driven game, and like all dice-driven games there is an inherent amount of randomness (or luck as you call it). But overwhelmingly reliant on luck? No, because there are multiple ways to mitigate dice values that arent working for you, and Karma is just one of them. You have one particular dice that isnt working for you? Trade it for 2 other different colored dice and get a fresh roll. There are good spots for low value dice rolls as well as higher value ones. As for building up your player board, start modestly and work your way up - the default presentation of the tiles is very even and fair in that there should always be something you can afford to build. It may not be the perfect tile for you at that given moment (it rarely is) but a creative player should be able to find a way to make something work.', 'I would be hard pressed to play this again.', 'Thats too bad. It really is a terrific game but if youre confident that one play was enough to put you off for good, then it is what it is.', 'I know that some of the low dice-roll spaces are valuable, but not nearly as valuable as buying good tiles. I doubt one could ever win this game with consistently low die rolls.', 'It took me a bit to figure out how to finagle this scenario, but the key is karma and the river. If you can time out your karma right, you can snag a bunch of low value tiles to get your bonuses. The two space is also seriously useful in these scenarios since you can get up to three dice of your choice. Additionally, dont feel bad if you take the re-roll action, its not great, but a bit of cash in your pocket and a better roll can be a good thing. Weirdly enough, I tend to struggle with consistent high value rolls, particularly in early game.', 'The problem with Rajas is that it overwhelmingly relies on luck.', 'No it doesnt. Its a dice-driven game, and like all dice-driven games there is an inherent amount of randomness (or luck as you call it). But overwhelmingly reliant on luck? No, because there are multiple ways to mitigate dice values that arent working for you, and Karma is just one of them. You have one particular dice that isnt working for you? Trade it for 2 other different colored dice and get a fresh roll. There are good spots for low value dice rolls as well as higher value ones. As for building up your player board, start modestly and work your way up - the default presentation of the tiles is very even and fair in that there should always be something you can afford to build. It may not be the perfect tile for you at that given moment (it rarely is) but a creative player should be able to find a way to make something work.', 'I would be hard pressed to play this again.', 'Thats too bad. It really is a terrific game but if youre confident that one play was enough to put you off for good, then it is what it is.', 'Yeah, these are all somewhat valid points, but if Im having to take all these actions trying to get more dice and reroll my low value dice while my partner is not then Im inherently at a disadvantage. Not to mention that they consistently picked up extra dice with the 2-pip die action while I was getting the less-useful bonuses. It was not a level playing field. Maybe its just a me problem though because I dont like luck in my euros. And you may call it randomness, but I definitely call it bad luck when I pick 4 dice and roll thee ones and one two when Im specifically in need of high numbers, and have already used up all my karma on my earlier lousy rolls.', 'My experience with the game is the opposite of the OP. We bought it shortly after we played it. We enjoy dice rolling games, even when we roll bad (my wife is the queen of bad rolling), but she enjoys this one with me. Too bad you (OP) didnt like it, but to each his own.', 'Thanks for your post. Always good to read a less favourable but well presented opinion. I enjoy Rajas, but for me the strength of the markets and getting the right dice to grab a set is more of an issue than simply pip value. Markets can be really strong and theres this forced tension of feeling like you have to get market sets otherwise someone else will and theyll spin up an engine and pull away. Rather than have other directions to go in. It comes up in various threads and Im not sure Ive ever been completely satisfied by the arguments that the game is fine as is. So I find it hard to grab it off the shelf. The problem may be mine. I tend to play games in a way where I avoid strategies that look obviously strong. I dont know why, but I just dont want to be doing the obvious moves all the time because then I dont really have any agency. Its scripted. The last few games of ignoring an obvious market grab have left me way behind the pace, watching people accumulate money quickly whilst my engine stalls. The argument seems to be that Rajas isnt a game of diverse strategies. Its a game of balance. Sometimes you have to take those tiles because otherwise you are being suboptimal and leaving a great move for someone else. And I guess I should play with that mindset and enjoy the tension around the scramble for good tiles. But to bring this full circle, therein lies the luck part of the game for me. If a great tile comes up and I convert one dice to two of the colour I need and I get low values, its taken too long to nab the tile before someone else snaffles it. Sure theres karma and keeping a good dice pool, but as the OP alludes to, sometimes it feels like youve been situationally shafted when it really does matter that you roll high. All of this does make me want to play it again though lol', 'I enjoy Rajas, but for me the strength of the markets and getting the right dice to grab a set is more of an issue than simply pip value. Markets can be really strong and theres this forced tension of feeling like you have to get market sets otherwise someone else will and theyll spin up an engine and pull away. Rather than have other directions to go in.', 'In my opinion, this is a bit of a problem and people often make weak arguments when dismissing it that dont really hold up in practice. I think the main issue is that there are a lot of opportunities to use your markets over and over again while simultaneously making the action stronger every round, but not that many opportunities to make your building scoring ramp up in the same way. You can counter it a little bit by blocking market spaces, but this can also be to your detriment because you effectively lose a turn if you arent also going for markets. I found that some of the mini-expansions fix this issue by simply introducing more options to upgrade your building scoring throughout the game. They also mix in some powerful tiles that make the other player think twice about blindly going for the high value market tiles, because then they might leave you a tile which has good synergy with fame scoring, leaving you to create a similar runaway scenario like they are trying to do with their high value market tiles. Ive already played one three-player game where my opponent completely ignored me while building his wealth engine, and in the final two rounds I ran nearly two-thirds of the fame track and won by a landslide.', 'I have to disagree. There is a constant flow of dice and I cannot see how you can be unlucky all the time. There are 2 powerful strategies going for markets or going for buildings. In a 2 player games if you go for the opposite of what your oponent is doing or focus on one of those strategies if your oponent is doing a little bit of both you have many chances to win. You need to use wisely your buildings and your workers. I will give you that sometimes you run out of dice and luck, but you have to build up your engine and understand that your oponents will also eventually run out of dice and luck. I mean, you roll tens of dice in this game, it is statistically impossible to always run out of luck. Seems to me that you have to give it another chance and find a strategy that fits your play. In the end if you lose by a little bit for a bad roll at least you had a great time competing.', 'My take away is that you should stay away from games with dice.', 'Well thats good advice to avoid disappointment, but is a case of throwing the baby out with the bath water. Theres a whole spectrum of how much the dice in games can affect the outcome. At one end would be something like roll a 1-3 you lose, 4-6 you win. At the other would be a game where the dice create chaos but in a perfectly balanced way. I agree that Rajas is more to the latter end, but I do think that my biggest gripe (the importance of being able to get the set of market tiles) is exacerbated by needing certain values of certain dice at the right time. If the markets felt a little less required then Id be way more willing to accept that enough dice are rolled that whoever navigates the chaos, by whatever route, is more often than not the worthy winner. So in my view the dice arent the problem per se, but combined with the requirement for certain values at important times, they can cause frustration, exactly per the OPs reference to the player board engine. This is a light to medium euro though, and for many all of that isnt going to hamper their enjoyment. Like I said before, all this does have me thinking I should give it a run again. And try to suppress my need to not be cheesy. It could be my bloody minded refusal to do the obvious thing in the hope theres more divergent paths thats the issue. Maybe its just a narrower game than I wanted it to be and preparing for those tiles and exploiting them, along with all other players trying to do the same, will create the natural balance im looking for regardless of dice rolls.', 'If you think the game is all about the player board and only high dice rolls matter than you are not analyzing the game deep enough. You are just looking at what on the surface level of what you think is most important. The river bonuses and palace spots are very strong. The two tracks are different because they have different bonuses along the way. Money gives you a lot of bonuses throughout the game. Fame gives you additional ability to get fame early on and access to another worker. The way you play against the opponent is to look at their board and colorvalue of dice and use that to anticipate what they may be trying to do. Then either get there first or play around it.', 'Rajas is one of my favourite games. What I like about it is that you still have options if you get low dice values. The number Two palace spot is very strong as is the river. Also you have Karma to mitigate the dice you get. Dont forget tile overbuilding which can be very strong in certain circumstances as you only have to pay the difference. For the different market space you dont even need a dice. It shines at higher player counts.', 'rizzou No, you are right, and I certainly dont think its only about high rolls. Nor do I think the player board is the only consideration. I get the variety of options, and i know the river can combo very nicely with other stuff. I have sympathy for the OP, even if I dont agree entirely. From around a dozen plays, mostly 2p but not exclusively, in the vast majority of games the player that exploited the assorted market the most won. Thats my issue. So subjectively, but with some supporting data, tiles that provide a variety of market goods of 2 or 3 coins each are more important. And they require certain dice colours and values. And therefore there will be occasions where I have to spend a couple of turns working to get the dice pips I need to get the tiles I really want, and I dont get them. In a 2 player game that can be swingy if you miss and they hit. The OP had quickly identified situations where they wanted certain values and were frustrated not getting them. I agree that in many of those situations there were probably equally good options away from building tiles, but Id also bet some of those situations were where they wanted those juicy market tiles and our thoughts on the game align. grandpawizard had said theres rarely a runaway winner and again thats not my experience where one player is able to get ahead with those markets. Many times I was happy to call the game 23 of the way through because it was crystal clear who would win. But some of this is personal taste. A lot of people love this game. And I have enjoyed the puzzle at times even though I felt it was a touch flawed as a competition. Just the other day I was reading Carolines recent blog post (subscribe if you havent already people!) where Rajas got a good mention. I for example really enjoy Spacecorp, a game that takes 2.5 hrs and has objectively bad tile draws. Why am I ok with that and less inclined to let it slide here? Who knows? We are a funny bunch! CarolineBlack - perhaps player count is part of the problem. I only had a handful of games at higher counts and pretty much every one of those games had one or two new players. Maybe the game needs players to know about, and to fight for, the market goods tiles to spread them around and keep those who dont get them in touch. Much in the same way auction games often dont work if one or more of the players are inexperienced and throw out the balance.', 'Thanks for your post. Always good to read a less favourable but well presented opinion. I enjoy Rajas, but for me the strength of the markets and getting the right dice to grab a set is more of an issue than simply pip value. Markets can be really strong and theres this forced tension of feeling like you have to get market sets otherwise someone else will and theyll spin up an engine and pull away. Rather than have other directions to go in. It comes up in various threads and Im not sure Ive ever been completely satisfied by the arguments that the game is fine as is. So I find it hard to grab it off the shelf. The problem may be mine. I tend to play games in a way where I avoid strategies that look obviously strong. I dont know why, but I just dont want to be doing the obvious moves all the time because then I dont really have any agency. Its scripted. The last few games of ignoring an obvious market grab have left me way behind the pace, watching people accumulate money quickly whilst my engine stalls. The argument seems to be that Rajas isnt a game of diverse strategies. Its a game of balance. Sometimes you have to take those tiles because otherwise you are being suboptimal and leaving a great move for someone else. And I guess I should play with that mindset and enjoy the tension around the scramble for good tiles. But to bring this full circle, therein lies the luck part of the game for me. If a great tile comes up and I convert one dice to two of the colour I need and I get low values, its taken too long to nab the tile before someone else snaffles it. Sure theres karma and keeping a good dice pool, but as the OP alludes to, sometimes it feels like youve been situationally shafted when it really does matter that you roll high. All of this does make me want to play it again though lol', 'Well articulated. This is quite literally what happened to me. I just couldnt get a good market set!', 'My take away is that you should stay away from games with dice.', 'There are plenty of games that I love that use dice well. Most notable Castles of Burgundy, which may not be a perfect system but does offer much better ways to mitigate bad dice rolls.', 'rizzou No, you are right, and I certainly dont think its only about high rolls. Nor do I think the player board is the only consideration. I get the variety of options, and i know the river can combo very nicely with other stuff. I have sympathy for the OP, even if I dont agree entirely. From around a dozen plays, mostly 2p but not exclusively, in the vast majority of games the player that exploited the assorted market the most won. Thats my issue. So subjectively, but with some supporting data, tiles that provide a variety of market goods of 2 or 3 coins each are more important. And they require certain dice colours and values. And therefore there will be occasions where I have to spend a couple of turns working to get the dice pips I need to get the tiles I really want, and I dont get them. In a 2 player game that can be swingy if you miss and they hit. The OP had quickly identified situations where they wanted certain values and were frustrated not getting them. I agree that in many of those situations there were probably equally good options away from building tiles, but Id also bet some of those situations were where they wanted those juicy market tiles and our thoughts on the game align. grandpawizard had said theres rarely a runaway winner and again thats not my experience where one player is able to get ahead with those markets. Many times I was happy to call the game 23 of the way through because it was crystal clear who would win. But some of this is personal taste. A lot of people love this game. And I have enjoyed the puzzle at times even though I felt it was a touch flawed as a competition. Just the other day I was reading Carolines recent blog post (subscribe if you havent already people!) where Rajas got a good mention. I for example really enjoy Spacecorp, a game that takes 2.5 hrs and has objectively bad tile draws. Why am I ok with that and less inclined to let it slide here? Who knows? We are a funny bunch! CarolineBlack - perhaps player count is part of the problem. I only had a handful of games at higher counts and pretty much every one of those games had one or two new players. Maybe the game needs players to know about, and to fight for, the market goods tiles to spread them around and keep those who dont get them in touch. Much in the same way auction games often dont work if one or more of the players are inexperienced and throw out the balance.', 'As you said, the game depends on players knowing which tiles are good and fighting over them. In fact, in a 2p game you have less reason to say you find yourself locked out of a good tile because the available tiles only change by at most 1 between ur turns. It should be apparent when your opponent will get the good tile before you (and you should plan for another good tile). Regarding the 3 market location, you have 50 first pick. Unless your opponent picked the 1 dice location which I dont find a good use most of the time because you can convert it to a 6 and jump 6 River spaces. Compelling to get markets, yes, but not OP. Yes runaway games are possible because this game is maybe 70 skill.', 'The market being over-centralizing to me is a feature of the game, not a bug. Many euro gamers seem to have the expectation that each path of victory needs to be perfectly balanced. But there is nothing wrong with having certain paths be more desirable and thus skew the game towards them. Particularly in a worker placement game where you can strategize and fight over it, it just adds a different dimension to the game rather than just letting everyone spread out and avoid each other.', 'My current rating for this game is 710 (Good Usually Willing to Play). Rajas helped my partner and I to try heavier euros because even though it is not a very complex game, it looks a bit overwhelming. It kind of demystified euros in our household. Good game, I have not tried the expansions yet, but I would like to.', 'Mango Village is okay. If u want to play a more forgiving game, try it. Those tiles require two dice of same number so even your double 1s can be put to good use. And also, the tiles are 4-way. I personally prefer a tighter game with trade-off between good market tile (low dice total but 2 or 3 way) and 4-way bad tiles.'], ['2-4 players 60-90 minutes medium Tile laying, worker placement Theme and Mechanics In Rajas of the Ganges, players are rich noble type people from India (please forgive my complete ignorance of Indian culture for this review, I am not well informed about this particular theme) and theyre working to improve their estate and earn the most money and prestige, fame, points, something like that to win the game. The theme really does come through, especially with the tile layingbuilding up their estates. Its hard for me to comment too much on theme and mechanics relating, because Im not too familiar with this topic, but it does seem like the mechanics are somewhat abstracted. It also seems like the setting could be changed without effecting game play, which makes the theme feel somewhat disconnected at times. Players each have an estate board with their palace on it, and several empty spaces, as well as a place to store dice, and 3 workers. There are 2 tracks around the outside boarder of the board going in opposite directions (money and fame). The player who can make these to tracks cross eachother the farthest wins the game. On their turn, players send one of their workers to one of several actions spaces (your standard worker placement rules) These actions are broken down into different areas that have similar effects; purchasing tiles for the estate, moving up the river track for various bonuses, gaining dice, gaining income, or using a specialist. Many of these actions have a money andor dice cost. The dice are used like resources. When they are gained, they are rolled and stored. There are 4 different colored dice that can be used for different actions in different ways. The tile laying action uses dice as a cost; each tile has a value and a color cost, and player must pay that many pips in that color to gain the tile. Moving up the river cost dice, the higher the number, the more spaces you can move. There are 6 action spaces (numbered 1-6) that require a specific number in any color to use, the marketincome space allows you to gain income from x number of markets (where x is the value of the die spent) and so on. There are also several action spaces that allow you to trade a die of one color for 2 dice of another color. There are several ways to manipulate the dice, and there are some good things you can do with bad dice rolls. The main focus of the game is the tile laying. Tiles will have markets (3 types) and buildings (4 types) that will score money and fame respectively when the tile is laid. The markets will also provide income when the market action is taken. The buildings will score fame based on the players progress on that buildings track. The tiles also dipict roads in various configurations. All roads must lead back to the palace in order to be legally placed. The perimiter of the player boards also have bonuses that are gained when a player connects the bonus to the palace with roads. each of the 3 tracks (money, fame, and river) offer a myriad of bonuses for certain points along the track (or every space in the case of the river) from improving buildings, fame, money, dice, karma (which is spent to flip dice over), bonus tiles, and extra workers. Art and Components This game looks fantastic. The board is absolutely beautiful, the box looks fantastic. All the art on everything in the game is stellar; very near to the best art in my game collection in my opinion. I have heard some say that the board looks very busy, and that that is confusing. I can understand that complaint, but I dont agree. It is far less confusing once you learn the game, and it just looks SO good. The quality of the cardboard tiles and board are standard good quality cardboard. There are no cards. The dice are bigger, translucent, good quality plastic dice with the rounded corners. The wooden worker pieces are cool looking, unique meeples, but Ive heard that they are not consistently cut, and my copy is no exception. Several of them are leaning (feet not cut straight) and one is missing half its head, and a friends copy had similar problems, but these issues are fairly minor. Theres a little multi-armed statue (ganesh? pardon my ignorance, again) that serves no other purpose but to hold your dice for you, but its really cool, and keeps the confusion low as to what dice are in your supply, and which were spent, and it just looks cool. Replability and Expansions The game is very replayable as is, and it comes with some variants and tokens to increase the variability; from changing the bonuses on the river spaces, to limiting dice storage (making the game more strategic), to changing the estate bonuses, and I would suggest using the variants in the rulebook right from the beginning for experienced gamers, because they increase the strategic choices in the game. There is one mini expansion,', ', which adds some unique tiles that came in a gaming advent calendar. I have no experience with this expansion, but as soon as I found out about it, I ordered it (which was literally as I was writing this review) The Up Side This is a very fun worker placementtile laying game. I think it combines those two mechanisms beautifully. It is very strategic, and all the pieces (mechanically) interlock very well. Its fairly easy to pivot strategies when necessary, and there is usually a way to figure out how to do what needs be done when your actions are taken by other players, but it usually takes some creative thinking. The game is absolutely gorgeous. The Down Side Im having trouble coming up with a down side. I guess I wish there were more tiles, or more variety on the tiles, like maybe an extra mechanism included in the tile laying portion. You wont go through all the tiles in a single game, but you also wont be surprised by cool new tiles showing up, because theyre all essentially the same (some roads, a building or two, or a market or two). Very minor complaint. Another complaint Ill mention, but do not agree with, is that the board is too busy looking. I wish it could play 5 players. Final Thoughts I absolutely love this game. This is one where Ill always be happy to play it, and Ill insta-buy any expansion sight unseen. Its the perfect weight and length, very little down time, lots of meaningful decisions and a unique scoring mechanism (which isnt really score at all) 9 out of 10 httpswww.coolstuffinc.commainsearch.php?pasearchOnName...']]}\n"
     ]
    }
   ],
   "source": [
    "import ast\n",
    "import pickle\n",
    "# pd_info = {\n",
    "#     'sections' : sections,\n",
    "#     'text_ref_rapida' : text_ref_rapida,\n",
    "#     'text_quick_guide': text_quick_guide,\n",
    "#     'text_automa_variant': text_automa_variant,\n",
    "#     'estrategia_portuguese': estrategia_portuguese,\n",
    "#     'estrategia_principiantes': estrategia_principiantes,\n",
    "#     'guia_competidores': guia_competidores,\n",
    "#     'texto_video_review': texto_video_review,\n",
    "#     'reviews_foro': reviews_foro\n",
    "# }\n",
    "\n",
    "# with open('./data/pd_info.pkl', 'wb') as f:\n",
    "#     pickle.dump(pd_info, f)\n",
    "\n",
    "with open('./data/pd_info.pkl', 'rb') as f:\n",
    "    pd_info_loaded = pickle.load(f)\n",
    "\n",
    "print(pd_info_loaded)"
   ]
  },
  {
   "cell_type": "code",
   "execution_count": 58,
   "metadata": {},
   "outputs": [],
   "source": [
    "sections = pd_info_loaded['sections']\n",
    "text_ref_rapida = pd_info_loaded['text_ref_rapida']\n",
    "text_quick_guide = pd_info_loaded['text_quick_guide']\n",
    "text_automa_variant = pd_info_loaded['text_automa_variant']\n",
    "estrategia_portuguese = pd_info_loaded['estrategia_portuguese']\n",
    "estrategia_principiantes = pd_info_loaded['estrategia_principiantes']\n",
    "guia_competidores = pd_info_loaded['guia_competidores']\n",
    "texto_video_review = pd_info_loaded['texto_video_review']\n",
    "reviews_foro = pd_info_loaded['reviews_foro']"
   ]
  },
  {
   "cell_type": "markdown",
   "metadata": {},
   "source": [
    "## Creación de base de datos vectorial."
   ]
  },
  {
   "cell_type": "code",
   "execution_count": 59,
   "metadata": {},
   "outputs": [],
   "source": [
    "# Cargar Universal Sentence Encoder\n",
    "embed = hub.load(\"https://tfhub.dev/google/universal-sentence-encoder-multilingual/3\")"
   ]
  },
  {
   "cell_type": "markdown",
   "metadata": {},
   "source": [
    "#### Pasar texto a chunks"
   ]
  },
  {
   "cell_type": "code",
   "execution_count": 60,
   "metadata": {},
   "outputs": [],
   "source": [
    "def chuncker(text):\n",
    "    text_splitter = RecursiveCharacterTextSplitter(chunk_size=400, chunk_overlap=30)\n",
    "    texts = text_splitter.split_text(text)\n",
    "    return texts"
   ]
  },
  {
   "cell_type": "code",
   "execution_count": 61,
   "metadata": {},
   "outputs": [],
   "source": [
    "chunk_reglas_generales = []\n",
    "## se agregan las reglas extraidas del pdf de reglas original\n",
    "for section, texto in sections.items():\n",
    "    if section not in ['OBJETIVO DEL JUEGO','CRÉDITOS', 'NOTAS','MOGUL LEXIGON', 'VERSIÓN NAVARATNAS']:\n",
    "        chunk_reglas_generales.append((chuncker(texto), section))\n",
    "        \n",
    "\n",
    "## se agregan las reglas extraidas del pdf guia rapida\n",
    "chunk_reglas_generales.append((chuncker(text_ref_rapida), 'reglas guia rapida'))\n",
    "\n",
    "## se agregan chunks guia rapida\n",
    "chunk_reglas_generales.append((chuncker(text_quick_guide), 'reglas guia rapida'))"
   ]
  },
  {
   "cell_type": "code",
   "execution_count": 62,
   "metadata": {},
   "outputs": [
    {
     "data": {
      "text/plain": [
       "[(['El jugador que haya sacado el valor más bajo en los dados se convierte en el jugador principal. En caso de empate, el último jugador que comió comida india. El jugador inicial colocará el elefante junto a su estatua de Kali y pondrá su marcador de riqueza en el espacio 3 en el track de riqueza. El jugador a su izquierda 4, el siguiente 5, y así sucesivamente. El jugador que vaya último comenzará',\n",
       "   'que vaya último comenzará con menos dinero. Coloca el tablero en el centro de la mesa con el lado correspondiente al número de jugadores (2 y 3 o 4). En una partida a 3 jugadores, cubre los e spacios marcadoscon l as losetas de coberturaPon los 48 dados junto al tablero de juego como reserva general. No es necesario Losetas de producción amarillas, rojas, y marrones (úsalas solo en la versión',\n",
       "   '(úsalas solo en la versión Navaratnas) y las 8 losetas de río.Ordena las losetas de provincia, primero por colores y luego por los símbolos a sus espaldas (serpiente, vaca, tigre), así obtendremos 12 montones. Mezcla los 12 montones por separado y colócalos boca arriba junto al tablero, visibles para todos. Mezcla las 8 losetas de producción blancas y ponlas en un montón boca abajo en el templo.',\n",
       "   'boca abajo en el templo. Cada jugador coge un tablero de provincia y los componentes correspondientes 1 estatua Kali, 6 trabajadores, 1 barco, 5 cubos (karma y mejora ), 1 marcador de riqueza y 1 marcador de fama, además de 1 marcador de beneficio para el track de riqueza. Pon tu estatua de Kali y tu tablero de provincia con los lados representados hacia arriba delante de ti . Pon 3 de tus',\n",
       "   'delante de ti . Pon 3 de tus trabajadores junto a la estatua de KaliPon 3 trabajadores en los espacios disponibles en los tracks correspondientes Fama 15, Riqueza 20 y en el río (puente). Pon tu barco en el espacio inicial del río. Pon tu cubo de'],\n",
       "  'SETUP'),\n",
       " (['El Juego se desarrolla en varias rondas, cada una de las cuales consta de varias etapas. En cada etapa, los jugadores, por turno - en sentido de las agujas del reloj, comenzando por el jugador inicial - podrá colocar un trabajador, pagar costes, si es necesario, e inmediatamente llevar a cabo la acción asociada. Este proceso continua hasta que nadie pueda colocar trabajadores. Después de eso cada',\n",
       "   'Después de eso cada jugador retirará sus trabajadores, y comenzará una nueva ronda. Los trabajadores podrán colocarse en la siguientes áreas del tablero de juego I.En la cantera, para llevar a cabo las acciones de construcción en tu tablero de provincia. II.En el mercado, para obtener riqueza a través de éstos, a lo largo de la partida. III.En el palacio del Gran Mogul, para obtener varios',\n",
       "   'Mogul, para obtener varios beneficios. IV.En el puerto, para avanzar en el río y así llegar a espacios de río que te otorgarán beneficios. En la cantera y en el puerto, los trabajadores se colocan siempre fila por fila de izquierda a derecha. En el mercado y en el palacio, se puede elegir cualquier espacio (desocupado) de acción. Mientras avanzas en el track de fama, riqueza y desarrollas tu',\n",
       "   'riqueza y desarrollas tu provincia, tendrás la oportunidad de obtener valiosos beneficios. Colocando trabajadores y relación a las acciones asociadas. La colocación de trabajadores siempre procede de la siguiente manera 1.Coloca el trabajador. 2.Pagar costes, si es necesario con riqueza yo dados. 3. Lleva a cabo la acción. Costes Dependiendo en el espacio de acción que coloques el trabajar, puede',\n",
       "   'coloques el trabajar, puede que tengas que pagar unos costes para poder realizar esa acción. Algunos espacios son gratis, pero en otros, tendrás que pagar con dados odinero. El coste de la acción viene indicado en el espacio en sí.Pagar dinero para realizar una acción Cada vez que tengas que pagar dinero para realizar una acción (por ejemplo, en el puerto o cantera), mueve tu marcador de riquezas',\n",
       "   'mueve tu marcador de riquezas en el track de riquezas como es debido, -1 espacio por cada moneda que tengas que pagar. Si tu marcador está en 0, no tendrás dinero y temporalmente no podrás llevar a cabo acciones con coste de dinero. Lo mismo se aplica a las acciones con las que tengas que pagar dados - si no tienes ningún dado (adecuado) no podrás llevar a cabo la acción aplicable a esta. Los',\n",
       "   'acción aplicable a esta. Los dados son el recurso más importante de este juego. Siempre que obtengas un dado del suministro general, tíralo inmediatamente y, con el resultado sacado hacia arriba lo colocaremos en una de las manos vacías de nuestra estatua de Kali (valores de 1 a 6). Atención! Puedes almacenar tantos dados como brazos libres tenga nuestra estatua de Kali - es decir, en el juego',\n",
       "   'Kali - es decir, en el juego básico solo podrás poseer un máximo de 10 dados. Si estás en una situación que te otorgue más dados, puedes coger menos dados o poner dados de tu estatua de Kali de nuevo en el suministro general antes de coger los nuevos. Si un dado de color está temporalmente agotado en el suministro general, no podrás coger el dado de ese color en ese momento. coste gratis 1 moneda',\n",
       "   'coste gratis 1 moneda 1 dado del color mostrado En cada espacio de acción solo puede haber un trabajador. Los dados nunca se colocan en el tablero, siempre en el suministro (general o personal)! Cantera Mercado Puerto Palacio 3'],\n",
       "  'TRANSCURSO DEL JUEGO'),\n",
       " (['Coloca una loseta de provincia en tu provincia y obtén puntos de fama yo dinero. Para desarrollar tu provincia, necesitas enviar trabajadores a la cantera. dependiendo del lugar donde coloques el trabajador, pagarás de 1 a 4 monedas del track de riquezas. A cambio, obtendrás una de las 12 losetas de provincia (todas las losetas de provincia que estén visibles estarán disponibles para su compra).',\n",
       "   'disponibles para su compra). En la parte superior izquierda de las losetas de provincia se puede ver el valor mínimo de dados necesarios con los que deberás pagar dicha loseta de provincia. Pon los dados que has utilizado para pagar de nuevo en el suministro general. El valor total de los dados tendrá que ser como mínimo más alto que el mostrado en la loseta. Al construir se te permitirá pagar en',\n",
       "   'se te permitirá pagar en exceso. Esto significa Para adquirir una loseta con valor azul 7, podrás pagar con un azul 3 y un azul 5, por ejemplo. Además de los costes, en las losetas también se representan caminos, edificios yo mercados. Una vez que se adquiera la loseta de provincia, inmediatamente tienes que colocarla en tu tablero de provincia. Ejemplo Rajesh, envía a uno de sus trabajadores a',\n",
       "   'a uno de sus trabajadores a la cantera. Él paga 1 de dinero. Entonces él pone 2 dados naranjas en el suministro general. Él toma la loseta con el 9 naranja y lo conecta a un camino ya existente en su tablero de provincia.'],\n",
       "  'ACCIÓN CONSTRUIR (CANTERA)'),\n",
       " (['Producciones especiales - Hay producciones ya impresas en el borde del tablero de provincia (simbólicamente son ganancias especiales debido a las relaciones comercias ya establecidas). Obtienes este beneficio inmediatamente cuando has conectado la loseta a tu residencia a través de un camino. (Ver abajo). Ejemplo Leila pone una loseta de provincia con una intersección. En ambos extremos la loseta',\n",
       "   'En ambos extremos la loseta se conecta con los dos beneficios adyacentes y se conectan a la residencia, a Leila se le permite coger cualquier dado de la reserva general y avanzar su marcador de dinero 5 posiciones. Por supuesto, también es posible colocar una loseta sin crear una conexión con el beneficio especial. En este caso , no obtendrías nada extra. Cuando agregues una loseta nueva a tu',\n",
       "   'una loseta nueva a tu provincia, anót ate inmediatamente el dinero yo fama . Algunas loseta s muestran una o dos carpas de mercado con ciertos bienes (seda, té o especias) de cierto valor; otras losetas muestran uno o dos edificios (templo, palacio, fortaleza o molino); y algunas loseta s muestran una combinación de ambas. Cuando agregues una loseta con uno o dos mercados a tu provincia,',\n",
       "   'dos mercados a tu provincia, inmediatamente recibe la cantidad de dinero indicado en esa loseta. Cuando agregues una loseta con uno o dos edificios, recibe inmediatamente 2, 3 o 4 puntos de fama por cada edificio, dependiendo d e dónde esté el cubo d e desarrollo de edificios correspondi ente a los pergaminos del tabler o central.'],\n",
       "  'TABLERO DE PROVINCIA'),\n",
       " (['Los 4 tipos de edificios que puedes construir en tu provincia se muestran en el tablero. Al principio del juego, tus cubos se encontrarán en el primer nivel de cada edificio . es decir, ganarás 2 puntos de fama cuando agregues una loseta de provincia con 1 edificio (o, del mismo modo, 4 puntos de fama si aparecen dos edificios). Las mejoras te permiten mejorar tus habilidades constructivas y ganar',\n",
       "   'constructivas y ganar 3 (o 4) puntos para un cierto tipo de edificio en las acciones de construcción posteriores. I. L L L X X X X X X X X 4Cada vez que añadas una nueva loseta de provincia, conecta el camino de la nueva loseta con uno de los caminos ya existentes, de modo que haya conexión con la residencia. Puedes girar la loseta nueva en cualquier dirección. También puedes orientar la loseta',\n",
       "   'puedes orientar la loseta de tal manera que corte un camino de una loseta adyacente; no todos los extremos del camino deben conectarse - es suficente con que cada loseta esté conectada a la residencia a través de al menos un camino. Una vez colocadas las losetas no se podrán reubicar más adelante. Ten cuidado de no cortar todos los caminos, para que siempre tengas posibilidades para colocar',\n",
       "   'posibilidades para colocar losetas.El tablero de provincia muestra tu territorio, siendo tu el Raja (soberano) que se esfuerza por controlar y expandirse por el territorio. Tu residencia está arriba en el centro. De allí salen 3 caminos hacia tu territorio.Puedes adquirir mejoras de Raja en el palacio renunciando a un dado de valor 4 (ver p. 18, La Salas). Además, hay un espacio en el río que te',\n",
       "   'un espacio en el río que te permite realizar una mejora. Y puedes actualizar un edificio automáticamente después de haber cruzado el bonus aplicable en el espacio 5 en el track de fama o conectando la producción especial de tu provincia. Cuando se te permita hacer una mejora, elige uno de los cuatro tipo de edificio y mueve tu cubo de desarrollo un espacio a la derecha en la fila correspondiente.',\n",
       "   'en la fila correspondiente. Atención! Las mejoras no cuentan para los edificios de las losetas que ya se encuentran en tu provincia, sólo para los edificios que se añadan después . Ejemplo Hay dos edificios en la loseta que Leila ha añadido . Ella avanza su marcador de fama 5 espacios, ganando 2 puntos para el templo y 3 puntos por el molino - que ella ya mejoró en un turno anterior. Ya que ha',\n",
       "   'un turno anterior. Ya que ha conectado una producción especial a la red de caminos y a la residencia mediante la colocación de de la loseta, puede - después de puntuar la loseta - coger otro dado de cualquier color y mejorar un edificio a tu elección.'],\n",
       "  'Las mejoras de edificios'),\n",
       " (['Recauda dinero para ciertos mercados de tu provincia Cada vez que envías a un trabaj ador a uno de los espacios de merc ado, generarás ingresos en los mercados establecidos de tu provincia. H ay merca dos con 3 t ipos de mercancías Tela Té Especias 2 tipos de espacios de mercado - Mercancías variadas - cuando coloques un trabajador aquí, puedes puntuar exactamente un mercado por tipo de recurso.',\n",
       "   'mercado por tipo de recurso. Ejemplo Hay 4 mercados en juego en la provincia de Rajesh - tres de ellos con un té y otro con una seda. Si coloca a uno de sus trabajadores en este espacio de mercado, podrá puntuar 2 mercados el mercado de la seda más uno de los 3 mercados de té. Por esto recibe 5 de dinero. -Mercancías de un solo tipo - cuando coloques aquí a un trabajador tienes que pagar con',\n",
       "   'tienes que pagar con cualquier dado. entonces podrás puntuar hasta un máximo de mercados iguales según el valor del dado con el que ha s pagado. Ejemplo Si Rajesh coloca a su trabajador en este espacio de mercado y paga con un dado de valor 4, puede puntuar los 3 mercados de té que tiene y obtiene 7 de dinero. Atención! En una partida de 3 o 4 jugadores, solo podrás colocar uno de tus',\n",
       "   'podrás colocar uno de tus trabajadores en el espacio para mercancías variadas, por ronda; es decir, si has colocado ya un trabajador en uno de los dos espacios de mercancías variadas el segundo ya no estará disponible para ti esta ronda. Solo podrá ser utilizado por otro jugador. Sin embargo, aún tienes la posibilidad de colocar otros trabajadores en el otro tipo de mercado. II. Símbolo de Mejora',\n",
       "   'II. Símbolo de Mejora 5'],\n",
       "  'ACCIÓN DE MERCADO (MERCADO)'),\n",
       " (['Renuncia a un dado, si es necesario, y obtén un beneficio. Cuando se coloque a un trabajador en el palacio del Gran Mogul, puede ser sin ningún coste o puede requerir renunciar a uno de tus dados - un dado de un color específico o un número exacto. El palacio tienes las siguientes áreas Terraza exterior (sin coste) Coge 2 de dinero. También puedes volver a tirar todos los dados que quieras de tu',\n",
       "   'los dados que quieras de tu reserva. La Terraza (sin coste) Coge 1 dado de la reserva general del color correspondiente. Ejemplo Leila coge un dado naranja de la reserva, lo tira y lo pone en su estatua de Kali. Los balcones (coste 1 dado del color específicado.) Renuncia a 1 dado de un color específico y obtén 2 dados de un color diferente. Ejemplo Rajesh da un dado azul (de cualquier valor) y',\n",
       "   'azul (de cualquier valor) y obtiene 2 dados naranjas; él los tira inmediatamente y los pone en su estatua de Kali.Las salas (coste 1 dado de cualquier color con un número exacto). Raja Man Singh - Renuncia a un dado de valor 4. A cambio, mejora un tipo de edifcio y ganas 3 de dinero. Maestro constructor - Renuncia a un dado de valor 5. Cubre cualquier loseta en tu provincia con otra del',\n",
       "   'en tu provincia con otra del suministro. Todas las losetas seguirán necesitando una conexión con la residencia. No puedes utilizar el maestro constructor si no tienes ninguna loseta o dado con el que pagar. Importante La nueva loseta tiene que ser más cara que la que reemplazas; solo paga la diferencia dando 1 (o más) dados del color nuevo del azulejo. Puedes pagar en exceso. Ejemplo Leila',\n",
       "   'en exceso. Ejemplo Leila renuncia a un dado verde de valor 5. Quiere reemplazar la loseta con el 4 de color naranja tapándola con otro loseta con el 6 violeta. Para ello, tiene que renunciar a un dado violeta con al menos valor 2. III. 6Gran Mogul Renuncia a un dado de valor 1. A cambio, obtendrás 2 puntos de fama y te convertiras en el jugador inicial en la siguiente ronda. Bailarina Renuncia a',\n",
       "   'ronda. Bailarina Renuncia a un dado de valor 2. A cambio, coge dos dados de la reserva y roba una loseta de producción blanca que se encuentre boca abajo. Gana inmediatamente el bono de la loseta (1 dado, 3 dinero, 1 mejora o 1'],\n",
       "  'ACCIÓN DE PALACIO'),\n",
       " (['Renuncia a un dado que muestre un valor de 1,2 o 3 y avanza hasta 3 espacios vacíos en el río. La acción de río solo es posible renunciando a un dado de valor 1, 2 o 3. Cada vez que quieras colocar a un trabajador en el puerto, puedes avanzar tu barco hasta tres espacios vacíos en el río, dependiendo del valor en el dado que has renunciado El Puerto ofrece espacio para varios jugadores. El primer',\n",
       "   'varios jugadores. El primer trabajador aquí colocado no cuesta nada; los siguientes costarán 1 o 2 monedas. Si renuncias a un dado con un valor de 1, avanzarás exactamente un espacio desocupado; si renuncias a un valor de 2, adelantarás uno o dos espacios desocupados; si renunicas a un valor de 3, podrás avanzar entre uno y tres espacios vacíos. Los espacios ocupados por barcos de otros jugadores',\n",
       "   'por barcos de otros jugadores no se incluyen a la hora de contar, pero se saltan. Así que nunca puede haber más de un barco en un mismo espacio en el río. Las únicas excepciones a esto son en el espacio inicial y el espacio final del río donde pueden descansar varios barcos. Obtén inmediatamente los beneficios de donde se detenga tu barco. Ejemplo Laila coloca un trabajador en el puerto. Para',\n",
       "   'trabajador en el puerto. Para esto tiene que pagar 1 moneda. Renuncia a un dado de valor 2 y avanza su barco 2 espacios. No incluye el espacio que ocupa el barco amarillo del otro jugador en el conteo. Ella gana una mejora de un tipo de edificio. Ella mueve su cubo de mejora en el molino de 3 a 4. Explicación de los símbolos de río Coge 2 dados de cualquier color del suministro general, tíralos,',\n",
       "   'suministro general, tíralos, y ponlos en tu estatua de Kali. Aumenta en 2 tu nivel de'],\n",
       "  'ACCIÓN DE RÍO (Puerto)'),\n",
       " ([', los jugadores equilibrarán su crecimiento en una exigente interacción de prestigio y properidad. El jugador con los resultados más exitosos será uno de los grandes líderes de la nación. De 2 a 4 jugadores. 12 años o CONTENIDO 64 losetas de provincia (16 por color) 30 losetas de producción (8 blancas, 9 amarillas, 6 rojas, 7 marrón)2 losetas de cobertura (para partidas 3 jug.) 8 losetas de río 4',\n",
       "   '3 jug.) 8 losetas de río 4 barcos (1 por color) Track de fama Track monedas 1TRADUCIDO y MAQUETADO POR CRISTÓBAL TRUJILLO TRUJILLO (RESOLV) en el nivel 1 del sendero del Pon 1 cubo de desarrollo en la columna izquierda (valor 2) en cada uno de los pergaminos de desarrollo de edificio. Pon tu marcador de fama en el espacio 0 del track de fama.Pon tu marcador de beneficio para el track del dinero',\n",
       "   'para el track del dinero con el espacio del río hacia arriba en el primero espacio de beneficio en el track de riqueza (espacio 12).Cada jugador coge un dado de cada color, tira estos 4 dados y los coloca con el resultado sacado hacia arriba en cualquier brazo desocupado de tu estatua de Kali. 2 ). A continuación, la loseta de producción se dejará a un lado para formar una pila de descarte.',\n",
       "   'formar una pila de descarte. Cuando te quedes sin losetas, baraja las usadas y forma un nuevo suministro Yogi - Renuncia a un dado de valor 3. A cambio, obtén 2 de y 1 dado a tu elección (ver página 20, explicaciones del karma). Cuando reemplaces una loseta, no recibes ninguna producción especial otra vez. Cada loseta solo la puedes reemplazar una vez. El Portugués - Renuncia a un dado de valor',\n",
       "   '- Renuncia a un dado de valor 6. A cambio, adelanta exactamente 6 espacios vacíos en el río y obtén los ingresos correspondientes. Atención! Cuando hayas avanzado hasta los 6 últimos espacios del río, ya no podrás usar al portugués. (ver pág. 20, explicaciones del ). Recibe la cantidad de dinero indicada; avanza en consecuencia en el track de riqueza.Escoge cualquiera de las acciones del palacio',\n",
       "   'de las acciones del palacio 2-6 (Bailarina, Yogi, Raja, Maestro constructor o Portugués) y realiza inmedi atamente, sin colocar un trabaj ador en el palacio y sin renu nciar a un dado ( el espacio puede estar ocupad o). Por cada nivel de que tengas en este momento, toma un dado del color representado (0 - 3 dados). Recibe el número de puntos de fama indicados; en consecuencia avanza el mismo',\n",
       "   'consecuencia avanza el mismo valor en el track de fama. Mejora 1 nivel de edificio (por ejemplo, mover el cubo de templo de 2 a 3). Recibe 1 de dinero por cada mercado que haya en tu provincia ( si tienes 5 mercados, por ejemplo, avanza 5 espacios en tu marcador de riqueza). Lleva a cabo la puntuación de una acción de mercado de mercancías diversas. Recoge el dinero de hasta 3 mercados',\n",
       "   'el dinero de hasta 3 mercados diferentes. (ver pág. 5). Lleva a cabo una puntuación de mercado para un tipo de bien que tengas en tu provincia, hasta el máximo indicado en el valor del espacio del río. Si tienes 4 mercados de seda, por ejemplo, puedes puntuar todos ellos y poder avanzar en el track de riqueza. No tienes que renunciar a ningún dado para esto. Recibe u n pu nto de fama por mejora',\n",
       "   'u n pu nto de fama por mejora de edificio realizada hasta ahora (av anza la fama en el track de fama). Recibe 2 moned as por cada mejora de edifi cio que hayas realiz ado hasta ahora (avanz a en el track de reiqueza). Recibe 2 puntos de fama por que tengas en este momento (avanza la fama en el track de fama). Cuando hayas llegado al final del río en el espacio final de río, no podrás utilizar más',\n",
       "   'río, no podrás utilizar más acciónes de río. IV. 2 3 1 7 Renuncia a 1 y da la vuelta a un dado al número opuesto. Puedes influir el resultado de una tirada de dado a través del . Utilizar te permite dar la vuelta a cualquier dado en tu estatu a de Kali hacia el lado opuesto cuando lo vayas a colocar; esto significa que un 1 puede convertirse en un 6 y vicerversa, Comienza el juego con el a nivel',\n",
       "   'el juego con el a nivel 1. Durante el transcurso de la partida, podrás mejorar tu - por ejemplo, enviando un trabajador a Yogi en el palacio, deteniendo tu barco en el espacio de río correspondiente. Además de esto, hay un espacio de bonificación en el track de fama (espacio 24) que incrementa tu 2 niveles, si tu marcador de fama se detiene justo en ese espacio o lo cruza. El nivel de más alto es',\n",
       "   'El nivel de más alto es 3; eso significa que solo puedes tener hasta un máximo de nivel 3 de . Para usar el , no tienes que utilizar ningún trabajador - puedes utilizar tu en cualquier momento durante tu turno cuando obtengas un dado. Por cada nivel de que gastes mueve hacia abajo un espacio el cubo de tu Marcador de . Es posible que durante la partida te quedes sin . (1 o 2)1 Mejora de edificio',\n",
       "   '. (1 o 2)1 Mejora de edificio 1 movimiento de barco (a tu siguiente espacio desocupado). 1 punto de fama por cada loseta en tu provincia que tenga por lo menos 1 mercado. 2 puntos de fama por cada curva que tengas en tu red de caminos en tu provincia.1 moneda por cada construcción en tu provincia. 2 monedas por cada loseta de producción que hayas conectado.1 punto de fama por cada trabajador',\n",
       "   'de fama por cada trabajador activo que poseas.1 punto de fama por cada 3 espacios de río que hayas avanzado hasta ahora (el espacio inicial no cuenta). 2 monedas por cada mejora de edificio realizada. 10Hay 2 maneras de obtener losetas de producción adicionales durante la partidaLosetas de río Coge tantos dados de cualquier color del suministro general igual a tu nivel de actual (por ejemplo, 3',\n",
       "   'de actual (por ejemplo, 3 dados del mismo color o de diferentes colores, si tu es de nivel 3). Coge 3 dados, 1 por cada color que indique la loseta Haz la acción de palacio dependiendo de la ilustración mostrada (ver pág. 18), Realiza una puntuación de mercado para un tipo de mercancía. Recauda el dinero de hasta 3 mercados de un tipo de tu provincia sin tener que pagar ningún dado extra (ver',\n",
       "   'pagar ningún dado extra (ver pág. 17) Avanza hasta 3 espacios vacíos en el río y obtén la bonificación de ese espacio donde te detienes.Si al menos otro jugador tiene 2 trabajadores activos más que tú, obtén otra loseta de producción y colócala como si fuera tu turno de colocar un trabajador, no podrás colocarla por segunda vez. Atención! Sólo puedes obtener losetas de producción del color',\n",
       "   'de producción del color correspondiente a los espacios disponibles en tu tablero de provincia. También puedes optar por no coger una loseta de producción. Para grupos de jugadores Mixtos (principiantes y experimentados). Para los jugadores avanzados que jueguen con un grupo que incluye jugadores principiantes, es posible jugador con estas desventajas. En este caso los jugadores experimentados',\n",
       "   'los jugadores experimentados utilizarán el modo Navaratnas en su tablero de provincia y la parte posterior de su estatua de Kali, mientras que los jugadores principiantes utilizarán el tablero de provincia básico y su estatua de Kali de una partida básica. Se puede llegar a tener 5 trabajadores. Las losetas de producción especial amarillas, rojas y marrones permanecerán en la caja. Jugad de',\n",
       "   'en la caja. Jugad de acuerdo a las reglas básicas y usa solamente las losetas de producción blanca, pudiendo obtener estos beneficios con La Bailarina utilizándolos inmediatamente como en el juego básico. Modifica los espacios de río usando losetas de río. Para esta versión, añade las 8 losetas de río a la partida. Éstas modificarán las bonificaciones del río. Al principio de la partida, baraja',\n",
       "   'de la partida, baraja las losetas de río boca abajo. Tira un dado, y cuenta los espacios, comenzando por el primer espacio vacío después del espacio inicial, roba la primera loseta aleatoriamente y colócala boca arriba en el espacio correspondiente del río. Por ejemplo, si sacas un 2, coloca la primera loseta de río en el segundo espacio y, al hacerlo, reemplaza la otra bonificación por ésta',\n",
       "   'la otra bonificación por ésta nueva. Tira de nuevo otro dado, y cuenta desde la última loseta de río colocado los nuevos espacios para colocar la siguiente loseta de río. Sigue colocando losetas de río hasta que se terminen o hasta que llegues al final del río. El espacio final del río nunca puede estar cubierto por una loseta de río. Devuelve las losetas restantes a la caja.'],\n",
       "  'Karma'),\n",
       " (['Avanza en el track de fama, en el track de riqueza o en el río para recibir más trabajadores. Al principio de la partida, cada jugador tendrá a su disposición 3 trabajadores activos. Durante el transcurso de la partida, podrás obtener hasta 2 trabajadores adicionales. Si has avanzado los suficiente en los diferentes tracks de puntuación (riqueza espacio 20, fama espacio 15) o en el río (puente),',\n",
       "   '15) o en el río (puente), recibirás trabajadores adicionales. Importante Tan pronto como hayas recibido tu segundo trabajador inactivo (no importa si en uno de los tracks o el río), inmediatamente coge tu trabajador sobrante del tablero y eliminalo de la partida. Los tracks de fama y de riqueza, así como el río, cada uno tiene un espacio con un trabajador inactivo por color de jugador. Los',\n",
       "   'por color de jugador. Los espacios en los tracks de puntuación (fama y riqueza) son espacios normales; en el momento en el que tu marcador de fama o riqueza cruce o se detenga en el espacio del trabajador, obtén el trabajador de tu color. En el momento de coger a tu nuevo trabajador éste se volverá un trabajador activo. El trabajador inactivo en el río no tiene su propio espacio en el río (el',\n",
       "   'propio espacio en el río (el puente no cuenta como espacio); eso significa, que cuando tu barco pase por el puente coge a tu trabajador.Una vez que un trabajador pasa a ser activo nunca lo podrás perder, incluso si tu marcador retrocede (lo cual solo puedo suceder en el track de dinero). Puedes colocar a un nuevo trabajador incluso en la misma ronda en el que lo has obtenido.'],\n",
       "  'Obtener nuevos trabajadores.'),\n",
       " (['Llega al espacio y recibe el bono. Además de los trabajadores inactivos los dos tracks de puntuación (fama y riqueza) también tienen espacios especiales; cuando los cruzas o los alcanzas, consigues inmediatamente los bonos correspondientes. El track de fama tiene 3 bonos Espacio 5 Recibe una mejora de un tipo de edificio a tu elección. (Esta mejora contará en tu próximo turno). Espacio 24',\n",
       "   'tu próximo turno). Espacio 24 Incrementa tu karma 2 niveles. Espacio 31 Puedes mover tu barco al siguiente espacio desocupado y obtener su bono inmediatamente. El track de dinero tiene 4 bonos Ateción! Un bono solo se aplica donde está impreso en el track. Si, por ejemplo, tu marcador de dinero pasa por al lado de un espacio de bonificación impreso en el track de fama, no obtendremos el',\n",
       "   'de fama, no obtendremos el beneficio. 8Espacios 12 y 44 Puedes mover tu barco al siguiente espacio desocupado del río y obtén las ganacias correspondientes Espacios 33 y 55 Puedes coger 2 dados cualesquiera de la reserva general, tirarlos, y ponerlos en tu estatua de Kali. Puesto que al pagar dinero, tu marcador de riqueza irá hacia atrás en el track, h ay un marcador especial de tu color que',\n",
       "   'especial de tu color que indicará y pondremos en la siguiente recompensa a obtener. Una vez que crucemos la bonificación del marcador lo quitaremos y lo pondremos en la siguiente recompensa, indicándonos que si volvemos atrás al pagar ya no podremos obtener la recompensa de nuevo. Por ejemplo cuando alcancemos o crucemos el espacio 12 por primera vez y obtengamos el bono, cogeremos el marcador,',\n",
       "   'bono, cogeremos el marcador, lo giraremos y lo pondremos en el espacio 33, así sucesivamente. Indicando que si volvemos hacia atrás no volveremos a recoger la recompensa.'],\n",
       "  'Bonos en los tracks de puntuación.'),\n",
       " (['Después de haber colocado a todos tus trabajadores activos y llevado a cabo las acciones correspondientes, la ronda llegará a su fin. Si un jugador ha colocado a un trabajador en el Gran Mogul, ahora obtendrá el elefante y se convertirá en el jugador inicial de la siguiente ronda. Si nadie envió un trabajador al Gran Mogul, el elefante pasará al siguiente jugador, en sentido horario al jugador',\n",
       "   'en sentido horario al jugador inicial anterior. Todos los jugadores sacan todos sus trabajadores del tablero y los ponen bajo su estatua de Kali. Después el jugador inical actual, comenzará la nueva ronda.'],\n",
       "  'FIN DE RONDA'),\n",
       " (['Tan pronto como un jugador logre que su marcador de fama y su marcador de riqueza se equiparen en valores o se crucen, pasándose el uno al otro, se dispara el final de la partida. La ronda actual se terminará. Es decir, todos los jugadores que estén entre el jugador que ha activado el final de la partida y el jugador inicial actual todavía tendrán la oportunidad de ganar y podrá colocar un',\n",
       "   'de ganar y podrá colocar un trabajador más y llevar la acción aplicable. Para desarrollar con éxito tu provincia y ganar la carrera, necesitarás principalmente dinero, dados y trabajadores. Es importante asegurarte de no quedarte sin dados o dinero, y no tener menos trabajadores que el resto de jugadores durante demasiado tiempo. Resumiendo Obtén más trabajadores avanzando en los dos tracks de',\n",
       "   'en los dos tracks de puntuaciones y en el río. Gana dinero con tus mercados, construidos en tu provincia y usa a tus trabajadores para activarlos. Además las bonificaciones en tu tablero de provincia, en el río y en el palacio de Raja son fuentes de dinero. También podrás obtener dados adicionales en otros espacios. El palacio también te otorga la oportunidad de intercambiar dados. Para cumplir',\n",
       "   'dados. Para cumplir con las condiciones de victoria, es necesario establecer una red de caminos bien pensada dentro de tu provincia y obtener tantas producciones especiales como te sea posible. Para ello, utilizarás la acción de construir en el tablero, por lo que tendrás que pagar dinero y dados. Los edificios de tu provincia te otorgarán puntos de fama y los mercados riqueza.Después de esto,',\n",
       "   'riqueza.Después de esto, los jugadores verificarán quién ha ganado la partida. Si hay dos o mas jugadores cuyos marcadores se pasaron el uno al otro en el turno final, cada uno de los jugadores involucrados cuentan la diferencia de puntos entre su marcador de riqueza y marcador de fama; el jugador con más puntos ganará el juego. En caso de empate, gana el primer jugador cuyos dos marcadores se',\n",
       "   'cuyos dos marcadores se superaron. Ejemplo El marcador de riqueza de Rajesh ha pasado su marcador de fama. Ahora su marcador de riqueza está en el espacio 65 del track de riqueza, su marcador de gama en el espacio 30 del track de fama. Ahora Laila tiene su último turno. Ella también logra que sus dos marcadores se pasen haciendo que su marcador de dinero termine en el espacio 52 del track de',\n",
       "   'en el espacio 52 del track de riqueza y su marcador de fama en el espacio 37 del track de fama. Ambos tienen una diferencia de 2 puntos de fama (no importa donde esté colocado tu marcador de riqueza). Ya que Rajesh fué el primero en cruzar sus marcadores, es el ganador de la partida.'],\n",
       "  'FINAL DE PARTIDA'),\n",
       " (['11Imperio Mogul (1526-1858) El imperio Mogul fué un gran imperio que se desarrolló en las llanuras Indus-Ganges en el norte de la India. En el pico de su ponder (s. XVII), abarcaba casi toda la India (como la conocemos hoy) y algunas partes de Afganistán. En 1858, la parte restante del imperio estaba ocupada por los británicos y dejó de existir. Una herencia rica en arquitectura, en pintura, y en',\n",
       "   'en pintura, y en poesía han sido preservadas hasta el día de hoy. El Imperio fue nombrado por sus gobernantes, El Gran Mogul. Gran Mogul También llamado Mogul o Emperador Mogul. El nombre llegó a Europa a través de los portugueses, que eran el poder dominante en el territorio del Oceano Índico en ese momento. La palabra Mogul deriva del mahul persa, que significa mongol, refiriéndose al hecho de',\n",
       "   'refiriéndose al hecho de que algún antecesor se hubiera casado con alguien del clan Genghis Khan. El gobernante Mongol más prominente de la historia fue Akbar el Grande (reinado 1556-1605); llevó el imperio a la prosperidad en términos militares, políticos y económicos. Bajo Shah Jahan (reinado 1627-1658), el imperio Mogul alcanzó su pico cultural. En ese momento, se construyeron el Taj Mahal, el',\n",
       "   'construyeron el Taj Mahal, el Fuerte Rojo (Delhi) y los Jardines Shalimar en Lahore, todos inscritos como Patrimonio de la Humanidad por la UNESCO (en 1982, 2007 y 1981). Este juego juego esta basado en la era de Akbar a Shah Jahan. Estos son algunos elementos significativos para la época de los Grandes Mogoles o para la India de hoy en día que exhibe el juego Kali - Una diosa hindú que',\n",
       "   'Kali - Una diosa hindú que representa la destrucción y la renovación. Su poder destructivo, sin embargo, apunta principalmente a los demonios y a la justicia del mundo. La creencia popular sobre Kali es que ésta puede conceder deseos.Pavo real Azul - Desde 1963, pavoreal azul ha sido oficialmente clasificado entre los animales nacionales Indios (además del tigre de Bengala y el delfín del río',\n",
       "   'Bengala y el delfín del río Ganges). Originalmente, provenía del subcontinente indio donde se le consideraba un animal sagrado que estaba en peligro por los tigres el mal clima y mortales serpientes venenosas entre otras cosas. Mientras que en el mundo occidental se asocia el pavo real no sólo con la belleza, sino también con la arrogancia y la vanidad, los indios lo consideran principalmente un',\n",
       "   'consideran principalmente un símbolo de realeza e inmortalidad. Por lo tanto, las estatuas de pavos reales fueron diseñadas también en el trono del Emperador Mogul. El trono del Pavo Real - Era un trono adornado con una abundancia de perlas, de oro, y de gemas (más de 26.000) que fueron manufacturadas por orden de Shah Jahan e inaugurado en 1635. La producción del trono tardó siete años y se dice',\n",
       "   'tardó siete años y se dice que ha sido dos veces más caro que la construcción del Taj Mahal; esto fue considerado un acto muy extravagante incluso para un emperador Mogul. Desde que el Fuerte Rojo (Dehli) fue saqueado en el siglo XVII, el Trono del Pavo Real se ha dado por perdido. Pilar de Ashoka - El actual escudo de armas de la India muestra, la adaptada capital, un Pilar de Ashoka, los',\n",
       "   'un Pilar de Ashoka, los famosos Cuatro Leones de Sarnath. Construido alrededor de 250 AC bajo Ashoka, el gobernante indio en ese momento, tenía numerosos pilares monumentales establecidos por todo su reino en muchos lugares estratégicos, como ciudades fronterizas y rutas comerciales. Sus capitales eran usadas para proclamar sus leyes. Algunos de estos pilares, por entonces numerosos y extendidos,',\n",
       "   'numerosos y extendidos, se han conservado hasta el día de hoy. Son testigos silenciosos del antiguo gran Imperio de la India, cuya herencia cultural ha resistido la prueba del tiempo. Raja man Singh I - Era un importante comandante de las fuerzas armadas imperiales. Como gobernador de varias provincias, tenía áreas forestales cultivadas para el progreso agrícola, encargó la construcción de varios',\n",
       "   'la construcción de varios palacios, fortalezas y templos e incluso fue fundador de alguna ciudad. Además, Man Singh ganó una gran reputación por ser miembro de las Navaratnas, las Nueve Gemas de Akbar, un pequeño grupo de personalidades extraordinarias en la corte del emperador Mogul.'],\n",
       "  'EL MÓDULO GANGA'),\n",
       " (['GANGES (2 a 4 jugadores) Antes de empezar Decidir si se juega en modo normal o en modo Navaratna (ver el epígrafe Variante Navaratna más adelante ). Sortear jugador inicial , el cual se va rotando en sentido horario cada vez que se agoten los lacayos colocados sobre las acciones del tablero, a menos que un jugador obtenga el beneficio de la primera zona de los aposentos del palacio, que lo',\n",
       "   'aposentos del palacio, que lo convierte en jugador inicial. Cada jugador recibe , según su color 6 lacayos, de los cuales 3 se colocan en las 3 zonas al efect o del tablero (uno en la casilla 20 del marcador de riqueza, otro en la casilla 15 del marcador de gloria y otro sobre el puente del río). 5 cubos, de los cuales 4 se colocan sobre el primer nivel de cada uno de los edificios del tablero y',\n",
       "   'los edificios del tablero y el restante sobr e el nivel 1 del indicador de karma . 1 ficha circular de bonificación, la cual se coloca inicialmente sobre la casilla 12 del marcador de riqueza con la imagen de bonificación de avance fluvial boca arriba . 1 barco, que se coloca en la casilla inicial del río. 1 ficha en forma de prisma hexagonal, que será el indicador de riqueza. El jugador inicial',\n",
       "   'riqueza. El jugador inicial lo coloca en la casilla 3 de dicho indicador, el 2 jugador en la casilla 4, el 3 en la casilla 5 y el 4 en la casilla 6. 1 ficha en forma de círculo cortado , que será el indicador de gloria y cada jugador lo coloca en la casilla inicial de dicho indicador. 4 dados, uno de cada color. 1 busto de Kali para colocar los dados. Antes de colocarlos, cada jugador debe',\n",
       "   'colocarlos, cada jugador debe lanzarlos y conservar la puntuación obtenida. En el modo normal de juego se coloca boca arriba por el lado que incluye en su interior 2 cuadrados vacíos. Si se juega en el modo Navaratna , se coloca por el lado que carece de esos cuadrados vacíos. El busto sirve para limitar la cantidad máxima de dados utilizables 10 en el modo normal y 8 en el modo Navaratna . 1',\n",
       "   'y 8 en el modo Navaratna . 1 tablero de provincia, donde cada jugador irá colocando las losetas que vaya adquiriendo. En el modo normal de juego se coloca boca arriba por el lado que muestra la imagen de un príncipe hindú. Si se juega en el modo Navaratna , se coloca por el lado que muestra el rostro de una diosa . En el caso de jugar en el modo Navaratna , ver el epígrafe Variante Navaratna más',\n",
       "   'Variante Navaratna más adelante . Colocar el tablero por el lado que corresponda al n de jugadores . Hay un lado para 2 jugadores que está representado con 2 elefantes pintados junto a la casilla inicial del río y el otro lado es para 3 o 4 jugadores, que tiene 4 elefantes en ese mismo lugar. La diferencia entre ambos lados del tablero es que el lado para 3 y 4 jugadores incluye más zonas donde',\n",
       "   'incluye más zonas donde colocar lacayos en las secciones de cantera, mercado y puerto. Colocar las 8 fichas de producción blancas boca abajo sobre la imagen del templo blanco del tablero. A medida que se vayan revelando, se van colocando fuera del tablero . Si se agotasen, se vuelven a mezclar y se colocan de nuevo como al principio. En el modo Navaratna , las fichas marrones de producción',\n",
       "   'fichas marrones de producción restantes se colocan boca arriba sobre los templos del tablero que coincidan con su color. Hacer un montó n al lado del tablero con el resto de los dados, formando una reserva. En las partidas con 3 jugadores se hace uso de las 2 fichas de exclusión, que hay que colocar sobre la primera casilla de la cantera y sobre la tercera del puerto , al objeto de prohibir la',\n",
       "   ', al objeto de prohibir la colocación de lacayos sobre esas 2 zonas. Formar 12 montones con las losetas de provincia, según su color e imagen del reverso y colocarlos al lado del tablero en un lugar accesible para todos los jugadores.Turno s de juego Los turnos son consecutivos y la ronda consiste en colocar todos los lacayos . Cada jugador en su turno coloca un lacayo sobre una casilla de',\n",
       "   'lacayo sobre una casilla de acción, paga su coste (si lo tiene) en dados o rupias (lo que corresponda según el caso) y recibe inmediatamente el benefici o asociado a esa acción. Una vez gastados los lacayos de todos los jugadores, cada uno recoge los suyos del tablero y la partida continúa del mismo modo cambiando de jugador inicial (salvo por bonificación especial del mismo jugador que ya lo',\n",
       "   'del mismo jugador que ya lo era) . Puede darse el caso de que algunos jugadores tengan en juego más lacayos que otros, en cuyo caso seguirían juga ndo ellos solos hasta agotarlos. Acciones 1. Cantera El jugador coloca un lacayo, paga las rupias que indique la casilla y adquiere una loseta de provincia pagando su coste en dados. Cada loseta tiene su precio en la esquina superior izquierda sobre un',\n",
       "   'superior izquierda sobre un color determinado. El coste puede ser pagado con uno o varios dados del color elegido, debiendo al menos igualar la cifra consignada en la loseta. La loseta se debe colocar en una zona vacía del tablero de provincia adyacente a otra (la primera será adyacente a la residencia impresa) , teniendo en cuenta que, al menos, uno de los caminos sea coincidente con una loseta',\n",
       "   'coincidente con una loseta anterior y que ese camino debe terminar siempre en la residencia. Si la loseta incluye un camino que termina en un lateral con bonificación impresa, el jugador la obtiene inmediatamente. Si la loseta tiene edificios impresos , el jugador gana tantos puntos de gloria como le correspondan según su nivel de mejora de edificios. Inicialmente este valor es 2, pero se puede',\n",
       "   'valor es 2, pero se puede ir moviendo el cubo de mejor a de cada edificio si se obtiene una bonificación de mejora ( procedente de la bonificación de una casilla de río, de la 4 zona palaciega , de una bonificación del marcador de gloria o de una ficha de bonificación o producción). Si la loseta tiene tenderetes de mercancías, el jugador ga na inmediatamente la cantidad de rupias impresas . Hay',\n",
       "   'de rupias impresas . Hay losetas con más de un edificio o más de un tenderete o mezcla de ellos y el jugador puntúa por todos ellos. 2. Mercado Hay 3 tipos de mercancías (seda, té y especias) y el tablero tiene 2 zonas diferencia das de mercado a) Surtido variado El jugador coloca un lacayo en la casilla gratuitamente y gana tantas rupias como sumen hasta 3 de los tenderetes de su provincia que',\n",
       "   'de su provincia que sean distintos entre sí. En el lado del tablero para 3 y 4 jugadores existen 2 casillas para esta acción, pero un mismo jugador no puede colocar 2 lacayos en esta zona. b) Mercancía de un solo tipo El jugador coloca un lacayo en una de las 3 casillas de mercancías . Par a ello debe gastar un dado cualquiera de los que posea y gana ta ntas rupias como sumen todos los tenderetes',\n",
       "   'sumen todos los tenderetes que posea en su provincia de esa mercancía. 3. Aposentos del palacio Hay 6 zonas donde colocar un lacayo y solo un jugador puede colocar un lacayo en cada una. Exige gastar un dado del valor exacto correspondien te a la zona de colocación. Zona 1 El jugador gasta un dado de valor 1 y gana 2 puntos de gloria además de convertirse en nuevo jugador inicial. Zona 2 El',\n",
       "   'jugador inicial. Zona 2 El jugador gasta un dado de valor 2 y gana 2 dados y una ficha de producción blanca . Zona 3 El jugador gasta un dado de valor 3 y gana 1 dado y aumenta su n ivel karma en 2 niveles, teniendo en cuenta que el nivel máximo de karma es 3 .Zona 4 El jugador gasta un dado de valor 4 y gana 3 rupias y una mejora de edificio , por lo que podrá mover uno de sus c ubos en el',\n",
       "   'mover uno de sus c ubos en el edificio de su elección a un nivel superior , teniendo en cuenta que el nivel máximo de mejora es 4 . Zona 5 El jugador gasta un dado de valor 5 y tiene la opción de adquirir una loseta de provincia para solapar a otra que ya tuviera colocada en su tablero personal. La nueva loseta debe ser de valor superior a aquella que se pretende solapar y su coste será la',\n",
       "   'solapar y su coste será la diferencia en valor de dados entre ambas, aunque su color sea distinto. Se sigue manteniendo el requisito de la conexión remota de caminos hasta la residencia. En caso de solapar una loseta de los laterales con derecho a bonificación, no se recibe ésta porque ya se recibió al colocar la loseta primitiva . No se puede solapar una misma loseta más de una vez. Zona 6 El',\n",
       "   'más de una vez. Zona 6 El jugador gasta un dado de valor 6 y av anza su barco por el río exactamente 6 casillas consecutivas no ocupadas, obteniendo la bonificación correspondiente. Cuando el barco de un jugador se encuentre ent re las últimas 6 casillas del río, no puede realizar esta acción. 4. Verandas El jugador gasta un dado del color correspondiente a la casilla donde coloca al lacayo y',\n",
       "   'donde coloca al lacayo y gana 2 dados nuevos del color que se indica. El jugador los cogerá de la reserva, los lanzará y los colocará en su busto de Kali. 5. Terraza El jugador coloca un laca yo en la casilla que corresponde a uno de los colores de dados gratuitamente y gana un dado del color impreso junto a la casilla. El jugador lo cogerá de la reserva, lo lanzará y lo colocará en su busto de',\n",
       "   'y lo colocará en su busto de Kali. Hay 2 casillas por cada color de dado y un m ismo jugador puede hacer uso de ellas con sus lacayos. 6. Mirador El jugador coloca un lacayo gratuitamente, gana 2 rupias y tiene la opción de relanzar cualquier cantidad de dados de los que posea en su busto de Kali. 7. Río El jugador coloca un lacayo en una casilla del puerto no ocupada, paga su coste en rupias',\n",
       "   'paga su coste en rupias (hay una gratuita) y debe gastar un dado que sea exclusivamente de valor 1, 2 ó 3. Avanzará su barco como máximo el número de casillas que indique el dado utilizado (un dado de valor 2 permite a vanzar 1 ó 2 casillas y un dado de valor 3 permite avanzar 1, 2 ó 3 casillas). Las casillas del río ocupadas se ignoran para el avance y el jugador gana la bonificación en la que',\n",
       "   'la bonificación en la que coloca finalmente su barco. Al llegar a la última casilla del río, el jugador no puede realizar más esta acción. Reglas a tener en cuenta Variar e l nivel de karma no constituye acción, se puede realizar en cualquier momento del turno y permite voltear uno de los dados del jugador a fin de mostrar la carta opuesta a la que tenía originalmente. Cuando un jugador alcanza o',\n",
       "   'Cuando un jugador alcanza o supera la casilla 12 del marcador de riqueza, debe mover su ficha circular de bonificación a la casilla 33 por el lado que coincida con la imagen impresa en esa casilla, ganando inmediatamente un avance de río. Posteriormente, al alcanzar o superar la casilla 33, ganará 2 dados y moverá de nuevo esa ficha a la casilla 44 haciéndola coincidir con la imagen impresa en',\n",
       "   'con la imagen impresa en esa casilla. Una vez alcanza da la casilla 44, gana rá un nuevo avance de río y moverá la ficha circular a la casilla 55. Una vez alcanzada la casilla 55, gana rá 2 dados nuevos y la ficha circu lar se retira de la partida. Cada vez que un jugador gana dados nuevos sin un color determinado , tanto si es por bonificaciones o por acciones del tablero, el jugador los coge',\n",
       "   'tablero, el jugador los coge del color que desee de la reserva y debe lanzarlos y conservarlos con la puntuación obtenida en su busto de Kal i, teniendo en cuenta el máximo de 10 dados en el modo normal de juego y de 8 en el modo Navaratna .Los lacayos adicionales que un jugador consiga por alcanzar las posiciones en las que se encuentran en los marcadores o en el río empiezan a ser funcionales',\n",
       "   'empiezan a ser funcionales inmediatamente, por lo que pueden ser utilizados en la misma ronda en la que se han conseguido. En el modo normal de juego, cuando un jugador haya conseguido 5 lacayos en total, el sexto se retira de la partida y no lo podrá conseguir. En el modo Navaratn a sí se pueden utilizar todos. Final de partida El final de partida se produce cuando un jugador iguala o cruza la',\n",
       "   'un jugador iguala o cruza la posición de sus indicadores de riqueza y de gloria en el tablero. No obstante, se dejará terminar el turno (no la ronda completa) al resto de jugadores que no lo hubieran hecho, dando así la posibilidad de que alguien más haga cruzar también sus indicadores. De todos los jugadores que hayan cruzado sus indicadores en ese último turno, el ganador será el que más',\n",
       "   'el ganador será el que más diferencia en puntos de gloria haya conseguido entre ambos. A igualdad de condiciones, el ganador será el que desencadenó el final de partida. Variante Navaratna Cada jugador utiliza el tablero de provincia por el lado que muestra el rostro de una diosa hindú, el busto de Kali se coloca por el lado que no tiene hueco para los dos dados interiores y cada jugador puede',\n",
       "   'y cada jugador puede hacer uso de los 6 lacayos disponibles. Las bonificaciones de los laterales son producciones mínimas que se pueden ir mejorando durante la partida. En esta var iante se hace uso de las fichas especiales de producción y las hay de los 4 colores de los templos marrón, blanco, amarillo y rojo. Al principio de la partida se mezclan las fichas marrones de producción , se colocan',\n",
       "   'de producción , se colocan sobre el templo marrón del tablero boca abajo y c ada jugador coge una al azar, la revela y la coloca en una de las dos casillas posibles (la que prefiera) de los laterales de su tablero de provincia. El resto de ficha s marrones de producción se revelan y se colocan boca arriba sobre el templo ma rrón. Las fichas de producción de los otros colores se depositan boca',\n",
       "   'colores se depositan boca arriba, cada una sobre el templo de su color. Cuando un jugador logra conectar las fichas marrones de producción con su residencia mediante un camino, gana una producción especial que de pende del grado de desarrollo que haya conseguido hasta ese momento en un aspecto concreto del juego 1 punto de gloria por cada loseta colocada que tenga al menos un tenderete 1 punto de',\n",
       "   'menos un tenderete 1 punto de gloria por cada 3 casillas de río que el barco del jugador haya avanzado hasta ese momento (sin contar la casilla inicial) 1 rupia por cada edificio de la provincia 2 rupias por cada ficha de producción con la que haya podido conectar 2 puntos de gloria por cada curva o bifurcación que exista en la provincia 2 rupias por cada mejora de edificio efectuada hasta el',\n",
       "   'edificio efectuada hasta el momento 1 punto de gloria por cada lacayo activo en juegoCuando un jugador c oloca una loseta en su tablero de provincia, tras puntuar por los elementos que incluye la loseta , coge una ficha de producción (si así lo desea) y la coloca boca arriba en una casilla de los laterales del tablero de provincia del mismo color a fin de mejorar la que ya viene impresa. Cada',\n",
       "   'la que ya viene impresa. Cada ficha de producción colocada ya n o se podrá mover ni cubrir con otra. Su bonificación se gana al conect arla con la residencia impresa en el tablero de provincia mediante un camino. Las fichas especiales de producción se consiguen de 2 formas a) Al realizar la acción de los aposentos del palacio que exige dado de valor 2 se cogen los 2 dados que se indican y además',\n",
       "   'dados que se indican y además una ficha de bonificación, que en esta variante puede ser cualquier ficha de producción especial. b) Por no poder colocar un lacayo el jugador gana una ficha d e producción cada vez que sea su turno y no tenga lacayos para colocar por tener menos que algún otro jugador . Varia ción de las bonificaciones del río Para hacer el recorrido del río más imprevisible, se',\n",
       "   'del río más imprevisible, se incluyen 8 fichas adicionales de forma circular y de fondo azul que se pueden poner en juego cuando se desee, tanto en el modo normal como en el modo Navaratna . Al principio de la partida se mezclan estas 8 fichas y se colocan boca abajo en algún lugar de la mesa. Luego se lanza un dado y se cuenta su valor en casillas por el río, colocando boca arriba en la casilla',\n",
       "   'boca arriba en la casilla resultante una cualquiera de las 8 fichas adicionales. De este modo se reemplaza la casilla impresa en el tablero por la nuev a. Después se vuelve a lanzar el dado y se realiza un nuevo recuento de casillas a partir de la anterior y se coloca otra ficha de las adicionales en el lugar resultante. A partir de ahí se vuelve a hacer lo mismo hasta llegar al final del río,',\n",
       "   'llegar al final del río, pudiendo so brar fichas adicionales, las cuales no serán utilizadas. Hay que tener en cuenta que la casilla final del río no puede cubrirse con una ficha adicional. El jugador coge tantos dados del color que quiera como indique su nivel de karma en el momento actual El jugador coge 3 dados de los colores indicados El jugador realiza gratuitamente la acción del aposento',\n",
       "   'la acción del aposento del palacio que se corresponda con la imagen de la ficha sin tener que colocar lacayo El jugador gana la cantidad de rupias que resulten de sumar hasta 3 tenderetes de un solo tipo de mercancía de los que tenga en su provincia sin tener que colocar lacayo y de modo gratuito El jugador avanza su barco por el río entre 1 y 3 casillas no ocupadas y gana la bonificación de la',\n",
       "   'y gana la bonificación de la casilla en la que lo coloqueBonificaciones impresas sobre el curso del río en el tablero El jugador gana 2 dados El jugador aumenta su karma en 2 niveles (máximo nivel 3) El jugador gana la cantidad de rupias indicadas en la imagen El jugador puede realizar una de las 5 acciones (entre la 2 y la 6 ) de los aposentos del palacio sin tener que colocar lacayo ni gastar',\n",
       "   'que colocar lacayo ni gastar dado y aunque esté ocupada El jugador gana tantos dados del color indicado en la imagen como sea su nivel de karma (entre 0 y 3) El jugador gana la cantidad de puntos de gloria indicados en la imagen El jugador puede aumentar el nivel de cualquiera de sus edificios El jugador gana 1 rupia por cada tenderete de mercado que tenga en su provincia El jugador gana rupias',\n",
       "   'El jugador gana rupias por hasta 3 de sus tenderetes que sean de una mercancía diferente El jugador gana las rupias correspondientes a una sola de sus mercancías (la que prefiera) contando hasta un máximo de 4 tenderetes El jugador gana las rupias correspondientes a sola de sus mercancías (la que prefiera) contando hasta un máximo de 5 tenderetes El jugador gana 1 punto de gloria por cada nivel',\n",
       "   'de gloria por cada nivel de mejora de edificio logra da (entre 0 y 6) El jugador gana 2 rupias por cada nivel de mejora de edificio logra da (entre 0 y 6) El jugador gana en puntos de gloria el doble de su nivel de karma (entre 0 y 6)'],\n",
       "  'reglas guia rapida'),\n",
       " (['Rajas of the Ganges Set-Up Place the game board in the middle of the table, according to the player count. o If playing with 3 players, use the 2 space cover markers to cover the 1st Quarry space and the 3rd Harbor space. o If playing the standard game, put the Yellow, Brown and Red yield tokens, and the 8 river tokens, in the box. See below for details on the Navaratnas Version and the Ganga',\n",
       "   'Version and the Ganga Module (2 variants to the game!) Sort the Province Tiles by colo r, and then by the 3 different a nimal ba cks (snake, cow, tiger). o Place the 12 stacks face -down next to the board, then flip the top tile of each stack face -up. Mix the 8 white Y ield tokens face -down on the temple space (white building). Each player takes o 1 Province board (place the sta ndard side up',\n",
       "   '(place the sta ndard side up the side without blank yield spots) o 1 Kali Statue board (with the 2 slots in the middle open for dice able to hold 10 dice (thats all it does, fyi) ) o 6 Workers (lay 1 worker sideways on the river bridge, on the 15 fame space, and on the 20 money space) o 5 Cubes (1 on level 1 of the Karma track, and 1 on the leftmost space of the 4 buildings, right side of board)',\n",
       "   'right side of board) o 1 Money m arker (start s pace to be determined when first player is chosen see below ) o 1 Fame m arker (put on 0 space of the F ame track ) o 1 Boat (put on start space of the river) o 1 Money Track Bonus m arker (put on space 12 of the money track, blue (river) side up) o 1 die of each color (Green, Blue, Yellow, Purple) roll them , plac e each die onto an empty hand of',\n",
       "   'die onto an empty hand of Kali Statue. The player with the lowest total on thei r 4 dice will be Start Player. They take the Elephant marker (start player marker.) o The 1st playe rs money marker goes on space 3 . 2nd3rd4th player put their money marker on space 456. Game Flow Rajas of the Gan ges is played over a number of rounds until 1 player triggers the end of the game by having their Fame',\n",
       "   'the game by having their Fame and Money marker intersect paths. At this point, remaining players in turn order will have 1 more turn before the end. The winning player will be whoe ver was able to move their markers past each other the furthest (in case multiple players achieve t his goal during the last turn.) During a round, starting with the 1st player going clockwise, each player will place 1',\n",
       "   'each player will place 1 worker into 1 of the many empty action spaces and carry out the given action before the next player s turn. When all players are out of workers, the round ends. General Rules to get Started As stated above, on a players turn, they w ill place one of their workers o nto an empty action space a nd take the action. There are 4 different areas of the board (Quarry, Market,',\n",
       "   'of the board (Quarry, Market, Harbor, Palace ) where players can place workers (see below for detailed descriptions of each action area ) Some of the action spaces have a cost associated with them when you plac e your worker there . o If the space in the center of the action space is empty, its free! o If the space shows a coin value, pay it (move marker backwards. ) o If the space shows a di e,',\n",
       "   'o If the space shows a di e, return the indicated die (color and pip value might matter.) Pip-less die mean any value , and a Tan die mean any color Anytime in the game you earn Fame or money, you move your marker immediately (earning any bonus es on the track as you go,) and whe n you earn dice (if any remain of that color ,) roll the dice immediately and place on your Kali Statue. o Your Kali',\n",
       "   'your Kali Statue. o Your Kali Statue holds 10 dice. If you were to take an 11th, you can refuse it or replace 1 on the Statue already . Karma Is a resource earned throughout the game that is tracked above the Palace on the upper left side of the b oard. o It allows a player (at anytime on their turn) to flip 1 die to the opposite side by sliding your cube down 1 space. o You can spend as many',\n",
       "   'o You can spend as many Karma points as you want on your turn. The max to hold at 1 time is 3 (see track .) New Workers As the game progresses, you will be moving your money, fame and boat markers along their respective paths. If you reach the space with 1 of your workers , you take it and immediately add it to your pool, ready to work! Once you receive your 5th worker, the 6th worker still on',\n",
       "   'the 6th worker still on the board is removed to the box. Only 5 can be earned in total . Scoring Track Bonuses Along the Fame and Money track, you will earn rewards when you reach certain numbers. o Since you can only go forward on the Fame track, the rewards are simply printed on the board for when you reach them, you earn them. They are spaces 5, 24 and 31. o The Money track is different as',\n",
       "   'Money track is different as there is a small token you will use. You see, since your money can go up and down, the designers made it easy to remember if you go t the bonus yet or not. The first time you cross thisbonus marker, take the reward, flip the token, and move it up to the next space that matches this bonus token. The spaces that will have bonuses are 12, 33, 44, and 55. Take a l ook!',\n",
       "   '33, 44, and 55. Take a l ook! After the bonus at 55, remove the token. Quarry Action (Place Province Tiles on your Player Board) In the middle of the board are actions spaces (in 2 rows) with cost values from 1 -4 (remember to pay). Next to them is an icon of a tile being placed on a Province board. Well, activating 1 of these spaces will allow you to do just that! After placing your worker , and',\n",
       "   'placing your worker , and paying the cost, look at 1 of the 12 face -up Province tiles next to the board. You can buy a face -up tile by returning any number of matching colored dice to the supply with a sum o f at least the value shown in the upper left corner. You can overpay for tiles this way. After paying for your tile with dice, take it and place it on your player board so that at least 1',\n",
       "   'board so that at least 1 road on the tile can be traced back to your Estate (the building in the upper middle). Yes, you can rotate your tile any direction you wish and you can cut off other roads, as long as 1 road on your newly placed tile can make its way back home! After you place your tile legally, you will earn rewards based on what is showing on the tile itself. o If 1 of the 4 buildings',\n",
       "   'o If 1 of the 4 buildings is showing, immediately earn Fame points equal to that buildings currently Fame level. o If it shows 1 of the 3 Markets, earn money equal to the prin ted money shown. o Obviously, earn all rewards shown (you might have multiple buildings or multiple markets.) Around the edge of your Province are special Yield rewards. After scoring the Province tile itself, if a road',\n",
       "   'tile itself, if a road connects to this Yield reward back to your Estate, you immediately get the bonus! If a Yield reward is blocked off, you cant earn it. When you are done getting your rewards, flip the next tile over in the stack you chose from. Market Action Spaces (Earn money based on Mark ets in your Province) Just u nder the Quarry spaces are the Market action spaces. The each top row',\n",
       "   'spaces. The each top row action space deals with a specific type of good, while the bottom spaces deal with all 3 different types of goods . If you place a worker on 1 of the top spac es, you will first give up a die with any numeric value on it (the higher the better possibilities,) and then do the following o Each of these spaces is associated with 1 of the 3 goods found in the Markets of your',\n",
       "   'found in the Markets of your Province ( tea, silk, spices .) o If you place your working on the T ea space, you will select a number of different tea markets i n your Province (that can be traced back to your Estate via roads ) up to the value on the die you turned in. (example, turn in a 3 die, you can count up to 3 different tea markets on your Province board. Turn in a 4, you can count 4 so on',\n",
       "   'in a 4, you can count 4 so on ) o Calculate the total money shown on these different Markets and earn that amount of money immediately. o The Silk and Spice s space work exactly the same. If you place a worker on a bottom space ( no player may access both bottom spaces in the same round (34 p game,) see different color worker icons ,) then you will look at your Province board and choose 3',\n",
       "   'Province board and choose 3 different type markets (1 tea, 1 silk, 1 spices) that trace back to your Estate via roads and earn the shown money value immediately! This space has no cost! River Action Spaces (Move your Boat on the River for Rewards) Under the Market spaces is the Harbor, and this area controls the movement of your Boat on the river. Whenever a player is to move their boat during',\n",
       "   'is to move their boat during the game , they always move it forward, they never count spaces other players are on, and they immediately take the reward when the boat has stopped moving. The Harbor spaces all have a coin cost except the first space w hich is free ! When putting your worker here, discard any die with a 1, 2 or 3 value (see chart to the right in the Harbor). o If a 1 is discarded ,',\n",
       "   'o If a 1 is discarded , the player moves their boat 1 unoccupied space up the river . o If a 2 is discarded, the player mov es their boa t 1-2 unoccupied spaces up the river, player s choice. o If a 3 is discarded, the player moves their boat 1 -3 unoccupied spaces up the river, player s choice. The last space of the River can hold several boats, but once you reach this space, you cant take boat',\n",
       "   'space, you cant take boat actions anymore. See the Rulebook for the indivi dual descriptions of each space. Palace Action Spaces ( Ways to Manipulate your Dice pool) The Palace takes up the bottom left part of the board. It includes 19 action spaces from the Chambers (people) all the way t o the Balcony space (shows shaking dice). These are what the spaces do in detail o The 6 Chamber People 1',\n",
       "   'o The 6 Chamber People 1 Give up any value 1 die to get 2 fame points and take the 1st player marker for next round. 2 Give up any value 2 die to get any 2 dice in return and 1 white yield token sitting on the white building . Gain the reward of the Y ield token immediately and discard it. If the pile runs out, reshuffle it.3 Give up any value 3 die to get 2 Karma and 1 die of your choice. 4 Give',\n",
       "   '1 die of your choice. 4 Give up any value 4 die to advance 1 of your buildings up 1 level and earn 3 money . 5 Give up any value 5 die to choose any Province tile, place it on top of any Province tile already built with a lower die cost, and pay 1 dice totaling the difference in value of the 2 tiles in the color of the new tile. The new tile will not earn Yield rewards but it will earn rewards',\n",
       "   'but it will earn rewards for what is on the tile itself. Also, this new tile must obey the laws of tile placement. It must be traceable back to the Estate. 6 Give up any value 6 die to move your boat on the river exactly 6 unoccupied spaces . If you are within the last 6 river space s, you cant use this action anymore. Must be able to move exactly 6 spaces. o The Terrace Balcony Spaces The single',\n",
       "   'Balcony Spaces The single space on the very end lets you take 2 money and re -roll any number of your dice. The spaces that are touching a colored die reward you with 1 die of that color. The spaces that show a colored die in the action space require 1 die of this color as payment to receive 2 dice of the other color as the reward. End of the Round After everyone has placed all their workers ( a',\n",
       "   'placed all their workers ( a player might have a skip ped turn if other players have more workers) the round will end. If a player took the 1st player marker by going to the 1 space in the Chambers, then that player is 1st player for the next round. If no one went to that space, pass the Elep hant clockwise. Ever yone now takes back all their workers placed this round and starts a new round! End',\n",
       "   'and starts a new round! End Game During the round, when 1 player has their Fame marker reach andor pass their money marker, the game is triggered. At this time, each player going clockwise unti l the last player is reached will get 1 more turn to place 1 more worker (if the last player is the one to trigger the game then the game will end now.) When the game ends, the player who moved their Fa me',\n",
       "   'player who moved their Fa me and Money marker the furthest apart (ties broken b y the player who did this first) will win the game ! Navaratnas Version (Advance d Game) Instead of only being able to get 2 new workers like in the standard game, you can claim all 3 workers on the board. You will use the other side of the Kali Statue which allows you to only store 8 dice , instead of 10 in the',\n",
       "   '8 dice , instead of 10 in the standard game. You will use the other side of your Province Board as well. You will notice some empty Yield space s around the edge. o During Set -up, t ake the Brown Yield tiles, flip them face -down, and each pl ayer takes 1 randomly, looks at it, and covers up 1 of the 2 Brown Y ield spaces on their Province board . It doesnt matter which Brown space is covered.',\n",
       "   'which Brown space is covered. You wont earn the reward now, but you will earn it in game when you connect to this Yield token. See the descriptions of the new bonus Yield tokens in the rulebook. o You will now sort the 4 different color ed Yield tokens by color and place them face -up on their matching building s on the right side of the board. (Same area you put the white tokens face -down in',\n",
       "   'white tokens face -down in the standard game.) There are 2 ways to obtain new Yield tokens during the game o When you select the 2 person in The Chambers. This person allows you to get a ny face -up Yield token from 1 of the buildings. Select 1 and add it to your Province b oard, but it can only cover up a matching color. You wont earn the reward yet, but you will earn it when you connect to this',\n",
       "   'it when you connect to this Yield token via a road going back to your Estate. o When you have fewer workers than others! If you are skipped over during a r ound because other players still have more workers, then you get to take 1 Yield token of your choice and place it on your Province board covering a matching color space. Again, the reward will be earned when you connect to this token with a',\n",
       "   'connect to this token with a road leading back to the Estate. You are not required to take Yield tokens when allowed, and you cant place a Yield token on top of another Yield token. The Ganga Module (Customize the River Spaces) During set -up, mix the 8 river tokens face down, then roll a die. Count out that many spaces and choose 1 of the token to flip over and place on this space (creating a',\n",
       "   'on this space (creating a new space for the game). Repeat this process until you reach the end of the river. The final river space cant be covered up. All 8 riv er tokens might not be placed out. See the rulebook for a detailed description of the new tokens. Obviously, you can turn the tiles face -up and customize the river spaces however you wish for a certain strategic game.'],\n",
       "  'reglas guia rapida')]"
      ]
     },
     "execution_count": 62,
     "metadata": {},
     "output_type": "execute_result"
    }
   ],
   "source": [
    "chunk_reglas_generales"
   ]
  },
  {
   "cell_type": "code",
   "execution_count": 63,
   "metadata": {},
   "outputs": [],
   "source": [
    "chunk_reglas_especificas = []\n",
    "chunk_reglas_especificas.append((chuncker(sections['VERSIÓN NAVARATNAS']), 'VERSION NAVARATNAS'))\n",
    "chunk_reglas_especificas.append((chuncker(text_automa_variant), 'VERSION AUTOMA'))"
   ]
  },
  {
   "cell_type": "code",
   "execution_count": 64,
   "metadata": {},
   "outputs": [
    {
     "data": {
      "text/plain": [
       "[(['Después de haber jugado a la versión básica para uno o más jugadores, puedes optar por la versión Navaratnas para jugadores avanzados (Las 9 Gemas ver página 24, Mogul Lexicon Raja Man Singh I). Aplica estas modificaciones Puedes activar los 3 trabajadores inactivos. Así que puedes jugar con hasta 6 trabajadores. Juega con la parte trasera de la estatua de kali, pudiendo almacenar solo 8 dados.',\n",
       "   'almacenar solo 8 dados. Juega por la otra parte del tablero de provincia. Aquí también, las producciones especiales están impresas en el borde pudiéndolas conectar con tu red de caminos. Sin embargo estas producciones son menores, pero se pueden mejorar durante el transcurso de la partida. Al comienzo de la partida, mezcla las loseta de producción marrón. Cada jugador elige una al azar, la revela',\n",
       "   'elige una al azar, la revela y la coloca en uno de los dos espacios disponibles en tu tablero de provincia. Decide que producción especial sustituir en tu tablero de provincia por tu nueva producción especial marrón. En el momento en que conectes las losetas de producción marrón te otorgarán una producción especial dependiendo del progreso actual que lleves en un campo específicoAhora coloca las',\n",
       "   'específicoAhora coloca las losetas de producción restantes marrón así como el resto de losetas de producción, mirando hacia arriba, en los edificios del mismo color en el tablero de juego. Durante el juego podrás adquirir estas losetas de producción para colocarlas en tu provincia. Las losetas de producción blancas, rojas y amarillas proporcionan producciones especiales Atención! Puntúa siempre',\n",
       "   'Atención! Puntúa siempre las losetas de provincia antes de coger la producción especial. No puedes mover ni cubrir las losetas de producción ya colocados en el tablero. a)Cuando estés colocado en La Bailarina. Cada vez que coloques un trabajador en La Bailarina y renuncies a un dado de valor 2 de cualquier color, puedes coger 2 dados de tu elección del suministro general y escoger una loseta de',\n",
       "   'y escoger una loseta de producción especial cualquiera. De inmediato coloca esta loseta boca arriba en un espacio (todavía) desocupado del color correspondiente en tu tablero de provincia. A diferencia del juego básico, aquí no obtendras el bono de la producción inmediatamente solo cuando conectes tu red de caminos en tu tablero de provincia. b)Cuando seas el que menos trabajadores activos tiene.',\n",
       "   'trabajadores activos tiene. Si, por ejemplo, tienes un total de 4 trabajadores activos, pero al menos uno de los otros jugadores tiene 5 trabajadores a su disposición, obtienes 1 loseta de producción cuando sea tu turno en esta ronda y no puedas colocar un trabajador porque no tienes. Decide inmediatamente en qué espacio desocupado de tu tablero de provincia quieres colocar tu nueva loseta de',\n",
       "   'colocar tu nueva loseta de producción (boca arriba y coincidiendo en color). VERS IÓN NA VARATNAS Dados (1 o 2 dados de los colores a tu elección).Monedas'],\n",
       "  'VERSION NAVARATNAS'),\n",
       " (['Rajas of the Ganges Automa mode Author Mauro Gibertoni Rev. 1.0 - 4 Dec 2017 This is a solo variant for Rajas of the Ganges boardgame. You play against a fake opponent the Automa. While you play following all standard rules, the Automa breaks some rules, so for you it will be very easy to take the action for the Automa. Set-up Prepare a standard set -up for wo players, but consider that the Automa',\n",
       "   'but consider that the Automa doesnt need all the components, so you can leave in the box the following components - the province board ; - the four markers for palaces upgrade ; - the marker for karma points ; - the personal dice an d the Kali statue ; - if you play with Navaratnas version, select one brown yeld tile for you then remove 2 yeld tiles per color . Shuffle the Automa deck and place',\n",
       "   'the Automa deck and place it close to the board with the blue side face up. Select randomly who will be the first player . Place the provice tiles in 12 piles and organize them in a 3 x 4 grid. Automas overview At each turn alternate your actions with the automa actions like in a normal game. When the Automa must perform an action, you draw a card from Auotma deck and ex ecute the action',\n",
       "   'deck and ex ecute the action described. In general - The Automa places his workers on the board, but he spends no dice to take the action ; - The Automa can gain new workers like a normal player ;- The Automas fame and money markers are moved only one time per round just after the Automa has placed his last worker . Description of the round When it is the Automas turn, draw a card from Automa',\n",
       "   'turn, draw a card from Automa deck, look the red side and perform the action shown Building action place the Automas worker then look the blue side of the first automa card that is remained on the top of the automa deck, and discard the province tile highlighted on the card. (Automa gains no fame for the moment) Market action look the blue side of the first automa card that is remained on the top',\n",
       "   'that is remained on the top of the automa deck and place the Automas worker on the market shown on the card. (Automa gains no money for the moment) River action place the Automas worker then look the blue side of the first automa card that is remained on the top of the automa deck, and advance the ship the number of spaces indicated on the card. (Automa gains no bonus) Action at the palace look',\n",
       "   'Action at the palace look the blue side of the first automa card that is remained on the top of the automa deck and pla ce the Automas worker on the palaces room shown on the card. Special cases If the room is the number 5 (Master builder), discard a province tile as in building action. If the room is the number 6 (Portuguese), advance the ship 6 spaces. Balconies action look the b lue side of',\n",
       "   'action look the b lue side of the first automa card that is remained on the top of the automa deck and place the Automas worker on the balcony space shown on the card. Note if the Automa can not palce his worker because the area is occupied by another worker, discard the card on top of the deck and look the next card until the Automa can place his worker. Every time the Automa deck is termined,',\n",
       "   'the Automa deck is termined, reshuffle it.Example If you draw this card and this card is visible on top of the deck , the Automa places a worker on the silk market space. End of a round Once the last automa worker is placed, look on the red side of the current automa card and advance the fame and money Automa marker the number of spaces indicated on the card. There are three difficulty level',\n",
       "   'are three difficulty level available. Apply the level you want easy (green ), medium (orange ), hard (red). During the game the Automa gains new workers and the advancements on the river, all other rewards shown on fame and money tracks are ignored. If the Automa gains a new worker during the advancements of the markers at the end of his turn, the new workers will be available only in the next',\n",
       "   'be available only in the next turn.End of game If you are the first to trigger the victory condition, draw a card and apply the fame and money point with the selected difficulty level for the last time. Then declare the winner with the standard rules. If the Automa is the first to trigger the victory condition (this occurs only after the Automa has placed his last worker) and you are the second',\n",
       "   'and you are the second player in turn order you can place your last worker, then declare the winner with the standard rules.'],\n",
       "  'VERSION AUTOMA')]"
      ]
     },
     "execution_count": 64,
     "metadata": {},
     "output_type": "execute_result"
    }
   ],
   "source": [
    "chunk_reglas_especificas"
   ]
  },
  {
   "cell_type": "code",
   "execution_count": 65,
   "metadata": {},
   "outputs": [
    {
     "data": {
      "text/plain": [
       "[(['Tu tarea es desarrollar tu provincia con la ayuda de tus trabajadores y el uso inteligente de tus dados acumulados. Al final, debes ganar la carrera con una combinación de riqueza y fama. El track de fama y dinero van paralelos entre sí, en direcciones opuestas alrededor del tablero. Los marcadores de fama se mueven en el sentido de las agujas del reloj, mientras que los marcadores de dinero en',\n",
       "   'los marcadores de dinero en sentido contrario a las agujas del reloj. A medida que vas construyendo y expandiéndote, intenta aumentar tanto la fama como tu riqueza para que tu marcador de fama y dinero se crucen. El primer jugador que cruce o coincida su marcador de fama y su marcador de dinero aumentará sus probabilidades de ganar.4 marcadores de beneficio1 (doble cara) tablero (2 jugadores o 3',\n",
       "   'tablero (2 jugadores o 3 y 4 jugadores)4 Estatuas de Kali 4 tableros de provincia 24 trabajadores (6 por color) 4 marcadores de fama (1 por color)4 marcadores de dinero (1 por color)48 dados (12 por color) 1 elefante de jugador inicial (móntalo antes de la primera partida)20 cubos (5 por color 4x mejora y 1x'],\n",
       "  'OBJETIVO DEL JUEGO')]"
      ]
     },
     "execution_count": 65,
     "metadata": {},
     "output_type": "execute_result"
    }
   ],
   "source": [
    "chunk_objetivo_juego = []\n",
    "chunk_objetivo_juego.append((chuncker(sections['OBJETIVO DEL JUEGO']),'OBJETIVO DEL JUEGO'))\n",
    "chunk_objetivo_juego"
   ]
  },
  {
   "cell_type": "code",
   "execution_count": 66,
   "metadata": {},
   "outputs": [
    {
     "data": {
      "text/plain": [
       "'I have only played the game several times, but I think the best (and probably the most obvious) strategy is to build up your markets in your province as fast as possible, and then take the market action to score them frequently. Look and see which markets are available on the tiles and plan accordingly. The market action that allows you to score all three market types (one of each) does not cost a die, so go for diversity first if the tiles available are in that favor. Of course pick the markets with value 2 or 3 first. My last game I did not buy any market tiles that had a value of one (unless it has a building on it that will score well for fame.) Build up your building upgrades as fast as you can as well. In our second game my opponent ignored buildings and focused entirely on markets - and he lost. So do not ignore them. This is one of those games where you have so much you want to do each turn and you only get to do one thing! Also, get your extra meeple as soon as possible. And dont forget the action where you can lay a tile on top of another tile. We sort of ignored that until our third game and realized it might be a good idea to connect to the borders of your province as much as possible even if the roads might not bend the way you want, because you can always cover a tile later (although there are restrictions.) This is quickly becoming one of my favorite games. I suggest skipping the basic game and playing with the advanced rules right away. Its not any more complicated and really makes the game shine quite a bit more. Good luck!'"
      ]
     },
     "execution_count": 66,
     "metadata": {},
     "output_type": "execute_result"
    }
   ],
   "source": [
    "estrategia_principiantes"
   ]
  },
  {
   "cell_type": "code",
   "execution_count": 67,
   "metadata": {},
   "outputs": [],
   "source": [
    "chunk_estrategias = []\n",
    "chunk_estrategias = [(chuncker(texto), 'Estrategia personaje portuguese') for texto in estrategia_portuguese]\n",
    "chunk_estrategias += [(chuncker(estrategia_principiantes), 'Estrategia principiantes') ]\n",
    "chunk_estrategias += [(chuncker(texto) ,  'Estrategia Competitiva')for texto in guia_competidores]"
   ]
  },
  {
   "cell_type": "code",
   "execution_count": 68,
   "metadata": {},
   "outputs": [
    {
     "data": {
      "text/plain": [
       "[(['Except for the case where you want to rush to get your worker on the bridge, I cannot understand why using a 6 on the Portuguese is useful. The sooner you race through the river, the less likely you are to benefit for those 1 river space bonuses and claim rewards caused by other events. How else could the Portuguese be useful?'],\n",
       "  'Estrategia personaje portuguese'),\n",
       " (['I use it frequently...like you mentioned, usually to rush and get my extra worker.'],\n",
       "  'Estrategia personaje portuguese'),\n",
       " (['I have only played the game several times, but I think the best (and probably the most obvious) strategy is to build up your markets in your province as fast as possible, and then take the market action to score them frequently. Look and see which markets are available on the tiles and plan accordingly. The market action that allows you to score all three market types (one of each) does not cost a',\n",
       "   '(one of each) does not cost a die, so go for diversity first if the tiles available are in that favor. Of course pick the markets with value 2 or 3 first. My last game I did not buy any market tiles that had a value of one (unless it has a building on it that will score well for fame.) Build up your building upgrades as fast as you can as well. In our second game my opponent ignored buildings and',\n",
       "   'ignored buildings and focused entirely on markets - and he lost. So do not ignore them. This is one of those games where you have so much you want to do each turn and you only get to do one thing! Also, get your extra meeple as soon as possible. And dont forget the action where you can lay a tile on top of another tile. We sort of ignored that until our third game and realized it might be a good',\n",
       "   'realized it might be a good idea to connect to the borders of your province as much as possible even if the roads might not bend the way you want, because you can always cover a tile later (although there are restrictions.) This is quickly becoming one of my favorite games. I suggest skipping the basic game and playing with the advanced rules right away. Its not any more complicated and really',\n",
       "   'more complicated and really makes the game shine quite a bit more. Good luck!'],\n",
       "  'Estrategia principiantes'),\n",
       " (['Rajas of the Ganges is one of my favourite games. I like it because I see a way to work towards mastering it. I hope that this article will improve the gameplay of those with similar goals, as well as those on Yucata. This article is more tailored towards 2-player games (Navaratnas Ganga module) but many of the principles also apply to higher player counts. Revised in Feb 24 I incorporated new',\n",
       "   'in Feb 24 I incorporated new views based on my 10 games played as part of a Yucata Kings Court tournament. (2-players, round robin). The most significant is I now see the value of picking the Great Mogul (1). Besides updating the guide, I tried to improve the readability of the guide with ChatGPTs help. I am not very proficient with formatting on BGG, so I apologize in advance if it is still',\n",
       "   'in advance if it is still difficult to read! Rajas of the Ganges Strategy Guide Introduction Rajas of the Ganges holds a special place among my favorite games, as it provides a clear path to mastery. This article aims to enhance the gameplay for those with similar goals, specifically for 2-player games (Navaratnas Ganga module), but many principles also apply to higher player counts. At a Glance'],\n",
       "  'Estrategia Competitiva'),\n",
       " (['1. The Macro View Revised in Feb 24 - Mixed strategy Heavy Money Fame 2. Evaluating the Board State at the Start of the Game to Decide on a Strategy - 1 market of each kind 3 and 4 directional tiles (consider your dice as well) 3. Dice Management Revised in Feb 24 - 3 karma dice River 3 color dice River Dancer 2 dice River 1-for-2 dice 1 dice (assuming the dice color matches what you want) 4. How',\n",
       "   'matches what you want) 4. How to Get Money - Different market spot - No. 4 - River spots - Connecting to the bottom of the board (longer than the top but more worthwhile in the long run) - 1 market (only worth if activating 3 or more) 5. How to Get Fame - No. 4 then build monuments - Board - River spots 6. How to Quickly Get Your 6 Workers New Section in Feb 24 - River is your good friend - If',\n",
       "   'is your good friend - If you have a good Money set-up (3 different markets), focus on river spots giving fame - If you have a good Fame set-up (min. 3 monument upgrades), focus on river spots giving money 7. What Yield Tiles to Pick New Section in Feb 24 - Make sure you have a good Brown end-game yield tile - If you have a bad Money engine, pick Money - If you are reaching the yield tile soon and',\n",
       "   'the yield tile soon and lack dice, pick dice 8. Others - (Base Game) the most optimal way to build is to go down the center and build both ends - Withhold building to punish opponents for getting dice in the color of the tile you want and can get'],\n",
       "  'Estrategia Competitiva'),\n",
       " (['Macro View Mixed Money Fame The game concludes when the fame and money tracks intersect. Thus, players can opt to focus heavily on money, fame, or pursue a mixed strategy. In a balanced strategy, players benefit from both tracks, making it generally more advantageous. A slight emphasis on money is preferred due to better bonuses (river and dice) compared to fame (upgrade, karma, and river).',\n",
       "   '(upgrade, karma, and river). However, a fame-heavy strategy can still be successful. In Raja of the Ganges, flexibility is key, and understanding your best options at any given moment is crucial. Evaluating the Board State at the Start of the Game to Decide on Strategy 1 market of each kind 3 and 4 directional tiles By default, seek market tiles of each kind (greenyellowred) providing 2-3 coins',\n",
       "   'providing 2-3 coins to quickly form 3 different markets for 6-9 coins. Two-markets-in-one tile and affordable market tiles are also viable. The 3-different-markets meeple spot offers the best VP-to-cost ratio, as it requires investment in only 3 tiles and costs no dice. If acquiring these tiles is challenging, consider going for monument upgrades. In such cases, focus on 3 or 4 directional',\n",
       "   'focus on 3 or 4 directional monument tiles or those combining monuments and market tiles to build both the fame and money tracks simultaneously.'],\n",
       "  'Estrategia Competitiva'),\n",
       " (['For example, in the given illustration, consider 7 blue (since green Market is rare) and then either 5 Orange, 9 Green, or 7 Purple. This tile evaluation remains relevant throughout the game as you aim to build towards the bottom for the most rewarding outcomes. Deciding between sub-par 3 or 4 directional tiles (usually market tiles) and tiles that fit your monument upgrades will likely determine',\n",
       "   'will likely determine your chosen strategy, whether Heavy Money, Mixed, or Heavy Fame. Dice Management 3 karma dice River 3 color dice River Dancer 2 dice River 1-for-2 dice 1 dice Dice color matters only when building. Dice plays a crucial role in lubricating your VP engine. In order of preference, obtain dice through the following methods 1 River spot (1 die per karma) The uniform color aids in',\n",
       "   'The uniform color aids in building tiles. 2 River spot (2 dice) is superior to 1-for-2 dice exchange because it advances the river track, providing better rewards and an extra meeple. 3 Updated Feb 24 Dancer While Dancer is more useful in the early game, it gradually loses its edge as you accumulate enough yield tiles. 4 1-for-2 dice exchange is usually better than acquiring 1 dice because more',\n",
       "   'acquiring 1 dice because more dice of the same color make building easier, and you get a free roll of the die you gave up. Think of it as receiving a new die, rerolling your die, and giving it a different color. Consider saving a die to acquire more dice, as this is typically the trade-off. With dice, focus on increasing both money and fame. Strategies for Resource Acquisition in Rajas of the',\n",
       "   'Acquisition in Rajas of the Ganges How to Get Money - Different market spot - No. 4 - River spots - Connecting to the bottom of the board (longer than the top but more worthwhile in the long run) - 1 market (only worth if activating 3 or more) How to Get Fame - No. 4 then build monuments - Board - River spots How to Quickly Get Your 6 Workers New Section in Feb 24 In the Advanced game, you start',\n",
       "   'the Advanced game, you start with 3 workers and can unlock 3 more by advancing on the Money, Fame, and River tracks. Rushing for 6 workers is beneficial, outweighing the drawback of yielding tiles to opponents. This is because 1 worker is minimally worth 1 die, and the benefit of yield tiles diminishes as opponents acquire more. River is your good friend - If you have a good Money set-up (3',\n",
       "   'have a good Money set-up (3 different markets), focus on river spots giving fame - If you have a good Fame set-up (min. 3 monument upgrades), focus on river spots giving money While its preferable to get 3 markets and then focus on fame for the extra worker, circumstances may not allow this, usually due to tile constraints. In such cases, focus on fame but make a conscious effort to obtain all',\n",
       "   'effort to obtain all the Money bonuses on the river. Anticipate whether your opponent is using the build or river locations and try to beat them to it or delay your visit to these locations until the next round if there are no compelling reasons to visit this round. The goal is to secure the worker on the Money track. The river is an excellent place to utilize low rolls and can yield various',\n",
       "   'rolls and can yield various rewards. Climbing it strategically for the rewards you need (usually dice fame or money) is key. The Portuguese (6) turns out to be more useful than perceived, particularly when moving up the river without 6 is challenging. Keep this in mind when deciding whether to use the 6 dice to build tiles or ascend the river. 6 can also be a good option when landing on the river',\n",
       "   'when landing on the river reward that allows you to pick one of 1 - 5 bonuses. What Yield Tiles to Pick New Section in Feb 24 Ensure you have a good Brown end-game yield tile - Based on my observation, players prefer taking yield tiles in this order RedBrown YellowWhite. - Starting with a bad brown yield token can be detrimental, and players should quickly exchange it for a good brown yield',\n",
       "   'it for a good brown yield token. Only the bolded tiles below consistently provide 6 or more fame.'],\n",
       "  'Estrategia Competitiva'),\n",
       " (['1 fame per 3 river spots 1 fame per worker 1 fame per market 2 coins per monument upgrade 2 coins per tile connected 1 coin per building 2 fame per bend'],\n",
       "  'Estrategia Competitiva'),\n",
       " (['For white, yellow and red yield tiles, - If you have a weak Money engine, pick Money - If you are approaching the yield tile soon and lack dice, pick dice Others (Base Game) the most optimal way to build is to go down the center and build both ends - The bottom rewards are significantly more potent. Consider this scenario (and how you should generally build in the base game)'],\n",
       "  'Estrategia Competitiva'),\n",
       " (['4 Fame 7 money or 6 money 8 Money. If lacking dice, consider taking a detour to the 2nd bottom row first, as it is more valuable than going down the sides where you get 3 dice before reaching your rewards. - For the Advanced mode, route choice is flexible; pick a route that aligns with what you want to build. Withhold building to punish opponents for acquiring dice in the color of the tile you',\n",
       "   'in the color of the tile you want and can get - This is an advanced consideration when players have a good sense of whether a given tile is sought after by others. Otherwise, its generally better to buy a tile first, see what that tile is, before obtaining dice to better adapt to the available tiles for purchase. Parting Remarks Critics have pointed out Rajas of the Ganges for being scripted on a',\n",
       "   'for being scripted on a strategic level, but the games essence lies in tactical decisions. Its 80 tactical, akin to navigating a maze in the fog. The fun lies in assessing the most likely path based on limited information. I hope this guide aids those striving to enhance their gameplay Addendum As nandblock rightly points out in the comments, the Master Builder is often overlooked. There are a',\n",
       "   'often overlooked. There are a few advantages to it, namely Converts dead ends to live paths (translating to creating dead ends for yield rewards and then over-building to continue the path) Provides the ability to snag a tile if you lack enough dice of the same color to build conventionally Saves coins. I have used it effectively too. Note that these advantages must be weighed against not',\n",
       "   'must be weighed against not advancing your path (since you are replacing and not adding a new tile). Some players use their 1 dice to get the Great Mogul (1). I think this is not worthwhile because most river spots are worth more than 2 fame, or it can be converted to a 6 for Portuguese or building tiles. I will probably only do it if I need the 2 fame to get my fame worker The leading player is',\n",
       "   'worker The leading player is 2 or 3 seats after me AND the player seated after me does not threaten me The next round will be the last round The player after me always picks the Great Mogul Update in Feb 24 In 2-player games, I have been humbled by players frequently picking the Great Mogul. The Great Mogul can be a very good pick if both players have developed their 3 markets. Lets say both',\n",
       "   '3 markets. Lets say both players can get 6 coins from the spot, the Great Mogul can represent a 12-coins swing (6 to you, -6 to your opponent). This is also very good if it would help you or stop your opponent from getting a reward on the Money track. That said, you still have to weigh it against advancing 1 river step or converting to 6 for Portuguese or building tiles.'],\n",
       "  'Estrategia Competitiva')]"
      ]
     },
     "execution_count": 68,
     "metadata": {},
     "output_type": "execute_result"
    }
   ],
   "source": [
    "\n",
    "chunk_estrategias"
   ]
  },
  {
   "cell_type": "code",
   "execution_count": 69,
   "metadata": {},
   "outputs": [
    {
     "data": {
      "text/plain": [
       "[['This is my first review for BGG. Ive really enjoyed Rajas so far so it seems like a great game to start with! I love midweight Euros and a big appeal of this game for me was the stated 60-75 minute play time. I often play games with coworkers at lunch and we have an hour to play. For that reason, I dont get to play heavier games like Great Western Trail very often. Games that have seen regular play lately include Rajas, Tiny Towns, Tournay, Jaws, Res Arcana and Century Spice Road. I bought Rajas of the Ganges a few weeks ago after months of delayed gratification... its been on my wishlist for a while. Ive spent a fair amount of time traveling in India so the theme was automatically a win for me. The art and components are fantastic. 48 dice of varying colors, wooden meeples, nice thick tiles for province building. I also really love the Kali component for storing dice. The only component Ive found lacking is the player 1 elephant - sure, its cute, but it easily falls apart. This is nitpicking, though. I have played this game at 2, 3 and 4 players and have loved it at all counts. Turns go fairly quickly. Interaction is indirect but theres a fair amount of tension due to the competition for building tiles and placing workers. I always find myself paying attention to the turns of others. Rajas also combines dice rolling, tile laying and worker placement in an extremely satisfying combination. The worker placement vibe gives me a Lords of Waterdeep feel, which is a big positive. Players start with 3 workers but can unlock up to two more, so all players are racing to get an advantage (however brief) where they get additional actions in a turn. The tile laying comes into play when building out provinces that include markets (for money) and monuments (for fame) - plus reaching certain spots leads to bonuses. This adds a nice, classic Carcassonne vibe. The individual player boards for provinces are excellent and the rules for building out provinces are simple yet engaging. The dice rolling aspect is also excellent. I hate luck-based games and Im generally not a fan of dice. Games like King of Tokyo bore the heck out of me. However, I love games where I can mitigate andor manipulate dice, and this is one area where ROTG really shines. Dice are rolled as soon as they are acquired. I am almost always excited by what I roll because I have so many options. Low rolls can be turned to high rolls by using karma (and high rolls are desirable for gaining buildings). However, low rolls can be desirable in their own right - for instance, the dancer can only be activated with a die roll of 2 (which results in 2 fresh dice to add to a players pool along with a bonus tile) and the yogi is activated with a die roll of 3 (a free die plus 2 karma). Each player also has a boat on the river that can be moved only with a roll of 1-3, triggering special bonuses. In the rare instances I get a mediocre roll and find myself stuck, its generally because I havent done a good job replenishing karma. My gaming group have found multiple strong strategies for winning this game. Being resourceful with dice and balancing fame and money are all important. Also, everyone Ive played with so far (4 other people plus myself) have all really liked this game. Best of all, this game can be played in about an hour. I played a 3-player game a few days ago that was tense, thinky and immersive and led to all three players nearly winning the game despite the fact that we all pursued drastically different strategies. I was amazed that we completed the game in an hour. It felt like wed played a meatier game, which is a huge plus for me. As much as Id like to bring a big ol Euro to the table at lunch, its just not an option for us at work! I give this game a 9 out of 10 (and I havent given any games a 10 just yet, so 9 is as high as I go). Highly recommended!'],\n",
       " ['Plays 4 at player counts 2 3 Appearance The front of the box shows a beautiful landscape and river with a deity holding dice and is full of colour and detail. The back of the box shows a 2 player game in progress showcasing the majority of the components and gives a description of the theme of the game. The game has a good insert which holds the components well and makes setup a lot quicker. The player boards are well laid out but a little bland until you lay tiles on them during the game. The tiles are more detailed with various spices and buildings, along with a large number and colour to denote what they require to be built. The wooden coloured player components are easy to distinguish from one another and include some shaped meeples along with some bland cubes. The main board is a particular highlight of the components, it is very colourful and detailed and doesnt look overwhelming. Finally the dice are very good quality in bright colours with a nice weight to them. Gameplay The aim of the game is to make your fame and wealth track markers intersect one another, these run in parallel around the board in opposite directions. When a players 2 markers intersect the end of the game is triggered, with the player with the biggest difference between the 2 markers winning if multiple players tokens intersected. Each turn players will place workers, pay any costs associated with the spot and carry out the action listed. These costs vary from moving back on the money track to paying a specific colour or numbered dice. Players will continue to place workers until all workers have been placed and the board will then reset with players collecting back all their workers and the next round can begin as long as the end game hasnt been triggered. There are 4 main different worker placement areas the quarry, market place, palace and harbour. Using the quarry worker area you can build a province tile into your personal province. There are 12 different province tiles on offer at any time, 3 for each different coloured dice. Your must pay the listed money cost when placing your worker along with matching coloured dice of equal to or greater pip value than the tile you are acquiring. You must place these tiles with a direct path back to your starting palace on your province. You gain any yields that you connect to on the edge of your province and receive the money from any markets on the tile. You also receive fame for any buildings on the tile based on your position on that buildings scroll track on the main board, so between 2 and 4 fame. There are various actions and bonuses on the board that allow you to move up on the 4 building scroll tracks. The market worker area allows you to collect income from the markets in your province, either from the same type of market or different ones. When activating the same market you must pay a dice and can only activate as many markets as the pip value of the dice. The palace has 3 main areas the terrace, balconies and the chamber. In the terrace and balconies you can either collect a specific coloured dice of your choice or trade one coloured dice for 2 of a different coloured dice. Whenever you collect dice you roll them and place them onto your Kali statue if you have room. You can always spend karma (if you have it) to flip a dice when you need to pay a cost. In the chambers you can spend a dice of a specific number to activate one of the characters for a specific action. These include gaining dice, karma, scroll movement, taking first player and building over province tiles in your area. In the harbour you can move your boat 1 to 3 spaces on the river and take the listed bonus on the space you end your movement on. The amount of spaces you move depends on the value of the dice spent. Boats cannot be on the same space and you simply skip spaces opponents boats are present on. The bonuses are very similar to the other actions on the board but towards the end reward dice, money or fame based on a condition such as number of karma, scroll movement or markets built in your province. You start the game with 3 workers but can unlock up to 3 more from the fame, money and river tracks when your corresponding marker passes them. Play continues until the end of the game when one players score markers intersect. Play continues until every player has played an even number of turns and then the winner is determined. The turns flow very naturally in this game with simple to resolve actions and costs to pay. The game plays 2 to 4 players and an unofficial solo automa is also available on bgg. Theme and Game Length The game has a good theme, different to many other Euro games of this weight but it doesnt really come through in the actions you are performing. Why are you trying to get wealth and fame to meet, who are these characters and why does the river give the bonuses it does. Gaining workers makes slightly more sense as when you get more famous on the 3 tracks more people are willing to work for your province. The game doesnt drag at all and is actually quite fast for the level of decisions offered. The game scales well with 2 different sizes of the board to tighten up the worker placement spots. The game takes about 20 minutes per player which is very good considering the weight of decisions you make. Strategy There are two main ways to score points in this game, wealth and fame. It is very hard to just work on just one of these and win so over the course of the game you will be earning both. Players will differ in their overall strategy but there is only the one way to win, intersecting your markers. A focus you must have is to get more workers as quickly as possible. The two workers that can be unlocked on the wealth and fame tracks are the easiest to obtain. The wealth track also offers multiple other bonuses so is the track you should target at the start of the game. If other players have more workers than you for too long you have no chance of winning with the yield tiles offering too little in compensation for the worker placement actions they are taking. Each fame is worth 2 money so this obviously looks more appealing to try and race up but without the track bonuses this shouldnt be an early game focus. Instead you should look to increase your scrolls for the 4 building types. If you specialise in one or two building types other players may build tiles with that building type to prevent you from building it. Also with 4 different building types the tiles that may come out may not be the ones you get extra fame for so its probably best to spread your scroll movement out. A space that you cannot underestimate is the space to activate up to 3 different markets in your province. You want to make sure to build 3 different high value markets as soon as possible to take advantage of this space. This spot (or spots in the 34 player games) is usually the first spot players go to at the start of each round from the mid game onwards. It costs no dice and can yield anywhere from 3 to 9 money which is better than any other spot due to having no costs. Activating multiple markets of the same type can also be good but requires a lot of the same market to be built which depends a lot of the tiles that come out. Many of the spots cost dice of various values with every value having a potential good use. If you get lots of high value dice you should be using these to build tiles, trying not to waste too much pip value. The lower value dice can be used for some of the characters or more likely the river. The river is sort of split into two halves by your unlockable worker with the first half offering small bonuses like dice, scroll movement and fame. The later half offers powerful one off bonuses like activating multiple markets or gaining fame and money based on a condition. It is perfectly viable to skip most of the early bonuses and plan to maximise these powerful one off bonuses instead. With so many spots costing dice you always want to make sure you dont run out. You should never take the terrace actions to gain one dice as it is so inefficient and should instead look to use bonuses to acquire dice or trade one dice for two. In the higher player count games you also want to make sure you are not 3rd or 4th in turn order for long due to some worker placement spots being clearly better than others and you can really fall behind if you are not careful. There have been some runaway leader problems in the games that I have played of this. During the mid game it became obvious who was going to win generally because of the market setup they had on their board. This meant one worker could gain them 6 12 money with each action which was much stronger than the other players. Newer players will struggle with experienced players with both tracks to manage and not being able to distinguish which worker placement spots are better than others. The game has modest replayability as you are aiming to do the same thing each time and the way the tiles come out and what dice values you get will change each game. The game also comes with several modules which significantly help replayability and make the game better in my opinion with ways to customise your province. The game can end very suddenly and can be difficult to plan for so you need to be building towards the end of the game constantly. Accessibility The game is light to medium weight with simple to perform and resolve actions but some setup on your province tile required to do well. There is also some consideration needed for when and where to place your workers to maximise their benefits. The game is very easy to teach with obvious iconography and the main board layout also helps. The rulebook is excellent, very clearly laid out rules with multiple examples and text descriptions of each worker placement spot. The game takes up a decent amount of table space with each players province, the main board and places for tiles and dice. Final Thoughts Rajas of the Ganges is a good next step worker placement Euro game with simple to understand rules and great components. The game has good flow to it with your points increasing steadily before exploding towards the end. One of my main problems is the market space on the main board especially the activate 3 different ones in your province. This is way too strong due to having no cost and makes first player way too powerful in this game with players needing to shift it multiple rounds in a row to mitigate this. I really like the scoring in this game its fairly unique and offers different considerations unlike normal Euro style games. I also like the fact that all values of dice have uses in this game so even though low numbers arent good for building you can use them on characters and the river or to trade. A solid light to medium weight game. 710 If you enjoyed this review please leave a thumbs up and also think out about checking out one of the 120 reviews available on my blog (with pictures), Silver Duck Reviews, and subscribing to let you know when new reviews go live.'],\n",
       " ['I have only played Rajas once at 2p and I must say that I found it to be an utterly underwhelming and overly frustrating experience. The problem with Rajas is that it overwhelmingly relies on luck. Not the sort of fun luck youll find in Camel Up or Quacks of Quedlinburg but the sort of luck that makes you wanna flip the table. There is no question that the most important aspect of the game is your personal player board. This is your engine that drives your money and karma production and if it isnt impressive, youre simply not gonna win. How does one make an impressive player board? With lots of dice pips, which means you either need a lot of dice or to roll well. If your opponent rolls better that you or happens to pick up all of the bonus tiles that award extra dice they will leave you for dead, and thats exactly what happened in my game. Sure there are ways to mitigate poor dice rolls with the use of karma but it just isnt enough as karma itself is costly and hard to come by. In my game I never felt like I had a chance of winning, yet I feel like I played as well as I could have with what I had. I absolutely do not feel that I had any chance of winning the game with my dice rolls and bonus tiles draws when compared to my opponents. My choices just seemed to have little to no agency; all the agency was in the dice rolls and that just isnt fun for me There are some interesting ideas in here, but thats about it. The interacting famemoney tracks seem interesting at first glance but when you really think about it it turns out that it couldve just been one track, not two. If something were to award you with one fame, it couldve just been two dollars (or rupees) to the same effect. Sure, there are bonuses to be had as you progress along the individual tracks but that only serves to force you to attempt a little bit of everything and dis-incentivizes focusing on one particular strategy. Overall, Rajas is a very generic, bland euro game with far too much dependence on luck. In my game it never felt like I was playing against my opponent, but rather I was playing against the game and the game was being much, much nicer to my opponent than it was to me. I would be hard pressed to play this again.',\n",
       "  'Totally the opposite of every play Ive had of this, including my first. The game has less luck than a lot of games using dice. Some spots can only be visited with low rolls and many of them are powerful. Maybe you just dont understand the game and cant figure out how to value what those options are? Whatever the reason, its not the games fault. Raja is a top 10 all-time game for me and is likely to remain that way.',\n",
       "  'Rajas was such a hit with me, I play against a difficult automa I printed cards for and have played multiplayer. There were always things to do with different dice, high or low, and everything is cleverly put together. So you have only played once at two player, have you played any other ways? Maybe it was just a really unlucky game and your opponent was luckier and also stole the areas youd want, before you. If there was only one track it wouldnt be that much fun.... A lot would seem odd too, spending money to gain more money? Fame and crossing on the track make it more fun. The Dice Charmers version of this game is also super fun. I always wrote this off since I am a solo player, but always wanted the game. So glad I found the automa and then did end up recruiting newbie type gamers. Easy to teach and understand. This game instantly jumped into my top nine. What are some games you love, so we know if it is even your style? To each their own of course!',\n",
       "  'I know that some of the low dice-roll spaces are valuable, but not nearly as valuable as buying good tiles. I doubt one could ever win this game with consistently low die rolls.',\n",
       "  'Maybe it was just a really unlucky game and your opponent was luckier - exactly my point.',\n",
       "  'Maybe it was just a really unlucky game and your opponent was luckier - exactly my point.',\n",
       "  'Ah yes, but dice rolling isnt often so perfectly one sided, so my point is that your first experience is more of a fluke than an actual measure of how the game usually plays. I mean, of course its your right to dislike it and find is disappointing. I just think your first game sounds like a fluke. The game is usually tight and not such a runaway winloss.',\n",
       "  'Also it does seem very Euro-introductory, but I love the simplicity and easy to figure out iconography. Easy to teach to newer gamers interesting in expanding. I also love the roll of dice. Maybe one of the goodies boxes would fix the problems you are having. I am going to look closer at them for myself.',\n",
       "  'The problem with Rajas is that it overwhelmingly relies on luck.',\n",
       "  'No it doesnt. Its a dice-driven game, and like all dice-driven games there is an inherent amount of randomness (or luck as you call it). But overwhelmingly reliant on luck? No, because there are multiple ways to mitigate dice values that arent working for you, and Karma is just one of them. You have one particular dice that isnt working for you? Trade it for 2 other different colored dice and get a fresh roll. There are good spots for low value dice rolls as well as higher value ones. As for building up your player board, start modestly and work your way up - the default presentation of the tiles is very even and fair in that there should always be something you can afford to build. It may not be the perfect tile for you at that given moment (it rarely is) but a creative player should be able to find a way to make something work.',\n",
       "  'I would be hard pressed to play this again.',\n",
       "  'Thats too bad. It really is a terrific game but if youre confident that one play was enough to put you off for good, then it is what it is.',\n",
       "  'I know that some of the low dice-roll spaces are valuable, but not nearly as valuable as buying good tiles. I doubt one could ever win this game with consistently low die rolls.',\n",
       "  'It took me a bit to figure out how to finagle this scenario, but the key is karma and the river. If you can time out your karma right, you can snag a bunch of low value tiles to get your bonuses. The two space is also seriously useful in these scenarios since you can get up to three dice of your choice. Additionally, dont feel bad if you take the re-roll action, its not great, but a bit of cash in your pocket and a better roll can be a good thing. Weirdly enough, I tend to struggle with consistent high value rolls, particularly in early game.',\n",
       "  'The problem with Rajas is that it overwhelmingly relies on luck.',\n",
       "  'No it doesnt. Its a dice-driven game, and like all dice-driven games there is an inherent amount of randomness (or luck as you call it). But overwhelmingly reliant on luck? No, because there are multiple ways to mitigate dice values that arent working for you, and Karma is just one of them. You have one particular dice that isnt working for you? Trade it for 2 other different colored dice and get a fresh roll. There are good spots for low value dice rolls as well as higher value ones. As for building up your player board, start modestly and work your way up - the default presentation of the tiles is very even and fair in that there should always be something you can afford to build. It may not be the perfect tile for you at that given moment (it rarely is) but a creative player should be able to find a way to make something work.',\n",
       "  'I would be hard pressed to play this again.',\n",
       "  'Thats too bad. It really is a terrific game but if youre confident that one play was enough to put you off for good, then it is what it is.',\n",
       "  'Yeah, these are all somewhat valid points, but if Im having to take all these actions trying to get more dice and reroll my low value dice while my partner is not then Im inherently at a disadvantage. Not to mention that they consistently picked up extra dice with the 2-pip die action while I was getting the less-useful bonuses. It was not a level playing field. Maybe its just a me problem though because I dont like luck in my euros. And you may call it randomness, but I definitely call it bad luck when I pick 4 dice and roll thee ones and one two when Im specifically in need of high numbers, and have already used up all my karma on my earlier lousy rolls.',\n",
       "  'My experience with the game is the opposite of the OP. We bought it shortly after we played it. We enjoy dice rolling games, even when we roll bad (my wife is the queen of bad rolling), but she enjoys this one with me. Too bad you (OP) didnt like it, but to each his own.',\n",
       "  'Thanks for your post. Always good to read a less favourable but well presented opinion. I enjoy Rajas, but for me the strength of the markets and getting the right dice to grab a set is more of an issue than simply pip value. Markets can be really strong and theres this forced tension of feeling like you have to get market sets otherwise someone else will and theyll spin up an engine and pull away. Rather than have other directions to go in. It comes up in various threads and Im not sure Ive ever been completely satisfied by the arguments that the game is fine as is. So I find it hard to grab it off the shelf. The problem may be mine. I tend to play games in a way where I avoid strategies that look obviously strong. I dont know why, but I just dont want to be doing the obvious moves all the time because then I dont really have any agency. Its scripted. The last few games of ignoring an obvious market grab have left me way behind the pace, watching people accumulate money quickly whilst my engine stalls. The argument seems to be that Rajas isnt a game of diverse strategies. Its a game of balance. Sometimes you have to take those tiles because otherwise you are being suboptimal and leaving a great move for someone else. And I guess I should play with that mindset and enjoy the tension around the scramble for good tiles. But to bring this full circle, therein lies the luck part of the game for me. If a great tile comes up and I convert one dice to two of the colour I need and I get low values, its taken too long to nab the tile before someone else snaffles it. Sure theres karma and keeping a good dice pool, but as the OP alludes to, sometimes it feels like youve been situationally shafted when it really does matter that you roll high. All of this does make me want to play it again though lol',\n",
       "  'I enjoy Rajas, but for me the strength of the markets and getting the right dice to grab a set is more of an issue than simply pip value. Markets can be really strong and theres this forced tension of feeling like you have to get market sets otherwise someone else will and theyll spin up an engine and pull away. Rather than have other directions to go in.',\n",
       "  'In my opinion, this is a bit of a problem and people often make weak arguments when dismissing it that dont really hold up in practice. I think the main issue is that there are a lot of opportunities to use your markets over and over again while simultaneously making the action stronger every round, but not that many opportunities to make your building scoring ramp up in the same way. You can counter it a little bit by blocking market spaces, but this can also be to your detriment because you effectively lose a turn if you arent also going for markets. I found that some of the mini-expansions fix this issue by simply introducing more options to upgrade your building scoring throughout the game. They also mix in some powerful tiles that make the other player think twice about blindly going for the high value market tiles, because then they might leave you a tile which has good synergy with fame scoring, leaving you to create a similar runaway scenario like they are trying to do with their high value market tiles. Ive already played one three-player game where my opponent completely ignored me while building his wealth engine, and in the final two rounds I ran nearly two-thirds of the fame track and won by a landslide.',\n",
       "  'I have to disagree. There is a constant flow of dice and I cannot see how you can be unlucky all the time. There are 2 powerful strategies going for markets or going for buildings. In a 2 player games if you go for the opposite of what your oponent is doing or focus on one of those strategies if your oponent is doing a little bit of both you have many chances to win. You need to use wisely your buildings and your workers. I will give you that sometimes you run out of dice and luck, but you have to build up your engine and understand that your oponents will also eventually run out of dice and luck. I mean, you roll tens of dice in this game, it is statistically impossible to always run out of luck. Seems to me that you have to give it another chance and find a strategy that fits your play. In the end if you lose by a little bit for a bad roll at least you had a great time competing.',\n",
       "  'My take away is that you should stay away from games with dice.',\n",
       "  'Well thats good advice to avoid disappointment, but is a case of throwing the baby out with the bath water. Theres a whole spectrum of how much the dice in games can affect the outcome. At one end would be something like roll a 1-3 you lose, 4-6 you win. At the other would be a game where the dice create chaos but in a perfectly balanced way. I agree that Rajas is more to the latter end, but I do think that my biggest gripe (the importance of being able to get the set of market tiles) is exacerbated by needing certain values of certain dice at the right time. If the markets felt a little less required then Id be way more willing to accept that enough dice are rolled that whoever navigates the chaos, by whatever route, is more often than not the worthy winner. So in my view the dice arent the problem per se, but combined with the requirement for certain values at important times, they can cause frustration, exactly per the OPs reference to the player board engine. This is a light to medium euro though, and for many all of that isnt going to hamper their enjoyment. Like I said before, all this does have me thinking I should give it a run again. And try to suppress my need to not be cheesy. It could be my bloody minded refusal to do the obvious thing in the hope theres more divergent paths thats the issue. Maybe its just a narrower game than I wanted it to be and preparing for those tiles and exploiting them, along with all other players trying to do the same, will create the natural balance im looking for regardless of dice rolls.',\n",
       "  'If you think the game is all about the player board and only high dice rolls matter than you are not analyzing the game deep enough. You are just looking at what on the surface level of what you think is most important. The river bonuses and palace spots are very strong. The two tracks are different because they have different bonuses along the way. Money gives you a lot of bonuses throughout the game. Fame gives you additional ability to get fame early on and access to another worker. The way you play against the opponent is to look at their board and colorvalue of dice and use that to anticipate what they may be trying to do. Then either get there first or play around it.',\n",
       "  'Rajas is one of my favourite games. What I like about it is that you still have options if you get low dice values. The number Two palace spot is very strong as is the river. Also you have Karma to mitigate the dice you get. Dont forget tile overbuilding which can be very strong in certain circumstances as you only have to pay the difference. For the different market space you dont even need a dice. It shines at higher player counts.',\n",
       "  'rizzou No, you are right, and I certainly dont think its only about high rolls. Nor do I think the player board is the only consideration. I get the variety of options, and i know the river can combo very nicely with other stuff. I have sympathy for the OP, even if I dont agree entirely. From around a dozen plays, mostly 2p but not exclusively, in the vast majority of games the player that exploited the assorted market the most won. Thats my issue. So subjectively, but with some supporting data, tiles that provide a variety of market goods of 2 or 3 coins each are more important. And they require certain dice colours and values. And therefore there will be occasions where I have to spend a couple of turns working to get the dice pips I need to get the tiles I really want, and I dont get them. In a 2 player game that can be swingy if you miss and they hit. The OP had quickly identified situations where they wanted certain values and were frustrated not getting them. I agree that in many of those situations there were probably equally good options away from building tiles, but Id also bet some of those situations were where they wanted those juicy market tiles and our thoughts on the game align. grandpawizard had said theres rarely a runaway winner and again thats not my experience where one player is able to get ahead with those markets. Many times I was happy to call the game 23 of the way through because it was crystal clear who would win. But some of this is personal taste. A lot of people love this game. And I have enjoyed the puzzle at times even though I felt it was a touch flawed as a competition. Just the other day I was reading Carolines recent blog post (subscribe if you havent already people!) where Rajas got a good mention. I for example really enjoy Spacecorp, a game that takes 2.5 hrs and has objectively bad tile draws. Why am I ok with that and less inclined to let it slide here? Who knows? We are a funny bunch! CarolineBlack - perhaps player count is part of the problem. I only had a handful of games at higher counts and pretty much every one of those games had one or two new players. Maybe the game needs players to know about, and to fight for, the market goods tiles to spread them around and keep those who dont get them in touch. Much in the same way auction games often dont work if one or more of the players are inexperienced and throw out the balance.',\n",
       "  'Thanks for your post. Always good to read a less favourable but well presented opinion. I enjoy Rajas, but for me the strength of the markets and getting the right dice to grab a set is more of an issue than simply pip value. Markets can be really strong and theres this forced tension of feeling like you have to get market sets otherwise someone else will and theyll spin up an engine and pull away. Rather than have other directions to go in. It comes up in various threads and Im not sure Ive ever been completely satisfied by the arguments that the game is fine as is. So I find it hard to grab it off the shelf. The problem may be mine. I tend to play games in a way where I avoid strategies that look obviously strong. I dont know why, but I just dont want to be doing the obvious moves all the time because then I dont really have any agency. Its scripted. The last few games of ignoring an obvious market grab have left me way behind the pace, watching people accumulate money quickly whilst my engine stalls. The argument seems to be that Rajas isnt a game of diverse strategies. Its a game of balance. Sometimes you have to take those tiles because otherwise you are being suboptimal and leaving a great move for someone else. And I guess I should play with that mindset and enjoy the tension around the scramble for good tiles. But to bring this full circle, therein lies the luck part of the game for me. If a great tile comes up and I convert one dice to two of the colour I need and I get low values, its taken too long to nab the tile before someone else snaffles it. Sure theres karma and keeping a good dice pool, but as the OP alludes to, sometimes it feels like youve been situationally shafted when it really does matter that you roll high. All of this does make me want to play it again though lol',\n",
       "  'Well articulated. This is quite literally what happened to me. I just couldnt get a good market set!',\n",
       "  'My take away is that you should stay away from games with dice.',\n",
       "  'There are plenty of games that I love that use dice well. Most notable Castles of Burgundy, which may not be a perfect system but does offer much better ways to mitigate bad dice rolls.',\n",
       "  'rizzou No, you are right, and I certainly dont think its only about high rolls. Nor do I think the player board is the only consideration. I get the variety of options, and i know the river can combo very nicely with other stuff. I have sympathy for the OP, even if I dont agree entirely. From around a dozen plays, mostly 2p but not exclusively, in the vast majority of games the player that exploited the assorted market the most won. Thats my issue. So subjectively, but with some supporting data, tiles that provide a variety of market goods of 2 or 3 coins each are more important. And they require certain dice colours and values. And therefore there will be occasions where I have to spend a couple of turns working to get the dice pips I need to get the tiles I really want, and I dont get them. In a 2 player game that can be swingy if you miss and they hit. The OP had quickly identified situations where they wanted certain values and were frustrated not getting them. I agree that in many of those situations there were probably equally good options away from building tiles, but Id also bet some of those situations were where they wanted those juicy market tiles and our thoughts on the game align. grandpawizard had said theres rarely a runaway winner and again thats not my experience where one player is able to get ahead with those markets. Many times I was happy to call the game 23 of the way through because it was crystal clear who would win. But some of this is personal taste. A lot of people love this game. And I have enjoyed the puzzle at times even though I felt it was a touch flawed as a competition. Just the other day I was reading Carolines recent blog post (subscribe if you havent already people!) where Rajas got a good mention. I for example really enjoy Spacecorp, a game that takes 2.5 hrs and has objectively bad tile draws. Why am I ok with that and less inclined to let it slide here? Who knows? We are a funny bunch! CarolineBlack - perhaps player count is part of the problem. I only had a handful of games at higher counts and pretty much every one of those games had one or two new players. Maybe the game needs players to know about, and to fight for, the market goods tiles to spread them around and keep those who dont get them in touch. Much in the same way auction games often dont work if one or more of the players are inexperienced and throw out the balance.',\n",
       "  'As you said, the game depends on players knowing which tiles are good and fighting over them. In fact, in a 2p game you have less reason to say you find yourself locked out of a good tile because the available tiles only change by at most 1 between ur turns. It should be apparent when your opponent will get the good tile before you (and you should plan for another good tile). Regarding the 3 market location, you have 50 first pick. Unless your opponent picked the 1 dice location which I dont find a good use most of the time because you can convert it to a 6 and jump 6 River spaces. Compelling to get markets, yes, but not OP. Yes runaway games are possible because this game is maybe 70 skill.',\n",
       "  'The market being over-centralizing to me is a feature of the game, not a bug. Many euro gamers seem to have the expectation that each path of victory needs to be perfectly balanced. But there is nothing wrong with having certain paths be more desirable and thus skew the game towards them. Particularly in a worker placement game where you can strategize and fight over it, it just adds a different dimension to the game rather than just letting everyone spread out and avoid each other.',\n",
       "  'My current rating for this game is 710 (Good Usually Willing to Play). Rajas helped my partner and I to try heavier euros because even though it is not a very complex game, it looks a bit overwhelming. It kind of demystified euros in our household. Good game, I have not tried the expansions yet, but I would like to.',\n",
       "  'Mango Village is okay. If u want to play a more forgiving game, try it. Those tiles require two dice of same number so even your double 1s can be put to good use. And also, the tiles are 4-way. I personally prefer a tighter game with trade-off between good market tile (low dice total but 2 or 3 way) and 4-way bad tiles.'],\n",
       " ['2-4 players 60-90 minutes medium Tile laying, worker placement Theme and Mechanics In Rajas of the Ganges, players are rich noble type people from India (please forgive my complete ignorance of Indian culture for this review, I am not well informed about this particular theme) and theyre working to improve their estate and earn the most money and prestige, fame, points, something like that to win the game. The theme really does come through, especially with the tile layingbuilding up their estates. Its hard for me to comment too much on theme and mechanics relating, because Im not too familiar with this topic, but it does seem like the mechanics are somewhat abstracted. It also seems like the setting could be changed without effecting game play, which makes the theme feel somewhat disconnected at times. Players each have an estate board with their palace on it, and several empty spaces, as well as a place to store dice, and 3 workers. There are 2 tracks around the outside boarder of the board going in opposite directions (money and fame). The player who can make these to tracks cross eachother the farthest wins the game. On their turn, players send one of their workers to one of several actions spaces (your standard worker placement rules) These actions are broken down into different areas that have similar effects; purchasing tiles for the estate, moving up the river track for various bonuses, gaining dice, gaining income, or using a specialist. Many of these actions have a money andor dice cost. The dice are used like resources. When they are gained, they are rolled and stored. There are 4 different colored dice that can be used for different actions in different ways. The tile laying action uses dice as a cost; each tile has a value and a color cost, and player must pay that many pips in that color to gain the tile. Moving up the river cost dice, the higher the number, the more spaces you can move. There are 6 action spaces (numbered 1-6) that require a specific number in any color to use, the marketincome space allows you to gain income from x number of markets (where x is the value of the die spent) and so on. There are also several action spaces that allow you to trade a die of one color for 2 dice of another color. There are several ways to manipulate the dice, and there are some good things you can do with bad dice rolls. The main focus of the game is the tile laying. Tiles will have markets (3 types) and buildings (4 types) that will score money and fame respectively when the tile is laid. The markets will also provide income when the market action is taken. The buildings will score fame based on the players progress on that buildings track. The tiles also dipict roads in various configurations. All roads must lead back to the palace in order to be legally placed. The perimiter of the player boards also have bonuses that are gained when a player connects the bonus to the palace with roads. each of the 3 tracks (money, fame, and river) offer a myriad of bonuses for certain points along the track (or every space in the case of the river) from improving buildings, fame, money, dice, karma (which is spent to flip dice over), bonus tiles, and extra workers. Art and Components This game looks fantastic. The board is absolutely beautiful, the box looks fantastic. All the art on everything in the game is stellar; very near to the best art in my game collection in my opinion. I have heard some say that the board looks very busy, and that that is confusing. I can understand that complaint, but I dont agree. It is far less confusing once you learn the game, and it just looks SO good. The quality of the cardboard tiles and board are standard good quality cardboard. There are no cards. The dice are bigger, translucent, good quality plastic dice with the rounded corners. The wooden worker pieces are cool looking, unique meeples, but Ive heard that they are not consistently cut, and my copy is no exception. Several of them are leaning (feet not cut straight) and one is missing half its head, and a friends copy had similar problems, but these issues are fairly minor. Theres a little multi-armed statue (ganesh? pardon my ignorance, again) that serves no other purpose but to hold your dice for you, but its really cool, and keeps the confusion low as to what dice are in your supply, and which were spent, and it just looks cool. Replability and Expansions The game is very replayable as is, and it comes with some variants and tokens to increase the variability; from changing the bonuses on the river spaces, to limiting dice storage (making the game more strategic), to changing the estate bonuses, and I would suggest using the variants in the rulebook right from the beginning for experienced gamers, because they increase the strategic choices in the game. There is one mini expansion,',\n",
       "  ', which adds some unique tiles that came in a gaming advent calendar. I have no experience with this expansion, but as soon as I found out about it, I ordered it (which was literally as I was writing this review) The Up Side This is a very fun worker placementtile laying game. I think it combines those two mechanisms beautifully. It is very strategic, and all the pieces (mechanically) interlock very well. Its fairly easy to pivot strategies when necessary, and there is usually a way to figure out how to do what needs be done when your actions are taken by other players, but it usually takes some creative thinking. The game is absolutely gorgeous. The Down Side Im having trouble coming up with a down side. I guess I wish there were more tiles, or more variety on the tiles, like maybe an extra mechanism included in the tile laying portion. You wont go through all the tiles in a single game, but you also wont be surprised by cool new tiles showing up, because theyre all essentially the same (some roads, a building or two, or a market or two). Very minor complaint. Another complaint Ill mention, but do not agree with, is that the board is too busy looking. I wish it could play 5 players. Final Thoughts I absolutely love this game. This is one where Ill always be happy to play it, and Ill insta-buy any expansion sight unseen. Its the perfect weight and length, very little down time, lots of meaningful decisions and a unique scoring mechanism (which isnt really score at all) 9 out of 10 httpswww.coolstuffinc.commainsearch.php?pasearchOnName...']]"
      ]
     },
     "execution_count": 69,
     "metadata": {},
     "output_type": "execute_result"
    }
   ],
   "source": [
    "reviews_foro"
   ]
  },
  {
   "cell_type": "code",
   "execution_count": 70,
   "metadata": {},
   "outputs": [],
   "source": [
    "chunk_opinones = []\n",
    "chunk_opinones = [chuncker(texto[0]) for texto in reviews_foro]\n",
    "chunk_opinones += chuncker(texto_video_review)"
   ]
  },
  {
   "cell_type": "markdown",
   "metadata": {},
   "source": [
    "## Base vectorial"
   ]
  },
  {
   "cell_type": "code",
   "execution_count": 71,
   "metadata": {},
   "outputs": [
    {
     "ename": "NameError",
     "evalue": "name 'client' is not defined",
     "output_type": "error",
     "traceback": [
      "\u001b[1;31m---------------------------------------------------------------------------\u001b[0m",
      "\u001b[1;31mNameError\u001b[0m                                 Traceback (most recent call last)",
      "Cell \u001b[1;32mIn[71], line 2\u001b[0m\n\u001b[0;32m      1\u001b[0m \u001b[38;5;66;03m#Eliminar la colección \"vec_db\"\u001b[39;00m\n\u001b[1;32m----> 2\u001b[0m \u001b[43mclient\u001b[49m\u001b[38;5;241m.\u001b[39mdelete_collection(\u001b[38;5;124m\"\u001b[39m\u001b[38;5;124mvec_db\u001b[39m\u001b[38;5;124m\"\u001b[39m)\n",
      "\u001b[1;31mNameError\u001b[0m: name 'client' is not defined"
     ]
    }
   ],
   "source": [
    "#Eliminar la colección \"vec_db\"\n",
    "#client.delete_collection(\"vec_db\")\n"
   ]
  },
  {
   "cell_type": "code",
   "execution_count": 72,
   "metadata": {},
   "outputs": [],
   "source": [
    "# Configurar el cliente de ChromaDB con persistencia\n",
    "client = chromadb.Client(Settings(persist_directory=\"./vector_db\"))\n",
    "\n",
    "# Crear una colección llamada \"vec_db\"\n",
    "\n",
    "vec_db = client.create_collection(\"vec_db\")"
   ]
  },
  {
   "cell_type": "code",
   "execution_count": 73,
   "metadata": {},
   "outputs": [],
   "source": [
    "def lista_chunks(chunks_list):\n",
    "    lista_c = []\n",
    "    for lista in chunks_list:\n",
    "        if type(lista) == list:\n",
    "            for i in lista:\n",
    "                lista_c.append(i)\n",
    "        elif len(lista)<10:\n",
    "            continue\n",
    "        else:\n",
    "            lista_c.append(lista)\n",
    "    return lista_c"
   ]
  },
  {
   "cell_type": "code",
   "execution_count": 74,
   "metadata": {},
   "outputs": [],
   "source": [
    "def fill_db(documents, metadata, base_id):\n",
    "    i = 0\n",
    "    for doc in documents:\n",
    "        \n",
    "        if type(doc) == tuple:\n",
    "            texto_lista, metadata_val = doc\n",
    "            texto = lista_chunks(texto_lista)\n",
    "            texto = texto[0]\n",
    "            for key, value in metadata.items():\n",
    "                metadata[key] = metadata_val\n",
    "\n",
    "            \n",
    "        else:\n",
    "            texto_lista = doc\n",
    "            if type(texto_lista) == list:\n",
    "                texto = lista_chunks(texto_lista)\n",
    "                texto = texto[0]\n",
    "            else:\n",
    "                texto = texto_lista\n",
    "            \n",
    "            \n",
    "            \n",
    "        print(metadata, texto_lista)\n",
    "\n",
    "        \n",
    "        if detect(texto) != 'es':\n",
    "            texto = GoogleTranslator(source=detect(texto), target='es').translate(texto)\n",
    "            \n",
    "        current_id = f'{base_id}_{i}'  # Asegúrate de IDs únicos\n",
    "        embedding = embed(texto).numpy().flatten().tolist() # Genera el embedding del documento\n",
    "        \n",
    "        # Depuración\n",
    "        print(f\"ID: {current_id}, Embedding Length: {len(embedding)}, Metadata: {metadata}, texto: {texto}\")\n",
    "        \n",
    "        try:\n",
    "            vec_db.add(\n",
    "                documents=[texto],\n",
    "                metadatas=[metadata],\n",
    "                ids=[current_id],  # Asegúrate de que sea una lista\n",
    "                embeddings=[embedding]  # Asegúrate de que sea una lista\n",
    "            )\n",
    "        except Exception as e:\n",
    "            print(f\"Error al agregar {current_id}: {e}\")\n",
    "        \n",
    "        i += 1\n",
    "\n"
   ]
  },
  {
   "cell_type": "code",
   "execution_count": 75,
   "metadata": {},
   "outputs": [
    {
     "name": "stdout",
     "output_type": "stream",
     "text": [
      "{'Reglas del juego': 'SETUP'} ['El jugador que haya sacado el valor más bajo en los dados se convierte en el jugador principal. En caso de empate, el último jugador que comió comida india. El jugador inicial colocará el elefante junto a su estatua de Kali y pondrá su marcador de riqueza en el espacio 3 en el track de riqueza. El jugador a su izquierda 4, el siguiente 5, y así sucesivamente. El jugador que vaya último comenzará', 'que vaya último comenzará con menos dinero. Coloca el tablero en el centro de la mesa con el lado correspondiente al número de jugadores (2 y 3 o 4). En una partida a 3 jugadores, cubre los e spacios marcadoscon l as losetas de coberturaPon los 48 dados junto al tablero de juego como reserva general. No es necesario Losetas de producción amarillas, rojas, y marrones (úsalas solo en la versión', '(úsalas solo en la versión Navaratnas) y las 8 losetas de río.Ordena las losetas de provincia, primero por colores y luego por los símbolos a sus espaldas (serpiente, vaca, tigre), así obtendremos 12 montones. Mezcla los 12 montones por separado y colócalos boca arriba junto al tablero, visibles para todos. Mezcla las 8 losetas de producción blancas y ponlas en un montón boca abajo en el templo.', 'boca abajo en el templo. Cada jugador coge un tablero de provincia y los componentes correspondientes 1 estatua Kali, 6 trabajadores, 1 barco, 5 cubos (karma y mejora ), 1 marcador de riqueza y 1 marcador de fama, además de 1 marcador de beneficio para el track de riqueza. Pon tu estatua de Kali y tu tablero de provincia con los lados representados hacia arriba delante de ti . Pon 3 de tus', 'delante de ti . Pon 3 de tus trabajadores junto a la estatua de KaliPon 3 trabajadores en los espacios disponibles en los tracks correspondientes Fama 15, Riqueza 20 y en el río (puente). Pon tu barco en el espacio inicial del río. Pon tu cubo de']\n",
      "ID: RG_0, Embedding Length: 512, Metadata: {'Reglas del juego': 'SETUP'}, texto: El jugador que haya sacado el valor más bajo en los dados se convierte en el jugador principal. En caso de empate, el último jugador que comió comida india. El jugador inicial colocará el elefante junto a su estatua de Kali y pondrá su marcador de riqueza en el espacio 3 en el track de riqueza. El jugador a su izquierda 4, el siguiente 5, y así sucesivamente. El jugador que vaya último comenzará\n",
      "{'Reglas del juego': 'TRANSCURSO DEL JUEGO'} ['El Juego se desarrolla en varias rondas, cada una de las cuales consta de varias etapas. En cada etapa, los jugadores, por turno - en sentido de las agujas del reloj, comenzando por el jugador inicial - podrá colocar un trabajador, pagar costes, si es necesario, e inmediatamente llevar a cabo la acción asociada. Este proceso continua hasta que nadie pueda colocar trabajadores. Después de eso cada', 'Después de eso cada jugador retirará sus trabajadores, y comenzará una nueva ronda. Los trabajadores podrán colocarse en la siguientes áreas del tablero de juego I.En la cantera, para llevar a cabo las acciones de construcción en tu tablero de provincia. II.En el mercado, para obtener riqueza a través de éstos, a lo largo de la partida. III.En el palacio del Gran Mogul, para obtener varios', 'Mogul, para obtener varios beneficios. IV.En el puerto, para avanzar en el río y así llegar a espacios de río que te otorgarán beneficios. En la cantera y en el puerto, los trabajadores se colocan siempre fila por fila de izquierda a derecha. En el mercado y en el palacio, se puede elegir cualquier espacio (desocupado) de acción. Mientras avanzas en el track de fama, riqueza y desarrollas tu', 'riqueza y desarrollas tu provincia, tendrás la oportunidad de obtener valiosos beneficios. Colocando trabajadores y relación a las acciones asociadas. La colocación de trabajadores siempre procede de la siguiente manera 1.Coloca el trabajador. 2.Pagar costes, si es necesario con riqueza yo dados. 3. Lleva a cabo la acción. Costes Dependiendo en el espacio de acción que coloques el trabajar, puede', 'coloques el trabajar, puede que tengas que pagar unos costes para poder realizar esa acción. Algunos espacios son gratis, pero en otros, tendrás que pagar con dados odinero. El coste de la acción viene indicado en el espacio en sí.Pagar dinero para realizar una acción Cada vez que tengas que pagar dinero para realizar una acción (por ejemplo, en el puerto o cantera), mueve tu marcador de riquezas', 'mueve tu marcador de riquezas en el track de riquezas como es debido, -1 espacio por cada moneda que tengas que pagar. Si tu marcador está en 0, no tendrás dinero y temporalmente no podrás llevar a cabo acciones con coste de dinero. Lo mismo se aplica a las acciones con las que tengas que pagar dados - si no tienes ningún dado (adecuado) no podrás llevar a cabo la acción aplicable a esta. Los', 'acción aplicable a esta. Los dados son el recurso más importante de este juego. Siempre que obtengas un dado del suministro general, tíralo inmediatamente y, con el resultado sacado hacia arriba lo colocaremos en una de las manos vacías de nuestra estatua de Kali (valores de 1 a 6). Atención! Puedes almacenar tantos dados como brazos libres tenga nuestra estatua de Kali - es decir, en el juego', 'Kali - es decir, en el juego básico solo podrás poseer un máximo de 10 dados. Si estás en una situación que te otorgue más dados, puedes coger menos dados o poner dados de tu estatua de Kali de nuevo en el suministro general antes de coger los nuevos. Si un dado de color está temporalmente agotado en el suministro general, no podrás coger el dado de ese color en ese momento. coste gratis 1 moneda', 'coste gratis 1 moneda 1 dado del color mostrado En cada espacio de acción solo puede haber un trabajador. Los dados nunca se colocan en el tablero, siempre en el suministro (general o personal)! Cantera Mercado Puerto Palacio 3']\n",
      "ID: RG_1, Embedding Length: 512, Metadata: {'Reglas del juego': 'TRANSCURSO DEL JUEGO'}, texto: El Juego se desarrolla en varias rondas, cada una de las cuales consta de varias etapas. En cada etapa, los jugadores, por turno - en sentido de las agujas del reloj, comenzando por el jugador inicial - podrá colocar un trabajador, pagar costes, si es necesario, e inmediatamente llevar a cabo la acción asociada. Este proceso continua hasta que nadie pueda colocar trabajadores. Después de eso cada\n",
      "{'Reglas del juego': 'ACCIÓN CONSTRUIR (CANTERA)'} ['Coloca una loseta de provincia en tu provincia y obtén puntos de fama yo dinero. Para desarrollar tu provincia, necesitas enviar trabajadores a la cantera. dependiendo del lugar donde coloques el trabajador, pagarás de 1 a 4 monedas del track de riquezas. A cambio, obtendrás una de las 12 losetas de provincia (todas las losetas de provincia que estén visibles estarán disponibles para su compra).', 'disponibles para su compra). En la parte superior izquierda de las losetas de provincia se puede ver el valor mínimo de dados necesarios con los que deberás pagar dicha loseta de provincia. Pon los dados que has utilizado para pagar de nuevo en el suministro general. El valor total de los dados tendrá que ser como mínimo más alto que el mostrado en la loseta. Al construir se te permitirá pagar en', 'se te permitirá pagar en exceso. Esto significa Para adquirir una loseta con valor azul 7, podrás pagar con un azul 3 y un azul 5, por ejemplo. Además de los costes, en las losetas también se representan caminos, edificios yo mercados. Una vez que se adquiera la loseta de provincia, inmediatamente tienes que colocarla en tu tablero de provincia. Ejemplo Rajesh, envía a uno de sus trabajadores a', 'a uno de sus trabajadores a la cantera. Él paga 1 de dinero. Entonces él pone 2 dados naranjas en el suministro general. Él toma la loseta con el 9 naranja y lo conecta a un camino ya existente en su tablero de provincia.']\n",
      "ID: RG_2, Embedding Length: 512, Metadata: {'Reglas del juego': 'ACCIÓN CONSTRUIR (CANTERA)'}, texto: Coloca una loseta de provincia en tu provincia y obtén puntos de fama yo dinero. Para desarrollar tu provincia, necesitas enviar trabajadores a la cantera. dependiendo del lugar donde coloques el trabajador, pagarás de 1 a 4 monedas del track de riquezas. A cambio, obtendrás una de las 12 losetas de provincia (todas las losetas de provincia que estén visibles estarán disponibles para su compra).\n",
      "{'Reglas del juego': 'TABLERO DE PROVINCIA'} ['Producciones especiales - Hay producciones ya impresas en el borde del tablero de provincia (simbólicamente son ganancias especiales debido a las relaciones comercias ya establecidas). Obtienes este beneficio inmediatamente cuando has conectado la loseta a tu residencia a través de un camino. (Ver abajo). Ejemplo Leila pone una loseta de provincia con una intersección. En ambos extremos la loseta', 'En ambos extremos la loseta se conecta con los dos beneficios adyacentes y se conectan a la residencia, a Leila se le permite coger cualquier dado de la reserva general y avanzar su marcador de dinero 5 posiciones. Por supuesto, también es posible colocar una loseta sin crear una conexión con el beneficio especial. En este caso , no obtendrías nada extra. Cuando agregues una loseta nueva a tu', 'una loseta nueva a tu provincia, anót ate inmediatamente el dinero yo fama . Algunas loseta s muestran una o dos carpas de mercado con ciertos bienes (seda, té o especias) de cierto valor; otras losetas muestran uno o dos edificios (templo, palacio, fortaleza o molino); y algunas loseta s muestran una combinación de ambas. Cuando agregues una loseta con uno o dos mercados a tu provincia,', 'dos mercados a tu provincia, inmediatamente recibe la cantidad de dinero indicado en esa loseta. Cuando agregues una loseta con uno o dos edificios, recibe inmediatamente 2, 3 o 4 puntos de fama por cada edificio, dependiendo d e dónde esté el cubo d e desarrollo de edificios correspondi ente a los pergaminos del tabler o central.']\n",
      "ID: RG_3, Embedding Length: 512, Metadata: {'Reglas del juego': 'TABLERO DE PROVINCIA'}, texto: Producciones especiales - Hay producciones ya impresas en el borde del tablero de provincia (simbólicamente son ganancias especiales debido a las relaciones comercias ya establecidas). Obtienes este beneficio inmediatamente cuando has conectado la loseta a tu residencia a través de un camino. (Ver abajo). Ejemplo Leila pone una loseta de provincia con una intersección. En ambos extremos la loseta\n",
      "{'Reglas del juego': 'Las mejoras de edificios'} ['Los 4 tipos de edificios que puedes construir en tu provincia se muestran en el tablero. Al principio del juego, tus cubos se encontrarán en el primer nivel de cada edificio . es decir, ganarás 2 puntos de fama cuando agregues una loseta de provincia con 1 edificio (o, del mismo modo, 4 puntos de fama si aparecen dos edificios). Las mejoras te permiten mejorar tus habilidades constructivas y ganar', 'constructivas y ganar 3 (o 4) puntos para un cierto tipo de edificio en las acciones de construcción posteriores. I. L L L X X X X X X X X 4Cada vez que añadas una nueva loseta de provincia, conecta el camino de la nueva loseta con uno de los caminos ya existentes, de modo que haya conexión con la residencia. Puedes girar la loseta nueva en cualquier dirección. También puedes orientar la loseta', 'puedes orientar la loseta de tal manera que corte un camino de una loseta adyacente; no todos los extremos del camino deben conectarse - es suficente con que cada loseta esté conectada a la residencia a través de al menos un camino. Una vez colocadas las losetas no se podrán reubicar más adelante. Ten cuidado de no cortar todos los caminos, para que siempre tengas posibilidades para colocar', 'posibilidades para colocar losetas.El tablero de provincia muestra tu territorio, siendo tu el Raja (soberano) que se esfuerza por controlar y expandirse por el territorio. Tu residencia está arriba en el centro. De allí salen 3 caminos hacia tu territorio.Puedes adquirir mejoras de Raja en el palacio renunciando a un dado de valor 4 (ver p. 18, La Salas). Además, hay un espacio en el río que te', 'un espacio en el río que te permite realizar una mejora. Y puedes actualizar un edificio automáticamente después de haber cruzado el bonus aplicable en el espacio 5 en el track de fama o conectando la producción especial de tu provincia. Cuando se te permita hacer una mejora, elige uno de los cuatro tipo de edificio y mueve tu cubo de desarrollo un espacio a la derecha en la fila correspondiente.', 'en la fila correspondiente. Atención! Las mejoras no cuentan para los edificios de las losetas que ya se encuentran en tu provincia, sólo para los edificios que se añadan después . Ejemplo Hay dos edificios en la loseta que Leila ha añadido . Ella avanza su marcador de fama 5 espacios, ganando 2 puntos para el templo y 3 puntos por el molino - que ella ya mejoró en un turno anterior. Ya que ha', 'un turno anterior. Ya que ha conectado una producción especial a la red de caminos y a la residencia mediante la colocación de de la loseta, puede - después de puntuar la loseta - coger otro dado de cualquier color y mejorar un edificio a tu elección.']\n",
      "ID: RG_4, Embedding Length: 512, Metadata: {'Reglas del juego': 'Las mejoras de edificios'}, texto: Los 4 tipos de edificios que puedes construir en tu provincia se muestran en el tablero. Al principio del juego, tus cubos se encontrarán en el primer nivel de cada edificio . es decir, ganarás 2 puntos de fama cuando agregues una loseta de provincia con 1 edificio (o, del mismo modo, 4 puntos de fama si aparecen dos edificios). Las mejoras te permiten mejorar tus habilidades constructivas y ganar\n",
      "{'Reglas del juego': 'ACCIÓN DE MERCADO (MERCADO)'} ['Recauda dinero para ciertos mercados de tu provincia Cada vez que envías a un trabaj ador a uno de los espacios de merc ado, generarás ingresos en los mercados establecidos de tu provincia. H ay merca dos con 3 t ipos de mercancías Tela Té Especias 2 tipos de espacios de mercado - Mercancías variadas - cuando coloques un trabajador aquí, puedes puntuar exactamente un mercado por tipo de recurso.', 'mercado por tipo de recurso. Ejemplo Hay 4 mercados en juego en la provincia de Rajesh - tres de ellos con un té y otro con una seda. Si coloca a uno de sus trabajadores en este espacio de mercado, podrá puntuar 2 mercados el mercado de la seda más uno de los 3 mercados de té. Por esto recibe 5 de dinero. -Mercancías de un solo tipo - cuando coloques aquí a un trabajador tienes que pagar con', 'tienes que pagar con cualquier dado. entonces podrás puntuar hasta un máximo de mercados iguales según el valor del dado con el que ha s pagado. Ejemplo Si Rajesh coloca a su trabajador en este espacio de mercado y paga con un dado de valor 4, puede puntuar los 3 mercados de té que tiene y obtiene 7 de dinero. Atención! En una partida de 3 o 4 jugadores, solo podrás colocar uno de tus', 'podrás colocar uno de tus trabajadores en el espacio para mercancías variadas, por ronda; es decir, si has colocado ya un trabajador en uno de los dos espacios de mercancías variadas el segundo ya no estará disponible para ti esta ronda. Solo podrá ser utilizado por otro jugador. Sin embargo, aún tienes la posibilidad de colocar otros trabajadores en el otro tipo de mercado. II. Símbolo de Mejora', 'II. Símbolo de Mejora 5']\n",
      "ID: RG_5, Embedding Length: 512, Metadata: {'Reglas del juego': 'ACCIÓN DE MERCADO (MERCADO)'}, texto: Recauda dinero para ciertos mercados de tu provincia Cada vez que envías a un trabaj ador a uno de los espacios de merc ado, generarás ingresos en los mercados establecidos de tu provincia. H ay merca dos con 3 t ipos de mercancías Tela Té Especias 2 tipos de espacios de mercado - Mercancías variadas - cuando coloques un trabajador aquí, puedes puntuar exactamente un mercado por tipo de recurso.\n",
      "{'Reglas del juego': 'ACCIÓN DE PALACIO'} ['Renuncia a un dado, si es necesario, y obtén un beneficio. Cuando se coloque a un trabajador en el palacio del Gran Mogul, puede ser sin ningún coste o puede requerir renunciar a uno de tus dados - un dado de un color específico o un número exacto. El palacio tienes las siguientes áreas Terraza exterior (sin coste) Coge 2 de dinero. También puedes volver a tirar todos los dados que quieras de tu', 'los dados que quieras de tu reserva. La Terraza (sin coste) Coge 1 dado de la reserva general del color correspondiente. Ejemplo Leila coge un dado naranja de la reserva, lo tira y lo pone en su estatua de Kali. Los balcones (coste 1 dado del color específicado.) Renuncia a 1 dado de un color específico y obtén 2 dados de un color diferente. Ejemplo Rajesh da un dado azul (de cualquier valor) y', 'azul (de cualquier valor) y obtiene 2 dados naranjas; él los tira inmediatamente y los pone en su estatua de Kali.Las salas (coste 1 dado de cualquier color con un número exacto). Raja Man Singh - Renuncia a un dado de valor 4. A cambio, mejora un tipo de edifcio y ganas 3 de dinero. Maestro constructor - Renuncia a un dado de valor 5. Cubre cualquier loseta en tu provincia con otra del', 'en tu provincia con otra del suministro. Todas las losetas seguirán necesitando una conexión con la residencia. No puedes utilizar el maestro constructor si no tienes ninguna loseta o dado con el que pagar. Importante La nueva loseta tiene que ser más cara que la que reemplazas; solo paga la diferencia dando 1 (o más) dados del color nuevo del azulejo. Puedes pagar en exceso. Ejemplo Leila', 'en exceso. Ejemplo Leila renuncia a un dado verde de valor 5. Quiere reemplazar la loseta con el 4 de color naranja tapándola con otro loseta con el 6 violeta. Para ello, tiene que renunciar a un dado violeta con al menos valor 2. III. 6Gran Mogul Renuncia a un dado de valor 1. A cambio, obtendrás 2 puntos de fama y te convertiras en el jugador inicial en la siguiente ronda. Bailarina Renuncia a', 'ronda. Bailarina Renuncia a un dado de valor 2. A cambio, coge dos dados de la reserva y roba una loseta de producción blanca que se encuentre boca abajo. Gana inmediatamente el bono de la loseta (1 dado, 3 dinero, 1 mejora o 1']\n",
      "ID: RG_6, Embedding Length: 512, Metadata: {'Reglas del juego': 'ACCIÓN DE PALACIO'}, texto: Renuncia a un dado, si es necesario, y obtén un beneficio. Cuando se coloque a un trabajador en el palacio del Gran Mogul, puede ser sin ningún coste o puede requerir renunciar a uno de tus dados - un dado de un color específico o un número exacto. El palacio tienes las siguientes áreas Terraza exterior (sin coste) Coge 2 de dinero. También puedes volver a tirar todos los dados que quieras de tu\n",
      "{'Reglas del juego': 'ACCIÓN DE RÍO (Puerto)'} ['Renuncia a un dado que muestre un valor de 1,2 o 3 y avanza hasta 3 espacios vacíos en el río. La acción de río solo es posible renunciando a un dado de valor 1, 2 o 3. Cada vez que quieras colocar a un trabajador en el puerto, puedes avanzar tu barco hasta tres espacios vacíos en el río, dependiendo del valor en el dado que has renunciado El Puerto ofrece espacio para varios jugadores. El primer', 'varios jugadores. El primer trabajador aquí colocado no cuesta nada; los siguientes costarán 1 o 2 monedas. Si renuncias a un dado con un valor de 1, avanzarás exactamente un espacio desocupado; si renuncias a un valor de 2, adelantarás uno o dos espacios desocupados; si renunicas a un valor de 3, podrás avanzar entre uno y tres espacios vacíos. Los espacios ocupados por barcos de otros jugadores', 'por barcos de otros jugadores no se incluyen a la hora de contar, pero se saltan. Así que nunca puede haber más de un barco en un mismo espacio en el río. Las únicas excepciones a esto son en el espacio inicial y el espacio final del río donde pueden descansar varios barcos. Obtén inmediatamente los beneficios de donde se detenga tu barco. Ejemplo Laila coloca un trabajador en el puerto. Para', 'trabajador en el puerto. Para esto tiene que pagar 1 moneda. Renuncia a un dado de valor 2 y avanza su barco 2 espacios. No incluye el espacio que ocupa el barco amarillo del otro jugador en el conteo. Ella gana una mejora de un tipo de edificio. Ella mueve su cubo de mejora en el molino de 3 a 4. Explicación de los símbolos de río Coge 2 dados de cualquier color del suministro general, tíralos,', 'suministro general, tíralos, y ponlos en tu estatua de Kali. Aumenta en 2 tu nivel de']\n",
      "ID: RG_7, Embedding Length: 512, Metadata: {'Reglas del juego': 'ACCIÓN DE RÍO (Puerto)'}, texto: Renuncia a un dado que muestre un valor de 1,2 o 3 y avanza hasta 3 espacios vacíos en el río. La acción de río solo es posible renunciando a un dado de valor 1, 2 o 3. Cada vez que quieras colocar a un trabajador en el puerto, puedes avanzar tu barco hasta tres espacios vacíos en el río, dependiendo del valor en el dado que has renunciado El Puerto ofrece espacio para varios jugadores. El primer\n",
      "{'Reglas del juego': 'Karma'} [', los jugadores equilibrarán su crecimiento en una exigente interacción de prestigio y properidad. El jugador con los resultados más exitosos será uno de los grandes líderes de la nación. De 2 a 4 jugadores. 12 años o CONTENIDO 64 losetas de provincia (16 por color) 30 losetas de producción (8 blancas, 9 amarillas, 6 rojas, 7 marrón)2 losetas de cobertura (para partidas 3 jug.) 8 losetas de río 4', '3 jug.) 8 losetas de río 4 barcos (1 por color) Track de fama Track monedas 1TRADUCIDO y MAQUETADO POR CRISTÓBAL TRUJILLO TRUJILLO (RESOLV) en el nivel 1 del sendero del Pon 1 cubo de desarrollo en la columna izquierda (valor 2) en cada uno de los pergaminos de desarrollo de edificio. Pon tu marcador de fama en el espacio 0 del track de fama.Pon tu marcador de beneficio para el track del dinero', 'para el track del dinero con el espacio del río hacia arriba en el primero espacio de beneficio en el track de riqueza (espacio 12).Cada jugador coge un dado de cada color, tira estos 4 dados y los coloca con el resultado sacado hacia arriba en cualquier brazo desocupado de tu estatua de Kali. 2 ). A continuación, la loseta de producción se dejará a un lado para formar una pila de descarte.', 'formar una pila de descarte. Cuando te quedes sin losetas, baraja las usadas y forma un nuevo suministro Yogi - Renuncia a un dado de valor 3. A cambio, obtén 2 de y 1 dado a tu elección (ver página 20, explicaciones del karma). Cuando reemplaces una loseta, no recibes ninguna producción especial otra vez. Cada loseta solo la puedes reemplazar una vez. El Portugués - Renuncia a un dado de valor', '- Renuncia a un dado de valor 6. A cambio, adelanta exactamente 6 espacios vacíos en el río y obtén los ingresos correspondientes. Atención! Cuando hayas avanzado hasta los 6 últimos espacios del río, ya no podrás usar al portugués. (ver pág. 20, explicaciones del ). Recibe la cantidad de dinero indicada; avanza en consecuencia en el track de riqueza.Escoge cualquiera de las acciones del palacio', 'de las acciones del palacio 2-6 (Bailarina, Yogi, Raja, Maestro constructor o Portugués) y realiza inmedi atamente, sin colocar un trabaj ador en el palacio y sin renu nciar a un dado ( el espacio puede estar ocupad o). Por cada nivel de que tengas en este momento, toma un dado del color representado (0 - 3 dados). Recibe el número de puntos de fama indicados; en consecuencia avanza el mismo', 'consecuencia avanza el mismo valor en el track de fama. Mejora 1 nivel de edificio (por ejemplo, mover el cubo de templo de 2 a 3). Recibe 1 de dinero por cada mercado que haya en tu provincia ( si tienes 5 mercados, por ejemplo, avanza 5 espacios en tu marcador de riqueza). Lleva a cabo la puntuación de una acción de mercado de mercancías diversas. Recoge el dinero de hasta 3 mercados', 'el dinero de hasta 3 mercados diferentes. (ver pág. 5). Lleva a cabo una puntuación de mercado para un tipo de bien que tengas en tu provincia, hasta el máximo indicado en el valor del espacio del río. Si tienes 4 mercados de seda, por ejemplo, puedes puntuar todos ellos y poder avanzar en el track de riqueza. No tienes que renunciar a ningún dado para esto. Recibe u n pu nto de fama por mejora', 'u n pu nto de fama por mejora de edificio realizada hasta ahora (av anza la fama en el track de fama). Recibe 2 moned as por cada mejora de edifi cio que hayas realiz ado hasta ahora (avanz a en el track de reiqueza). Recibe 2 puntos de fama por que tengas en este momento (avanza la fama en el track de fama). Cuando hayas llegado al final del río en el espacio final de río, no podrás utilizar más', 'río, no podrás utilizar más acciónes de río. IV. 2 3 1 7 Renuncia a 1 y da la vuelta a un dado al número opuesto. Puedes influir el resultado de una tirada de dado a través del . Utilizar te permite dar la vuelta a cualquier dado en tu estatu a de Kali hacia el lado opuesto cuando lo vayas a colocar; esto significa que un 1 puede convertirse en un 6 y vicerversa, Comienza el juego con el a nivel', 'el juego con el a nivel 1. Durante el transcurso de la partida, podrás mejorar tu - por ejemplo, enviando un trabajador a Yogi en el palacio, deteniendo tu barco en el espacio de río correspondiente. Además de esto, hay un espacio de bonificación en el track de fama (espacio 24) que incrementa tu 2 niveles, si tu marcador de fama se detiene justo en ese espacio o lo cruza. El nivel de más alto es', 'El nivel de más alto es 3; eso significa que solo puedes tener hasta un máximo de nivel 3 de . Para usar el , no tienes que utilizar ningún trabajador - puedes utilizar tu en cualquier momento durante tu turno cuando obtengas un dado. Por cada nivel de que gastes mueve hacia abajo un espacio el cubo de tu Marcador de . Es posible que durante la partida te quedes sin . (1 o 2)1 Mejora de edificio', '. (1 o 2)1 Mejora de edificio 1 movimiento de barco (a tu siguiente espacio desocupado). 1 punto de fama por cada loseta en tu provincia que tenga por lo menos 1 mercado. 2 puntos de fama por cada curva que tengas en tu red de caminos en tu provincia.1 moneda por cada construcción en tu provincia. 2 monedas por cada loseta de producción que hayas conectado.1 punto de fama por cada trabajador', 'de fama por cada trabajador activo que poseas.1 punto de fama por cada 3 espacios de río que hayas avanzado hasta ahora (el espacio inicial no cuenta). 2 monedas por cada mejora de edificio realizada. 10Hay 2 maneras de obtener losetas de producción adicionales durante la partidaLosetas de río Coge tantos dados de cualquier color del suministro general igual a tu nivel de actual (por ejemplo, 3', 'de actual (por ejemplo, 3 dados del mismo color o de diferentes colores, si tu es de nivel 3). Coge 3 dados, 1 por cada color que indique la loseta Haz la acción de palacio dependiendo de la ilustración mostrada (ver pág. 18), Realiza una puntuación de mercado para un tipo de mercancía. Recauda el dinero de hasta 3 mercados de un tipo de tu provincia sin tener que pagar ningún dado extra (ver', 'pagar ningún dado extra (ver pág. 17) Avanza hasta 3 espacios vacíos en el río y obtén la bonificación de ese espacio donde te detienes.Si al menos otro jugador tiene 2 trabajadores activos más que tú, obtén otra loseta de producción y colócala como si fuera tu turno de colocar un trabajador, no podrás colocarla por segunda vez. Atención! Sólo puedes obtener losetas de producción del color', 'de producción del color correspondiente a los espacios disponibles en tu tablero de provincia. También puedes optar por no coger una loseta de producción. Para grupos de jugadores Mixtos (principiantes y experimentados). Para los jugadores avanzados que jueguen con un grupo que incluye jugadores principiantes, es posible jugador con estas desventajas. En este caso los jugadores experimentados', 'los jugadores experimentados utilizarán el modo Navaratnas en su tablero de provincia y la parte posterior de su estatua de Kali, mientras que los jugadores principiantes utilizarán el tablero de provincia básico y su estatua de Kali de una partida básica. Se puede llegar a tener 5 trabajadores. Las losetas de producción especial amarillas, rojas y marrones permanecerán en la caja. Jugad de', 'en la caja. Jugad de acuerdo a las reglas básicas y usa solamente las losetas de producción blanca, pudiendo obtener estos beneficios con La Bailarina utilizándolos inmediatamente como en el juego básico. Modifica los espacios de río usando losetas de río. Para esta versión, añade las 8 losetas de río a la partida. Éstas modificarán las bonificaciones del río. Al principio de la partida, baraja', 'de la partida, baraja las losetas de río boca abajo. Tira un dado, y cuenta los espacios, comenzando por el primer espacio vacío después del espacio inicial, roba la primera loseta aleatoriamente y colócala boca arriba en el espacio correspondiente del río. Por ejemplo, si sacas un 2, coloca la primera loseta de río en el segundo espacio y, al hacerlo, reemplaza la otra bonificación por ésta', 'la otra bonificación por ésta nueva. Tira de nuevo otro dado, y cuenta desde la última loseta de río colocado los nuevos espacios para colocar la siguiente loseta de río. Sigue colocando losetas de río hasta que se terminen o hasta que llegues al final del río. El espacio final del río nunca puede estar cubierto por una loseta de río. Devuelve las losetas restantes a la caja.']\n",
      "ID: RG_8, Embedding Length: 512, Metadata: {'Reglas del juego': 'Karma'}, texto: , los jugadores equilibrarán su crecimiento en una exigente interacción de prestigio y properidad. El jugador con los resultados más exitosos será uno de los grandes líderes de la nación. De 2 a 4 jugadores. 12 años o CONTENIDO 64 losetas de provincia (16 por color) 30 losetas de producción (8 blancas, 9 amarillas, 6 rojas, 7 marrón)2 losetas de cobertura (para partidas 3 jug.) 8 losetas de río 4\n",
      "{'Reglas del juego': 'Obtener nuevos trabajadores.'} ['Avanza en el track de fama, en el track de riqueza o en el río para recibir más trabajadores. Al principio de la partida, cada jugador tendrá a su disposición 3 trabajadores activos. Durante el transcurso de la partida, podrás obtener hasta 2 trabajadores adicionales. Si has avanzado los suficiente en los diferentes tracks de puntuación (riqueza espacio 20, fama espacio 15) o en el río (puente),', '15) o en el río (puente), recibirás trabajadores adicionales. Importante Tan pronto como hayas recibido tu segundo trabajador inactivo (no importa si en uno de los tracks o el río), inmediatamente coge tu trabajador sobrante del tablero y eliminalo de la partida. Los tracks de fama y de riqueza, así como el río, cada uno tiene un espacio con un trabajador inactivo por color de jugador. Los', 'por color de jugador. Los espacios en los tracks de puntuación (fama y riqueza) son espacios normales; en el momento en el que tu marcador de fama o riqueza cruce o se detenga en el espacio del trabajador, obtén el trabajador de tu color. En el momento de coger a tu nuevo trabajador éste se volverá un trabajador activo. El trabajador inactivo en el río no tiene su propio espacio en el río (el', 'propio espacio en el río (el puente no cuenta como espacio); eso significa, que cuando tu barco pase por el puente coge a tu trabajador.Una vez que un trabajador pasa a ser activo nunca lo podrás perder, incluso si tu marcador retrocede (lo cual solo puedo suceder en el track de dinero). Puedes colocar a un nuevo trabajador incluso en la misma ronda en el que lo has obtenido.']\n",
      "ID: RG_9, Embedding Length: 512, Metadata: {'Reglas del juego': 'Obtener nuevos trabajadores.'}, texto: Avanza en el track de fama, en el track de riqueza o en el río para recibir más trabajadores. Al principio de la partida, cada jugador tendrá a su disposición 3 trabajadores activos. Durante el transcurso de la partida, podrás obtener hasta 2 trabajadores adicionales. Si has avanzado los suficiente en los diferentes tracks de puntuación (riqueza espacio 20, fama espacio 15) o en el río (puente),\n",
      "{'Reglas del juego': 'Bonos en los tracks de puntuación.'} ['Llega al espacio y recibe el bono. Además de los trabajadores inactivos los dos tracks de puntuación (fama y riqueza) también tienen espacios especiales; cuando los cruzas o los alcanzas, consigues inmediatamente los bonos correspondientes. El track de fama tiene 3 bonos Espacio 5 Recibe una mejora de un tipo de edificio a tu elección. (Esta mejora contará en tu próximo turno). Espacio 24', 'tu próximo turno). Espacio 24 Incrementa tu karma 2 niveles. Espacio 31 Puedes mover tu barco al siguiente espacio desocupado y obtener su bono inmediatamente. El track de dinero tiene 4 bonos Ateción! Un bono solo se aplica donde está impreso en el track. Si, por ejemplo, tu marcador de dinero pasa por al lado de un espacio de bonificación impreso en el track de fama, no obtendremos el', 'de fama, no obtendremos el beneficio. 8Espacios 12 y 44 Puedes mover tu barco al siguiente espacio desocupado del río y obtén las ganacias correspondientes Espacios 33 y 55 Puedes coger 2 dados cualesquiera de la reserva general, tirarlos, y ponerlos en tu estatua de Kali. Puesto que al pagar dinero, tu marcador de riqueza irá hacia atrás en el track, h ay un marcador especial de tu color que', 'especial de tu color que indicará y pondremos en la siguiente recompensa a obtener. Una vez que crucemos la bonificación del marcador lo quitaremos y lo pondremos en la siguiente recompensa, indicándonos que si volvemos atrás al pagar ya no podremos obtener la recompensa de nuevo. Por ejemplo cuando alcancemos o crucemos el espacio 12 por primera vez y obtengamos el bono, cogeremos el marcador,', 'bono, cogeremos el marcador, lo giraremos y lo pondremos en el espacio 33, así sucesivamente. Indicando que si volvemos hacia atrás no volveremos a recoger la recompensa.']\n",
      "ID: RG_10, Embedding Length: 512, Metadata: {'Reglas del juego': 'Bonos en los tracks de puntuación.'}, texto: Llega al espacio y recibe el bono. Además de los trabajadores inactivos los dos tracks de puntuación (fama y riqueza) también tienen espacios especiales; cuando los cruzas o los alcanzas, consigues inmediatamente los bonos correspondientes. El track de fama tiene 3 bonos Espacio 5 Recibe una mejora de un tipo de edificio a tu elección. (Esta mejora contará en tu próximo turno). Espacio 24\n",
      "{'Reglas del juego': 'FIN DE RONDA'} ['Después de haber colocado a todos tus trabajadores activos y llevado a cabo las acciones correspondientes, la ronda llegará a su fin. Si un jugador ha colocado a un trabajador en el Gran Mogul, ahora obtendrá el elefante y se convertirá en el jugador inicial de la siguiente ronda. Si nadie envió un trabajador al Gran Mogul, el elefante pasará al siguiente jugador, en sentido horario al jugador', 'en sentido horario al jugador inicial anterior. Todos los jugadores sacan todos sus trabajadores del tablero y los ponen bajo su estatua de Kali. Después el jugador inical actual, comenzará la nueva ronda.']\n",
      "ID: RG_11, Embedding Length: 512, Metadata: {'Reglas del juego': 'FIN DE RONDA'}, texto: Después de haber colocado a todos tus trabajadores activos y llevado a cabo las acciones correspondientes, la ronda llegará a su fin. Si un jugador ha colocado a un trabajador en el Gran Mogul, ahora obtendrá el elefante y se convertirá en el jugador inicial de la siguiente ronda. Si nadie envió un trabajador al Gran Mogul, el elefante pasará al siguiente jugador, en sentido horario al jugador\n",
      "{'Reglas del juego': 'FINAL DE PARTIDA'} ['Tan pronto como un jugador logre que su marcador de fama y su marcador de riqueza se equiparen en valores o se crucen, pasándose el uno al otro, se dispara el final de la partida. La ronda actual se terminará. Es decir, todos los jugadores que estén entre el jugador que ha activado el final de la partida y el jugador inicial actual todavía tendrán la oportunidad de ganar y podrá colocar un', 'de ganar y podrá colocar un trabajador más y llevar la acción aplicable. Para desarrollar con éxito tu provincia y ganar la carrera, necesitarás principalmente dinero, dados y trabajadores. Es importante asegurarte de no quedarte sin dados o dinero, y no tener menos trabajadores que el resto de jugadores durante demasiado tiempo. Resumiendo Obtén más trabajadores avanzando en los dos tracks de', 'en los dos tracks de puntuaciones y en el río. Gana dinero con tus mercados, construidos en tu provincia y usa a tus trabajadores para activarlos. Además las bonificaciones en tu tablero de provincia, en el río y en el palacio de Raja son fuentes de dinero. También podrás obtener dados adicionales en otros espacios. El palacio también te otorga la oportunidad de intercambiar dados. Para cumplir', 'dados. Para cumplir con las condiciones de victoria, es necesario establecer una red de caminos bien pensada dentro de tu provincia y obtener tantas producciones especiales como te sea posible. Para ello, utilizarás la acción de construir en el tablero, por lo que tendrás que pagar dinero y dados. Los edificios de tu provincia te otorgarán puntos de fama y los mercados riqueza.Después de esto,', 'riqueza.Después de esto, los jugadores verificarán quién ha ganado la partida. Si hay dos o mas jugadores cuyos marcadores se pasaron el uno al otro en el turno final, cada uno de los jugadores involucrados cuentan la diferencia de puntos entre su marcador de riqueza y marcador de fama; el jugador con más puntos ganará el juego. En caso de empate, gana el primer jugador cuyos dos marcadores se', 'cuyos dos marcadores se superaron. Ejemplo El marcador de riqueza de Rajesh ha pasado su marcador de fama. Ahora su marcador de riqueza está en el espacio 65 del track de riqueza, su marcador de gama en el espacio 30 del track de fama. Ahora Laila tiene su último turno. Ella también logra que sus dos marcadores se pasen haciendo que su marcador de dinero termine en el espacio 52 del track de', 'en el espacio 52 del track de riqueza y su marcador de fama en el espacio 37 del track de fama. Ambos tienen una diferencia de 2 puntos de fama (no importa donde esté colocado tu marcador de riqueza). Ya que Rajesh fué el primero en cruzar sus marcadores, es el ganador de la partida.']\n",
      "ID: RG_12, Embedding Length: 512, Metadata: {'Reglas del juego': 'FINAL DE PARTIDA'}, texto: Tan pronto como un jugador logre que su marcador de fama y su marcador de riqueza se equiparen en valores o se crucen, pasándose el uno al otro, se dispara el final de la partida. La ronda actual se terminará. Es decir, todos los jugadores que estén entre el jugador que ha activado el final de la partida y el jugador inicial actual todavía tendrán la oportunidad de ganar y podrá colocar un\n",
      "{'Reglas del juego': 'EL MÓDULO GANGA'} ['11Imperio Mogul (1526-1858) El imperio Mogul fué un gran imperio que se desarrolló en las llanuras Indus-Ganges en el norte de la India. En el pico de su ponder (s. XVII), abarcaba casi toda la India (como la conocemos hoy) y algunas partes de Afganistán. En 1858, la parte restante del imperio estaba ocupada por los británicos y dejó de existir. Una herencia rica en arquitectura, en pintura, y en', 'en pintura, y en poesía han sido preservadas hasta el día de hoy. El Imperio fue nombrado por sus gobernantes, El Gran Mogul. Gran Mogul También llamado Mogul o Emperador Mogul. El nombre llegó a Europa a través de los portugueses, que eran el poder dominante en el territorio del Oceano Índico en ese momento. La palabra Mogul deriva del mahul persa, que significa mongol, refiriéndose al hecho de', 'refiriéndose al hecho de que algún antecesor se hubiera casado con alguien del clan Genghis Khan. El gobernante Mongol más prominente de la historia fue Akbar el Grande (reinado 1556-1605); llevó el imperio a la prosperidad en términos militares, políticos y económicos. Bajo Shah Jahan (reinado 1627-1658), el imperio Mogul alcanzó su pico cultural. En ese momento, se construyeron el Taj Mahal, el', 'construyeron el Taj Mahal, el Fuerte Rojo (Delhi) y los Jardines Shalimar en Lahore, todos inscritos como Patrimonio de la Humanidad por la UNESCO (en 1982, 2007 y 1981). Este juego juego esta basado en la era de Akbar a Shah Jahan. Estos son algunos elementos significativos para la época de los Grandes Mogoles o para la India de hoy en día que exhibe el juego Kali - Una diosa hindú que', 'Kali - Una diosa hindú que representa la destrucción y la renovación. Su poder destructivo, sin embargo, apunta principalmente a los demonios y a la justicia del mundo. La creencia popular sobre Kali es que ésta puede conceder deseos.Pavo real Azul - Desde 1963, pavoreal azul ha sido oficialmente clasificado entre los animales nacionales Indios (además del tigre de Bengala y el delfín del río', 'Bengala y el delfín del río Ganges). Originalmente, provenía del subcontinente indio donde se le consideraba un animal sagrado que estaba en peligro por los tigres el mal clima y mortales serpientes venenosas entre otras cosas. Mientras que en el mundo occidental se asocia el pavo real no sólo con la belleza, sino también con la arrogancia y la vanidad, los indios lo consideran principalmente un', 'consideran principalmente un símbolo de realeza e inmortalidad. Por lo tanto, las estatuas de pavos reales fueron diseñadas también en el trono del Emperador Mogul. El trono del Pavo Real - Era un trono adornado con una abundancia de perlas, de oro, y de gemas (más de 26.000) que fueron manufacturadas por orden de Shah Jahan e inaugurado en 1635. La producción del trono tardó siete años y se dice', 'tardó siete años y se dice que ha sido dos veces más caro que la construcción del Taj Mahal; esto fue considerado un acto muy extravagante incluso para un emperador Mogul. Desde que el Fuerte Rojo (Dehli) fue saqueado en el siglo XVII, el Trono del Pavo Real se ha dado por perdido. Pilar de Ashoka - El actual escudo de armas de la India muestra, la adaptada capital, un Pilar de Ashoka, los', 'un Pilar de Ashoka, los famosos Cuatro Leones de Sarnath. Construido alrededor de 250 AC bajo Ashoka, el gobernante indio en ese momento, tenía numerosos pilares monumentales establecidos por todo su reino en muchos lugares estratégicos, como ciudades fronterizas y rutas comerciales. Sus capitales eran usadas para proclamar sus leyes. Algunos de estos pilares, por entonces numerosos y extendidos,', 'numerosos y extendidos, se han conservado hasta el día de hoy. Son testigos silenciosos del antiguo gran Imperio de la India, cuya herencia cultural ha resistido la prueba del tiempo. Raja man Singh I - Era un importante comandante de las fuerzas armadas imperiales. Como gobernador de varias provincias, tenía áreas forestales cultivadas para el progreso agrícola, encargó la construcción de varios', 'la construcción de varios palacios, fortalezas y templos e incluso fue fundador de alguna ciudad. Además, Man Singh ganó una gran reputación por ser miembro de las Navaratnas, las Nueve Gemas de Akbar, un pequeño grupo de personalidades extraordinarias en la corte del emperador Mogul.']\n",
      "ID: RG_13, Embedding Length: 512, Metadata: {'Reglas del juego': 'EL MÓDULO GANGA'}, texto: 11Imperio Mogul (1526-1858) El imperio Mogul fué un gran imperio que se desarrolló en las llanuras Indus-Ganges en el norte de la India. En el pico de su ponder (s. XVII), abarcaba casi toda la India (como la conocemos hoy) y algunas partes de Afganistán. En 1858, la parte restante del imperio estaba ocupada por los británicos y dejó de existir. Una herencia rica en arquitectura, en pintura, y en\n",
      "{'Reglas del juego': 'reglas guia rapida'} ['GANGES (2 a 4 jugadores) Antes de empezar Decidir si se juega en modo normal o en modo Navaratna (ver el epígrafe Variante Navaratna más adelante ). Sortear jugador inicial , el cual se va rotando en sentido horario cada vez que se agoten los lacayos colocados sobre las acciones del tablero, a menos que un jugador obtenga el beneficio de la primera zona de los aposentos del palacio, que lo', 'aposentos del palacio, que lo convierte en jugador inicial. Cada jugador recibe , según su color 6 lacayos, de los cuales 3 se colocan en las 3 zonas al efect o del tablero (uno en la casilla 20 del marcador de riqueza, otro en la casilla 15 del marcador de gloria y otro sobre el puente del río). 5 cubos, de los cuales 4 se colocan sobre el primer nivel de cada uno de los edificios del tablero y', 'los edificios del tablero y el restante sobr e el nivel 1 del indicador de karma . 1 ficha circular de bonificación, la cual se coloca inicialmente sobre la casilla 12 del marcador de riqueza con la imagen de bonificación de avance fluvial boca arriba . 1 barco, que se coloca en la casilla inicial del río. 1 ficha en forma de prisma hexagonal, que será el indicador de riqueza. El jugador inicial', 'riqueza. El jugador inicial lo coloca en la casilla 3 de dicho indicador, el 2 jugador en la casilla 4, el 3 en la casilla 5 y el 4 en la casilla 6. 1 ficha en forma de círculo cortado , que será el indicador de gloria y cada jugador lo coloca en la casilla inicial de dicho indicador. 4 dados, uno de cada color. 1 busto de Kali para colocar los dados. Antes de colocarlos, cada jugador debe', 'colocarlos, cada jugador debe lanzarlos y conservar la puntuación obtenida. En el modo normal de juego se coloca boca arriba por el lado que incluye en su interior 2 cuadrados vacíos. Si se juega en el modo Navaratna , se coloca por el lado que carece de esos cuadrados vacíos. El busto sirve para limitar la cantidad máxima de dados utilizables 10 en el modo normal y 8 en el modo Navaratna . 1', 'y 8 en el modo Navaratna . 1 tablero de provincia, donde cada jugador irá colocando las losetas que vaya adquiriendo. En el modo normal de juego se coloca boca arriba por el lado que muestra la imagen de un príncipe hindú. Si se juega en el modo Navaratna , se coloca por el lado que muestra el rostro de una diosa . En el caso de jugar en el modo Navaratna , ver el epígrafe Variante Navaratna más', 'Variante Navaratna más adelante . Colocar el tablero por el lado que corresponda al n de jugadores . Hay un lado para 2 jugadores que está representado con 2 elefantes pintados junto a la casilla inicial del río y el otro lado es para 3 o 4 jugadores, que tiene 4 elefantes en ese mismo lugar. La diferencia entre ambos lados del tablero es que el lado para 3 y 4 jugadores incluye más zonas donde', 'incluye más zonas donde colocar lacayos en las secciones de cantera, mercado y puerto. Colocar las 8 fichas de producción blancas boca abajo sobre la imagen del templo blanco del tablero. A medida que se vayan revelando, se van colocando fuera del tablero . Si se agotasen, se vuelven a mezclar y se colocan de nuevo como al principio. En el modo Navaratna , las fichas marrones de producción', 'fichas marrones de producción restantes se colocan boca arriba sobre los templos del tablero que coincidan con su color. Hacer un montó n al lado del tablero con el resto de los dados, formando una reserva. En las partidas con 3 jugadores se hace uso de las 2 fichas de exclusión, que hay que colocar sobre la primera casilla de la cantera y sobre la tercera del puerto , al objeto de prohibir la', ', al objeto de prohibir la colocación de lacayos sobre esas 2 zonas. Formar 12 montones con las losetas de provincia, según su color e imagen del reverso y colocarlos al lado del tablero en un lugar accesible para todos los jugadores.Turno s de juego Los turnos son consecutivos y la ronda consiste en colocar todos los lacayos . Cada jugador en su turno coloca un lacayo sobre una casilla de', 'lacayo sobre una casilla de acción, paga su coste (si lo tiene) en dados o rupias (lo que corresponda según el caso) y recibe inmediatamente el benefici o asociado a esa acción. Una vez gastados los lacayos de todos los jugadores, cada uno recoge los suyos del tablero y la partida continúa del mismo modo cambiando de jugador inicial (salvo por bonificación especial del mismo jugador que ya lo', 'del mismo jugador que ya lo era) . Puede darse el caso de que algunos jugadores tengan en juego más lacayos que otros, en cuyo caso seguirían juga ndo ellos solos hasta agotarlos. Acciones 1. Cantera El jugador coloca un lacayo, paga las rupias que indique la casilla y adquiere una loseta de provincia pagando su coste en dados. Cada loseta tiene su precio en la esquina superior izquierda sobre un', 'superior izquierda sobre un color determinado. El coste puede ser pagado con uno o varios dados del color elegido, debiendo al menos igualar la cifra consignada en la loseta. La loseta se debe colocar en una zona vacía del tablero de provincia adyacente a otra (la primera será adyacente a la residencia impresa) , teniendo en cuenta que, al menos, uno de los caminos sea coincidente con una loseta', 'coincidente con una loseta anterior y que ese camino debe terminar siempre en la residencia. Si la loseta incluye un camino que termina en un lateral con bonificación impresa, el jugador la obtiene inmediatamente. Si la loseta tiene edificios impresos , el jugador gana tantos puntos de gloria como le correspondan según su nivel de mejora de edificios. Inicialmente este valor es 2, pero se puede', 'valor es 2, pero se puede ir moviendo el cubo de mejor a de cada edificio si se obtiene una bonificación de mejora ( procedente de la bonificación de una casilla de río, de la 4 zona palaciega , de una bonificación del marcador de gloria o de una ficha de bonificación o producción). Si la loseta tiene tenderetes de mercancías, el jugador ga na inmediatamente la cantidad de rupias impresas . Hay', 'de rupias impresas . Hay losetas con más de un edificio o más de un tenderete o mezcla de ellos y el jugador puntúa por todos ellos. 2. Mercado Hay 3 tipos de mercancías (seda, té y especias) y el tablero tiene 2 zonas diferencia das de mercado a) Surtido variado El jugador coloca un lacayo en la casilla gratuitamente y gana tantas rupias como sumen hasta 3 de los tenderetes de su provincia que', 'de su provincia que sean distintos entre sí. En el lado del tablero para 3 y 4 jugadores existen 2 casillas para esta acción, pero un mismo jugador no puede colocar 2 lacayos en esta zona. b) Mercancía de un solo tipo El jugador coloca un lacayo en una de las 3 casillas de mercancías . Par a ello debe gastar un dado cualquiera de los que posea y gana ta ntas rupias como sumen todos los tenderetes', 'sumen todos los tenderetes que posea en su provincia de esa mercancía. 3. Aposentos del palacio Hay 6 zonas donde colocar un lacayo y solo un jugador puede colocar un lacayo en cada una. Exige gastar un dado del valor exacto correspondien te a la zona de colocación. Zona 1 El jugador gasta un dado de valor 1 y gana 2 puntos de gloria además de convertirse en nuevo jugador inicial. Zona 2 El', 'jugador inicial. Zona 2 El jugador gasta un dado de valor 2 y gana 2 dados y una ficha de producción blanca . Zona 3 El jugador gasta un dado de valor 3 y gana 1 dado y aumenta su n ivel karma en 2 niveles, teniendo en cuenta que el nivel máximo de karma es 3 .Zona 4 El jugador gasta un dado de valor 4 y gana 3 rupias y una mejora de edificio , por lo que podrá mover uno de sus c ubos en el', 'mover uno de sus c ubos en el edificio de su elección a un nivel superior , teniendo en cuenta que el nivel máximo de mejora es 4 . Zona 5 El jugador gasta un dado de valor 5 y tiene la opción de adquirir una loseta de provincia para solapar a otra que ya tuviera colocada en su tablero personal. La nueva loseta debe ser de valor superior a aquella que se pretende solapar y su coste será la', 'solapar y su coste será la diferencia en valor de dados entre ambas, aunque su color sea distinto. Se sigue manteniendo el requisito de la conexión remota de caminos hasta la residencia. En caso de solapar una loseta de los laterales con derecho a bonificación, no se recibe ésta porque ya se recibió al colocar la loseta primitiva . No se puede solapar una misma loseta más de una vez. Zona 6 El', 'más de una vez. Zona 6 El jugador gasta un dado de valor 6 y av anza su barco por el río exactamente 6 casillas consecutivas no ocupadas, obteniendo la bonificación correspondiente. Cuando el barco de un jugador se encuentre ent re las últimas 6 casillas del río, no puede realizar esta acción. 4. Verandas El jugador gasta un dado del color correspondiente a la casilla donde coloca al lacayo y', 'donde coloca al lacayo y gana 2 dados nuevos del color que se indica. El jugador los cogerá de la reserva, los lanzará y los colocará en su busto de Kali. 5. Terraza El jugador coloca un laca yo en la casilla que corresponde a uno de los colores de dados gratuitamente y gana un dado del color impreso junto a la casilla. El jugador lo cogerá de la reserva, lo lanzará y lo colocará en su busto de', 'y lo colocará en su busto de Kali. Hay 2 casillas por cada color de dado y un m ismo jugador puede hacer uso de ellas con sus lacayos. 6. Mirador El jugador coloca un lacayo gratuitamente, gana 2 rupias y tiene la opción de relanzar cualquier cantidad de dados de los que posea en su busto de Kali. 7. Río El jugador coloca un lacayo en una casilla del puerto no ocupada, paga su coste en rupias', 'paga su coste en rupias (hay una gratuita) y debe gastar un dado que sea exclusivamente de valor 1, 2 ó 3. Avanzará su barco como máximo el número de casillas que indique el dado utilizado (un dado de valor 2 permite a vanzar 1 ó 2 casillas y un dado de valor 3 permite avanzar 1, 2 ó 3 casillas). Las casillas del río ocupadas se ignoran para el avance y el jugador gana la bonificación en la que', 'la bonificación en la que coloca finalmente su barco. Al llegar a la última casilla del río, el jugador no puede realizar más esta acción. Reglas a tener en cuenta Variar e l nivel de karma no constituye acción, se puede realizar en cualquier momento del turno y permite voltear uno de los dados del jugador a fin de mostrar la carta opuesta a la que tenía originalmente. Cuando un jugador alcanza o', 'Cuando un jugador alcanza o supera la casilla 12 del marcador de riqueza, debe mover su ficha circular de bonificación a la casilla 33 por el lado que coincida con la imagen impresa en esa casilla, ganando inmediatamente un avance de río. Posteriormente, al alcanzar o superar la casilla 33, ganará 2 dados y moverá de nuevo esa ficha a la casilla 44 haciéndola coincidir con la imagen impresa en', 'con la imagen impresa en esa casilla. Una vez alcanza da la casilla 44, gana rá un nuevo avance de río y moverá la ficha circular a la casilla 55. Una vez alcanzada la casilla 55, gana rá 2 dados nuevos y la ficha circu lar se retira de la partida. Cada vez que un jugador gana dados nuevos sin un color determinado , tanto si es por bonificaciones o por acciones del tablero, el jugador los coge', 'tablero, el jugador los coge del color que desee de la reserva y debe lanzarlos y conservarlos con la puntuación obtenida en su busto de Kal i, teniendo en cuenta el máximo de 10 dados en el modo normal de juego y de 8 en el modo Navaratna .Los lacayos adicionales que un jugador consiga por alcanzar las posiciones en las que se encuentran en los marcadores o en el río empiezan a ser funcionales', 'empiezan a ser funcionales inmediatamente, por lo que pueden ser utilizados en la misma ronda en la que se han conseguido. En el modo normal de juego, cuando un jugador haya conseguido 5 lacayos en total, el sexto se retira de la partida y no lo podrá conseguir. En el modo Navaratn a sí se pueden utilizar todos. Final de partida El final de partida se produce cuando un jugador iguala o cruza la', 'un jugador iguala o cruza la posición de sus indicadores de riqueza y de gloria en el tablero. No obstante, se dejará terminar el turno (no la ronda completa) al resto de jugadores que no lo hubieran hecho, dando así la posibilidad de que alguien más haga cruzar también sus indicadores. De todos los jugadores que hayan cruzado sus indicadores en ese último turno, el ganador será el que más', 'el ganador será el que más diferencia en puntos de gloria haya conseguido entre ambos. A igualdad de condiciones, el ganador será el que desencadenó el final de partida. Variante Navaratna Cada jugador utiliza el tablero de provincia por el lado que muestra el rostro de una diosa hindú, el busto de Kali se coloca por el lado que no tiene hueco para los dos dados interiores y cada jugador puede', 'y cada jugador puede hacer uso de los 6 lacayos disponibles. Las bonificaciones de los laterales son producciones mínimas que se pueden ir mejorando durante la partida. En esta var iante se hace uso de las fichas especiales de producción y las hay de los 4 colores de los templos marrón, blanco, amarillo y rojo. Al principio de la partida se mezclan las fichas marrones de producción , se colocan', 'de producción , se colocan sobre el templo marrón del tablero boca abajo y c ada jugador coge una al azar, la revela y la coloca en una de las dos casillas posibles (la que prefiera) de los laterales de su tablero de provincia. El resto de ficha s marrones de producción se revelan y se colocan boca arriba sobre el templo ma rrón. Las fichas de producción de los otros colores se depositan boca', 'colores se depositan boca arriba, cada una sobre el templo de su color. Cuando un jugador logra conectar las fichas marrones de producción con su residencia mediante un camino, gana una producción especial que de pende del grado de desarrollo que haya conseguido hasta ese momento en un aspecto concreto del juego 1 punto de gloria por cada loseta colocada que tenga al menos un tenderete 1 punto de', 'menos un tenderete 1 punto de gloria por cada 3 casillas de río que el barco del jugador haya avanzado hasta ese momento (sin contar la casilla inicial) 1 rupia por cada edificio de la provincia 2 rupias por cada ficha de producción con la que haya podido conectar 2 puntos de gloria por cada curva o bifurcación que exista en la provincia 2 rupias por cada mejora de edificio efectuada hasta el', 'edificio efectuada hasta el momento 1 punto de gloria por cada lacayo activo en juegoCuando un jugador c oloca una loseta en su tablero de provincia, tras puntuar por los elementos que incluye la loseta , coge una ficha de producción (si así lo desea) y la coloca boca arriba en una casilla de los laterales del tablero de provincia del mismo color a fin de mejorar la que ya viene impresa. Cada', 'la que ya viene impresa. Cada ficha de producción colocada ya n o se podrá mover ni cubrir con otra. Su bonificación se gana al conect arla con la residencia impresa en el tablero de provincia mediante un camino. Las fichas especiales de producción se consiguen de 2 formas a) Al realizar la acción de los aposentos del palacio que exige dado de valor 2 se cogen los 2 dados que se indican y además', 'dados que se indican y además una ficha de bonificación, que en esta variante puede ser cualquier ficha de producción especial. b) Por no poder colocar un lacayo el jugador gana una ficha d e producción cada vez que sea su turno y no tenga lacayos para colocar por tener menos que algún otro jugador . Varia ción de las bonificaciones del río Para hacer el recorrido del río más imprevisible, se', 'del río más imprevisible, se incluyen 8 fichas adicionales de forma circular y de fondo azul que se pueden poner en juego cuando se desee, tanto en el modo normal como en el modo Navaratna . Al principio de la partida se mezclan estas 8 fichas y se colocan boca abajo en algún lugar de la mesa. Luego se lanza un dado y se cuenta su valor en casillas por el río, colocando boca arriba en la casilla', 'boca arriba en la casilla resultante una cualquiera de las 8 fichas adicionales. De este modo se reemplaza la casilla impresa en el tablero por la nuev a. Después se vuelve a lanzar el dado y se realiza un nuevo recuento de casillas a partir de la anterior y se coloca otra ficha de las adicionales en el lugar resultante. A partir de ahí se vuelve a hacer lo mismo hasta llegar al final del río,', 'llegar al final del río, pudiendo so brar fichas adicionales, las cuales no serán utilizadas. Hay que tener en cuenta que la casilla final del río no puede cubrirse con una ficha adicional. El jugador coge tantos dados del color que quiera como indique su nivel de karma en el momento actual El jugador coge 3 dados de los colores indicados El jugador realiza gratuitamente la acción del aposento', 'la acción del aposento del palacio que se corresponda con la imagen de la ficha sin tener que colocar lacayo El jugador gana la cantidad de rupias que resulten de sumar hasta 3 tenderetes de un solo tipo de mercancía de los que tenga en su provincia sin tener que colocar lacayo y de modo gratuito El jugador avanza su barco por el río entre 1 y 3 casillas no ocupadas y gana la bonificación de la', 'y gana la bonificación de la casilla en la que lo coloqueBonificaciones impresas sobre el curso del río en el tablero El jugador gana 2 dados El jugador aumenta su karma en 2 niveles (máximo nivel 3) El jugador gana la cantidad de rupias indicadas en la imagen El jugador puede realizar una de las 5 acciones (entre la 2 y la 6 ) de los aposentos del palacio sin tener que colocar lacayo ni gastar', 'que colocar lacayo ni gastar dado y aunque esté ocupada El jugador gana tantos dados del color indicado en la imagen como sea su nivel de karma (entre 0 y 3) El jugador gana la cantidad de puntos de gloria indicados en la imagen El jugador puede aumentar el nivel de cualquiera de sus edificios El jugador gana 1 rupia por cada tenderete de mercado que tenga en su provincia El jugador gana rupias', 'El jugador gana rupias por hasta 3 de sus tenderetes que sean de una mercancía diferente El jugador gana las rupias correspondientes a una sola de sus mercancías (la que prefiera) contando hasta un máximo de 4 tenderetes El jugador gana las rupias correspondientes a sola de sus mercancías (la que prefiera) contando hasta un máximo de 5 tenderetes El jugador gana 1 punto de gloria por cada nivel', 'de gloria por cada nivel de mejora de edificio logra da (entre 0 y 6) El jugador gana 2 rupias por cada nivel de mejora de edificio logra da (entre 0 y 6) El jugador gana en puntos de gloria el doble de su nivel de karma (entre 0 y 6)']\n",
      "ID: RG_14, Embedding Length: 512, Metadata: {'Reglas del juego': 'reglas guia rapida'}, texto: GANGES (2 a 4 jugadores) Antes de empezar Decidir si se juega en modo normal o en modo Navaratna (ver el epígrafe Variante Navaratna más adelante ). Sortear jugador inicial , el cual se va rotando en sentido horario cada vez que se agoten los lacayos colocados sobre las acciones del tablero, a menos que un jugador obtenga el beneficio de la primera zona de los aposentos del palacio, que lo\n",
      "{'Reglas del juego': 'reglas guia rapida'} ['Rajas of the Ganges Set-Up Place the game board in the middle of the table, according to the player count. o If playing with 3 players, use the 2 space cover markers to cover the 1st Quarry space and the 3rd Harbor space. o If playing the standard game, put the Yellow, Brown and Red yield tokens, and the 8 river tokens, in the box. See below for details on the Navaratnas Version and the Ganga', 'Version and the Ganga Module (2 variants to the game!) Sort the Province Tiles by colo r, and then by the 3 different a nimal ba cks (snake, cow, tiger). o Place the 12 stacks face -down next to the board, then flip the top tile of each stack face -up. Mix the 8 white Y ield tokens face -down on the temple space (white building). Each player takes o 1 Province board (place the sta ndard side up', '(place the sta ndard side up the side without blank yield spots) o 1 Kali Statue board (with the 2 slots in the middle open for dice able to hold 10 dice (thats all it does, fyi) ) o 6 Workers (lay 1 worker sideways on the river bridge, on the 15 fame space, and on the 20 money space) o 5 Cubes (1 on level 1 of the Karma track, and 1 on the leftmost space of the 4 buildings, right side of board)', 'right side of board) o 1 Money m arker (start s pace to be determined when first player is chosen see below ) o 1 Fame m arker (put on 0 space of the F ame track ) o 1 Boat (put on start space of the river) o 1 Money Track Bonus m arker (put on space 12 of the money track, blue (river) side up) o 1 die of each color (Green, Blue, Yellow, Purple) roll them , plac e each die onto an empty hand of', 'die onto an empty hand of Kali Statue. The player with the lowest total on thei r 4 dice will be Start Player. They take the Elephant marker (start player marker.) o The 1st playe rs money marker goes on space 3 . 2nd3rd4th player put their money marker on space 456. Game Flow Rajas of the Gan ges is played over a number of rounds until 1 player triggers the end of the game by having their Fame', 'the game by having their Fame and Money marker intersect paths. At this point, remaining players in turn order will have 1 more turn before the end. The winning player will be whoe ver was able to move their markers past each other the furthest (in case multiple players achieve t his goal during the last turn.) During a round, starting with the 1st player going clockwise, each player will place 1', 'each player will place 1 worker into 1 of the many empty action spaces and carry out the given action before the next player s turn. When all players are out of workers, the round ends. General Rules to get Started As stated above, on a players turn, they w ill place one of their workers o nto an empty action space a nd take the action. There are 4 different areas of the board (Quarry, Market,', 'of the board (Quarry, Market, Harbor, Palace ) where players can place workers (see below for detailed descriptions of each action area ) Some of the action spaces have a cost associated with them when you plac e your worker there . o If the space in the center of the action space is empty, its free! o If the space shows a coin value, pay it (move marker backwards. ) o If the space shows a di e,', 'o If the space shows a di e, return the indicated die (color and pip value might matter.) Pip-less die mean any value , and a Tan die mean any color Anytime in the game you earn Fame or money, you move your marker immediately (earning any bonus es on the track as you go,) and whe n you earn dice (if any remain of that color ,) roll the dice immediately and place on your Kali Statue. o Your Kali', 'your Kali Statue. o Your Kali Statue holds 10 dice. If you were to take an 11th, you can refuse it or replace 1 on the Statue already . Karma Is a resource earned throughout the game that is tracked above the Palace on the upper left side of the b oard. o It allows a player (at anytime on their turn) to flip 1 die to the opposite side by sliding your cube down 1 space. o You can spend as many', 'o You can spend as many Karma points as you want on your turn. The max to hold at 1 time is 3 (see track .) New Workers As the game progresses, you will be moving your money, fame and boat markers along their respective paths. If you reach the space with 1 of your workers , you take it and immediately add it to your pool, ready to work! Once you receive your 5th worker, the 6th worker still on', 'the 6th worker still on the board is removed to the box. Only 5 can be earned in total . Scoring Track Bonuses Along the Fame and Money track, you will earn rewards when you reach certain numbers. o Since you can only go forward on the Fame track, the rewards are simply printed on the board for when you reach them, you earn them. They are spaces 5, 24 and 31. o The Money track is different as', 'Money track is different as there is a small token you will use. You see, since your money can go up and down, the designers made it easy to remember if you go t the bonus yet or not. The first time you cross thisbonus marker, take the reward, flip the token, and move it up to the next space that matches this bonus token. The spaces that will have bonuses are 12, 33, 44, and 55. Take a l ook!', '33, 44, and 55. Take a l ook! After the bonus at 55, remove the token. Quarry Action (Place Province Tiles on your Player Board) In the middle of the board are actions spaces (in 2 rows) with cost values from 1 -4 (remember to pay). Next to them is an icon of a tile being placed on a Province board. Well, activating 1 of these spaces will allow you to do just that! After placing your worker , and', 'placing your worker , and paying the cost, look at 1 of the 12 face -up Province tiles next to the board. You can buy a face -up tile by returning any number of matching colored dice to the supply with a sum o f at least the value shown in the upper left corner. You can overpay for tiles this way. After paying for your tile with dice, take it and place it on your player board so that at least 1', 'board so that at least 1 road on the tile can be traced back to your Estate (the building in the upper middle). Yes, you can rotate your tile any direction you wish and you can cut off other roads, as long as 1 road on your newly placed tile can make its way back home! After you place your tile legally, you will earn rewards based on what is showing on the tile itself. o If 1 of the 4 buildings', 'o If 1 of the 4 buildings is showing, immediately earn Fame points equal to that buildings currently Fame level. o If it shows 1 of the 3 Markets, earn money equal to the prin ted money shown. o Obviously, earn all rewards shown (you might have multiple buildings or multiple markets.) Around the edge of your Province are special Yield rewards. After scoring the Province tile itself, if a road', 'tile itself, if a road connects to this Yield reward back to your Estate, you immediately get the bonus! If a Yield reward is blocked off, you cant earn it. When you are done getting your rewards, flip the next tile over in the stack you chose from. Market Action Spaces (Earn money based on Mark ets in your Province) Just u nder the Quarry spaces are the Market action spaces. The each top row', 'spaces. The each top row action space deals with a specific type of good, while the bottom spaces deal with all 3 different types of goods . If you place a worker on 1 of the top spac es, you will first give up a die with any numeric value on it (the higher the better possibilities,) and then do the following o Each of these spaces is associated with 1 of the 3 goods found in the Markets of your', 'found in the Markets of your Province ( tea, silk, spices .) o If you place your working on the T ea space, you will select a number of different tea markets i n your Province (that can be traced back to your Estate via roads ) up to the value on the die you turned in. (example, turn in a 3 die, you can count up to 3 different tea markets on your Province board. Turn in a 4, you can count 4 so on', 'in a 4, you can count 4 so on ) o Calculate the total money shown on these different Markets and earn that amount of money immediately. o The Silk and Spice s space work exactly the same. If you place a worker on a bottom space ( no player may access both bottom spaces in the same round (34 p game,) see different color worker icons ,) then you will look at your Province board and choose 3', 'Province board and choose 3 different type markets (1 tea, 1 silk, 1 spices) that trace back to your Estate via roads and earn the shown money value immediately! This space has no cost! River Action Spaces (Move your Boat on the River for Rewards) Under the Market spaces is the Harbor, and this area controls the movement of your Boat on the river. Whenever a player is to move their boat during', 'is to move their boat during the game , they always move it forward, they never count spaces other players are on, and they immediately take the reward when the boat has stopped moving. The Harbor spaces all have a coin cost except the first space w hich is free ! When putting your worker here, discard any die with a 1, 2 or 3 value (see chart to the right in the Harbor). o If a 1 is discarded ,', 'o If a 1 is discarded , the player moves their boat 1 unoccupied space up the river . o If a 2 is discarded, the player mov es their boa t 1-2 unoccupied spaces up the river, player s choice. o If a 3 is discarded, the player moves their boat 1 -3 unoccupied spaces up the river, player s choice. The last space of the River can hold several boats, but once you reach this space, you cant take boat', 'space, you cant take boat actions anymore. See the Rulebook for the indivi dual descriptions of each space. Palace Action Spaces ( Ways to Manipulate your Dice pool) The Palace takes up the bottom left part of the board. It includes 19 action spaces from the Chambers (people) all the way t o the Balcony space (shows shaking dice). These are what the spaces do in detail o The 6 Chamber People 1', 'o The 6 Chamber People 1 Give up any value 1 die to get 2 fame points and take the 1st player marker for next round. 2 Give up any value 2 die to get any 2 dice in return and 1 white yield token sitting on the white building . Gain the reward of the Y ield token immediately and discard it. If the pile runs out, reshuffle it.3 Give up any value 3 die to get 2 Karma and 1 die of your choice. 4 Give', '1 die of your choice. 4 Give up any value 4 die to advance 1 of your buildings up 1 level and earn 3 money . 5 Give up any value 5 die to choose any Province tile, place it on top of any Province tile already built with a lower die cost, and pay 1 dice totaling the difference in value of the 2 tiles in the color of the new tile. The new tile will not earn Yield rewards but it will earn rewards', 'but it will earn rewards for what is on the tile itself. Also, this new tile must obey the laws of tile placement. It must be traceable back to the Estate. 6 Give up any value 6 die to move your boat on the river exactly 6 unoccupied spaces . If you are within the last 6 river space s, you cant use this action anymore. Must be able to move exactly 6 spaces. o The Terrace Balcony Spaces The single', 'Balcony Spaces The single space on the very end lets you take 2 money and re -roll any number of your dice. The spaces that are touching a colored die reward you with 1 die of that color. The spaces that show a colored die in the action space require 1 die of this color as payment to receive 2 dice of the other color as the reward. End of the Round After everyone has placed all their workers ( a', 'placed all their workers ( a player might have a skip ped turn if other players have more workers) the round will end. If a player took the 1st player marker by going to the 1 space in the Chambers, then that player is 1st player for the next round. If no one went to that space, pass the Elep hant clockwise. Ever yone now takes back all their workers placed this round and starts a new round! End', 'and starts a new round! End Game During the round, when 1 player has their Fame marker reach andor pass their money marker, the game is triggered. At this time, each player going clockwise unti l the last player is reached will get 1 more turn to place 1 more worker (if the last player is the one to trigger the game then the game will end now.) When the game ends, the player who moved their Fa me', 'player who moved their Fa me and Money marker the furthest apart (ties broken b y the player who did this first) will win the game ! Navaratnas Version (Advance d Game) Instead of only being able to get 2 new workers like in the standard game, you can claim all 3 workers on the board. You will use the other side of the Kali Statue which allows you to only store 8 dice , instead of 10 in the', '8 dice , instead of 10 in the standard game. You will use the other side of your Province Board as well. You will notice some empty Yield space s around the edge. o During Set -up, t ake the Brown Yield tiles, flip them face -down, and each pl ayer takes 1 randomly, looks at it, and covers up 1 of the 2 Brown Y ield spaces on their Province board . It doesnt matter which Brown space is covered.', 'which Brown space is covered. You wont earn the reward now, but you will earn it in game when you connect to this Yield token. See the descriptions of the new bonus Yield tokens in the rulebook. o You will now sort the 4 different color ed Yield tokens by color and place them face -up on their matching building s on the right side of the board. (Same area you put the white tokens face -down in', 'white tokens face -down in the standard game.) There are 2 ways to obtain new Yield tokens during the game o When you select the 2 person in The Chambers. This person allows you to get a ny face -up Yield token from 1 of the buildings. Select 1 and add it to your Province b oard, but it can only cover up a matching color. You wont earn the reward yet, but you will earn it when you connect to this', 'it when you connect to this Yield token via a road going back to your Estate. o When you have fewer workers than others! If you are skipped over during a r ound because other players still have more workers, then you get to take 1 Yield token of your choice and place it on your Province board covering a matching color space. Again, the reward will be earned when you connect to this token with a', 'connect to this token with a road leading back to the Estate. You are not required to take Yield tokens when allowed, and you cant place a Yield token on top of another Yield token. The Ganga Module (Customize the River Spaces) During set -up, mix the 8 river tokens face down, then roll a die. Count out that many spaces and choose 1 of the token to flip over and place on this space (creating a', 'on this space (creating a new space for the game). Repeat this process until you reach the end of the river. The final river space cant be covered up. All 8 riv er tokens might not be placed out. See the rulebook for a detailed description of the new tokens. Obviously, you can turn the tiles face -up and customize the river spaces however you wish for a certain strategic game.']\n",
      "ID: RG_15, Embedding Length: 512, Metadata: {'Reglas del juego': 'reglas guia rapida'}, texto: Rajas del Ganges Preparación Coloca el tablero de juego en el centro de la mesa, según el número de jugadores. o Si juegas con 3 jugadores, usa los 2 marcadores de cobertura de espacio para cubrir el espacio de la 1.ª cantera y el espacio del 3.er puerto. o Si juegas el juego estándar, coloca las fichas de rendimiento amarillas, marrones y rojas, y las 8 fichas de río, en la caja. Consulta a continuación los detalles sobre la versión de Navaratnas y el Ganges.\n",
      "{'Reglas del juego': 'VERSION NAVARATNAS'} ['Después de haber jugado a la versión básica para uno o más jugadores, puedes optar por la versión Navaratnas para jugadores avanzados (Las 9 Gemas ver página 24, Mogul Lexicon Raja Man Singh I). Aplica estas modificaciones Puedes activar los 3 trabajadores inactivos. Así que puedes jugar con hasta 6 trabajadores. Juega con la parte trasera de la estatua de kali, pudiendo almacenar solo 8 dados.', 'almacenar solo 8 dados. Juega por la otra parte del tablero de provincia. Aquí también, las producciones especiales están impresas en el borde pudiéndolas conectar con tu red de caminos. Sin embargo estas producciones son menores, pero se pueden mejorar durante el transcurso de la partida. Al comienzo de la partida, mezcla las loseta de producción marrón. Cada jugador elige una al azar, la revela', 'elige una al azar, la revela y la coloca en uno de los dos espacios disponibles en tu tablero de provincia. Decide que producción especial sustituir en tu tablero de provincia por tu nueva producción especial marrón. En el momento en que conectes las losetas de producción marrón te otorgarán una producción especial dependiendo del progreso actual que lleves en un campo específicoAhora coloca las', 'específicoAhora coloca las losetas de producción restantes marrón así como el resto de losetas de producción, mirando hacia arriba, en los edificios del mismo color en el tablero de juego. Durante el juego podrás adquirir estas losetas de producción para colocarlas en tu provincia. Las losetas de producción blancas, rojas y amarillas proporcionan producciones especiales Atención! Puntúa siempre', 'Atención! Puntúa siempre las losetas de provincia antes de coger la producción especial. No puedes mover ni cubrir las losetas de producción ya colocados en el tablero. a)Cuando estés colocado en La Bailarina. Cada vez que coloques un trabajador en La Bailarina y renuncies a un dado de valor 2 de cualquier color, puedes coger 2 dados de tu elección del suministro general y escoger una loseta de', 'y escoger una loseta de producción especial cualquiera. De inmediato coloca esta loseta boca arriba en un espacio (todavía) desocupado del color correspondiente en tu tablero de provincia. A diferencia del juego básico, aquí no obtendras el bono de la producción inmediatamente solo cuando conectes tu red de caminos en tu tablero de provincia. b)Cuando seas el que menos trabajadores activos tiene.', 'trabajadores activos tiene. Si, por ejemplo, tienes un total de 4 trabajadores activos, pero al menos uno de los otros jugadores tiene 5 trabajadores a su disposición, obtienes 1 loseta de producción cuando sea tu turno en esta ronda y no puedas colocar un trabajador porque no tienes. Decide inmediatamente en qué espacio desocupado de tu tablero de provincia quieres colocar tu nueva loseta de', 'colocar tu nueva loseta de producción (boca arriba y coincidiendo en color). VERS IÓN NA VARATNAS Dados (1 o 2 dados de los colores a tu elección).Monedas']\n",
      "ID: RE_0, Embedding Length: 512, Metadata: {'Reglas del juego': 'VERSION NAVARATNAS'}, texto: Después de haber jugado a la versión básica para uno o más jugadores, puedes optar por la versión Navaratnas para jugadores avanzados (Las 9 Gemas ver página 24, Mogul Lexicon Raja Man Singh I). Aplica estas modificaciones Puedes activar los 3 trabajadores inactivos. Así que puedes jugar con hasta 6 trabajadores. Juega con la parte trasera de la estatua de kali, pudiendo almacenar solo 8 dados.\n",
      "{'Reglas del juego': 'VERSION AUTOMA'} ['Rajas of the Ganges Automa mode Author Mauro Gibertoni Rev. 1.0 - 4 Dec 2017 This is a solo variant for Rajas of the Ganges boardgame. You play against a fake opponent the Automa. While you play following all standard rules, the Automa breaks some rules, so for you it will be very easy to take the action for the Automa. Set-up Prepare a standard set -up for wo players, but consider that the Automa', 'but consider that the Automa doesnt need all the components, so you can leave in the box the following components - the province board ; - the four markers for palaces upgrade ; - the marker for karma points ; - the personal dice an d the Kali statue ; - if you play with Navaratnas version, select one brown yeld tile for you then remove 2 yeld tiles per color . Shuffle the Automa deck and place', 'the Automa deck and place it close to the board with the blue side face up. Select randomly who will be the first player . Place the provice tiles in 12 piles and organize them in a 3 x 4 grid. Automas overview At each turn alternate your actions with the automa actions like in a normal game. When the Automa must perform an action, you draw a card from Auotma deck and ex ecute the action', 'deck and ex ecute the action described. In general - The Automa places his workers on the board, but he spends no dice to take the action ; - The Automa can gain new workers like a normal player ;- The Automas fame and money markers are moved only one time per round just after the Automa has placed his last worker . Description of the round When it is the Automas turn, draw a card from Automa', 'turn, draw a card from Automa deck, look the red side and perform the action shown Building action place the Automas worker then look the blue side of the first automa card that is remained on the top of the automa deck, and discard the province tile highlighted on the card. (Automa gains no fame for the moment) Market action look the blue side of the first automa card that is remained on the top', 'that is remained on the top of the automa deck and place the Automas worker on the market shown on the card. (Automa gains no money for the moment) River action place the Automas worker then look the blue side of the first automa card that is remained on the top of the automa deck, and advance the ship the number of spaces indicated on the card. (Automa gains no bonus) Action at the palace look', 'Action at the palace look the blue side of the first automa card that is remained on the top of the automa deck and pla ce the Automas worker on the palaces room shown on the card. Special cases If the room is the number 5 (Master builder), discard a province tile as in building action. If the room is the number 6 (Portuguese), advance the ship 6 spaces. Balconies action look the b lue side of', 'action look the b lue side of the first automa card that is remained on the top of the automa deck and place the Automas worker on the balcony space shown on the card. Note if the Automa can not palce his worker because the area is occupied by another worker, discard the card on top of the deck and look the next card until the Automa can place his worker. Every time the Automa deck is termined,', 'the Automa deck is termined, reshuffle it.Example If you draw this card and this card is visible on top of the deck , the Automa places a worker on the silk market space. End of a round Once the last automa worker is placed, look on the red side of the current automa card and advance the fame and money Automa marker the number of spaces indicated on the card. There are three difficulty level', 'are three difficulty level available. Apply the level you want easy (green ), medium (orange ), hard (red). During the game the Automa gains new workers and the advancements on the river, all other rewards shown on fame and money tracks are ignored. If the Automa gains a new worker during the advancements of the markers at the end of his turn, the new workers will be available only in the next', 'be available only in the next turn.End of game If you are the first to trigger the victory condition, draw a card and apply the fame and money point with the selected difficulty level for the last time. Then declare the winner with the standard rules. If the Automa is the first to trigger the victory condition (this occurs only after the Automa has placed his last worker) and you are the second', 'and you are the second player in turn order you can place your last worker, then declare the winner with the standard rules.']\n",
      "ID: RE_1, Embedding Length: 512, Metadata: {'Reglas del juego': 'VERSION AUTOMA'}, texto: Rajas of the Ganges Modo Automa Autor Mauro Gibertoni Rev. 1.0 - 4 Dic 2017 Esta es una variante individual del juego de mesa Rajas of the Ganges. Juegas contra un oponente falso, el Automa. Si bien juegas siguiendo todas las reglas estándar, el Automa rompe algunas reglas, por lo que para ti será muy fácil realizar la acción por el Automa. Preparación Prepara una configuración estándar para dos jugadores, pero considera que el Automa\n",
      "{'Estrategias': 'Estrategia personaje portuguese'} ['Except for the case where you want to rush to get your worker on the bridge, I cannot understand why using a 6 on the Portuguese is useful. The sooner you race through the river, the less likely you are to benefit for those 1 river space bonuses and claim rewards caused by other events. How else could the Portuguese be useful?']\n",
      "ID: EST_0, Embedding Length: 512, Metadata: {'Estrategias': 'Estrategia personaje portuguese'}, texto: Excepto en el caso en el que quieras apresurarte para llevar a tu trabajador al puente, no puedo entender por qué es útil usar un 6 en los portugueses. Cuanto antes atravieses el río, menos probabilidades tendrás de beneficiarte de esas bonificaciones de espacio de 1 río y reclamar recompensas causadas por otros eventos. ¿De qué otra manera podrían ser útiles los portugueses?\n",
      "{'Estrategias': 'Estrategia personaje portuguese'} ['I use it frequently...like you mentioned, usually to rush and get my extra worker.']\n",
      "ID: EST_1, Embedding Length: 512, Metadata: {'Estrategias': 'Estrategia personaje portuguese'}, texto: Lo uso con frecuencia... como mencionaste, generalmente para apresurarme y conseguir a mi trabajador extra.\n",
      "{'Estrategias': 'Estrategia principiantes'} ['I have only played the game several times, but I think the best (and probably the most obvious) strategy is to build up your markets in your province as fast as possible, and then take the market action to score them frequently. Look and see which markets are available on the tiles and plan accordingly. The market action that allows you to score all three market types (one of each) does not cost a', '(one of each) does not cost a die, so go for diversity first if the tiles available are in that favor. Of course pick the markets with value 2 or 3 first. My last game I did not buy any market tiles that had a value of one (unless it has a building on it that will score well for fame.) Build up your building upgrades as fast as you can as well. In our second game my opponent ignored buildings and', 'ignored buildings and focused entirely on markets - and he lost. So do not ignore them. This is one of those games where you have so much you want to do each turn and you only get to do one thing! Also, get your extra meeple as soon as possible. And dont forget the action where you can lay a tile on top of another tile. We sort of ignored that until our third game and realized it might be a good', 'realized it might be a good idea to connect to the borders of your province as much as possible even if the roads might not bend the way you want, because you can always cover a tile later (although there are restrictions.) This is quickly becoming one of my favorite games. I suggest skipping the basic game and playing with the advanced rules right away. Its not any more complicated and really', 'more complicated and really makes the game shine quite a bit more. Good luck!']\n",
      "ID: EST_2, Embedding Length: 512, Metadata: {'Estrategias': 'Estrategia principiantes'}, texto: Solo he jugado el juego varias veces, pero creo que la mejor estrategia (y probablemente la más obvia) es construir tus mercados en tu provincia lo más rápido posible y luego realizar la acción de mercado para puntuarlos con frecuencia. Observa qué mercados están disponibles en las casillas y planifica en consecuencia. La acción de mercado que te permite puntuar los tres tipos de mercado (uno de cada uno) no cuesta nada.\n",
      "{'Estrategias': 'Estrategia Competitiva'} ['Rajas of the Ganges is one of my favourite games. I like it because I see a way to work towards mastering it. I hope that this article will improve the gameplay of those with similar goals, as well as those on Yucata. This article is more tailored towards 2-player games (Navaratnas Ganga module) but many of the principles also apply to higher player counts. Revised in Feb 24 I incorporated new', 'in Feb 24 I incorporated new views based on my 10 games played as part of a Yucata Kings Court tournament. (2-players, round robin). The most significant is I now see the value of picking the Great Mogul (1). Besides updating the guide, I tried to improve the readability of the guide with ChatGPTs help. I am not very proficient with formatting on BGG, so I apologize in advance if it is still', 'in advance if it is still difficult to read! Rajas of the Ganges Strategy Guide Introduction Rajas of the Ganges holds a special place among my favorite games, as it provides a clear path to mastery. This article aims to enhance the gameplay for those with similar goals, specifically for 2-player games (Navaratnas Ganga module), but many principles also apply to higher player counts. At a Glance']\n",
      "ID: EST_3, Embedding Length: 512, Metadata: {'Estrategias': 'Estrategia Competitiva'}, texto: Rajas of the Ganges es uno de mis juegos favoritos. Me gusta porque veo una manera de trabajar para dominarlo. Espero que este artículo mejore la jugabilidad de aquellos con objetivos similares, así como de aquellos en Yucata. Este artículo está más orientado a juegos de 2 jugadores (módulo Navaratnas Ganga), pero muchos de los principios también se aplican a un mayor número de jugadores. Revisado el 24 de febrero, incorporé nuevos\n",
      "{'Estrategias': 'Estrategia Competitiva'} ['1. The Macro View Revised in Feb 24 - Mixed strategy Heavy Money Fame 2. Evaluating the Board State at the Start of the Game to Decide on a Strategy - 1 market of each kind 3 and 4 directional tiles (consider your dice as well) 3. Dice Management Revised in Feb 24 - 3 karma dice River 3 color dice River Dancer 2 dice River 1-for-2 dice 1 dice (assuming the dice color matches what you want) 4. How', 'matches what you want) 4. How to Get Money - Different market spot - No. 4 - River spots - Connecting to the bottom of the board (longer than the top but more worthwhile in the long run) - 1 market (only worth if activating 3 or more) 5. How to Get Fame - No. 4 then build monuments - Board - River spots 6. How to Quickly Get Your 6 Workers New Section in Feb 24 - River is your good friend - If', 'is your good friend - If you have a good Money set-up (3 different markets), focus on river spots giving fame - If you have a good Fame set-up (min. 3 monument upgrades), focus on river spots giving money 7. What Yield Tiles to Pick New Section in Feb 24 - Make sure you have a good Brown end-game yield tile - If you have a bad Money engine, pick Money - If you are reaching the yield tile soon and', 'the yield tile soon and lack dice, pick dice 8. Others - (Base Game) the most optimal way to build is to go down the center and build both ends - Withhold building to punish opponents for getting dice in the color of the tile you want and can get']\n",
      "ID: EST_4, Embedding Length: 512, Metadata: {'Estrategias': 'Estrategia Competitiva'}, texto: 1. La visión macro Revisada el 24 de febrero - Estrategia mixta Dinero pesado Fama 2. Evaluación del estado del tablero al comienzo del juego para decidir una estrategia - 1 mercado de cada tipo 3 y 4 fichas direccionales (considere también sus dados) 3. Gestión de dados Revisada el 24 de febrero - 3 dados de karma River 3 dados de color River Dancer 2 dados River Dados 1 por 2 1 dado (asumiendo que el color de los dados coincide con lo que desea) 4. Cómo\n",
      "{'Estrategias': 'Estrategia Competitiva'} ['Macro View Mixed Money Fame The game concludes when the fame and money tracks intersect. Thus, players can opt to focus heavily on money, fame, or pursue a mixed strategy. In a balanced strategy, players benefit from both tracks, making it generally more advantageous. A slight emphasis on money is preferred due to better bonuses (river and dice) compared to fame (upgrade, karma, and river).', '(upgrade, karma, and river). However, a fame-heavy strategy can still be successful. In Raja of the Ganges, flexibility is key, and understanding your best options at any given moment is crucial. Evaluating the Board State at the Start of the Game to Decide on Strategy 1 market of each kind 3 and 4 directional tiles By default, seek market tiles of each kind (greenyellowred) providing 2-3 coins', 'providing 2-3 coins to quickly form 3 different markets for 6-9 coins. Two-markets-in-one tile and affordable market tiles are also viable. The 3-different-markets meeple spot offers the best VP-to-cost ratio, as it requires investment in only 3 tiles and costs no dice. If acquiring these tiles is challenging, consider going for monument upgrades. In such cases, focus on 3 or 4 directional', 'focus on 3 or 4 directional monument tiles or those combining monuments and market tiles to build both the fame and money tracks simultaneously.']\n",
      "ID: EST_5, Embedding Length: 512, Metadata: {'Estrategias': 'Estrategia Competitiva'}, texto: Macro View Mixed Money Fame El juego concluye cuando las pistas de fama y dinero se cruzan. Por lo tanto, los jugadores pueden optar por centrarse principalmente en el dinero, la fama o seguir una estrategia mixta. En una estrategia equilibrada, los jugadores se benefician de ambas pistas, lo que la hace generalmente más ventajosa. Se prefiere un ligero énfasis en el dinero debido a mejores bonificaciones (river y dados) en comparación con la fama (mejora, karma y river).\n",
      "{'Estrategias': 'Estrategia Competitiva'} ['For example, in the given illustration, consider 7 blue (since green Market is rare) and then either 5 Orange, 9 Green, or 7 Purple. This tile evaluation remains relevant throughout the game as you aim to build towards the bottom for the most rewarding outcomes. Deciding between sub-par 3 or 4 directional tiles (usually market tiles) and tiles that fit your monument upgrades will likely determine', 'will likely determine your chosen strategy, whether Heavy Money, Mixed, or Heavy Fame. Dice Management 3 karma dice River 3 color dice River Dancer 2 dice River 1-for-2 dice 1 dice Dice color matters only when building. Dice plays a crucial role in lubricating your VP engine. In order of preference, obtain dice through the following methods 1 River spot (1 die per karma) The uniform color aids in', 'The uniform color aids in building tiles. 2 River spot (2 dice) is superior to 1-for-2 dice exchange because it advances the river track, providing better rewards and an extra meeple. 3 Updated Feb 24 Dancer While Dancer is more useful in the early game, it gradually loses its edge as you accumulate enough yield tiles. 4 1-for-2 dice exchange is usually better than acquiring 1 dice because more', 'acquiring 1 dice because more dice of the same color make building easier, and you get a free roll of the die you gave up. Think of it as receiving a new die, rerolling your die, and giving it a different color. Consider saving a die to acquire more dice, as this is typically the trade-off. With dice, focus on increasing both money and fame. Strategies for Resource Acquisition in Rajas of the', 'Acquisition in Rajas of the Ganges How to Get Money - Different market spot - No. 4 - River spots - Connecting to the bottom of the board (longer than the top but more worthwhile in the long run) - 1 market (only worth if activating 3 or more) How to Get Fame - No. 4 then build monuments - Board - River spots How to Quickly Get Your 6 Workers New Section in Feb 24 In the Advanced game, you start', 'the Advanced game, you start with 3 workers and can unlock 3 more by advancing on the Money, Fame, and River tracks. Rushing for 6 workers is beneficial, outweighing the drawback of yielding tiles to opponents. This is because 1 worker is minimally worth 1 die, and the benefit of yield tiles diminishes as opponents acquire more. River is your good friend - If you have a good Money set-up (3', 'have a good Money set-up (3 different markets), focus on river spots giving fame - If you have a good Fame set-up (min. 3 monument upgrades), focus on river spots giving money While its preferable to get 3 markets and then focus on fame for the extra worker, circumstances may not allow this, usually due to tile constraints. In such cases, focus on fame but make a conscious effort to obtain all', 'effort to obtain all the Money bonuses on the river. Anticipate whether your opponent is using the build or river locations and try to beat them to it or delay your visit to these locations until the next round if there are no compelling reasons to visit this round. The goal is to secure the worker on the Money track. The river is an excellent place to utilize low rolls and can yield various', 'rolls and can yield various rewards. Climbing it strategically for the rewards you need (usually dice fame or money) is key. The Portuguese (6) turns out to be more useful than perceived, particularly when moving up the river without 6 is challenging. Keep this in mind when deciding whether to use the 6 dice to build tiles or ascend the river. 6 can also be a good option when landing on the river', 'when landing on the river reward that allows you to pick one of 1 - 5 bonuses. What Yield Tiles to Pick New Section in Feb 24 Ensure you have a good Brown end-game yield tile - Based on my observation, players prefer taking yield tiles in this order RedBrown YellowWhite. - Starting with a bad brown yield token can be detrimental, and players should quickly exchange it for a good brown yield', 'it for a good brown yield token. Only the bolded tiles below consistently provide 6 or more fame.']\n",
      "ID: EST_6, Embedding Length: 512, Metadata: {'Estrategias': 'Estrategia Competitiva'}, texto: Por ejemplo, en la ilustración dada, considere 7 fichas azules (ya que el Mercado verde es raro) y luego 5 naranjas, 9 verdes o 7 moradas. Esta evaluación de fichas sigue siendo relevante durante todo el juego, ya que apunta a construir hacia la parte inferior para obtener los resultados más gratificantes. Decidir entre fichas direccionales de 3 o 4 pulgadas (generalmente fichas de mercado) y fichas que se ajusten a sus mejoras de monumentos probablemente determinará\n",
      "{'Estrategias': 'Estrategia Competitiva'} ['1 fame per 3 river spots 1 fame per worker 1 fame per market 2 coins per monument upgrade 2 coins per tile connected 1 coin per building 2 fame per bend']\n",
      "ID: EST_7, Embedding Length: 512, Metadata: {'Estrategias': 'Estrategia Competitiva'}, texto: 1 fama por cada 3 puntos de río 1 fama por trabajador 1 fama por mercado 2 monedas por mejora de monumento 2 monedas por casilla conectada 1 moneda por edificio 2 fama por curva\n",
      "{'Estrategias': 'Estrategia Competitiva'} ['For white, yellow and red yield tiles, - If you have a weak Money engine, pick Money - If you are approaching the yield tile soon and lack dice, pick dice Others (Base Game) the most optimal way to build is to go down the center and build both ends - The bottom rewards are significantly more potent. Consider this scenario (and how you should generally build in the base game)']\n",
      "ID: EST_8, Embedding Length: 512, Metadata: {'Estrategias': 'Estrategia Competitiva'}, texto: Para las fichas de rendimiento blancas, amarillas y rojas: - Si tienes un motor de dinero débil, elige dinero. - Si te estás acercando a la ficha de rendimiento pronto y te faltan dados, elige dados. Otros (juego base): la forma más óptima de construir es ir por el centro y construir ambos extremos. - Las recompensas inferiores son significativamente más potentes. Considera este escenario (y cómo deberías construir en general en el juego base).\n",
      "{'Estrategias': 'Estrategia Competitiva'} ['4 Fame 7 money or 6 money 8 Money. If lacking dice, consider taking a detour to the 2nd bottom row first, as it is more valuable than going down the sides where you get 3 dice before reaching your rewards. - For the Advanced mode, route choice is flexible; pick a route that aligns with what you want to build. Withhold building to punish opponents for acquiring dice in the color of the tile you', 'in the color of the tile you want and can get - This is an advanced consideration when players have a good sense of whether a given tile is sought after by others. Otherwise, its generally better to buy a tile first, see what that tile is, before obtaining dice to better adapt to the available tiles for purchase. Parting Remarks Critics have pointed out Rajas of the Ganges for being scripted on a', 'for being scripted on a strategic level, but the games essence lies in tactical decisions. Its 80 tactical, akin to navigating a maze in the fog. The fun lies in assessing the most likely path based on limited information. I hope this guide aids those striving to enhance their gameplay Addendum As nandblock rightly points out in the comments, the Master Builder is often overlooked. There are a', 'often overlooked. There are a few advantages to it, namely Converts dead ends to live paths (translating to creating dead ends for yield rewards and then over-building to continue the path) Provides the ability to snag a tile if you lack enough dice of the same color to build conventionally Saves coins. I have used it effectively too. Note that these advantages must be weighed against not', 'must be weighed against not advancing your path (since you are replacing and not adding a new tile). Some players use their 1 dice to get the Great Mogul (1). I think this is not worthwhile because most river spots are worth more than 2 fame, or it can be converted to a 6 for Portuguese or building tiles. I will probably only do it if I need the 2 fame to get my fame worker The leading player is', 'worker The leading player is 2 or 3 seats after me AND the player seated after me does not threaten me The next round will be the last round The player after me always picks the Great Mogul Update in Feb 24 In 2-player games, I have been humbled by players frequently picking the Great Mogul. The Great Mogul can be a very good pick if both players have developed their 3 markets. Lets say both', '3 markets. Lets say both players can get 6 coins from the spot, the Great Mogul can represent a 12-coins swing (6 to you, -6 to your opponent). This is also very good if it would help you or stop your opponent from getting a reward on the Money track. That said, you still have to weigh it against advancing 1 river step or converting to 6 for Portuguese or building tiles.']\n",
      "ID: EST_9, Embedding Length: 512, Metadata: {'Estrategias': 'Estrategia Competitiva'}, texto: 4 fama 7 dinero o 6 dinero 8 dinero. Si no tienes dados, considera tomar un desvío a la segunda fila inferior primero, ya que es más valioso que bajar por los lados donde obtienes 3 dados antes de alcanzar tus recompensas. - Para el modo avanzado, la elección de ruta es flexible; elige una ruta que se alinee con lo que quieres construir. No construyas para castigar a los oponentes por adquirir dados del color de la ficha que quieres construir.\n",
      "{'Opinion': 'opinion del juego'} ['This is my first review for BGG. Ive really enjoyed Rajas so far so it seems like a great game to start with! I love midweight Euros and a big appeal of this game for me was the stated 60-75 minute play time. I often play games with coworkers at lunch and we have an hour to play. For that reason, I dont get to play heavier games like Great Western Trail very often. Games that have seen regular', 'Games that have seen regular play lately include Rajas, Tiny Towns, Tournay, Jaws, Res Arcana and Century Spice Road. I bought Rajas of the Ganges a few weeks ago after months of delayed gratification... its been on my wishlist for a while. Ive spent a fair amount of time traveling in India so the theme was automatically a win for me. The art and components are fantastic. 48 dice of varying', 'fantastic. 48 dice of varying colors, wooden meeples, nice thick tiles for province building. I also really love the Kali component for storing dice. The only component Ive found lacking is the player 1 elephant - sure, its cute, but it easily falls apart. This is nitpicking, though. I have played this game at 2, 3 and 4 players and have loved it at all counts. Turns go fairly quickly.', 'Turns go fairly quickly. Interaction is indirect but theres a fair amount of tension due to the competition for building tiles and placing workers. I always find myself paying attention to the turns of others. Rajas also combines dice rolling, tile laying and worker placement in an extremely satisfying combination. The worker placement vibe gives me a Lords of Waterdeep feel, which is a big', 'feel, which is a big positive. Players start with 3 workers but can unlock up to two more, so all players are racing to get an advantage (however brief) where they get additional actions in a turn. The tile laying comes into play when building out provinces that include markets (for money) and monuments (for fame) - plus reaching certain spots leads to bonuses. This adds a nice, classic', 'This adds a nice, classic Carcassonne vibe. The individual player boards for provinces are excellent and the rules for building out provinces are simple yet engaging. The dice rolling aspect is also excellent. I hate luck-based games and Im generally not a fan of dice. Games like King of Tokyo bore the heck out of me. However, I love games where I can mitigate andor manipulate dice, and this is', 'manipulate dice, and this is one area where ROTG really shines. Dice are rolled as soon as they are acquired. I am almost always excited by what I roll because I have so many options. Low rolls can be turned to high rolls by using karma (and high rolls are desirable for gaining buildings). However, low rolls can be desirable in their own right - for instance, the dancer can only be activated with', 'can only be activated with a die roll of 2 (which results in 2 fresh dice to add to a players pool along with a bonus tile) and the yogi is activated with a die roll of 3 (a free die plus 2 karma). Each player also has a boat on the river that can be moved only with a roll of 1-3, triggering special bonuses. In the rare instances I get a mediocre roll and find myself stuck, its generally because', 'stuck, its generally because I havent done a good job replenishing karma. My gaming group have found multiple strong strategies for winning this game. Being resourceful with dice and balancing fame and money are all important. Also, everyone Ive played with so far (4 other people plus myself) have all really liked this game. Best of all, this game can be played in about an hour. I played a', 'in about an hour. I played a 3-player game a few days ago that was tense, thinky and immersive and led to all three players nearly winning the game despite the fact that we all pursued drastically different strategies. I was amazed that we completed the game in an hour. It felt like wed played a meatier game, which is a huge plus for me. As much as Id like to bring a big ol Euro to the table at', 'a big ol Euro to the table at lunch, its just not an option for us at work! I give this game a 9 out of 10 (and I havent given any games a 10 just yet, so 9 is as high as I go). Highly recommended!']\n",
      "ID: OP_0, Embedding Length: 512, Metadata: {'Opinion': 'opinion del juego'}, texto: Esta es mi primera reseña de BGG. Hasta ahora, disfruté mucho de Rajas, así que parece un gran juego para empezar. Me encantan los juegos europeos de peso medio y un gran atractivo de este juego para mí fue el tiempo de juego indicado de 60 a 75 minutos. A menudo juego con compañeros de trabajo durante el almuerzo y tenemos una hora para jugar. Por ese motivo, no suelo jugar juegos más pesados ​​como Great Western Trail. Los juegos que han tenido un rendimiento regular\n",
      "{'Opinion': 'opinion del juego'} ['Plays 4 at player counts 2 3 Appearance The front of the box shows a beautiful landscape and river with a deity holding dice and is full of colour and detail. The back of the box shows a 2 player game in progress showcasing the majority of the components and gives a description of the theme of the game. The game has a good insert which holds the components well and makes setup a lot quicker. The', 'setup a lot quicker. The player boards are well laid out but a little bland until you lay tiles on them during the game. The tiles are more detailed with various spices and buildings, along with a large number and colour to denote what they require to be built. The wooden coloured player components are easy to distinguish from one another and include some shaped meeples along with some bland', 'meeples along with some bland cubes. The main board is a particular highlight of the components, it is very colourful and detailed and doesnt look overwhelming. Finally the dice are very good quality in bright colours with a nice weight to them. Gameplay The aim of the game is to make your fame and wealth track markers intersect one another, these run in parallel around the board in opposite', 'around the board in opposite directions. When a players 2 markers intersect the end of the game is triggered, with the player with the biggest difference between the 2 markers winning if multiple players tokens intersected. Each turn players will place workers, pay any costs associated with the spot and carry out the action listed. These costs vary from moving back on the money track to paying a', 'the money track to paying a specific colour or numbered dice. Players will continue to place workers until all workers have been placed and the board will then reset with players collecting back all their workers and the next round can begin as long as the end game hasnt been triggered. There are 4 main different worker placement areas the quarry, market place, palace and harbour. Using the', 'palace and harbour. Using the quarry worker area you can build a province tile into your personal province. There are 12 different province tiles on offer at any time, 3 for each different coloured dice. Your must pay the listed money cost when placing your worker along with matching coloured dice of equal to or greater pip value than the tile you are acquiring. You must place these tiles with a', 'must place these tiles with a direct path back to your starting palace on your province. You gain any yields that you connect to on the edge of your province and receive the money from any markets on the tile. You also receive fame for any buildings on the tile based on your position on that buildings scroll track on the main board, so between 2 and 4 fame. There are various actions and bonuses', 'various actions and bonuses on the board that allow you to move up on the 4 building scroll tracks. The market worker area allows you to collect income from the markets in your province, either from the same type of market or different ones. When activating the same market you must pay a dice and can only activate as many markets as the pip value of the dice. The palace has 3 main areas the', 'palace has 3 main areas the terrace, balconies and the chamber. In the terrace and balconies you can either collect a specific coloured dice of your choice or trade one coloured dice for 2 of a different coloured dice. Whenever you collect dice you roll them and place them onto your Kali statue if you have room. You can always spend karma (if you have it) to flip a dice when you need to pay a', 'a dice when you need to pay a cost. In the chambers you can spend a dice of a specific number to activate one of the characters for a specific action. These include gaining dice, karma, scroll movement, taking first player and building over province tiles in your area. In the harbour you can move your boat 1 to 3 spaces on the river and take the listed bonus on the space you end your movement on.', 'you end your movement on. The amount of spaces you move depends on the value of the dice spent. Boats cannot be on the same space and you simply skip spaces opponents boats are present on. The bonuses are very similar to the other actions on the board but towards the end reward dice, money or fame based on a condition such as number of karma, scroll movement or markets built in your province. You', 'built in your province. You start the game with 3 workers but can unlock up to 3 more from the fame, money and river tracks when your corresponding marker passes them. Play continues until the end of the game when one players score markers intersect. Play continues until every player has played an even number of turns and then the winner is determined. The turns flow very naturally in this game', 'very naturally in this game with simple to resolve actions and costs to pay. The game plays 2 to 4 players and an unofficial solo automa is also available on bgg. Theme and Game Length The game has a good theme, different to many other Euro games of this weight but it doesnt really come through in the actions you are performing. Why are you trying to get wealth and fame to meet, who are these', 'fame to meet, who are these characters and why does the river give the bonuses it does. Gaining workers makes slightly more sense as when you get more famous on the 3 tracks more people are willing to work for your province. The game doesnt drag at all and is actually quite fast for the level of decisions offered. The game scales well with 2 different sizes of the board to tighten up the worker', 'to tighten up the worker placement spots. The game takes about 20 minutes per player which is very good considering the weight of decisions you make. Strategy There are two main ways to score points in this game, wealth and fame. It is very hard to just work on just one of these and win so over the course of the game you will be earning both. Players will differ in their overall strategy but', 'in their overall strategy but there is only the one way to win, intersecting your markers. A focus you must have is to get more workers as quickly as possible. The two workers that can be unlocked on the wealth and fame tracks are the easiest to obtain. The wealth track also offers multiple other bonuses so is the track you should target at the start of the game. If other players have more', 'If other players have more workers than you for too long you have no chance of winning with the yield tiles offering too little in compensation for the worker placement actions they are taking. Each fame is worth 2 money so this obviously looks more appealing to try and race up but without the track bonuses this shouldnt be an early game focus. Instead you should look to increase your scrolls for', 'to increase your scrolls for the 4 building types. If you specialise in one or two building types other players may build tiles with that building type to prevent you from building it. Also with 4 different building types the tiles that may come out may not be the ones you get extra fame for so its probably best to spread your scroll movement out. A space that you cannot underestimate is the', 'cannot underestimate is the space to activate up to 3 different markets in your province. You want to make sure to build 3 different high value markets as soon as possible to take advantage of this space. This spot (or spots in the 34 player games) is usually the first spot players go to at the start of each round from the mid game onwards. It costs no dice and can yield anywhere from 3 to 9', 'yield anywhere from 3 to 9 money which is better than any other spot due to having no costs. Activating multiple markets of the same type can also be good but requires a lot of the same market to be built which depends a lot of the tiles that come out. Many of the spots cost dice of various values with every value having a potential good use. If you get lots of high value dice you should be using', 'dice you should be using these to build tiles, trying not to waste too much pip value. The lower value dice can be used for some of the characters or more likely the river. The river is sort of split into two halves by your unlockable worker with the first half offering small bonuses like dice, scroll movement and fame. The later half offers powerful one off bonuses like activating multiple', 'like activating multiple markets or gaining fame and money based on a condition. It is perfectly viable to skip most of the early bonuses and plan to maximise these powerful one off bonuses instead. With so many spots costing dice you always want to make sure you dont run out. You should never take the terrace actions to gain one dice as it is so inefficient and should instead look to use bonuses', 'instead look to use bonuses to acquire dice or trade one dice for two. In the higher player count games you also want to make sure you are not 3rd or 4th in turn order for long due to some worker placement spots being clearly better than others and you can really fall behind if you are not careful. There have been some runaway leader problems in the games that I have played of this. During the', 'played of this. During the mid game it became obvious who was going to win generally because of the market setup they had on their board. This meant one worker could gain them 6 12 money with each action which was much stronger than the other players. Newer players will struggle with experienced players with both tracks to manage and not being able to distinguish which worker placement spots are', 'worker placement spots are better than others. The game has modest replayability as you are aiming to do the same thing each time and the way the tiles come out and what dice values you get will change each game. The game also comes with several modules which significantly help replayability and make the game better in my opinion with ways to customise your province. The game can end very', 'The game can end very suddenly and can be difficult to plan for so you need to be building towards the end of the game constantly. Accessibility The game is light to medium weight with simple to perform and resolve actions but some setup on your province tile required to do well. There is also some consideration needed for when and where to place your workers to maximise their benefits. The game', 'their benefits. The game is very easy to teach with obvious iconography and the main board layout also helps. The rulebook is excellent, very clearly laid out rules with multiple examples and text descriptions of each worker placement spot. The game takes up a decent amount of table space with each players province, the main board and places for tiles and dice. Final Thoughts Rajas of the Ganges', 'Thoughts Rajas of the Ganges is a good next step worker placement Euro game with simple to understand rules and great components. The game has good flow to it with your points increasing steadily before exploding towards the end. One of my main problems is the market space on the main board especially the activate 3 different ones in your province. This is way too strong due to having no cost and', 'due to having no cost and makes first player way too powerful in this game with players needing to shift it multiple rounds in a row to mitigate this. I really like the scoring in this game its fairly unique and offers different considerations unlike normal Euro style games. I also like the fact that all values of dice have uses in this game so even though low numbers arent good for building you', 'arent good for building you can use them on characters and the river or to trade. A solid light to medium weight game. 710 If you enjoyed this review please leave a thumbs up and also think out about checking out one of the 120 reviews available on my blog (with pictures), Silver Duck Reviews, and subscribing to let you know when new reviews go live.']\n",
      "ID: OP_1, Embedding Length: 512, Metadata: {'Opinion': 'opinion del juego'}, texto: Juegan 4 jugadores contando 2 3 Aspecto La parte delantera de la caja muestra un hermoso paisaje y un río con una deidad sosteniendo dados y está llena de color y detalle. La parte trasera de la caja muestra un juego de 2 jugadores en progreso que muestra la mayoría de los componentes y brinda una descripción del tema del juego. El juego tiene un buen inserto que sostiene bien los componentes y hace que la configuración sea mucho más rápida.\n",
      "{'Opinion': 'opinion del juego'} ['I have only played Rajas once at 2p and I must say that I found it to be an utterly underwhelming and overly frustrating experience. The problem with Rajas is that it overwhelmingly relies on luck. Not the sort of fun luck youll find in Camel Up or Quacks of Quedlinburg but the sort of luck that makes you wanna flip the table. There is no question that the most important aspect of the game is your', 'aspect of the game is your personal player board. This is your engine that drives your money and karma production and if it isnt impressive, youre simply not gonna win. How does one make an impressive player board? With lots of dice pips, which means you either need a lot of dice or to roll well. If your opponent rolls better that you or happens to pick up all of the bonus tiles that award extra', 'bonus tiles that award extra dice they will leave you for dead, and thats exactly what happened in my game. Sure there are ways to mitigate poor dice rolls with the use of karma but it just isnt enough as karma itself is costly and hard to come by. In my game I never felt like I had a chance of winning, yet I feel like I played as well as I could have with what I had. I absolutely do not feel', 'had. I absolutely do not feel that I had any chance of winning the game with my dice rolls and bonus tiles draws when compared to my opponents. My choices just seemed to have little to no agency; all the agency was in the dice rolls and that just isnt fun for me There are some interesting ideas in here, but thats about it. The interacting famemoney tracks seem interesting at first glance but when', 'at first glance but when you really think about it it turns out that it couldve just been one track, not two. If something were to award you with one fame, it couldve just been two dollars (or rupees) to the same effect. Sure, there are bonuses to be had as you progress along the individual tracks but that only serves to force you to attempt a little bit of everything and dis-incentivizes', 'and dis-incentivizes focusing on one particular strategy. Overall, Rajas is a very generic, bland euro game with far too much dependence on luck. In my game it never felt like I was playing against my opponent, but rather I was playing against the game and the game was being much, much nicer to my opponent than it was to me. I would be hard pressed to play this again.']\n",
      "ID: OP_2, Embedding Length: 512, Metadata: {'Opinion': 'opinion del juego'}, texto: Solo he jugado a Rajas una vez a 2p y debo decir que me pareció una experiencia totalmente decepcionante y demasiado frustrante. El problema con Rajas es que depende abrumadoramente de la suerte. No es el tipo de suerte divertida que encontrarás en Camel Up o Quacks of Quedlinburg, sino el tipo de suerte que te hace querer dar vuelta la mesa. No hay duda de que el aspecto más importante del juego es tu\n",
      "{'Opinion': 'opinion del juego'} ['2-4 players 60-90 minutes medium Tile laying, worker placement Theme and Mechanics In Rajas of the Ganges, players are rich noble type people from India (please forgive my complete ignorance of Indian culture for this review, I am not well informed about this particular theme) and theyre working to improve their estate and earn the most money and prestige, fame, points, something like that to win', 'something like that to win the game. The theme really does come through, especially with the tile layingbuilding up their estates. Its hard for me to comment too much on theme and mechanics relating, because Im not too familiar with this topic, but it does seem like the mechanics are somewhat abstracted. It also seems like the setting could be changed without effecting game play, which makes the', 'game play, which makes the theme feel somewhat disconnected at times. Players each have an estate board with their palace on it, and several empty spaces, as well as a place to store dice, and 3 workers. There are 2 tracks around the outside boarder of the board going in opposite directions (money and fame). The player who can make these to tracks cross eachother the farthest wins the game. On', 'farthest wins the game. On their turn, players send one of their workers to one of several actions spaces (your standard worker placement rules) These actions are broken down into different areas that have similar effects; purchasing tiles for the estate, moving up the river track for various bonuses, gaining dice, gaining income, or using a specialist. Many of these actions have a money andor', 'actions have a money andor dice cost. The dice are used like resources. When they are gained, they are rolled and stored. There are 4 different colored dice that can be used for different actions in different ways. The tile laying action uses dice as a cost; each tile has a value and a color cost, and player must pay that many pips in that color to gain the tile. Moving up the river cost dice,', 'up the river cost dice, the higher the number, the more spaces you can move. There are 6 action spaces (numbered 1-6) that require a specific number in any color to use, the marketincome space allows you to gain income from x number of markets (where x is the value of the die spent) and so on. There are also several action spaces that allow you to trade a die of one color for 2 dice of another', 'color for 2 dice of another color. There are several ways to manipulate the dice, and there are some good things you can do with bad dice rolls. The main focus of the game is the tile laying. Tiles will have markets (3 types) and buildings (4 types) that will score money and fame respectively when the tile is laid. The markets will also provide income when the market action is taken. The', 'market action is taken. The buildings will score fame based on the players progress on that buildings track. The tiles also dipict roads in various configurations. All roads must lead back to the palace in order to be legally placed. The perimiter of the player boards also have bonuses that are gained when a player connects the bonus to the palace with roads. each of the 3 tracks (money, fame,', 'of the 3 tracks (money, fame, and river) offer a myriad of bonuses for certain points along the track (or every space in the case of the river) from improving buildings, fame, money, dice, karma (which is spent to flip dice over), bonus tiles, and extra workers. Art and Components This game looks fantastic. The board is absolutely beautiful, the box looks fantastic. All the art on everything in', 'All the art on everything in the game is stellar; very near to the best art in my game collection in my opinion. I have heard some say that the board looks very busy, and that that is confusing. I can understand that complaint, but I dont agree. It is far less confusing once you learn the game, and it just looks SO good. The quality of the cardboard tiles and board are standard good quality', 'are standard good quality cardboard. There are no cards. The dice are bigger, translucent, good quality plastic dice with the rounded corners. The wooden worker pieces are cool looking, unique meeples, but Ive heard that they are not consistently cut, and my copy is no exception. Several of them are leaning (feet not cut straight) and one is missing half its head, and a friends copy had similar', 'a friends copy had similar problems, but these issues are fairly minor. Theres a little multi-armed statue (ganesh? pardon my ignorance, again) that serves no other purpose but to hold your dice for you, but its really cool, and keeps the confusion low as to what dice are in your supply, and which were spent, and it just looks cool. Replability and Expansions The game is very replayable as is,', 'is very replayable as is, and it comes with some variants and tokens to increase the variability; from changing the bonuses on the river spaces, to limiting dice storage (making the game more strategic), to changing the estate bonuses, and I would suggest using the variants in the rulebook right from the beginning for experienced gamers, because they increase the strategic choices in the game.', 'choices in the game. There is one mini expansion,']\n",
      "ID: OP_3, Embedding Length: 512, Metadata: {'Opinion': 'opinion del juego'}, texto: 2-4 jugadores 60-90 minutos medio Colocación de fichas, colocación de trabajadores Tema y mecánica En Rajas of the Ganges, los jugadores son personas nobles y ricas de la India (perdonen mi completa ignorancia de la cultura india para esta reseña, no estoy muy informado sobre este tema en particular) y están trabajando para mejorar sus propiedades y ganar la mayor cantidad de dinero y prestigio, fama, puntos, algo así para ganar.\n",
      "{'Opinion': 'opinion del juego'} hello and welcome to Maple Mentor reviews I'm Jared and with me is Holly today we're reviewing rajas of the Ganges this game is from Hutch and R&R games and it's for 2 to 4 play in about an hour to hour and a half recommends ages 12 and up and this is a worker placement game set in the you know the the India River Ganges setting and you are all trying to gain wealth and fame as a exerting your\n",
      "ID: OP_4, Embedding Length: 512, Metadata: {'Opinion': 'opinion del juego'}, texto: Hola y bienvenidos a las reseñas de Maple Mentor. Soy Jared y conmigo está Holly. Hoy estamos revisando Rajas of the Ganges. Este juego es de Hutch y R&R Games y es para 2 a 4 jugadores que juegan en aproximadamente una hora a hora y media. Se recomienda a personas de 12 años en adelante. Este es un juego de colocación de trabajadores ambientado en el río Ganges, ya sabes, en la India. Todos están tratando de ganar riqueza y fama mientras ejercen su\n",
      "{'Opinion': 'opinion del juego'} and fame as a exerting your influence over the region now you have three you can get a fourth or did I start with three get fourth you start with three workers you can gain up to two more but there's three ways that you can gain workers there's this is a game with two tracks around 1:00 and then a Fame on the other side and so they run parallel to each other in opposite directions and allows you\n",
      "ID: OP_5, Embedding Length: 512, Metadata: {'Opinion': 'opinion del juego'}, texto: y la fama como ejercer tu influencia sobre la región ahora tienes tres puedes conseguir un cuarto o ¿empecé con tres conseguir el cuarto empiezas con tres trabajadores puedes ganar hasta dos más pero hay tres formas en las que puedes ganar trabajadores hay este es un juego con dos pistas alrededor de 1:00 y luego una fama en el otro lado y entonces corren paralelas entre sí en direcciones opuestas y te permite\n",
      "{'Opinion': 'opinion del juego'} directions and allows you to basically have this kind of race to increase your phone so that your two tokens will meet for pass and that's the race the end and whoever surpass their tokens the farthest wins the game so you know if you want to just kind of add up how many spaces do you have it is a worker placement game but there are a lot of dice in this game which are essentially used for\n",
      "ID: OP_6, Embedding Length: 512, Metadata: {'Opinion': 'opinion del juego'}, texto: direcciones y te permite básicamente tener este tipo de carrera para aumentar tu teléfono para que tus dos fichas se encuentren para pasar y esa es la carrera al final y quien supere sus fichas más lejos gana el juego, así que sabes si solo quieres sumar cuántos espacios tienes es un juego de colocación de trabajadores pero hay muchos dados en este juego que se usan esencialmente para\n",
      "{'Opinion': 'opinion del juego'} are essentially used for resources the four colors of dice can be used for certain to pay for certain places to go like it might say pay an orange to go here and then it'll give you two purple dice back something like that or there is a section of the board called I think the palace where they're numbered 1 to 6 and you would spend one of your dice collected of that matching number to place a\n",
      "ID: OP_7, Embedding Length: 512, Metadata: {'Opinion': 'opinion del juego'}, texto: se utilizan esencialmente para recursos, los cuatro colores de dados se pueden usar para pagar ciertos lugares a los que ir, como podría decirse paga una naranja para ir aquí y luego te dará dos dados morados, algo así o hay una sección del tablero llamada creo que el palacio donde están numerados del 1 al 6 y gastarías uno de tus dados recolectados de ese número correspondiente para colocar un\n",
      "{'Opinion': 'opinion del juego'} matching number to place a worker there there's also the purchase area where you can go and pay money to go there and then you collect a tile from those face up and available in the market there's three stacks for each color so 12 stocks and you have to spend the the right color dice that match what's showing on the tile and the value of that guy on the tile you have to have at least that many\n",
      "ID: OP_8, Embedding Length: 512, Metadata: {'Opinion': 'opinion del juego'}, texto: número coincidente para colocar un trabajador allí también está el área de compra donde puedes ir y pagar dinero para ir allí y luego recolectas una ficha de las que están boca arriba y disponibles en el mercado hay tres pilas para cada color, así que 12 existencias y tienes que gastar los dados del color correcto que coincidan con lo que se muestra en la ficha y el valor de ese tipo en la ficha tienes que tener al menos esa cantidad\n",
      "{'Opinion': 'opinion del juego'} to have at least that many Pips on the dice you spend you can spend more than one die as you might need to specially if it's like a value 9 0 I have one two or three to advance the boat that number spaces and where you land that's where you collect the benefit and one of the ways you can gain a new worker is by moving your boat for far enough on the river to get to the bridge and you get a worker\n",
      "ID: OP_9, Embedding Length: 512, Metadata: {'Opinion': 'opinion del juego'}, texto: para tener al menos esa cantidad de pips en los dados que gastas, puedes gastar más de un dado como sea necesario, especialmente si es como un valor 9 0. Tengo uno, dos o tres para avanzar el bote, esa cantidad de espacios y donde aterrizas es donde recolectas el beneficio y una de las formas en que puedes ganar un nuevo trabajador es moviendo tu bote lo suficiente en el río para llegar al puente y obtienes un trabajador.\n",
      "{'Opinion': 'opinion del juego'} bridge and you get a worker that way you can also get a worker for advancing a number of spaces on the income or up to a certain point on the same but you can only ever get two more so Holly what are some things that you like about the game I like trying to make a pattern on your own player board making Pathways to get bonuses that will either help you through the game or in the end of the game I\n",
      "ID: OP_10, Embedding Length: 512, Metadata: {'Opinion': 'opinion del juego'}, texto: puente y obtienes un trabajador de esa manera también puedes obtener un trabajador por avanzar una cantidad de espacios en el ingreso o hasta cierto punto en el mismo, pero solo puedes obtener dos más, así que Holly, ¿cuáles son algunas de las cosas que te gustan del juego? Me gusta intentar hacer un patrón en tu propio tablero de jugador haciendo caminos para obtener bonificaciones que te ayudarán en el juego o al final del juego.\n",
      "{'Opinion': 'opinion del juego'} or in the end of the game I enjoy the function of being able to trade one color of ice for other colors that you may need it I don't know I really like dice certainly the colors in here are really bright and sparkly like they're translucent colored dice so you know if you like that and you like bright colors is this is great I mean it's always going to be bright colors and rolling like trying to\n",
      "ID: OP_11, Embedding Length: 512, Metadata: {'Opinion': 'opinion del juego'}, texto: o al final del juego disfruto la función de poder intercambiar un color de hielo por otros colores que puedas necesitar. No sé, realmente me gustan los dados, ciertamente los colores aquí son realmente brillantes y relucientes como si fueran dados de colores translúcidos, así que sabes si te gusta eso y te gustan los colores brillantes, esto es genial. Quiero decir, siempre serán colores brillantes y rodarán como si intentaran\n",
      "{'Opinion': 'opinion del juego'} and rolling like trying to put together different you know it's different symbols on a card but you got to get this or you got to get three different ones or whatever for x amount of points on my personal space over here so pretty much you're going to have a lot of options with all the values that you'll end up rolling but if there's a specific space that you're trying to get to or thing that\n",
      "ID: OP_12, Embedding Length: 512, Metadata: {'Opinion': 'opinion del juego'}, texto: y rodar como tratar de juntar diferentes, ya sabes, son diferentes símbolos en una carta, pero tienes que conseguir esto o tienes que conseguir tres diferentes o lo que sea por una cantidad x de puntos en mi espacio personal aquí, así que básicamente vas a tener muchas opciones con todos los valores que terminarás rodando, pero si hay un espacio específico al que estás tratando de llegar o algo que\n",
      "{'Opinion': 'opinion del juego'} to get to or thing that you're trying to do and you've got the wrong numbers and things like to its opposite side so it turns one into a 6 for example or vice versa so that can be very useful to help both find you know the specific space on the palace you want to go to or if you're trying to get a high value to buy a tile or something like that the karma is a good feature and it's a bonus that\n",
      "ID: OP_13, Embedding Length: 512, Metadata: {'Opinion': 'opinion del juego'}, texto: para llegar a algo que estás tratando de hacer y tienes los números equivocados y cosas así a su lado opuesto, por lo que convierte uno en un 6, por ejemplo, o viceversa, por lo que puede ser muy útil para ayudar a encontrar el espacio específico en el palacio al que quieres ir o si estás tratando de obtener un valor alto para comprar una ficha o algo así, el karma es una buena característica y es una ventaja que\n",
      "{'Opinion': 'opinion del juego'} feature and it's a bonus that you can gain with certain actions so you know you get it back yeah it's a lot of fun I like how it looks and you know plays pretty pretty pretty smoothly it just keeps going around and around until well there is the first player token so we do around but the first player token doesn't move unless someone take it as a lot of these games this is a unique kind of game\n",
      "ID: OP_14, Embedding Length: 512, Metadata: {'Opinion': 'opinion del juego'}, texto: característica y es una bonificación que puedes obtener con ciertas acciones, así que sabes que la recuperarás. Sí, es muy divertido. Me gusta cómo se ve y sabes que se juega bastante bien, bastante bien, sigue dando vueltas y vueltas hasta que aparece la ficha del primer jugador, así que damos vueltas, pero la ficha del primer jugador no se mueve a menos que alguien la tome. Como muchos de estos juegos, este es un tipo de juego único.\n",
      "{'Opinion': 'opinion del juego'} this is a unique kind of game and if you like tile placement it has that as well and collection of things it's you know it came out in 2017 and still plays great today so definitely check it out\n",
      "ID: OP_15, Embedding Length: 512, Metadata: {'Opinion': 'opinion del juego'}, texto: Este es un tipo de juego único y, si te gusta la colocación de fichas, también tiene eso y una colección de cosas. Ya sabes, salió en 2017 y todavía se juega muy bien hoy, así que definitivamente pruébalo.\n",
      "{'Objetivo del juego': 'OBJETIVO DEL JUEGO'} ['Tu tarea es desarrollar tu provincia con la ayuda de tus trabajadores y el uso inteligente de tus dados acumulados. Al final, debes ganar la carrera con una combinación de riqueza y fama. El track de fama y dinero van paralelos entre sí, en direcciones opuestas alrededor del tablero. Los marcadores de fama se mueven en el sentido de las agujas del reloj, mientras que los marcadores de dinero en', 'los marcadores de dinero en sentido contrario a las agujas del reloj. A medida que vas construyendo y expandiéndote, intenta aumentar tanto la fama como tu riqueza para que tu marcador de fama y dinero se crucen. El primer jugador que cruce o coincida su marcador de fama y su marcador de dinero aumentará sus probabilidades de ganar.4 marcadores de beneficio1 (doble cara) tablero (2 jugadores o 3', 'tablero (2 jugadores o 3 y 4 jugadores)4 Estatuas de Kali 4 tableros de provincia 24 trabajadores (6 por color) 4 marcadores de fama (1 por color)4 marcadores de dinero (1 por color)48 dados (12 por color) 1 elefante de jugador inicial (móntalo antes de la primera partida)20 cubos (5 por color 4x mejora y 1x']\n",
      "ID: OBJ_0, Embedding Length: 512, Metadata: {'Objetivo del juego': 'OBJETIVO DEL JUEGO'}, texto: Tu tarea es desarrollar tu provincia con la ayuda de tus trabajadores y el uso inteligente de tus dados acumulados. Al final, debes ganar la carrera con una combinación de riqueza y fama. El track de fama y dinero van paralelos entre sí, en direcciones opuestas alrededor del tablero. Los marcadores de fama se mueven en el sentido de las agujas del reloj, mientras que los marcadores de dinero en\n"
     ]
    }
   ],
   "source": [
    "# Llamada a la función\n",
    "fill_db(chunk_reglas_generales, {'Reglas del juego': 0}, 'RG')\n",
    "fill_db(chunk_reglas_especificas, {'Reglas del juego':0}, 'RE')\n",
    "fill_db(chunk_estrategias, {'Estrategias': 0}, 'EST')\n",
    "fill_db(chunk_opinones, {'Opinion': 'opinion del juego'}, 'OP')\n",
    "fill_db(chunk_objetivo_juego, {'Objetivo del juego': 0}, 'OBJ')"
   ]
  },
  {
   "cell_type": "code",
   "execution_count": 76,
   "metadata": {},
   "outputs": [],
   "source": [
    "consulta = \"Estrategia para principiantes\"\n",
    "embedding_consulta = embed([consulta]).numpy().tolist()\n",
    "results = vec_db.query(\n",
    "    query_embeddings=embedding_consulta,  # Aquí pasamos el embedding de la consulta\n",
    "    n_results=5,\n",
    "    \n",
    "    \n",
    ")"
   ]
  },
  {
   "cell_type": "code",
   "execution_count": 77,
   "metadata": {},
   "outputs": [
    {
     "data": {
      "text/plain": [
       "[['Solo he jugado el juego varias veces, pero creo que la mejor estrategia (y probablemente la más obvia) es construir tus mercados en tu provincia lo más rápido posible y luego realizar la acción de mercado para puntuarlos con frecuencia. Observa qué mercados están disponibles en las casillas y planifica en consecuencia. La acción de mercado que te permite puntuar los tres tipos de mercado (uno de cada uno) no cuesta nada.',\n",
       "  'Macro View Mixed Money Fame El juego concluye cuando las pistas de fama y dinero se cruzan. Por lo tanto, los jugadores pueden optar por centrarse principalmente en el dinero, la fama o seguir una estrategia mixta. En una estrategia equilibrada, los jugadores se benefician de ambas pistas, lo que la hace generalmente más ventajosa. Se prefiere un ligero énfasis en el dinero debido a mejores bonificaciones (river y dados) en comparación con la fama (mejora, karma y river).',\n",
       "  'Rajas of the Ganges Modo Automa Autor Mauro Gibertoni Rev. 1.0 - 4 Dic 2017 Esta es una variante individual del juego de mesa Rajas of the Ganges. Juegas contra un oponente falso, el Automa. Si bien juegas siguiendo todas las reglas estándar, el Automa rompe algunas reglas, por lo que para ti será muy fácil realizar la acción por el Automa. Preparación Prepara una configuración estándar para dos jugadores, pero considera que el Automa',\n",
       "  'característica y es una bonificación que puedes obtener con ciertas acciones, así que sabes que la recuperarás. Sí, es muy divertido. Me gusta cómo se ve y sabes que se juega bastante bien, bastante bien, sigue dando vueltas y vueltas hasta que aparece la ficha del primer jugador, así que damos vueltas, pero la ficha del primer jugador no se mueve a menos que alguien la tome. Como muchos de estos juegos, este es un tipo de juego único.',\n",
       "  'Rajas of the Ganges es uno de mis juegos favoritos. Me gusta porque veo una manera de trabajar para dominarlo. Espero que este artículo mejore la jugabilidad de aquellos con objetivos similares, así como de aquellos en Yucata. Este artículo está más orientado a juegos de 2 jugadores (módulo Navaratnas Ganga), pero muchos de los principios también se aplican a un mayor número de jugadores. Revisado el 24 de febrero, incorporé nuevos']]"
      ]
     },
     "execution_count": 77,
     "metadata": {},
     "output_type": "execute_result"
    }
   ],
   "source": [
    "results['documents']"
   ]
  },
  {
   "cell_type": "markdown",
   "metadata": {},
   "source": [
    "# Parte 3: Base tabular."
   ]
  },
  {
   "cell_type": "markdown",
   "metadata": {},
   "source": [
    "La base tabular tendrá como objetivo almacenar:\n",
    "- Datos estadísticos: jugadores totales, por mes, etc.\n",
    "- Dificultad del juego.\n",
    "- Cantidad de fichas.\n",
    "- Precio promedio entre sitios web.\n",
    "- Tiempo de juego\n",
    "- Edad recomendada.\n",
    "- Puntuación."
   ]
  },
  {
   "cell_type": "code",
   "execution_count": 78,
   "metadata": {},
   "outputs": [],
   "source": [
    "def obtener_estadisticas_y_valores(url):\n",
    "    # Configura el WebDriver de Selenium\n",
    "    chrome_options = Options()\n",
    "    chrome_options.add_argument(\"--headless\")  # Ejecutar en segundo plano\n",
    "    service = Service(\"src/chromedriver.exe\")  # Especifica la ruta al chromedriver\n",
    "    driver = webdriver.Chrome(service=service, options=chrome_options)\n",
    "        \n",
    "    # Accede a la página web\n",
    "    driver.get(url)\n",
    "\n",
    "\n",
    "    # Crear una lista para almacenar los resultados\n",
    "    resultados = []\n",
    "\n",
    "    # Espera explícita para asegurarse de que la página cargue completamente\n",
    "    try:\n",
    "        # Espera a que los elementos <li> con la clase \"outline-item\" sean visibles\n",
    "        WebDriverWait(driver, 10).until(\n",
    "            EC.presence_of_all_elements_located((By.CSS_SELECTOR, 'li.outline-item'))\n",
    "        )\n",
    "\n",
    "        # Encuentra todos los elementos <li> con la clase \"outline-item\"\n",
    "        items = driver.find_elements(By.CSS_SELECTOR, 'li.outline-item')\n",
    "\n",
    "        # Itera sobre los elementos y extrae la entidad y el valor\n",
    "        for item in items:\n",
    "            try:\n",
    "                # Encuentra la entidad (titulo) dentro del div con clase \"outline-item-title\"\n",
    "                entidad = item.find_element(By.CSS_SELECTOR, 'div.outline-item-title').text.strip()\n",
    "\n",
    "                if entidad == 'All time Plays':\n",
    "                    entidad ='Total of players'\n",
    "                elif entidad == 'This Month':\n",
    "                    entidad ='Players this Month'\n",
    "                elif entidad == 'Own':\n",
    "                    entidad ='Players who own the game'\n",
    "                elif entidad == 'Prev. Owned':\n",
    "                    entidad ='Players who owned the game before but not now'\n",
    "                elif entidad == 'For Trade':\n",
    "                    entidad ='Players who have the game for trade'\n",
    "                elif entidad == 'Want In Trade':\n",
    "                    entidad ='Players who want the game in trade'\n",
    "                elif entidad == 'Wishlist':\n",
    "                    entidad ='Players who have the game in their wishlist'\n",
    "                elif entidad == 'Has Parts':\n",
    "                    entidad ='Players who have parts of the game'\n",
    "                elif entidad == 'Want Parts':\n",
    "                    entidad ='Players who want parts of the game'\n",
    "\n",
    "                # Encuentra el valor (rating) dentro del div con clase \"outline-item-description\"\n",
    "                valor = item.find_element(By.CSS_SELECTOR, 'div.outline-item-description a').text.strip()\n",
    "\n",
    "                # Almacena el resultado en el formato 'Entidad: Valor'\n",
    "                resultados.append({'Entidad': entidad, 'Valor': valor})\n",
    "            except Exception as e:\n",
    "                # Si ocurre un error al extraer los datos de una entidad, lo omite\n",
    "                pass\n",
    "    except Exception as e:\n",
    "        print(f\"Error al esperar elementos: {e}\")\n",
    "\n",
    "    # Cierra el navegador\n",
    "    driver.quit()\n",
    "\n",
    "    # Devuelve la lista de resultados\n",
    "    return resultados"
   ]
  },
  {
   "cell_type": "code",
   "execution_count": 79,
   "metadata": {},
   "outputs": [],
   "source": [
    "url_stats = 'https://boardgamegeek.com/boardgame/220877/rajas-of-the-ganges/stats'\n",
    "valores = obtener_estadisticas_y_valores(url_stats)"
   ]
  },
  {
   "cell_type": "code",
   "execution_count": 80,
   "metadata": {},
   "outputs": [
    {
     "data": {
      "text/plain": [
       "[{'Entidad': 'Avg. Rating', 'Valor': '7.730'},\n",
       " {'Entidad': 'No. of Ratings', 'Valor': '14,686'},\n",
       " {'Entidad': 'Weight', 'Valor': '2.89 / 5'},\n",
       " {'Entidad': 'Comments', 'Valor': '2,121'},\n",
       " {'Entidad': 'Fans', 'Valor': '690'},\n",
       " {'Entidad': 'Overall Rank', 'Valor': '154'},\n",
       " {'Entidad': 'Strategy Rank', 'Valor': '123'},\n",
       " {'Entidad': 'All Time Plays', 'Valor': '59,305'},\n",
       " {'Entidad': 'Players this Month', 'Valor': '111'},\n",
       " {'Entidad': 'Players who own the game', 'Valor': '19,538'},\n",
       " {'Entidad': 'Players who owned the game before but not now',\n",
       "  'Valor': '2,047'},\n",
       " {'Entidad': 'Players who have the game for trade', 'Valor': '195'},\n",
       " {'Entidad': 'Players who want the game in trade', 'Valor': '677'},\n",
       " {'Entidad': 'Players who have the game in their wishlist', 'Valor': '3,804'},\n",
       " {'Entidad': 'Players who have parts of the game', 'Valor': '11'},\n",
       " {'Entidad': 'Players who want parts of the game', 'Valor': '4'}]"
      ]
     },
     "execution_count": 80,
     "metadata": {},
     "output_type": "execute_result"
    }
   ],
   "source": [
    "valores"
   ]
  },
  {
   "cell_type": "code",
   "execution_count": 89,
   "metadata": {},
   "outputs": [],
   "source": []
  },
  {
   "cell_type": "code",
   "execution_count": 81,
   "metadata": {},
   "outputs": [
    {
     "data": {
      "text/plain": [
       "Entidad\n",
       "Avg. Rating                                      1\n",
       "No. of Ratings                                   1\n",
       "Weight                                           1\n",
       "Comments                                         1\n",
       "Fans                                             1\n",
       "Overall Rank                                     1\n",
       "Strategy Rank                                    1\n",
       "All Time Plays                                   1\n",
       "Players this Month                               1\n",
       "Players who own the game                         1\n",
       "Players who owned the game before but not now    1\n",
       "Players who have the game for trade              1\n",
       "Players who want the game in trade               1\n",
       "Players who have the game in their wishlist      1\n",
       "Players who have parts of the game               1\n",
       "Players who want parts of the game               1\n",
       "Name: count, dtype: int64"
      ]
     },
     "execution_count": 81,
     "metadata": {},
     "output_type": "execute_result"
    }
   ],
   "source": [
    "df_valores = pd.DataFrame(valores)\n",
    "df_valores['Embedding'] = df_valores.apply(lambda row: embed(f\"{row['Entidad']}: {row['Valor']}\").numpy().flatten().tolist(), axis=1)\n",
    "df_valores['Entidad'].value_counts()"
   ]
  },
  {
   "cell_type": "markdown",
   "metadata": {},
   "source": [
    "# Parte 4: modelos clasificadores."
   ]
  },
  {
   "cell_type": "markdown",
   "metadata": {},
   "source": [
    "## Modelo Binomial."
   ]
  },
  {
   "cell_type": "code",
   "execution_count": 82,
   "metadata": {},
   "outputs": [
    {
     "data": {
      "text/html": [
       "<div>\n",
       "<style scoped>\n",
       "    .dataframe tbody tr th:only-of-type {\n",
       "        vertical-align: middle;\n",
       "    }\n",
       "\n",
       "    .dataframe tbody tr th {\n",
       "        vertical-align: top;\n",
       "    }\n",
       "\n",
       "    .dataframe thead th {\n",
       "        text-align: right;\n",
       "    }\n",
       "</style>\n",
       "<table border=\"1\" class=\"dataframe\">\n",
       "  <thead>\n",
       "    <tr style=\"text-align: right;\">\n",
       "      <th></th>\n",
       "      <th>consulta</th>\n",
       "      <th>clasificación</th>\n",
       "    </tr>\n",
       "  </thead>\n",
       "  <tbody>\n",
       "    <tr>\n",
       "      <th>0</th>\n",
       "      <td>¿Cuáles son las reglas generales del juego?</td>\n",
       "      <td>REGLAS GENERALES</td>\n",
       "    </tr>\n",
       "    <tr>\n",
       "      <th>1</th>\n",
       "      <td>¿Qué debo hacer si hay un empate?</td>\n",
       "      <td>REGLAS GENERALES</td>\n",
       "    </tr>\n",
       "    <tr>\n",
       "      <th>2</th>\n",
       "      <td>¿Cuáles son las reglas específicas de Navaratna?</td>\n",
       "      <td>REGLAS NAVARATNA</td>\n",
       "    </tr>\n",
       "    <tr>\n",
       "      <th>3</th>\n",
       "      <td>¿Cómo funciona el modo automático del juego?</td>\n",
       "      <td>REGLAS AUTOMATA</td>\n",
       "    </tr>\n",
       "    <tr>\n",
       "      <th>4</th>\n",
       "      <td>¿Cuál es el objetivo principal del juego?</td>\n",
       "      <td>OBJETIVO DEL JUEGO</td>\n",
       "    </tr>\n",
       "    <tr>\n",
       "      <th>...</th>\n",
       "      <td>...</td>\n",
       "      <td>...</td>\n",
       "    </tr>\n",
       "    <tr>\n",
       "      <th>279</th>\n",
       "      <td>¿Qué otros proyectos artísticos han sido influ...</td>\n",
       "      <td>INFORMACION ARTISTA</td>\n",
       "    </tr>\n",
       "    <tr>\n",
       "      <th>280</th>\n",
       "      <td>¿Qué tipo de premios ha ganado *Rajas of the G...</td>\n",
       "      <td>PREMIOS GANADOS DEL JUEGO</td>\n",
       "    </tr>\n",
       "    <tr>\n",
       "      <th>281</th>\n",
       "      <td>¿Quiénes fueron los socios principales de los ...</td>\n",
       "      <td>RELACIONES ENTRE CREADORES</td>\n",
       "    </tr>\n",
       "    <tr>\n",
       "      <th>282</th>\n",
       "      <td>¿Está disponible *Rajas of the Ganges* en noru...</td>\n",
       "      <td>INFORMACION IDIOMAS DEL JUEGO</td>\n",
       "    </tr>\n",
       "    <tr>\n",
       "      <th>283</th>\n",
       "      <td>¿Qué relación existe entre la música y el arte...</td>\n",
       "      <td>INFORMACION ARTISTA</td>\n",
       "    </tr>\n",
       "  </tbody>\n",
       "</table>\n",
       "<p>284 rows × 2 columns</p>\n",
       "</div>"
      ],
      "text/plain": [
       "                                              consulta  \\\n",
       "0          ¿Cuáles son las reglas generales del juego?   \n",
       "1                    ¿Qué debo hacer si hay un empate?   \n",
       "2     ¿Cuáles son las reglas específicas de Navaratna?   \n",
       "3         ¿Cómo funciona el modo automático del juego?   \n",
       "4            ¿Cuál es el objetivo principal del juego?   \n",
       "..                                                 ...   \n",
       "279  ¿Qué otros proyectos artísticos han sido influ...   \n",
       "280  ¿Qué tipo de premios ha ganado *Rajas of the G...   \n",
       "281  ¿Quiénes fueron los socios principales de los ...   \n",
       "282  ¿Está disponible *Rajas of the Ganges* en noru...   \n",
       "283  ¿Qué relación existe entre la música y el arte...   \n",
       "\n",
       "                     clasificación  \n",
       "0                 REGLAS GENERALES  \n",
       "1                 REGLAS GENERALES  \n",
       "2                 REGLAS NAVARATNA  \n",
       "3                  REGLAS AUTOMATA  \n",
       "4               OBJETIVO DEL JUEGO  \n",
       "..                             ...  \n",
       "279            INFORMACION ARTISTA  \n",
       "280      PREMIOS GANADOS DEL JUEGO  \n",
       "281     RELACIONES ENTRE CREADORES  \n",
       "282  INFORMACION IDIOMAS DEL JUEGO  \n",
       "283            INFORMACION ARTISTA  \n",
       "\n",
       "[284 rows x 2 columns]"
      ]
     },
     "execution_count": 82,
     "metadata": {},
     "output_type": "execute_result"
    }
   ],
   "source": [
    "dataset_clasificador = pd.read_csv('data\\dataset_clasificador.csv')\n",
    "dataset_clasificador"
   ]
  },
  {
   "cell_type": "code",
   "execution_count": 83,
   "metadata": {},
   "outputs": [],
   "source": [
    "X = dataset_clasificador['consulta']\n",
    "y = dataset_clasificador['clasificación']\n",
    "\n",
    "X_train, X_test, y_train, y_test = train_test_split(X, y, test_size=0.2, random_state=42)"
   ]
  },
  {
   "cell_type": "code",
   "execution_count": 84,
   "metadata": {},
   "outputs": [],
   "source": [
    "# Asegúrate de aplanar cada embedding y convertirlo en una lista unidimensional\n",
    "X_train_embed = X_train.apply(lambda x: embed(x).numpy().flatten())\n",
    "\n",
    "X_test_embed =  X_test.apply(lambda x: embed(x).numpy().flatten())\n",
    "X_train_embed = np.array(X_train_embed.tolist())\n",
    "X_test_embed =  np.array(X_test_embed.tolist())\n",
    "\n"
   ]
  },
  {
   "cell_type": "code",
   "execution_count": 85,
   "metadata": {},
   "outputs": [
    {
     "data": {
      "text/html": [
       "<style>#sk-container-id-1 {\n",
       "  /* Definition of color scheme common for light and dark mode */\n",
       "  --sklearn-color-text: black;\n",
       "  --sklearn-color-line: gray;\n",
       "  /* Definition of color scheme for unfitted estimators */\n",
       "  --sklearn-color-unfitted-level-0: #fff5e6;\n",
       "  --sklearn-color-unfitted-level-1: #f6e4d2;\n",
       "  --sklearn-color-unfitted-level-2: #ffe0b3;\n",
       "  --sklearn-color-unfitted-level-3: chocolate;\n",
       "  /* Definition of color scheme for fitted estimators */\n",
       "  --sklearn-color-fitted-level-0: #f0f8ff;\n",
       "  --sklearn-color-fitted-level-1: #d4ebff;\n",
       "  --sklearn-color-fitted-level-2: #b3dbfd;\n",
       "  --sklearn-color-fitted-level-3: cornflowerblue;\n",
       "\n",
       "  /* Specific color for light theme */\n",
       "  --sklearn-color-text-on-default-background: var(--sg-text-color, var(--theme-code-foreground, var(--jp-content-font-color1, black)));\n",
       "  --sklearn-color-background: var(--sg-background-color, var(--theme-background, var(--jp-layout-color0, white)));\n",
       "  --sklearn-color-border-box: var(--sg-text-color, var(--theme-code-foreground, var(--jp-content-font-color1, black)));\n",
       "  --sklearn-color-icon: #696969;\n",
       "\n",
       "  @media (prefers-color-scheme: dark) {\n",
       "    /* Redefinition of color scheme for dark theme */\n",
       "    --sklearn-color-text-on-default-background: var(--sg-text-color, var(--theme-code-foreground, var(--jp-content-font-color1, white)));\n",
       "    --sklearn-color-background: var(--sg-background-color, var(--theme-background, var(--jp-layout-color0, #111)));\n",
       "    --sklearn-color-border-box: var(--sg-text-color, var(--theme-code-foreground, var(--jp-content-font-color1, white)));\n",
       "    --sklearn-color-icon: #878787;\n",
       "  }\n",
       "}\n",
       "\n",
       "#sk-container-id-1 {\n",
       "  color: var(--sklearn-color-text);\n",
       "}\n",
       "\n",
       "#sk-container-id-1 pre {\n",
       "  padding: 0;\n",
       "}\n",
       "\n",
       "#sk-container-id-1 input.sk-hidden--visually {\n",
       "  border: 0;\n",
       "  clip: rect(1px 1px 1px 1px);\n",
       "  clip: rect(1px, 1px, 1px, 1px);\n",
       "  height: 1px;\n",
       "  margin: -1px;\n",
       "  overflow: hidden;\n",
       "  padding: 0;\n",
       "  position: absolute;\n",
       "  width: 1px;\n",
       "}\n",
       "\n",
       "#sk-container-id-1 div.sk-dashed-wrapped {\n",
       "  border: 1px dashed var(--sklearn-color-line);\n",
       "  margin: 0 0.4em 0.5em 0.4em;\n",
       "  box-sizing: border-box;\n",
       "  padding-bottom: 0.4em;\n",
       "  background-color: var(--sklearn-color-background);\n",
       "}\n",
       "\n",
       "#sk-container-id-1 div.sk-container {\n",
       "  /* jupyter's `normalize.less` sets `[hidden] { display: none; }`\n",
       "     but bootstrap.min.css set `[hidden] { display: none !important; }`\n",
       "     so we also need the `!important` here to be able to override the\n",
       "     default hidden behavior on the sphinx rendered scikit-learn.org.\n",
       "     See: https://github.com/scikit-learn/scikit-learn/issues/21755 */\n",
       "  display: inline-block !important;\n",
       "  position: relative;\n",
       "}\n",
       "\n",
       "#sk-container-id-1 div.sk-text-repr-fallback {\n",
       "  display: none;\n",
       "}\n",
       "\n",
       "div.sk-parallel-item,\n",
       "div.sk-serial,\n",
       "div.sk-item {\n",
       "  /* draw centered vertical line to link estimators */\n",
       "  background-image: linear-gradient(var(--sklearn-color-text-on-default-background), var(--sklearn-color-text-on-default-background));\n",
       "  background-size: 2px 100%;\n",
       "  background-repeat: no-repeat;\n",
       "  background-position: center center;\n",
       "}\n",
       "\n",
       "/* Parallel-specific style estimator block */\n",
       "\n",
       "#sk-container-id-1 div.sk-parallel-item::after {\n",
       "  content: \"\";\n",
       "  width: 100%;\n",
       "  border-bottom: 2px solid var(--sklearn-color-text-on-default-background);\n",
       "  flex-grow: 1;\n",
       "}\n",
       "\n",
       "#sk-container-id-1 div.sk-parallel {\n",
       "  display: flex;\n",
       "  align-items: stretch;\n",
       "  justify-content: center;\n",
       "  background-color: var(--sklearn-color-background);\n",
       "  position: relative;\n",
       "}\n",
       "\n",
       "#sk-container-id-1 div.sk-parallel-item {\n",
       "  display: flex;\n",
       "  flex-direction: column;\n",
       "}\n",
       "\n",
       "#sk-container-id-1 div.sk-parallel-item:first-child::after {\n",
       "  align-self: flex-end;\n",
       "  width: 50%;\n",
       "}\n",
       "\n",
       "#sk-container-id-1 div.sk-parallel-item:last-child::after {\n",
       "  align-self: flex-start;\n",
       "  width: 50%;\n",
       "}\n",
       "\n",
       "#sk-container-id-1 div.sk-parallel-item:only-child::after {\n",
       "  width: 0;\n",
       "}\n",
       "\n",
       "/* Serial-specific style estimator block */\n",
       "\n",
       "#sk-container-id-1 div.sk-serial {\n",
       "  display: flex;\n",
       "  flex-direction: column;\n",
       "  align-items: center;\n",
       "  background-color: var(--sklearn-color-background);\n",
       "  padding-right: 1em;\n",
       "  padding-left: 1em;\n",
       "}\n",
       "\n",
       "\n",
       "/* Toggleable style: style used for estimator/Pipeline/ColumnTransformer box that is\n",
       "clickable and can be expanded/collapsed.\n",
       "- Pipeline and ColumnTransformer use this feature and define the default style\n",
       "- Estimators will overwrite some part of the style using the `sk-estimator` class\n",
       "*/\n",
       "\n",
       "/* Pipeline and ColumnTransformer style (default) */\n",
       "\n",
       "#sk-container-id-1 div.sk-toggleable {\n",
       "  /* Default theme specific background. It is overwritten whether we have a\n",
       "  specific estimator or a Pipeline/ColumnTransformer */\n",
       "  background-color: var(--sklearn-color-background);\n",
       "}\n",
       "\n",
       "/* Toggleable label */\n",
       "#sk-container-id-1 label.sk-toggleable__label {\n",
       "  cursor: pointer;\n",
       "  display: block;\n",
       "  width: 100%;\n",
       "  margin-bottom: 0;\n",
       "  padding: 0.5em;\n",
       "  box-sizing: border-box;\n",
       "  text-align: center;\n",
       "}\n",
       "\n",
       "#sk-container-id-1 label.sk-toggleable__label-arrow:before {\n",
       "  /* Arrow on the left of the label */\n",
       "  content: \"▸\";\n",
       "  float: left;\n",
       "  margin-right: 0.25em;\n",
       "  color: var(--sklearn-color-icon);\n",
       "}\n",
       "\n",
       "#sk-container-id-1 label.sk-toggleable__label-arrow:hover:before {\n",
       "  color: var(--sklearn-color-text);\n",
       "}\n",
       "\n",
       "/* Toggleable content - dropdown */\n",
       "\n",
       "#sk-container-id-1 div.sk-toggleable__content {\n",
       "  max-height: 0;\n",
       "  max-width: 0;\n",
       "  overflow: hidden;\n",
       "  text-align: left;\n",
       "  /* unfitted */\n",
       "  background-color: var(--sklearn-color-unfitted-level-0);\n",
       "}\n",
       "\n",
       "#sk-container-id-1 div.sk-toggleable__content.fitted {\n",
       "  /* fitted */\n",
       "  background-color: var(--sklearn-color-fitted-level-0);\n",
       "}\n",
       "\n",
       "#sk-container-id-1 div.sk-toggleable__content pre {\n",
       "  margin: 0.2em;\n",
       "  border-radius: 0.25em;\n",
       "  color: var(--sklearn-color-text);\n",
       "  /* unfitted */\n",
       "  background-color: var(--sklearn-color-unfitted-level-0);\n",
       "}\n",
       "\n",
       "#sk-container-id-1 div.sk-toggleable__content.fitted pre {\n",
       "  /* unfitted */\n",
       "  background-color: var(--sklearn-color-fitted-level-0);\n",
       "}\n",
       "\n",
       "#sk-container-id-1 input.sk-toggleable__control:checked~div.sk-toggleable__content {\n",
       "  /* Expand drop-down */\n",
       "  max-height: 200px;\n",
       "  max-width: 100%;\n",
       "  overflow: auto;\n",
       "}\n",
       "\n",
       "#sk-container-id-1 input.sk-toggleable__control:checked~label.sk-toggleable__label-arrow:before {\n",
       "  content: \"▾\";\n",
       "}\n",
       "\n",
       "/* Pipeline/ColumnTransformer-specific style */\n",
       "\n",
       "#sk-container-id-1 div.sk-label input.sk-toggleable__control:checked~label.sk-toggleable__label {\n",
       "  color: var(--sklearn-color-text);\n",
       "  background-color: var(--sklearn-color-unfitted-level-2);\n",
       "}\n",
       "\n",
       "#sk-container-id-1 div.sk-label.fitted input.sk-toggleable__control:checked~label.sk-toggleable__label {\n",
       "  background-color: var(--sklearn-color-fitted-level-2);\n",
       "}\n",
       "\n",
       "/* Estimator-specific style */\n",
       "\n",
       "/* Colorize estimator box */\n",
       "#sk-container-id-1 div.sk-estimator input.sk-toggleable__control:checked~label.sk-toggleable__label {\n",
       "  /* unfitted */\n",
       "  background-color: var(--sklearn-color-unfitted-level-2);\n",
       "}\n",
       "\n",
       "#sk-container-id-1 div.sk-estimator.fitted input.sk-toggleable__control:checked~label.sk-toggleable__label {\n",
       "  /* fitted */\n",
       "  background-color: var(--sklearn-color-fitted-level-2);\n",
       "}\n",
       "\n",
       "#sk-container-id-1 div.sk-label label.sk-toggleable__label,\n",
       "#sk-container-id-1 div.sk-label label {\n",
       "  /* The background is the default theme color */\n",
       "  color: var(--sklearn-color-text-on-default-background);\n",
       "}\n",
       "\n",
       "/* On hover, darken the color of the background */\n",
       "#sk-container-id-1 div.sk-label:hover label.sk-toggleable__label {\n",
       "  color: var(--sklearn-color-text);\n",
       "  background-color: var(--sklearn-color-unfitted-level-2);\n",
       "}\n",
       "\n",
       "/* Label box, darken color on hover, fitted */\n",
       "#sk-container-id-1 div.sk-label.fitted:hover label.sk-toggleable__label.fitted {\n",
       "  color: var(--sklearn-color-text);\n",
       "  background-color: var(--sklearn-color-fitted-level-2);\n",
       "}\n",
       "\n",
       "/* Estimator label */\n",
       "\n",
       "#sk-container-id-1 div.sk-label label {\n",
       "  font-family: monospace;\n",
       "  font-weight: bold;\n",
       "  display: inline-block;\n",
       "  line-height: 1.2em;\n",
       "}\n",
       "\n",
       "#sk-container-id-1 div.sk-label-container {\n",
       "  text-align: center;\n",
       "}\n",
       "\n",
       "/* Estimator-specific */\n",
       "#sk-container-id-1 div.sk-estimator {\n",
       "  font-family: monospace;\n",
       "  border: 1px dotted var(--sklearn-color-border-box);\n",
       "  border-radius: 0.25em;\n",
       "  box-sizing: border-box;\n",
       "  margin-bottom: 0.5em;\n",
       "  /* unfitted */\n",
       "  background-color: var(--sklearn-color-unfitted-level-0);\n",
       "}\n",
       "\n",
       "#sk-container-id-1 div.sk-estimator.fitted {\n",
       "  /* fitted */\n",
       "  background-color: var(--sklearn-color-fitted-level-0);\n",
       "}\n",
       "\n",
       "/* on hover */\n",
       "#sk-container-id-1 div.sk-estimator:hover {\n",
       "  /* unfitted */\n",
       "  background-color: var(--sklearn-color-unfitted-level-2);\n",
       "}\n",
       "\n",
       "#sk-container-id-1 div.sk-estimator.fitted:hover {\n",
       "  /* fitted */\n",
       "  background-color: var(--sklearn-color-fitted-level-2);\n",
       "}\n",
       "\n",
       "/* Specification for estimator info (e.g. \"i\" and \"?\") */\n",
       "\n",
       "/* Common style for \"i\" and \"?\" */\n",
       "\n",
       ".sk-estimator-doc-link,\n",
       "a:link.sk-estimator-doc-link,\n",
       "a:visited.sk-estimator-doc-link {\n",
       "  float: right;\n",
       "  font-size: smaller;\n",
       "  line-height: 1em;\n",
       "  font-family: monospace;\n",
       "  background-color: var(--sklearn-color-background);\n",
       "  border-radius: 1em;\n",
       "  height: 1em;\n",
       "  width: 1em;\n",
       "  text-decoration: none !important;\n",
       "  margin-left: 1ex;\n",
       "  /* unfitted */\n",
       "  border: var(--sklearn-color-unfitted-level-1) 1pt solid;\n",
       "  color: var(--sklearn-color-unfitted-level-1);\n",
       "}\n",
       "\n",
       ".sk-estimator-doc-link.fitted,\n",
       "a:link.sk-estimator-doc-link.fitted,\n",
       "a:visited.sk-estimator-doc-link.fitted {\n",
       "  /* fitted */\n",
       "  border: var(--sklearn-color-fitted-level-1) 1pt solid;\n",
       "  color: var(--sklearn-color-fitted-level-1);\n",
       "}\n",
       "\n",
       "/* On hover */\n",
       "div.sk-estimator:hover .sk-estimator-doc-link:hover,\n",
       ".sk-estimator-doc-link:hover,\n",
       "div.sk-label-container:hover .sk-estimator-doc-link:hover,\n",
       ".sk-estimator-doc-link:hover {\n",
       "  /* unfitted */\n",
       "  background-color: var(--sklearn-color-unfitted-level-3);\n",
       "  color: var(--sklearn-color-background);\n",
       "  text-decoration: none;\n",
       "}\n",
       "\n",
       "div.sk-estimator.fitted:hover .sk-estimator-doc-link.fitted:hover,\n",
       ".sk-estimator-doc-link.fitted:hover,\n",
       "div.sk-label-container:hover .sk-estimator-doc-link.fitted:hover,\n",
       ".sk-estimator-doc-link.fitted:hover {\n",
       "  /* fitted */\n",
       "  background-color: var(--sklearn-color-fitted-level-3);\n",
       "  color: var(--sklearn-color-background);\n",
       "  text-decoration: none;\n",
       "}\n",
       "\n",
       "/* Span, style for the box shown on hovering the info icon */\n",
       ".sk-estimator-doc-link span {\n",
       "  display: none;\n",
       "  z-index: 9999;\n",
       "  position: relative;\n",
       "  font-weight: normal;\n",
       "  right: .2ex;\n",
       "  padding: .5ex;\n",
       "  margin: .5ex;\n",
       "  width: min-content;\n",
       "  min-width: 20ex;\n",
       "  max-width: 50ex;\n",
       "  color: var(--sklearn-color-text);\n",
       "  box-shadow: 2pt 2pt 4pt #999;\n",
       "  /* unfitted */\n",
       "  background: var(--sklearn-color-unfitted-level-0);\n",
       "  border: .5pt solid var(--sklearn-color-unfitted-level-3);\n",
       "}\n",
       "\n",
       ".sk-estimator-doc-link.fitted span {\n",
       "  /* fitted */\n",
       "  background: var(--sklearn-color-fitted-level-0);\n",
       "  border: var(--sklearn-color-fitted-level-3);\n",
       "}\n",
       "\n",
       ".sk-estimator-doc-link:hover span {\n",
       "  display: block;\n",
       "}\n",
       "\n",
       "/* \"?\"-specific style due to the `<a>` HTML tag */\n",
       "\n",
       "#sk-container-id-1 a.estimator_doc_link {\n",
       "  float: right;\n",
       "  font-size: 1rem;\n",
       "  line-height: 1em;\n",
       "  font-family: monospace;\n",
       "  background-color: var(--sklearn-color-background);\n",
       "  border-radius: 1rem;\n",
       "  height: 1rem;\n",
       "  width: 1rem;\n",
       "  text-decoration: none;\n",
       "  /* unfitted */\n",
       "  color: var(--sklearn-color-unfitted-level-1);\n",
       "  border: var(--sklearn-color-unfitted-level-1) 1pt solid;\n",
       "}\n",
       "\n",
       "#sk-container-id-1 a.estimator_doc_link.fitted {\n",
       "  /* fitted */\n",
       "  border: var(--sklearn-color-fitted-level-1) 1pt solid;\n",
       "  color: var(--sklearn-color-fitted-level-1);\n",
       "}\n",
       "\n",
       "/* On hover */\n",
       "#sk-container-id-1 a.estimator_doc_link:hover {\n",
       "  /* unfitted */\n",
       "  background-color: var(--sklearn-color-unfitted-level-3);\n",
       "  color: var(--sklearn-color-background);\n",
       "  text-decoration: none;\n",
       "}\n",
       "\n",
       "#sk-container-id-1 a.estimator_doc_link.fitted:hover {\n",
       "  /* fitted */\n",
       "  background-color: var(--sklearn-color-fitted-level-3);\n",
       "}\n",
       "</style><div id=\"sk-container-id-1\" class=\"sk-top-container\"><div class=\"sk-text-repr-fallback\"><pre>LogisticRegression(class_weight=&#x27;balanced&#x27;, max_iter=1000)</pre><b>In a Jupyter environment, please rerun this cell to show the HTML representation or trust the notebook. <br />On GitHub, the HTML representation is unable to render, please try loading this page with nbviewer.org.</b></div><div class=\"sk-container\" hidden><div class=\"sk-item\"><div class=\"sk-estimator fitted sk-toggleable\"><input class=\"sk-toggleable__control sk-hidden--visually\" id=\"sk-estimator-id-1\" type=\"checkbox\" checked><label for=\"sk-estimator-id-1\" class=\"sk-toggleable__label fitted sk-toggleable__label-arrow fitted\">&nbsp;&nbsp;LogisticRegression<a class=\"sk-estimator-doc-link fitted\" rel=\"noreferrer\" target=\"_blank\" href=\"https://scikit-learn.org/1.5/modules/generated/sklearn.linear_model.LogisticRegression.html\">?<span>Documentation for LogisticRegression</span></a><span class=\"sk-estimator-doc-link fitted\">i<span>Fitted</span></span></label><div class=\"sk-toggleable__content fitted\"><pre>LogisticRegression(class_weight=&#x27;balanced&#x27;, max_iter=1000)</pre></div> </div></div></div></div>"
      ],
      "text/plain": [
       "LogisticRegression(class_weight='balanced', max_iter=1000)"
      ]
     },
     "execution_count": 85,
     "metadata": {},
     "output_type": "execute_result"
    }
   ],
   "source": [
    "# Entrenar un clasificador como Logistic Regression\n",
    "clasificador_consulta = LogisticRegression(max_iter=1000, class_weight='balanced')  \n",
    "clasificador_consulta.fit(X_train_embed, y_train)"
   ]
  },
  {
   "cell_type": "code",
   "execution_count": 86,
   "metadata": {},
   "outputs": [],
   "source": [
    "y_pred = clasificador_consulta.predict(X_test_embed)"
   ]
  },
  {
   "cell_type": "code",
   "execution_count": 87,
   "metadata": {},
   "outputs": [
    {
     "name": "stdout",
     "output_type": "stream",
     "text": [
      "                                        precision    recall  f1-score   support\n",
      "\n",
      "         ESTADÍSTICA GENERAL DEL JUEGO       0.91      1.00      0.95        10\n",
      "                ESTRATEGIA COMPETITIVA       1.00      1.00      1.00         3\n",
      "       ESTRATEGIA PERSONAJE PORTUGUESE       1.00      1.00      1.00         3\n",
      "              ESTRATEGIA PRINCIPIANTES       0.86      0.86      0.86         7\n",
      "                   INFORMACION ARTISTA       1.00      0.50      0.67         4\n",
      "       INFORMACION CREADORES DEL JUEGO       0.00      0.00      0.00         3\n",
      "               INFORMACION DISEÑADORES       0.00      0.00      0.00         0\n",
      "         INFORMACION IDIOMAS DEL JUEGO       1.00      0.50      0.67         2\n",
      "                    OBJETIVO DEL JUEGO       0.00      0.00      0.00         1\n",
      "                             OPINIONES       1.00      0.71      0.83         7\n",
      "OTROS IDIOMAS EN LOS QUE ESTA EL JUEGO       0.50      1.00      0.67         1\n",
      "             PREMIOS GANADOS DEL JUEGO       1.00      1.00      1.00         3\n",
      "                PUBLICADORES DEL JUEGO       0.50      1.00      0.67         1\n",
      "                       REGLAS AUTOMATA       0.67      1.00      0.80         2\n",
      "                      REGLAS GENERALES       1.00      0.80      0.89         5\n",
      "                      REGLAS NAVARATNA       0.75      1.00      0.86         3\n",
      "            RELACIONES ENTRE CREADORES       0.33      0.50      0.40         2\n",
      "\n",
      "                              accuracy                           0.79        57\n",
      "                             macro avg       0.68      0.70      0.66        57\n",
      "                          weighted avg       0.83      0.79      0.79        57\n",
      "\n"
     ]
    },
    {
     "name": "stderr",
     "output_type": "stream",
     "text": [
      "c:\\Users\\julil\\OneDrive\\Desktop\\TecIA\\2_anio\\NLP\\myenv\\lib\\site-packages\\sklearn\\metrics\\_classification.py:1531: UndefinedMetricWarning:\n",
      "\n",
      "Recall is ill-defined and being set to 0.0 in labels with no true samples. Use `zero_division` parameter to control this behavior.\n",
      "\n",
      "c:\\Users\\julil\\OneDrive\\Desktop\\TecIA\\2_anio\\NLP\\myenv\\lib\\site-packages\\sklearn\\metrics\\_classification.py:1531: UndefinedMetricWarning:\n",
      "\n",
      "Recall is ill-defined and being set to 0.0 in labels with no true samples. Use `zero_division` parameter to control this behavior.\n",
      "\n",
      "c:\\Users\\julil\\OneDrive\\Desktop\\TecIA\\2_anio\\NLP\\myenv\\lib\\site-packages\\sklearn\\metrics\\_classification.py:1531: UndefinedMetricWarning:\n",
      "\n",
      "Recall is ill-defined and being set to 0.0 in labels with no true samples. Use `zero_division` parameter to control this behavior.\n",
      "\n"
     ]
    }
   ],
   "source": [
    "print(classification_report(y_test, y_pred))"
   ]
  },
  {
   "cell_type": "markdown",
   "metadata": {},
   "source": [
    "Se puede observar que se tiene un f1-score relativamente aceptable para las clases, a excepción de objetivo el juego, clase que parece no estar diferenciando bien."
   ]
  },
  {
   "cell_type": "code",
   "execution_count": 88,
   "metadata": {},
   "outputs": [],
   "source": [
    "texto_prueba = ['Quien fue el creador del juego?']\n",
    "texto_prueba = embed(texto_prueba)\n",
    "#texto_prueba = np.array(texto_prueba.to_list())"
   ]
  },
  {
   "cell_type": "code",
   "execution_count": 89,
   "metadata": {},
   "outputs": [
    {
     "data": {
      "text/plain": [
       "array(['INFORMACION CREADORES DEL JUEGO'], dtype=object)"
      ]
     },
     "execution_count": 89,
     "metadata": {},
     "output_type": "execute_result"
    }
   ],
   "source": [
    "clasificador_consulta.predict(texto_prueba)"
   ]
  },
  {
   "cell_type": "markdown",
   "metadata": {},
   "source": [
    "## Modelo LLM."
   ]
  },
  {
   "cell_type": "code",
   "execution_count": null,
   "metadata": {},
   "outputs": [],
   "source": [
    "def get_tabular_query(input_text: str) -> str:\n",
    "    \"\"\"\n",
    "    Genera una consulta SPARQL utilizando Qwen a partir de la entrada del usuario.\n",
    "    \"\"\"\n",
    "    # Tu clave API de Hugging Face\n",
    "    api_key = get_token()  \n",
    "    client_HF = InferenceClient(api_key= get_token())\n",
    "    # URL de la API de Hugging Face para la clasificación de texto\n",
    "    api_url = \"https://api-inference.huggingface.co/models/Qwen/Qwen2.5-72B-Instruct\"\n",
    "\n",
    "    chat_prompt = [{\n",
    "        \"role\": \"system\",\n",
    "        \"content\": f\"\"\"\n",
    "        Eres un modelo que realiza consultas a una base de datos tabular en dataframe de pandas sobre el juego de mesa \"Rajas of the Ganjes\" a raíz de una frase del usuario.\n",
    "        La base tiene la siguiente estructura: las columnas son: {df_valores.columns}, donde los valores son:\n",
    "        Entidad: {df_valores['Entidad']}.\n",
    "        Avg.rating contiene el puntaje medio del juego.\n",
    "        Debes escribir SOLAMENTE UNA consulta de búsqueda en dataframe que se adecue a la frase del usuario.\n",
    "        Es importante que solo respondas con una sola consulta.\n",
    "        Por ejemplo, si recibes la frase: '¿Cuántos jugadores han jugado el juego?' deberías solamente\n",
    "        devolver: 'df_valores[df_valores['Entidad'] == 'All Time Plays']['Valor'].values[0]'\"\"\"\n",
    "    }, {\n",
    "        \"role\": \"user\",\n",
    "        \"content\": input_text\n",
    "    }]\n",
    "\n",
    "    # Realizar la solicitud de completado de chat usando el cliente\n",
    "    completion = client_HF.chat.completions.create(\n",
    "        model=\"Qwen/Qwen2.5-72B-Instruct\", \n",
    "        messages=chat_prompt, \n",
    "        max_tokens=500,\n",
    "        temperature=0.1\n",
    "    )\n",
    "\n",
    "    # Extraer y devolver la consulta SPARQL generada\n",
    "    return completion.choices[0].message['content']"
   ]
  },
  {
   "cell_type": "code",
   "execution_count": 161,
   "metadata": {},
   "outputs": [],
   "source": [
    "\n",
    "def qwen_chat_template(messages, add_generation_prompt=True):\n",
    "    # Definir la plantilla Jinja\n",
    "    template_str  = \"{% for message in messages %}\"\n",
    "    template_str += \"{% if message['role'] == 'user' %}\"\n",
    "    template_str += \"<|user|>{{ message['content'] }}</s>\\n\"\n",
    "    template_str += \"{% elif message['role'] == 'assistant' %}\"\n",
    "    template_str += \"<|assistant|>{{ message['content'] }}</s>\\n\"\n",
    "    template_str += \"{% elif message['role'] == 'system' %}\"\n",
    "    template_str += \"<|system|>{{ message['content'] }}</s>\\n\"\n",
    "    template_str += \"{% else %}\"\n",
    "    template_str += \"<|unknown|>{{ message['content'] }}</s>\\n\"\n",
    "    template_str += \"{% endif %}\"\n",
    "    template_str += \"{% endfor %}\"\n",
    "    template_str += \"{% if add_generation_prompt %}\"\n",
    "    template_str += \"<|assistant|>\\n\"\n",
    "    template_str += \"{% endif %}\"\n",
    "\n",
    "    # Crear un objeto de plantilla con la cadena de plantilla\n",
    "    template = Template(template_str)\n",
    "\n",
    "    # Renderizar la plantilla con los mensajes proporcionados\n",
    "    return template.render(messages=messages, add_generation_prompt=add_generation_prompt)\n",
    "\n",
    "\n",
    "def get_class(frase: str)->str:\n",
    "    # Tu clave API de Hugging Face\n",
    "    \n",
    "    client_HF = InferenceClient(api_key= get_token())\n",
    "\n",
    "\n",
    "    # Lista de clases de categorías\n",
    "    classes = [\n",
    "        \"ESTADISTICA GENERAL\", 'DISEÑADORES', 'CREADORES', 'IDIOMAS DEL JUEGO', 'PUBLICADORES DEL JUEGO',\n",
    "        'REGLAS GENERALES', 'REGLAS ESPECÍFICAS AUTOMATA', 'REGLAS ESPECIFICAS NAVARATNA', 'OBJETIVO DEL JUEGO',\n",
    "        'ESTRATEGIA COMPETIDORES', 'ESTRATEGIA PRINCIPIANTES', 'ESTRATEGUIA PERSONAJE PORTUGUESE', 'AÑO DE CREACIÓN',\n",
    "        'OTROS IDIOMAS'\n",
    "    ]\n",
    "\n",
    "   # Prompt para clasificación\n",
    "    chat_prompt = [{\n",
    "        \"role\": \"system\",\n",
    "        \"content\": f\"Eres un modelo de clasificación. La tarea es clasificar frases en una de estas categorías: [{', '.join(classes)}].\"\n",
    "                   \" Dada una frase debes solo escribir la categoria clasificada sin escribir la respuesta en oración.\"\n",
    "                   \" Tienes prohibido dar clasificaciones por fuera de las clases mencionadas o escribir palabras que no sean las de las clases\"\n",
    "                   \" Por ejemplo, si el usuario escribe 'Como puedo hacer para ganar?' debes devolver: ESTRATEGIA PRINCIPIANTES\"\n",
    "                   \"Otro ejemplo: si el usuario escribe 'En qué año se hizo el juego? debes devolver: AÑO DE CREACIÓN \"\n",
    "                   \"Por ejemplo si el usuario escribe 'Qué puntaje tiene el juego?' debes devolver: ESTADISTICA GENERAL\"\n",
    "    }, {\n",
    "        \"role\": \"user\",\n",
    "        \"content\": frase\n",
    "    }]\n",
    "\n",
    "     # Realizar la solicitud de completado de chat usando el cliente\n",
    "    completion = client_HF.chat.completions.create(\n",
    "        model=\"Qwen/Qwen2.5-72B-Instruct\", \n",
    "        messages=chat_prompt, \n",
    "        max_tokens=50,\n",
    "        temperature=0.1\n",
    "    )\n",
    "\n",
    "\n",
    "    # Imprimir solo la clasificación sin contexto adicional\n",
    "    return completion.choices[0].message['content']"
   ]
  },
  {
   "cell_type": "code",
   "execution_count": 162,
   "metadata": {},
   "outputs": [
    {
     "data": {
      "text/plain": [
       "'OBJETIVO DEL JUEGO'"
      ]
     },
     "execution_count": 162,
     "metadata": {},
     "output_type": "execute_result"
    }
   ],
   "source": [
    "get_class('Cual es el objetivo del juego?')"
   ]
  },
  {
   "cell_type": "code",
   "execution_count": 163,
   "metadata": {},
   "outputs": [
    {
     "data": {
      "text/plain": [
       "'OBJETIVO DEL JUEGO'"
      ]
     },
     "execution_count": 163,
     "metadata": {},
     "output_type": "execute_result"
    }
   ],
   "source": [
    "get_class('Cuándo gana un jugador?')"
   ]
  },
  {
   "cell_type": "code",
   "execution_count": 164,
   "metadata": {},
   "outputs": [
    {
     "data": {
      "text/plain": [
       "'REGLAS GENERALES'"
      ]
     },
     "execution_count": 164,
     "metadata": {},
     "output_type": "execute_result"
    }
   ],
   "source": [
    "get_class('De que forma comienza el jugador a jugar?')"
   ]
  },
  {
   "cell_type": "code",
   "execution_count": 165,
   "metadata": {},
   "outputs": [
    {
     "data": {
      "text/plain": [
       "'ESTRATEGIA PRINCIPIANTES'"
      ]
     },
     "execution_count": 165,
     "metadata": {},
     "output_type": "execute_result"
    }
   ],
   "source": [
    "get_class('¿que puedo hacer para ganar?')"
   ]
  },
  {
   "cell_type": "code",
   "execution_count": 166,
   "metadata": {},
   "outputs": [
    {
     "data": {
      "text/plain": [
       "'ESTRATEGIA PERSONAJE PORTUGUESE'"
      ]
     },
     "execution_count": 166,
     "metadata": {},
     "output_type": "execute_result"
    }
   ],
   "source": [
    "get_class('¿Para que puedo usar al personaje portuguese?')"
   ]
  },
  {
   "cell_type": "code",
   "execution_count": 167,
   "metadata": {},
   "outputs": [
    {
     "data": {
      "text/plain": [
       "'REGLAS GENERALES'"
      ]
     },
     "execution_count": 167,
     "metadata": {},
     "output_type": "execute_result"
    }
   ],
   "source": [
    "get_class('Como hago para jugar el juego?')"
   ]
  },
  {
   "cell_type": "code",
   "execution_count": 97,
   "metadata": {},
   "outputs": [
    {
     "data": {
      "text/plain": [
       "'CREADORES'"
      ]
     },
     "execution_count": 97,
     "metadata": {},
     "output_type": "execute_result"
    }
   ],
   "source": [
    "get_class('quienes crearon el juego?')"
   ]
  },
  {
   "cell_type": "code",
   "execution_count": 168,
   "metadata": {},
   "outputs": [
    {
     "data": {
      "text/plain": [
       "'DISEÑADORES'"
      ]
     },
     "execution_count": 168,
     "metadata": {},
     "output_type": "execute_result"
    }
   ],
   "source": [
    "get_class('Quién diseñó el juego?')"
   ]
  },
  {
   "cell_type": "code",
   "execution_count": 169,
   "metadata": {},
   "outputs": [
    {
     "data": {
      "text/plain": [
       "'ESTADISTICA GENERAL'"
      ]
     },
     "execution_count": 169,
     "metadata": {},
     "output_type": "execute_result"
    }
   ],
   "source": [
    "get_class('Qué puntaje tiene el juego?')"
   ]
  },
  {
   "cell_type": "code",
   "execution_count": 100,
   "metadata": {},
   "outputs": [
    {
     "data": {
      "text/plain": [
       "'ESTADISTICA GENERAL'"
      ]
     },
     "execution_count": 100,
     "metadata": {},
     "output_type": "execute_result"
    }
   ],
   "source": [
    "get_class('cuantos jugadores han jugado a lo largo de la historia')"
   ]
  },
  {
   "cell_type": "markdown",
   "metadata": {},
   "source": [
    "Se puede ver un mejor rendimiento del llm que de la regresión logística por lo que se utilizara este en adelante para clasificar la temática del usuario y a partir de alli determinar a qué fuente de datos redirigir la consulta."
   ]
  },
  {
   "cell_type": "markdown",
   "metadata": {},
   "source": [
    "## Obtención database"
   ]
  },
  {
   "cell_type": "code",
   "execution_count": 101,
   "metadata": {},
   "outputs": [],
   "source": [
    "def get_database(clas):\n",
    "    \n",
    "    tematica_vector_db = ['REGLAS GENERALES', 'REGLAS ESPECÍFICAS AUTOMATA', 'REGLAS ESPECIFICAS NAVARATNA', 'OBJETIVO DEL JUEGO','ESTRATEGIA COMPETIDORES', 'ESTRATEGIA PRINCIPIANTES', 'ESTRATEGUIA PERSONAJE PORTUGUESE']\n",
    "    tematica_graph_db = ['DISEÑADORES', 'CREADORES', 'IDIOMAS DEL JUEGO', 'PUBLICADORES DEL JUEGO', 'AÑO DE CREACIÓN', 'OTROS IDIOMAS']\n",
    "    tematica_tabular_db = [\"ESTADISTICA GENERAL\"]\n",
    "    \n",
    "    \n",
    "    if clas in tematica_vector_db:\n",
    "        return 'vector_db'\n",
    "    if clas in tematica_graph_db:\n",
    "        return 'graph_db'\n",
    "    if clas in tematica_tabular_db:\n",
    "        return 'tabular_db'"
   ]
  },
  {
   "cell_type": "code",
   "execution_count": 102,
   "metadata": {},
   "outputs": [
    {
     "name": "stdout",
     "output_type": "stream",
     "text": [
      "graph_db\n"
     ]
    }
   ],
   "source": [
    "print(get_database(get_class('Qué puntaje tuvo el juego?')))"
   ]
  },
  {
   "cell_type": "markdown",
   "metadata": {},
   "source": [
    "# Parte 5: Armado de querys"
   ]
  },
  {
   "cell_type": "markdown",
   "metadata": {},
   "source": [
    "## Query dinámica para base de grafo"
   ]
  },
  {
   "cell_type": "code",
   "execution_count": 103,
   "metadata": {},
   "outputs": [],
   "source": [
    "entidades = [\n",
    "    \"Rajas_of_the_Ganges\", \"Inka_Brand\", \"Markus_Brand\", \"Dennis_Lohausen\",\n",
    "    \"HUCH!\", \"999_Games\", \"Devir\", \"Dice_Realm\", \"DV_Games\", \"Egmont_Polska\",\n",
    "    \"Fabrika_Igr\", \"Game_Harbor\", \"HOT_Games\", \"nostalgia (III)\", \"R&R_Games\",\n",
    "    \"India\", \"Hinduism\", \"Ganges\", \"I Ragià del Gange\", \"Raja's van de Ganges\",\n",
    "    \"Раджи Ганга\", \"ガンジスの藩王\", \"갠지스의 라자\", \"2019 - MinD-Spielepreis Complex Game Nominee\",\n",
    "    \"2018 - Juego del Año Recommended\", \"2018 - International Gamers Award - General Strategy: Multi-player Winner\",\n",
    "    \"2018 - International Gamers Award - General Strategy: Multi-player Nominee\", \"2017 - Meeples Choice Award Nominee\", \"2017\"\n",
    "]\n",
    "\n",
    "# Lista de relaciones\n",
    "relaciones = [\n",
    "    (\"Rajas_of_the_Ganges\", \"designedBy\", [\"Inka_Brand\", \"Markus_Brand\"]),\n",
    "    (\"Rajas_of_the_Ganges\", \"artBy\", [\"Dennis_Lohausen\"]),\n",
    "    (\"Rajas_of_the_Ganges\", \"publishedBy\", [\n",
    "        \"HUCH!\", \"999_Games\", \"Devir\", \"Dice_Realm\", \"DV_Games\", \"Egmont_Polska\",\n",
    "        \"Fabrika_Igr\", \"Game_Harbor\", \"HOT_Games\", \"nostalgia (III)\", \"R&R_Games\"\n",
    "    ]),\n",
    "    (\"Rajas_of_the_Ganges\", \"setIn\", [\"India\"]),\n",
    "    (\"Rajas_of_the_Ganges\", \"religionAssociatedWith\", [\"Hinduism\"]),\n",
    "    (\"Rajas_of_the_Ganges\", \"alsoKnownAs\", [\n",
    "        \"Ganges\", \"I Ragià del Gange\", \"Raja's van de Ganges\", \"Раджи Ганга\",\n",
    "        \"ガンジスの藩王\", \"갠지스의 라자\"\n",
    "    ]),\n",
    "    (\"Rajas_of_the_Ganges\", \"awardedOrNominated\", [\n",
    "        \"2019 - MinD-Spielepreis Complex Game Nominee\", \"2018 - Juego del Año Recommended\",\n",
    "        \"2018 - International Gamers Award - General Strategy: Multi-player Winner\",\n",
    "        \"2018 - International Gamers Award - General Strategy: Multi-player Nominee\",\n",
    "        \"2017 - Meeples Choice Award Nominee\"\n",
    "    ]),\n",
    "    (\"Rajas_of_the_Ganges\", \"Release_year\", [\"2017\"])\n",
    "]"
   ]
  },
  {
   "cell_type": "code",
   "execution_count": 104,
   "metadata": {},
   "outputs": [],
   "source": [
    "def get_query(input_text: str) -> str:\n",
    "    \"\"\"\n",
    "    Genera una consulta SPARQL utilizando Qwen a partir de la entrada del usuario.\n",
    "    \"\"\"\n",
    "    # Tu clave API de Hugging Face\n",
    "    api_key = get_token()  \n",
    "    client_HF = InferenceClient(api_key= get_token())\n",
    "    # URL de la API de Hugging Face para la clasificación de texto\n",
    "    api_url = \"https://api-inference.huggingface.co/models/Qwen/Qwen2.5-72B-Instruct\"\n",
    "\n",
    "    chat_prompt = [{\n",
    "        \"role\": \"system\",\n",
    "        \"content\": f\"\"\"\n",
    "        Eres un modelo que realiza consultas a una base de datos RDF sobre el juego de mesa \"Rajas of the Ganjes\" a raíz de una frase del usuario.\n",
    "        La base tiene la siguiente estructura: las entidades son {entidades}, las relaciones son {relaciones}.\n",
    "        Asegúrate de diferenciar bien entre diseñadores y creadores.\n",
    "        Debes escribir SOLAMENTE UNA consulta URI con SPARQL que se adecue a la frase del usuario.\n",
    "        Es importante que solo respondas con una sola consulta.\n",
    "        Por ejemplo, si recibes la frase: '¿Cuándo se creó el juego?' deberías solamente\n",
    "        devolver: \"SELECT (STRAFTER(STR(?Year), 'http://wiki_rajas.org/') AS ?name) WHERE {{ ?game a <http://wiki_rajas.org/Game> . ?game <http://wiki_rajas.org/Release_year> ?Year }}\"\n",
    "        Es importante que respetes todos los corchetes, llaves y entidades luego de ?.\"\"\"\n",
    "    }, {\n",
    "        \"role\": \"user\",\n",
    "        \"content\": input_text\n",
    "    }]\n",
    "\n",
    "    # Realizar la solicitud de completado de chat usando el cliente\n",
    "    completion = client_HF.chat.completions.create(\n",
    "        model=\"Qwen/Qwen2.5-72B-Instruct\", \n",
    "        messages=chat_prompt, \n",
    "        max_tokens=500,\n",
    "        temperature=0.1\n",
    "    )\n",
    "\n",
    "    # Extraer y devolver la consulta SPARQL generada\n",
    "    return completion.choices[0].message['content']"
   ]
  },
  {
   "cell_type": "code",
   "execution_count": 105,
   "metadata": {},
   "outputs": [
    {
     "name": "stdout",
     "output_type": "stream",
     "text": [
      "Consulta SPARQL generada:\n",
      "SELECT (STRAFTER(STR(?Publisher), 'http://wiki_rajas.org/') AS ?name) WHERE { ?game a <http://wiki_rajas.org/Game> . ?game <http://wiki_rajas.org/publishedBy> ?Publisher }\n"
     ]
    }
   ],
   "source": [
    "# Obtener la consulta SPARQL generada\n",
    "sparql_query = get_query(\"Quién publicó el juego?\")\n",
    "\n",
    "# Imprimir la consulta generada\n",
    "print(\"Consulta SPARQL generada:\")\n",
    "print(sparql_query)"
   ]
  },
  {
   "cell_type": "code",
   "execution_count": 106,
   "metadata": {},
   "outputs": [
    {
     "name": "stdout",
     "output_type": "stream",
     "text": [
      "HUCH%21\n",
      "999_Games\n",
      "Devir\n",
      "Dice_Realm\n",
      "DV_Games\n",
      "Egmont_Polska\n",
      "Fabrika_Igr\n",
      "Game_Harbor\n",
      "HOT_Games\n",
      "nostalgia_%28III%29\n",
      "R%26R_Games\n"
     ]
    }
   ],
   "source": [
    "results = g.query(sparql_query)\n",
    "for row in results:\n",
    "    print(row.name)"
   ]
  },
  {
   "cell_type": "code",
   "execution_count": 107,
   "metadata": {},
   "outputs": [
    {
     "name": "stdout",
     "output_type": "stream",
     "text": [
      "<rdflib.plugins.sparql.processor.SPARQLResult object at 0x0000022E82D62290>\n"
     ]
    }
   ],
   "source": [
    "print(results)"
   ]
  },
  {
   "cell_type": "markdown",
   "metadata": {},
   "source": [
    "### Busqueda vector database"
   ]
  },
  {
   "cell_type": "code",
   "execution_count": 108,
   "metadata": {},
   "outputs": [],
   "source": [
    "\n",
    "def extract_keywords(query_text: str, nlp_model: str = \"es_core_news_sm\") -> List[str]:\n",
    "    \"\"\"\n",
    "    Extrae palabras clave utilizando técnicas de procesamiento de lenguaje natural (POS tagging).\n",
    "\n",
    "    Args:\n",
    "        query_text (str): Texto de la consulta del usuario.\n",
    "        nlp_model (str): Modelo de spaCy para procesamiento de lenguaje natural.\n",
    "\n",
    "    Returns:\n",
    "        List[str]: Lista de palabras clave extraídas.\n",
    "    \"\"\"\n",
    "    nlp = spacy.load(nlp_model)\n",
    "    doc = nlp(query_text)\n",
    "\n",
    "    # Define the parts of speech to consider as keywords\n",
    "    valid_pos_tags = {\"NOUN\", \"VERB\"}\n",
    "\n",
    "    # Extract keywords\n",
    "    keywords = [token.text for token in doc if token.pos_ in valid_pos_tags and not token.is_stop]\n",
    "    \n",
    "    return keywords\n",
    "\n",
    "def dynamic_search(consulta):\n",
    "    embed_consulta = embed([consulta]).numpy().tolist()\n",
    "\n",
    "    query_consulta = {\n",
    "        'query_embeddings': embed_consulta,\n",
    "        'n_results': 5,\n",
    "    }\n",
    "\n",
    "    # Extraer palabras clave de la consulta\n",
    "    palabras_clave = extract_keywords(consulta)\n",
    "    #print(\"Palabras clave extraídas:\", palabras_clave)\n",
    "\n",
    "    # Traducir las palabras clave al inglés\n",
    "    if detect(palabras_clave[0])!= 'es':\n",
    "        palabras_clave = [GoogleTranslator(source=detect(palabras_clave[0]), target='es').translate(keyword) for keyword in palabras_clave]\n",
    "    \n",
    "\n",
    "    # Crear una lista de filtros donde cada palabra clave se busca por separado en español\n",
    "    where_clauses_sp = [{\"$contains\": keyword} for keyword in palabras_clave]\n",
    "   \n",
    "    \n",
    "    # Combinar todas las condiciones en un solo filtro (buscar en español o en inglés)\n",
    "    query_consulta['where_document'] = {\"$or\": where_clauses_sp } #+ where_clauses_en\n",
    "\n",
    "    results_busqueda_keyword= vec_db.query(**query_consulta)\n",
    "    query_consulta.pop('where_document')\n",
    "    results_only_sem = vec_db.query(**query_consulta)\n",
    "\n",
    "    #print('Resultados con palabras clave:')\n",
    "    #print(results_busqueda_keyword['documents'])\n",
    "    \n",
    "    #print('Resultados sin palabras clave:')\n",
    "    #print(results_only_sem['documents'])\n",
    "\n",
    "    results = results_busqueda_keyword['documents'] + results_only_sem['documents']\n",
    "\n",
    "    results = np.unique(results)\n",
    "\n",
    "\n",
    "    return results"
   ]
  },
  {
   "cell_type": "code",
   "execution_count": 109,
   "metadata": {},
   "outputs": [
    {
     "data": {
      "text/plain": [
       "array(['El jugador que haya sacado el valor más bajo en los dados se convierte en el jugador principal. En caso de empate, el último jugador que comió comida india. El jugador inicial colocará el elefante junto a su estatua de Kali y pondrá su marcador de riqueza en el espacio 3 en el track de riqueza. El jugador a su izquierda 4, el siguiente 5, y así sucesivamente. El jugador que vaya último comenzará',\n",
       "       'GANGES (2 a 4 jugadores) Antes de empezar Decidir si se juega en modo normal o en modo Navaratna (ver el epígrafe Variante Navaratna más adelante ). Sortear jugador inicial , el cual se va rotando en sentido horario cada vez que se agoten los lacayos colocados sobre las acciones del tablero, a menos que un jugador obtenga el beneficio de la primera zona de los aposentos del palacio, que lo',\n",
       "       'Tan pronto como un jugador logre que su marcador de fama y su marcador de riqueza se equiparen en valores o se crucen, pasándose el uno al otro, se dispara el final de la partida. La ronda actual se terminará. Es decir, todos los jugadores que estén entre el jugador que ha activado el final de la partida y el jugador inicial actual todavía tendrán la oportunidad de ganar y podrá colocar un',\n",
       "       'característica y es una bonificación que puedes obtener con ciertas acciones, así que sabes que la recuperarás. Sí, es muy divertido. Me gusta cómo se ve y sabes que se juega bastante bien, bastante bien, sigue dando vueltas y vueltas hasta que aparece la ficha del primer jugador, así que damos vueltas, pero la ficha del primer jugador no se mueve a menos que alguien la tome. Como muchos de estos juegos, este es un tipo de juego único.',\n",
       "       'puente y obtienes un trabajador de esa manera también puedes obtener un trabajador por avanzar una cantidad de espacios en el ingreso o hasta cierto punto en el mismo, pero solo puedes obtener dos más, así que Holly, ¿cuáles son algunas de las cosas que te gustan del juego? Me gusta intentar hacer un patrón en tu propio tablero de jugador haciendo caminos para obtener bonificaciones que te ayudarán en el juego o al final del juego.'],\n",
       "      dtype='<U439')"
      ]
     },
     "execution_count": 109,
     "metadata": {},
     "output_type": "execute_result"
    }
   ],
   "source": [
    "dynamic_search(consulta='Qué jugador empieza el juego?')"
   ]
  },
  {
   "cell_type": "markdown",
   "metadata": {},
   "source": [
    "## Consulta dinámica para base tabular."
   ]
  },
  {
   "cell_type": "code",
   "execution_count": 171,
   "metadata": {},
   "outputs": [],
   "source": [
    "\n",
    "def get_tabular_query(input_text: str) -> str:\n",
    "    \"\"\"\n",
    "    Genera una consulta SPARQL utilizando Qwen a partir de la entrada del usuario.\n",
    "    \"\"\"\n",
    "    # Tu clave API de Hugging Face\n",
    "    api_key = get_token()  \n",
    "    client_HF = InferenceClient(api_key= get_token())\n",
    "    # URL de la API de Hugging Face para la clasificación de texto\n",
    "    api_url = \"https://api-inference.huggingface.co/models/Qwen/Qwen2.5-72B-Instruct\"\n",
    "\n",
    "    chat_prompt = [{\n",
    "        \"role\": \"system\",\n",
    "        \"content\": f\"\"\"\n",
    "        Eres un modelo que realiza consultas a una base de datos tabular en dataframe de pandas sobre el juego de mesa \"Rajas of the Ganjes\" a raíz de una frase del usuario.\n",
    "        La base tiene la siguiente estructura: las columnas son: {df_valores.columns}, donde los valores son:\n",
    "        Entidad: {df_valores['Entidad']}.\n",
    "        Avg.rating contiene el puntaje medio del juego.\n",
    "        Debes escribir SOLAMENTE UNA consulta de búsqueda en dataframe que se adecue a la frase del usuario.\n",
    "        Es importante que solo respondas con una sola consulta.\n",
    "        Por ejemplo, si recibes la frase: '¿Cuántos jugadores han jugado el juego?' deberías solamente\n",
    "        devolver: 'df_valores[df_valores['Entidad'] == 'All Time Plays']['Valor'].values[0]'\"\"\"\n",
    "    }, {\n",
    "        \"role\": \"user\",\n",
    "        \"content\": input_text\n",
    "    }]\n",
    "\n",
    "    # Realizar la solicitud de completado de chat usando el cliente\n",
    "    completion = client_HF.chat.completions.create(\n",
    "        model=\"Qwen/Qwen2.5-72B-Instruct\", \n",
    "        messages=chat_prompt, \n",
    "        max_tokens=500,\n",
    "        temperature=0.1\n",
    "    )\n",
    "\n",
    "    # Extraer y devolver la consulta SPARQL generada\n",
    "    return completion.choices[0].message['content']"
   ]
  },
  {
   "cell_type": "code",
   "execution_count": 172,
   "metadata": {},
   "outputs": [
    {
     "data": {
      "text/plain": [
       "'59,305'"
      ]
     },
     "execution_count": 172,
     "metadata": {},
     "output_type": "execute_result"
    }
   ],
   "source": [
    "eval(get_tabular_query('¿Cuántos jugadores han jugado el juego?'))"
   ]
  },
  {
   "cell_type": "markdown",
   "metadata": {},
   "source": [
    "# Parte 6: Armado LLM para Usuario"
   ]
  },
  {
   "cell_type": "code",
   "execution_count": 112,
   "metadata": {},
   "outputs": [
    {
     "name": "stdout",
     "output_type": "stream",
     "text": [
      "Inka_Brand\n",
      "Markus_Brand\n"
     ]
    },
    {
     "data": {
      "text/plain": [
       "['Inka_Brand', 'Markus_Brand']"
      ]
     },
     "execution_count": 112,
     "metadata": {},
     "output_type": "execute_result"
    }
   ],
   "source": [
    "for result in g.query(get_query('Quién creó el juego?')):\n",
    "    print(result.name)\n",
    "\n",
    "[result.name[0:] for result in g.query(get_query(\"Quién creó el juego?\"))]"
   ]
  },
  {
   "cell_type": "code",
   "execution_count": 141,
   "metadata": {},
   "outputs": [],
   "source": [
    "res = eval(get_tabular_query('¿Cuántos puntos tiene el juego?'))"
   ]
  },
  {
   "cell_type": "code",
   "execution_count": 142,
   "metadata": {},
   "outputs": [
    {
     "data": {
      "text/plain": [
       "'7.730'"
      ]
     },
     "execution_count": 142,
     "metadata": {},
     "output_type": "execute_result"
    }
   ],
   "source": [
    "res"
   ]
  },
  {
   "cell_type": "code",
   "execution_count": 198,
   "metadata": {},
   "outputs": [],
   "source": [
    "class llm_rajas_of_the_ganjes():\n",
    "    def __init__(self):\n",
    "        self.client_rotg = InferenceClient(api_key=get_token())\n",
    "        self.info = None\n",
    "        self.chat_prompt = None\n",
    "\n",
    "    def get_context(self, consulta):\n",
    "        classification = get_class(consulta)\n",
    "        #print(classification)\n",
    "        db = get_database(classification)\n",
    "        if db == 'vector_db':\n",
    "            #print('vector')\n",
    "            self.info = dynamic_search(consulta)\n",
    "        elif db == 'graph_db':\n",
    "            #print('graph')\n",
    "            query = get_query(consulta)\n",
    "            self.info = [result.name[0:] for result in g.query(query)]\n",
    "        elif db == 'tabular_db':\n",
    "            #print('tabular')\n",
    "            query = get_tabular_query(consulta)\n",
    "            self.info = [eval(query)]\n",
    "            #print(self.info) # Llamamos a la consulta\n",
    "        else:\n",
    "            self.info = None\n",
    "        \n",
    "        return self.info\n",
    "\n",
    "    def make_prompt(self, consulta):\n",
    "        chat_prompt = [{\n",
    "            \"role\": \"system\",\n",
    "            \"content\": f\"\"\"\n",
    "                Eres un modelo que responde preguntas acerca del juego *Rajas of The Ganges*. \n",
    "                Es importante que sólo respondas en base a la siguiente información: {self.info}.\n",
    "                Es muy importante que contestes en oración. Si la información proporcionada es un número, responde con ese número como parte de la oración. \n",
    "                Sólo si la información es \"None\", responde 'No tengo información para responder la consulta'.\n",
    "            \"\"\"\n",
    "        }, {\n",
    "            \"role\": \"user\",\n",
    "            \"content\": consulta\n",
    "        }]\n",
    "        return chat_prompt\n",
    "\n",
    "    def hablar(self):\n",
    "        consulta = 'c'\n",
    "        print('Bienvenido a Rajas of The Ganjes Chatbot! para salir escribe \"chau\"')\n",
    "        while consulta != 'Chau':\n",
    "            consulta = input(\"Escribe tu consulta, para salir despídete con 'chau'':\")\n",
    "            print(f\"User: {consulta}\")\n",
    "            self.info = self.get_context(consulta)\n",
    "            #print(self.info)\n",
    "            self.chat_prompt = self.make_prompt(consulta)\n",
    "            #print('Se hizo el siguiente prompt:', self.chat_prompt)\n",
    "            # Realizar la solicitud de completado de chat usando el cliente\n",
    "            completion = self.client_rotg.chat.completions.create(\n",
    "                model=\"Qwen/Qwen2.5-72B-Instruct\", \n",
    "                messages=self.chat_prompt, \n",
    "                max_tokens=500,\n",
    "                temperature=0.5\n",
    "            )    \n",
    "            print(f\"Agente: {completion.choices[0].message['content']}\")\n",
    "            consulta = input(\"Escribe tu consulta, para salir despídete con 'chau'':\")\n",
    "            \n"
   ]
  },
  {
   "cell_type": "code",
   "execution_count": 199,
   "metadata": {},
   "outputs": [],
   "source": [
    "llm_rotg = llm_rajas_of_the_ganjes()"
   ]
  },
  {
   "cell_type": "code",
   "execution_count": 197,
   "metadata": {},
   "outputs": [
    {
     "name": "stdout",
     "output_type": "stream",
     "text": [
      "Bienvenido a Rajas of The Ganjes Chatbot! para salir escribe \"chau\"\n",
      "User: ¿Qué cantidad de jugadores tiene el juego?\n",
      "ESTADISTICA GENERAL\n",
      "Agente: El juego tiene 19,538 jugadores.\n"
     ]
    }
   ],
   "source": [
    "llm_rotg.hablar()"
   ]
  }
 ],
 "metadata": {
  "kernelspec": {
   "display_name": "Python (myenv)",
   "language": "python",
   "name": "myenv"
  },
  "language_info": {
   "codemirror_mode": {
    "name": "ipython",
    "version": 3
   },
   "file_extension": ".py",
   "mimetype": "text/x-python",
   "name": "python",
   "nbconvert_exporter": "python",
   "pygments_lexer": "ipython3",
   "version": "3.10.0"
  }
 },
 "nbformat": 4,
 "nbformat_minor": 2
}
